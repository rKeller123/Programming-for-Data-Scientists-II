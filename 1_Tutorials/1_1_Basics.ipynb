{
  "cells": [
    {
      "cell_type": "markdown",
      "metadata": {
        "id": "WHGIEaBkU7Uf"
      },
      "source": [
        "\n",
        "*Part 1: Introduction to Python Syntax and Semantics I*\n",
        "# Python Basics: Built-in object types and operators#"
      ]
    },
    {
      "cell_type": "markdown",
      "metadata": {
        "id": "o0tTODSt6QqO"
      },
      "source": [
        "## Getting started"
      ]
    },
    {
      "cell_type": "markdown",
      "metadata": {
        "id": "w50rAd3CEotX"
      },
      "source": [
        "There are different ways of running Python code:\n",
        "\n",
        "\n",
        "*   **From the command line** (Python command line, but also Anaconda Prompt, Windows Power Shell etc.): This is usually not very convenient, but may make sense if you want to run a script in the background, if you don't have a graphical user interface (e.g. when working on a cloud server) or if you want to parallelize your processes.\n",
        "*   **With a text editor** such as PyCharm, Spyder etc.: This is usually the best choice if you want to do a project. It looks very similar to the interface you may know from Stata or RStudio. The editor allows you to write and save your code, provides useful syntax highlighting, and allows you to execute (parts of) your script in an integrated Python Console. More sophisticated text editors are also called *Integrated Programming Environments (IDE)*.\n",
        "*   **With Jupyter Notebook** in your browser: This is convenient for short exercises or when you wish to explore a dataset (e.g. plot or print many results). If you open your notebooks with Google Colaboratory (Colab), you can run them without a Python installation on your computer. You can also open them with Jupyter Notebook or Jupyter Lab and run them on a local Python installation on your computer.\n",
        "\n",
        "\n"
      ]
    },
    {
      "cell_type": "markdown",
      "metadata": {
        "id": "-yZTS3zC2y85"
      },
      "source": [
        "---\n",
        "\n",
        ">  <font color='teal'> **In-class exercise**:\n",
        ">\n",
        ">  <font color='teal'> 1.) If you work on Colab, save a copy of this tutorial file to your Google Drive. If you work with local Python installation, download this tutorial to your computer and open it with Jupyter notebook.\n",
        ">\n",
        ">  <font color='teal'> 2.) Add a code cell that computes 1+1 and a Markdown cell with some text.\n",
        ">\n",
        ">  <font color='teal'> 3.) Run the code cell.\n",
        "\n",
        "\n",
        "\n"
      ]
    },
    {
      "cell_type": "markdown",
      "metadata": {
        "id": "_VzF0BcP24VI"
      },
      "source": [
        "\n",
        "\n",
        "---\n"
      ]
    },
    {
      "cell_type": "markdown",
      "metadata": {
        "id": "LEIzXFCi__Mx"
      },
      "source": [
        "## Getting help"
      ]
    },
    {
      "cell_type": "markdown",
      "metadata": {
        "id": "0Y6ZrcCRAMpU"
      },
      "source": [
        "In this class I will not be able  to cover all aspects of Python. If you want more details, you can consult, for example, the **Python Standard Library Reference** at https://docs.python.org/3/library/ or the **Language Reference** at https://docs.python.org/3/reference/. But be warned: the amount of detail in these sources can be overwhelming. For **quick and easy-to-understand overviews** of different topics see, for example, https://www.w3schools.com/python/.\n",
        "\n",
        "If you get stuck or don't remember how to do something, it is usually a good idea to **Google** your problem or talking to **ChatGPT**. Python has a large (and fast-growing) community and you will probably find answers to most of your questions online (e.g. on **Stack Overflow** or in a **Youtube tutorial**)."
      ]
    },
    {
      "cell_type": "markdown",
      "metadata": {
        "id": "G9vPhPcqVVuS"
      },
      "source": [
        "## The Python Syntax\n",
        "\n",
        "\n"
      ]
    },
    {
      "cell_type": "markdown",
      "metadata": {
        "id": "Wx4x_5UE9pGO"
      },
      "source": [
        "Compared to many other programming languages, the Python syntax is **relatively easy to understand** and write. Consider for example the following code. Can you guess what the output will be?\n",
        "\n",
        "*To run the code and see the result, you can click the play icon that appears when you hover the mouse cursor over the code.*"
      ]
    },
    {
      "cell_type": "code",
      "execution_count": 1,
      "metadata": {
        "id": "y2Jh_WUH9N4i"
      },
      "outputs": [
        {
          "name": "stdout",
          "output_type": "stream",
          "text": [
            "This is not Sarah.\n",
            "This is not Sarah.\n",
            "This is Sarah!\n"
          ]
        }
      ],
      "source": [
        "# Define list of names\n",
        "names = [\"Mary\", \"Tim\", \"Sarah\"]\n",
        "\n",
        "# Check if name is Sarah\n",
        "for name in names:\n",
        "    if name == \"Sarah\":\n",
        "        print(\"This is Sarah!\")\n",
        "    else:\n",
        "        print(\"This is not Sarah.\")"
      ]
    },
    {
      "cell_type": "markdown",
      "metadata": {
        "id": "KksSDgJ3-hLM"
      },
      "source": [
        "Let's take a look at the main syntactical features."
      ]
    },
    {
      "cell_type": "markdown",
      "metadata": {
        "id": "2BvQqC3Da-Y6"
      },
      "source": [
        "### Comments"
      ]
    },
    {
      "cell_type": "markdown",
      "metadata": {
        "id": "QaWwQzDZWdej"
      },
      "source": [
        "The code example above starts with a comment. Comments are made by using a ``#``:"
      ]
    },
    {
      "cell_type": "code",
      "execution_count": null,
      "metadata": {
        "id": "wt2OAjLfWcsb"
      },
      "outputs": [],
      "source": [
        "# This is a comment\n",
        "5+2  # Comments can also be written behind commands"
      ]
    },
    {
      "cell_type": "markdown",
      "metadata": {
        "id": "ydduQj-CbCOp"
      },
      "source": [
        "### Statements"
      ]
    },
    {
      "cell_type": "markdown",
      "metadata": {
        "id": "3Z7Sx4vVYbTk"
      },
      "source": [
        "The second line in the code example, i.e. ``names = [\"Mary\", \"Tim\", \"Sarah\"]``, is a statement. It assigns the list ``[\"Mary\", \"Tim\", \"Sarah\"]`` to the variable ``names``. In Python, a **line break usually terminates a statement**:"
      ]
    },
    {
      "cell_type": "code",
      "execution_count": null,
      "metadata": {
        "id": "n6bXKjboWcAs"
      },
      "outputs": [],
      "source": [
        "x = 3*4   # This statement terminates after the end of the line\n",
        "print(x)  # This is a new statement"
      ]
    },
    {
      "cell_type": "markdown",
      "metadata": {
        "id": "w4zMCCdowih_"
      },
      "source": [
        "You can also use ``;`` to terminate a statement (so that you can have multiple statements on the same line), but this is not used very often as it makes the code less readable:"
      ]
    },
    {
      "cell_type": "code",
      "execution_count": null,
      "metadata": {
        "id": "5HyCiID5bGWq"
      },
      "outputs": [],
      "source": [
        "x = 3*4; print(x)"
      ]
    },
    {
      "cell_type": "markdown",
      "metadata": {
        "id": "Jgj-53-SCWQu"
      },
      "source": [
        "A line break does not always terminate a statement (e.g., if it is obvious to the interpreter that the statement is not complete yet). For example, you can use parentheses to specify a **multi-line statement**:"
      ]
    },
    {
      "cell_type": "code",
      "execution_count": null,
      "metadata": {
        "id": "dkkfkKiCDPMp"
      },
      "outputs": [],
      "source": [
        "y = (3\n",
        "     * 4\n",
        "     + 5)   # Line breaks will be ignored until the open parentheses are closed\n",
        "\n",
        "print(y)"
      ]
    },
    {
      "cell_type": "markdown",
      "metadata": {
        "id": "8VVH4PKVEhUl"
      },
      "source": [
        "This also works for other types of parentheses such as square brackets ``[]`` or curly braces ``{}`` that are used in some contexts (see Lists and Dictionaries below)."
      ]
    },
    {
      "cell_type": "markdown",
      "metadata": {
        "id": "l6DIHB_EyN7_"
      },
      "source": [
        "You can also make multi-line statements using ``\\`` at the end of the line (``\\`` will \"escape\" the line break):"
      ]
    },
    {
      "cell_type": "code",
      "execution_count": null,
      "metadata": {
        "id": "TjWk2N6syav1"
      },
      "outputs": [],
      "source": [
        "y = 3   \\\n",
        "    * 4 \\\n",
        "    + 5     # You can use \\ to make a multi-line statement\n",
        "\n",
        "print(y)"
      ]
    },
    {
      "cell_type": "markdown",
      "metadata": {
        "id": "bZeTjSK0gXSU"
      },
      "source": [
        "### Code blocks"
      ]
    },
    {
      "cell_type": "markdown",
      "metadata": {
        "id": "5fihJZyoCsOE"
      },
      "source": [
        "The code after the comment ``# Check if name is Sarah`` is a bit more complicated. It tells Python to loop through the list of names and check if the name is Sarah. If this is the case, it prints \"This is Sarah!\"; if not, it prints \"This is not Sarah!\".\n",
        "\n",
        "You may have noticed that we have **different levels of indentation**:"
      ]
    },
    {
      "cell_type": "code",
      "execution_count": null,
      "metadata": {
        "id": "CRNb6pO9dXUx"
      },
      "outputs": [],
      "source": [
        "for name in [\"Mary\", \"Tim\", \"Sarah\"]:   # Indentation level 0\n",
        "  if name == \"Sarah\":                   # Indentation level 1\n",
        "    print(\"This is Sarah!\")             # Indentation level 2\n",
        "  else:                                 # Indentation level 1\n",
        "    print(\"This is not Sarah.\")         # Indentation level 2"
      ]
    },
    {
      "cell_type": "markdown",
      "metadata": {
        "id": "-OSDI9IZeJ1l"
      },
      "source": [
        "In Python, we **use indentation (whitespace) to organize code blocks** (this is an important difference to most other programming languages that typically use curly braces ``{}`` for this purpose). A new block of code starts when the indentation increases and continues until the last line before the indentation returns to the previous level. To create nested code blocks (i.e. code blocks within code blocks), simply further increase the indentation.\n",
        "\n",
        "How many spaces you use for indentation (just 1, or 2 as above; many people use 4) does not matter, but you have to be consistent (all lines belonging to a specific level need to have the same indentation).\n",
        "\n",
        "*We will revisit the concept of code blocks later when we will start to write more complex code.*\n"
      ]
    },
    {
      "cell_type": "markdown",
      "metadata": {
        "id": "2cIVSISTlPf5"
      },
      "source": [
        "## Objects and Variables"
      ]
    },
    {
      "cell_type": "markdown",
      "metadata": {
        "id": "-FWTk36gln1Q"
      },
      "source": [
        "The main building blocks of the Python programming languages are variables and objects.\n"
      ]
    },
    {
      "cell_type": "markdown",
      "metadata": {
        "id": "YBfLnPe-0sy7"
      },
      "source": [
        "**Use the equal sign (``=``) to assign a value (or rather: an object) to a variable**:"
      ]
    },
    {
      "cell_type": "code",
      "execution_count": null,
      "metadata": {
        "id": "UB7iaFM_lgXw"
      },
      "outputs": [],
      "source": [
        "my_var = 6  # This assigns the value 6 to the variable my_var\n",
        "print(my_var)  # This prints the value 6\n",
        "\n",
        "MY_VAR = 5  # Variable names are case sensitive. MY_VAR and my_var are\n",
        "            # different variables!\n",
        "print(MY_VAR)"
      ]
    },
    {
      "cell_type": "markdown",
      "metadata": {
        "id": "8QyoJ90hQLOy"
      },
      "source": [
        "**What is the difference between variables and objects?**\n",
        "\n",
        "In essence, **objects are \"things\" we can have in computer memory** (such as an integer number, e.g. ``5``), and variables are \"names\" that we use to point to these things. Think of the computer storing an object at a specific address in memory; the variable then contains this address. This is why we say that **variables are pointers**: they *point* to an object.\n",
        "\n",
        "><font color = 4e1585>SIDENOTE: This means that multiple variables can point to the same object (this can be confusing, but it can also be extremely useful; also see the section on mutable and immutable object at the end of this tutorial). It also means that an object ceases to exist if there is no variable left that points to it (the object is \"forgotten\", and the memory occupied by the object is freed). In low-level programming languages such at C it is the programmer's responsibility to free the memory; one of the great advantages of a language like Python is that such \"garbage collection\" is done automatically, albeit at the cost of computer speed.\n",
        ">\n",
        "><font color = 4e1585>The fact that variables are pointers is a specific feature of Python. Most other programming languages do not make such a distinction between variables and objects (although they usually do support pointers as a special type of object).\n",
        ">\n",
        "><font color = 4e1585>You can use the ``id()`` function to obtain the address of the object a variable points to; see, e.g., https://www.w3schools.com/python/ref_func_id.asp.\n"
      ]
    },
    {
      "cell_type": "markdown",
      "metadata": {
        "id": "4EkWo76Cq0Xv"
      },
      "source": [
        "**Variables can point to different types of objects**:"
      ]
    },
    {
      "cell_type": "code",
      "execution_count": 2,
      "metadata": {
        "id": "Cy3Gsg_9lm5o"
      },
      "outputs": [],
      "source": [
        "my_var = 6                    # an integer\n",
        "my_var = \"This is a string\"   # a string\n",
        "my_var = [3, 5, 7]            # a list\n",
        "my_var = print                # a function"
      ]
    },
    {
      "cell_type": "markdown",
      "metadata": {
        "id": "izudxCCoFTrE"
      },
      "source": [
        "You can use the ``type()`` function to find out what type of object a variable points to:"
      ]
    },
    {
      "cell_type": "code",
      "execution_count": null,
      "metadata": {
        "id": "Nor-s8JgyQn_"
      },
      "outputs": [],
      "source": [
        "my_var2 = \"Hello world\"\n",
        "print(type(my_var2))  # my_var2 now points to an object of type \"str\" (string)"
      ]
    },
    {
      "cell_type": "markdown",
      "metadata": {
        "id": "2CPChHet9z3O"
      },
      "source": [
        "Unlike many other languages, there is no need for explicit declaration of object types in Python."
      ]
    },
    {
      "cell_type": "markdown",
      "metadata": {
        "id": "uCCNKCtBJTKK"
      },
      "source": [
        "---\n",
        "\n",
        ">  <font color='teal'> **In-class exercise**:\n",
        "Assign the value ``5`` to a variable named ``x``. Then, print the content and the type of the variable  ``x``.\n",
        "\n",
        "\n"
      ]
    },
    {
      "cell_type": "code",
      "execution_count": null,
      "metadata": {
        "colab": {
          "base_uri": "https://localhost:8080/"
        },
        "id": "35aOir4jKKVc",
        "outputId": "90190ded-eca1-403c-9667-0b0af4ea8720"
      },
      "outputs": [
        {
          "name": "stdout",
          "output_type": "stream",
          "text": [
            "5\n"
          ]
        },
        {
          "data": {
            "text/plain": [
              "int"
            ]
          },
          "execution_count": 5,
          "metadata": {},
          "output_type": "execute_result"
        }
      ],
      "source": [
        "# Define x\n",
        "x = 5\n",
        "\n",
        "# Print content of x\n",
        "# (Hint: use the print function we used in several examples above!)\n",
        "print(x)\n",
        "\n",
        "# Print type of x\n",
        "type(x)"
      ]
    },
    {
      "cell_type": "markdown",
      "metadata": {
        "id": "TGczWG-kKXpj"
      },
      "source": [
        "\n",
        "\n",
        "---\n",
        "\n"
      ]
    },
    {
      "cell_type": "markdown",
      "metadata": {
        "id": "RTME69hOe6uK"
      },
      "source": [
        "## Simple Object Types"
      ]
    },
    {
      "cell_type": "markdown",
      "metadata": {
        "id": "ynHBXt6240aF"
      },
      "source": [
        "Python has several built-in object types. Some are **simple values** while others are more complex and called **data structures**.  Let us first take a look at the different types of simple values:\n",
        "\n",
        "\n",
        "| Name | Abbreviation | Example |\n",
        "| :- | -: | :-: |\n",
        "| Integer | ``int`` | ``5``\n",
        "| Floating-point number | ``float`` | ``2.34``\n",
        "| String | ``str`` | ``\"Hello\"``\n",
        "| Boolean | ``bool`` | ``True``\n",
        "| None Type | ``NoneType`` | ``None``\n",
        "| Complex number (not covered) | ``complex`` | ``2+3j``\n",
        "\n",
        "\n",
        "\n",
        "But how do these types work more in detail?"
      ]
    },
    {
      "cell_type": "markdown",
      "metadata": {
        "id": "qlEX6TobG5pd"
      },
      "source": [
        "###Integers"
      ]
    },
    {
      "cell_type": "markdown",
      "metadata": {
        "id": "Fzbmdy4PerSw"
      },
      "source": [
        "Integers are **\"whole\" numbers** (i.e. numbers without decimal points):"
      ]
    },
    {
      "cell_type": "code",
      "execution_count": null,
      "metadata": {
        "id": "U3-kt2THG-pW"
      },
      "outputs": [],
      "source": [
        "x = 5\n",
        "type(x)"
      ]
    },
    {
      "cell_type": "markdown",
      "metadata": {
        "id": "qyVH9PjuHhv8"
      },
      "source": [
        "### Floats"
      ]
    },
    {
      "cell_type": "markdown",
      "metadata": {
        "id": "t0hu6-Wue4pu"
      },
      "source": [
        "Floats are **numbers with decimal points**:"
      ]
    },
    {
      "cell_type": "code",
      "execution_count": null,
      "metadata": {
        "id": "Raa6_2MsHmXE"
      },
      "outputs": [],
      "source": [
        "y = 4.3\n",
        "type(y)"
      ]
    },
    {
      "cell_type": "markdown",
      "metadata": {
        "id": "mqB-43xlXT-_"
      },
      "source": [
        "Integers and floats can easily be combined:"
      ]
    },
    {
      "cell_type": "code",
      "execution_count": null,
      "metadata": {
        "id": "7wh9mz-_Ht87"
      },
      "outputs": [],
      "source": [
        "print(x+y)  # x is an integer and y a float; the result is a float\n",
        "print(6/2)  # Divisions automatically result in a float\n",
        "3.0 == 3    # Python treats/recognizes a float that is equal to an integer as\n",
        "            # the same value"
      ]
    },
    {
      "cell_type": "markdown",
      "metadata": {
        "id": "SqgetWFX5lXd"
      },
      "source": [
        "### Strings"
      ]
    },
    {
      "cell_type": "markdown",
      "metadata": {
        "id": "DFVZhCSbfFaB"
      },
      "source": [
        "Strings are **ordered sequences of characters** (i.e. text). They are defined by using either single our double quotes:"
      ]
    },
    {
      "cell_type": "code",
      "execution_count": null,
      "metadata": {
        "colab": {
          "base_uri": "https://localhost:8080/"
        },
        "id": "EYOpmQSW4zBd",
        "outputId": "f89eaa1a-d5b0-4efa-f3bb-54049d67e902"
      },
      "outputs": [
        {
          "data": {
            "text/plain": [
              "False"
            ]
          },
          "execution_count": 9,
          "metadata": {},
          "output_type": "execute_result"
        }
      ],
      "source": [
        "my_string = \"Hello, I'm a string!\"  # Strings need to be put in quotes;\n",
        "                                    # either double quotes ...\n",
        "my_string2 = 'Me too'               # ... or single quotes!\n",
        "my_string3 = \"3\"       # You can also have numbers in string format.\n",
        "\"3\" == 3               # But they are then treated as text, not as a number!"
      ]
    },
    {
      "cell_type": "code",
      "execution_count": null,
      "metadata": {
        "colab": {
          "base_uri": "https://localhost:8080/"
        },
        "id": "wfOUh62TY8ny",
        "outputId": "35c0acec-78ec-4450-abce-85c1d42c6059"
      },
      "outputs": [
        {
          "data": {
            "text/plain": [
              "str"
            ]
          },
          "execution_count": 10,
          "metadata": {},
          "output_type": "execute_result"
        }
      ],
      "source": [
        "type(my_string)"
      ]
    },
    {
      "cell_type": "markdown",
      "metadata": {
        "id": "ss-UVMifWLUX"
      },
      "source": [
        "You can convert (numeric) strings to numbers using the ``int()`` or the ``float()`` function:"
      ]
    },
    {
      "cell_type": "code",
      "execution_count": null,
      "metadata": {
        "colab": {
          "base_uri": "https://localhost:8080/"
        },
        "id": "XGPjqkkEWKfK",
        "outputId": "5cbac73b-b7ab-4710-f1bf-919b12daa6a8"
      },
      "outputs": [
        {
          "data": {
            "text/plain": [
              "3"
            ]
          },
          "execution_count": 11,
          "metadata": {},
          "output_type": "execute_result"
        }
      ],
      "source": [
        "int(my_string3)"
      ]
    },
    {
      "cell_type": "code",
      "execution_count": null,
      "metadata": {
        "colab": {
          "base_uri": "https://localhost:8080/"
        },
        "id": "zGoeond8XLWL",
        "outputId": "9f1199c0-f250-4c50-b27c-52728994a421"
      },
      "outputs": [
        {
          "data": {
            "text/plain": [
              "3.0"
            ]
          },
          "execution_count": 12,
          "metadata": {},
          "output_type": "execute_result"
        }
      ],
      "source": [
        "float(my_string3)"
      ]
    },
    {
      "cell_type": "markdown",
      "metadata": {
        "id": "4B3yudnaXQWm"
      },
      "source": [
        "Likewise, if you want to convert a number to a string, you can use the ``str()`` function:"
      ]
    },
    {
      "cell_type": "code",
      "execution_count": null,
      "metadata": {
        "colab": {
          "base_uri": "https://localhost:8080/",
          "height": 35
        },
        "id": "1rhYj7O2gbIK",
        "outputId": "3e750c55-4f26-485a-9807-94b7edac884e"
      },
      "outputs": [
        {
          "data": {
            "application/vnd.google.colaboratory.intrinsic+json": {
              "type": "string"
            },
            "text/plain": [
              "'5.7'"
            ]
          },
          "execution_count": 13,
          "metadata": {},
          "output_type": "execute_result"
        }
      ],
      "source": [
        "str(5.7)  # convert the float 5.7 to a string"
      ]
    },
    {
      "cell_type": "markdown",
      "metadata": {
        "id": "cZPCsjoDYjKH"
      },
      "source": [
        "Strings can easily be concatenated using the ``+`` operator:"
      ]
    },
    {
      "cell_type": "code",
      "execution_count": null,
      "metadata": {
        "id": "86eOBwKLdeg0"
      },
      "outputs": [],
      "source": [
        "\"hello\" + \" world\"  # Concatenate two strings"
      ]
    },
    {
      "cell_type": "markdown",
      "metadata": {
        "id": "-A2pi0VMKIs6"
      },
      "source": [
        "Strings that have **multiple lines** can be defined using a triple-quote syntax:"
      ]
    },
    {
      "cell_type": "code",
      "execution_count": null,
      "metadata": {
        "id": "oXYOVM87IXTi"
      },
      "outputs": [],
      "source": [
        "mystr = \"\"\"This is line 1\n",
        "This is line 2\n",
        "This is line 3\"\"\"\n",
        "\n",
        "print(mystr)"
      ]
    },
    {
      "cell_type": "markdown",
      "metadata": {
        "id": "Wj7JnnfoLDZD"
      },
      "source": [
        "This is equivalent to adding line breaks using token ``\\n``:"
      ]
    },
    {
      "cell_type": "code",
      "execution_count": null,
      "metadata": {
        "id": "wIHXsrlgJ6X1"
      },
      "outputs": [],
      "source": [
        "mystr = \"This is line 1\\nThis is line 2\\nThis is line 3\"\n",
        "print(mystr)"
      ]
    },
    {
      "cell_type": "markdown",
      "metadata": {
        "id": "1gHrv0n6Lw4N"
      },
      "source": [
        "(Should you ever want ``\\n`` to be interpreted as character ``\\`` followed by character ``n`` and not as a line break, type ``\\\\n``.)"
      ]
    },
    {
      "cell_type": "markdown",
      "metadata": {
        "id": "zVrBEVFCeY5K"
      },
      "source": [
        "### Booleans"
      ]
    },
    {
      "cell_type": "markdown",
      "metadata": {
        "id": "rTFffqYZf0Gv"
      },
      "source": [
        "Booleans hold ``True`` or ``False`` values:"
      ]
    },
    {
      "cell_type": "code",
      "execution_count": null,
      "metadata": {
        "id": "d_6AwaUsfy6X"
      },
      "outputs": [],
      "source": [
        "a = True\n",
        "type(a)"
      ]
    },
    {
      "cell_type": "markdown",
      "metadata": {
        "id": "tZ3Ez9HSZFP1"
      },
      "source": [
        "Booleans are returned as the **result of logical operations**:"
      ]
    },
    {
      "cell_type": "code",
      "execution_count": null,
      "metadata": {
        "colab": {
          "base_uri": "https://localhost:8080/"
        },
        "id": "ESHzYGz7heKG",
        "outputId": "84748dd4-c2f0-48db-8b94-a88a5d1e83ea"
      },
      "outputs": [
        {
          "data": {
            "text/plain": [
              "False"
            ]
          },
          "execution_count": 14,
          "metadata": {},
          "output_type": "execute_result"
        }
      ],
      "source": [
        "1 > 2  # This returns False (as 1 is not larger than 2)"
      ]
    },
    {
      "cell_type": "markdown",
      "metadata": {
        "id": "CLJcAI--hJdh"
      },
      "source": [
        "``True`` corresponds to the value 1 and ``False`` to the value 0:"
      ]
    },
    {
      "cell_type": "code",
      "execution_count": null,
      "metadata": {
        "colab": {
          "base_uri": "https://localhost:8080/"
        },
        "id": "tMMpEi_WenaE",
        "outputId": "1851b950-9a92-449c-9385-f49bbf701d30"
      },
      "outputs": [
        {
          "name": "stdout",
          "output_type": "stream",
          "text": [
            "2\n",
            "0\n"
          ]
        }
      ],
      "source": [
        "print(True + True)\n",
        "print(True * False)"
      ]
    },
    {
      "cell_type": "markdown",
      "metadata": {
        "id": "zAK5AVYynXCk"
      },
      "source": [
        "### NoneType"
      ]
    },
    {
      "cell_type": "markdown",
      "metadata": {
        "id": "aQr1jG21n-ku"
      },
      "source": [
        "The ``NoneType`` is used to represent the absence of value (void)."
      ]
    },
    {
      "cell_type": "code",
      "execution_count": null,
      "metadata": {
        "id": "uMhUrnCanWVk"
      },
      "outputs": [],
      "source": [
        "x = None\n",
        "type(x)"
      ]
    },
    {
      "cell_type": "markdown",
      "metadata": {
        "id": "oYIawEdspCiX"
      },
      "source": [
        "*You will often encounter it as the return value of functions that do not return anything. For now, it is enough to know that it exists!*"
      ]
    },
    {
      "cell_type": "markdown",
      "metadata": {
        "id": "mkQSOkEdZ8a_"
      },
      "source": [
        "---\n",
        "\n",
        ">  <font color='teal'> **In-class exercise**:\n",
        "Perform the operations mentioned in the comments.\n"
      ]
    },
    {
      "cell_type": "code",
      "execution_count": null,
      "metadata": {
        "colab": {
          "base_uri": "https://localhost:8080/",
          "height": 35
        },
        "id": "gPDupJo-aPYf",
        "outputId": "0a23417e-c782-4e11-d711-ff0dbd875e4d"
      },
      "outputs": [
        {
          "data": {
            "application/vnd.google.colaboratory.intrinsic+json": {
              "type": "string"
            },
            "text/plain": [
              "'My favorite number is 10'"
            ]
          },
          "execution_count": 19,
          "metadata": {},
          "output_type": "execute_result"
        }
      ],
      "source": [
        "# Assign the number 10 to a variable called my_number\n",
        "my_number = 10\n",
        "\n",
        "# Look up the object type of the variable my_number\n",
        "type(my_number)\n",
        "\n",
        "# Create a variable called my_string containing the string\n",
        "# \"My favorite number is \"\n",
        "my_string = \"My favorite number is \"\n",
        "\n",
        "# Convert my_number to a string\n",
        "# (don't forget to re-assign the result to my_number!)\n",
        "\n",
        "\n",
        "# Concatenate the two variables to get the string \"My favorite number is 10\"\n",
        "my_string + str(my_number)\n",
        "\n"
      ]
    },
    {
      "cell_type": "markdown",
      "metadata": {
        "id": "BEk9x7b8bs_y"
      },
      "source": [
        "\n",
        "\n",
        "---\n",
        "\n"
      ]
    },
    {
      "cell_type": "markdown",
      "metadata": {
        "id": "1W-CdLgX6fMs"
      },
      "source": [
        "## Operators"
      ]
    },
    {
      "cell_type": "markdown",
      "metadata": {
        "id": "MHroAeGuiKic"
      },
      "source": [
        "Before we continue with the more complex built-in object types (e.g. data structures), we will take a look at the most important **operators**.  We can distinguish between different types of operators:\n",
        "* Arithmetic Operators\n",
        "* Assignment Operators\n",
        "* Comparison Operators\n",
        "* Logical, Identity and Membership Operators\n"
      ]
    },
    {
      "cell_type": "markdown",
      "metadata": {
        "id": "q4IKC1sBklNz"
      },
      "source": [
        "### Arithmetic Operators"
      ]
    },
    {
      "cell_type": "markdown",
      "metadata": {
        "id": "NmCuzsqTu5pj"
      },
      "source": [
        "Important arithmetic operators include the following:"
      ]
    },
    {
      "cell_type": "markdown",
      "metadata": {
        "id": "_ov3SSP0ryc-"
      },
      "source": [
        "| Name | Operator | Example |\n",
        "| :- | -: | :-: |\n",
        "| Addition | ``+`` | ``x + y``\n",
        "| Subtraction | ``-`` | ``x - y``\n",
        "| Multiplication | ``*`` | ``x * y``\n",
        "| Division | ``/`` | ``x / y``\n",
        "| Exponentiation | ``**`` | ``x ** y``\n"
      ]
    },
    {
      "cell_type": "markdown",
      "metadata": {
        "id": "OnZcLlPgvuCu"
      },
      "source": [
        "You can use Python as a **calculator to perform arithmetic operations**:"
      ]
    },
    {
      "cell_type": "code",
      "execution_count": null,
      "metadata": {
        "id": "eOSDPbVUv_UF"
      },
      "outputs": [],
      "source": [
        "(5 * 3 + 7)**3 - 1 / 5"
      ]
    },
    {
      "cell_type": "markdown",
      "metadata": {
        "id": "6ap2VXpBBh-o"
      },
      "source": [
        "You can also perform these operations on variables:"
      ]
    },
    {
      "cell_type": "code",
      "execution_count": null,
      "metadata": {
        "id": "UG3GhCVqvB9q"
      },
      "outputs": [],
      "source": [
        "x = 5\n",
        "y = 3\n",
        "(x * y + 7)**y - 1 / x"
      ]
    },
    {
      "cell_type": "markdown",
      "metadata": {
        "id": "Er-bv2AWwwn0"
      },
      "source": [
        "><font color = 4e1585> SIDENOTE: The *math* module provides more complex mathematical functions: https://docs.python.org/3/library/math.html. To use these function, you first need to import the *math* module:\n",
        "> ```\n",
        "import math\n",
        "math.log(3)\n",
        "```\n",
        "\n"
      ]
    },
    {
      "cell_type": "markdown",
      "metadata": {
        "id": "Ehk35hMSflaZ"
      },
      "source": [
        "### Assignment Operators"
      ]
    },
    {
      "cell_type": "markdown",
      "metadata": {
        "id": "ycLvVz2zfvTt"
      },
      "source": [
        "We already got to know the most important assigment operator when we **assigned values to a variable using the ``=`` sign**.\n",
        "\n"
      ]
    },
    {
      "cell_type": "code",
      "execution_count": null,
      "metadata": {
        "id": "m8zGqgwngZy1"
      },
      "outputs": [],
      "source": [
        "x = \"hello\"  # Assigns the string \"hello\" to the variable x\n",
        "print(x)"
      ]
    },
    {
      "cell_type": "markdown",
      "metadata": {
        "id": "tt45CtH_gpU0"
      },
      "source": [
        "Moreover, there is a so-called **augmented operator** corresponding to each arithmetic operator."
      ]
    },
    {
      "cell_type": "code",
      "execution_count": null,
      "metadata": {
        "colab": {
          "base_uri": "https://localhost:8080/"
        },
        "id": "JLb6uP8KgoQM",
        "outputId": "66dd01c3-a631-47f5-99c1-92a3080189e6"
      },
      "outputs": [
        {
          "name": "stdout",
          "output_type": "stream",
          "text": [
            "9\n"
          ]
        }
      ],
      "source": [
        "a = 5\n",
        "a = a + 2  # instead of this, you can write...\n",
        "a += 2\n",
        "print(a)"
      ]
    },
    {
      "cell_type": "code",
      "execution_count": null,
      "metadata": {
        "id": "ZlcG8K6ngivc"
      },
      "outputs": [],
      "source": [
        "a -= 3   # Corresponds to: a = a - 3\n",
        "a *= 4   # Corresponds to: a = a * 4\n",
        "a /= 10  # Corresponds to: a = a / 10\n",
        "a **= 2  # Corresponds to: a = a ** 2"
      ]
    },
    {
      "cell_type": "markdown",
      "metadata": {
        "id": "W1hDGb06iZpk"
      },
      "source": [
        "### Comparison Operators"
      ]
    },
    {
      "cell_type": "markdown",
      "metadata": {
        "id": "4dmb7n44jCY9"
      },
      "source": [
        "Comparison operators **compare two values and return Boolean values**, i.e. ``True`` or ``False``. For example:"
      ]
    },
    {
      "cell_type": "code",
      "execution_count": null,
      "metadata": {
        "id": "me9H8wLci1EN"
      },
      "outputs": [],
      "source": [
        "a = 5\n",
        "b = 7\n",
        "print(a == b)   # a equal to b? (accidentally typing \"=\" instead of \"==\" is\n",
        "                # probably one of the most frequent programming errors)\n",
        "print(a > b)    # a greater than b?\n",
        "print(a <= 5)   # a less than or equal to 5?\n",
        "print(a != b)   # a not equal to b?"
      ]
    },
    {
      "cell_type": "markdown",
      "metadata": {
        "id": "_Ppr83V3kKy9"
      },
      "source": [
        "### Logical, Identity and Membership Operators"
      ]
    },
    {
      "cell_type": "markdown",
      "metadata": {
        "id": "pbJeMH1Uk-Rk"
      },
      "source": [
        "We can also **check if two objects are the same using the ``is`` (or the ``is not``) operator**:"
      ]
    },
    {
      "cell_type": "code",
      "execution_count": null,
      "metadata": {
        "colab": {
          "base_uri": "https://localhost:8080/"
        },
        "id": "RqZzrVf1kb_c",
        "outputId": "3c4c3d25-ecdf-4570-8f61-c0afbc47fe8b"
      },
      "outputs": [
        {
          "name": "stdout",
          "output_type": "stream",
          "text": [
            "True\n",
            "False\n"
          ]
        }
      ],
      "source": [
        "x = 150214\n",
        "y = 150214\n",
        "print(x == y)\n",
        "print(x is y)  # x and y are different objects (i.e. they point to different\n",
        "               # places in memory), but the two objects contain the same value"
      ]
    },
    {
      "cell_type": "code",
      "execution_count": null,
      "metadata": {
        "colab": {
          "base_uri": "https://localhost:8080/"
        },
        "id": "QAMiZ2wFlsGD",
        "outputId": "feebc17f-c968-43f4-9c67-d46b4996981e"
      },
      "outputs": [
        {
          "name": "stdout",
          "output_type": "stream",
          "text": [
            "True\n"
          ]
        }
      ],
      "source": [
        "x = 150214\n",
        "y = x\n",
        "print(x is y)       # Now x and y point to the same object\n",
        "print(x is not y)   # This checks whether x and y are NOT identical"
      ]
    },
    {
      "cell_type": "markdown",
      "metadata": {
        "id": "fKNryozlmXW9"
      },
      "source": [
        "Similarly, we can **find out if an object is a member of another object** using the ``in`` (or the ``not in``) operator."
      ]
    },
    {
      "cell_type": "code",
      "execution_count": null,
      "metadata": {
        "id": "ZW-AZuVIGhcY"
      },
      "outputs": [],
      "source": [
        "print(\"H\" in \"Hello\")       # checks if the letter \"H\" is in the string \"Hello\"\n",
        "print(\"Good\" in \"Morning\")\n",
        "print(\"w\" not in \"World\")   # the comparison is case sensitive"
      ]
    },
    {
      "cell_type": "markdown",
      "metadata": {
        "id": "z14aM02TG9is"
      },
      "source": [
        "This is particularly useful for more complex data structures such as lists or dictionaries (i.e. objects that contain other objects). We will cover them in the next section."
      ]
    },
    {
      "cell_type": "markdown",
      "metadata": {
        "id": "vL3dTqyZq-sz"
      },
      "source": [
        "Finally, we can also work with the **logical operators**, i.e. ``and`` and ``or``:\n"
      ]
    },
    {
      "cell_type": "code",
      "execution_count": null,
      "metadata": {
        "id": "WrJ2bmNtf-U1"
      },
      "outputs": [],
      "source": [
        "print(1 < 2 and 6 == 6)  # Returns True if both expressions are true\n",
        "print(1 > 2 or 7 != 8)  # Returns True if at least one of the expressions is true"
      ]
    },
    {
      "cell_type": "markdown",
      "metadata": {
        "id": "IdoNEOFzidN4"
      },
      "source": [
        "---\n",
        "\n",
        ">  <font color='teal'> **In-class exercise**: Operators\n",
        ">\n",
        ">  <font color='teal'> Perform the operations described in the comments!"
      ]
    },
    {
      "cell_type": "code",
      "execution_count": null,
      "metadata": {
        "colab": {
          "base_uri": "https://localhost:8080/"
        },
        "id": "eId0GM4kjV6a",
        "outputId": "e955520b-f382-4ca0-851b-90db640b9231"
      },
      "outputs": [
        {
          "name": "stdout",
          "output_type": "stream",
          "text": [
            "237.63000000000002\n"
          ]
        },
        {
          "data": {
            "text/plain": [
              "False"
            ]
          },
          "execution_count": 26,
          "metadata": {},
          "output_type": "execute_result"
        }
      ],
      "source": [
        "# Assign the value 3 to a variable named x and 5.9 to a variable named y\n",
        "x = 3\n",
        "y = 5.9\n",
        "\n",
        "# Print the result of the following operation: x*(y+3)^2\n",
        "print(x*(y+3)**2)\n",
        "\n",
        "# Check if y is greater than or equal to x + 3\n",
        "y > x+3\n"
      ]
    },
    {
      "cell_type": "markdown",
      "metadata": {
        "id": "_iDj476lWs-e"
      },
      "source": [
        "\n",
        "\n",
        "---\n",
        "\n"
      ]
    },
    {
      "cell_type": "markdown",
      "metadata": {
        "id": "rOzXqsEYp8Wu"
      },
      "source": [
        "## Data Structures"
      ]
    },
    {
      "cell_type": "markdown",
      "metadata": {
        "id": "SS8kYTsBnhyy"
      },
      "source": [
        "In the penultimate section we looked at simple object types such as numbers (integers or floats), strings, or Booleans. These **objects can be organized into more complex data structures**. Python has the following built-in data structures:"
      ]
    },
    {
      "cell_type": "markdown",
      "metadata": {
        "id": "8TTTglWDlD8v"
      },
      "source": [
        "*Data structures:*\n",
        "\n",
        "| Name | Abbreviation | Example |\n",
        "| :- | -: | :-: |\n",
        "| List | ``list`` | ``[0,2,3]``\n",
        "| Dictionnary | ``dict`` | ``{1:\"apple\", 2:\"orange\"}``\n",
        "| Set | ``set`` | ``{\"apple\", \"orange\"}``\n",
        "| Tuple | ``tuple`` | ``(0,2,3)``\n",
        "\n"
      ]
    },
    {
      "cell_type": "markdown",
      "metadata": {
        "id": "n5X2L6LdoWRI"
      },
      "source": [
        "Let us take a closer look at each of them! Lists and Dictionaries are the most common types."
      ]
    },
    {
      "cell_type": "markdown",
      "metadata": {
        "id": "flXgvc3Tofin"
      },
      "source": [
        "### Lists"
      ]
    },
    {
      "cell_type": "markdown",
      "metadata": {
        "id": "aU1LalYKonyN"
      },
      "source": [
        "**Lists are ordered sequences of elements**:"
      ]
    },
    {
      "cell_type": "code",
      "execution_count": null,
      "metadata": {
        "colab": {
          "base_uri": "https://localhost:8080/"
        },
        "id": "3ush6mJjomcG",
        "outputId": "d1efee01-1ecd-4f63-a1f4-7c1b3c43b056"
      },
      "outputs": [
        {
          "name": "stdout",
          "output_type": "stream",
          "text": [
            "[1, 2, 3, 4, 5]\n"
          ]
        }
      ],
      "source": [
        "a = [1, 2, 3, 4, 5]\n",
        "print(a)"
      ]
    },
    {
      "cell_type": "markdown",
      "metadata": {
        "id": "3z1gVrL0hzJh"
      },
      "source": [
        "Python knows that this is a list because we used square brackets ``[]``."
      ]
    },
    {
      "cell_type": "markdown",
      "metadata": {
        "id": "5vio_iVuozPk"
      },
      "source": [
        "Importantly, note that the **elements in a list can be of different type** (and that lists can be nested, i.e. a list can contain lists):"
      ]
    },
    {
      "cell_type": "code",
      "execution_count": null,
      "metadata": {
        "colab": {
          "base_uri": "https://localhost:8080/"
        },
        "id": "-yzZhR6uoypk",
        "outputId": "e1ae0eb4-777d-4c27-f35d-2c7e377f83df"
      },
      "outputs": [
        {
          "name": "stdout",
          "output_type": "stream",
          "text": [
            "['apple', 4, True, 7.6, [1, 2, 3]]\n"
          ]
        }
      ],
      "source": [
        "b = [\"apple\", 4, True, 7.6, [1, 2, 3]]\n",
        "print(b)"
      ]
    },
    {
      "cell_type": "markdown",
      "metadata": {
        "id": "Oh_8YAE9pExa"
      },
      "source": [
        "####Indexing and Slicing\n",
        "\n",
        "We can **access an element within a list** by typing a position in square brackets. This is called **indexing**."
      ]
    },
    {
      "cell_type": "code",
      "execution_count": null,
      "metadata": {
        "colab": {
          "base_uri": "https://localhost:8080/",
          "height": 35
        },
        "id": "2EfqfL2ZpDMs",
        "outputId": "5e07539e-89cd-4992-ffeb-d789edbc4e32"
      },
      "outputs": [
        {
          "data": {
            "application/vnd.google.colaboratory.intrinsic+json": {
              "type": "string"
            },
            "text/plain": [
              "'b'"
            ]
          },
          "execution_count": 31,
          "metadata": {},
          "output_type": "execute_result"
        }
      ],
      "source": [
        "letters = [\"a\", \"b\", \"c\", \"d\", \"e\"]\n",
        "letters[1]  # Get element with index 1 from the list of letters"
      ]
    },
    {
      "cell_type": "markdown",
      "metadata": {
        "id": "DTMzeJ2gqSmV"
      },
      "source": [
        "But why was the letter \"b\" returned and not the first letter (i.e. \"a\") in the list?\n",
        "\n",
        "<font color='red'>*IMPORTANT: Python uses 0-based indices! This means that it starts counting at 0 (rather than 1).*\n",
        "\n",
        "<font color='red'>Hence, letters[1] returns the second rather than the first element of the list.</font>"
      ]
    },
    {
      "cell_type": "code",
      "execution_count": null,
      "metadata": {
        "colab": {
          "base_uri": "https://localhost:8080/"
        },
        "id": "31CeRbSQpYxT",
        "outputId": "a0ecdd7d-539a-4532-9a04-a958c2a9934a"
      },
      "outputs": [
        {
          "name": "stdout",
          "output_type": "stream",
          "text": [
            "a\n"
          ]
        }
      ],
      "source": [
        "print(letters[0])  # This returns the first element"
      ]
    },
    {
      "cell_type": "markdown",
      "metadata": {
        "id": "5K5dy23Pjm3S"
      },
      "source": [
        "Furthermore, we can use negative indices to refer to elements from the end (``-1`` is the last element):"
      ]
    },
    {
      "cell_type": "code",
      "execution_count": null,
      "metadata": {
        "colab": {
          "base_uri": "https://localhost:8080/"
        },
        "id": "f6mWRcZfj4Ax",
        "outputId": "6fd2212b-ed08-4235-b839-29f55df31dfe"
      },
      "outputs": [
        {
          "name": "stdout",
          "output_type": "stream",
          "text": [
            "e\n"
          ]
        }
      ],
      "source": [
        "print(letters[-1])  # This returns the last element"
      ]
    },
    {
      "cell_type": "markdown",
      "metadata": {
        "id": "23WLTUNAwHAW"
      },
      "source": [
        "You can use the same syntax to *change an element in the list*:"
      ]
    },
    {
      "cell_type": "code",
      "execution_count": null,
      "metadata": {
        "colab": {
          "base_uri": "https://localhost:8080/"
        },
        "id": "wDwgdYEjwPUT",
        "outputId": "fd9df756-0a7d-44a7-e072-0398850ee31e"
      },
      "outputs": [
        {
          "name": "stdout",
          "output_type": "stream",
          "text": [
            "['A', 'b', 'c', 'd', 'e']\n"
          ]
        }
      ],
      "source": [
        "letters[0] = \"A\"\n",
        "print(letters)"
      ]
    },
    {
      "cell_type": "markdown",
      "metadata": {
        "id": "J4ghYNG_qSrX"
      },
      "source": [
        "We can also **extract a sequence of values** (i.e. a sub-list). This is called **slicing**:"
      ]
    },
    {
      "cell_type": "code",
      "execution_count": null,
      "metadata": {
        "colab": {
          "base_uri": "https://localhost:8080/"
        },
        "id": "-PJwCA8qlDG_",
        "outputId": "2fe8f4bd-c5ee-4b37-82de-5a7f611224ed"
      },
      "outputs": [
        {
          "data": {
            "text/plain": [
              "['A', 'b']"
            ]
          },
          "execution_count": 36,
          "metadata": {},
          "output_type": "execute_result"
        }
      ],
      "source": [
        "letters[0:2]"
      ]
    },
    {
      "cell_type": "markdown",
      "metadata": {
        "id": "ymQDf_JFrGbS"
      },
      "source": [
        "<font color='red'>*IMPORTANT: The element at the end of the \"slice\" is NOT included.*\n",
        "\n",
        "<font color='red'>Hence, this code returns the letters at indices 0 and 1, but not the one at index 2!"
      ]
    },
    {
      "cell_type": "markdown",
      "metadata": {
        "id": "eb6ofEtir82V"
      },
      "source": [
        "If we want to slice from the beginning or until the end of the list, we can omit the respective indices:"
      ]
    },
    {
      "cell_type": "code",
      "execution_count": null,
      "metadata": {
        "colab": {
          "base_uri": "https://localhost:8080/"
        },
        "id": "aRQ-8RwrsiKg",
        "outputId": "d79d0d96-4277-40c3-a241-97ffe1836ad1"
      },
      "outputs": [
        {
          "name": "stdout",
          "output_type": "stream",
          "text": [
            "[1, 2, 3]\n",
            "[3, 4, 5]\n"
          ]
        }
      ],
      "source": [
        "a = [1, 2, 3, 4, 5]\n",
        "print(a[:3])   # If the first index is 0, it can be omitted\n",
        "print(a[-3:])  # If we do not write the last index,\n",
        "               # the slice goes to the end of the list"
      ]
    },
    {
      "cell_type": "markdown",
      "metadata": {
        "id": "S2YDFsGUteix"
      },
      "source": [
        "We can also define a step size:"
      ]
    },
    {
      "cell_type": "code",
      "execution_count": null,
      "metadata": {
        "colab": {
          "base_uri": "https://localhost:8080/"
        },
        "id": "kkCB3xDmtjjK",
        "outputId": "4ef289cf-36da-47e1-92b3-fa50a3f337e1"
      },
      "outputs": [
        {
          "name": "stdout",
          "output_type": "stream",
          "text": [
            "[1, 3, 5]\n",
            "[5, 4, 3, 2, 1]\n",
            "[5, 3, 1]\n",
            "[3, 5, 7]\n"
          ]
        }
      ],
      "source": [
        "print(a[::2])   # This takes every second element in the list\n",
        "print(a[::-1])  # If we take a negative step size,\n",
        "                # a reversed list (or sublist) is returned\n",
        "print(a[::-2])  # Every second element from the end\n",
        "c = [1, 2, 3, 4, 5, 6, 7, 8]\n",
        "print(c[2::2])  # Every second element starting at position 2 (third element)"
      ]
    },
    {
      "cell_type": "markdown",
      "metadata": {
        "id": "K_W8tKH2QU-B"
      },
      "source": [
        "\n",
        "\n",
        "><font color = 4e1585> SIDENOTE: Indexing and slicing can also be done with strings! For example, ``\"Hello\"[0]`` will return ``\"H\"``.\n",
        "\n"
      ]
    },
    {
      "cell_type": "markdown",
      "metadata": {
        "id": "51HB9coCsKra"
      },
      "source": [
        "####List operations and functions\n"
      ]
    },
    {
      "cell_type": "markdown",
      "metadata": {
        "id": "MBY9Mr19vL0i"
      },
      "source": [
        "Lists can easily be concatenated using the ``+`` operator:"
      ]
    },
    {
      "cell_type": "code",
      "execution_count": null,
      "metadata": {
        "colab": {
          "base_uri": "https://localhost:8080/"
        },
        "id": "zu81joV7vJfA",
        "outputId": "048261b9-fda4-436f-ed5a-fb33cb61e607"
      },
      "outputs": [
        {
          "data": {
            "text/plain": [
              "[1, 2, 3, 'apple', 'banana']"
            ]
          },
          "execution_count": 41,
          "metadata": {},
          "output_type": "execute_result"
        }
      ],
      "source": [
        "L1 = [1, 2, 3]\n",
        "L2 = [\"apple\", \"banana\"]\n",
        "L3 = L1 + L2\n",
        "L3"
      ]
    },
    {
      "cell_type": "markdown",
      "metadata": {
        "id": "wjESy6uSwCdj"
      },
      "source": [
        "You can use the ``append()`` method to add an element to the list:\n"
      ]
    },
    {
      "cell_type": "code",
      "execution_count": null,
      "metadata": {
        "colab": {
          "base_uri": "https://localhost:8080/"
        },
        "id": "sxeZTfYDvpJg",
        "outputId": "32a70ef6-f251-4505-ac1b-d0b467b62fcb"
      },
      "outputs": [
        {
          "name": "stdout",
          "output_type": "stream",
          "text": [
            "[1, 2, 3, 4]\n"
          ]
        }
      ],
      "source": [
        "L1.append(4)\n",
        "print(L1)  # This modified the original list\n",
        "           # (you do not have to assign it again)!"
      ]
    },
    {
      "cell_type": "markdown",
      "metadata": {
        "id": "-oEy-fpKxeT0"
      },
      "source": [
        "Similarly, you can remove elements from a list with the ``remove()`` method:"
      ]
    },
    {
      "cell_type": "code",
      "execution_count": null,
      "metadata": {
        "colab": {
          "base_uri": "https://localhost:8080/"
        },
        "id": "jbaRvf6wxhFk",
        "outputId": "264ee625-87ed-434d-de31-860c6596cf8b"
      },
      "outputs": [
        {
          "name": "stdout",
          "output_type": "stream",
          "text": [
            "[1, 3, 4]\n"
          ]
        }
      ],
      "source": [
        "L1.remove(2)\n",
        "print(L1)  # This modified the original list\n",
        "           # (you do not have to assign it again)!"
      ]
    },
    {
      "cell_type": "markdown",
      "metadata": {
        "id": "lKWGFVc8mrZU"
      },
      "source": [
        "(Naturally, removing an element from the list will update the indices of the other elements.)"
      ]
    },
    {
      "cell_type": "markdown",
      "metadata": {
        "id": "ZF2hWeyjwdYH"
      },
      "source": [
        "Yo can also ``sort()`` the elements of the list:\n"
      ]
    },
    {
      "cell_type": "code",
      "execution_count": null,
      "metadata": {
        "colab": {
          "base_uri": "https://localhost:8080/"
        },
        "id": "5ocS4ggEvI9R",
        "outputId": "1ec87ac7-199a-444a-de8b-439ed187020a"
      },
      "outputs": [
        {
          "data": {
            "text/plain": [
              "[0, 1, 3, 6, 10]"
            ]
          },
          "execution_count": 44,
          "metadata": {},
          "output_type": "execute_result"
        }
      ],
      "source": [
        "L = [6, 3, 1, 0, 10]\n",
        "L.sort()\n",
        "L   # This modified the original list (you do not have to assign it again)!"
      ]
    },
    {
      "cell_type": "markdown",
      "metadata": {
        "id": "v7qqUyhnxH2z"
      },
      "source": [
        "To get the length of a list (number of elements in the list), you can use the ``len()`` function:"
      ]
    },
    {
      "cell_type": "code",
      "execution_count": null,
      "metadata": {
        "colab": {
          "base_uri": "https://localhost:8080/"
        },
        "id": "hGzNIibMxHac",
        "outputId": "9e5dbae2-e452-42e3-bbc9-32c7205b036e"
      },
      "outputs": [
        {
          "data": {
            "text/plain": [
              "5"
            ]
          },
          "execution_count": 45,
          "metadata": {},
          "output_type": "execute_result"
        }
      ],
      "source": [
        "len(L)"
      ]
    },
    {
      "cell_type": "markdown",
      "metadata": {
        "id": "qoV1lj2TsOu7"
      },
      "source": [
        "---\n",
        "\n",
        ">  <font color='teal'> **In-class exercise**: Lists\n",
        ">\n",
        ">  <font color='teal'> Perform the operations described in the comments!"
      ]
    },
    {
      "cell_type": "code",
      "execution_count": null,
      "metadata": {
        "colab": {
          "base_uri": "https://localhost:8080/"
        },
        "id": "xA2UcSr0soH_",
        "outputId": "3133baa6-34f7-4f22-8185-91946d833c6e"
      },
      "outputs": [
        {
          "name": "stdout",
          "output_type": "stream",
          "text": [
            "[0, 1, 3, 5, 5, 9]\n",
            "3\n"
          ]
        },
        {
          "data": {
            "text/plain": [
              "[0, 1, 3, 5]"
            ]
          },
          "execution_count": 46,
          "metadata": {},
          "output_type": "execute_result"
        }
      ],
      "source": [
        "# Create the list A containing the elements 0, 5, 3, 1, 9, 5 (in this order)\n",
        "A = [0, 5, 3, 1, 9, 5]\n",
        "\n",
        "# Sort the list\n",
        "A.sort()\n",
        "print(A)\n",
        "\n",
        "# Print the third element of the list\n",
        "print(A[2])\n",
        "\n",
        "# Create a new list B containing the first 4 elements of list A and print it out\n",
        "B = A[:4]\n",
        "B"
      ]
    },
    {
      "cell_type": "markdown",
      "metadata": {
        "id": "tBHUeTJBsowk"
      },
      "source": [
        "\n",
        "\n",
        "---\n",
        "\n"
      ]
    },
    {
      "cell_type": "markdown",
      "metadata": {
        "id": "gS1iA9HPlpj1"
      },
      "source": [
        "###Dictionaries"
      ]
    },
    {
      "cell_type": "markdown",
      "metadata": {
        "id": "3XLNdaJel4p0"
      },
      "source": [
        "Dictionaries  are key:value pairs:"
      ]
    },
    {
      "cell_type": "code",
      "execution_count": null,
      "metadata": {
        "colab": {
          "base_uri": "https://localhost:8080/"
        },
        "id": "2W-4crPDmFDw",
        "outputId": "18c20323-bd17-4fe1-8892-dacba3500fb2"
      },
      "outputs": [
        {
          "name": "stdout",
          "output_type": "stream",
          "text": [
            "{'name': 'Anne', 'age': 20, 'occupation': 'student'}\n"
          ]
        }
      ],
      "source": [
        "my_dict = {\"name\": \"Anne\",\n",
        "           \"age\": 20,\n",
        "           \"occupation\": \"student\"}   # Use line breaks within parentheses\n",
        "                                      # to make your code more readable\n",
        "print(my_dict)"
      ]
    },
    {
      "cell_type": "markdown",
      "metadata": {
        "id": "Cp6VGAltmn7h"
      },
      "source": [
        "Every dictionary has the following structure: ``{key1: value1, key2: value2, key3: value3 ...}``. While square brackets ``[]`` are used to define lists, dictionaries are defined **using curly braces ``{}``**.\n",
        "\n",
        "Unlike lists, **dictionaries are unordered**. Hence, indexing (or slicing) based on the position in the dictionary is not possible. To retrieve a value from the dictionary, you need to **use its key**:"
      ]
    },
    {
      "cell_type": "code",
      "execution_count": null,
      "metadata": {
        "colab": {
          "base_uri": "https://localhost:8080/"
        },
        "id": "_erUbljYn9l9",
        "outputId": "cd428c72-5389-497f-8dd2-3463daeeac06"
      },
      "outputs": [
        {
          "data": {
            "text/plain": [
              "20"
            ]
          },
          "execution_count": 49,
          "metadata": {},
          "output_type": "execute_result"
        }
      ],
      "source": [
        "my_dict[\"age\"]"
      ]
    },
    {
      "cell_type": "markdown",
      "metadata": {
        "id": "Wi2vH2aGpVCE"
      },
      "source": [
        "It is easy to **add an additional key:value pair** to the dictionary:"
      ]
    },
    {
      "cell_type": "code",
      "execution_count": null,
      "metadata": {
        "colab": {
          "base_uri": "https://localhost:8080/"
        },
        "id": "S9z2dU3NpqtA",
        "outputId": "7a2acfec-a0b6-4dc0-a660-4ca05b26a26b"
      },
      "outputs": [
        {
          "data": {
            "text/plain": [
              "{'name': 'Anne',\n",
              " 'age': 20,\n",
              " 'occupation': 'student',\n",
              " 'hobbies': ['parachuting', 'ice climbing']}"
            ]
          },
          "execution_count": 50,
          "metadata": {},
          "output_type": "execute_result"
        }
      ],
      "source": [
        "my_dict[\"hobbies\"] = [\"parachuting\", \"ice climbing\"]  # Values can also be lists,\n",
        "                                                      # other dictionaries etc.\n",
        "my_dict"
      ]
    },
    {
      "cell_type": "markdown",
      "metadata": {
        "id": "kZ5HoBv7r3ht"
      },
      "source": [
        "You can use the same syntax to change an existing value:"
      ]
    },
    {
      "cell_type": "code",
      "execution_count": null,
      "metadata": {
        "colab": {
          "base_uri": "https://localhost:8080/"
        },
        "id": "qbV3dhfgsclV",
        "outputId": "c11bf41a-516c-4e34-982b-f5e09afe25b3"
      },
      "outputs": [
        {
          "data": {
            "text/plain": [
              "{'name': 'Anne',\n",
              " 'age': 21,\n",
              " 'occupation': 'student',\n",
              " 'hobbies': ['parachuting', 'ice climbing']}"
            ]
          },
          "execution_count": 51,
          "metadata": {},
          "output_type": "execute_result"
        }
      ],
      "source": [
        "my_dict[\"age\"] = 21\n",
        "my_dict"
      ]
    },
    {
      "cell_type": "markdown",
      "metadata": {
        "id": "Z-IUNRPoIqA6"
      },
      "source": [
        "Keys do not necessarily have to be strings:"
      ]
    },
    {
      "cell_type": "code",
      "execution_count": null,
      "metadata": {
        "colab": {
          "base_uri": "https://localhost:8080/"
        },
        "id": "jGeLPen5ItVG",
        "outputId": "4352f8d3-aa6e-430d-e5b7-6c4f2f09a9bb"
      },
      "outputs": [
        {
          "data": {
            "text/plain": [
              "{'name': 'Anne',\n",
              " 'age': 21,\n",
              " 'occupation': 'student',\n",
              " 'hobbies': ['parachuting', 'ice climbing'],\n",
              " 123: 'no idea what this key is good for'}"
            ]
          },
          "execution_count": 52,
          "metadata": {},
          "output_type": "execute_result"
        }
      ],
      "source": [
        "my_dict[123] = \"no idea what this key is good for\"\n",
        "my_dict"
      ]
    },
    {
      "cell_type": "markdown",
      "metadata": {
        "id": "gZBC5NowwWJO"
      },
      "source": [
        "---\n",
        "\n",
        ">  <font color='teal'> **In-class exercise**: Dictionaries\n",
        ">\n",
        ">  <font color='teal'>\n",
        "\n",
        "\n"
      ]
    },
    {
      "cell_type": "code",
      "execution_count": 9,
      "metadata": {
        "colab": {
          "base_uri": "https://localhost:8080/"
        },
        "id": "A7h4_omJxZ67",
        "outputId": "f52e8485-c486-44a2-df4e-1c83efc13e34"
      },
      "outputs": [
        {
          "name": "stdout",
          "output_type": "stream",
          "text": [
            "{'bear': 4, 'spider': 8, 'kangaroo': 2, 'fish': 0}\n",
            "4\n"
          ]
        }
      ],
      "source": [
        "# Create a dictionary called legs with the number of legs for each animal:\n",
        "# bear = 4, spider = 6, kangaroo = 2\n",
        "legs = {\"bear\": 4, \"spider\": 6, \"kangaroo\": 2}\n",
        "\n",
        "# You made a mistake with the spider. Change the number of legs to 8.\n",
        "legs[\"spider\"] = 8\n",
        "\n",
        "# Add the fish (0 legs) and print the resulting dictionary\n",
        "legs[\"fish\"] = 0\n",
        "\n",
        "print(legs)\n",
        "\n",
        "# Print out the value for the bear\n",
        "print(legs[\"bear\"])"
      ]
    },
    {
      "cell_type": "markdown",
      "metadata": {
        "id": "nJtreKhdsuxz"
      },
      "source": [
        "### Sets"
      ]
    },
    {
      "cell_type": "markdown",
      "metadata": {
        "id": "C3cUzzC2tL8z"
      },
      "source": [
        "Sets are **unordered collections of items**:"
      ]
    },
    {
      "cell_type": "code",
      "execution_count": null,
      "metadata": {
        "colab": {
          "base_uri": "https://localhost:8080/"
        },
        "id": "oPJNJOFDtAu7",
        "outputId": "1c372859-4bbc-418e-8444-3d012df60787"
      },
      "outputs": [
        {
          "data": {
            "text/plain": [
              "{'apple', 'apricot', 'grape', 'pear'}"
            ]
          },
          "execution_count": 1,
          "metadata": {},
          "output_type": "execute_result"
        }
      ],
      "source": [
        "swiss_fruits = {\"apple\", \"pear\", \"apricot\", \"grape\"}\n",
        "swiss_fruits"
      ]
    },
    {
      "cell_type": "markdown",
      "metadata": {
        "id": "q-Xwe3CqMUln"
      },
      "source": [
        "Like dictionaries, sets are defined using curly braces ``{}``, but there are no keys. Furthermore, **in a set each value occurs only once**. This can be very useful when you want to obtain all unique values from a list:"
      ]
    },
    {
      "cell_type": "code",
      "execution_count": null,
      "metadata": {
        "colab": {
          "base_uri": "https://localhost:8080/"
        },
        "id": "ufen4VCuM2b_",
        "outputId": "da3b2f09-3857-433f-df03-0b4fc6231369"
      },
      "outputs": [
        {
          "data": {
            "text/plain": [
              "{0, 2, 3, 8, True, 'hello'}"
            ]
          },
          "execution_count": 2,
          "metadata": {},
          "output_type": "execute_result"
        }
      ],
      "source": [
        "my_list = [0, 2, True, 0, 0, 2, \"hello\", 3, \"hello\", 8, True]\n",
        "set(my_list)  # convert to set using the set() function"
      ]
    },
    {
      "cell_type": "markdown",
      "metadata": {
        "id": "mm_KHNELu48-"
      },
      "source": [
        "\n",
        "\n",
        "We can perform mathematical set operations such as union ``|``, intersection ``&``, or difference ``-``:"
      ]
    },
    {
      "cell_type": "code",
      "execution_count": null,
      "metadata": {
        "id": "A6-8xpOeuy1_"
      },
      "outputs": [],
      "source": [
        "tasty_fruits = {\"mango\", \"apple\", \"papaya\", \"banana\"}"
      ]
    },
    {
      "cell_type": "code",
      "execution_count": null,
      "metadata": {
        "colab": {
          "base_uri": "https://localhost:8080/"
        },
        "id": "jo4yT7n0vTnL",
        "outputId": "6af42bb5-b3e3-44d5-9989-2fbbcc3d7963"
      },
      "outputs": [
        {
          "name": "stdout",
          "output_type": "stream",
          "text": [
            "{'banana', 'mango', 'apple', 'grape', 'pear', 'papaya', 'apricot'}\n",
            "{'apple'}\n",
            "{'papaya', 'mango', 'banana'}\n"
          ]
        }
      ],
      "source": [
        "print(tasty_fruits | swiss_fruits)    # union (all fruits)\n",
        "print(tasty_fruits & swiss_fruits)    # intersection (fruits that are both Swiss and tasty)\n",
        "print(tasty_fruits - swiss_fruits)    # difference (tasty fruits that are not Swiss)"
      ]
    },
    {
      "cell_type": "markdown",
      "metadata": {
        "id": "1sTvHSMCwy61"
      },
      "source": [
        "Set operators are also available as methods:"
      ]
    },
    {
      "cell_type": "code",
      "execution_count": null,
      "metadata": {
        "colab": {
          "base_uri": "https://localhost:8080/"
        },
        "id": "3-DIFBJ4wx0l",
        "outputId": "c9702a05-fd64-4480-982b-ae6b027307c4"
      },
      "outputs": [
        {
          "name": "stdout",
          "output_type": "stream",
          "text": [
            "{'banana', 'mango', 'apple', 'grape', 'pear', 'papaya', 'apricot'}\n",
            "{'apple'}\n",
            "{'papaya', 'mango', 'banana'}\n"
          ]
        }
      ],
      "source": [
        "print(tasty_fruits.union(swiss_fruits))\n",
        "print(tasty_fruits.intersection(swiss_fruits))\n",
        "print(tasty_fruits.difference(swiss_fruits))"
      ]
    },
    {
      "cell_type": "markdown",
      "metadata": {
        "id": "I7Jyt4621IaE"
      },
      "source": [
        "### Tuples\n",
        "\n",
        "\n"
      ]
    },
    {
      "cell_type": "markdown",
      "metadata": {
        "id": "8vzkUAiS1X36"
      },
      "source": [
        "Tuples are similar to lists, but they are created using parentheses ``()`` instead of square brackets:"
      ]
    },
    {
      "cell_type": "code",
      "execution_count": null,
      "metadata": {
        "colab": {
          "base_uri": "https://localhost:8080/"
        },
        "id": "bnYgu1xf1Hxm",
        "outputId": "33592fb8-0319-40ed-c22f-0bac9f15bab2"
      },
      "outputs": [
        {
          "data": {
            "text/plain": [
              "1"
            ]
          },
          "execution_count": 6,
          "metadata": {},
          "output_type": "execute_result"
        }
      ],
      "source": [
        "this_tuple = (1, 3, 1, \"hello\")\n",
        "this_tuple[0]  # Access elements with index"
      ]
    },
    {
      "cell_type": "markdown",
      "metadata": {
        "id": "3TwsoZ31Ms9n"
      },
      "source": [
        "In fact, the parentheses can also be omitted:"
      ]
    },
    {
      "cell_type": "code",
      "execution_count": null,
      "metadata": {
        "colab": {
          "base_uri": "https://localhost:8080/"
        },
        "id": "mDK4WGowM85e",
        "outputId": "f38c5199-766b-4606-debe-4c7a878c8fc7"
      },
      "outputs": [
        {
          "name": "stdout",
          "output_type": "stream",
          "text": [
            "(1, 3, 1, 'hello')\n"
          ]
        }
      ],
      "source": [
        "this_tuple = 1, 3, 1, \"hello\"\n",
        "print(this_tuple)"
      ]
    },
    {
      "cell_type": "markdown",
      "metadata": {
        "id": "pOAOzocr12sy"
      },
      "source": [
        "The key difference between lists and tuples is that tuples are **immutable**. This means that they cannot be changed once they have been created:"
      ]
    },
    {
      "cell_type": "code",
      "execution_count": null,
      "metadata": {
        "colab": {
          "base_uri": "https://localhost:8080/",
          "height": 180
        },
        "id": "P9cX3ABXwxFF",
        "outputId": "072f9f69-4a42-44b9-97fe-4f1bd8963c54"
      },
      "outputs": [
        {
          "ename": "TypeError",
          "evalue": "'tuple' object does not support item assignment",
          "output_type": "error",
          "traceback": [
            "\u001b[0;31m---------------------------------------------------------------------------\u001b[0m",
            "\u001b[0;31mTypeError\u001b[0m                                 Traceback (most recent call last)",
            "\u001b[0;32m<ipython-input-8-1c62cf5f1723>\u001b[0m in \u001b[0;36m<cell line: 1>\u001b[0;34m()\u001b[0m\n\u001b[0;32m----> 1\u001b[0;31m \u001b[0mthis_tuple\u001b[0m\u001b[0;34m[\u001b[0m\u001b[0;36m3\u001b[0m\u001b[0;34m]\u001b[0m \u001b[0;34m=\u001b[0m \u001b[0;34m\"bye\"\u001b[0m  \u001b[0;31m# This does not work!\u001b[0m\u001b[0;34m\u001b[0m\u001b[0;34m\u001b[0m\u001b[0m\n\u001b[0m\u001b[1;32m      2\u001b[0m \u001b[0mthis_tuple\u001b[0m\u001b[0;34m.\u001b[0m\u001b[0mappend\u001b[0m\u001b[0;34m(\u001b[0m\u001b[0;34m\"further element\"\u001b[0m\u001b[0;34m)\u001b[0m  \u001b[0;31m# This does not work!\u001b[0m\u001b[0;34m\u001b[0m\u001b[0;34m\u001b[0m\u001b[0m\n\u001b[1;32m      3\u001b[0m \u001b[0mthis_tuple\u001b[0m \u001b[0;34m=\u001b[0m \u001b[0;34m(\u001b[0m\u001b[0;36m1\u001b[0m\u001b[0;34m,\u001b[0m \u001b[0;36m3\u001b[0m\u001b[0;34m,\u001b[0m \u001b[0;36m1\u001b[0m\u001b[0;34m,\u001b[0m \u001b[0;34m\"bye\"\u001b[0m\u001b[0;34m)\u001b[0m  \u001b[0;31m# This works, but it creates a new object\u001b[0m\u001b[0;34m\u001b[0m\u001b[0;34m\u001b[0m\u001b[0m\n",
            "\u001b[0;31mTypeError\u001b[0m: 'tuple' object does not support item assignment"
          ]
        }
      ],
      "source": [
        "this_tuple[3] = \"bye\"  # This does not work!\n",
        "this_tuple.append(\"further element\")  # This does not work!\n",
        "this_tuple = (1, 3, 1, \"bye\")  # This works, but it creates a new object"
      ]
    },
    {
      "cell_type": "markdown",
      "metadata": {
        "id": "yF6USExe2i1h"
      },
      "source": [
        "We will not use tuples very often, but it is useful to know that they exist!\n",
        "\n",
        "Methods or functions that have multiple return values often return the results as a tuple:"
      ]
    },
    {
      "cell_type": "code",
      "execution_count": null,
      "metadata": {
        "colab": {
          "base_uri": "https://localhost:8080/"
        },
        "id": "D0AiZ3ldOFRC",
        "outputId": "3cf9c053-cd8f-4bba-edbf-c7d6bc322f51"
      },
      "outputs": [
        {
          "data": {
            "text/plain": [
              "(1, 8)"
            ]
          },
          "execution_count": 9,
          "metadata": {},
          "output_type": "execute_result"
        }
      ],
      "source": [
        "x = 0.125\n",
        "x.as_integer_ratio()"
      ]
    },
    {
      "cell_type": "markdown",
      "metadata": {
        "id": "O8G5zk9J6jEs"
      },
      "source": [
        "You can directly assign the return values to different variables as follows:"
      ]
    },
    {
      "cell_type": "code",
      "execution_count": null,
      "metadata": {
        "colab": {
          "base_uri": "https://localhost:8080/"
        },
        "id": "yFDfcPxd6mtl",
        "outputId": "015a3a23-329b-4da1-9a4f-9722bc48fa53"
      },
      "outputs": [
        {
          "name": "stdout",
          "output_type": "stream",
          "text": [
            "1\n",
            "8\n"
          ]
        }
      ],
      "source": [
        "num, denom = x.as_integer_ratio()  # Instead of: num = x.as_integer_ratio()[0];\n",
        "                                   # denom = x.as_integer_ratio()[1]\n",
        "print(num)\n",
        "print(denom)"
      ]
    },
    {
      "cell_type": "markdown",
      "metadata": {
        "id": "LsCrnjDt6nHz"
      },
      "source": [
        "## Conversion between Data Types"
      ]
    },
    {
      "cell_type": "markdown",
      "metadata": {
        "id": "CuiSvF1443T2"
      },
      "source": [
        "Python **automatically infers the data type** based on what you type:"
      ]
    },
    {
      "cell_type": "code",
      "execution_count": null,
      "metadata": {
        "colab": {
          "base_uri": "https://localhost:8080/"
        },
        "id": "mnN2aTAL5Bm3",
        "outputId": "9182355d-278f-46d1-fccc-29589e59a41d"
      },
      "outputs": [
        {
          "name": "stdout",
          "output_type": "stream",
          "text": [
            "<class 'int'>\n",
            "<class 'float'>\n",
            "<class 'str'>\n",
            "<class 'list'>\n"
          ]
        }
      ],
      "source": [
        "x = 3\n",
        "print(type(x))\n",
        "\n",
        "x = 3.0\n",
        "print(type(x))\n",
        "\n",
        "x = \"3\"\n",
        "print(type(x))\n",
        "\n",
        "x = [\"3\"]\n",
        "print(type(x))"
      ]
    },
    {
      "cell_type": "markdown",
      "metadata": {
        "id": "zPJmkzZ_5eW9"
      },
      "source": [
        "You can easily make **conversions between different data types**. This is also called *typecasting*. Use the following functions:"
      ]
    },
    {
      "cell_type": "code",
      "execution_count": null,
      "metadata": {
        "colab": {
          "base_uri": "https://localhost:8080/"
        },
        "id": "TqcLpwOx4jcJ",
        "outputId": "473d433e-e249-453e-a41e-522159ed1988"
      },
      "outputs": [
        {
          "name": "stdout",
          "output_type": "stream",
          "text": [
            "7\n",
            "3.0\n",
            "[2, 4, 6]\n",
            "['H', 'e', 'l', 'l', 'o']\n",
            "{0, 2}\n",
            "(0, 2, 0)\n"
          ]
        }
      ],
      "source": [
        "print(int(\"7\"))           # Creates an integer\n",
        "print(float(3))           # Creates a float\n",
        "print(str([2, 4, 6]))     # Creates a string\n",
        "print(list(\"Hello\"))      # Creates a list\n",
        "print(set([0, 2, 0]))     # Creates a set\n",
        "print(tuple([0, 2, 0]))   # Creates a tuple"
      ]
    },
    {
      "cell_type": "markdown",
      "metadata": {
        "id": "PLueTJAv8zjG"
      },
      "source": [
        "Of course, you can't make any kind of conversion. For example, if you type ``int(\"hello\")`` or ``int([1 , 3 , 4])``, you will get an error.\n",
        "\n"
      ]
    },
    {
      "cell_type": "markdown",
      "metadata": {
        "id": "s1O76BwX2tWn"
      },
      "source": [
        "## Mutable and Immutable Objects in Python"
      ]
    },
    {
      "cell_type": "markdown",
      "metadata": {
        "id": "BpD-D6eF37Ii"
      },
      "source": [
        "Python objects can be either *mutable* or *immutable*. While **mutable objects can be changed after they are created, immutable objects can't**. All simple data types (``int``, ``float``, ``str``...) and tuples are immutable. Lists, sets, dictionaries – as well as arrays and dataframes (will be covered later) – are mutable.\n"
      ]
    },
    {
      "cell_type": "markdown",
      "metadata": {
        "id": "zzUokBHdXyDx"
      },
      "source": [
        "---\n",
        ">  <font color='teal'> **Quiz**: What is the difference between the following two code blocks?\n"
      ]
    },
    {
      "cell_type": "code",
      "execution_count": null,
      "metadata": {
        "colab": {
          "base_uri": "https://localhost:8080/"
        },
        "id": "nvIAfDLoYa9C",
        "outputId": "786d07a9-c3b1-42be-da70-f26443b197b1"
      },
      "outputs": [
        {
          "data": {
            "text/plain": [
              "[1, 2, 3, 4]"
            ]
          },
          "execution_count": 17,
          "metadata": {},
          "output_type": "execute_result"
        }
      ],
      "source": [
        "# 1.)\n",
        "mylist = [1, 2, 3]\n",
        "mylist.append(4)\n",
        "mylist"
      ]
    },
    {
      "cell_type": "code",
      "execution_count": null,
      "metadata": {
        "colab": {
          "base_uri": "https://localhost:8080/"
        },
        "id": "fmNH_WXwY6ff",
        "outputId": "2f09cd36-cff6-4f1a-92f8-112e1f9f7842"
      },
      "outputs": [
        {
          "data": {
            "text/plain": [
              "[1, 2, 3, 4]"
            ]
          },
          "execution_count": 16,
          "metadata": {},
          "output_type": "execute_result"
        }
      ],
      "source": [
        "# 2.)\n",
        "mylist = [1, 2, 3]\n",
        "mylist = mylist + [4]\n",
        "mylist"
      ]
    },
    {
      "cell_type": "markdown",
      "metadata": {
        "id": "Y5dLGCK0ZQtU"
      },
      "source": [
        "---"
      ]
    },
    {
      "cell_type": "markdown",
      "metadata": {
        "id": "7mdlTvc8T7vH"
      },
      "source": [
        "This is an important distinction because mutable objects exhibit a behavior that can appear confusing:"
      ]
    },
    {
      "cell_type": "code",
      "execution_count": 18,
      "metadata": {
        "colab": {
          "base_uri": "https://localhost:8080/"
        },
        "id": "xPU6mqaD2jel",
        "outputId": "a301197b-06ad-4f0b-d47f-b28948233995"
      },
      "outputs": [
        {
          "name": "stdout",
          "output_type": "stream",
          "text": [
            "[1, 2, 3, 4]\n",
            "[1, 2, 3, 4]\n"
          ]
        }
      ],
      "source": [
        "L1 = [1, 2, 3]  # Create a list L1\n",
        "L2 = L1         # Create a second list L2\n",
        "L1.append(4)    # Append an element to L1\n",
        "print(L1)       # L1 has now 4 elements...\n",
        "print(L2)       # ... but so does L2!!"
      ]
    },
    {
      "cell_type": "markdown",
      "metadata": {
        "id": "x6UkrlDh6YPD"
      },
      "source": [
        "Why does this happen?\n",
        "\n",
        "\n",
        "As already mentioned, variables in Python are **pointers**. In this example, we define variable L1 that points to a memory address containing list object ``[1, 2, 3]``. When we write ``L2 = L1`` we do not create a copy of the list, we only copy the pointer. This means that both ``L1`` and ``L2`` point to the same object. Thus, if we modify the list using ``L1.append(4)``, both ``L1`` and ``L2`` will point to the modified list ``[1, 2, 3, 4]``.\n",
        "\n",
        "\n",
        "For a more detailed explanation see here: https://jakevdp.github.io/WhirlwindTourOfPython/03-semantics-variables.html\n",
        "\n"
      ]
    },
    {
      "cell_type": "code",
      "execution_count": null,
      "metadata": {
        "id": "_-QAblZicM8X"
      },
      "outputs": [],
      "source": [
        "L1 is L2  # L1 and L2 point to the same object"
      ]
    },
    {
      "cell_type": "markdown",
      "metadata": {
        "id": "4V87VhU0bEtY"
      },
      "source": [
        "---\n",
        ">  <font color='teal'> **Quiz**: In the code block above, what happens if you type:\n",
        "- ``L1 = L1 + [4]`` instead of ``L1.append(4)``?\n",
        "- ``L1[0] = 100`` instead of ``L1.append(4)``?\n",
        "- ``L2 = L1*2`` instead of ``L2=L1``?\n",
        "\n",
        "---"
      ]
    },
    {
      "cell_type": "markdown",
      "metadata": {
        "id": "swGbGvCtDB6Z"
      },
      "source": [
        "\n",
        "><font color = 4e1585>NOTE: Why is this no problem for immutable objects?\n",
        ">\n",
        "><font color = 4e1585> *Well, because we can't change them after they are created.*\n",
        ">>\n",
        "><font color = 4e1585>REMINDER: The object is what is stored in the memory and not the variable that points to it. If I type ``x=5`` and then ``x=7``, I am not changing the object (``5``), but creating a new one (``7``) and telling Python it should use the variable ``x`` to point to that new object. This is why changing ``x`` in the following example will not change ``y``:\n",
        ">\n",
        ">```python\n",
        ">x = 5\n",
        ">y = x\n",
        ">x = x+3 # This does not change the object that y points to; it changes x so\n",
        ">        # that it points to a different object (an integer object equal to 8).\n",
        ">        # Therefore, y will still point to 5.\n"
      ]
    },
    {
      "cell_type": "markdown",
      "metadata": {
        "id": "V-opQSHsLueY"
      },
      "source": [
        "But what if we wanted to **create a new object** and not just another pointer to the same object?"
      ]
    },
    {
      "cell_type": "code",
      "execution_count": null,
      "metadata": {
        "colab": {
          "base_uri": "https://localhost:8080/"
        },
        "id": "O0oF5MKO9bix",
        "outputId": "aeccc7e9-ae90-49d4-83ae-a321203ff931"
      },
      "outputs": [
        {
          "name": "stdout",
          "output_type": "stream",
          "text": [
            "[1, 2, 3, 4]\n",
            "[1, 2, 3]\n"
          ]
        }
      ],
      "source": [
        "import copy             # We have to use the copy module\n",
        "\n",
        "L1 = [1, 2, 3]\n",
        "L2 = copy.deepcopy(L1)  # Make a \"deep\" copy of L1\n",
        "\n",
        "L1.append(4)            # Append an element to L1\n",
        "print(L1)               # L1 has now 4 elements...\n",
        "print(L2)               # ...and L2 still has 3"
      ]
    },
    {
      "cell_type": "code",
      "execution_count": null,
      "metadata": {
        "colab": {
          "base_uri": "https://localhost:8080/"
        },
        "id": "1-42wRFkKuOh",
        "outputId": "153d2688-15ee-42cf-8353-fc74ad0cb16c"
      },
      "outputs": [
        {
          "name": "stdout",
          "output_type": "stream",
          "text": [
            "[1, 2, 3, 4]\n",
            "[1, 2, 3]\n"
          ]
        }
      ],
      "source": [
        "# Another (pragmatic) way to do this would be:\n",
        "L1 = [1, 2, 3]\n",
        "L2 = L1*1               # Make a copy by multiplying by 1\n",
        "\n",
        "L1.append(4)            # Append an element to L1\n",
        "print(L1)               # L1 has now 4 elements...\n",
        "print(L2)               # ...and L2 still has 3"
      ]
    },
    {
      "cell_type": "markdown",
      "metadata": {
        "id": "wAT3wlhn-esB"
      },
      "source": [
        "For more information on copies see here: https://www.programiz.com/python-programming/shallow-deep-copy"
      ]
    },
    {
      "cell_type": "markdown",
      "metadata": {
        "id": "uDKwVIPNSDbD"
      },
      "source": [
        "## If you feel overwhelmed\n",
        "\n",
        "Here are some suggestions in case you want to repeat today's topics at your own pace:\n",
        "\n",
        "* Simple data types and operators: https://www.youtube.com/watch?v=1QDvkkdyGw0 (30 min)\n",
        "* Data structures:\n",
        "  - Lists, tuples and sets: https://www.youtube.com/watch?v=NqacT1CjkmQ (29\n",
        "min)\n",
        "  - Dictionaries: https://www.youtube.com/watch?v=daefaLgNkw0 (10 min)\n"
      ]
    },
    {
      "cell_type": "markdown",
      "metadata": {
        "id": "aQup9mAgQ1Ch"
      },
      "source": [
        "## Next week\n",
        "\n",
        "The next tutorial is about \"Control Flow\", i.e. about \"conditions\", \"loops\" etc.. If you already want to prepare a little, the following videos are recommended:\n",
        "  * If...else conditions: https://www.youtube.com/watch?v=DZwmZ8Usvnk&list=PL-osiE80TeTskrapNbzXhwoFUiLCjGgY7&index=6 (16 min)\n",
        "  * For and while loops: https://www.youtube.com/watch?v=6iF8Xb7Z3wQ (10 min)\n",
        "  * List (set & dict) comprehensions: https://www.youtube.com/watch?v=3dt4OGnU5sM (18 min)\n",
        "\n",
        "If you prefer to learn with text rather than videos, you can read up a bit on the relevant topics here: https://www.w3schools.com/python/python_intro.asp (If...else, while loops, for loops, list comprehensions (under ``lists``))\n",
        "\n"
      ]
    }
  ],
  "metadata": {
    "colab": {
      "provenance": []
    },
    "kernelspec": {
      "display_name": "Python 3",
      "name": "python3"
    },
    "language_info": {
      "codemirror_mode": {
        "name": "ipython",
        "version": 3
      },
      "file_extension": ".py",
      "mimetype": "text/x-python",
      "name": "python",
      "nbconvert_exporter": "python",
      "pygments_lexer": "ipython3",
      "version": "3.10.6"
    }
  },
  "nbformat": 4,
  "nbformat_minor": 0
}
