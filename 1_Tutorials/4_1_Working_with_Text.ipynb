{
 "cells": [
  {
   "cell_type": "markdown",
   "metadata": {
    "id": "Gwwx6YFTV9Vt"
   },
   "source": [
    "*Part 4: Working with Text Data*\n",
    "#String methods and regular expressions#"
   ]
  },
  {
   "cell_type": "markdown",
   "metadata": {
    "id": "oZsfDDgct5f6"
   },
   "source": [
    "In the last part of the tutorial we learned how to gather data in the internet. The data we retrieved was mainly **text data**. In the last part of the tutorial we will thus take a look at how we can work with text data. This week, we will get to know different **string methods** and learn how to match more complex text patterns using **regular expressions**."
   ]
  },
  {
   "cell_type": "markdown",
   "metadata": {
    "id": "xO8u0Dc3vR2g"
   },
   "source": [
    "## Getting help"
   ]
  },
  {
   "cell_type": "markdown",
   "metadata": {
    "id": "ZZf0ekoNuKwn"
   },
   "source": [
    "We are selective in this tutorial and only discuss elements that we believe are most important for the purpose of this class. If you want more details, you can consult, for example, the **Python Standard Library Reference** at https://docs.python.org/3/library/ or the **Language Reference** at https://docs.python.org/3/reference/. But be warned: the amount of detail in these sources can be overwhelming. For **quick and easy-to-understand overviews** of different topics see, for example, https://www.w3schools.com/python/. Here are some specific references for today's tutorial:\n",
    "\n",
    "String methods:\n",
    "* https://www.w3schools.com/python/python_ref_string.asp\n",
    "* In pandas: https://pandas.pydata.org/docs/user_guide/text.html\n",
    "\n",
    "Regular Expressions:\n",
    "* https://en.wikipedia.org/wiki/Regular_expression\n",
    "* https://www.w3schools.com/python/python_regex.asp\n",
    "* https://www.programiz.com/python-programming/regex\n",
    "\n",
    "\n",
    "If you get stuck or don't remember how to do something, it is usually a good idea to **Google** your problem. Python has a large (and fast-growing) community and you will probably find answers to most of your questions online (e.g. on **Stack Overflow** or in a **Youtube tutorial**)."
   ]
  },
  {
   "cell_type": "markdown",
   "metadata": {
    "id": "QH5Y7idFwtAj"
   },
   "source": [
    "## Introduction"
   ]
  },
  {
   "cell_type": "markdown",
   "metadata": {
    "id": "_jvFdbFPwv8j"
   },
   "source": [
    "Suppose you would like to analyze the contents of some Wikipedia articles you retrieved. For example, you would like to know what words are most commonly used in different articles or whether the articles are positvely or negatively framed. How could you do this? You may remember that the text data we retrieved in the last tutorial still looked a bit messy. A paragraph may, for example, look like this:\n",
    "\n",
    "```\n",
    "The cat (Felis catus) is a domestic species of small carnivorous mammal.[1][2] It is the only domesticated species in the family Felidae and is often referred to as the domestic cat to distinguish it from the wild members of the family.[4]\n",
    "```\n",
    "\n",
    "If we want to do text analysis, we must first clean things up a little bit. For example, we may want to lower-case all the letters, remove the punctuation, get rid of the citations etc. We may also be interested in certain parts of the text and want to retrieve them. In this tutorial, you will get to know string methods and regular expressions, so that you can do these things conveniently.\n",
    "\n"
   ]
  },
  {
   "cell_type": "markdown",
   "metadata": {
    "id": "-tzfZnMXWHSe"
   },
   "source": [
    "## String methods"
   ]
  },
  {
   "cell_type": "markdown",
   "metadata": {
    "id": "qFOROk9l9y8S"
   },
   "source": [
    "### Built-in string methods"
   ]
  },
  {
   "cell_type": "markdown",
   "metadata": {
    "id": "9t-3NW37wPpI"
   },
   "source": [
    "In previous tutorials, we already got to know some string methods:"
   ]
  },
  {
   "cell_type": "code",
   "execution_count": 1,
   "metadata": {
    "id": "dS27WiKj0Gm7"
   },
   "outputs": [],
   "source": [
    "myString = \"this is a String!\""
   ]
  },
  {
   "cell_type": "code",
   "execution_count": 2,
   "metadata": {
    "id": "9gOIyw2I0Myh"
   },
   "outputs": [
    {
     "data": {
      "text/plain": [
       "'this is a string!'"
      ]
     },
     "execution_count": 2,
     "metadata": {},
     "output_type": "execute_result"
    }
   ],
   "source": [
    "myString.lower() # lower-case all the letters"
   ]
  },
  {
   "cell_type": "code",
   "execution_count": 3,
   "metadata": {
    "id": "sIC6xPWK0VIg"
   },
   "outputs": [
    {
     "data": {
      "text/plain": [
       "'THIS IS A STRING!'"
      ]
     },
     "execution_count": 3,
     "metadata": {},
     "output_type": "execute_result"
    }
   ],
   "source": [
    "myString.upper() # upper-case all the letters"
   ]
  },
  {
   "cell_type": "code",
   "execution_count": 4,
   "metadata": {
    "id": "LSfi4PB10ow4"
   },
   "outputs": [
    {
     "data": {
      "text/plain": [
       "'This is a string!'"
      ]
     },
     "execution_count": 4,
     "metadata": {},
     "output_type": "execute_result"
    }
   ],
   "source": [
    "myString.capitalize() # Make first letter upper-case (and everything else lower-case)"
   ]
  },
  {
   "cell_type": "markdown",
   "metadata": {
    "id": "Lhk7e0ctjy9s"
   },
   "source": [
    "><font color = ffffff> SIDENOTE: The `title()` method is like `capitalize()`, but it capitalizes each word.\n",
    ">\n",
    ">```python\n",
    "myString.title() # Will return 'This Is A String!'\n",
    "```"
   ]
  },
  {
   "cell_type": "code",
   "execution_count": 5,
   "metadata": {
    "id": "M_TMHWp90bRn"
   },
   "outputs": [
    {
     "data": {
      "text/plain": [
       "'thiis iis a Striing!'"
      ]
     },
     "execution_count": 5,
     "metadata": {},
     "output_type": "execute_result"
    }
   ],
   "source": [
    "myString.replace(\"i\", \"ii\") # replace parts of a string"
   ]
  },
  {
   "cell_type": "code",
   "execution_count": 6,
   "metadata": {
    "id": "ckAFJtOw5Tib"
   },
   "outputs": [
    {
     "data": {
      "text/plain": [
       "10"
      ]
     },
     "execution_count": 6,
     "metadata": {},
     "output_type": "execute_result"
    }
   ],
   "source": [
    "myString.index(\"String\") # Find position of a specified substring"
   ]
  },
  {
   "cell_type": "code",
   "execution_count": 7,
   "metadata": {
    "id": "eIkw8zHu-zT_"
   },
   "outputs": [
    {
     "data": {
      "text/plain": [
       "['this', 'is', 'a', 'String!']"
      ]
     },
     "execution_count": 7,
     "metadata": {},
     "output_type": "execute_result"
    }
   ],
   "source": [
    "myString.split() # Tokenize a string (split the string into a list of words)"
   ]
  },
  {
   "cell_type": "markdown",
   "metadata": {
    "id": "KTjnxrH0hcUS"
   },
   "source": [
    "><font color = ffffff> SIDENOTE: By default, `split()` uses spaces as separators. You can also use a custom separator.\n",
    ">\n",
    ">```python\n",
    "\"A,B,C,D\".split(\",\") # Will create list ['A', 'B', 'C', 'D']\n",
    "```\n",
    "><font color = 4e1585>You can use the ``join()`` method to do the reverse of `split()`, i.e. to join all elements of a list into a string.\n",
    ">\n",
    ">```python\n",
    "\" \".join(['this', 'is', 'a', 'String!']) # Join with a space as separator\n",
    "```"
   ]
  },
  {
   "cell_type": "markdown",
   "metadata": {
    "id": "gtckakPo2QkP"
   },
   "source": [
    "Python has quite a few additional built-in string methods you can use (see here: https://www.w3schools.com/python/python_ref_string.asp). Let's look at some of them:"
   ]
  },
  {
   "cell_type": "code",
   "execution_count": 8,
   "metadata": {
    "id": "H_imIznN3E9c"
   },
   "outputs": [
    {
     "data": {
      "text/plain": [
       "False"
      ]
     },
     "execution_count": 8,
     "metadata": {},
     "output_type": "execute_result"
    }
   ],
   "source": [
    "myString.startswith(\"Hello\") # Check if string starts with a specified value"
   ]
  },
  {
   "cell_type": "code",
   "execution_count": 9,
   "metadata": {
    "id": "hkamgWfJ5XKb"
   },
   "outputs": [
    {
     "data": {
      "text/plain": [
       "True"
      ]
     },
     "execution_count": 9,
     "metadata": {},
     "output_type": "execute_result"
    }
   ],
   "source": [
    "myString.endswith(\"!\") # Check if string ends with a specified value"
   ]
  },
  {
   "cell_type": "markdown",
   "metadata": {
    "id": "wuNclNkAH3nq"
   },
   "source": [
    "><font color = ffffff> SIDENOTE: There is no ``contains`` string method. If you want to check if a string contains a certain substring, use the ``in`` operator:\n",
    ">\n",
    ">```python\n",
    "\"this\" in myString\n",
    "```"
   ]
  },
  {
   "cell_type": "code",
   "execution_count": 10,
   "metadata": {
    "id": "s05gNAyN3U8h"
   },
   "outputs": [
    {
     "data": {
      "text/plain": [
       "'this is a badly formatted string   '"
      ]
     },
     "execution_count": 10,
     "metadata": {},
     "output_type": "execute_result"
    }
   ],
   "source": [
    "myString2 = \"     this is a badly formatted string   \"\n",
    "myString2.lstrip() # remove spaces on the left"
   ]
  },
  {
   "cell_type": "code",
   "execution_count": 11,
   "metadata": {
    "id": "4SBSJa5Q3ew-"
   },
   "outputs": [
    {
     "data": {
      "text/plain": [
       "'     this is a badly formatted string'"
      ]
     },
     "execution_count": 11,
     "metadata": {},
     "output_type": "execute_result"
    }
   ],
   "source": [
    "myString2.rstrip() # remove spaces on the right"
   ]
  },
  {
   "cell_type": "code",
   "execution_count": 12,
   "metadata": {
    "id": "XCHn3Pv23jAV"
   },
   "outputs": [
    {
     "data": {
      "text/plain": [
       "'this is a badly formatted string'"
      ]
     },
     "execution_count": 12,
     "metadata": {},
     "output_type": "execute_result"
    }
   ],
   "source": [
    "myString2.strip() # remove spaces on both sides"
   ]
  },
  {
   "cell_type": "markdown",
   "metadata": {
    "id": "3qdETEa18duJ"
   },
   "source": [
    "If the output of a string method is another string, you can also chain several string methods:"
   ]
  },
  {
   "cell_type": "code",
   "execution_count": null,
   "metadata": {},
   "outputs": [],
   "source": []
  },
  {
   "cell_type": "code",
   "execution_count": 13,
   "metadata": {
    "id": "P9lNkf7A8T9y"
   },
   "outputs": [
    {
     "data": {
      "text/plain": [
       "'This is a nicely formatted string'"
      ]
     },
     "execution_count": 13,
     "metadata": {},
     "output_type": "execute_result"
    }
   ],
   "source": [
    "myString2.strip().capitalize().replace(\"badly\", \"nicely\")"
   ]
  },
  {
   "cell_type": "markdown",
   "metadata": {
    "id": "J8t7wBZt9KJM"
   },
   "source": [
    "Remember that string methods do not change your object . They only return an output. If you want to change your original string, you have to assign this output to your string (i.e. overwrite it with the new value):"
   ]
  },
  {
   "cell_type": "code",
   "execution_count": null,
   "metadata": {
    "id": "uQNjVPlK9k1j"
   },
   "outputs": [],
   "source": [
    "myString2"
   ]
  },
  {
   "cell_type": "code",
   "execution_count": 21,
   "metadata": {
    "id": "7_-p8e7e9jay"
   },
   "outputs": [
    {
     "data": {
      "text/plain": [
       "'This is a nicely formatted string'"
      ]
     },
     "execution_count": 21,
     "metadata": {},
     "output_type": "execute_result"
    }
   ],
   "source": [
    "myString2 = myString2.strip().capitalize().replace(\"badly\", \"nicely\")\n",
    "myString2"
   ]
  },
  {
   "cell_type": "markdown",
   "metadata": {
    "id": "3lH2GT_x92D6"
   },
   "source": [
    "### String methods in pandas"
   ]
  },
  {
   "cell_type": "markdown",
   "metadata": {
    "id": "m4w5Yem25mgp"
   },
   "source": [
    "In many cases you will not be working with a single string but with **many strings**. For example, you may have built a **Pandas** dataframe with a string for each observation. For example, your data could look as follows:"
   ]
  },
  {
   "cell_type": "code",
   "execution_count": 16,
   "metadata": {
    "id": "br0jr0tl616f"
   },
   "outputs": [
    {
     "data": {
      "text/html": [
       "<div>\n",
       "<style scoped>\n",
       "    .dataframe tbody tr th:only-of-type {\n",
       "        vertical-align: middle;\n",
       "    }\n",
       "\n",
       "    .dataframe tbody tr th {\n",
       "        vertical-align: top;\n",
       "    }\n",
       "\n",
       "    .dataframe thead th {\n",
       "        text-align: right;\n",
       "    }\n",
       "</style>\n",
       "<table border=\"1\" class=\"dataframe\">\n",
       "  <thead>\n",
       "    <tr style=\"text-align: right;\">\n",
       "      <th></th>\n",
       "      <th>description</th>\n",
       "    </tr>\n",
       "  </thead>\n",
       "  <tbody>\n",
       "    <tr>\n",
       "      <th>Felicette</th>\n",
       "      <td>First cat launched into space</td>\n",
       "    </tr>\n",
       "    <tr>\n",
       "      <th>India Willie Bush</th>\n",
       "      <td>US President George W. Bush's cat, 19 years old</td>\n",
       "    </tr>\n",
       "    <tr>\n",
       "      <th>Meow</th>\n",
       "      <td>the world's heaviest cat, died at 22</td>\n",
       "    </tr>\n",
       "    <tr>\n",
       "      <th>Creme Puff</th>\n",
       "      <td>The world's oldest cat (38 years)</td>\n",
       "    </tr>\n",
       "  </tbody>\n",
       "</table>\n",
       "</div>"
      ],
      "text/plain": [
       "                                                       description\n",
       "Felicette                            First cat launched into space\n",
       "India Willie Bush  US President George W. Bush's cat, 19 years old\n",
       "Meow                          the world's heaviest cat, died at 22\n",
       "Creme Puff                       The world's oldest cat (38 years)"
      ]
     },
     "execution_count": 16,
     "metadata": {},
     "output_type": "execute_result"
    }
   ],
   "source": [
    "import pandas as pd\n",
    "\n",
    "df = pd.DataFrame([\"First cat launched into space\",\n",
    "                   \"US President George W. Bush's cat, 19 years old\",\n",
    "                   \"the world's heaviest cat, died at 22\",\n",
    "                   \"The world's oldest cat (38 years)\"],\n",
    "                  index = [\"Felicette\",  \"India Willie Bush\", \"Meow\", \"Creme Puff\"],\n",
    "                  columns=[\"description\"])\n",
    "df"
   ]
  },
  {
   "cell_type": "markdown",
   "metadata": {
    "id": "sqtagedY8F-L"
   },
   "source": [
    "How can we apply a string method to every description? You may remember that we could use the **`apply()` method**. Let's use it to lower-case all the letters:"
   ]
  },
  {
   "cell_type": "code",
   "execution_count": 22,
   "metadata": {
    "id": "nGMUYts16a9v"
   },
   "outputs": [
    {
     "data": {
      "text/plain": [
       "Felicette                              first cat launched into space\n",
       "India Willie Bush    us president george w. bush's cat, 19 years old\n",
       "Meow                            the world's heaviest cat, died at 22\n",
       "Creme Puff                         the world's oldest cat (38 years)\n",
       "Name: description, dtype: object"
      ]
     },
     "execution_count": 22,
     "metadata": {},
     "output_type": "execute_result"
    }
   ],
   "source": [
    "df[\"description\"].apply(lambda x: x.lower())"
   ]
  },
  {
   "cell_type": "markdown",
   "metadata": {
    "id": "iuBYkJHG-T7Y"
   },
   "source": [
    "Hoever, there is an easier way to do this. All **string methods** are nicely **built into the Pandas library** so you can apply them more conveniently:"
   ]
  },
  {
   "cell_type": "code",
   "execution_count": 23,
   "metadata": {
    "id": "dnPozwLv_Fqr"
   },
   "outputs": [
    {
     "data": {
      "text/plain": [
       "Felicette                              first cat launched into space\n",
       "India Willie Bush    us president george w. bush's cat, 19 years old\n",
       "Meow                            the world's heaviest cat, died at 22\n",
       "Creme Puff                         the world's oldest cat (38 years)\n",
       "Name: description, dtype: object"
      ]
     },
     "execution_count": 23,
     "metadata": {},
     "output_type": "execute_result"
    }
   ],
   "source": [
    "df[\"description\"].str.lower()"
   ]
  },
  {
   "cell_type": "markdown",
   "metadata": {
    "id": "nKtV32v2_TYZ"
   },
   "source": [
    "As you can see, you just write ``.str`` to indicate that you would like to apply a string method and then add the method you want to use! This works for all the other string methods too:"
   ]
  },
  {
   "cell_type": "code",
   "execution_count": 24,
   "metadata": {
    "id": "-0w_0odW_7z1"
   },
   "outputs": [
    {
     "data": {
      "text/plain": [
       "Felicette                              First cat launched into space\n",
       "India Willie Bush    Us president george w. bush's cat, 19 years old\n",
       "Meow                            The world's heaviest cat, died at 22\n",
       "Creme Puff                         The world's oldest cat (38 years)\n",
       "Name: description, dtype: object"
      ]
     },
     "execution_count": 24,
     "metadata": {},
     "output_type": "execute_result"
    }
   ],
   "source": [
    "df[\"description\"].str.capitalize()"
   ]
  },
  {
   "cell_type": "code",
   "execution_count": 25,
   "metadata": {
    "id": "3_mFgtws_sJK"
   },
   "outputs": [
    {
     "data": {
      "text/plain": [
       "Felicette                             First cat launched into space\n",
       "India Willie Bush    US President George W. Bushs cat, 19 years old\n",
       "Meow                            the worlds heaviest cat, died at 22\n",
       "Creme Puff                         The worlds oldest cat (38 years)\n",
       "Name: description, dtype: object"
      ]
     },
     "execution_count": 25,
     "metadata": {},
     "output_type": "execute_result"
    }
   ],
   "source": [
    "df[\"description\"].str.replace(\"'\", \"\")"
   ]
  },
  {
   "cell_type": "markdown",
   "metadata": {
    "id": "27MfBXraA1K3"
   },
   "source": [
    "Note that again your object is not modified. Re-assign it to modify the column in your DataFrame:"
   ]
  },
  {
   "cell_type": "code",
   "execution_count": 26,
   "metadata": {
    "id": "DT1C8u6EBFR8"
   },
   "outputs": [
    {
     "data": {
      "text/html": [
       "<div>\n",
       "<style scoped>\n",
       "    .dataframe tbody tr th:only-of-type {\n",
       "        vertical-align: middle;\n",
       "    }\n",
       "\n",
       "    .dataframe tbody tr th {\n",
       "        vertical-align: top;\n",
       "    }\n",
       "\n",
       "    .dataframe thead th {\n",
       "        text-align: right;\n",
       "    }\n",
       "</style>\n",
       "<table border=\"1\" class=\"dataframe\">\n",
       "  <thead>\n",
       "    <tr style=\"text-align: right;\">\n",
       "      <th></th>\n",
       "      <th>description</th>\n",
       "    </tr>\n",
       "  </thead>\n",
       "  <tbody>\n",
       "    <tr>\n",
       "      <th>Felicette</th>\n",
       "      <td>First cat launched into space</td>\n",
       "    </tr>\n",
       "    <tr>\n",
       "      <th>India Willie Bush</th>\n",
       "      <td>Us president george w. bushs cat, 19 years old</td>\n",
       "    </tr>\n",
       "    <tr>\n",
       "      <th>Meow</th>\n",
       "      <td>The worlds heaviest cat, died at 22</td>\n",
       "    </tr>\n",
       "    <tr>\n",
       "      <th>Creme Puff</th>\n",
       "      <td>The worlds oldest cat (38 years)</td>\n",
       "    </tr>\n",
       "  </tbody>\n",
       "</table>\n",
       "</div>"
      ],
      "text/plain": [
       "                                                      description\n",
       "Felicette                           First cat launched into space\n",
       "India Willie Bush  Us president george w. bushs cat, 19 years old\n",
       "Meow                          The worlds heaviest cat, died at 22\n",
       "Creme Puff                       The worlds oldest cat (38 years)"
      ]
     },
     "execution_count": 26,
     "metadata": {},
     "output_type": "execute_result"
    }
   ],
   "source": [
    "df[\"description\"] = df[\"description\"].str.replace(\"'\", \"\").str.capitalize()\n",
    "df"
   ]
  },
  {
   "cell_type": "markdown",
   "metadata": {
    "id": "k7ajCoLsAEPN"
   },
   "source": [
    "---\n",
    "\n",
    ">  <font color='teal'> **In-class exercise**: Clean the following string so that it looks nice."
   ]
  },
  {
   "cell_type": "code",
   "execution_count": 27,
   "metadata": {
    "id": "VA4IkeP9AEr-"
   },
   "outputs": [],
   "source": [
    "aString = \"   tHis is a %s %s teRrible StrInG %s \""
   ]
  },
  {
   "cell_type": "code",
   "execution_count": 41,
   "metadata": {
    "id": "J6VhG-3BteKR"
   },
   "outputs": [
    {
     "data": {
      "text/plain": [
       "'This is a terrible string'"
      ]
     },
     "execution_count": 41,
     "metadata": {},
     "output_type": "execute_result"
    }
   ],
   "source": [
    "aString.replace(\" %s\", \"\").strip().capitalize()"
   ]
  },
  {
   "cell_type": "markdown",
   "metadata": {
    "id": "IMLCR2Ae0GDr"
   },
   "source": [
    ">  <font color='teal'> Print the description about the cats in ``df`` in upper case!\n",
    "\n"
   ]
  },
  {
   "cell_type": "code",
   "execution_count": 39,
   "metadata": {
    "id": "8bFCl6Ys16PQ"
   },
   "outputs": [
    {
     "data": {
      "text/plain": [
       "Felicette                             FIRST CAT LAUNCHED INTO SPACE\n",
       "India Willie Bush    US PRESIDENT GEORGE W. BUSHS CAT, 19 YEARS OLD\n",
       "Meow                            THE WORLDS HEAVIEST CAT, DIED AT 22\n",
       "Creme Puff                         THE WORLDS OLDEST CAT (38 YEARS)\n",
       "Name: description, dtype: object"
      ]
     },
     "execution_count": 39,
     "metadata": {},
     "output_type": "execute_result"
    }
   ],
   "source": [
    "df[\"description\"].str.upper()"
   ]
  },
  {
   "cell_type": "markdown",
   "metadata": {
    "id": "7i_4S7HhNHvj"
   },
   "source": [
    "\n",
    "\n",
    "---\n",
    "\n"
   ]
  },
  {
   "cell_type": "markdown",
   "metadata": {
    "id": "emGTSzL_vdwL"
   },
   "source": [
    "## Regular expressions"
   ]
  },
  {
   "cell_type": "markdown",
   "metadata": {
    "id": "sEM_np5JCHlI"
   },
   "source": [
    "String methods can be very useful, but sometimes you may have to match (and extract or replace) more complex patterns in text. For example, you may want to remove all the HTML tags from a text, extract all email addresses or do complicated replacements. To do such things, we can use so-called **regular expressions** (also called regexes). Regular expressions allow you to **match text based on certain patterns**. They are not specific to Python, but are implemented in many programming languages. Regular expressions are very powerful and can get quite complicated. In this tutorial we will only get to know the basics, but feel free to explore the more advanced possibilities they offer:\n",
    "* https://realpython.com/regex-python/"
   ]
  },
  {
   "cell_type": "markdown",
   "metadata": {
    "id": "m9stO_zsGK_6"
   },
   "source": [
    "In Python, we can use the **``re`` module** to work with regular expressions:"
   ]
  },
  {
   "cell_type": "code",
   "execution_count": 42,
   "metadata": {
    "id": "IHnFKqedGn86"
   },
   "outputs": [],
   "source": [
    "import re"
   ]
  },
  {
   "cell_type": "markdown",
   "metadata": {
    "id": "s736Ga7tH68_"
   },
   "source": [
    "One very useful method of ``re`` module is **``findall``**.  Let's see how it works:"
   ]
  },
  {
   "cell_type": "code",
   "execution_count": 43,
   "metadata": {
    "id": "cAU5zJK7H71H"
   },
   "outputs": [],
   "source": [
    "myStr = \"I have 7 cats. The name of my favorite cat is Sarah! She is 14 years old.\""
   ]
  },
  {
   "cell_type": "code",
   "execution_count": 46,
   "metadata": {
    "id": "d8Y2O3oOGzsg"
   },
   "outputs": [
    {
     "data": {
      "text/plain": [
       "['cat', 'cat']"
      ]
     },
     "execution_count": 46,
     "metadata": {},
     "output_type": "execute_result"
    }
   ],
   "source": [
    "re.findall(\"cat\", myStr)"
   ]
  },
  {
   "cell_type": "markdown",
   "metadata": {
    "id": "8Hi84Jqjv9Aj"
   },
   "source": [
    "The method takes two mandatory arguments: The first argument is the search pattern (i.e. the regular expression) and the second argument is the string where you want to search for it. As you can see, the findall method returns a list with all the matches.\n",
    "\n",
    "In this example, we searched our string for the word \"cat\" and got two matches. Searching for exact matches may not be very useful and we do not need the ``re`` moduel to do it. The power of regexes lies in its **special sequences** and **metacharacters** that allow you to define very sophisticated search patterns."
   ]
  },
  {
   "cell_type": "markdown",
   "metadata": {
    "id": "RmRwZ03_0Sa1"
   },
   "source": [
    "#### Raw strings"
   ]
  },
  {
   "cell_type": "markdown",
   "metadata": {
    "id": "GqN43odJ0ei_"
   },
   "source": [
    "Before we can get started with them, there is one more concept you need to know: **raw strings**. Consider the following example:"
   ]
  },
  {
   "cell_type": "code",
   "execution_count": 47,
   "metadata": {
    "id": "6zm_YsZfurWW"
   },
   "outputs": [
    {
     "name": "stdout",
     "output_type": "stream",
     "text": [
      "\"\\c\\d\\e\f\n",
      "\\s\t\u000b\\w\n"
     ]
    }
   ],
   "source": [
    "mystr = \"\\\"\\a\\b\\c\\d\\e\\f\\n\\o\\p\\q\\r\\s\\t\\v\\w\"\n",
    "print(mystr)"
   ]
  },
  {
   "cell_type": "markdown",
   "metadata": {
    "id": "RDuYv20DvVoa"
   },
   "source": [
    "What happened? The backslash has a special meaning for the Python interpreter. It can be used to **escape** the next character, meaning that a special character (e.g. ``\"``) will be treated like a normal character. Moreover, in combination with other characters (e.g. ``n`` and ``t``) it will create special types of blanks such as new lines or tabs.\n",
    "\n",
    "But what if we do not want this to happen? We can use **raw strings**. This is done by placing an ``r`` in front of the string."
   ]
  },
  {
   "cell_type": "code",
   "execution_count": 48,
   "metadata": {
    "id": "6J8Op-VswfCi"
   },
   "outputs": [
    {
     "name": "stdout",
     "output_type": "stream",
     "text": [
      "\\\"\\a\\b\\c\\d\\e\\f\\n\\o\\p\\q\\r\\s\\t\\v\\w\n"
     ]
    }
   ],
   "source": [
    "mystr = r\"\\\"\\a\\b\\c\\d\\e\\f\\n\\o\\p\\q\\r\\s\\t\\v\\w\"\n",
    "print(mystr)"
   ]
  },
  {
   "cell_type": "markdown",
   "metadata": {
    "id": "PL9PAqXZz_nx"
   },
   "source": [
    "In a raw string, backslashes are treated like normal characters. This will be important for the definition of regexes."
   ]
  },
  {
   "cell_type": "markdown",
   "metadata": {
    "id": "FTRzFFGMyCkF"
   },
   "source": [
    "### Matching special sequences"
   ]
  },
  {
   "cell_type": "markdown",
   "metadata": {
    "id": "w2pxGSFzqEGc"
   },
   "source": [
    "Regular expressions are defined using special sequences and meta-characters. Here are some examples for **special sequences**:\n",
    "\n",
    "|Character| Meaning| Example|\n",
    "|-|-|-|\n",
    "|\\w|word character (a-z, A-Z, 0-9, _)||\n",
    "|\\W|not a word character||\n",
    "|\\d|digit (0-9)||\n",
    "|\\D|not a digit||\n",
    "|\\s|whitespace||\n",
    "|\\S|not a whitespace||\n",
    "|\\b|word boundary||\n",
    "|\\B|not a word boundary||\n"
   ]
  },
  {
   "cell_type": "markdown",
   "metadata": {
    "id": "QRkwX6aPyYfL"
   },
   "source": [
    "How can we use them? Suppose you would like to retrieve all the numbers from ``myStr``:"
   ]
  },
  {
   "cell_type": "code",
   "execution_count": 49,
   "metadata": {
    "id": "bj-xSTS_1X-7"
   },
   "outputs": [],
   "source": [
    "myStr = \"I have 7 cats. The name of my favorite cat is Sarah! She is 14 years old.\""
   ]
  },
  {
   "cell_type": "code",
   "execution_count": 50,
   "metadata": {
    "id": "gd51e9jDyti5"
   },
   "outputs": [
    {
     "data": {
      "text/plain": [
       "['7', '1', '4']"
      ]
     },
     "execution_count": 50,
     "metadata": {},
     "output_type": "execute_result"
    }
   ],
   "source": [
    "re.findall(\"\\d\", myStr) # match all digits"
   ]
  },
  {
   "cell_type": "markdown",
   "metadata": {
    "id": "5LgiDvRg4tH_"
   },
   "source": [
    "To be sure that the backslashes don't mess up your regex, it is better to use raw strings:"
   ]
  },
  {
   "cell_type": "code",
   "execution_count": 51,
   "metadata": {
    "id": "zAGPmTL35Aqy"
   },
   "outputs": [
    {
     "data": {
      "text/plain": [
       "['7', '1', '4']"
      ]
     },
     "execution_count": 51,
     "metadata": {},
     "output_type": "execute_result"
    }
   ],
   "source": [
    "re.findall(r\"\\d\", myStr) # match all digits"
   ]
  },
  {
   "cell_type": "markdown",
   "metadata": {
    "id": "CEbCQ6Po5OdI"
   },
   "source": [
    "Similarly, we can match all non-word characters:"
   ]
  },
  {
   "cell_type": "code",
   "execution_count": 55,
   "metadata": {
    "id": "N6DwGQqzzDMh"
   },
   "outputs": [
    {
     "data": {
      "text/plain": [
       "[' ',\n",
       " ' ',\n",
       " ' ',\n",
       " '.',\n",
       " ' ',\n",
       " ' ',\n",
       " ' ',\n",
       " ' ',\n",
       " ' ',\n",
       " ' ',\n",
       " ' ',\n",
       " ' ',\n",
       " '!',\n",
       " ' ',\n",
       " ' ',\n",
       " ' ',\n",
       " ' ',\n",
       " ' ',\n",
       " '.']"
      ]
     },
     "execution_count": 55,
     "metadata": {},
     "output_type": "execute_result"
    }
   ],
   "source": [
    "re.findall(r\"\\W\", myStr) # match all non-word characters"
   ]
  },
  {
   "cell_type": "markdown",
   "metadata": {
    "id": "5pnhebTKzgUv"
   },
   "source": [
    "You can also match patterns consisting of several characters."
   ]
  },
  {
   "cell_type": "code",
   "execution_count": 56,
   "metadata": {
    "id": "2-lgPMwnzRoU"
   },
   "outputs": [
    {
     "data": {
      "text/plain": [
       "['14']"
      ]
     },
     "execution_count": 56,
     "metadata": {},
     "output_type": "execute_result"
    }
   ],
   "source": [
    "re.findall(r\"\\d\\d\", myStr) # two-digit numbers"
   ]
  },
  {
   "cell_type": "code",
   "execution_count": 57,
   "metadata": {
    "id": "0b3H5M5fzwFL"
   },
   "outputs": [
    {
     "data": {
      "text/plain": [
       "['of', 'my', 'is', 'is', '14']"
      ]
     },
     "execution_count": 57,
     "metadata": {},
     "output_type": "execute_result"
    }
   ],
   "source": [
    "re.findall(r\"\\b\\w\\w\\b\", myStr) # All words consisting of two letters"
   ]
  },
  {
   "cell_type": "code",
   "execution_count": 59,
   "metadata": {
    "id": "D1pyvhFm1jPJ"
   },
   "outputs": [
    {
     "data": {
      "text/plain": [
       "['The', 'She']"
      ]
     },
     "execution_count": 59,
     "metadata": {},
     "output_type": "execute_result"
    }
   ],
   "source": [
    "re.findall(r\"\\b\\w\\we\\b\", myStr) # All three-letter words ending with e"
   ]
  },
  {
   "cell_type": "markdown",
   "metadata": {
    "id": "nmypNzoJoAvD"
   },
   "source": [
    "### Using meta-characters\n",
    "\n",
    "Let's now have a look at the most important metacharacters:\n",
    "\n",
    "|Character| Meaning| Example|\n",
    "|-|-|-|\n",
    "|.|any character|\"h.\"|\n",
    "|[]|Set of characters|\"[a-z]\"|\n",
    "|^|starts with (within sets: NOT)|\"^\\w\"|\n",
    "|$|ends with|\"!\\$\"|\n",
    "|+|One or more repetitions|\"[a-z]+\"|\n",
    "|*|Zero or more repetitions|\"a\\w*\\b\"|\n",
    "|?|Zero or one repetition|\"a\\w?\\b\"|\n",
    "|{}|Specified number of repetitions|\"[aeiou]{2}\"|\n",
    "|()|Group|\"\\s(\\d+)\\s\"|\n"
   ]
  },
  {
   "cell_type": "markdown",
   "metadata": {
    "id": "WFc9lU0OuOPd"
   },
   "source": [
    "####Matching different types of characters"
   ]
  },
  {
   "cell_type": "markdown",
   "metadata": {
    "id": "ROCklA1v2SBc"
   },
   "source": [
    "Some of the metacharcaters can be used to match specific characters. For example, you can use the ``.`` to match any character:"
   ]
  },
  {
   "cell_type": "code",
   "execution_count": 60,
   "metadata": {
    "id": "dSa7EAqEsF3w"
   },
   "outputs": [
    {
     "name": "stdout",
     "output_type": "stream",
     "text": [
      "['I', ' ', 'h', 'a', 'v', 'e', ' ', '7', ' ', 'c', 'a', 't', 's', '.', ' ', 'T', 'h', 'e', ' ', 'n', 'a', 'm', 'e', ' ', 'o', 'f', ' ', 'm', 'y', ' ', 'f', 'a', 'v', 'o', 'r', 'i', 't', 'e', ' ', 'c', 'a', 't', ' ', 'i', 's', ' ', 'S', 'a', 'r', 'a', 'h', '!', ' ', 'S', 'h', 'e', ' ', 'i', 's', ' ', '1', '4', ' ', 'y', 'e', 'a', 'r', 's', ' ', 'o', 'l', 'd', '.']\n"
     ]
    }
   ],
   "source": [
    "print(re.findall(\".\", myStr)) # any character"
   ]
  },
  {
   "cell_type": "code",
   "execution_count": 61,
   "metadata": {
    "id": "ZhNeBXf019VK"
   },
   "outputs": [
    {
     "name": "stdout",
     "output_type": "stream",
     "text": [
      "['av', 'at', 'am', 'av', 'at', 'ar', 'ah', 'ar']\n"
     ]
    }
   ],
   "source": [
    "print(re.findall(\"a.\", myStr)) # an a followed by any character"
   ]
  },
  {
   "cell_type": "markdown",
   "metadata": {
    "id": "7kMz2rbH17Tq"
   },
   "source": [
    "A very useful thing you can include in regular expressions are **sets**. You can use them to specify an exact set of characters you would like to match. This is done using ``[]`` brackets:"
   ]
  },
  {
   "cell_type": "code",
   "execution_count": 65,
   "metadata": {
    "id": "LlRAeJAGq5Wn"
   },
   "outputs": [
    {
     "data": {
      "text/plain": [
       "['a', 'c', 'a', 'a', 'a', 'c', 'a', 'a', 'a', 'a']"
      ]
     },
     "execution_count": 65,
     "metadata": {},
     "output_type": "execute_result"
    }
   ],
   "source": [
    "re.findall(\"[abc]\", myStr) # Match all letters in set: a, b or c"
   ]
  },
  {
   "cell_type": "code",
   "execution_count": 63,
   "metadata": {
    "id": "3fEdKaut3txO"
   },
   "outputs": [
    {
     "data": {
      "text/plain": [
       "['ca', 'ca']"
      ]
     },
     "execution_count": 63,
     "metadata": {},
     "output_type": "execute_result"
    }
   ],
   "source": [
    "re.findall(\"[abc][abc]\", myStr) # Match when a, b or c is followed by a, b or c"
   ]
  },
  {
   "cell_type": "markdown",
   "metadata": {
    "id": "xK3WFgkWuc7d"
   },
   "source": [
    "What if you wanted to match all lower-case letters from a to z? Instead of writing ``\"[abcdefghijklmnopqrstuvwxyz]\"`` you can use the ``-`` sign to specify a range of letters (or digits):"
   ]
  },
  {
   "cell_type": "code",
   "execution_count": 66,
   "metadata": {
    "id": "nkv6qSxC36BO"
   },
   "outputs": [
    {
     "name": "stdout",
     "output_type": "stream",
     "text": [
      "['h', 'a', 'v', 'e', 'c', 'a', 't', 's', 'h', 'e', 'n', 'a', 'm', 'e', 'o', 'f', 'm', 'y', 'f', 'a', 'v', 'o', 'r', 'i', 't', 'e', 'c', 'a', 't', 'i', 's', 'a', 'r', 'a', 'h', 'h', 'e', 'i', 's', 'y', 'e', 'a', 'r', 's', 'o', 'l', 'd']\n"
     ]
    }
   ],
   "source": [
    "print(re.findall(\"[a-z]\", myStr)) # Match all lower case letters"
   ]
  },
  {
   "cell_type": "code",
   "execution_count": 67,
   "metadata": {
    "id": "8TQVT3Hj52bg"
   },
   "outputs": [
    {
     "name": "stdout",
     "output_type": "stream",
     "text": [
      "['I', 'T', 'S', 'S']\n"
     ]
    }
   ],
   "source": [
    "print(re.findall(\"[A-Z]\", myStr)) # Match all upper case letters"
   ]
  },
  {
   "cell_type": "code",
   "execution_count": 68,
   "metadata": {
    "id": "QrxHxQVF574N"
   },
   "outputs": [
    {
     "name": "stdout",
     "output_type": "stream",
     "text": [
      "['I', 'h', 'a', 'v', 'e', 'c', 'a', 't', 's', 'T', 'h', 'e', 'n', 'a', 'm', 'e', 'o', 'f', 'm', 'y', 'f', 'a', 'v', 'o', 'r', 'i', 't', 'e', 'c', 'a', 't', 'i', 's', 'S', 'a', 'r', 'a', 'h', 'S', 'h', 'e', 'i', 's', 'y', 'e', 'a', 'r', 's', 'o', 'l', 'd']\n"
     ]
    }
   ],
   "source": [
    "print(re.findall(\"[a-zA-Z]\", myStr)) # Match all lower and uppercase letters"
   ]
  },
  {
   "cell_type": "code",
   "execution_count": 69,
   "metadata": {
    "id": "miS2LCwQrrDW"
   },
   "outputs": [
    {
     "name": "stdout",
     "output_type": "stream",
     "text": [
      "[' ', ' ', '7', ' ', '.', ' ', ' ', ' ', ' ', ' ', ' ', ' ', ' ', '!', ' ', ' ', ' ', '1', '4', ' ', ' ', '.']\n"
     ]
    }
   ],
   "source": [
    "print(re.findall(\"[^a-zA-Z]\", myStr)) # Match eveything except lower and uppercase letters"
   ]
  },
  {
   "cell_type": "markdown",
   "metadata": {
    "id": "Ul6DXZd9Ad0n"
   },
   "source": [
    "If you want to anchor the search to the beginning or the and of a sting, you can use the ``^`` and the ``$``characters respectively:"
   ]
  },
  {
   "cell_type": "code",
   "execution_count": 70,
   "metadata": {
    "id": "AMB72L1jAn7C"
   },
   "outputs": [
    {
     "name": "stdout",
     "output_type": "stream",
     "text": [
      "['I']\n"
     ]
    }
   ],
   "source": [
    "print(re.findall(\"^[a-zA-Z]\", myStr)) # Note that ^ has a different meaning within\n",
    "                                      # a set (see above!)"
   ]
  },
  {
   "cell_type": "code",
   "execution_count": 73,
   "metadata": {
    "id": "r1pTsU5sBxRX"
   },
   "outputs": [
    {
     "name": "stdout",
     "output_type": "stream",
     "text": [
      "['.']\n"
     ]
    }
   ],
   "source": [
    "print(re.findall(r\"\\W$\", myStr))"
   ]
  },
  {
   "cell_type": "markdown",
   "metadata": {
    "id": "PF_wXRiuYbwN"
   },
   "source": [
    "If you want to match one of the characters that are used as meta-characters (e.g. a literal ``.``), you need to escape them:"
   ]
  },
  {
   "cell_type": "code",
   "execution_count": 74,
   "metadata": {
    "id": "71muHiQMYuQD"
   },
   "outputs": [
    {
     "name": "stdout",
     "output_type": "stream",
     "text": [
      "['.', '.']\n"
     ]
    }
   ],
   "source": [
    "print(re.findall(r\"\\.\", myStr)) # Match all ."
   ]
  },
  {
   "cell_type": "markdown",
   "metadata": {
    "id": "fhWhmyUSune0"
   },
   "source": [
    "#### Matching repetitions"
   ]
  },
  {
   "cell_type": "markdown",
   "metadata": {
    "id": "U-I_g6YOCAe7"
   },
   "source": [
    "Sometimes you may want to match a certain character (set)  several times. For example, you may want to match all words that start with the letter \"i\". Let's try to do this:"
   ]
  },
  {
   "cell_type": "code",
   "execution_count": 75,
   "metadata": {
    "id": "Jxnj1FqrR_Ul"
   },
   "outputs": [],
   "source": [
    "myStr=\"test: i in ink idea image ignore ireland\""
   ]
  },
  {
   "cell_type": "code",
   "execution_count": 76,
   "metadata": {
    "id": "eu2wjV-FSyrZ"
   },
   "outputs": [
    {
     "name": "stdout",
     "output_type": "stream",
     "text": [
      "['i']\n",
      "['in']\n",
      "['ink']\n",
      "['idea']\n"
     ]
    }
   ],
   "source": [
    "print(re.findall(r\"\\bi\\b\", myStr)) # one-letter words\n",
    "print(re.findall(r\"\\bi[a-z]\\b\", myStr)) # two-letter words\n",
    "print(re.findall(r\"\\bi[a-z][a-z]\\b\", myStr)) # three-letter words\n",
    "print(re.findall(r\"\\bi[a-z][a-z][a-z]\\b\", myStr)) # four-letter words"
   ]
  },
  {
   "cell_type": "markdown",
   "metadata": {
    "id": "AybDYwSZTIP7"
   },
   "source": [
    "This works, but it's not very convenient. Fortunately, there are different meta-characters that allow you to specify different types of repetitions.\n",
    "\n",
    "We can **use a ``+``** to match a character (or set of characters) **1 or more times**:"
   ]
  },
  {
   "cell_type": "code",
   "execution_count": 77,
   "metadata": {
    "id": "ucs3WTPpUGPb"
   },
   "outputs": [
    {
     "data": {
      "text/plain": [
       "['in', 'ink', 'idea', 'image', 'ignore', 'ireland']"
      ]
     },
     "execution_count": 77,
     "metadata": {},
     "output_type": "execute_result"
    }
   ],
   "source": [
    "re.findall(r\"\\bi[a-z]+\\b\", myStr)"
   ]
  },
  {
   "cell_type": "markdown",
   "metadata": {
    "id": "daADHqqvUKRz"
   },
   "source": [
    "Similarly, you can **use a ``*``** to match something **0 or more times**:"
   ]
  },
  {
   "cell_type": "code",
   "execution_count": 78,
   "metadata": {
    "id": "164ltZefTp1j"
   },
   "outputs": [
    {
     "data": {
      "text/plain": [
       "['i', 'in', 'ink', 'idea', 'image', 'ignore', 'ireland']"
      ]
     },
     "execution_count": 78,
     "metadata": {},
     "output_type": "execute_result"
    }
   ],
   "source": [
    "re.findall(r\"\\bi[a-z]*\\b\", myStr)"
   ]
  },
  {
   "cell_type": "markdown",
   "metadata": {
    "id": "cA5d0ZceUe7m"
   },
   "source": [
    "Sometimes, you may also want to match a character **0 or 1 times**. This is done **using a ``?``**:"
   ]
  },
  {
   "cell_type": "code",
   "execution_count": 79,
   "metadata": {
    "id": "eJF6HditU2mv"
   },
   "outputs": [
    {
     "data": {
      "text/plain": [
       "['i', 'in']"
      ]
     },
     "execution_count": 79,
     "metadata": {},
     "output_type": "execute_result"
    }
   ],
   "source": [
    "re.findall(r\"\\bi[a-z]?\\b\", myStr)"
   ]
  },
  {
   "cell_type": "markdown",
   "metadata": {
    "id": "pvxUPyEcU8LQ"
   },
   "source": [
    "You can also **specify an exact number of repetitions using ``{}`` brackets**:"
   ]
  },
  {
   "cell_type": "code",
   "execution_count": 80,
   "metadata": {
    "id": "EBqe1yqtVYky"
   },
   "outputs": [
    {
     "data": {
      "text/plain": [
       "['ink']"
      ]
     },
     "execution_count": 80,
     "metadata": {},
     "output_type": "execute_result"
    }
   ],
   "source": [
    "re.findall(r\"\\bi[a-z]{2}\\b\", myStr) # 2 repetitions"
   ]
  },
  {
   "cell_type": "code",
   "execution_count": 81,
   "metadata": {
    "id": "FxCUgiuAVY3L"
   },
   "outputs": [
    {
     "data": {
      "text/plain": [
       "['ink', 'idea', 'image']"
      ]
     },
     "execution_count": 81,
     "metadata": {},
     "output_type": "execute_result"
    }
   ],
   "source": [
    "re.findall(r\"\\bi[a-z]{2,4}\\b\", myStr) # 2-4 repetitions"
   ]
  },
  {
   "cell_type": "markdown",
   "metadata": {
    "id": "wqSCyMY7q3ZK"
   },
   "source": [
    "---\n",
    "\n",
    ">  <font color='teal'> **In-class exercise**: Consider the following string."
   ]
  },
  {
   "cell_type": "code",
   "execution_count": 92,
   "metadata": {
    "id": "VL20i_n0q3ZK"
   },
   "outputs": [],
   "source": [
    "myStr= \"\"\"Félicette (French pronunciation: ​[felisɛt]) was a stray Parisian cat who is\n",
    "the only cat to have been successfully launched into space. She was launched on 18. October 1963\n",
    "as part of the French space program. Félicette was one of 14 female cats trained for spaceflight.\"\"\""
   ]
  },
  {
   "cell_type": "markdown",
   "metadata": {
    "id": "6cxrI21mq3ZL"
   },
   "source": [
    ">  <font color='teal'> Write a regular expression that extracts the year of the space launch.\n"
   ]
  },
  {
   "cell_type": "code",
   "execution_count": 84,
   "metadata": {
    "id": "91g9dqderRv8"
   },
   "outputs": [
    {
     "data": {
      "text/plain": [
       "['1963']"
      ]
     },
     "execution_count": 84,
     "metadata": {},
     "output_type": "execute_result"
    }
   ],
   "source": [
    "re.findall(r\"\\b\\d{4}\\b\", myStr)"
   ]
  },
  {
   "cell_type": "markdown",
   "metadata": {
    "id": "YAlZDnn-rtyr"
   },
   "source": [
    ">  <font color='teal'> Can you extend the regex to match the full date? Make sure your regex would work for other dates too (e.g., 21 January 2021).\n"
   ]
  },
  {
   "cell_type": "code",
   "execution_count": 109,
   "metadata": {
    "id": "zMFan_9Or0hI"
   },
   "outputs": [
    {
     "data": {
      "text/plain": [
       "['18. October 1963']"
      ]
     },
     "execution_count": 109,
     "metadata": {},
     "output_type": "execute_result"
    }
   ],
   "source": [
    "re.findall(r\"\\b\\d{1,2}\\.?\\s[a-zA-Z]+\\s\\d{4}\\b\", myStr)"
   ]
  },
  {
   "cell_type": "markdown",
   "metadata": {
    "id": "6AZJoInCu10l"
   },
   "source": [
    "#### Group capturing"
   ]
  },
  {
   "cell_type": "markdown",
   "metadata": {
    "id": "dZCsVECGTgCt"
   },
   "source": [
    "If you only want to **capture a specific part** within your matching string, you can use groups. A group is defined **using ``()`` brackets**."
   ]
  },
  {
   "cell_type": "code",
   "execution_count": 111,
   "metadata": {
    "id": "Rfu4wQKeT3FX"
   },
   "outputs": [],
   "source": [
    "mystr = r\"The <b>cat</b> is a domestic <b>species</b>.\""
   ]
  },
  {
   "cell_type": "code",
   "execution_count": 112,
   "metadata": {
    "id": "8KsjEWnkuccd"
   },
   "outputs": [
    {
     "data": {
      "text/plain": [
       "['<b>cat</b>', '<b>species</b>']"
      ]
     },
     "execution_count": 112,
     "metadata": {},
     "output_type": "execute_result"
    }
   ],
   "source": [
    "re.findall(r\"<b>\\w+</b>\", mystr) # Match tags with bold text (can also be done with BeautifulSoup)"
   ]
  },
  {
   "cell_type": "code",
   "execution_count": 113,
   "metadata": {
    "id": "QLQyfQTSWrzA"
   },
   "outputs": [
    {
     "data": {
      "text/plain": [
       "['cat', 'species']"
      ]
     },
     "execution_count": 113,
     "metadata": {},
     "output_type": "execute_result"
    }
   ],
   "source": [
    "re.findall(r\"<b>(\\w+)</b>\", mystr) # Return only the text within the tag"
   ]
  },
  {
   "cell_type": "markdown",
   "metadata": {
    "id": "RdCV0muXeGpU"
   },
   "source": [
    "We can also capture several groups. We will get a list of tuples:"
   ]
  },
  {
   "cell_type": "code",
   "execution_count": 114,
   "metadata": {
    "id": "4t_2aPbPeRGQ"
   },
   "outputs": [
    {
     "data": {
      "text/plain": [
       "[('The', 'cat'), ('domestic', 'species')]"
      ]
     },
     "execution_count": 114,
     "metadata": {},
     "output_type": "execute_result"
    }
   ],
   "source": [
    "re.findall(r\"(\\w+)\\s<b>(\\w+)</b>\", mystr)"
   ]
  },
  {
   "cell_type": "markdown",
   "metadata": {
    "id": "DWZ3a0hLvB0O"
   },
   "source": [
    "###Methods of the ``re`` module"
   ]
  },
  {
   "cell_type": "markdown",
   "metadata": {
    "id": "TYz1XZ4RtDk_"
   },
   "source": [
    "Appart from ``findall``, the re module has many other useful methods (see here: https://www.programiz.com/python-programming/regex). We will take a look at two more of them: **sub** and **split**."
   ]
  },
  {
   "cell_type": "markdown",
   "metadata": {
    "id": "QZPwXCwfYJib"
   },
   "source": [
    "The **``sub`` method allows you to replace parts of a string** (that are selected through a regular expression):"
   ]
  },
  {
   "cell_type": "code",
   "execution_count": 115,
   "metadata": {
    "id": "Y8cD3xhcXZOY"
   },
   "outputs": [],
   "source": [
    "myStr = \"I have 7 cats. The name of my favorite cat is Sarah! She is 14 years old.\""
   ]
  },
  {
   "cell_type": "code",
   "execution_count": 116,
   "metadata": {
    "id": "20VC1qXpYg6Y"
   },
   "outputs": [
    {
     "data": {
      "text/plain": [
       "'I have [INSERT NUMBER] cats. The name of my favorite cat is Sarah! She is [INSERT NUMBER] years old.'"
      ]
     },
     "execution_count": 116,
     "metadata": {},
     "output_type": "execute_result"
    }
   ],
   "source": [
    "re.sub(\"\\d+\", r\"[INSERT NUMBER]\", myStr)"
   ]
  },
  {
   "cell_type": "markdown",
   "metadata": {
    "id": "CwCsPbrNa8pl"
   },
   "source": [
    "As you can see, the first argument is the regular expression (i.e. the parts you want to replace), the second argument is the replacement and the last argument is your text string."
   ]
  },
  {
   "cell_type": "markdown",
   "metadata": {
    "id": "EuQjvrLUt1xH"
   },
   "source": [
    "The ``sub`` method can also be useful if you want to remove parts of a string:"
   ]
  },
  {
   "cell_type": "code",
   "execution_count": 117,
   "metadata": {
    "id": "Qgae-unSa65y"
   },
   "outputs": [
    {
     "data": {
      "text/plain": [
       "'The cat is a domestic species.'"
      ]
     },
     "execution_count": 117,
     "metadata": {},
     "output_type": "execute_result"
    }
   ],
   "source": [
    "re.sub(\"</?b>\", \"\", \"The <b>cat</b> is a domestic species.\") # Note: This can also be done using\n",
    "                                                             # get_text() from Beautifulsoup!"
   ]
  },
  {
   "cell_type": "markdown",
   "metadata": {
    "id": "RPu0SBEAtwJq"
   },
   "source": [
    "Furthermore, when using `()` groups, the matched text can be reused in the replacement using `\\1`, `\\2`, etc."
   ]
  },
  {
   "cell_type": "code",
   "execution_count": 118,
   "metadata": {
    "id": "BilPtbCVuaZz"
   },
   "outputs": [
    {
     "data": {
      "text/plain": [
       "'My cat was born on January 12.'"
      ]
     },
     "execution_count": 118,
     "metadata": {},
     "output_type": "execute_result"
    }
   ],
   "source": [
    "re.sub(r\"(\\d+)\\. (January)\", r\"\\2 \\1\", \"My cat was born on 12. January.\")"
   ]
  },
  {
   "cell_type": "markdown",
   "metadata": {
    "id": "XRRbSU44bexQ"
   },
   "source": [
    "The **``split`` method allows you to split a string based on a regular expression**:"
   ]
  },
  {
   "cell_type": "code",
   "execution_count": null,
   "metadata": {
    "colab": {
     "base_uri": "https://localhost:8080/"
    },
    "executionInfo": {
     "elapsed": 8,
     "status": "ok",
     "timestamp": 1746777680917,
     "user": {
      "displayName": "Rudolf Farys",
      "userId": "11982806469493281304"
     },
     "user_tz": -120
    },
    "id": "rKHVxmpYZHVu",
    "outputId": "609ec601-7274-476e-f90d-fc5a8f64e832"
   },
   "outputs": [
    {
     "data": {
      "text/plain": [
       "['I have 7 cats',\n",
       " 'The name of my favorite cat is Sarah',\n",
       " 'She is 14 years old.']"
      ]
     },
     "execution_count": 78,
     "metadata": {},
     "output_type": "execute_result"
    }
   ],
   "source": [
    "re.split(\"[.!?]\\s\", myStr) # Split at period, question marks or exclamation marks\n",
    "                           # (Note that special characters such as . and ? are\n",
    "                           # treated like normal characters within sets!)"
   ]
  },
  {
   "cell_type": "markdown",
   "metadata": {
    "id": "0nBx9Swjt4K1"
   },
   "source": [
    "There is much more you can do with the ``re`` module – feel free to investigate and find out! Moreover, regular expressions are very common and you can find many great examples online!"
   ]
  },
  {
   "cell_type": "markdown",
   "metadata": {
    "id": "e4zz1jnmAGEj"
   },
   "source": [
    "### Regular expressions in pandas"
   ]
  },
  {
   "cell_type": "markdown",
   "metadata": {
    "id": "QLRskvEkcceC"
   },
   "source": [
    "What if we want to apply a regex to an entire column in a pandas dataframe? The **string methods in pandas accept regular expressions as an input**!\n",
    "\n"
   ]
  },
  {
   "cell_type": "code",
   "execution_count": 119,
   "metadata": {
    "id": "BHsX90mjc_CG"
   },
   "outputs": [
    {
     "data": {
      "text/html": [
       "<div>\n",
       "<style scoped>\n",
       "    .dataframe tbody tr th:only-of-type {\n",
       "        vertical-align: middle;\n",
       "    }\n",
       "\n",
       "    .dataframe tbody tr th {\n",
       "        vertical-align: top;\n",
       "    }\n",
       "\n",
       "    .dataframe thead th {\n",
       "        text-align: right;\n",
       "    }\n",
       "</style>\n",
       "<table border=\"1\" class=\"dataframe\">\n",
       "  <thead>\n",
       "    <tr style=\"text-align: right;\">\n",
       "      <th></th>\n",
       "      <th>description</th>\n",
       "    </tr>\n",
       "  </thead>\n",
       "  <tbody>\n",
       "    <tr>\n",
       "      <th>Felicette</th>\n",
       "      <td>First cat launched into space</td>\n",
       "    </tr>\n",
       "    <tr>\n",
       "      <th>India Willie Bush</th>\n",
       "      <td>Us president george w. bushs cat, 19 years old</td>\n",
       "    </tr>\n",
       "    <tr>\n",
       "      <th>Meow</th>\n",
       "      <td>The worlds heaviest cat, died at 22</td>\n",
       "    </tr>\n",
       "    <tr>\n",
       "      <th>Creme Puff</th>\n",
       "      <td>The worlds oldest cat (38 years)</td>\n",
       "    </tr>\n",
       "  </tbody>\n",
       "</table>\n",
       "</div>"
      ],
      "text/plain": [
       "                                                      description\n",
       "Felicette                           First cat launched into space\n",
       "India Willie Bush  Us president george w. bushs cat, 19 years old\n",
       "Meow                          The worlds heaviest cat, died at 22\n",
       "Creme Puff                       The worlds oldest cat (38 years)"
      ]
     },
     "execution_count": 119,
     "metadata": {},
     "output_type": "execute_result"
    }
   ],
   "source": [
    "df"
   ]
  },
  {
   "cell_type": "code",
   "execution_count": 120,
   "metadata": {
    "id": "7GH1VSmAffYC"
   },
   "outputs": [
    {
     "data": {
      "text/plain": [
       "Felicette                                First cat launched into space\n",
       "India Willie Bush    Us president george w. bushs cat, [INSERT AGE]...\n",
       "Meow                     The worlds heaviest cat, died at [INSERT AGE]\n",
       "Creme Puff                  The worlds oldest cat ([INSERT AGE] years)\n",
       "Name: description, dtype: object"
      ]
     },
     "execution_count": 120,
     "metadata": {},
     "output_type": "execute_result"
    }
   ],
   "source": [
    "df[\"description\"].str.replace(r\"\\d{1,2}\", \"[INSERT AGE]\", regex=True)"
   ]
  },
  {
   "cell_type": "code",
   "execution_count": null,
   "metadata": {
    "id": "csCtaHFxeQ3k"
   },
   "outputs": [
    {
     "data": {
      "text/html": [
       "<div>\n",
       "<style scoped>\n",
       "    .dataframe tbody tr th:only-of-type {\n",
       "        vertical-align: middle;\n",
       "    }\n",
       "\n",
       "    .dataframe tbody tr th {\n",
       "        vertical-align: top;\n",
       "    }\n",
       "\n",
       "    .dataframe thead th {\n",
       "        text-align: right;\n",
       "    }\n",
       "</style>\n",
       "<table border=\"1\" class=\"dataframe\">\n",
       "  <thead>\n",
       "    <tr style=\"text-align: right;\">\n",
       "      <th></th>\n",
       "      <th>description</th>\n",
       "      <th>age</th>\n",
       "    </tr>\n",
       "  </thead>\n",
       "  <tbody>\n",
       "    <tr>\n",
       "      <th>Felicette</th>\n",
       "      <td>First cat launched into space</td>\n",
       "      <td>NaN</td>\n",
       "    </tr>\n",
       "    <tr>\n",
       "      <th>India Willie Bush</th>\n",
       "      <td>Us president george w. bushs cat, 19 years old</td>\n",
       "      <td>19</td>\n",
       "    </tr>\n",
       "    <tr>\n",
       "      <th>Meow</th>\n",
       "      <td>The worlds heaviest cat, died at 22</td>\n",
       "      <td>22</td>\n",
       "    </tr>\n",
       "    <tr>\n",
       "      <th>Creme Puff</th>\n",
       "      <td>The worlds oldest cat (38 years)</td>\n",
       "      <td>38</td>\n",
       "    </tr>\n",
       "  </tbody>\n",
       "</table>\n",
       "</div>"
      ],
      "text/plain": [
       "                                                      description  age\n",
       "Felicette                           First cat launched into space  NaN\n",
       "India Willie Bush  Us president george w. bushs cat, 19 years old   19\n",
       "Meow                          The worlds heaviest cat, died at 22   22\n",
       "Creme Puff                       The worlds oldest cat (38 years)   38"
      ]
     },
     "execution_count": 121,
     "metadata": {},
     "output_type": "execute_result"
    }
   ],
   "source": [
    "df[\"age\"] = df[\"description\"].str.extract(r\"(\\d{1,2})\")\n",
    "df"
   ]
  },
  {
   "cell_type": "markdown",
   "metadata": {
    "id": "GYh0BAQRU8D2"
   },
   "source": [
    "---\n",
    "\n",
    ">  <font color='teal'> **In-class exercise**: Consider the following pandas df:"
   ]
  },
  {
   "cell_type": "code",
   "execution_count": 122,
   "metadata": {
    "id": "v1TT5nRSVxPG"
   },
   "outputs": [
    {
     "data": {
      "text/html": [
       "<div>\n",
       "<style scoped>\n",
       "    .dataframe tbody tr th:only-of-type {\n",
       "        vertical-align: middle;\n",
       "    }\n",
       "\n",
       "    .dataframe tbody tr th {\n",
       "        vertical-align: top;\n",
       "    }\n",
       "\n",
       "    .dataframe thead th {\n",
       "        text-align: right;\n",
       "    }\n",
       "</style>\n",
       "<table border=\"1\" class=\"dataframe\">\n",
       "  <thead>\n",
       "    <tr style=\"text-align: right;\">\n",
       "      <th></th>\n",
       "      <th>address</th>\n",
       "    </tr>\n",
       "  </thead>\n",
       "  <tbody>\n",
       "    <tr>\n",
       "      <th>0</th>\n",
       "      <td>Kirchgasse 59, 4000 St. Gallen</td>\n",
       "    </tr>\n",
       "    <tr>\n",
       "      <th>1</th>\n",
       "      <td>Burgweg 7, 8000 Biel/Bienne</td>\n",
       "    </tr>\n",
       "    <tr>\n",
       "      <th>2</th>\n",
       "      <td>Dorfstrasse 71, 1000 Bern</td>\n",
       "    </tr>\n",
       "    <tr>\n",
       "      <th>3</th>\n",
       "      <td>Bahnhofstrasse 40, 1000 Basel</td>\n",
       "    </tr>\n",
       "    <tr>\n",
       "      <th>4</th>\n",
       "      <td>Alpenblickstrasse 95, 3000 Lausanne</td>\n",
       "    </tr>\n",
       "    <tr>\n",
       "      <th>5</th>\n",
       "      <td>Bergstrasse 71, 5000 Winterthur</td>\n",
       "    </tr>\n",
       "    <tr>\n",
       "      <th>6</th>\n",
       "      <td>Hauptstrasse 14, 8000 Lugano</td>\n",
       "    </tr>\n",
       "    <tr>\n",
       "      <th>7</th>\n",
       "      <td>Güterstrasse 61, 6000 Zürich</td>\n",
       "    </tr>\n",
       "    <tr>\n",
       "      <th>8</th>\n",
       "      <td>Marktplatz 41, 9000 Lucerne</td>\n",
       "    </tr>\n",
       "    <tr>\n",
       "      <th>9</th>\n",
       "      <td>Rue du Lac 53, 3000 Genève</td>\n",
       "    </tr>\n",
       "  </tbody>\n",
       "</table>\n",
       "</div>"
      ],
      "text/plain": [
       "                               address\n",
       "0       Kirchgasse 59, 4000 St. Gallen\n",
       "1          Burgweg 7, 8000 Biel/Bienne\n",
       "2            Dorfstrasse 71, 1000 Bern\n",
       "3        Bahnhofstrasse 40, 1000 Basel\n",
       "4  Alpenblickstrasse 95, 3000 Lausanne\n",
       "5      Bergstrasse 71, 5000 Winterthur\n",
       "6         Hauptstrasse 14, 8000 Lugano\n",
       "7         Güterstrasse 61, 6000 Zürich\n",
       "8          Marktplatz 41, 9000 Lucerne\n",
       "9           Rue du Lac 53, 3000 Genève"
      ]
     },
     "execution_count": 122,
     "metadata": {},
     "output_type": "execute_result"
    }
   ],
   "source": [
    "import pandas as pd\n",
    "addresses = ['Kirchgasse 59, 4000 St. Gallen', 'Burgweg 7, 8000 Biel/Bienne', 'Dorfstrasse 71, 1000 Bern', 'Bahnhofstrasse 40, 1000 Basel', 'Alpenblickstrasse 95, 3000 Lausanne', 'Bergstrasse 71, 5000 Winterthur', 'Hauptstrasse 14, 8000 Lugano', 'Güterstrasse 61, 6000 Zürich', 'Marktplatz 41, 9000 Lucerne', 'Rue du Lac 53, 3000 Genève']\n",
    "df = pd.DataFrame({'address': addresses})\n",
    "df"
   ]
  },
  {
   "cell_type": "markdown",
   "metadata": {
    "id": "R5trOIWTbzRv"
   },
   "source": [
    ">  <font color='teal'> Use regular expressions, capturing groups and ``str.extract()`` to create the following new columns:\n",
    "1. house_number\n",
    "2. postal_code\n",
    "3. city_name\n"
   ]
  },
  {
   "cell_type": "code",
   "execution_count": 124,
   "metadata": {
    "id": "IRPG-IyMcfE5"
   },
   "outputs": [
    {
     "data": {
      "text/html": [
       "<div>\n",
       "<style scoped>\n",
       "    .dataframe tbody tr th:only-of-type {\n",
       "        vertical-align: middle;\n",
       "    }\n",
       "\n",
       "    .dataframe tbody tr th {\n",
       "        vertical-align: top;\n",
       "    }\n",
       "\n",
       "    .dataframe thead th {\n",
       "        text-align: right;\n",
       "    }\n",
       "</style>\n",
       "<table border=\"1\" class=\"dataframe\">\n",
       "  <thead>\n",
       "    <tr style=\"text-align: right;\">\n",
       "      <th></th>\n",
       "      <th>address</th>\n",
       "      <th>house_nr</th>\n",
       "    </tr>\n",
       "  </thead>\n",
       "  <tbody>\n",
       "    <tr>\n",
       "      <th>0</th>\n",
       "      <td>Kirchgasse 59, 4000 St. Gallen</td>\n",
       "      <td>59</td>\n",
       "    </tr>\n",
       "    <tr>\n",
       "      <th>1</th>\n",
       "      <td>Burgweg 7, 8000 Biel/Bienne</td>\n",
       "      <td>7</td>\n",
       "    </tr>\n",
       "    <tr>\n",
       "      <th>2</th>\n",
       "      <td>Dorfstrasse 71, 1000 Bern</td>\n",
       "      <td>71</td>\n",
       "    </tr>\n",
       "    <tr>\n",
       "      <th>3</th>\n",
       "      <td>Bahnhofstrasse 40, 1000 Basel</td>\n",
       "      <td>40</td>\n",
       "    </tr>\n",
       "    <tr>\n",
       "      <th>4</th>\n",
       "      <td>Alpenblickstrasse 95, 3000 Lausanne</td>\n",
       "      <td>95</td>\n",
       "    </tr>\n",
       "    <tr>\n",
       "      <th>5</th>\n",
       "      <td>Bergstrasse 71, 5000 Winterthur</td>\n",
       "      <td>71</td>\n",
       "    </tr>\n",
       "    <tr>\n",
       "      <th>6</th>\n",
       "      <td>Hauptstrasse 14, 8000 Lugano</td>\n",
       "      <td>14</td>\n",
       "    </tr>\n",
       "    <tr>\n",
       "      <th>7</th>\n",
       "      <td>Güterstrasse 61, 6000 Zürich</td>\n",
       "      <td>61</td>\n",
       "    </tr>\n",
       "    <tr>\n",
       "      <th>8</th>\n",
       "      <td>Marktplatz 41, 9000 Lucerne</td>\n",
       "      <td>41</td>\n",
       "    </tr>\n",
       "    <tr>\n",
       "      <th>9</th>\n",
       "      <td>Rue du Lac 53, 3000 Genève</td>\n",
       "      <td>53</td>\n",
       "    </tr>\n",
       "  </tbody>\n",
       "</table>\n",
       "</div>"
      ],
      "text/plain": [
       "                               address house_nr\n",
       "0       Kirchgasse 59, 4000 St. Gallen       59\n",
       "1          Burgweg 7, 8000 Biel/Bienne        7\n",
       "2            Dorfstrasse 71, 1000 Bern       71\n",
       "3        Bahnhofstrasse 40, 1000 Basel       40\n",
       "4  Alpenblickstrasse 95, 3000 Lausanne       95\n",
       "5      Bergstrasse 71, 5000 Winterthur       71\n",
       "6         Hauptstrasse 14, 8000 Lugano       14\n",
       "7         Güterstrasse 61, 6000 Zürich       61\n",
       "8          Marktplatz 41, 9000 Lucerne       41\n",
       "9           Rue du Lac 53, 3000 Genève       53"
      ]
     },
     "execution_count": 124,
     "metadata": {},
     "output_type": "execute_result"
    }
   ],
   "source": [
    "df[\"house_nr\"] = df[\"address\"].str.extract(r\"\\b(\\d{1,2})\\b\")\n",
    "df"
   ]
  },
  {
   "cell_type": "code",
   "execution_count": 125,
   "metadata": {
    "id": "rBmb1kqjfNGh"
   },
   "outputs": [
    {
     "data": {
      "text/html": [
       "<div>\n",
       "<style scoped>\n",
       "    .dataframe tbody tr th:only-of-type {\n",
       "        vertical-align: middle;\n",
       "    }\n",
       "\n",
       "    .dataframe tbody tr th {\n",
       "        vertical-align: top;\n",
       "    }\n",
       "\n",
       "    .dataframe thead th {\n",
       "        text-align: right;\n",
       "    }\n",
       "</style>\n",
       "<table border=\"1\" class=\"dataframe\">\n",
       "  <thead>\n",
       "    <tr style=\"text-align: right;\">\n",
       "      <th></th>\n",
       "      <th>address</th>\n",
       "      <th>house_nr</th>\n",
       "      <th>postal_code</th>\n",
       "    </tr>\n",
       "  </thead>\n",
       "  <tbody>\n",
       "    <tr>\n",
       "      <th>0</th>\n",
       "      <td>Kirchgasse 59, 4000 St. Gallen</td>\n",
       "      <td>59</td>\n",
       "      <td>4000</td>\n",
       "    </tr>\n",
       "    <tr>\n",
       "      <th>1</th>\n",
       "      <td>Burgweg 7, 8000 Biel/Bienne</td>\n",
       "      <td>7</td>\n",
       "      <td>8000</td>\n",
       "    </tr>\n",
       "    <tr>\n",
       "      <th>2</th>\n",
       "      <td>Dorfstrasse 71, 1000 Bern</td>\n",
       "      <td>71</td>\n",
       "      <td>1000</td>\n",
       "    </tr>\n",
       "    <tr>\n",
       "      <th>3</th>\n",
       "      <td>Bahnhofstrasse 40, 1000 Basel</td>\n",
       "      <td>40</td>\n",
       "      <td>1000</td>\n",
       "    </tr>\n",
       "    <tr>\n",
       "      <th>4</th>\n",
       "      <td>Alpenblickstrasse 95, 3000 Lausanne</td>\n",
       "      <td>95</td>\n",
       "      <td>3000</td>\n",
       "    </tr>\n",
       "    <tr>\n",
       "      <th>5</th>\n",
       "      <td>Bergstrasse 71, 5000 Winterthur</td>\n",
       "      <td>71</td>\n",
       "      <td>5000</td>\n",
       "    </tr>\n",
       "    <tr>\n",
       "      <th>6</th>\n",
       "      <td>Hauptstrasse 14, 8000 Lugano</td>\n",
       "      <td>14</td>\n",
       "      <td>8000</td>\n",
       "    </tr>\n",
       "    <tr>\n",
       "      <th>7</th>\n",
       "      <td>Güterstrasse 61, 6000 Zürich</td>\n",
       "      <td>61</td>\n",
       "      <td>6000</td>\n",
       "    </tr>\n",
       "    <tr>\n",
       "      <th>8</th>\n",
       "      <td>Marktplatz 41, 9000 Lucerne</td>\n",
       "      <td>41</td>\n",
       "      <td>9000</td>\n",
       "    </tr>\n",
       "    <tr>\n",
       "      <th>9</th>\n",
       "      <td>Rue du Lac 53, 3000 Genève</td>\n",
       "      <td>53</td>\n",
       "      <td>3000</td>\n",
       "    </tr>\n",
       "  </tbody>\n",
       "</table>\n",
       "</div>"
      ],
      "text/plain": [
       "                               address house_nr postal_code\n",
       "0       Kirchgasse 59, 4000 St. Gallen       59        4000\n",
       "1          Burgweg 7, 8000 Biel/Bienne        7        8000\n",
       "2            Dorfstrasse 71, 1000 Bern       71        1000\n",
       "3        Bahnhofstrasse 40, 1000 Basel       40        1000\n",
       "4  Alpenblickstrasse 95, 3000 Lausanne       95        3000\n",
       "5      Bergstrasse 71, 5000 Winterthur       71        5000\n",
       "6         Hauptstrasse 14, 8000 Lugano       14        8000\n",
       "7         Güterstrasse 61, 6000 Zürich       61        6000\n",
       "8          Marktplatz 41, 9000 Lucerne       41        9000\n",
       "9           Rue du Lac 53, 3000 Genève       53        3000"
      ]
     },
     "execution_count": 125,
     "metadata": {},
     "output_type": "execute_result"
    }
   ],
   "source": [
    "df[\"postal_code\"] = df[\"address\"].str.extract(r\"\\b(\\d{4})\\b\")\n",
    "df"
   ]
  },
  {
   "cell_type": "code",
   "execution_count": 130,
   "metadata": {
    "id": "rwT8JaNRfRLJ"
   },
   "outputs": [
    {
     "data": {
      "text/html": [
       "<div>\n",
       "<style scoped>\n",
       "    .dataframe tbody tr th:only-of-type {\n",
       "        vertical-align: middle;\n",
       "    }\n",
       "\n",
       "    .dataframe tbody tr th {\n",
       "        vertical-align: top;\n",
       "    }\n",
       "\n",
       "    .dataframe thead th {\n",
       "        text-align: right;\n",
       "    }\n",
       "</style>\n",
       "<table border=\"1\" class=\"dataframe\">\n",
       "  <thead>\n",
       "    <tr style=\"text-align: right;\">\n",
       "      <th></th>\n",
       "      <th>address</th>\n",
       "      <th>house_nr</th>\n",
       "      <th>postal_code</th>\n",
       "      <th>city</th>\n",
       "    </tr>\n",
       "  </thead>\n",
       "  <tbody>\n",
       "    <tr>\n",
       "      <th>0</th>\n",
       "      <td>Kirchgasse 59, 4000 St. Gallen</td>\n",
       "      <td>59</td>\n",
       "      <td>4000</td>\n",
       "      <td>St. Gallen</td>\n",
       "    </tr>\n",
       "    <tr>\n",
       "      <th>1</th>\n",
       "      <td>Burgweg 7, 8000 Biel/Bienne</td>\n",
       "      <td>7</td>\n",
       "      <td>8000</td>\n",
       "      <td>Biel/Bienne</td>\n",
       "    </tr>\n",
       "    <tr>\n",
       "      <th>2</th>\n",
       "      <td>Dorfstrasse 71, 1000 Bern</td>\n",
       "      <td>71</td>\n",
       "      <td>1000</td>\n",
       "      <td>Bern</td>\n",
       "    </tr>\n",
       "    <tr>\n",
       "      <th>3</th>\n",
       "      <td>Bahnhofstrasse 40, 1000 Basel</td>\n",
       "      <td>40</td>\n",
       "      <td>1000</td>\n",
       "      <td>Basel</td>\n",
       "    </tr>\n",
       "    <tr>\n",
       "      <th>4</th>\n",
       "      <td>Alpenblickstrasse 95, 3000 Lausanne</td>\n",
       "      <td>95</td>\n",
       "      <td>3000</td>\n",
       "      <td>Lausanne</td>\n",
       "    </tr>\n",
       "    <tr>\n",
       "      <th>5</th>\n",
       "      <td>Bergstrasse 71, 5000 Winterthur</td>\n",
       "      <td>71</td>\n",
       "      <td>5000</td>\n",
       "      <td>Winterthur</td>\n",
       "    </tr>\n",
       "    <tr>\n",
       "      <th>6</th>\n",
       "      <td>Hauptstrasse 14, 8000 Lugano</td>\n",
       "      <td>14</td>\n",
       "      <td>8000</td>\n",
       "      <td>Lugano</td>\n",
       "    </tr>\n",
       "    <tr>\n",
       "      <th>7</th>\n",
       "      <td>Güterstrasse 61, 6000 Zürich</td>\n",
       "      <td>61</td>\n",
       "      <td>6000</td>\n",
       "      <td>Zürich</td>\n",
       "    </tr>\n",
       "    <tr>\n",
       "      <th>8</th>\n",
       "      <td>Marktplatz 41, 9000 Lucerne</td>\n",
       "      <td>41</td>\n",
       "      <td>9000</td>\n",
       "      <td>Lucerne</td>\n",
       "    </tr>\n",
       "    <tr>\n",
       "      <th>9</th>\n",
       "      <td>Rue du Lac 53, 3000 Genève</td>\n",
       "      <td>53</td>\n",
       "      <td>3000</td>\n",
       "      <td>Genève</td>\n",
       "    </tr>\n",
       "  </tbody>\n",
       "</table>\n",
       "</div>"
      ],
      "text/plain": [
       "                               address house_nr postal_code         city\n",
       "0       Kirchgasse 59, 4000 St. Gallen       59        4000   St. Gallen\n",
       "1          Burgweg 7, 8000 Biel/Bienne        7        8000  Biel/Bienne\n",
       "2            Dorfstrasse 71, 1000 Bern       71        1000         Bern\n",
       "3        Bahnhofstrasse 40, 1000 Basel       40        1000        Basel\n",
       "4  Alpenblickstrasse 95, 3000 Lausanne       95        3000     Lausanne\n",
       "5      Bergstrasse 71, 5000 Winterthur       71        5000   Winterthur\n",
       "6         Hauptstrasse 14, 8000 Lugano       14        8000       Lugano\n",
       "7         Güterstrasse 61, 6000 Zürich       61        6000       Zürich\n",
       "8          Marktplatz 41, 9000 Lucerne       41        9000      Lucerne\n",
       "9           Rue du Lac 53, 3000 Genève       53        3000       Genève"
      ]
     },
     "execution_count": 130,
     "metadata": {},
     "output_type": "execute_result"
    }
   ],
   "source": [
    "df[\"city\"] = df[\"address\"].str.extract(r\"\\b\\d{4}\\b\\s(.+)\")\n",
    "df"
   ]
  },
  {
   "cell_type": "code",
   "execution_count": null,
   "metadata": {
    "id": "pkX2o6VkOIFH"
   },
   "outputs": [],
   "source": []
  },
  {
   "cell_type": "code",
   "execution_count": null,
   "metadata": {
    "id": "o1cxevFxOuZT"
   },
   "outputs": [],
   "source": []
  },
  {
   "cell_type": "markdown",
   "metadata": {
    "id": "L-fCp6B_Q-4-"
   },
   "source": [
    "**Let's do the course evaluation now!**\n",
    "\n",
    "https://scanserveruls.unibe.ch/evasys/online.php?pswd=KEQHK"
   ]
  }
 ],
 "metadata": {
  "colab": {
   "provenance": []
  },
  "kernelspec": {
   "display_name": "Python 3",
   "name": "python3"
  },
  "language_info": {
   "codemirror_mode": {
    "name": "ipython",
    "version": 3
   },
   "file_extension": ".py",
   "mimetype": "text/x-python",
   "name": "python",
   "nbconvert_exporter": "python",
   "pygments_lexer": "ipython3",
   "version": "3.10.11"
  }
 },
 "nbformat": 4,
 "nbformat_minor": 0
}
