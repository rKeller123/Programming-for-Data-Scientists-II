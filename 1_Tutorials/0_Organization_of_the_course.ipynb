{
 "cells": [
  {
   "cell_type": "markdown",
   "metadata": {
    "id": "WHGIEaBkU7Uf"
   },
   "source": [
    "\n",
    "# Programming II - Organization of the course #\n"
   ]
  },
  {
   "cell_type": "markdown",
   "metadata": {
    "id": "oEgoILTloJjn"
   },
   "source": [
    "## Course objective\n",
    "\n",
    "The course is the second programming course of the Minor \"Digitalization\", focussing on Python as a programming language and extending the topics so far covered in \"Programming I\", so oftentimes I will draw parallels to R or point out differences."
   ]
  },
  {
   "cell_type": "markdown",
   "metadata": {
    "id": "L5-GSZaoI2zu"
   },
   "source": [
    "## Why Python?\n",
    "\n",
    "Python is open source and has been around for 30+ years.\n",
    "According to the PYPL Index, it is currently the most popular programming language: <https://pypl.github.io/PYPL.html>.\n",
    "It is pretty easy to learn, productive, and has a large community of developers and users.\n",
    "\n",
    "Regarding the pros and cons of both languages check: <https://www.educba.com/r-vs-python/>\n",
    "\n"
   ]
  },
  {
   "cell_type": "markdown",
   "metadata": {
    "id": "o0tTODSt6QqO"
   },
   "source": [
    "## Schedule"
   ]
  },
  {
   "cell_type": "markdown",
   "metadata": {
    "id": "w50rAd3CEotX"
   },
   "source": [
    "* **Lecture:** Monday, 12-14\n",
    "* **Supervised exercise**: Thursday, 16-18\n",
    "\n",
    "There are some dates where no lecture or exercise will take place:\n",
    "\n",
    "* easter holidays from 2025-04-18 to 2025-04-27 and in addition:\n",
    "* 2025-05-29 (Thursday): Auffahrt\n",
    "\n",
    "Attendance of the supervised exercise is voluntary but **you need to hand in the exercises by Thursday 6 pm**. These exercises will not be graded.\n",
    "\n"
   ]
  },
  {
   "cell_type": "markdown",
   "metadata": {
    "id": "LEIzXFCi__Mx"
   },
   "source": [
    "## Proof of achievement\n",
    "\n",
    "An exam will take place on tba, making 50% of your grade. In addition you are required to **solve two additional graded exercises** throughout the semester which are not supervised on Thursday. These exercises will by graded and make 25% each of your final grade.\n",
    "\n",
    "The deadlines to hand in these exercises will most probably be:\n",
    "\n",
    "* April 18 (Briefing of the exercise on April 7)\n",
    "* May 16 (Briefing of the exercise on May 5)\n",
    "\n",
    "Upload and briefing of the exercises 11 days in advance."
   ]
  },
  {
   "cell_type": "markdown",
   "metadata": {
    "id": "B6fRs5bMJ1EH"
   },
   "source": [
    "## Syllabus\n",
    "\n",
    "The course will cover the following topics\n",
    "\n",
    "* **Basics of the Python programming language**\n",
    "* **Control flow:** Loops, conditions\n",
    "* **Functions and methods**\n",
    "* **Numpy** and **Pandas:** (3 weeks)\n",
    "  - basics, importing, inspecting,\n",
    "  - cleaning, data wrangling\n",
    "* **Visualization and Analysis:** (2 weeks)\n",
    "  - general plotting with ``matplotlib``\n",
    "  - OLS regression\n",
    "  - some advanced plotting like e.g. ``geopandas``\n",
    "* **Web scraping:** (3 weeks)\n",
    "  - Basics of HTML, Python modules for scraping\n",
    "  - APIs and JSON\n",
    "  - selected further topics\n",
    "* **Working with text:** (2 weeks)\n",
    "  - string manipulation functions\n",
    "  - regular expressions\n",
    "  - text analysis\n",
    "\n"
   ]
  },
  {
   "cell_type": "markdown",
   "metadata": {
    "id": "PvntefGLLEBL"
   },
   "source": [
    "## Software\n",
    "\n",
    "Regarding your work with Python we have the following recommendations:\n",
    "\n",
    "* Install the [Anaconda](https://www.anaconda.com/products/distribution) framework if not already done. This includes a Python interpreter as well as many software packages that are commonly used for working with Python, e.g. IDEs like PyCharm, Spyder and Jupyter Notebook/Lab.\n",
    "* Further, you can code Python within the Google Colab environment provided by Google. Depending on your task, one or the other might be the better choice.\n",
    "* In any case: try both: Colab and an IDE you like."
   ]
  }
 ],
 "metadata": {
  "colab": {
   "provenance": []
  },
  "kernelspec": {
   "display_name": "Python 3",
   "name": "python3"
  }
 },
 "nbformat": 4,
 "nbformat_minor": 0
}
