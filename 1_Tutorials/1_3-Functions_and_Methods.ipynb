{
 "cells": [
  {
   "cell_type": "markdown",
   "metadata": {
    "id": "Gwwx6YFTV9Vt"
   },
   "source": [
    "*Part 1: Introduction to Python Syntax and Semantics III*\n",
    "# Functions and Methods #"
   ]
  },
  {
   "cell_type": "markdown",
   "metadata": {
    "id": "INQlZndNWi7c"
   },
   "source": [
    "We have seen that we can use loops to **carry out instructions several times**. Often, however, you want to run the same kind of instructions in different parts of your code. A way to do this is by **using functions or methods**. They allow you to define a set of actions that should be executed, typically based on some arguments you provide. Once a function or a method is defined, you can use it anywhere in your script. Moreover, there are also many pre-defined functions and methods you can work with. In this tutorial we will learn how to use and write functions and methods."
   ]
  },
  {
   "cell_type": "markdown",
   "metadata": {
    "id": "yUcRodjTarKg"
   },
   "source": [
    "## Getting help"
   ]
  },
  {
   "cell_type": "markdown",
   "metadata": {
    "id": "FMtuELY0au2Z"
   },
   "source": [
    "We are selective in this tutorial and only discuss elements of Python that we believe are most important for the purpose of this class. If you want more details, you can consult, for example, the **Python Standard Library Reference** at https://docs.python.org/3/library/ or the **Language Reference** at https://docs.python.org/3/reference/. But be warned: the amount of detail in these sources can be overwhelming. For **quick and easy-to-understand overviews** of different topics see, for example, https://www.w3schools.com/python/.\n",
    "\n",
    "For functions and methods, see, for example:\n",
    "\n",
    "* https://www.w3schools.com/python/python_functions.asp\n",
    "* https://www.w3schools.com/python/python_lambda.asp\n",
    "* https://www.w3schools.com/python/python_classes.asp\n",
    "\n",
    "If you get stuck or don't remember how to do something, it is usually a good idea to **Google** your problem. Python has a large (and fast-growing) community and you will probably find answers to most of your questions online (e.g. on **Stack Overflow** or in a **Youtube tutorial**)."
   ]
  },
  {
   "cell_type": "markdown",
   "metadata": {
    "id": "-tzfZnMXWHSe"
   },
   "source": [
    "## Introduction to functions, methods and attributes"
   ]
  },
  {
   "cell_type": "markdown",
   "metadata": {
    "id": "sFxZAfhyZPLc"
   },
   "source": [
    "### What are functions?"
   ]
  },
  {
   "cell_type": "markdown",
   "metadata": {
    "id": "-WQHk5_Dr6hn"
   },
   "source": [
    "**Functions are named blocks of code that are executed when they are called**. You can write your own functions, but there are also many predefined **built-in functions**. You already know some of them:"
   ]
  },
  {
   "cell_type": "code",
   "execution_count": null,
   "metadata": {
    "id": "ELBySQojV20p"
   },
   "outputs": [],
   "source": [
    "print(\"hello\")"
   ]
  },
  {
   "cell_type": "code",
   "execution_count": null,
   "metadata": {
    "id": "g7c6OSL6XCs5"
   },
   "outputs": [],
   "source": [
    "len(\"hello\")"
   ]
  },
  {
   "cell_type": "code",
   "execution_count": null,
   "metadata": {
    "id": "qQHoSpiifspi"
   },
   "outputs": [],
   "source": [
    "list(\"hello\")"
   ]
  },
  {
   "cell_type": "code",
   "execution_count": null,
   "metadata": {
    "id": "mei1SocZXQZR"
   },
   "outputs": [],
   "source": [
    "type(\"hello\")"
   ]
  },
  {
   "cell_type": "markdown",
   "metadata": {
    "id": "F4-pJOVFXXan"
   },
   "source": [
    "Functions are called by typing the **name of the function** (print, len, type etc.) followed by **``()`` parentheses**. Within the parentheses, you can specify **arguments to be passed through to the function** (possibly none). In the examples above, all four functions receive the string \"hello\" as an argument.\n",
    "\n",
    "Think of functions as devices that process some input (the arguments) and then return a result (but note that the result can also be ``None``). This makes clear that functions can be chained together in a nested way. The output from one function is the input for the next function. The functions will always be processes sequentially from the innermost function to the outermost function:"
   ]
  },
  {
   "cell_type": "code",
   "execution_count": null,
   "metadata": {
    "id": "3QyyvtX_XW6e"
   },
   "outputs": [],
   "source": [
    "print(type(len(\"hello\")))"
   ]
  },
  {
   "cell_type": "markdown",
   "metadata": {
    "id": "zeuBhxz3Ylb8"
   },
   "source": [
    "*Can you guess the output of this statement?*"
   ]
  },
  {
   "cell_type": "markdown",
   "metadata": {
    "id": "1esr_xDxYWvs"
   },
   "source": [
    "Depending on their definition, functions can take **several arguments**. Multiple arguments have to be separted by a comma:"
   ]
  },
  {
   "cell_type": "code",
   "execution_count": null,
   "metadata": {
    "id": "4gvWCy52VQg0"
   },
   "outputs": [],
   "source": [
    "print(\"Hello\", \"Sarah\")"
   ]
  },
  {
   "cell_type": "markdown",
   "metadata": {
    "id": "1bGj-WLCZN41"
   },
   "source": [
    "Many functions also have **optional arguments**. These arguments have a **default value** that is taken if we do not specify otherwise.  The ``print()`` function, for example, has an optional argument to specify the separator to be printed between the elements:"
   ]
  },
  {
   "cell_type": "code",
   "execution_count": null,
   "metadata": {
    "id": "1e7d_s9bZNU1"
   },
   "outputs": [],
   "source": [
    "print(\"Hello\", \"Sarah\", \"!\", sep=\"--\")"
   ]
  },
  {
   "cell_type": "markdown",
   "metadata": {
    "id": "9-mzzx1MasV5"
   },
   "source": [
    "*Can you guess the default value for the ``sep`` argument?* <font color='violet'> *Answer:* <font color='white'> *It is \" \", i.e a blank.*"
   ]
  },
  {
   "cell_type": "markdown",
   "metadata": {
    "id": "cd0WoYLLdCd_"
   },
   "source": [
    "><font color = ffffff> SIDENOTE: For \"unnamed\" arguments, the order in which you specify them matters. That is, the arguments are evaluated *positionally* (i.e. the first value becomes the first argument etc.). However, many functions have arguments that can be identified by a *keyword*. This is particularly useful for optional arguments (see the ``sep`` argument above). If you specify named arguments, you can enter them in any order as the function can identify the arguments based on their names, but note that possible positional (i.e. unnamed) arguments have to go first! That is, if you want to provide positional arguments as well as keyword arguments, first specify the positional arguments and then the keyword arguments. For example, ``print(sep=\"--\", \"Hello\", \"Sarah\", \"!\")`` would return an error!"
   ]
  },
  {
   "cell_type": "markdown",
   "metadata": {
    "id": "tk-tA9gqcbpP"
   },
   "source": [
    "How can we find out, how many and what kind of arguments a function takes? We can **use the ``help()`` function** (or Google it):"
   ]
  },
  {
   "cell_type": "code",
   "execution_count": null,
   "metadata": {
    "id": "Y8dBq3Z7armP"
   },
   "outputs": [],
   "source": [
    "help(print)"
   ]
  },
  {
   "cell_type": "markdown",
   "metadata": {
    "id": "fDYLlFsxc8e3"
   },
   "source": [
    "This tells us that we can input as many (non-keyword) arguments as we like. Moreover, there are 4 keyword arguments (``sep``, ``end``, ``file``, ``flush``) that we can specify if we want to override their default values."
   ]
  },
  {
   "cell_type": "markdown",
   "metadata": {
    "id": "I2Buh_qShIYT"
   },
   "source": [
    "### What are methods?"
   ]
  },
  {
   "cell_type": "markdown",
   "metadata": {
    "id": "xCj9XEK4VRN1"
   },
   "source": [
    "Methods are very similar to functions, but they are **tied to an object**. Python is an object oriented programming language and essentially everything is an \"object\", so you will typically have one or several methods that come along with the object (objects are defined by \"classes\"; simply speaking, \"methods\" are functions that are defined within a class, while \"functions\" are functions that are defined outside of a class).\n",
    "\n",
    "You already know some methods. For example for objects of type ``str`` (string), we used the ``upper()`` method in an earlier tutorial:"
   ]
  },
  {
   "cell_type": "code",
   "execution_count": null,
   "metadata": {
    "id": "wlvU19XeiRJd"
   },
   "outputs": [],
   "source": [
    "\"hello\".upper()"
   ]
  },
  {
   "cell_type": "markdown",
   "metadata": {
    "id": "fAILDJTwkGhW"
   },
   "source": [
    "We also have already seen some list methods:"
   ]
  },
  {
   "cell_type": "code",
   "execution_count": null,
   "metadata": {
    "id": "v6iol-pRkF0n"
   },
   "outputs": [],
   "source": [
    "my_list = [1, 2, 3, 4]\n",
    "\n",
    "my_list.append(0)  # append() method\n",
    "my_list.remove(4)  # remove() method\n",
    "my_list.sort()     # sort() method"
   ]
  },
  {
   "cell_type": "markdown",
   "metadata": {
    "id": "JuhCG70bkeMT"
   },
   "source": [
    "In general, a method is called by specifying the **name of the object** you want to apply the method to, **a ``.``**, the **name of the method**, and **``()`` parentheses**.\n",
    "\n",
    "Just like functions, **methods can take arguments**. For example, the ``append()`` and the ``remove()`` methods both take one (positional) argument while the ``sort()`` method takes none."
   ]
  },
  {
   "cell_type": "markdown",
   "metadata": {
    "id": "pdj4IlYMk7Yk"
   },
   "source": [
    "><font color = ff0000> SIDENOTE: Technically, the first argument of a method is always the object itself (here: ``my_list``), but is not written. When a statement like ``my_list.append(0)`` is executed, actually two arguments are passed: ``my_list`` and ``0``. Likewise, the ``sort()`` receives one argument: ``my_list``."
   ]
  },
  {
   "cell_type": "markdown",
   "metadata": {
    "id": "2oM848Z3iRx2"
   },
   "source": [
    "An **important distinction** is between methods that return a result and methods that change the object (technically, of course, it is also possible to have methods that do both, but this is less common). For example, the ``upper()`` method used above returned the string transformed to uppercase, but left the original object unchanged. To see this, consider the following example:"
   ]
  },
  {
   "cell_type": "code",
   "execution_count": 1,
   "metadata": {
    "id": "0riJJhmd0rSK"
   },
   "outputs": [
    {
     "name": "stdout",
     "output_type": "stream",
     "text": [
      "hello\n",
      "HELLO\n"
     ]
    }
   ],
   "source": [
    "my_string = \"hello\"\n",
    "MY_STRING = my_string.upper()\n",
    "print(my_string)\n",
    "print(MY_STRING)"
   ]
  },
  {
   "cell_type": "markdown",
   "metadata": {
    "id": "Z_RKotFV0ruy"
   },
   "source": [
    "Many methods, however, have no output. Instead, they **change the object they are applied to**. The list methods ``append()``, ``remove()``, and ``sort()`` we used above are of this type. Note that an object can easily have methods of both types:"
   ]
  },
  {
   "cell_type": "code",
   "execution_count": 2,
   "metadata": {
    "id": "WUQitIUPkdqE"
   },
   "outputs": [
    {
     "name": "stdout",
     "output_type": "stream",
     "text": [
      "[1, 2, 3, 4]\n",
      "[1, 2, 3, 4, 4]\n",
      "[1, 2, 3, 4, 4]\n"
     ]
    }
   ],
   "source": [
    "my_list = [1, 2, 3, 4]\n",
    "print(my_list)\n",
    "\n",
    "my_list.append(4)\n",
    "print(my_list)    # The append() method changes the object (my_list)\n",
    "\n",
    "my_list.count(4)\n",
    "print(my_list)    # The count() method does not!"
   ]
  },
  {
   "cell_type": "markdown",
   "metadata": {
    "id": "Em_H-pxjoTuk"
   },
   "source": [
    "Many methods are of the object-modifying type. In contrast, functions typically are of the result-returning type and do not modify an object (although it is possible to program  functions that modify the objects that have been provided to them as inputs)."
   ]
  },
  {
   "cell_type": "markdown",
   "metadata": {
    "id": "Ec4tge8jokDL"
   },
   "source": [
    "How can we **find out what methods are available for a particular object**? Again, you can use the ``help()`` function to find the methods that are available for a certain object type:"
   ]
  },
  {
   "cell_type": "code",
   "execution_count": null,
   "metadata": {
    "id": "8NgJ9GlKojcl"
   },
   "outputs": [],
   "source": [
    "my_list = [1, 2, 3, 4]\n",
    "print(type(my_list))  # Type of my_list is: list\n",
    "help(list)            # Or: dir(my_list) # Returns list of methods that can be\n",
    "                      # applied to my_list (without explanations)"
   ]
  },
  {
   "cell_type": "markdown",
   "metadata": {
    "id": "cnoLV2PJq-9w"
   },
   "source": [
    "If you scroll down, you will see that ``my_list`` (as all lists) has the following methods: ``append``, ``clear``, ``copy``, ``count``, ``extend``, ``index``, ``insert``, ``pop``, ``remove``, ``reverse``, ``sort``. When you look at the arguments for these methods, you will see that they all have ``self`` as the first parameter. This is because the object itself is always passed as the first argument to a method. However, this is done automatically so you don't need to worry about this parameter.\n",
    "\n",
    "*If this output looks scary to you, you can always just Google it (e.g. \"list methods Python\") and should find good explanations and examples!*\n",
    "\n",
    "You will also see a lot of methods that begin and end with double underscores (\\__). These methods are called dunder (\"double under\") or magic methods. They are mostly used for automatic stuff that happens in the background and are not meant to be used directly. You can ignore them for now, but consider the following example to get an idea of why they exist:\n"
   ]
  },
  {
   "cell_type": "code",
   "execution_count": null,
   "metadata": {
    "id": "yMBf8VoG5yPB"
   },
   "outputs": [],
   "source": [
    "\"a\" in \"cat\""
   ]
  },
  {
   "cell_type": "markdown",
   "metadata": {
    "id": "3oPwkGrQ6KrT"
   },
   "source": [
    "Here the `in` internally calls a double under method `__contains__`:"
   ]
  },
  {
   "cell_type": "code",
   "execution_count": null,
   "metadata": {
    "id": "EtgP_A176bj7"
   },
   "outputs": [],
   "source": [
    "\"cat\".__contains__(\"a\")"
   ]
  },
  {
   "cell_type": "markdown",
   "metadata": {
    "id": "jh8mmTwiX2Ye"
   },
   "source": [
    "### What are attributes?"
   ]
  },
  {
   "cell_type": "markdown",
   "metadata": {
    "id": "O5WZdJCOd4iS"
   },
   "source": [
    "Sometimes you will also encounter code that looks like this :"
   ]
  },
  {
   "cell_type": "code",
   "execution_count": 3,
   "metadata": {
    "id": "V_Xhax5fX88X"
   },
   "outputs": [
    {
     "data": {
      "text/plain": [
       "1"
      ]
     },
     "execution_count": 3,
     "metadata": {},
     "output_type": "execute_result"
    }
   ],
   "source": [
    "x = True\n",
    "x.real"
   ]
  },
  {
   "cell_type": "markdown",
   "metadata": {
    "id": "2rG_4yRPefdu"
   },
   "source": [
    "Now we are not calling a method, but accessing an **attribute**. Like methods, attributes are tied to an object. While methods do something with the object, attributes are just properties of the object (i.e. values). For example, a dataframe (will be covered later) has a ``.columns`` and a ``.index`` attribute holding the column names and the row names.\n",
    "To access an attribute, we need to specify the **name of the object**, **a ``.``** and the **name of the attribute** (i.e. like methods but without parentheses)."
   ]
  },
  {
   "cell_type": "markdown",
   "metadata": {
    "id": "j2mB0tC5WLfU"
   },
   "source": [
    "---\n",
    "\n",
    ">  <font color='teal'> **In-class exercise**:\n",
    "Look up the documentation of the round() function and round the number 7.23462 to three digits."
   ]
  },
  {
   "cell_type": "code",
   "execution_count": 5,
   "metadata": {
    "id": "-Zen6VFiWP1F"
   },
   "outputs": [
    {
     "name": "stdout",
     "output_type": "stream",
     "text": [
      "Help on built-in function round in module builtins:\n",
      "\n",
      "round(number, ndigits=None)\n",
      "    Round a number to a given precision in decimal digits.\n",
      "    \n",
      "    The return value is an integer if ndigits is omitted or None.  Otherwise\n",
      "    the return value has the same type as the number.  ndigits may be negative.\n",
      "\n"
     ]
    },
    {
     "data": {
      "text/plain": [
       "7.235"
      ]
     },
     "execution_count": 5,
     "metadata": {},
     "output_type": "execute_result"
    }
   ],
   "source": [
    "help(round)\n",
    "round(7.23462, 3)"
   ]
  },
  {
   "cell_type": "markdown",
   "metadata": {
    "id": "palCYREBwBv4"
   },
   "source": [
    ">  <font color='teal'> Now find out what methods are available for strings. Can you find a method that allows you to convert the string \"HELLO\" to \"hello\"? Can you find a method that allows you to determine the position of letter \"O\" in the string?"
   ]
  },
  {
   "cell_type": "code",
   "execution_count": 6,
   "metadata": {
    "id": "bZNUeBf1usLd"
   },
   "outputs": [
    {
     "name": "stdout",
     "output_type": "stream",
     "text": [
      "Help on class str in module builtins:\n",
      "\n",
      "class str(object)\n",
      " |  str(object='') -> str\n",
      " |  str(bytes_or_buffer[, encoding[, errors]]) -> str\n",
      " |  \n",
      " |  Create a new string object from the given object. If encoding or\n",
      " |  errors is specified, then the object must expose a data buffer\n",
      " |  that will be decoded using the given encoding and error handler.\n",
      " |  Otherwise, returns the result of object.__str__() (if defined)\n",
      " |  or repr(object).\n",
      " |  encoding defaults to sys.getdefaultencoding().\n",
      " |  errors defaults to 'strict'.\n",
      " |  \n",
      " |  Methods defined here:\n",
      " |  \n",
      " |  __add__(self, value, /)\n",
      " |      Return self+value.\n",
      " |  \n",
      " |  __contains__(self, key, /)\n",
      " |      Return key in self.\n",
      " |  \n",
      " |  __eq__(self, value, /)\n",
      " |      Return self==value.\n",
      " |  \n",
      " |  __format__(self, format_spec, /)\n",
      " |      Return a formatted version of the string as described by format_spec.\n",
      " |  \n",
      " |  __ge__(self, value, /)\n",
      " |      Return self>=value.\n",
      " |  \n",
      " |  __getattribute__(self, name, /)\n",
      " |      Return getattr(self, name).\n",
      " |  \n",
      " |  __getitem__(self, key, /)\n",
      " |      Return self[key].\n",
      " |  \n",
      " |  __getnewargs__(...)\n",
      " |  \n",
      " |  __gt__(self, value, /)\n",
      " |      Return self>value.\n",
      " |  \n",
      " |  __hash__(self, /)\n",
      " |      Return hash(self).\n",
      " |  \n",
      " |  __iter__(self, /)\n",
      " |      Implement iter(self).\n",
      " |  \n",
      " |  __le__(self, value, /)\n",
      " |      Return self<=value.\n",
      " |  \n",
      " |  __len__(self, /)\n",
      " |      Return len(self).\n",
      " |  \n",
      " |  __lt__(self, value, /)\n",
      " |      Return self<value.\n",
      " |  \n",
      " |  __mod__(self, value, /)\n",
      " |      Return self%value.\n",
      " |  \n",
      " |  __mul__(self, value, /)\n",
      " |      Return self*value.\n",
      " |  \n",
      " |  __ne__(self, value, /)\n",
      " |      Return self!=value.\n",
      " |  \n",
      " |  __repr__(self, /)\n",
      " |      Return repr(self).\n",
      " |  \n",
      " |  __rmod__(self, value, /)\n",
      " |      Return value%self.\n",
      " |  \n",
      " |  __rmul__(self, value, /)\n",
      " |      Return value*self.\n",
      " |  \n",
      " |  __sizeof__(self, /)\n",
      " |      Return the size of the string in memory, in bytes.\n",
      " |  \n",
      " |  __str__(self, /)\n",
      " |      Return str(self).\n",
      " |  \n",
      " |  capitalize(self, /)\n",
      " |      Return a capitalized version of the string.\n",
      " |      \n",
      " |      More specifically, make the first character have upper case and the rest lower\n",
      " |      case.\n",
      " |  \n",
      " |  casefold(self, /)\n",
      " |      Return a version of the string suitable for caseless comparisons.\n",
      " |  \n",
      " |  center(self, width, fillchar=' ', /)\n",
      " |      Return a centered string of length width.\n",
      " |      \n",
      " |      Padding is done using the specified fill character (default is a space).\n",
      " |  \n",
      " |  count(...)\n",
      " |      S.count(sub[, start[, end]]) -> int\n",
      " |      \n",
      " |      Return the number of non-overlapping occurrences of substring sub in\n",
      " |      string S[start:end].  Optional arguments start and end are\n",
      " |      interpreted as in slice notation.\n",
      " |  \n",
      " |  encode(self, /, encoding='utf-8', errors='strict')\n",
      " |      Encode the string using the codec registered for encoding.\n",
      " |      \n",
      " |      encoding\n",
      " |        The encoding in which to encode the string.\n",
      " |      errors\n",
      " |        The error handling scheme to use for encoding errors.\n",
      " |        The default is 'strict' meaning that encoding errors raise a\n",
      " |        UnicodeEncodeError.  Other possible values are 'ignore', 'replace' and\n",
      " |        'xmlcharrefreplace' as well as any other name registered with\n",
      " |        codecs.register_error that can handle UnicodeEncodeErrors.\n",
      " |  \n",
      " |  endswith(...)\n",
      " |      S.endswith(suffix[, start[, end]]) -> bool\n",
      " |      \n",
      " |      Return True if S ends with the specified suffix, False otherwise.\n",
      " |      With optional start, test S beginning at that position.\n",
      " |      With optional end, stop comparing S at that position.\n",
      " |      suffix can also be a tuple of strings to try.\n",
      " |  \n",
      " |  expandtabs(self, /, tabsize=8)\n",
      " |      Return a copy where all tab characters are expanded using spaces.\n",
      " |      \n",
      " |      If tabsize is not given, a tab size of 8 characters is assumed.\n",
      " |  \n",
      " |  find(...)\n",
      " |      S.find(sub[, start[, end]]) -> int\n",
      " |      \n",
      " |      Return the lowest index in S where substring sub is found,\n",
      " |      such that sub is contained within S[start:end].  Optional\n",
      " |      arguments start and end are interpreted as in slice notation.\n",
      " |      \n",
      " |      Return -1 on failure.\n",
      " |  \n",
      " |  format(...)\n",
      " |      S.format(*args, **kwargs) -> str\n",
      " |      \n",
      " |      Return a formatted version of S, using substitutions from args and kwargs.\n",
      " |      The substitutions are identified by braces ('{' and '}').\n",
      " |  \n",
      " |  format_map(...)\n",
      " |      S.format_map(mapping) -> str\n",
      " |      \n",
      " |      Return a formatted version of S, using substitutions from mapping.\n",
      " |      The substitutions are identified by braces ('{' and '}').\n",
      " |  \n",
      " |  index(...)\n",
      " |      S.index(sub[, start[, end]]) -> int\n",
      " |      \n",
      " |      Return the lowest index in S where substring sub is found,\n",
      " |      such that sub is contained within S[start:end].  Optional\n",
      " |      arguments start and end are interpreted as in slice notation.\n",
      " |      \n",
      " |      Raises ValueError when the substring is not found.\n",
      " |  \n",
      " |  isalnum(self, /)\n",
      " |      Return True if the string is an alpha-numeric string, False otherwise.\n",
      " |      \n",
      " |      A string is alpha-numeric if all characters in the string are alpha-numeric and\n",
      " |      there is at least one character in the string.\n",
      " |  \n",
      " |  isalpha(self, /)\n",
      " |      Return True if the string is an alphabetic string, False otherwise.\n",
      " |      \n",
      " |      A string is alphabetic if all characters in the string are alphabetic and there\n",
      " |      is at least one character in the string.\n",
      " |  \n",
      " |  isascii(self, /)\n",
      " |      Return True if all characters in the string are ASCII, False otherwise.\n",
      " |      \n",
      " |      ASCII characters have code points in the range U+0000-U+007F.\n",
      " |      Empty string is ASCII too.\n",
      " |  \n",
      " |  isdecimal(self, /)\n",
      " |      Return True if the string is a decimal string, False otherwise.\n",
      " |      \n",
      " |      A string is a decimal string if all characters in the string are decimal and\n",
      " |      there is at least one character in the string.\n",
      " |  \n",
      " |  isdigit(self, /)\n",
      " |      Return True if the string is a digit string, False otherwise.\n",
      " |      \n",
      " |      A string is a digit string if all characters in the string are digits and there\n",
      " |      is at least one character in the string.\n",
      " |  \n",
      " |  isidentifier(self, /)\n",
      " |      Return True if the string is a valid Python identifier, False otherwise.\n",
      " |      \n",
      " |      Call keyword.iskeyword(s) to test whether string s is a reserved identifier,\n",
      " |      such as \"def\" or \"class\".\n",
      " |  \n",
      " |  islower(self, /)\n",
      " |      Return True if the string is a lowercase string, False otherwise.\n",
      " |      \n",
      " |      A string is lowercase if all cased characters in the string are lowercase and\n",
      " |      there is at least one cased character in the string.\n",
      " |  \n",
      " |  isnumeric(self, /)\n",
      " |      Return True if the string is a numeric string, False otherwise.\n",
      " |      \n",
      " |      A string is numeric if all characters in the string are numeric and there is at\n",
      " |      least one character in the string.\n",
      " |  \n",
      " |  isprintable(self, /)\n",
      " |      Return True if the string is printable, False otherwise.\n",
      " |      \n",
      " |      A string is printable if all of its characters are considered printable in\n",
      " |      repr() or if it is empty.\n",
      " |  \n",
      " |  isspace(self, /)\n",
      " |      Return True if the string is a whitespace string, False otherwise.\n",
      " |      \n",
      " |      A string is whitespace if all characters in the string are whitespace and there\n",
      " |      is at least one character in the string.\n",
      " |  \n",
      " |  istitle(self, /)\n",
      " |      Return True if the string is a title-cased string, False otherwise.\n",
      " |      \n",
      " |      In a title-cased string, upper- and title-case characters may only\n",
      " |      follow uncased characters and lowercase characters only cased ones.\n",
      " |  \n",
      " |  isupper(self, /)\n",
      " |      Return True if the string is an uppercase string, False otherwise.\n",
      " |      \n",
      " |      A string is uppercase if all cased characters in the string are uppercase and\n",
      " |      there is at least one cased character in the string.\n",
      " |  \n",
      " |  join(self, iterable, /)\n",
      " |      Concatenate any number of strings.\n",
      " |      \n",
      " |      The string whose method is called is inserted in between each given string.\n",
      " |      The result is returned as a new string.\n",
      " |      \n",
      " |      Example: '.'.join(['ab', 'pq', 'rs']) -> 'ab.pq.rs'\n",
      " |  \n",
      " |  ljust(self, width, fillchar=' ', /)\n",
      " |      Return a left-justified string of length width.\n",
      " |      \n",
      " |      Padding is done using the specified fill character (default is a space).\n",
      " |  \n",
      " |  lower(self, /)\n",
      " |      Return a copy of the string converted to lowercase.\n",
      " |  \n",
      " |  lstrip(self, chars=None, /)\n",
      " |      Return a copy of the string with leading whitespace removed.\n",
      " |      \n",
      " |      If chars is given and not None, remove characters in chars instead.\n",
      " |  \n",
      " |  partition(self, sep, /)\n",
      " |      Partition the string into three parts using the given separator.\n",
      " |      \n",
      " |      This will search for the separator in the string.  If the separator is found,\n",
      " |      returns a 3-tuple containing the part before the separator, the separator\n",
      " |      itself, and the part after it.\n",
      " |      \n",
      " |      If the separator is not found, returns a 3-tuple containing the original string\n",
      " |      and two empty strings.\n",
      " |  \n",
      " |  removeprefix(self, prefix, /)\n",
      " |      Return a str with the given prefix string removed if present.\n",
      " |      \n",
      " |      If the string starts with the prefix string, return string[len(prefix):].\n",
      " |      Otherwise, return a copy of the original string.\n",
      " |  \n",
      " |  removesuffix(self, suffix, /)\n",
      " |      Return a str with the given suffix string removed if present.\n",
      " |      \n",
      " |      If the string ends with the suffix string and that suffix is not empty,\n",
      " |      return string[:-len(suffix)]. Otherwise, return a copy of the original\n",
      " |      string.\n",
      " |  \n",
      " |  replace(self, old, new, count=-1, /)\n",
      " |      Return a copy with all occurrences of substring old replaced by new.\n",
      " |      \n",
      " |        count\n",
      " |          Maximum number of occurrences to replace.\n",
      " |          -1 (the default value) means replace all occurrences.\n",
      " |      \n",
      " |      If the optional argument count is given, only the first count occurrences are\n",
      " |      replaced.\n",
      " |  \n",
      " |  rfind(...)\n",
      " |      S.rfind(sub[, start[, end]]) -> int\n",
      " |      \n",
      " |      Return the highest index in S where substring sub is found,\n",
      " |      such that sub is contained within S[start:end].  Optional\n",
      " |      arguments start and end are interpreted as in slice notation.\n",
      " |      \n",
      " |      Return -1 on failure.\n",
      " |  \n",
      " |  rindex(...)\n",
      " |      S.rindex(sub[, start[, end]]) -> int\n",
      " |      \n",
      " |      Return the highest index in S where substring sub is found,\n",
      " |      such that sub is contained within S[start:end].  Optional\n",
      " |      arguments start and end are interpreted as in slice notation.\n",
      " |      \n",
      " |      Raises ValueError when the substring is not found.\n",
      " |  \n",
      " |  rjust(self, width, fillchar=' ', /)\n",
      " |      Return a right-justified string of length width.\n",
      " |      \n",
      " |      Padding is done using the specified fill character (default is a space).\n",
      " |  \n",
      " |  rpartition(self, sep, /)\n",
      " |      Partition the string into three parts using the given separator.\n",
      " |      \n",
      " |      This will search for the separator in the string, starting at the end. If\n",
      " |      the separator is found, returns a 3-tuple containing the part before the\n",
      " |      separator, the separator itself, and the part after it.\n",
      " |      \n",
      " |      If the separator is not found, returns a 3-tuple containing two empty strings\n",
      " |      and the original string.\n",
      " |  \n",
      " |  rsplit(self, /, sep=None, maxsplit=-1)\n",
      " |      Return a list of the substrings in the string, using sep as the separator string.\n",
      " |      \n",
      " |        sep\n",
      " |          The separator used to split the string.\n",
      " |      \n",
      " |          When set to None (the default value), will split on any whitespace\n",
      " |          character (including \\\\n \\\\r \\\\t \\\\f and spaces) and will discard\n",
      " |          empty strings from the result.\n",
      " |        maxsplit\n",
      " |          Maximum number of splits (starting from the left).\n",
      " |          -1 (the default value) means no limit.\n",
      " |      \n",
      " |      Splitting starts at the end of the string and works to the front.\n",
      " |  \n",
      " |  rstrip(self, chars=None, /)\n",
      " |      Return a copy of the string with trailing whitespace removed.\n",
      " |      \n",
      " |      If chars is given and not None, remove characters in chars instead.\n",
      " |  \n",
      " |  split(self, /, sep=None, maxsplit=-1)\n",
      " |      Return a list of the substrings in the string, using sep as the separator string.\n",
      " |      \n",
      " |        sep\n",
      " |          The separator used to split the string.\n",
      " |      \n",
      " |          When set to None (the default value), will split on any whitespace\n",
      " |          character (including \\\\n \\\\r \\\\t \\\\f and spaces) and will discard\n",
      " |          empty strings from the result.\n",
      " |        maxsplit\n",
      " |          Maximum number of splits (starting from the left).\n",
      " |          -1 (the default value) means no limit.\n",
      " |      \n",
      " |      Note, str.split() is mainly useful for data that has been intentionally\n",
      " |      delimited.  With natural text that includes punctuation, consider using\n",
      " |      the regular expression module.\n",
      " |  \n",
      " |  splitlines(self, /, keepends=False)\n",
      " |      Return a list of the lines in the string, breaking at line boundaries.\n",
      " |      \n",
      " |      Line breaks are not included in the resulting list unless keepends is given and\n",
      " |      true.\n",
      " |  \n",
      " |  startswith(...)\n",
      " |      S.startswith(prefix[, start[, end]]) -> bool\n",
      " |      \n",
      " |      Return True if S starts with the specified prefix, False otherwise.\n",
      " |      With optional start, test S beginning at that position.\n",
      " |      With optional end, stop comparing S at that position.\n",
      " |      prefix can also be a tuple of strings to try.\n",
      " |  \n",
      " |  strip(self, chars=None, /)\n",
      " |      Return a copy of the string with leading and trailing whitespace removed.\n",
      " |      \n",
      " |      If chars is given and not None, remove characters in chars instead.\n",
      " |  \n",
      " |  swapcase(self, /)\n",
      " |      Convert uppercase characters to lowercase and lowercase characters to uppercase.\n",
      " |  \n",
      " |  title(self, /)\n",
      " |      Return a version of the string where each word is titlecased.\n",
      " |      \n",
      " |      More specifically, words start with uppercased characters and all remaining\n",
      " |      cased characters have lower case.\n",
      " |  \n",
      " |  translate(self, table, /)\n",
      " |      Replace each character in the string using the given translation table.\n",
      " |      \n",
      " |        table\n",
      " |          Translation table, which must be a mapping of Unicode ordinals to\n",
      " |          Unicode ordinals, strings, or None.\n",
      " |      \n",
      " |      The table must implement lookup/indexing via __getitem__, for instance a\n",
      " |      dictionary or list.  If this operation raises LookupError, the character is\n",
      " |      left untouched.  Characters mapped to None are deleted.\n",
      " |  \n",
      " |  upper(self, /)\n",
      " |      Return a copy of the string converted to uppercase.\n",
      " |  \n",
      " |  zfill(self, width, /)\n",
      " |      Pad a numeric string with zeros on the left, to fill a field of the given width.\n",
      " |      \n",
      " |      The string is never truncated.\n",
      " |  \n",
      " |  ----------------------------------------------------------------------\n",
      " |  Static methods defined here:\n",
      " |  \n",
      " |  __new__(*args, **kwargs) from builtins.type\n",
      " |      Create and return a new object.  See help(type) for accurate signature.\n",
      " |  \n",
      " |  maketrans(...)\n",
      " |      Return a translation table usable for str.translate().\n",
      " |      \n",
      " |      If there is only one argument, it must be a dictionary mapping Unicode\n",
      " |      ordinals (integers) or characters to Unicode ordinals, strings or None.\n",
      " |      Character keys will be then converted to ordinals.\n",
      " |      If there are two arguments, they must be strings of equal length, and\n",
      " |      in the resulting dictionary, each character in x will be mapped to the\n",
      " |      character at the same position in y. If there is a third argument, it\n",
      " |      must be a string, whose characters will be mapped to None in the result.\n",
      "\n"
     ]
    }
   ],
   "source": [
    "help(str)"
   ]
  },
  {
   "cell_type": "markdown",
   "metadata": {
    "id": "WUEJZTQ4WQ3N"
   },
   "source": [
    "\n",
    "\n",
    "---\n",
    "\n"
   ]
  },
  {
   "cell_type": "markdown",
   "metadata": {
    "id": "c2WDyTEiT7v2"
   },
   "source": [
    "## Defining functions"
   ]
  },
  {
   "cell_type": "markdown",
   "metadata": {
    "id": "Grt3GhPaRH9i"
   },
   "source": [
    "###Writing simple functions"
   ]
  },
  {
   "cell_type": "markdown",
   "metadata": {
    "id": "h8ZViED0VBFk"
   },
   "source": [
    "We have already discussed what functions are and how we can apply (i.e. call) them. Now we will take a look at how you can **write your own functions**.\n",
    "\n",
    "Suppose you would like to write a function that greets your cats. If we type something like ``greet(\"Sarah\")`` we would get ``Good morning, Sarah!``. How could we do this?"
   ]
  },
  {
   "cell_type": "code",
   "execution_count": null,
   "metadata": {
    "id": "4aUz9UZvz8F5"
   },
   "outputs": [],
   "source": [
    "# Define the function\n",
    "def greet(cat_name):\n",
    "    print(f\"Good morning, {cat_name}!\")  # Or: print(\"Good morning, \" + cat_name + \"!\", sep=\"\")\n",
    "\n",
    "\n",
    "# Call the function\n",
    "greet(\"Sarah\")\n",
    "greet(\"Mary\")"
   ]
  },
  {
   "cell_type": "markdown",
   "metadata": {
    "id": "171SCpDx0Xze"
   },
   "source": [
    "Very simple, isn't it?\n",
    "\n",
    "To define a function, you have to use the **``def`` keyword, the name of the function, followed by ``()`` parentheses, and a ``:``.** Within the brackets, you can specify what **arguments** a function should take using variable names of your choosing.  In the indented code block after the ``:``, you define what the function should do. If you want the output of your function to depend on the arguments it receives (as you usually do), the variable(s) you defined within the ``()`` parentheses should be used here.\n",
    "\n",
    "\n",
    "><font color = ff0000> SIDENOTE: One can distinguish between the *parameters* and *arguments* of a function. A parameter is a variable listed in the parentheses of the function definition (i.e. ``cat_name``). An argument is the value a function receives when it is called (e.g. \"Sarah\"). For simplicity, however, we will usually just speak of arguments."
   ]
  },
  {
   "cell_type": "markdown",
   "metadata": {
    "id": "rn8I7ZOlB2oL"
   },
   "source": [
    "We can also define a function with **several arguments**. Let's say we want to be able to use different types of greetings:"
   ]
  },
  {
   "cell_type": "code",
   "execution_count": null,
   "metadata": {
    "id": "kaJxBV3KZ_3d"
   },
   "outputs": [],
   "source": [
    "def greet(cat_name, greeting):\n",
    "    print(f\"{greeting}, {cat_name}! How are you today?\")\n",
    "\n",
    "\n",
    "greet(\"Sarah\", \"Good Morning\")\n",
    "greet(\"Max\", \"Hello\")"
   ]
  },
  {
   "cell_type": "markdown",
   "metadata": {
    "id": "NKdmYpTcGSYX"
   },
   "source": [
    "Up to now, we have only used **positional arguments** when we called our function. This means that we entered the values in the correct order (so that the first value was assigned to ``cat_name`` and the second value to ``greeting``). Another way to call the function is by entering **keyword (or: named) arguments**, i.e. to use the parameter names when we pass the arguments to the function. If we use keyword arguments, we can reverse the order and will still get the correct result:"
   ]
  },
  {
   "cell_type": "code",
   "execution_count": null,
   "metadata": {
    "id": "28ddaAeKmmO8"
   },
   "outputs": [],
   "source": [
    "greet(greeting=\"Hello\", cat_name=\"Max\")"
   ]
  },
  {
   "cell_type": "markdown",
   "metadata": {
    "id": "kRuF1XvzngzG"
   },
   "source": [
    "><font color = ff0000> SIDENOTE: If you combine keyword and positional arguments, the positional arguments must always come first!\n",
    ">\n",
    ">```\n",
    "greet(\"Max\", greeting = \"Hello\")   # This works\n",
    "greet(greeting = \"Hello\", \"Max\")    # This will return an error\n",
    "```\n",
    "><font color = ff0000> In many cases, you can choose whether to use keyword or positional arguments when calling a function. However, there are also cases where only positional or only keyword arguments are accepted. Just look up the function description (e.g. with ``help()``) to find out!\n"
   ]
  },
  {
   "cell_type": "markdown",
   "metadata": {
    "id": "V_J-l2r-rNEI"
   },
   "source": [
    "The function we defined above takes exactly two arguments, because both of them are *mandatory*:"
   ]
  },
  {
   "cell_type": "code",
   "execution_count": null,
   "metadata": {
    "id": "yO6iD2OSn6ST"
   },
   "outputs": [],
   "source": [
    "greet(\"Sarah\")  # This will return an error"
   ]
  },
  {
   "cell_type": "markdown",
   "metadata": {
    "id": "I2epDmZcEdcx"
   },
   "source": [
    "If you want to define an **optional argument**, you must assign a **default value** to the parameter in the function definition. For example:"
   ]
  },
  {
   "cell_type": "code",
   "execution_count": null,
   "metadata": {
    "id": "zXH3dD3DHuBs"
   },
   "outputs": [],
   "source": [
    "def greet(cat_name, greeting=\"Good morning\"):\n",
    "    print(f\"{greeting}, {cat_name}! How are you today?\")\n",
    "\n",
    "\n",
    "greet(\"Mary\", greeting=\"Hello\")  # Or: greet(\"Mary\", \"Hello\")\n",
    "greet(\"Tom\")  # When nothing is specified, the default value (Good morning) is taken!"
   ]
  },
  {
   "cell_type": "markdown",
   "metadata": {
    "id": "OjQoVlp3tcLl"
   },
   "source": [
    "Now we have made \"Good morning\" the default greeting. If no greeting is specified, this default value will be taken!"
   ]
  },
  {
   "cell_type": "markdown",
   "metadata": {
    "id": "nfe8q2TNsNkE"
   },
   "source": [
    "><font color = ff0000> SIDENOTE: It is standard practice to begin your function with a so-called *Docstring* that describes what the function does. This is done using tripple quotes:\n",
    "\n",
    "```\n",
    "def greet(cat_name, greeting):\n",
    "    \"\"\"\n",
    "    This function greets cats.\n",
    "    It takes the cat name and\n",
    "    a greeting as an argument.\n",
    "    \"\"\"\n",
    "\n",
    "    print(f\"{greeting}, {cat_name}! How are you today?\")\n",
    "```\n",
    "\n",
    "\n",
    "\n"
   ]
  },
  {
   "cell_type": "markdown",
   "metadata": {
    "id": "-LCN0CxqJD3a"
   },
   "source": [
    "### Writing functions with arbitrary numbers of arguments"
   ]
  },
  {
   "cell_type": "markdown",
   "metadata": {
    "id": "4hK6uRrBJVtQ"
   },
   "source": [
    "Sometimes **you don't know how many arguments will be passed to a function**. Suppose you want to write a function that greets all the cats a person has, but this number may vary from person to person.\n",
    "\n",
    "If you want your function to be able to handle arbitrary numbers of **positional arguments** (\\*args), you need to **add a ``*`` before the parameter name in the function definition**:"
   ]
  },
  {
   "cell_type": "code",
   "execution_count": 7,
   "metadata": {
    "id": "4ZlqmvmxJU44"
   },
   "outputs": [
    {
     "name": "stdout",
     "output_type": "stream",
     "text": [
      "Good morning, Sarah!\n",
      "Good morning, Max!\n",
      "Good morning, Mary!\n",
      "Good morning, Tom!\n"
     ]
    }
   ],
   "source": [
    "def greet(*cats):\n",
    "    for cat in cats:\n",
    "        print(f\"Good morning, {cat}!\")\n",
    "\n",
    "\n",
    "greet(\"Sarah\", \"Max\", \"Mary\", \"Tom\")"
   ]
  },
  {
   "cell_type": "markdown",
   "metadata": {
    "id": "ojz0aefyLT9W"
   },
   "source": [
    "How does this work? Python passes all your arguments (i.e. \"Sarah\", \"Max\", \"Mary\", \"Tom\") into a tuple called ``cats``. Within your function, you can now define what you want to do with this tuple (e.g. loop over it and print something)."
   ]
  },
  {
   "cell_type": "markdown",
   "metadata": {
    "id": "BVQ9VDvqJOE4"
   },
   "source": [
    "You can can also write functions that can handle **arbitrary numbers of keyword** arguments (\\*\\*kwargs). They are defined by **putting \\*\\* before the parameter name** in the function definition. Python then converts the input into a dictionary:"
   ]
  },
  {
   "cell_type": "code",
   "execution_count": 8,
   "metadata": {
    "id": "wuMmFXzgOytX"
   },
   "outputs": [
    {
     "name": "stdout",
     "output_type": "stream",
     "text": [
      "The name of this cat is Sarah.\n",
      "The color of this cat is brown.\n",
      "The age of this cat is 5.\n"
     ]
    }
   ],
   "source": [
    "def cat_info(**cats):\n",
    "    for key, value in cats.items():\n",
    "        print(f\"The {key} of this cat is {value}.\")\n",
    "\n",
    "\n",
    "cat_info(name=\"Sarah\", color=\"brown\", age=5)"
   ]
  },
  {
   "cell_type": "markdown",
   "metadata": {
    "id": "DZjx4w1UP79s"
   },
   "source": [
    "### Return values"
   ]
  },
  {
   "cell_type": "markdown",
   "metadata": {
    "id": "IFvPqL8wQ1Ob"
   },
   "source": [
    "Suppose we want to assign the string printed by our ``greet()`` function to a variable (so we can continue to work with it later). Let's try:"
   ]
  },
  {
   "cell_type": "code",
   "execution_count": null,
   "metadata": {
    "id": "sbdWLpIaQ0bz"
   },
   "outputs": [],
   "source": [
    "# Define the function\n",
    "def greet(cat_name):\n",
    "    print(f\"Good morning, {cat_name}!\")\n",
    "\n"
   ]
  },
  {
   "cell_type": "code",
   "execution_count": null,
   "metadata": {
    "id": "E1D7Rp74P6rq"
   },
   "outputs": [],
   "source": [
    "# Apply function and assign output to variable\n",
    "greet_sarah = greet(\"Sarah\")\n",
    "print(greet_sarah)"
   ]
  },
  {
   "cell_type": "markdown",
   "metadata": {
    "id": "tWSgVJPMSKoK"
   },
   "source": [
    "Unfortunately, this didn't work. Instead of containing \"Good, morning Sarah\", the ``greet_sarah`` variable appears to contain nothing (i.e the ``None`` value). Why is this the case?\n",
    "\n",
    "Our function only *prints* the string, it does not actually *return* something. If we want to define functions that have a return value, we have to specify this by using the **``return``** keyword:"
   ]
  },
  {
   "cell_type": "code",
   "execution_count": null,
   "metadata": {
    "id": "3z12ImyCTCmv"
   },
   "outputs": [],
   "source": [
    "# Define function\n",
    "def greet(cat_name):\n",
    "    greeting = f\"Good morning, {cat_name}!\"\n",
    "    return greeting  # Define what the function should return\n",
    "\n",
    "\n",
    "# Access/Assign function output\n",
    "greet_sarah = greet(\"Sarah\")\n",
    "greet_sarah.upper()"
   ]
  },
  {
   "cell_type": "markdown",
   "metadata": {
    "id": "J655UmCFwS5F"
   },
   "source": [
    "You can also make your function return a different value depending on conditions you specify:"
   ]
  },
  {
   "cell_type": "code",
   "execution_count": null,
   "metadata": {
    "id": "oHPs78M_vk4a"
   },
   "outputs": [],
   "source": [
    "def greet(cat_name):\n",
    "    if cat_name == \"Sarah\":\n",
    "        return f\"Good morning, {cat_name}! You are my favorite cat.\"\n",
    "    else:\n",
    "        return f\"Good morning, {cat_name}!\"\n",
    "\n",
    "\n",
    "print(greet(\"Sarah\"))\n",
    "print(greet(\"Mary\"))"
   ]
  },
  {
   "cell_type": "markdown",
   "metadata": {
    "id": "j6OMm1R3IuDb"
   },
   "source": [
    "If you want to return multiple results, return them as a tuple:"
   ]
  },
  {
   "cell_type": "code",
   "execution_count": null,
   "metadata": {
    "id": "ofQX93cJIXjG"
   },
   "outputs": [],
   "source": [
    "def greet(cat_name):\n",
    "    greeting1 = f\"Good morning, {cat_name}!\"\n",
    "    greeting2 = f\"Good evening, {cat_name}!\"\n",
    "    return greeting1, greeting2\n",
    "\n",
    "\n",
    "# Apply function (returns a tuple)\n",
    "print(greet(\"Sarah\"))\n",
    "\n",
    "# Assign function output to variables\n",
    "sarah_morning, sarah_evening = greet(\"Sarah\")"
   ]
  },
  {
   "cell_type": "markdown",
   "metadata": {
    "id": "OD0KIwWZJMLS"
   },
   "source": [
    "Naturally, you can also return a list or a dictionary or any other type of object."
   ]
  },
  {
   "cell_type": "markdown",
   "metadata": {
    "id": "tWR4WQtNVawg"
   },
   "source": [
    "### Scope"
   ]
  },
  {
   "cell_type": "markdown",
   "metadata": {
    "id": "i9-0nNFwWFA_"
   },
   "source": [
    "Variables we define within a function (be it as parameters or in the instructions) are **local variables**. This means that they only exist within the function. Consider the function we defined above:"
   ]
  },
  {
   "cell_type": "code",
   "execution_count": null,
   "metadata": {
    "id": "m7YsgI1IVnkg"
   },
   "outputs": [],
   "source": [
    "def greet(cat_name):\n",
    "    greeting = f\"Good morning, {cat_name}!\"\n",
    "    return greeting\n",
    "\n",
    "\n",
    "greet(\"Sarah\")"
   ]
  },
  {
   "cell_type": "markdown",
   "metadata": {
    "id": "wW5WA6kQY9EK"
   },
   "source": [
    "If we want to access the variables ``cat_name`` or ``greeting`` outside the function you will get an error. They don't exist outside the function!"
   ]
  },
  {
   "cell_type": "code",
   "execution_count": null,
   "metadata": {
    "id": "I4_hlBBdY66r"
   },
   "outputs": [],
   "source": [
    "print(greeting)"
   ]
  },
  {
   "cell_type": "code",
   "execution_count": null,
   "metadata": {
    "id": "i68soS74ZJ_a"
   },
   "outputs": [],
   "source": [
    "print(cat_name)"
   ]
  },
  {
   "cell_type": "markdown",
   "metadata": {
    "id": "88A5GrhHaL4J"
   },
   "source": [
    "A more technical way to say this, is that the **scope** of these variables is local.\n",
    "\n",
    "If you define variables outside the function, they are in the  **global** scope. After a global variable is defined, it can be accessed and used anywhere in your program. You can also use global variables within function definitions (i.e. global variables are also available locally). However, we advise against doing this.\n",
    "\n",
    "If you define a local variable that has the same name as a global variable, the local variable will take precedence:"
   ]
  },
  {
   "cell_type": "code",
   "execution_count": null,
   "metadata": {
    "id": "tevoom2maLVx"
   },
   "outputs": [],
   "source": [
    "greeting = \"Heihou!\"                          # define global greeting variable\n",
    "\n",
    "\n",
    "def greet(cat_name):\n",
    "    greeting = f\"Good morning, {cat_name}!\"  # define local greeting variable\n",
    "    return greeting\n",
    "\n",
    "\n",
    "print(greet(\"Sarah\"))\n",
    "\n",
    "print(greeting)                              # prints global greeting variable"
   ]
  },
  {
   "cell_type": "markdown",
   "metadata": {
    "id": "lYQTlchtZaVC"
   },
   "source": [
    "><font color = 4e1585> SIDENOTE: If you are interested in a more detailed explanation about scope rules in functions, see, for example:\n",
    "*   https://learning.oreilly.com/library/view/learning-python/1565924649/ch04s03.html\n",
    "\n",
    "\n"
   ]
  },
  {
   "cell_type": "markdown",
   "metadata": {
    "id": "l3OC5kN2n64U"
   },
   "source": [
    "---\n",
    "\n",
    ">  <font color='teal'> **In-class exercise**:\n",
    "Write a function called ``my_divide`` that returns the result of the division of two numbers (for example, if you type ``my_divide(8,2)`` you should get ``4``)."
   ]
  },
  {
   "cell_type": "code",
   "execution_count": null,
   "metadata": {
    "id": "91RuwE2XoCwM"
   },
   "outputs": [],
   "source": []
  },
  {
   "cell_type": "markdown",
   "metadata": {
    "id": "CuJNPbnTy5zk"
   },
   "source": [
    ">  <font color='teal'> Your function will break if you enter 0 as the second argument. Adapt it so that it returns the result of the division if the second argument is not 0 and \"You can't divide by 0!\" otherwise."
   ]
  },
  {
   "cell_type": "code",
   "execution_count": null,
   "metadata": {
    "id": "nB6B4mkey-Os"
   },
   "outputs": [],
   "source": []
  },
  {
   "cell_type": "markdown",
   "metadata": {
    "id": "bxRBn9OprhNf"
   },
   "source": [
    ">  <font color='teal'> Now adapt your function so that it divides a given number by 2 unless you specify another number as the divisor."
   ]
  },
  {
   "cell_type": "code",
   "execution_count": null,
   "metadata": {
    "id": "KfCbQ_LYsX5O"
   },
   "outputs": [],
   "source": []
  },
  {
   "cell_type": "markdown",
   "metadata": {
    "id": "XhLgwjX-oDV7"
   },
   "source": [
    "---"
   ]
  },
  {
   "cell_type": "markdown",
   "metadata": {
    "id": "m0TfOlwcUElk"
   },
   "source": [
    "### Lambda functions"
   ]
  },
  {
   "cell_type": "markdown",
   "metadata": {
    "id": "0SvVr7ylevtD"
   },
   "source": [
    "If you want to write a very short/simple function, you can do this in a single line using so-called **lambda functions** (also called anonymous functions):"
   ]
  },
  {
   "cell_type": "code",
   "execution_count": null,
   "metadata": {
    "id": "akjfLKKogPun"
   },
   "outputs": [],
   "source": [
    "# Instead of defining a regular function...\n",
    "def square_root(num):\n",
    "    return num**0.5\n",
    "\n",
    "\n",
    "print(square_root(5))\n",
    "\n",
    "# ... we could use a lambda function\n",
    "square_root = lambda num: num**0.5\n",
    "print(square_root(5))"
   ]
  },
  {
   "cell_type": "markdown",
   "metadata": {
    "id": "QBdwN6M6g2aY"
   },
   "source": [
    "Lambda functions have the following syntax:\n",
    "\n",
    ">``lambda`` *parameters*: *expression*\n",
    "\n",
    "\n",
    "\n"
   ]
  },
  {
   "cell_type": "markdown",
   "metadata": {
    "id": "6XFGkqxbhT4j"
   },
   "source": [
    "This means that they start with the **``lambda`` keyword**. Then, you have to define the parameters (i.e. local variables) that provide the **arguments for your function** (here ``num``), followed by a ``:``. In the **expression** you define what your function should do.\n",
    "\n",
    "Lambda functions can also have multiple arguments:"
   ]
  },
  {
   "cell_type": "code",
   "execution_count": null,
   "metadata": {
    "id": "lNo0EVPbhTJk"
   },
   "outputs": [],
   "source": [
    "add_squares = lambda x, y: x**2+y**2\n",
    "add_squares(2, 3)"
   ]
  },
  {
   "cell_type": "markdown",
   "metadata": {
    "id": "wZbHyPegjEn1"
   },
   "source": [
    "However, they can only have a single expression (i.e. one statement as to what the function should do). For this reason, more complicated things are typically not done with lambda functions.\n",
    "\n",
    "The virtue of lambda functions is that they can be defined on the fly within a line of code (i.e. as \"anonymous\" functions), for example, as arguments to other functions. Here is an example using lambda functions within ``map()`` and within ``filter()``:"
   ]
  },
  {
   "cell_type": "code",
   "execution_count": 9,
   "metadata": {
    "id": "4-JkJGMqRRoS"
   },
   "outputs": [
    {
     "name": "stdout",
     "output_type": "stream",
     "text": [
      "[3, 6, 9, 12, 15]\n",
      "[3, 4, 5]\n"
     ]
    }
   ],
   "source": [
    "my_list = [1, 2, 3, 4, 5]\n",
    "\n",
    "# The map function applies a function to every element in an iterable\n",
    "print(list(map(lambda x: 3*x, my_list)))\n",
    "\n",
    "# The filter function returns all elements in an iterable for which a function returns True\n",
    "print(list(filter(lambda x: x > 2, my_list)))"
   ]
  },
  {
   "cell_type": "markdown",
   "metadata": {
    "id": "1F4r90eCRtIO"
   },
   "source": [
    "If you want to learn more about maps and filters, see here: https://book.pythontips.com/en/latest/map_filter.html"
   ]
  },
  {
   "cell_type": "markdown",
   "metadata": {
    "id": "vNdwcP9c04DC"
   },
   "source": [
    "---\n",
    ">  <font color='teal'> **In-class exercise**: Write a lambda function that returns the average of two values. Assign it to a variable called ``my_avg`` and apply it to some values."
   ]
  },
  {
   "cell_type": "code",
   "execution_count": null,
   "metadata": {
    "id": "nCTIIH-8i3wR"
   },
   "outputs": [],
   "source": []
  },
  {
   "cell_type": "markdown",
   "metadata": {
    "id": "Zt-H3Izd1AXi"
   },
   "source": [
    "\n",
    "\n",
    "---\n",
    "\n"
   ]
  },
  {
   "cell_type": "markdown",
   "metadata": {
    "id": "s4hdYiYcUJgc"
   },
   "source": [
    "## Defining classes, methods, and attributes"
   ]
  },
  {
   "cell_type": "markdown",
   "metadata": {
    "id": "e2qMQkHx9M-H"
   },
   "source": [
    "### Creating our first class"
   ]
  },
  {
   "cell_type": "markdown",
   "metadata": {
    "id": "EtguSgUfQ8Li"
   },
   "source": [
    "As we said, **methods and attributes don't exist independently from an object**. In Python, **every object is of a specific type, also referred to as a class**. You can think of a class as a **blueprint** for creating objects. For example, we have a ``list`` class/type that defines the general properties of lists.\n",
    "\n",
    "You can then **create instances of the class** that will have all these properties. For example, objects such as ``[1, 2, 3, 4]`` or ``[\"Sarah\", \"Mary\", \"Tom\"]`` are instances of the list class and have all the **properties** of lists.\n",
    "\n",
    "Classes usually also have **methods that define actions you can perform on instances of that class**. For example, ``append()`` or ``sort()`` are methods of the list class. As discussed, you can apply them by putting a dot and then the name of the method after the object (e.g. ``[\"Sarah\", \"Mary\", \"Tom\"].append(\"Max\")``).\n",
    "\n",
    "\n",
    "\n"
   ]
  },
  {
   "cell_type": "markdown",
   "metadata": {
    "id": "hCASy7LRGbFB"
   },
   "source": [
    "We can also **define our own classes with our own methods**. We could, for example, create a ``Cat`` class as follows:"
   ]
  },
  {
   "cell_type": "code",
   "execution_count": 11,
   "metadata": {
    "id": "2uqx-UaRD9RU"
   },
   "outputs": [],
   "source": [
    "class Cat:\n",
    "    # define attributes\n",
    "    def __init__(self, name, age):\n",
    "        self.name = name   # instance attribute\n",
    "        self.age = age\n",
    "\n",
    "    # define methods\n",
    "    def present(self):\n",
    "        print(f\"The name of this cat is {self.name} and it is {self.age} years old!\")"
   ]
  },
  {
   "cell_type": "markdown",
   "metadata": {
    "id": "OAD3pRhoK1sg"
   },
   "source": [
    "*For now, don't worry if you don't understand everything about this code segment! The key point is that we created a class with certain properties, and, within  that class, defined a method.*\n",
    "\n",
    "Let's  **create some instances** of our ``Cat`` class:"
   ]
  },
  {
   "cell_type": "code",
   "execution_count": 12,
   "metadata": {
    "id": "zlpPDPwtK0__"
   },
   "outputs": [],
   "source": [
    "cat1 = Cat(\"Sarah\", 4)\n",
    "cat2 = Cat(\"Mary\", 3)"
   ]
  },
  {
   "cell_type": "markdown",
   "metadata": {
    "id": "OMh1xBVRLxkr"
   },
   "source": [
    "Now you can **apply the ``present()``** method to the class instances we created."
   ]
  },
  {
   "cell_type": "code",
   "execution_count": 13,
   "metadata": {
    "id": "7cxWYMiEMGDF"
   },
   "outputs": [
    {
     "name": "stdout",
     "output_type": "stream",
     "text": [
      "The name of this cat is Sarah and it is 4 years old!\n",
      "The name of this cat is Mary and it is 3 years old!\n"
     ]
    }
   ],
   "source": [
    "cat1.present()\n",
    "cat2.present()"
   ]
  },
  {
   "cell_type": "markdown",
   "metadata": {
    "id": "77F06RR-MVcx"
   },
   "source": [
    "Similarly, you could **access the attributes of your instances**:"
   ]
  },
  {
   "cell_type": "code",
   "execution_count": 14,
   "metadata": {
    "id": "T5ZIueLLLu1U"
   },
   "outputs": [
    {
     "name": "stdout",
     "output_type": "stream",
     "text": [
      "Sarah\n",
      "3\n"
     ]
    }
   ],
   "source": [
    "print(cat1.name)\n",
    "print(cat2.age)"
   ]
  },
  {
   "cell_type": "markdown",
   "metadata": {
    "id": "rBACLRXoUI2O"
   },
   "source": [
    "The values of the attributes can be changed in the usual way using the assignment operator and you can even add new attributes that have not been declared in the class definition:"
   ]
  },
  {
   "cell_type": "code",
   "execution_count": 15,
   "metadata": {
    "id": "NdsV-QRIVUVb"
   },
   "outputs": [
    {
     "name": "stdout",
     "output_type": "stream",
     "text": [
      "The name of this cat is Max and it is 4 years old!\n"
     ]
    },
    {
     "data": {
      "text/plain": [
       "'red'"
      ]
     },
     "execution_count": 15,
     "metadata": {},
     "output_type": "execute_result"
    }
   ],
   "source": [
    "cat1.name = \"Max\"\n",
    "cat1.present()\n",
    "cat1.color = \"red\"\n",
    "cat1.color"
   ]
  },
  {
   "cell_type": "markdown",
   "metadata": {
    "id": "V6r6sp_J-DbN"
   },
   "source": [
    "So, we have created a class with some attributes and a method. This allowed us to create instances of this class, access (and change) their attributes and apply the method. But how exactly did we do that?"
   ]
  },
  {
   "cell_type": "markdown",
   "metadata": {
    "id": "M83K5B-Q88EZ"
   },
   "source": [
    "### ``__init__`` and ``self``"
   ]
  },
  {
   "cell_type": "markdown",
   "metadata": {
    "id": "GFxAJoIgOayE"
   },
   "source": [
    "Let's have a closer look at our class definition:"
   ]
  },
  {
   "cell_type": "code",
   "execution_count": null,
   "metadata": {
    "id": "vRFNRKX3OZ_K"
   },
   "outputs": [],
   "source": [
    "class Cat:\n",
    "    # define attributes\n",
    "    def __init__(self, name, age):\n",
    "        self.name = name  # instance attribute\n",
    "        self.age = age\n",
    "\n",
    "    # define methods\n",
    "    def present(self):\n",
    "        print(f\"The name of this cat is {self.name} and it is {self.age} years old!\")"
   ]
  },
  {
   "cell_type": "code",
   "execution_count": null,
   "metadata": {
    "id": "44ZQ0ruKg3Cd"
   },
   "outputs": [],
   "source": [
    "cat1 = Cat(\"Sarah\", 4)\n",
    "cat2 = Cat(\"Mary\", 3)"
   ]
  },
  {
   "cell_type": "markdown",
   "metadata": {
    "id": "9W_J_Jmw5W9M"
   },
   "source": [
    "As you can see, classes are defined using the ``class`` keyword. Within the class, the definition of methods looks very similar to what we already know from functions. But what is ``__init__``?  And what is ``self``?\n",
    "\n",
    "**``__init__()`` is a *special method* and called the constructor**. When you create an instance of a class, it is automatically called. It is used to initialize the attributes of the object:\n",
    "```\n",
    "  def __init__(self, name, age):\n",
    "    self.name = name  # initalizes the instance attribute name\n",
    "    self.age = age    # initalizes the instance attribute age\n",
    "```\n",
    "In our case, we initialized the ``name`` and the ``age`` attribute. If we create an instance of our class, they will be set to the values we provided (e.g., \"Sarah\" and 4).\n",
    "\n",
    "**``self`` refers to the instance of your class** (e.g., ``cat1`` or ``cat2``). If you want to define an instance attribute (e.g., ``self.name = name``) or if  you want your methods to access such an attribute, it needs to be preceded by ``self``. For example, if you create ``cat1``, ``self`` will refer to ``cat1``. If you then execute ``self.present()``,  \n",
    "```\n",
    "print(f\"The name of this cat is {self.name} and it is {self.age} years old!\")\n",
    "```\n",
    "it will become:\n",
    "```\n",
    "print(f\"The name of this cat is {cat1.name} and it is {cat1.age} years old!\")\n",
    "```\n",
    "\n",
    "Just like functions, methods can also take arguments. Suppose we want our ``present()`` method to be able to make short presentations too:"
   ]
  },
  {
   "cell_type": "code",
   "execution_count": 17,
   "metadata": {
    "id": "b9NpQCUJ2iCK"
   },
   "outputs": [],
   "source": [
    "class Cat:\n",
    "    # define attributes\n",
    "    species = \"cat\"\n",
    "\n",
    "    def __init__(self, name, age):\n",
    "        self.name = name\n",
    "        self.age = age\n",
    "\n",
    "    # define methods\n",
    "    def present(self, short=False):\n",
    "        if short:\n",
    "            print(f\"This is {self.name}!\")\n",
    "        else:\n",
    "            print(f\"The name of this cat is {self.name} and it is {self.age} years old!\")\n",
    "\n"
   ]
  },
  {
   "cell_type": "markdown",
   "metadata": {
    "id": "-lWYtvCcGtAX"
   },
   "source": [
    "Now we can specify the ``short`` argument as we know it from functions:"
   ]
  },
  {
   "cell_type": "code",
   "execution_count": 18,
   "metadata": {
    "id": "CI3pmrTF3QIg"
   },
   "outputs": [
    {
     "name": "stdout",
     "output_type": "stream",
     "text": [
      "The name of this cat is Sarah and it is 4 years old!\n",
      "This is Sarah!\n"
     ]
    }
   ],
   "source": [
    "cat1 = Cat(\"Sarah\", 4)\n",
    "cat1.present()\n",
    "cat1.present(short=True)"
   ]
  },
  {
   "cell_type": "markdown",
   "metadata": {
    "id": "WIwLgqQU5W6c"
   },
   "source": [
    "### Inheritance"
   ]
  },
  {
   "cell_type": "markdown",
   "metadata": {
    "id": "r5rD0jdq5W3t"
   },
   "source": [
    "You can also create **subclasses that inherit the properties** from other classes. Suppose we have a class ``Animal``:"
   ]
  },
  {
   "cell_type": "code",
   "execution_count": 19,
   "metadata": {
    "id": "JhjJ7sf3Ho3v"
   },
   "outputs": [],
   "source": [
    "class Animal:\n",
    "    # define attributes\n",
    "    def __init__(self, name, age):\n",
    "        self.name = name\n",
    "        self.age = age\n",
    "\n",
    "    # define methods\n",
    "    def present(self):\n",
    "        print(f\"The name of this animal is {self.name} and it is {self.age} years old!\")"
   ]
  },
  {
   "cell_type": "markdown",
   "metadata": {
    "id": "9VKbn2NA5W1M"
   },
   "source": [
    "Now we wish to create a class ``Dog`` that is like the class ``Animal`` class with an additional attribute ``breed`` and an additional method ``describe()``:"
   ]
  },
  {
   "cell_type": "code",
   "execution_count": 20,
   "metadata": {
    "id": "I7AzdShlI7Y-"
   },
   "outputs": [],
   "source": [
    "class Dog(Animal):  # Create Dog class that inherits from Animal class\n",
    "\n",
    "    # Modify constructor\n",
    "    def __init__(self, name, age, breed):\n",
    "        super().__init__(name, age)  # Use super() to get name and age from Animal class\n",
    "        self.breed = breed           # Add attribute breed\n",
    "\n",
    "    # Create new method\n",
    "    def describe(self):\n",
    "        print(f\"{self.name} is a {self.breed}.\")"
   ]
  },
  {
   "cell_type": "code",
   "execution_count": 21,
   "metadata": {
    "id": "6Xso1wDvJMiu"
   },
   "outputs": [
    {
     "name": "stdout",
     "output_type": "stream",
     "text": [
      "The name of this animal is Maya and it is 3 years old!\n",
      "Maya is a Bulldog.\n"
     ]
    }
   ],
   "source": [
    "dog1 = Dog(\"Maya\", 3, \"Bulldog\")\n",
    "dog1.present()   # Apply present() method inherited from Animal class\n",
    "dog1.describe()  # Apply new describe() methods"
   ]
  },
  {
   "cell_type": "markdown",
   "metadata": {
    "id": "vonpCu4wO7wy"
   },
   "source": [
    "You can also create classes that inherit from a built-in Python class:"
   ]
  },
  {
   "cell_type": "code",
   "execution_count": 22,
   "metadata": {
    "id": "HKDcyRYFPGPL"
   },
   "outputs": [],
   "source": [
    "class MyStr(str):\n",
    "    def reverse(self):\n",
    "        return self[::-1]"
   ]
  },
  {
   "cell_type": "code",
   "execution_count": 23,
   "metadata": {
    "id": "zIXYCbBLPmQd"
   },
   "outputs": [
    {
     "data": {
      "text/plain": [
       "'olleh'"
      ]
     },
     "execution_count": 23,
     "metadata": {},
     "output_type": "execute_result"
    }
   ],
   "source": [
    "my_str = MyStr(\"hello\")\n",
    "my_str.reverse()"
   ]
  },
  {
   "cell_type": "markdown",
   "metadata": {
    "id": "3VTkEtkzP7u5"
   },
   "source": [
    "We have just created our own string class ``MyStr`` that works like the regular string class but has the additional method ``reverse()`` that returns a reversed version of the string."
   ]
  },
  {
   "cell_type": "markdown",
   "metadata": {
    "id": "9ibHdVCRNsh0"
   },
   "source": [
    "><font color = 4e1585> SIDENOTE:  We only scratched the surface of what is called **object-oriented programming**, i.e. writing and working with classes. Class programming is very powerful, but may take some time to get used to. For most applied work (data analysis etc.) and for (the graded exercises in) this course, you will not need it  -- but if you want to become a really good Python programmer, you will!  If you want to learn more about it, you can find many great tutorials online. For example:\n",
    ">\n",
    ">*   https://www.youtube.com/watch?v=ZDa-Z5JzLYM\n",
    ">*   https://realpython.com/python3-object-oriented-programming/\n",
    ">*   https://docs.python.org/3/tutorial/classes.html\n",
    "\n",
    "\n"
   ]
  },
  {
   "cell_type": "markdown",
   "metadata": {
    "id": "laiDgzARoKHl"
   },
   "source": [
    "## Next week\n",
    "\n",
    "In the next session there will be a short introduction to the modules NumPy and Pandas. We will continue with the Pandas module on the two following dates. If you already want to prepare a little, the following videos are recommended:\n",
    "\n",
    "* Importing modules and packages:\n",
    "  * https://youtu.be/AjYeGIsZpuk (3 min)\n",
    "* Introduction to numpy:\n",
    "  * https://youtu.be/AGzB7_vsLbE (5 min)\n",
    "  * https://youtu.be/AGzB7_vsLbE (3 min)\n",
    "  * https://youtu.be/xECXZ3tyONo (13 min, with some annoying interruptions)\n",
    "  * … and countless more detailed tutorials on Youtube\n",
    "* Introduction to pandas:\n",
    "  * https://youtu.be/tRKeLrwfUgU (23 min)\n",
    "  * In more detail: https://youtu.be/vmEHCJofslg (1:00 min, also serves as a preparation for the tutorial in 2 weeks)\n",
    "\n",
    "If you prefer to learn with text rather than videos, you can read up a bit on the relevant topics here, for example:\n",
    "* Numpy: https://www.w3schools.com/python/numpy_intro.asp\n",
    "* Pandas: https://www.w3schools.com/python/pandas/default.asp"
   ]
  }
 ],
 "metadata": {
  "colab": {
   "provenance": [],
   "toc_visible": true
  },
  "kernelspec": {
   "display_name": "Python 3",
   "name": "python3"
  },
  "language_info": {
   "codemirror_mode": {
    "name": "ipython",
    "version": 3
   },
   "file_extension": ".py",
   "mimetype": "text/x-python",
   "name": "python",
   "nbconvert_exporter": "python",
   "pygments_lexer": "ipython3",
   "version": "3.11.4"
  }
 },
 "nbformat": 4,
 "nbformat_minor": 0
}
