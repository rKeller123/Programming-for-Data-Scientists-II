{
 "cells": [
  {
   "cell_type": "markdown",
   "metadata": {
    "id": "Gwwx6YFTV9Vt"
   },
   "source": [
    "*Part 2: Python for Data Analysis II*\n",
    "# Working with Pandas#"
   ]
  },
  {
   "cell_type": "markdown",
   "metadata": {
    "id": "kK_V17EoSWpE"
   },
   "source": [
    "In the last tutorial we got to know the main object types of the pandas module: *Series* and *Dataframes*. We also learned how to access (and change) different parts of a dataframe using the different *indexers* that are available in pandas (i.e. ``[]``, ``loc[]`` and ``iloc[]``). In this tutorial, we will start working with real data and get to know some of the **methods and functions** the pandas module provides. We will only be able to cover a small fraction of them (see here for a documentation on all available functions and methods: https://pandas.pydata.org/docs/reference/index.html).\n",
    "\n",
    "When you start working with data, you may encounter problems you cannot easily solve with the methods and functions we discussed in this tutorial. Before you start writing complicated code, it is usually a good idea to Google for an easy solution first. Pandas has a large amount of useful functions and methods -- and most (if not all) of them are discussed on Stack Overflow. AI will also be of great use here."
   ]
  },
  {
   "cell_type": "markdown",
   "metadata": {
    "id": "NyrHqgIjRGsT"
   },
   "source": [
    "## Getting help"
   ]
  },
  {
   "cell_type": "markdown",
   "metadata": {
    "id": "b5yC0ZimQ2SE"
   },
   "source": [
    "In this class we will not be able to cover all aspects of Python. If you want more details, you can consult, for example, the **Python Standard Library Reference** at https://docs.python.org/3/library/ or the **Language Reference** at https://docs.python.org/3/reference/. But be warned: the amount of detail in these sources can be overwhelming. For **quick and easy-to-understand overviews** of different topics see, for example, https://www.w3schools.com/python/.\n",
    "\n",
    "For an introduction to pandas, see:\n",
    "\n",
    "*  https://www.w3schools.com/python/pandas/default.asp\n",
    "* https://pandas.pydata.org/docs/user_guide/index.html#user-guide\n",
    "\n",
    "If you get stuck or don't remember how to do something, it is usually a good idea to **Google** your problem. Python has a large (and fast-growing) community and you will probably find answers to most of your questions online (e.g. on **Stack Overflow** or in a **Youtube tutorial**)."
   ]
  },
  {
   "cell_type": "markdown",
   "metadata": {
    "id": "-tzfZnMXWHSe"
   },
   "source": [
    "## Importing data"
   ]
  },
  {
   "cell_type": "markdown",
   "metadata": {
    "id": "5J7u0zWuIwPH"
   },
   "source": [
    "The data we will work with in this tutorial can be found here:\n",
    "https://drive.google.com/drive/u/0/folders/1_ToH44Kq7mhSM5p0fsYvEm_soAvWMBD3\n",
    "\n",
    "The relevant file is called ``countries_life_satisfaction.csv``."
   ]
  },
  {
   "cell_type": "markdown",
   "metadata": {
    "id": "YJGi4jOzIouv"
   },
   "source": [
    "### Copying the data to your Google Drive"
   ]
  },
  {
   "cell_type": "markdown",
   "metadata": {
    "id": "F1r-fUn8FYLi"
   },
   "source": [
    "You first need to make a copy of the data. Right-click the the file and then do one of the following:\n",
    "\n",
    "(a) If you work with Colab, select **\"Make a copy\"** to store a copy of the file in your Google Drive. We suggest that you **create folder ``MyData`` in your Google Drive and copy the file into this folder**. The file name of the copy will be ``Copy of countries_life_satisfaction.csv``, so change the name back to ``countries_life_satisfaction.csv``. Placing the file in folder ``MyData`` and using file name ``countries_life_satisfaction.csv`` ensures that the path in the example below will work.\n",
    "\n",
    "(b) If you work locally, select \"Download\" to store a copy of the file on your harddrive. In this case, you can skip \"Mounting your Google Drive\", but you will need to modify the path in \"Setting the working directory\".\n",
    "\n",
    "**If you opened this tutorial in Colab, then you need to copy the file to Google Drive (option a) because Colab cannot access your harddrive.**\n",
    "\n",
    "Alternatively, you can read in the data via a direct URL.\n"
   ]
  },
  {
   "cell_type": "markdown",
   "metadata": {
    "id": "uWxTxbmGI9cM"
   },
   "source": [
    "### Mounting your Google Drive"
   ]
  },
  {
   "cell_type": "markdown",
   "metadata": {
    "id": "7HdK1QApJN8z"
   },
   "source": [
    "Assuming you work on Colab, you will now need to mount your Google Drive, so Colab can access the file (you can skip this section if you work locally). To mount the drive, run the following code:"
   ]
  },
  {
   "cell_type": "code",
   "execution_count": 4,
   "metadata": {
    "id": "fpyE6e7eJwAi"
   },
   "outputs": [
    {
     "ename": "ModuleNotFoundError",
     "evalue": "No module named 'google'",
     "output_type": "error",
     "traceback": [
      "\u001b[1;31m---------------------------------------------------------------------------\u001b[0m",
      "\u001b[1;31mModuleNotFoundError\u001b[0m                       Traceback (most recent call last)",
      "Cell \u001b[1;32mIn[4], line 1\u001b[0m\n\u001b[1;32m----> 1\u001b[0m \u001b[38;5;28;01mfrom\u001b[39;00m \u001b[38;5;21;01mgoogle\u001b[39;00m\u001b[38;5;21;01m.\u001b[39;00m\u001b[38;5;21;01mcolab\u001b[39;00m \u001b[38;5;28;01mimport\u001b[39;00m drive\n\u001b[0;32m      2\u001b[0m drive\u001b[38;5;241m.\u001b[39mmount(\u001b[38;5;124m'\u001b[39m\u001b[38;5;124m/content/drive\u001b[39m\u001b[38;5;124m'\u001b[39m)\n",
      "\u001b[1;31mModuleNotFoundError\u001b[0m: No module named 'google'"
     ]
    }
   ],
   "source": [
    "from google.colab import drive\n",
    "drive.mount('/content/drive')"
   ]
  },
  {
   "cell_type": "markdown",
   "metadata": {
    "id": "lDE0n64yJxOV"
   },
   "source": [
    "A link will appear that will take you to a page where you can grant access to your drive. After clicking \"Allow\", a code will be shown that you have to copy into the displayed field. After that, your Google Drive will be available at ``/content/drive/MyDrive``."
   ]
  },
  {
   "cell_type": "markdown",
   "metadata": {
    "id": "ArAslSt5Laj_"
   },
   "source": [
    "### Setting the working directory"
   ]
  },
  {
   "cell_type": "markdown",
   "metadata": {
    "id": "Solwu6xJL3zr"
   },
   "source": [
    "Specifying full file paths when reading in the data is a bit tedious so you may want to set the working directory to the folder that contains the data. **You can use the ``os`` module to specify your working directory**. Assuming you copied the file into a folder called ``MyData`` in your drive, this would go as follows:"
   ]
  },
  {
   "cell_type": "code",
   "execution_count": 6,
   "metadata": {
    "id": "Mh73O1ZULd7T"
   },
   "outputs": [
    {
     "data": {
      "text/plain": [
       "'c:\\\\Users\\\\Raphael\\\\Documents\\\\unibe\\\\Semester 4\\\\Programming-for-Data-Scientists-II\\\\1_Tutorials'"
      ]
     },
     "execution_count": 6,
     "metadata": {},
     "output_type": "execute_result"
    }
   ],
   "source": [
    "import os\n",
    "os.getcwd()  # display path of current working directory"
   ]
  },
  {
   "cell_type": "code",
   "execution_count": 7,
   "metadata": {
    "id": "nJ01K-EBNdIB"
   },
   "outputs": [
    {
     "name": "stdout",
     "output_type": "stream",
     "text": [
      "c:\\Users\\Raphael\\Documents\\unibe\\Semester 4\\Programming-for-Data-Scientists-II\\4_Data\n"
     ]
    },
    {
     "data": {
      "text/plain": [
       "['counties_shp',\n",
       " 'countries_life_satisfaction.csv',\n",
       " 'countries_trust.csv',\n",
       " 'country_data_clean.csv',\n",
       " 'gender.csv',\n",
       " 'homicide.csv',\n",
       " 'images',\n",
       " 'life_satisfaction_clean.csv',\n",
       " 'projected-population-by-country.csv',\n",
       " 'real-gdp-per-capita.csv',\n",
       " 'swiss-boundaries',\n",
       " 'trust_clean.csv']"
      ]
     },
     "execution_count": 7,
     "metadata": {},
     "output_type": "execute_result"
    }
   ],
   "source": [
    "os.chdir('../4_Data')  # change working directory\n",
    "print(os.getcwd())  # display path of current working directory\n",
    "os.listdir()        # list contents of current working directory"
   ]
  },
  {
   "cell_type": "markdown",
   "metadata": {
    "id": "Bbjkx7Z2O7B3"
   },
   "source": [
    "You can now refer to your file simply as ``countries_life_satisfaction.csv`` without having to type the full path."
   ]
  },
  {
   "cell_type": "markdown",
   "metadata": {
    "id": "Ijy4zhp9PZk0"
   },
   "source": [
    "### Loading data into a Pandas dataframe"
   ]
  },
  {
   "cell_type": "markdown",
   "metadata": {
    "id": "BWkkZH7nP_Tu"
   },
   "source": [
    "First import the ``pandas`` module:"
   ]
  },
  {
   "cell_type": "code",
   "execution_count": 8,
   "metadata": {
    "executionInfo": {
     "elapsed": 694,
     "status": "ok",
     "timestamp": 1742157244143,
     "user": {
      "displayName": "Rudolf Farys",
      "userId": "11982806469493281304"
     },
     "user_tz": -60
    },
    "id": "HGYQXXNEQluk"
   },
   "outputs": [],
   "source": [
    "import pandas as pd"
   ]
  },
  {
   "cell_type": "markdown",
   "metadata": {
    "id": "Y2AVEARegUVm"
   },
   "source": [
    "\n",
    "To import data from a CSV (comma separated values) file, you can use pandas ``read_csv()`` method:"
   ]
  },
  {
   "cell_type": "code",
   "execution_count": 9,
   "metadata": {
    "id": "13L4UD_YoDMB"
   },
   "outputs": [
    {
     "name": "stdout",
     "output_type": "stream",
     "text": [
      "     Unnamed: 0                      index code  gni_per_capita  \\\n",
      "0             0            Slovak Republic  SVK         17670.0   \n",
      "1             1                  Australia  AUS         60500.0   \n",
      "2             2                    Georgia  GEO          4410.0   \n",
      "3             3                     Norway  NOR         93110.0   \n",
      "4             4                   Bulgaria  BGR          7450.0   \n",
      "..          ...                        ...  ...             ...   \n",
      "198         198                      Benin  BEN          1180.0   \n",
      "199         199               Saudi Arabia  SAU         23710.0   \n",
      "200         200                     Latvia  LVA         15100.0   \n",
      "201         201  Sint Maarten (Dutch part)  SXM         29560.0   \n",
      "202         202                        NaN  NaN             NaN   \n",
      "\n",
      "     life satisfaction in cantril ladder (world happiness report 2019)  \\\n",
      "0                                             6.235111                   \n",
      "1                                             7.176993                   \n",
      "2                                             4.659097                   \n",
      "3                                             7.444262                   \n",
      "4                                             5.098814                   \n",
      "..                                                 ...                   \n",
      "198                                           5.819827                   \n",
      "199                                           6.356393                   \n",
      "200                                           5.901154                   \n",
      "201                                                NaN                   \n",
      "202                                                NaN                   \n",
      "\n",
      "     fertility  total population      continent working hours per year  \n",
      "0        1.442         5436000.0         Europe              1754.0863  \n",
      "1        1.858        23932000.0        Oceania               1747.009  \n",
      "2        2.050         4024000.0           Asia                no data  \n",
      "3        1.741         5200000.0         Europe              1422.5608  \n",
      "4        1.534         7200000.0         Europe              1644.3853  \n",
      "..         ...               ...            ...                    ...  \n",
      "198      5.047        10576000.0         Afrika                no data  \n",
      "199      2.507        31718000.0           Asia                no data  \n",
      "200      1.606         1998000.0         Europe              1901.7413  \n",
      "201    -99.000           40000.0  North America                no data  \n",
      "202        NaN               NaN            NaN                    NaN  \n",
      "\n",
      "[203 rows x 9 columns]\n"
     ]
    }
   ],
   "source": [
    "df = pd.read_csv(\"countries_life_satisfaction.csv\")\n",
    "print(df)"
   ]
  },
  {
   "cell_type": "markdown",
   "metadata": {
    "id": "A9_WcZQzyVX_"
   },
   "source": [
    "---\n",
    "\n",
    "\n",
    ">  <font color='teal'> **In-class exercise**: Copy the ``countries_life_satisfaction.csv`` to a folder in your Google Drive (e.g. ``MyData``) and mount your Google Drive. Then, import the  dataset ``countries_life_satisfaction.csv`` and assign it to a variable ``df``. You do not have to write additional code to do this. If you can run the code above, you succeeded!"
   ]
  },
  {
   "cell_type": "markdown",
   "metadata": {
    "id": "wF79LciKyrZa"
   },
   "source": [
    "\n",
    "\n",
    "---\n",
    "\n"
   ]
  },
  {
   "cell_type": "markdown",
   "metadata": {
    "id": "YWuCIbGhQuZc"
   },
   "source": [
    "### Importing data from an URL"
   ]
  },
  {
   "cell_type": "markdown",
   "metadata": {
    "id": "P1ww4vt-p753"
   },
   "source": [
    "If you didn't succeed to mount your Google Drive and import the data from there, you can also load the data from the following URL (so you can follow along with the remainder of the tutorial):"
   ]
  },
  {
   "cell_type": "code",
   "execution_count": null,
   "metadata": {
    "executionInfo": {
     "elapsed": 2498,
     "status": "ok",
     "timestamp": 1742157247881,
     "user": {
      "displayName": "Rudolf Farys",
      "userId": "11982806469493281304"
     },
     "user_tz": -60
    },
    "id": "xytNV-9vqSW4"
   },
   "outputs": [],
   "source": [
    "#df = pd.read_csv(\"http://farys.org/daten/countries_life_satisfaction.csv\")"
   ]
  },
  {
   "cell_type": "markdown",
   "metadata": {
    "id": "CgEEokGL-fie"
   },
   "source": [
    "Alternatively you could directly read the csv if you correctly specify the url to the csv in the Google Drive of this course:"
   ]
  },
  {
   "cell_type": "code",
   "execution_count": null,
   "metadata": {
    "colab": {
     "base_uri": "https://localhost:8080/"
    },
    "executionInfo": {
     "elapsed": 2711,
     "status": "ok",
     "timestamp": 1741787013570,
     "user": {
      "displayName": "Rudolf Farys",
      "userId": "11982806469493281304"
     },
     "user_tz": -60
    },
    "id": "2ViWIXCZ-uRq",
    "outputId": "d8ee20d5-21b2-47c3-d19f-9d7db5998c5d"
   },
   "outputs": [
    {
     "name": "stdout",
     "output_type": "stream",
     "text": [
      "https://drive.google.com/uc?id=1A9Vgj4MnVVnLxoCgXsApGl6xYWG4fihO\n"
     ]
    }
   ],
   "source": [
    "url = 'https://drive.google.com/file/d/1A9Vgj4MnVVnLxoCgXsApGl6xYWG4fihO/view?usp=drive_link'\n",
    "url = 'https://drive.google.com/uc?id=' + url.split('/')[-2]  # extracts the second-last part\n",
    "                                                              # between the \"/\" which holds the file id\n",
    "\n",
    "print(url)\n",
    "#df = pd.read_csv(url)"
   ]
  },
  {
   "cell_type": "markdown",
   "metadata": {
    "id": "AZpnKlG4dGd6"
   },
   "source": [
    "### Encodings and separators\n",
    "\n",
    "Oftentimes you may encounter problems with reading files which are related to the encoding of a file. Different operating systems use different defaults (utf8, latin1, applemac), which is important as soon as you use special characters like umlauts."
   ]
  },
  {
   "cell_type": "code",
   "execution_count": null,
   "metadata": {
    "colab": {
     "base_uri": "https://localhost:8080/",
     "height": 125
    },
    "executionInfo": {
     "elapsed": 1935,
     "status": "ok",
     "timestamp": 1741787097393,
     "user": {
      "displayName": "Rudolf Farys",
      "userId": "11982806469493281304"
     },
     "user_tz": -60
    },
    "id": "i9cXqr5adjXR",
    "outputId": "c6d313a3-07fc-49d0-e06a-c2ff7f8ecb6d"
   },
   "outputs": [
    {
     "data": {
      "text/html": [
       "<div>\n",
       "<style scoped>\n",
       "    .dataframe tbody tr th:only-of-type {\n",
       "        vertical-align: middle;\n",
       "    }\n",
       "\n",
       "    .dataframe tbody tr th {\n",
       "        vertical-align: top;\n",
       "    }\n",
       "\n",
       "    .dataframe thead th {\n",
       "        text-align: right;\n",
       "    }\n",
       "</style>\n",
       "<table border=\"1\" class=\"dataframe\">\n",
       "  <thead>\n",
       "    <tr style=\"text-align: right;\">\n",
       "      <th></th>\n",
       "      <th>kn</th>\n",
       "      <th>kanton</th>\n",
       "      <th>hauptort</th>\n",
       "    </tr>\n",
       "  </thead>\n",
       "  <tbody>\n",
       "    <tr>\n",
       "      <th>0</th>\n",
       "      <td>1</td>\n",
       "      <td>Zürich</td>\n",
       "      <td>Zürich</td>\n",
       "    </tr>\n",
       "    <tr>\n",
       "      <th>1</th>\n",
       "      <td>2</td>\n",
       "      <td>Bern</td>\n",
       "      <td>Bern</td>\n",
       "    </tr>\n",
       "  </tbody>\n",
       "</table>\n",
       "</div>"
      ],
      "text/plain": [
       "   kn   kanton  hauptort\n",
       "0   1   Zürich    Zürich\n",
       "1   2     Bern      Bern"
      ]
     },
     "execution_count": 17,
     "metadata": {},
     "output_type": "execute_result"
    }
   ],
   "source": [
    "df_utf8 = pd.read_csv(\"http://farys.org/daten/kantone_utf8.csv\")  # works\n",
    "df_utf8"
   ]
  },
  {
   "cell_type": "code",
   "execution_count": null,
   "metadata": {
    "id": "MvAArJFgdnXW"
   },
   "outputs": [
    {
     "ename": "UnicodeDecodeError",
     "evalue": "'utf-8' codec can't decode byte 0xfc in position 26: invalid start byte",
     "output_type": "error",
     "traceback": [
      "\u001b[1;31m---------------------------------------------------------------------------\u001b[0m",
      "\u001b[1;31mUnicodeDecodeError\u001b[0m                        Traceback (most recent call last)",
      "Cell \u001b[1;32mIn[18], line 1\u001b[0m\n\u001b[1;32m----> 1\u001b[0m df_ansi \u001b[38;5;241m=\u001b[39m \u001b[43mpd\u001b[49m\u001b[38;5;241;43m.\u001b[39;49m\u001b[43mread_csv\u001b[49m\u001b[43m(\u001b[49m\u001b[38;5;124;43m\"\u001b[39;49m\u001b[38;5;124;43mhttp://farys.org/daten/kantone_ansi.csv\u001b[39;49m\u001b[38;5;124;43m\"\u001b[39;49m\u001b[43m)\u001b[49m  \u001b[38;5;66;03m# does not work\u001b[39;00m\n\u001b[0;32m      2\u001b[0m df_ansi\n",
      "File \u001b[1;32m~\\AppData\\Local\\Packages\\PythonSoftwareFoundation.Python.3.10_qbz5n2kfra8p0\\LocalCache\\local-packages\\Python310\\site-packages\\pandas\\io\\parsers\\readers.py:1026\u001b[0m, in \u001b[0;36mread_csv\u001b[1;34m(filepath_or_buffer, sep, delimiter, header, names, index_col, usecols, dtype, engine, converters, true_values, false_values, skipinitialspace, skiprows, skipfooter, nrows, na_values, keep_default_na, na_filter, verbose, skip_blank_lines, parse_dates, infer_datetime_format, keep_date_col, date_parser, date_format, dayfirst, cache_dates, iterator, chunksize, compression, thousands, decimal, lineterminator, quotechar, quoting, doublequote, escapechar, comment, encoding, encoding_errors, dialect, on_bad_lines, delim_whitespace, low_memory, memory_map, float_precision, storage_options, dtype_backend)\u001b[0m\n\u001b[0;32m   1013\u001b[0m kwds_defaults \u001b[38;5;241m=\u001b[39m _refine_defaults_read(\n\u001b[0;32m   1014\u001b[0m     dialect,\n\u001b[0;32m   1015\u001b[0m     delimiter,\n\u001b[1;32m   (...)\u001b[0m\n\u001b[0;32m   1022\u001b[0m     dtype_backend\u001b[38;5;241m=\u001b[39mdtype_backend,\n\u001b[0;32m   1023\u001b[0m )\n\u001b[0;32m   1024\u001b[0m kwds\u001b[38;5;241m.\u001b[39mupdate(kwds_defaults)\n\u001b[1;32m-> 1026\u001b[0m \u001b[38;5;28;01mreturn\u001b[39;00m \u001b[43m_read\u001b[49m\u001b[43m(\u001b[49m\u001b[43mfilepath_or_buffer\u001b[49m\u001b[43m,\u001b[49m\u001b[43m \u001b[49m\u001b[43mkwds\u001b[49m\u001b[43m)\u001b[49m\n",
      "File \u001b[1;32m~\\AppData\\Local\\Packages\\PythonSoftwareFoundation.Python.3.10_qbz5n2kfra8p0\\LocalCache\\local-packages\\Python310\\site-packages\\pandas\\io\\parsers\\readers.py:620\u001b[0m, in \u001b[0;36m_read\u001b[1;34m(filepath_or_buffer, kwds)\u001b[0m\n\u001b[0;32m    617\u001b[0m _validate_names(kwds\u001b[38;5;241m.\u001b[39mget(\u001b[38;5;124m\"\u001b[39m\u001b[38;5;124mnames\u001b[39m\u001b[38;5;124m\"\u001b[39m, \u001b[38;5;28;01mNone\u001b[39;00m))\n\u001b[0;32m    619\u001b[0m \u001b[38;5;66;03m# Create the parser.\u001b[39;00m\n\u001b[1;32m--> 620\u001b[0m parser \u001b[38;5;241m=\u001b[39m TextFileReader(filepath_or_buffer, \u001b[38;5;241m*\u001b[39m\u001b[38;5;241m*\u001b[39mkwds)\n\u001b[0;32m    622\u001b[0m \u001b[38;5;28;01mif\u001b[39;00m chunksize \u001b[38;5;129;01mor\u001b[39;00m iterator:\n\u001b[0;32m    623\u001b[0m     \u001b[38;5;28;01mreturn\u001b[39;00m parser\n",
      "File \u001b[1;32m~\\AppData\\Local\\Packages\\PythonSoftwareFoundation.Python.3.10_qbz5n2kfra8p0\\LocalCache\\local-packages\\Python310\\site-packages\\pandas\\io\\parsers\\readers.py:1620\u001b[0m, in \u001b[0;36mTextFileReader.__init__\u001b[1;34m(self, f, engine, **kwds)\u001b[0m\n\u001b[0;32m   1617\u001b[0m     \u001b[38;5;28mself\u001b[39m\u001b[38;5;241m.\u001b[39moptions[\u001b[38;5;124m\"\u001b[39m\u001b[38;5;124mhas_index_names\u001b[39m\u001b[38;5;124m\"\u001b[39m] \u001b[38;5;241m=\u001b[39m kwds[\u001b[38;5;124m\"\u001b[39m\u001b[38;5;124mhas_index_names\u001b[39m\u001b[38;5;124m\"\u001b[39m]\n\u001b[0;32m   1619\u001b[0m \u001b[38;5;28mself\u001b[39m\u001b[38;5;241m.\u001b[39mhandles: IOHandles \u001b[38;5;241m|\u001b[39m \u001b[38;5;28;01mNone\u001b[39;00m \u001b[38;5;241m=\u001b[39m \u001b[38;5;28;01mNone\u001b[39;00m\n\u001b[1;32m-> 1620\u001b[0m \u001b[38;5;28mself\u001b[39m\u001b[38;5;241m.\u001b[39m_engine \u001b[38;5;241m=\u001b[39m \u001b[38;5;28;43mself\u001b[39;49m\u001b[38;5;241;43m.\u001b[39;49m\u001b[43m_make_engine\u001b[49m\u001b[43m(\u001b[49m\u001b[43mf\u001b[49m\u001b[43m,\u001b[49m\u001b[43m \u001b[49m\u001b[38;5;28;43mself\u001b[39;49m\u001b[38;5;241;43m.\u001b[39;49m\u001b[43mengine\u001b[49m\u001b[43m)\u001b[49m\n",
      "File \u001b[1;32m~\\AppData\\Local\\Packages\\PythonSoftwareFoundation.Python.3.10_qbz5n2kfra8p0\\LocalCache\\local-packages\\Python310\\site-packages\\pandas\\io\\parsers\\readers.py:1898\u001b[0m, in \u001b[0;36mTextFileReader._make_engine\u001b[1;34m(self, f, engine)\u001b[0m\n\u001b[0;32m   1895\u001b[0m     \u001b[38;5;28;01mraise\u001b[39;00m \u001b[38;5;167;01mValueError\u001b[39;00m(msg)\n\u001b[0;32m   1897\u001b[0m \u001b[38;5;28;01mtry\u001b[39;00m:\n\u001b[1;32m-> 1898\u001b[0m     \u001b[38;5;28;01mreturn\u001b[39;00m mapping[engine](f, \u001b[38;5;241m*\u001b[39m\u001b[38;5;241m*\u001b[39m\u001b[38;5;28mself\u001b[39m\u001b[38;5;241m.\u001b[39moptions)\n\u001b[0;32m   1899\u001b[0m \u001b[38;5;28;01mexcept\u001b[39;00m \u001b[38;5;167;01mException\u001b[39;00m:\n\u001b[0;32m   1900\u001b[0m     \u001b[38;5;28;01mif\u001b[39;00m \u001b[38;5;28mself\u001b[39m\u001b[38;5;241m.\u001b[39mhandles \u001b[38;5;129;01mis\u001b[39;00m \u001b[38;5;129;01mnot\u001b[39;00m \u001b[38;5;28;01mNone\u001b[39;00m:\n",
      "File \u001b[1;32m~\\AppData\\Local\\Packages\\PythonSoftwareFoundation.Python.3.10_qbz5n2kfra8p0\\LocalCache\\local-packages\\Python310\\site-packages\\pandas\\io\\parsers\\c_parser_wrapper.py:93\u001b[0m, in \u001b[0;36mCParserWrapper.__init__\u001b[1;34m(self, src, **kwds)\u001b[0m\n\u001b[0;32m     90\u001b[0m \u001b[38;5;28;01mif\u001b[39;00m kwds[\u001b[38;5;124m\"\u001b[39m\u001b[38;5;124mdtype_backend\u001b[39m\u001b[38;5;124m\"\u001b[39m] \u001b[38;5;241m==\u001b[39m \u001b[38;5;124m\"\u001b[39m\u001b[38;5;124mpyarrow\u001b[39m\u001b[38;5;124m\"\u001b[39m:\n\u001b[0;32m     91\u001b[0m     \u001b[38;5;66;03m# Fail here loudly instead of in cython after reading\u001b[39;00m\n\u001b[0;32m     92\u001b[0m     import_optional_dependency(\u001b[38;5;124m\"\u001b[39m\u001b[38;5;124mpyarrow\u001b[39m\u001b[38;5;124m\"\u001b[39m)\n\u001b[1;32m---> 93\u001b[0m \u001b[38;5;28mself\u001b[39m\u001b[38;5;241m.\u001b[39m_reader \u001b[38;5;241m=\u001b[39m parsers\u001b[38;5;241m.\u001b[39mTextReader(src, \u001b[38;5;241m*\u001b[39m\u001b[38;5;241m*\u001b[39mkwds)\n\u001b[0;32m     95\u001b[0m \u001b[38;5;28mself\u001b[39m\u001b[38;5;241m.\u001b[39munnamed_cols \u001b[38;5;241m=\u001b[39m \u001b[38;5;28mself\u001b[39m\u001b[38;5;241m.\u001b[39m_reader\u001b[38;5;241m.\u001b[39munnamed_cols\n\u001b[0;32m     97\u001b[0m \u001b[38;5;66;03m# error: Cannot determine type of 'names'\u001b[39;00m\n",
      "File \u001b[1;32mparsers.pyx:574\u001b[0m, in \u001b[0;36mpandas._libs.parsers.TextReader.__cinit__\u001b[1;34m()\u001b[0m\n",
      "File \u001b[1;32mparsers.pyx:663\u001b[0m, in \u001b[0;36mpandas._libs.parsers.TextReader._get_header\u001b[1;34m()\u001b[0m\n",
      "File \u001b[1;32mparsers.pyx:874\u001b[0m, in \u001b[0;36mpandas._libs.parsers.TextReader._tokenize_rows\u001b[1;34m()\u001b[0m\n",
      "File \u001b[1;32mparsers.pyx:891\u001b[0m, in \u001b[0;36mpandas._libs.parsers.TextReader._check_tokenize_status\u001b[1;34m()\u001b[0m\n",
      "File \u001b[1;32mparsers.pyx:2053\u001b[0m, in \u001b[0;36mpandas._libs.parsers.raise_parser_error\u001b[1;34m()\u001b[0m\n",
      "\u001b[1;31mUnicodeDecodeError\u001b[0m: 'utf-8' codec can't decode byte 0xfc in position 26: invalid start byte"
     ]
    }
   ],
   "source": [
    "df_ansi = pd.read_csv(\"http://farys.org/daten/kantone_ansi.csv\")  # does not work\n",
    "df_ansi"
   ]
  },
  {
   "cell_type": "code",
   "execution_count": null,
   "metadata": {
    "id": "viPeF08sdpsk"
   },
   "outputs": [
    {
     "data": {
      "text/html": [
       "<div>\n",
       "<style scoped>\n",
       "    .dataframe tbody tr th:only-of-type {\n",
       "        vertical-align: middle;\n",
       "    }\n",
       "\n",
       "    .dataframe tbody tr th {\n",
       "        vertical-align: top;\n",
       "    }\n",
       "\n",
       "    .dataframe thead th {\n",
       "        text-align: right;\n",
       "    }\n",
       "</style>\n",
       "<table border=\"1\" class=\"dataframe\">\n",
       "  <thead>\n",
       "    <tr style=\"text-align: right;\">\n",
       "      <th></th>\n",
       "      <th>kn</th>\n",
       "      <th>kanton</th>\n",
       "      <th>hauptort</th>\n",
       "    </tr>\n",
       "  </thead>\n",
       "  <tbody>\n",
       "    <tr>\n",
       "      <th>0</th>\n",
       "      <td>1</td>\n",
       "      <td>Zürich</td>\n",
       "      <td>Zürich</td>\n",
       "    </tr>\n",
       "    <tr>\n",
       "      <th>1</th>\n",
       "      <td>2</td>\n",
       "      <td>Bern</td>\n",
       "      <td>Bern</td>\n",
       "    </tr>\n",
       "  </tbody>\n",
       "</table>\n",
       "</div>"
      ],
      "text/plain": [
       "   kn   kanton  hauptort\n",
       "0   1   Zürich    Zürich\n",
       "1   2     Bern      Bern"
      ]
     },
     "execution_count": 19,
     "metadata": {},
     "output_type": "execute_result"
    }
   ],
   "source": [
    "df_ansi = pd.read_csv(\"http://farys.org/daten/kantone_ansi.csv\",\n",
    "                      encoding = \"latin1\")  # works\n",
    "df_ansi"
   ]
  },
  {
   "cell_type": "markdown",
   "metadata": {
    "id": "t1p1cw9lQJfL"
   },
   "source": [
    "``csv`` (and ``txt``) files can be saved with different seperators (e.g. ``,`` or ``;``)."
   ]
  },
  {
   "cell_type": "code",
   "execution_count": null,
   "metadata": {
    "id": "ZakZ7HK0drio"
   },
   "outputs": [
    {
     "data": {
      "text/html": [
       "<div>\n",
       "<style scoped>\n",
       "    .dataframe tbody tr th:only-of-type {\n",
       "        vertical-align: middle;\n",
       "    }\n",
       "\n",
       "    .dataframe tbody tr th {\n",
       "        vertical-align: top;\n",
       "    }\n",
       "\n",
       "    .dataframe thead th {\n",
       "        text-align: right;\n",
       "    }\n",
       "</style>\n",
       "<table border=\"1\" class=\"dataframe\">\n",
       "  <thead>\n",
       "    <tr style=\"text-align: right;\">\n",
       "      <th></th>\n",
       "      <th>kn; kanton; hauptort; einwohner; fläche</th>\n",
       "    </tr>\n",
       "  </thead>\n",
       "  <tbody>\n",
       "    <tr>\n",
       "      <th>1; Zürich; Zürich; 1'564'662; 1728</th>\n",
       "      <td>94</td>\n",
       "    </tr>\n",
       "    <tr>\n",
       "      <th>2; Bern; Bern; 1'047'473; 5958</th>\n",
       "      <td>51</td>\n",
       "    </tr>\n",
       "  </tbody>\n",
       "</table>\n",
       "</div>"
      ],
      "text/plain": [
       "                                    kn; kanton; hauptort; einwohner; fläche\n",
       "1; Zürich; Zürich; 1'564'662; 1728                                       94\n",
       "2; Bern; Bern; 1'047'473; 5958                                           51"
      ]
     },
     "execution_count": 20,
     "metadata": {},
     "output_type": "execute_result"
    }
   ],
   "source": [
    "df_sc = pd.read_csv(\"http://farys.org/daten/kantone_semicolon.csv\")\n",
    "df_sc"
   ]
  },
  {
   "cell_type": "code",
   "execution_count": null,
   "metadata": {
    "id": "nEiGOobVd7LL"
   },
   "outputs": [
    {
     "data": {
      "text/html": [
       "<div>\n",
       "<style scoped>\n",
       "    .dataframe tbody tr th:only-of-type {\n",
       "        vertical-align: middle;\n",
       "    }\n",
       "\n",
       "    .dataframe tbody tr th {\n",
       "        vertical-align: top;\n",
       "    }\n",
       "\n",
       "    .dataframe thead th {\n",
       "        text-align: right;\n",
       "    }\n",
       "</style>\n",
       "<table border=\"1\" class=\"dataframe\">\n",
       "  <thead>\n",
       "    <tr style=\"text-align: right;\">\n",
       "      <th></th>\n",
       "      <th>kn</th>\n",
       "      <th>kanton</th>\n",
       "      <th>hauptort</th>\n",
       "      <th>einwohner</th>\n",
       "      <th>fläche</th>\n",
       "    </tr>\n",
       "  </thead>\n",
       "  <tbody>\n",
       "    <tr>\n",
       "      <th>0</th>\n",
       "      <td>1</td>\n",
       "      <td>Zürich</td>\n",
       "      <td>Zürich</td>\n",
       "      <td>1'564'662</td>\n",
       "      <td>1728,94</td>\n",
       "    </tr>\n",
       "    <tr>\n",
       "      <th>1</th>\n",
       "      <td>2</td>\n",
       "      <td>Bern</td>\n",
       "      <td>Bern</td>\n",
       "      <td>1'047'473</td>\n",
       "      <td>5958,51</td>\n",
       "    </tr>\n",
       "  </tbody>\n",
       "</table>\n",
       "</div>"
      ],
      "text/plain": [
       "   kn   kanton  hauptort   einwohner    fläche\n",
       "0   1   Zürich    Zürich   1'564'662   1728,94\n",
       "1   2     Bern      Bern   1'047'473   5958,51"
      ]
     },
     "execution_count": 21,
     "metadata": {},
     "output_type": "execute_result"
    }
   ],
   "source": [
    "df_sc = pd.read_csv(\"http://farys.org/daten/kantone_semicolon.csv\", sep=\";\")\n",
    "df_sc"
   ]
  },
  {
   "cell_type": "markdown",
   "metadata": {
    "id": "XJjVYXSadtNC"
   },
   "source": [
    "Furthermore - especially in Europe - you might encounter differences in the specification of decimal-characters and thousands separators."
   ]
  },
  {
   "cell_type": "code",
   "execution_count": null,
   "metadata": {
    "id": "5kjWVXqXd898"
   },
   "outputs": [
    {
     "data": {
      "text/html": [
       "<div>\n",
       "<style scoped>\n",
       "    .dataframe tbody tr th:only-of-type {\n",
       "        vertical-align: middle;\n",
       "    }\n",
       "\n",
       "    .dataframe tbody tr th {\n",
       "        vertical-align: top;\n",
       "    }\n",
       "\n",
       "    .dataframe thead th {\n",
       "        text-align: right;\n",
       "    }\n",
       "</style>\n",
       "<table border=\"1\" class=\"dataframe\">\n",
       "  <thead>\n",
       "    <tr style=\"text-align: right;\">\n",
       "      <th></th>\n",
       "      <th>kn</th>\n",
       "      <th>kanton</th>\n",
       "      <th>hauptort</th>\n",
       "      <th>einwohner</th>\n",
       "      <th>fläche</th>\n",
       "    </tr>\n",
       "  </thead>\n",
       "  <tbody>\n",
       "    <tr>\n",
       "      <th>0</th>\n",
       "      <td>1</td>\n",
       "      <td>Zürich</td>\n",
       "      <td>Zürich</td>\n",
       "      <td>1564662</td>\n",
       "      <td>1728.94</td>\n",
       "    </tr>\n",
       "    <tr>\n",
       "      <th>1</th>\n",
       "      <td>2</td>\n",
       "      <td>Bern</td>\n",
       "      <td>Bern</td>\n",
       "      <td>1047473</td>\n",
       "      <td>5958.51</td>\n",
       "    </tr>\n",
       "  </tbody>\n",
       "</table>\n",
       "</div>"
      ],
      "text/plain": [
       "   kn   kanton  hauptort   einwohner   fläche\n",
       "0   1   Zürich    Zürich     1564662  1728.94\n",
       "1   2     Bern      Bern     1047473  5958.51"
      ]
     },
     "execution_count": 22,
     "metadata": {},
     "output_type": "execute_result"
    }
   ],
   "source": [
    "df_sc = pd.read_csv(\"http://farys.org/daten/kantone_semicolon.csv\", sep=\";\",\n",
    "                    thousands=\"'\",\n",
    "                    decimal=\",\")\n",
    "df_sc"
   ]
  },
  {
   "cell_type": "markdown",
   "metadata": {
    "id": "gCZLmoWSd_oN"
   },
   "source": [
    "There are also ways to roughly guess which encoding a file has:"
   ]
  },
  {
   "cell_type": "code",
   "execution_count": null,
   "metadata": {
    "id": "hYu3DpJJeEOL"
   },
   "outputs": [],
   "source": [
    "import chardet\n",
    "import requests\n",
    "\n",
    "# URL of the CSV file\n",
    "url_utf8 = \"http://farys.org/daten/kantone_utf8.csv\"\n",
    "url_ansi = \"http://farys.org/daten/kantone_ansi.csv\"\n",
    "\n",
    "# Download the file and check the encoding\n",
    "response = requests.get(url_utf8)\n",
    "encoding = chardet.detect(response.content)['encoding']\n",
    "print(encoding)\n",
    "\n",
    "response = requests.get(url_ansi)\n",
    "encoding = chardet.detect(response.content)['encoding']\n",
    "print(encoding)"
   ]
  },
  {
   "cell_type": "markdown",
   "metadata": {
    "id": "wYETe6XxepY1"
   },
   "source": [
    "We recommend to use these options to start with an as clean as possible dataset. Avoid manually cleaning data after reading it in a messy way."
   ]
  },
  {
   "cell_type": "markdown",
   "metadata": {
    "id": "1jFJJCDDukSr"
   },
   "source": [
    "><font color = 0000ff> SIDENOTE: The ``read_csv`` function takes many more arguments that can be useful. For example, you can can specify what should be used as the index, what values should be interpreted as missings, what datatypes to use for the different columns, how many rows should be skipped etc. You can use similar functions to import other file types such as Excel (``read_excel``), Stata (``read_stata``), SPSS (``read_spss``) etc."
   ]
  },
  {
   "cell_type": "markdown",
   "metadata": {
    "id": "foTAVtrCqf20"
   },
   "source": [
    "## Inspecting data"
   ]
  },
  {
   "cell_type": "markdown",
   "metadata": {
    "id": "kimyJy2tzFVo"
   },
   "source": [
    "### Getting started"
   ]
  },
  {
   "cell_type": "markdown",
   "metadata": {
    "id": "jBzrW66Lql5L"
   },
   "source": [
    "We have imported the data and assigned it to a dataframe called ``df``. Let's take a look at it now. You can use the **``head()`` method** to look at the first observations (i.e. rows) in a dataset:"
   ]
  },
  {
   "cell_type": "code",
   "execution_count": 10,
   "metadata": {
    "id": "ELBySQojV20p"
   },
   "outputs": [
    {
     "data": {
      "text/html": [
       "<div>\n",
       "<style scoped>\n",
       "    .dataframe tbody tr th:only-of-type {\n",
       "        vertical-align: middle;\n",
       "    }\n",
       "\n",
       "    .dataframe tbody tr th {\n",
       "        vertical-align: top;\n",
       "    }\n",
       "\n",
       "    .dataframe thead th {\n",
       "        text-align: right;\n",
       "    }\n",
       "</style>\n",
       "<table border=\"1\" class=\"dataframe\">\n",
       "  <thead>\n",
       "    <tr style=\"text-align: right;\">\n",
       "      <th></th>\n",
       "      <th>Unnamed: 0</th>\n",
       "      <th>index</th>\n",
       "      <th>code</th>\n",
       "      <th>gni_per_capita</th>\n",
       "      <th>life satisfaction in cantril ladder (world happiness report 2019)</th>\n",
       "      <th>fertility</th>\n",
       "      <th>total population</th>\n",
       "      <th>continent</th>\n",
       "      <th>working hours per year</th>\n",
       "    </tr>\n",
       "  </thead>\n",
       "  <tbody>\n",
       "    <tr>\n",
       "      <th>0</th>\n",
       "      <td>0</td>\n",
       "      <td>Slovak Republic</td>\n",
       "      <td>SVK</td>\n",
       "      <td>17670.0</td>\n",
       "      <td>6.235111</td>\n",
       "      <td>1.442</td>\n",
       "      <td>5436000.0</td>\n",
       "      <td>Europe</td>\n",
       "      <td>1754.0863</td>\n",
       "    </tr>\n",
       "    <tr>\n",
       "      <th>1</th>\n",
       "      <td>1</td>\n",
       "      <td>Australia</td>\n",
       "      <td>AUS</td>\n",
       "      <td>60500.0</td>\n",
       "      <td>7.176993</td>\n",
       "      <td>1.858</td>\n",
       "      <td>23932000.0</td>\n",
       "      <td>Oceania</td>\n",
       "      <td>1747.009</td>\n",
       "    </tr>\n",
       "    <tr>\n",
       "      <th>2</th>\n",
       "      <td>2</td>\n",
       "      <td>Georgia</td>\n",
       "      <td>GEO</td>\n",
       "      <td>4410.0</td>\n",
       "      <td>4.659097</td>\n",
       "      <td>2.050</td>\n",
       "      <td>4024000.0</td>\n",
       "      <td>Asia</td>\n",
       "      <td>no data</td>\n",
       "    </tr>\n",
       "    <tr>\n",
       "      <th>3</th>\n",
       "      <td>3</td>\n",
       "      <td>Norway</td>\n",
       "      <td>NOR</td>\n",
       "      <td>93110.0</td>\n",
       "      <td>7.444262</td>\n",
       "      <td>1.741</td>\n",
       "      <td>5200000.0</td>\n",
       "      <td>Europe</td>\n",
       "      <td>1422.5608</td>\n",
       "    </tr>\n",
       "    <tr>\n",
       "      <th>4</th>\n",
       "      <td>4</td>\n",
       "      <td>Bulgaria</td>\n",
       "      <td>BGR</td>\n",
       "      <td>7450.0</td>\n",
       "      <td>5.098814</td>\n",
       "      <td>1.534</td>\n",
       "      <td>7200000.0</td>\n",
       "      <td>Europe</td>\n",
       "      <td>1644.3853</td>\n",
       "    </tr>\n",
       "  </tbody>\n",
       "</table>\n",
       "</div>"
      ],
      "text/plain": [
       "   Unnamed: 0            index code  gni_per_capita  \\\n",
       "0           0  Slovak Republic  SVK         17670.0   \n",
       "1           1        Australia  AUS         60500.0   \n",
       "2           2          Georgia  GEO          4410.0   \n",
       "3           3           Norway  NOR         93110.0   \n",
       "4           4         Bulgaria  BGR          7450.0   \n",
       "\n",
       "   life satisfaction in cantril ladder (world happiness report 2019)  \\\n",
       "0                                           6.235111                   \n",
       "1                                           7.176993                   \n",
       "2                                           4.659097                   \n",
       "3                                           7.444262                   \n",
       "4                                           5.098814                   \n",
       "\n",
       "   fertility  total population continent working hours per year  \n",
       "0      1.442         5436000.0    Europe              1754.0863  \n",
       "1      1.858        23932000.0   Oceania               1747.009  \n",
       "2      2.050         4024000.0      Asia                no data  \n",
       "3      1.741         5200000.0    Europe              1422.5608  \n",
       "4      1.534         7200000.0    Europe              1644.3853  "
      ]
     },
     "execution_count": 10,
     "metadata": {},
     "output_type": "execute_result"
    }
   ],
   "source": [
    "df.head()  # print first 5 rows"
   ]
  },
  {
   "cell_type": "markdown",
   "metadata": {
    "id": "Fs4hn-ifrmqL"
   },
   "source": [
    "Similarly, you can use the **``tail()`` method** to look at the last rows:"
   ]
  },
  {
   "cell_type": "code",
   "execution_count": null,
   "metadata": {
    "id": "SrlirPk4qq2q"
   },
   "outputs": [
    {
     "data": {
      "text/html": [
       "<div>\n",
       "<style scoped>\n",
       "    .dataframe tbody tr th:only-of-type {\n",
       "        vertical-align: middle;\n",
       "    }\n",
       "\n",
       "    .dataframe tbody tr th {\n",
       "        vertical-align: top;\n",
       "    }\n",
       "\n",
       "    .dataframe thead th {\n",
       "        text-align: right;\n",
       "    }\n",
       "</style>\n",
       "<table border=\"1\" class=\"dataframe\">\n",
       "  <thead>\n",
       "    <tr style=\"text-align: right;\">\n",
       "      <th></th>\n",
       "      <th>Unnamed: 0</th>\n",
       "      <th>index</th>\n",
       "      <th>code</th>\n",
       "      <th>gni_per_capita</th>\n",
       "      <th>life satisfaction in cantril ladder (world happiness report 2019)</th>\n",
       "      <th>fertility</th>\n",
       "      <th>total population</th>\n",
       "      <th>continent</th>\n",
       "      <th>working hours per year</th>\n",
       "    </tr>\n",
       "  </thead>\n",
       "  <tbody>\n",
       "    <tr>\n",
       "      <th>103</th>\n",
       "      <td>103</td>\n",
       "      <td>Malawi</td>\n",
       "      <td>MWI</td>\n",
       "      <td>350.0</td>\n",
       "      <td>3.334634</td>\n",
       "      <td>4.527</td>\n",
       "      <td>16745000.0</td>\n",
       "      <td>Afrika</td>\n",
       "      <td>no data</td>\n",
       "    </tr>\n",
       "    <tr>\n",
       "      <th>104</th>\n",
       "      <td>104</td>\n",
       "      <td>Japan</td>\n",
       "      <td>JPN</td>\n",
       "      <td>38840.0</td>\n",
       "      <td>5.793575</td>\n",
       "      <td>1.395</td>\n",
       "      <td>127985000.0</td>\n",
       "      <td>Asia</td>\n",
       "      <td>1750.9</td>\n",
       "    </tr>\n",
       "    <tr>\n",
       "      <th>105</th>\n",
       "      <td>105</td>\n",
       "      <td>Philippines</td>\n",
       "      <td>PHL</td>\n",
       "      <td>3380.0</td>\n",
       "      <td>5.869173</td>\n",
       "      <td>2.805</td>\n",
       "      <td>102113000.0</td>\n",
       "      <td>Asia</td>\n",
       "      <td>2148.5645</td>\n",
       "    </tr>\n",
       "    <tr>\n",
       "      <th>106</th>\n",
       "      <td>106</td>\n",
       "      <td>Guyana</td>\n",
       "      <td>GUY</td>\n",
       "      <td>5470.0</td>\n",
       "      <td>NaN</td>\n",
       "      <td>2.534</td>\n",
       "      <td>767000.0</td>\n",
       "      <td>South America</td>\n",
       "      <td>no data</td>\n",
       "    </tr>\n",
       "    <tr>\n",
       "      <th>107</th>\n",
       "      <td>107</td>\n",
       "      <td>St. Martin (French part)</td>\n",
       "      <td>MAF</td>\n",
       "      <td>NaN</td>\n",
       "      <td>NaN</td>\n",
       "      <td>-99.000</td>\n",
       "      <td>36000.0</td>\n",
       "      <td>North America</td>\n",
       "      <td>no data</td>\n",
       "    </tr>\n",
       "    <tr>\n",
       "      <th>...</th>\n",
       "      <td>...</td>\n",
       "      <td>...</td>\n",
       "      <td>...</td>\n",
       "      <td>...</td>\n",
       "      <td>...</td>\n",
       "      <td>...</td>\n",
       "      <td>...</td>\n",
       "      <td>...</td>\n",
       "      <td>...</td>\n",
       "    </tr>\n",
       "    <tr>\n",
       "      <th>198</th>\n",
       "      <td>198</td>\n",
       "      <td>Benin</td>\n",
       "      <td>BEN</td>\n",
       "      <td>1180.0</td>\n",
       "      <td>5.819827</td>\n",
       "      <td>5.047</td>\n",
       "      <td>10576000.0</td>\n",
       "      <td>Afrika</td>\n",
       "      <td>no data</td>\n",
       "    </tr>\n",
       "    <tr>\n",
       "      <th>199</th>\n",
       "      <td>199</td>\n",
       "      <td>Saudi Arabia</td>\n",
       "      <td>SAU</td>\n",
       "      <td>23710.0</td>\n",
       "      <td>6.356393</td>\n",
       "      <td>2.507</td>\n",
       "      <td>31718000.0</td>\n",
       "      <td>Asia</td>\n",
       "      <td>no data</td>\n",
       "    </tr>\n",
       "    <tr>\n",
       "      <th>200</th>\n",
       "      <td>200</td>\n",
       "      <td>Latvia</td>\n",
       "      <td>LVA</td>\n",
       "      <td>15100.0</td>\n",
       "      <td>5.901154</td>\n",
       "      <td>1.606</td>\n",
       "      <td>1998000.0</td>\n",
       "      <td>Europe</td>\n",
       "      <td>1901.7413</td>\n",
       "    </tr>\n",
       "    <tr>\n",
       "      <th>201</th>\n",
       "      <td>201</td>\n",
       "      <td>Sint Maarten (Dutch part)</td>\n",
       "      <td>SXM</td>\n",
       "      <td>29560.0</td>\n",
       "      <td>NaN</td>\n",
       "      <td>-99.000</td>\n",
       "      <td>40000.0</td>\n",
       "      <td>North America</td>\n",
       "      <td>no data</td>\n",
       "    </tr>\n",
       "    <tr>\n",
       "      <th>202</th>\n",
       "      <td>202</td>\n",
       "      <td>NaN</td>\n",
       "      <td>NaN</td>\n",
       "      <td>NaN</td>\n",
       "      <td>NaN</td>\n",
       "      <td>NaN</td>\n",
       "      <td>NaN</td>\n",
       "      <td>NaN</td>\n",
       "      <td>NaN</td>\n",
       "    </tr>\n",
       "  </tbody>\n",
       "</table>\n",
       "<p>100 rows × 9 columns</p>\n",
       "</div>"
      ],
      "text/plain": [
       "     Unnamed: 0                      index code  gni_per_capita  \\\n",
       "103         103                     Malawi  MWI           350.0   \n",
       "104         104                      Japan  JPN         38840.0   \n",
       "105         105                Philippines  PHL          3380.0   \n",
       "106         106                     Guyana  GUY          5470.0   \n",
       "107         107   St. Martin (French part)  MAF             NaN   \n",
       "..          ...                        ...  ...             ...   \n",
       "198         198                      Benin  BEN          1180.0   \n",
       "199         199               Saudi Arabia  SAU         23710.0   \n",
       "200         200                     Latvia  LVA         15100.0   \n",
       "201         201  Sint Maarten (Dutch part)  SXM         29560.0   \n",
       "202         202                        NaN  NaN             NaN   \n",
       "\n",
       "     life satisfaction in cantril ladder (world happiness report 2019)  \\\n",
       "103                                           3.334634                   \n",
       "104                                           5.793575                   \n",
       "105                                           5.869173                   \n",
       "106                                                NaN                   \n",
       "107                                                NaN                   \n",
       "..                                                 ...                   \n",
       "198                                           5.819827                   \n",
       "199                                           6.356393                   \n",
       "200                                           5.901154                   \n",
       "201                                                NaN                   \n",
       "202                                                NaN                   \n",
       "\n",
       "     fertility  total population      continent working hours per year  \n",
       "103      4.527        16745000.0         Afrika                no data  \n",
       "104      1.395       127985000.0           Asia                 1750.9  \n",
       "105      2.805       102113000.0           Asia              2148.5645  \n",
       "106      2.534          767000.0  South America                no data  \n",
       "107    -99.000           36000.0  North America                no data  \n",
       "..         ...               ...            ...                    ...  \n",
       "198      5.047        10576000.0         Afrika                no data  \n",
       "199      2.507        31718000.0           Asia                no data  \n",
       "200      1.606         1998000.0         Europe              1901.7413  \n",
       "201    -99.000           40000.0  North America                no data  \n",
       "202        NaN               NaN            NaN                    NaN  \n",
       "\n",
       "[100 rows x 9 columns]"
      ]
     },
     "execution_count": 24,
     "metadata": {},
     "output_type": "execute_result"
    }
   ],
   "source": [
    "df.tail(100)  # Look the last 100 rows"
   ]
  },
  {
   "cell_type": "markdown",
   "metadata": {
    "id": "UGI1rekksDgP"
   },
   "source": [
    "As you may have noticed, the output will get shortened if you try to print many rows (or columns) at once. You can **change how many rows or columns should be displayed using the ``set_option()`` function**:"
   ]
  },
  {
   "cell_type": "code",
   "execution_count": null,
   "metadata": {
    "id": "LGvjNi5MtNnS"
   },
   "outputs": [
    {
     "data": {
      "text/html": [
       "<div>\n",
       "<style scoped>\n",
       "    .dataframe tbody tr th:only-of-type {\n",
       "        vertical-align: middle;\n",
       "    }\n",
       "\n",
       "    .dataframe tbody tr th {\n",
       "        vertical-align: top;\n",
       "    }\n",
       "\n",
       "    .dataframe thead th {\n",
       "        text-align: right;\n",
       "    }\n",
       "</style>\n",
       "<table border=\"1\" class=\"dataframe\">\n",
       "  <thead>\n",
       "    <tr style=\"text-align: right;\">\n",
       "      <th></th>\n",
       "      <th>Unnamed: 0</th>\n",
       "      <th>index</th>\n",
       "      <th>code</th>\n",
       "      <th>gni_per_capita</th>\n",
       "      <th>life satisfaction in cantril ladder (world happiness report 2019)</th>\n",
       "      <th>fertility</th>\n",
       "      <th>total population</th>\n",
       "      <th>continent</th>\n",
       "      <th>working hours per year</th>\n",
       "    </tr>\n",
       "  </thead>\n",
       "  <tbody>\n",
       "    <tr>\n",
       "      <th>0</th>\n",
       "      <td>0</td>\n",
       "      <td>Slovak Republic</td>\n",
       "      <td>SVK</td>\n",
       "      <td>17670.0</td>\n",
       "      <td>6.235111</td>\n",
       "      <td>1.442</td>\n",
       "      <td>5436000.0</td>\n",
       "      <td>Europe</td>\n",
       "      <td>1754.0863</td>\n",
       "    </tr>\n",
       "    <tr>\n",
       "      <th>1</th>\n",
       "      <td>1</td>\n",
       "      <td>Australia</td>\n",
       "      <td>AUS</td>\n",
       "      <td>60500.0</td>\n",
       "      <td>7.176993</td>\n",
       "      <td>1.858</td>\n",
       "      <td>23932000.0</td>\n",
       "      <td>Oceania</td>\n",
       "      <td>1747.009</td>\n",
       "    </tr>\n",
       "    <tr>\n",
       "      <th>2</th>\n",
       "      <td>2</td>\n",
       "      <td>Georgia</td>\n",
       "      <td>GEO</td>\n",
       "      <td>4410.0</td>\n",
       "      <td>4.659097</td>\n",
       "      <td>2.050</td>\n",
       "      <td>4024000.0</td>\n",
       "      <td>Asia</td>\n",
       "      <td>no data</td>\n",
       "    </tr>\n",
       "    <tr>\n",
       "      <th>3</th>\n",
       "      <td>3</td>\n",
       "      <td>Norway</td>\n",
       "      <td>NOR</td>\n",
       "      <td>93110.0</td>\n",
       "      <td>7.444262</td>\n",
       "      <td>1.741</td>\n",
       "      <td>5200000.0</td>\n",
       "      <td>Europe</td>\n",
       "      <td>1422.5608</td>\n",
       "    </tr>\n",
       "    <tr>\n",
       "      <th>...</th>\n",
       "      <td>...</td>\n",
       "      <td>...</td>\n",
       "      <td>...</td>\n",
       "      <td>...</td>\n",
       "      <td>...</td>\n",
       "      <td>...</td>\n",
       "      <td>...</td>\n",
       "      <td>...</td>\n",
       "      <td>...</td>\n",
       "    </tr>\n",
       "    <tr>\n",
       "      <th>199</th>\n",
       "      <td>199</td>\n",
       "      <td>Saudi Arabia</td>\n",
       "      <td>SAU</td>\n",
       "      <td>23710.0</td>\n",
       "      <td>6.356393</td>\n",
       "      <td>2.507</td>\n",
       "      <td>31718000.0</td>\n",
       "      <td>Asia</td>\n",
       "      <td>no data</td>\n",
       "    </tr>\n",
       "    <tr>\n",
       "      <th>200</th>\n",
       "      <td>200</td>\n",
       "      <td>Latvia</td>\n",
       "      <td>LVA</td>\n",
       "      <td>15100.0</td>\n",
       "      <td>5.901154</td>\n",
       "      <td>1.606</td>\n",
       "      <td>1998000.0</td>\n",
       "      <td>Europe</td>\n",
       "      <td>1901.7413</td>\n",
       "    </tr>\n",
       "    <tr>\n",
       "      <th>201</th>\n",
       "      <td>201</td>\n",
       "      <td>Sint Maarten (Dutch part)</td>\n",
       "      <td>SXM</td>\n",
       "      <td>29560.0</td>\n",
       "      <td>NaN</td>\n",
       "      <td>-99.000</td>\n",
       "      <td>40000.0</td>\n",
       "      <td>North America</td>\n",
       "      <td>no data</td>\n",
       "    </tr>\n",
       "    <tr>\n",
       "      <th>202</th>\n",
       "      <td>202</td>\n",
       "      <td>NaN</td>\n",
       "      <td>NaN</td>\n",
       "      <td>NaN</td>\n",
       "      <td>NaN</td>\n",
       "      <td>NaN</td>\n",
       "      <td>NaN</td>\n",
       "      <td>NaN</td>\n",
       "      <td>NaN</td>\n",
       "    </tr>\n",
       "  </tbody>\n",
       "</table>\n",
       "<p>203 rows × 9 columns</p>\n",
       "</div>"
      ],
      "text/plain": [
       "     Unnamed: 0                      index code  gni_per_capita  \\\n",
       "0             0            Slovak Republic  SVK         17670.0   \n",
       "1             1                  Australia  AUS         60500.0   \n",
       "2             2                    Georgia  GEO          4410.0   \n",
       "3             3                     Norway  NOR         93110.0   \n",
       "..          ...                        ...  ...             ...   \n",
       "199         199               Saudi Arabia  SAU         23710.0   \n",
       "200         200                     Latvia  LVA         15100.0   \n",
       "201         201  Sint Maarten (Dutch part)  SXM         29560.0   \n",
       "202         202                        NaN  NaN             NaN   \n",
       "\n",
       "     life satisfaction in cantril ladder (world happiness report 2019)  \\\n",
       "0                                             6.235111                   \n",
       "1                                             7.176993                   \n",
       "2                                             4.659097                   \n",
       "3                                             7.444262                   \n",
       "..                                                 ...                   \n",
       "199                                           6.356393                   \n",
       "200                                           5.901154                   \n",
       "201                                                NaN                   \n",
       "202                                                NaN                   \n",
       "\n",
       "     fertility  total population      continent working hours per year  \n",
       "0        1.442         5436000.0         Europe              1754.0863  \n",
       "1        1.858        23932000.0        Oceania               1747.009  \n",
       "2        2.050         4024000.0           Asia                no data  \n",
       "3        1.741         5200000.0         Europe              1422.5608  \n",
       "..         ...               ...            ...                    ...  \n",
       "199      2.507        31718000.0           Asia                no data  \n",
       "200      1.606         1998000.0         Europe              1901.7413  \n",
       "201    -99.000           40000.0  North America                no data  \n",
       "202        NaN               NaN            NaN                    NaN  \n",
       "\n",
       "[203 rows x 9 columns]"
      ]
     },
     "execution_count": 25,
     "metadata": {},
     "output_type": "execute_result"
    }
   ],
   "source": [
    "pd.set_option('display.max_rows', 8)  # Display 8 rows\n",
    "pd.set_option('display.max_columns', None)  # Display all columns\n",
    "df"
   ]
  },
  {
   "cell_type": "markdown",
   "metadata": {
    "id": "0l2wxy8UZKD7"
   },
   "source": [
    "The data still looks a bit messy; we will learn later how to tidy it up."
   ]
  },
  {
   "cell_type": "markdown",
   "metadata": {
    "id": "PenjeLhfx8rZ"
   },
   "source": [
    "### Data types"
   ]
  },
  {
   "cell_type": "markdown",
   "metadata": {
    "id": "WQLTc5lmHLiO"
   },
   "source": [
    "It may also be useful to take a look at the **data types** of each of your columns:"
   ]
  },
  {
   "cell_type": "code",
   "execution_count": null,
   "metadata": {
    "id": "p4Ek_3Llx3ih"
   },
   "outputs": [
    {
     "name": "stdout",
     "output_type": "stream",
     "text": [
      "Unnamed: 0                  int64\n",
      "index                      object\n",
      "code                       object\n",
      "gni_per_capita            float64\n",
      "                           ...   \n",
      "fertility                 float64\n",
      "total population          float64\n",
      "continent                  object\n",
      "working hours per year     object\n",
      "Length: 9, dtype: object\n"
     ]
    }
   ],
   "source": [
    "print(df.dtypes)"
   ]
  },
  {
   "cell_type": "markdown",
   "metadata": {
    "id": "xG7NCRDhHZhO"
   },
   "source": [
    "You already know the ``float`` and the ``int`` types, but what is the ``object`` type? It is used for string columns or mixed columns (e.g. strings and floats).\n",
    "\n",
    "\n",
    "><font color = 4e1585> SIDENOTE: If you want to convert a column to a different datatype, you can use the ``astype`` method. For example, ``df[\"Unnamed: 0\"].astype(\"float\")`` would return the \"Unnamed: 0\" column as floats.\n",
    ">\n",
    "><font color = 4e1585>If you are interested in data types in pandas, see, for example:\n",
    "* https://pbpython.com/pandas_dtypes.html\n"
   ]
  },
  {
   "cell_type": "markdown",
   "metadata": {
    "id": "HlZQbTez7i-a"
   },
   "source": [
    "### Summary statistics"
   ]
  },
  {
   "cell_type": "markdown",
   "metadata": {
    "id": "d3ZlygQbwCTQ"
   },
   "source": [
    "You can **use the ``describe()`` method to get summary statistics** for all (numeric) variables in your dataset:"
   ]
  },
  {
   "cell_type": "code",
   "execution_count": null,
   "metadata": {
    "id": "oEAT8wZSwLNw"
   },
   "outputs": [
    {
     "data": {
      "text/html": [
       "<div>\n",
       "<style scoped>\n",
       "    .dataframe tbody tr th:only-of-type {\n",
       "        vertical-align: middle;\n",
       "    }\n",
       "\n",
       "    .dataframe tbody tr th {\n",
       "        vertical-align: top;\n",
       "    }\n",
       "\n",
       "    .dataframe thead th {\n",
       "        text-align: right;\n",
       "    }\n",
       "</style>\n",
       "<table border=\"1\" class=\"dataframe\">\n",
       "  <thead>\n",
       "    <tr style=\"text-align: right;\">\n",
       "      <th></th>\n",
       "      <th>Unnamed: 0</th>\n",
       "      <th>gni_per_capita</th>\n",
       "      <th>life satisfaction in cantril ladder (world happiness report 2019)</th>\n",
       "      <th>fertility</th>\n",
       "      <th>total population</th>\n",
       "    </tr>\n",
       "  </thead>\n",
       "  <tbody>\n",
       "    <tr>\n",
       "      <th>count</th>\n",
       "      <td>203.000000</td>\n",
       "      <td>184.000000</td>\n",
       "      <td>126.000000</td>\n",
       "      <td>202.000000</td>\n",
       "      <td>2.020000e+02</td>\n",
       "    </tr>\n",
       "    <tr>\n",
       "      <th>mean</th>\n",
       "      <td>101.000000</td>\n",
       "      <td>14601.304348</td>\n",
       "      <td>5.533525</td>\n",
       "      <td>-8.313262</td>\n",
       "      <td>3.444713e+07</td>\n",
       "    </tr>\n",
       "    <tr>\n",
       "      <th>std</th>\n",
       "      <td>58.745213</td>\n",
       "      <td>19758.815960</td>\n",
       "      <td>1.103122</td>\n",
       "      <td>31.807608</td>\n",
       "      <td>1.397181e+08</td>\n",
       "    </tr>\n",
       "    <tr>\n",
       "      <th>min</th>\n",
       "      <td>0.000000</td>\n",
       "      <td>260.000000</td>\n",
       "      <td>2.694303</td>\n",
       "      <td>-99.000000</td>\n",
       "      <td>1.000000e+04</td>\n",
       "    </tr>\n",
       "    <tr>\n",
       "      <th>25%</th>\n",
       "      <td>50.500000</td>\n",
       "      <td>2112.500000</td>\n",
       "      <td>4.748194</td>\n",
       "      <td>1.564000</td>\n",
       "      <td>7.695000e+05</td>\n",
       "    </tr>\n",
       "    <tr>\n",
       "      <th>50%</th>\n",
       "      <td>101.000000</td>\n",
       "      <td>6010.000000</td>\n",
       "      <td>5.468088</td>\n",
       "      <td>2.101000</td>\n",
       "      <td>6.274000e+06</td>\n",
       "    </tr>\n",
       "    <tr>\n",
       "      <th>75%</th>\n",
       "      <td>151.500000</td>\n",
       "      <td>17505.000000</td>\n",
       "      <td>6.280186</td>\n",
       "      <td>3.214000</td>\n",
       "      <td>1.947150e+07</td>\n",
       "    </tr>\n",
       "    <tr>\n",
       "      <th>max</th>\n",
       "      <td>202.000000</td>\n",
       "      <td>101120.000000</td>\n",
       "      <td>7.858107</td>\n",
       "      <td>7.169000</td>\n",
       "      <td>1.406848e+09</td>\n",
       "    </tr>\n",
       "  </tbody>\n",
       "</table>\n",
       "</div>"
      ],
      "text/plain": [
       "       Unnamed: 0  gni_per_capita  \\\n",
       "count  203.000000      184.000000   \n",
       "mean   101.000000    14601.304348   \n",
       "std     58.745213    19758.815960   \n",
       "min      0.000000      260.000000   \n",
       "25%     50.500000     2112.500000   \n",
       "50%    101.000000     6010.000000   \n",
       "75%    151.500000    17505.000000   \n",
       "max    202.000000   101120.000000   \n",
       "\n",
       "       life satisfaction in cantril ladder (world happiness report 2019)  \\\n",
       "count                                         126.000000                   \n",
       "mean                                            5.533525                   \n",
       "std                                             1.103122                   \n",
       "min                                             2.694303                   \n",
       "25%                                             4.748194                   \n",
       "50%                                             5.468088                   \n",
       "75%                                             6.280186                   \n",
       "max                                             7.858107                   \n",
       "\n",
       "        fertility  total population  \n",
       "count  202.000000      2.020000e+02  \n",
       "mean    -8.313262      3.444713e+07  \n",
       "std     31.807608      1.397181e+08  \n",
       "min    -99.000000      1.000000e+04  \n",
       "25%      1.564000      7.695000e+05  \n",
       "50%      2.101000      6.274000e+06  \n",
       "75%      3.214000      1.947150e+07  \n",
       "max      7.169000      1.406848e+09  "
      ]
     },
     "execution_count": 28,
     "metadata": {},
     "output_type": "execute_result"
    }
   ],
   "source": [
    "df.describe()"
   ]
  },
  {
   "cell_type": "markdown",
   "metadata": {
    "id": "GkdkrkUzwjqr"
   },
   "source": [
    "You can do the same for **one specific statistic**:"
   ]
  },
  {
   "cell_type": "code",
   "execution_count": null,
   "metadata": {
    "id": "aQk-wI04TdVA"
   },
   "outputs": [
    {
     "data": {
      "text/plain": [
       "Unnamed: 0                                                           2.020000e+02\n",
       "gni_per_capita                                                       1.011200e+05\n",
       "life satisfaction in cantril ladder (world happiness report 2019)    7.858107e+00\n",
       "fertility                                                            7.169000e+00\n",
       "total population                                                     1.406848e+09\n",
       "dtype: float64"
      ]
     },
     "execution_count": 29,
     "metadata": {},
     "output_type": "execute_result"
    }
   ],
   "source": [
    "df.max(numeric_only=True)  # Print maximum of each column in dataframe"
   ]
  },
  {
   "cell_type": "markdown",
   "metadata": {
    "id": "B3gz5CC60MhD"
   },
   "source": [
    "Usually it makes more sense to do this **for a specific column**:"
   ]
  },
  {
   "cell_type": "code",
   "execution_count": null,
   "metadata": {
    "id": "PPTVMyOrVZOj"
   },
   "outputs": [
    {
     "name": "stdout",
     "output_type": "stream",
     "text": [
      "184\n",
      "14601.304347826086\n",
      "6010.0\n",
      "260.0\n",
      "101120.0\n"
     ]
    }
   ],
   "source": [
    "print(df[\"gni_per_capita\"].count())\n",
    "print(df[\"gni_per_capita\"].mean())\n",
    "print(df[\"gni_per_capita\"].median())\n",
    "print(df[\"gni_per_capita\"].min())\n",
    "print(df[\"gni_per_capita\"].max())"
   ]
  },
  {
   "cell_type": "markdown",
   "metadata": {
    "id": "Pguyms5_1ARt"
   },
   "source": [
    "You can use the **``agg()`` method to specify a list of statistics** that should be computed:"
   ]
  },
  {
   "cell_type": "code",
   "execution_count": null,
   "metadata": {
    "id": "7SJCRnVGVa6i"
   },
   "outputs": [
    {
     "name": "stdout",
     "output_type": "stream",
     "text": [
      "mean       14601.304348\n",
      "median      6010.000000\n",
      "min          260.000000\n",
      "max       101120.000000\n",
      "Name: gni_per_capita, dtype: float64\n"
     ]
    }
   ],
   "source": [
    "print(df[\"gni_per_capita\"].agg([\"mean\", \"median\", \"min\", \"max\"]))"
   ]
  },
  {
   "cell_type": "markdown",
   "metadata": {
    "id": "Ydu5rI-zTKpJ"
   },
   "source": [
    "These methods only work for numeric variables (i.e. floats, integers or booleans). For categorical (often string) variables, you may want to know the **different categories** and the **number of observations in each category**. This can be done using the **``unique()`` method** and the **``value_counts()`` method** respectively:"
   ]
  },
  {
   "cell_type": "code",
   "execution_count": null,
   "metadata": {
    "colab": {
     "base_uri": "https://localhost:8080/"
    },
    "executionInfo": {
     "elapsed": 6,
     "status": "ok",
     "timestamp": 1710761960816,
     "user": {
      "displayName": "Martina Jakob",
      "userId": "16119095848899534342"
     },
     "user_tz": -60
    },
    "id": "KE5QIROYTJ34",
    "outputId": "91f87fdc-9e7e-46fa-f709-b041ef8497cc"
   },
   "outputs": [
    {
     "name": "stdout",
     "output_type": "stream",
     "text": [
      "['Europe' 'Oceania' 'Asia' 'North America' 'Africa' 'South America'\n",
      " 'Afrika' 'asia' nan]\n"
     ]
    }
   ],
   "source": [
    "print(df[\"continent\"].unique())  # Get categories (unique values)"
   ]
  },
  {
   "cell_type": "code",
   "execution_count": null,
   "metadata": {
    "colab": {
     "base_uri": "https://localhost:8080/"
    },
    "executionInfo": {
     "elapsed": 299,
     "status": "ok",
     "timestamp": 1710762013517,
     "user": {
      "displayName": "Martina Jakob",
      "userId": "16119095848899534342"
     },
     "user_tz": -60
    },
    "id": "YWdxeucaqoSw",
    "outputId": "ef09dc87-e828-4ba1-c3fd-004caf981d55"
   },
   "outputs": [
    {
     "name": "stdout",
     "output_type": "stream",
     "text": [
      "continent\n",
      "Europe           47\n",
      "Afrika           35\n",
      "Asia             34\n",
      "North America    33\n",
      "Oceania          18\n",
      "Africa           15\n",
      "South America    11\n",
      "asia              9\n",
      "Name: count, dtype: int64\n"
     ]
    }
   ],
   "source": [
    "print(df[\"continent\"].value_counts())  # Get number of observations per category"
   ]
  },
  {
   "cell_type": "markdown",
   "metadata": {
    "id": "Pe-uPNclM1pe"
   },
   "source": [
    "\n",
    "\n",
    "---\n",
    "\n",
    "\n",
    ">  <font color='teal'> **In-class exercise**:\n",
    "Import the life satisfaction dataset and assign it to a variable called ``ls_data``. Print (1) the first 3 rows of the dataset, (2) the minimum, the maximum and the median population size and (3) the number of countries per continent."
   ]
  },
  {
   "cell_type": "code",
   "execution_count": 11,
   "metadata": {
    "id": "sMEH-z5-M00l"
   },
   "outputs": [
    {
     "name": "stdout",
     "output_type": "stream",
     "text": [
      "       country code  gni_per_capita  life_satisfaction  population continent  \\\n",
      "0  Afghanistan  AFG           600.0           2.694303  34414000.0      Asia   \n",
      "1      Albania  ALB          4390.0           5.004403   2891000.0    Europe   \n",
      "2      Algeria  DZA          4850.0           5.043086  39728000.0    Africa   \n",
      "\n",
      "   workhours         income_level  \n",
      "0        NaN           Low income  \n",
      "1        NaN  Upper middle income  \n",
      "2        NaN  Upper middle income  \n",
      "\n",
      "min       4.340000e+05\n",
      "max       1.406848e+09\n",
      "median    1.102500e+07\n",
      "Name: population, dtype: float64\n",
      "\n",
      "continent\n",
      "Europe           37\n",
      "Africa           36\n",
      "Asia             32\n",
      "North America    11\n",
      "South America     8\n",
      "Oceania           2\n",
      "Name: count, dtype: int64\n"
     ]
    }
   ],
   "source": [
    "ls_data = pd.read_csv(\"life_satisfaction_clean.csv\")\n",
    "\n",
    "# 1\n",
    "print(ls_data.head(3))\n",
    "print()\n",
    "\n",
    "# 2\n",
    "print(ls_data[\"population\"].agg([\"min\", \"max\", \"median\"]))\n",
    "print()\n",
    "\n",
    "# 3\n",
    "print(ls_data[\"continent\"].value_counts())"
   ]
  },
  {
   "cell_type": "markdown",
   "metadata": {
    "id": "GRoZPhihPYhy"
   },
   "source": [
    "\n",
    "\n",
    "---\n",
    "\n"
   ]
  },
  {
   "cell_type": "markdown",
   "metadata": {
    "id": "ADcodxjBww1k"
   },
   "source": [
    "## Cleaning data"
   ]
  },
  {
   "cell_type": "code",
   "execution_count": null,
   "metadata": {
    "id": "MvKLNbw-4YN9"
   },
   "outputs": [
    {
     "data": {
      "text/html": [
       "<div>\n",
       "<style scoped>\n",
       "    .dataframe tbody tr th:only-of-type {\n",
       "        vertical-align: middle;\n",
       "    }\n",
       "\n",
       "    .dataframe tbody tr th {\n",
       "        vertical-align: top;\n",
       "    }\n",
       "\n",
       "    .dataframe thead th {\n",
       "        text-align: right;\n",
       "    }\n",
       "</style>\n",
       "<table border=\"1\" class=\"dataframe\">\n",
       "  <thead>\n",
       "    <tr style=\"text-align: right;\">\n",
       "      <th></th>\n",
       "      <th>Unnamed: 0</th>\n",
       "      <th>index</th>\n",
       "      <th>code</th>\n",
       "      <th>gni_per_capita</th>\n",
       "      <th>life satisfaction in cantril ladder (world happiness report 2019)</th>\n",
       "      <th>fertility</th>\n",
       "      <th>total population</th>\n",
       "      <th>continent</th>\n",
       "      <th>working hours per year</th>\n",
       "    </tr>\n",
       "  </thead>\n",
       "  <tbody>\n",
       "    <tr>\n",
       "      <th>0</th>\n",
       "      <td>0</td>\n",
       "      <td>Slovak Republic</td>\n",
       "      <td>SVK</td>\n",
       "      <td>17670.0</td>\n",
       "      <td>6.235111</td>\n",
       "      <td>1.442</td>\n",
       "      <td>5436000.0</td>\n",
       "      <td>Europe</td>\n",
       "      <td>1754.0863</td>\n",
       "    </tr>\n",
       "    <tr>\n",
       "      <th>1</th>\n",
       "      <td>1</td>\n",
       "      <td>Australia</td>\n",
       "      <td>AUS</td>\n",
       "      <td>60500.0</td>\n",
       "      <td>7.176993</td>\n",
       "      <td>1.858</td>\n",
       "      <td>23932000.0</td>\n",
       "      <td>Oceania</td>\n",
       "      <td>1747.009</td>\n",
       "    </tr>\n",
       "    <tr>\n",
       "      <th>2</th>\n",
       "      <td>2</td>\n",
       "      <td>Georgia</td>\n",
       "      <td>GEO</td>\n",
       "      <td>4410.0</td>\n",
       "      <td>4.659097</td>\n",
       "      <td>2.050</td>\n",
       "      <td>4024000.0</td>\n",
       "      <td>Asia</td>\n",
       "      <td>no data</td>\n",
       "    </tr>\n",
       "  </tbody>\n",
       "</table>\n",
       "</div>"
      ],
      "text/plain": [
       "   Unnamed: 0            index code  gni_per_capita  \\\n",
       "0           0  Slovak Republic  SVK         17670.0   \n",
       "1           1        Australia  AUS         60500.0   \n",
       "2           2          Georgia  GEO          4410.0   \n",
       "\n",
       "   life satisfaction in cantril ladder (world happiness report 2019)  \\\n",
       "0                                           6.235111                   \n",
       "1                                           7.176993                   \n",
       "2                                           4.659097                   \n",
       "\n",
       "   fertility  total population continent working hours per year  \n",
       "0      1.442         5436000.0    Europe              1754.0863  \n",
       "1      1.858        23932000.0   Oceania               1747.009  \n",
       "2      2.050         4024000.0      Asia                no data  "
      ]
     },
     "execution_count": 38,
     "metadata": {},
     "output_type": "execute_result"
    }
   ],
   "source": [
    "df.head(3)"
   ]
  },
  {
   "cell_type": "markdown",
   "metadata": {
    "id": "Wbccx4e28dDN"
   },
   "source": [
    "You may already have noticed that our dataset has some inconsistencies, redundancies and errors that should be cleaned before we can start analyzing it."
   ]
  },
  {
   "cell_type": "markdown",
   "metadata": {
    "id": "6vkL8UfzXBRk"
   },
   "source": [
    "### Changing column and row indices"
   ]
  },
  {
   "cell_type": "markdown",
   "metadata": {
    "id": "36Ba4uOIXwL1"
   },
   "source": [
    "A first thing we might want to tidy up are the names of the columns. In the last tutorial we saw how to change all column names at once by assigning a list of names to ``df.columns``. But what if we want only to **change some of the column names**? We can use the **``rename`` method**:"
   ]
  },
  {
   "cell_type": "code",
   "execution_count": 12,
   "metadata": {
    "id": "Pa2cTmhPXJaJ"
   },
   "outputs": [
    {
     "data": {
      "text/html": [
       "<div>\n",
       "<style scoped>\n",
       "    .dataframe tbody tr th:only-of-type {\n",
       "        vertical-align: middle;\n",
       "    }\n",
       "\n",
       "    .dataframe tbody tr th {\n",
       "        vertical-align: top;\n",
       "    }\n",
       "\n",
       "    .dataframe thead th {\n",
       "        text-align: right;\n",
       "    }\n",
       "</style>\n",
       "<table border=\"1\" class=\"dataframe\">\n",
       "  <thead>\n",
       "    <tr style=\"text-align: right;\">\n",
       "      <th></th>\n",
       "      <th>Unnamed: 0</th>\n",
       "      <th>country</th>\n",
       "      <th>code</th>\n",
       "      <th>gni_per_capita</th>\n",
       "      <th>life_satisfaction</th>\n",
       "      <th>fertility</th>\n",
       "      <th>total population</th>\n",
       "      <th>continent</th>\n",
       "      <th>working hours per year</th>\n",
       "    </tr>\n",
       "  </thead>\n",
       "  <tbody>\n",
       "    <tr>\n",
       "      <th>0</th>\n",
       "      <td>0</td>\n",
       "      <td>Slovak Republic</td>\n",
       "      <td>SVK</td>\n",
       "      <td>17670.0</td>\n",
       "      <td>6.235111</td>\n",
       "      <td>1.442</td>\n",
       "      <td>5436000.0</td>\n",
       "      <td>Europe</td>\n",
       "      <td>1754.0863</td>\n",
       "    </tr>\n",
       "    <tr>\n",
       "      <th>1</th>\n",
       "      <td>1</td>\n",
       "      <td>Australia</td>\n",
       "      <td>AUS</td>\n",
       "      <td>60500.0</td>\n",
       "      <td>7.176993</td>\n",
       "      <td>1.858</td>\n",
       "      <td>23932000.0</td>\n",
       "      <td>Oceania</td>\n",
       "      <td>1747.009</td>\n",
       "    </tr>\n",
       "    <tr>\n",
       "      <th>2</th>\n",
       "      <td>2</td>\n",
       "      <td>Georgia</td>\n",
       "      <td>GEO</td>\n",
       "      <td>4410.0</td>\n",
       "      <td>4.659097</td>\n",
       "      <td>2.050</td>\n",
       "      <td>4024000.0</td>\n",
       "      <td>Asia</td>\n",
       "      <td>no data</td>\n",
       "    </tr>\n",
       "    <tr>\n",
       "      <th>3</th>\n",
       "      <td>3</td>\n",
       "      <td>Norway</td>\n",
       "      <td>NOR</td>\n",
       "      <td>93110.0</td>\n",
       "      <td>7.444262</td>\n",
       "      <td>1.741</td>\n",
       "      <td>5200000.0</td>\n",
       "      <td>Europe</td>\n",
       "      <td>1422.5608</td>\n",
       "    </tr>\n",
       "    <tr>\n",
       "      <th>4</th>\n",
       "      <td>4</td>\n",
       "      <td>Bulgaria</td>\n",
       "      <td>BGR</td>\n",
       "      <td>7450.0</td>\n",
       "      <td>5.098814</td>\n",
       "      <td>1.534</td>\n",
       "      <td>7200000.0</td>\n",
       "      <td>Europe</td>\n",
       "      <td>1644.3853</td>\n",
       "    </tr>\n",
       "    <tr>\n",
       "      <th>...</th>\n",
       "      <td>...</td>\n",
       "      <td>...</td>\n",
       "      <td>...</td>\n",
       "      <td>...</td>\n",
       "      <td>...</td>\n",
       "      <td>...</td>\n",
       "      <td>...</td>\n",
       "      <td>...</td>\n",
       "      <td>...</td>\n",
       "    </tr>\n",
       "    <tr>\n",
       "      <th>198</th>\n",
       "      <td>198</td>\n",
       "      <td>Benin</td>\n",
       "      <td>BEN</td>\n",
       "      <td>1180.0</td>\n",
       "      <td>5.819827</td>\n",
       "      <td>5.047</td>\n",
       "      <td>10576000.0</td>\n",
       "      <td>Afrika</td>\n",
       "      <td>no data</td>\n",
       "    </tr>\n",
       "    <tr>\n",
       "      <th>199</th>\n",
       "      <td>199</td>\n",
       "      <td>Saudi Arabia</td>\n",
       "      <td>SAU</td>\n",
       "      <td>23710.0</td>\n",
       "      <td>6.356393</td>\n",
       "      <td>2.507</td>\n",
       "      <td>31718000.0</td>\n",
       "      <td>Asia</td>\n",
       "      <td>no data</td>\n",
       "    </tr>\n",
       "    <tr>\n",
       "      <th>200</th>\n",
       "      <td>200</td>\n",
       "      <td>Latvia</td>\n",
       "      <td>LVA</td>\n",
       "      <td>15100.0</td>\n",
       "      <td>5.901154</td>\n",
       "      <td>1.606</td>\n",
       "      <td>1998000.0</td>\n",
       "      <td>Europe</td>\n",
       "      <td>1901.7413</td>\n",
       "    </tr>\n",
       "    <tr>\n",
       "      <th>201</th>\n",
       "      <td>201</td>\n",
       "      <td>Sint Maarten (Dutch part)</td>\n",
       "      <td>SXM</td>\n",
       "      <td>29560.0</td>\n",
       "      <td>NaN</td>\n",
       "      <td>-99.000</td>\n",
       "      <td>40000.0</td>\n",
       "      <td>North America</td>\n",
       "      <td>no data</td>\n",
       "    </tr>\n",
       "    <tr>\n",
       "      <th>202</th>\n",
       "      <td>202</td>\n",
       "      <td>NaN</td>\n",
       "      <td>NaN</td>\n",
       "      <td>NaN</td>\n",
       "      <td>NaN</td>\n",
       "      <td>NaN</td>\n",
       "      <td>NaN</td>\n",
       "      <td>NaN</td>\n",
       "      <td>NaN</td>\n",
       "    </tr>\n",
       "  </tbody>\n",
       "</table>\n",
       "<p>203 rows × 9 columns</p>\n",
       "</div>"
      ],
      "text/plain": [
       "     Unnamed: 0                    country code  gni_per_capita  \\\n",
       "0             0            Slovak Republic  SVK         17670.0   \n",
       "1             1                  Australia  AUS         60500.0   \n",
       "2             2                    Georgia  GEO          4410.0   \n",
       "3             3                     Norway  NOR         93110.0   \n",
       "4             4                   Bulgaria  BGR          7450.0   \n",
       "..          ...                        ...  ...             ...   \n",
       "198         198                      Benin  BEN          1180.0   \n",
       "199         199               Saudi Arabia  SAU         23710.0   \n",
       "200         200                     Latvia  LVA         15100.0   \n",
       "201         201  Sint Maarten (Dutch part)  SXM         29560.0   \n",
       "202         202                        NaN  NaN             NaN   \n",
       "\n",
       "     life_satisfaction  fertility  total population      continent  \\\n",
       "0             6.235111      1.442         5436000.0         Europe   \n",
       "1             7.176993      1.858        23932000.0        Oceania   \n",
       "2             4.659097      2.050         4024000.0           Asia   \n",
       "3             7.444262      1.741         5200000.0         Europe   \n",
       "4             5.098814      1.534         7200000.0         Europe   \n",
       "..                 ...        ...               ...            ...   \n",
       "198           5.819827      5.047        10576000.0         Afrika   \n",
       "199           6.356393      2.507        31718000.0           Asia   \n",
       "200           5.901154      1.606         1998000.0         Europe   \n",
       "201                NaN    -99.000           40000.0  North America   \n",
       "202                NaN        NaN               NaN            NaN   \n",
       "\n",
       "    working hours per year  \n",
       "0                1754.0863  \n",
       "1                 1747.009  \n",
       "2                  no data  \n",
       "3                1422.5608  \n",
       "4                1644.3853  \n",
       "..                     ...  \n",
       "198                no data  \n",
       "199                no data  \n",
       "200              1901.7413  \n",
       "201                no data  \n",
       "202                    NaN  \n",
       "\n",
       "[203 rows x 9 columns]"
      ]
     },
     "execution_count": 12,
     "metadata": {},
     "output_type": "execute_result"
    }
   ],
   "source": [
    "df.rename(columns={'life satisfaction in cantril ladder (world happiness report 2019)': 'life_satisfaction',\n",
    "                   'index': 'country'})  # Provide a dictionary as argument\n",
    "                                         # ('old name':'new name', 'old name':'new name', ...)"
   ]
  },
  {
   "cell_type": "markdown",
   "metadata": {
    "id": "L16hTcr_aCdf"
   },
   "source": [
    "So far, so good. But if we look at our dataframe, we see that the column names were not modified:"
   ]
  },
  {
   "cell_type": "code",
   "execution_count": 13,
   "metadata": {
    "id": "tXUIEgi-w0Cj"
   },
   "outputs": [
    {
     "data": {
      "text/html": [
       "<div>\n",
       "<style scoped>\n",
       "    .dataframe tbody tr th:only-of-type {\n",
       "        vertical-align: middle;\n",
       "    }\n",
       "\n",
       "    .dataframe tbody tr th {\n",
       "        vertical-align: top;\n",
       "    }\n",
       "\n",
       "    .dataframe thead th {\n",
       "        text-align: right;\n",
       "    }\n",
       "</style>\n",
       "<table border=\"1\" class=\"dataframe\">\n",
       "  <thead>\n",
       "    <tr style=\"text-align: right;\">\n",
       "      <th></th>\n",
       "      <th>Unnamed: 0</th>\n",
       "      <th>index</th>\n",
       "      <th>code</th>\n",
       "      <th>gni_per_capita</th>\n",
       "      <th>life satisfaction in cantril ladder (world happiness report 2019)</th>\n",
       "      <th>fertility</th>\n",
       "      <th>total population</th>\n",
       "      <th>continent</th>\n",
       "      <th>working hours per year</th>\n",
       "    </tr>\n",
       "  </thead>\n",
       "  <tbody>\n",
       "    <tr>\n",
       "      <th>0</th>\n",
       "      <td>0</td>\n",
       "      <td>Slovak Republic</td>\n",
       "      <td>SVK</td>\n",
       "      <td>17670.0</td>\n",
       "      <td>6.235111</td>\n",
       "      <td>1.442</td>\n",
       "      <td>5436000.0</td>\n",
       "      <td>Europe</td>\n",
       "      <td>1754.0863</td>\n",
       "    </tr>\n",
       "    <tr>\n",
       "      <th>1</th>\n",
       "      <td>1</td>\n",
       "      <td>Australia</td>\n",
       "      <td>AUS</td>\n",
       "      <td>60500.0</td>\n",
       "      <td>7.176993</td>\n",
       "      <td>1.858</td>\n",
       "      <td>23932000.0</td>\n",
       "      <td>Oceania</td>\n",
       "      <td>1747.009</td>\n",
       "    </tr>\n",
       "  </tbody>\n",
       "</table>\n",
       "</div>"
      ],
      "text/plain": [
       "   Unnamed: 0            index code  gni_per_capita  \\\n",
       "0           0  Slovak Republic  SVK         17670.0   \n",
       "1           1        Australia  AUS         60500.0   \n",
       "\n",
       "   life satisfaction in cantril ladder (world happiness report 2019)  \\\n",
       "0                                           6.235111                   \n",
       "1                                           7.176993                   \n",
       "\n",
       "   fertility  total population continent working hours per year  \n",
       "0      1.442         5436000.0    Europe              1754.0863  \n",
       "1      1.858        23932000.0   Oceania               1747.009  "
      ]
     },
     "execution_count": 13,
     "metadata": {},
     "output_type": "execute_result"
    }
   ],
   "source": [
    "df.head(2)"
   ]
  },
  {
   "cell_type": "markdown",
   "metadata": {
    "id": "mNJcDuoxahOk"
   },
   "source": [
    "Why? The rename method did not change anything in our dataframe, it only returned a new dataframe with the renamed columns. What could we do to make the changes carry over to ``df``. One possibility is to reassign the result to ``df``. Moreover, **many pandas methods have an ``inplace`` parameter. If you set it to ``True``, changes will be done \"in place\", meaning that the object will be modified**:"
   ]
  },
  {
   "cell_type": "code",
   "execution_count": 14,
   "metadata": {
    "id": "3OEw8yX7cWIS"
   },
   "outputs": [
    {
     "data": {
      "text/html": [
       "<div>\n",
       "<style scoped>\n",
       "    .dataframe tbody tr th:only-of-type {\n",
       "        vertical-align: middle;\n",
       "    }\n",
       "\n",
       "    .dataframe tbody tr th {\n",
       "        vertical-align: top;\n",
       "    }\n",
       "\n",
       "    .dataframe thead th {\n",
       "        text-align: right;\n",
       "    }\n",
       "</style>\n",
       "<table border=\"1\" class=\"dataframe\">\n",
       "  <thead>\n",
       "    <tr style=\"text-align: right;\">\n",
       "      <th></th>\n",
       "      <th>Unnamed: 0</th>\n",
       "      <th>country</th>\n",
       "      <th>code</th>\n",
       "      <th>gni_per_capita</th>\n",
       "      <th>life_satisfaction</th>\n",
       "      <th>fertility</th>\n",
       "      <th>total population</th>\n",
       "      <th>continent</th>\n",
       "      <th>working hours per year</th>\n",
       "    </tr>\n",
       "  </thead>\n",
       "  <tbody>\n",
       "    <tr>\n",
       "      <th>0</th>\n",
       "      <td>0</td>\n",
       "      <td>Slovak Republic</td>\n",
       "      <td>SVK</td>\n",
       "      <td>17670.0</td>\n",
       "      <td>6.235111</td>\n",
       "      <td>1.442</td>\n",
       "      <td>5436000.0</td>\n",
       "      <td>Europe</td>\n",
       "      <td>1754.0863</td>\n",
       "    </tr>\n",
       "    <tr>\n",
       "      <th>1</th>\n",
       "      <td>1</td>\n",
       "      <td>Australia</td>\n",
       "      <td>AUS</td>\n",
       "      <td>60500.0</td>\n",
       "      <td>7.176993</td>\n",
       "      <td>1.858</td>\n",
       "      <td>23932000.0</td>\n",
       "      <td>Oceania</td>\n",
       "      <td>1747.009</td>\n",
       "    </tr>\n",
       "  </tbody>\n",
       "</table>\n",
       "</div>"
      ],
      "text/plain": [
       "   Unnamed: 0          country code  gni_per_capita  life_satisfaction  \\\n",
       "0           0  Slovak Republic  SVK         17670.0           6.235111   \n",
       "1           1        Australia  AUS         60500.0           7.176993   \n",
       "\n",
       "   fertility  total population continent working hours per year  \n",
       "0      1.442         5436000.0    Europe              1754.0863  \n",
       "1      1.858        23932000.0   Oceania               1747.009  "
      ]
     },
     "execution_count": 14,
     "metadata": {},
     "output_type": "execute_result"
    }
   ],
   "source": [
    "df.rename(columns={'life satisfaction in cantril ladder (world happiness report 2019)': 'life_satisfaction',\n",
    "                   'index': 'country'},\n",
    "          inplace=True)\n",
    "\n",
    "df.head(2)"
   ]
  },
  {
   "cell_type": "markdown",
   "metadata": {
    "id": "lcP8wYQFc-Tv"
   },
   "source": [
    "Another thing we might want to do is to make column labels more consistent, e.g. by **replacing all spaces with underscores**. How could we do this? We could, for example, use a list comprehension:"
   ]
  },
  {
   "cell_type": "code",
   "execution_count": 15,
   "metadata": {
    "id": "GcC8VXjG7gYl"
   },
   "outputs": [
    {
     "data": {
      "text/plain": [
       "Index(['Unnamed: 0', 'country', 'code', 'gni_per_capita', 'life_satisfaction',\n",
       "       'fertility', 'total population', 'continent', 'working hours per year'],\n",
       "      dtype='object')"
      ]
     },
     "execution_count": 15,
     "metadata": {},
     "output_type": "execute_result"
    }
   ],
   "source": [
    "df.columns"
   ]
  },
  {
   "cell_type": "code",
   "execution_count": 16,
   "metadata": {
    "id": "gMi98mSfc91V"
   },
   "outputs": [
    {
     "name": "stdout",
     "output_type": "stream",
     "text": [
      "['Unnamed:_0', 'country', 'code', 'gni_per_capita', 'life_satisfaction', 'fertility', 'total_population', 'continent', 'working_hours_per_year']\n"
     ]
    },
    {
     "data": {
      "text/html": [
       "<div>\n",
       "<style scoped>\n",
       "    .dataframe tbody tr th:only-of-type {\n",
       "        vertical-align: middle;\n",
       "    }\n",
       "\n",
       "    .dataframe tbody tr th {\n",
       "        vertical-align: top;\n",
       "    }\n",
       "\n",
       "    .dataframe thead th {\n",
       "        text-align: right;\n",
       "    }\n",
       "</style>\n",
       "<table border=\"1\" class=\"dataframe\">\n",
       "  <thead>\n",
       "    <tr style=\"text-align: right;\">\n",
       "      <th></th>\n",
       "      <th>Unnamed:_0</th>\n",
       "      <th>country</th>\n",
       "      <th>code</th>\n",
       "      <th>gni_per_capita</th>\n",
       "      <th>life_satisfaction</th>\n",
       "      <th>fertility</th>\n",
       "      <th>total_population</th>\n",
       "      <th>continent</th>\n",
       "      <th>working_hours_per_year</th>\n",
       "    </tr>\n",
       "  </thead>\n",
       "  <tbody>\n",
       "    <tr>\n",
       "      <th>0</th>\n",
       "      <td>0</td>\n",
       "      <td>Slovak Republic</td>\n",
       "      <td>SVK</td>\n",
       "      <td>17670.0</td>\n",
       "      <td>6.235111</td>\n",
       "      <td>1.442</td>\n",
       "      <td>5436000.0</td>\n",
       "      <td>Europe</td>\n",
       "      <td>1754.0863</td>\n",
       "    </tr>\n",
       "    <tr>\n",
       "      <th>1</th>\n",
       "      <td>1</td>\n",
       "      <td>Australia</td>\n",
       "      <td>AUS</td>\n",
       "      <td>60500.0</td>\n",
       "      <td>7.176993</td>\n",
       "      <td>1.858</td>\n",
       "      <td>23932000.0</td>\n",
       "      <td>Oceania</td>\n",
       "      <td>1747.009</td>\n",
       "    </tr>\n",
       "    <tr>\n",
       "      <th>2</th>\n",
       "      <td>2</td>\n",
       "      <td>Georgia</td>\n",
       "      <td>GEO</td>\n",
       "      <td>4410.0</td>\n",
       "      <td>4.659097</td>\n",
       "      <td>2.050</td>\n",
       "      <td>4024000.0</td>\n",
       "      <td>Asia</td>\n",
       "      <td>no data</td>\n",
       "    </tr>\n",
       "    <tr>\n",
       "      <th>3</th>\n",
       "      <td>3</td>\n",
       "      <td>Norway</td>\n",
       "      <td>NOR</td>\n",
       "      <td>93110.0</td>\n",
       "      <td>7.444262</td>\n",
       "      <td>1.741</td>\n",
       "      <td>5200000.0</td>\n",
       "      <td>Europe</td>\n",
       "      <td>1422.5608</td>\n",
       "    </tr>\n",
       "    <tr>\n",
       "      <th>4</th>\n",
       "      <td>4</td>\n",
       "      <td>Bulgaria</td>\n",
       "      <td>BGR</td>\n",
       "      <td>7450.0</td>\n",
       "      <td>5.098814</td>\n",
       "      <td>1.534</td>\n",
       "      <td>7200000.0</td>\n",
       "      <td>Europe</td>\n",
       "      <td>1644.3853</td>\n",
       "    </tr>\n",
       "  </tbody>\n",
       "</table>\n",
       "</div>"
      ],
      "text/plain": [
       "   Unnamed:_0          country code  gni_per_capita  life_satisfaction  \\\n",
       "0           0  Slovak Republic  SVK         17670.0           6.235111   \n",
       "1           1        Australia  AUS         60500.0           7.176993   \n",
       "2           2          Georgia  GEO          4410.0           4.659097   \n",
       "3           3           Norway  NOR         93110.0           7.444262   \n",
       "4           4         Bulgaria  BGR          7450.0           5.098814   \n",
       "\n",
       "   fertility  total_population continent working_hours_per_year  \n",
       "0      1.442         5436000.0    Europe              1754.0863  \n",
       "1      1.858        23932000.0   Oceania               1747.009  \n",
       "2      2.050         4024000.0      Asia                no data  \n",
       "3      1.741         5200000.0    Europe              1422.5608  \n",
       "4      1.534         7200000.0    Europe              1644.3853  "
      ]
     },
     "execution_count": 16,
     "metadata": {},
     "output_type": "execute_result"
    }
   ],
   "source": [
    "column_names = [x.replace(\" \", \"_\") for x in list(df.columns)]\n",
    "print(column_names)\n",
    "df.columns = column_names\n",
    "df.head()"
   ]
  },
  {
   "cell_type": "markdown",
   "metadata": {
    "id": "ghXk-em_ffVG"
   },
   "source": [
    "><font color = f0000> SIDENOTE: As often with pandas, there are easier ways to do this. Pandas provides specific string methods that allow you to modify string values (in indices or series) more directly:\n",
    ">\n",
    ">```\n",
    "># Replace empty spaces with underscores\n",
    ">df.columns = df.columns.str.replace(\" \", \"_\")\n",
    "```\n",
    ">\n",
    "><font color = 4e1585> We will take a closer look at string methods in pandas in the last part of the tutorial when we will learn how to work with text data."
   ]
  },
  {
   "cell_type": "markdown",
   "metadata": {
    "id": "hh-NUo8EkBtP"
   },
   "source": [
    "Another thing we may want to do is to change the **row indices**."
   ]
  },
  {
   "cell_type": "code",
   "execution_count": 17,
   "metadata": {
    "id": "DMl_s4PuaPQw"
   },
   "outputs": [
    {
     "data": {
      "text/html": [
       "<div>\n",
       "<style scoped>\n",
       "    .dataframe tbody tr th:only-of-type {\n",
       "        vertical-align: middle;\n",
       "    }\n",
       "\n",
       "    .dataframe tbody tr th {\n",
       "        vertical-align: top;\n",
       "    }\n",
       "\n",
       "    .dataframe thead th {\n",
       "        text-align: right;\n",
       "    }\n",
       "</style>\n",
       "<table border=\"1\" class=\"dataframe\">\n",
       "  <thead>\n",
       "    <tr style=\"text-align: right;\">\n",
       "      <th></th>\n",
       "      <th>Unnamed:_0</th>\n",
       "      <th>country</th>\n",
       "      <th>code</th>\n",
       "      <th>gni_per_capita</th>\n",
       "      <th>life_satisfaction</th>\n",
       "      <th>fertility</th>\n",
       "      <th>total_population</th>\n",
       "      <th>continent</th>\n",
       "      <th>working_hours_per_year</th>\n",
       "    </tr>\n",
       "  </thead>\n",
       "  <tbody>\n",
       "    <tr>\n",
       "      <th>0</th>\n",
       "      <td>0</td>\n",
       "      <td>Slovak Republic</td>\n",
       "      <td>SVK</td>\n",
       "      <td>17670.0</td>\n",
       "      <td>6.235111</td>\n",
       "      <td>1.442</td>\n",
       "      <td>5436000.0</td>\n",
       "      <td>Europe</td>\n",
       "      <td>1754.0863</td>\n",
       "    </tr>\n",
       "    <tr>\n",
       "      <th>1</th>\n",
       "      <td>1</td>\n",
       "      <td>Australia</td>\n",
       "      <td>AUS</td>\n",
       "      <td>60500.0</td>\n",
       "      <td>7.176993</td>\n",
       "      <td>1.858</td>\n",
       "      <td>23932000.0</td>\n",
       "      <td>Oceania</td>\n",
       "      <td>1747.009</td>\n",
       "    </tr>\n",
       "    <tr>\n",
       "      <th>2</th>\n",
       "      <td>2</td>\n",
       "      <td>Georgia</td>\n",
       "      <td>GEO</td>\n",
       "      <td>4410.0</td>\n",
       "      <td>4.659097</td>\n",
       "      <td>2.050</td>\n",
       "      <td>4024000.0</td>\n",
       "      <td>Asia</td>\n",
       "      <td>no data</td>\n",
       "    </tr>\n",
       "    <tr>\n",
       "      <th>3</th>\n",
       "      <td>3</td>\n",
       "      <td>Norway</td>\n",
       "      <td>NOR</td>\n",
       "      <td>93110.0</td>\n",
       "      <td>7.444262</td>\n",
       "      <td>1.741</td>\n",
       "      <td>5200000.0</td>\n",
       "      <td>Europe</td>\n",
       "      <td>1422.5608</td>\n",
       "    </tr>\n",
       "    <tr>\n",
       "      <th>4</th>\n",
       "      <td>4</td>\n",
       "      <td>Bulgaria</td>\n",
       "      <td>BGR</td>\n",
       "      <td>7450.0</td>\n",
       "      <td>5.098814</td>\n",
       "      <td>1.534</td>\n",
       "      <td>7200000.0</td>\n",
       "      <td>Europe</td>\n",
       "      <td>1644.3853</td>\n",
       "    </tr>\n",
       "    <tr>\n",
       "      <th>...</th>\n",
       "      <td>...</td>\n",
       "      <td>...</td>\n",
       "      <td>...</td>\n",
       "      <td>...</td>\n",
       "      <td>...</td>\n",
       "      <td>...</td>\n",
       "      <td>...</td>\n",
       "      <td>...</td>\n",
       "      <td>...</td>\n",
       "    </tr>\n",
       "    <tr>\n",
       "      <th>198</th>\n",
       "      <td>198</td>\n",
       "      <td>Benin</td>\n",
       "      <td>BEN</td>\n",
       "      <td>1180.0</td>\n",
       "      <td>5.819827</td>\n",
       "      <td>5.047</td>\n",
       "      <td>10576000.0</td>\n",
       "      <td>Afrika</td>\n",
       "      <td>no data</td>\n",
       "    </tr>\n",
       "    <tr>\n",
       "      <th>199</th>\n",
       "      <td>199</td>\n",
       "      <td>Saudi Arabia</td>\n",
       "      <td>SAU</td>\n",
       "      <td>23710.0</td>\n",
       "      <td>6.356393</td>\n",
       "      <td>2.507</td>\n",
       "      <td>31718000.0</td>\n",
       "      <td>Asia</td>\n",
       "      <td>no data</td>\n",
       "    </tr>\n",
       "    <tr>\n",
       "      <th>200</th>\n",
       "      <td>200</td>\n",
       "      <td>Latvia</td>\n",
       "      <td>LVA</td>\n",
       "      <td>15100.0</td>\n",
       "      <td>5.901154</td>\n",
       "      <td>1.606</td>\n",
       "      <td>1998000.0</td>\n",
       "      <td>Europe</td>\n",
       "      <td>1901.7413</td>\n",
       "    </tr>\n",
       "    <tr>\n",
       "      <th>201</th>\n",
       "      <td>201</td>\n",
       "      <td>Sint Maarten (Dutch part)</td>\n",
       "      <td>SXM</td>\n",
       "      <td>29560.0</td>\n",
       "      <td>NaN</td>\n",
       "      <td>-99.000</td>\n",
       "      <td>40000.0</td>\n",
       "      <td>North America</td>\n",
       "      <td>no data</td>\n",
       "    </tr>\n",
       "    <tr>\n",
       "      <th>202</th>\n",
       "      <td>202</td>\n",
       "      <td>NaN</td>\n",
       "      <td>NaN</td>\n",
       "      <td>NaN</td>\n",
       "      <td>NaN</td>\n",
       "      <td>NaN</td>\n",
       "      <td>NaN</td>\n",
       "      <td>NaN</td>\n",
       "      <td>NaN</td>\n",
       "    </tr>\n",
       "  </tbody>\n",
       "</table>\n",
       "<p>203 rows × 9 columns</p>\n",
       "</div>"
      ],
      "text/plain": [
       "     Unnamed:_0                    country code  gni_per_capita  \\\n",
       "0             0            Slovak Republic  SVK         17670.0   \n",
       "1             1                  Australia  AUS         60500.0   \n",
       "2             2                    Georgia  GEO          4410.0   \n",
       "3             3                     Norway  NOR         93110.0   \n",
       "4             4                   Bulgaria  BGR          7450.0   \n",
       "..          ...                        ...  ...             ...   \n",
       "198         198                      Benin  BEN          1180.0   \n",
       "199         199               Saudi Arabia  SAU         23710.0   \n",
       "200         200                     Latvia  LVA         15100.0   \n",
       "201         201  Sint Maarten (Dutch part)  SXM         29560.0   \n",
       "202         202                        NaN  NaN             NaN   \n",
       "\n",
       "     life_satisfaction  fertility  total_population      continent  \\\n",
       "0             6.235111      1.442         5436000.0         Europe   \n",
       "1             7.176993      1.858        23932000.0        Oceania   \n",
       "2             4.659097      2.050         4024000.0           Asia   \n",
       "3             7.444262      1.741         5200000.0         Europe   \n",
       "4             5.098814      1.534         7200000.0         Europe   \n",
       "..                 ...        ...               ...            ...   \n",
       "198           5.819827      5.047        10576000.0         Afrika   \n",
       "199           6.356393      2.507        31718000.0           Asia   \n",
       "200           5.901154      1.606         1998000.0         Europe   \n",
       "201                NaN    -99.000           40000.0  North America   \n",
       "202                NaN        NaN               NaN            NaN   \n",
       "\n",
       "    working_hours_per_year  \n",
       "0                1754.0863  \n",
       "1                 1747.009  \n",
       "2                  no data  \n",
       "3                1422.5608  \n",
       "4                1644.3853  \n",
       "..                     ...  \n",
       "198                no data  \n",
       "199                no data  \n",
       "200              1901.7413  \n",
       "201                no data  \n",
       "202                    NaN  \n",
       "\n",
       "[203 rows x 9 columns]"
      ]
     },
     "execution_count": 17,
     "metadata": {},
     "output_type": "execute_result"
    }
   ],
   "source": [
    "df"
   ]
  },
  {
   "cell_type": "code",
   "execution_count": 18,
   "metadata": {
    "id": "N1hBYUk0kI34"
   },
   "outputs": [
    {
     "data": {
      "text/html": [
       "<div>\n",
       "<style scoped>\n",
       "    .dataframe tbody tr th:only-of-type {\n",
       "        vertical-align: middle;\n",
       "    }\n",
       "\n",
       "    .dataframe tbody tr th {\n",
       "        vertical-align: top;\n",
       "    }\n",
       "\n",
       "    .dataframe thead th {\n",
       "        text-align: right;\n",
       "    }\n",
       "</style>\n",
       "<table border=\"1\" class=\"dataframe\">\n",
       "  <thead>\n",
       "    <tr style=\"text-align: right;\">\n",
       "      <th></th>\n",
       "      <th>Unnamed:_0</th>\n",
       "      <th>code</th>\n",
       "      <th>gni_per_capita</th>\n",
       "      <th>life_satisfaction</th>\n",
       "      <th>fertility</th>\n",
       "      <th>total_population</th>\n",
       "      <th>continent</th>\n",
       "      <th>working_hours_per_year</th>\n",
       "    </tr>\n",
       "    <tr>\n",
       "      <th>country</th>\n",
       "      <th></th>\n",
       "      <th></th>\n",
       "      <th></th>\n",
       "      <th></th>\n",
       "      <th></th>\n",
       "      <th></th>\n",
       "      <th></th>\n",
       "      <th></th>\n",
       "    </tr>\n",
       "  </thead>\n",
       "  <tbody>\n",
       "    <tr>\n",
       "      <th>Slovak Republic</th>\n",
       "      <td>0</td>\n",
       "      <td>SVK</td>\n",
       "      <td>17670.0</td>\n",
       "      <td>6.235111</td>\n",
       "      <td>1.442</td>\n",
       "      <td>5436000.0</td>\n",
       "      <td>Europe</td>\n",
       "      <td>1754.0863</td>\n",
       "    </tr>\n",
       "    <tr>\n",
       "      <th>Australia</th>\n",
       "      <td>1</td>\n",
       "      <td>AUS</td>\n",
       "      <td>60500.0</td>\n",
       "      <td>7.176993</td>\n",
       "      <td>1.858</td>\n",
       "      <td>23932000.0</td>\n",
       "      <td>Oceania</td>\n",
       "      <td>1747.009</td>\n",
       "    </tr>\n",
       "    <tr>\n",
       "      <th>Georgia</th>\n",
       "      <td>2</td>\n",
       "      <td>GEO</td>\n",
       "      <td>4410.0</td>\n",
       "      <td>4.659097</td>\n",
       "      <td>2.050</td>\n",
       "      <td>4024000.0</td>\n",
       "      <td>Asia</td>\n",
       "      <td>no data</td>\n",
       "    </tr>\n",
       "    <tr>\n",
       "      <th>Norway</th>\n",
       "      <td>3</td>\n",
       "      <td>NOR</td>\n",
       "      <td>93110.0</td>\n",
       "      <td>7.444262</td>\n",
       "      <td>1.741</td>\n",
       "      <td>5200000.0</td>\n",
       "      <td>Europe</td>\n",
       "      <td>1422.5608</td>\n",
       "    </tr>\n",
       "    <tr>\n",
       "      <th>Bulgaria</th>\n",
       "      <td>4</td>\n",
       "      <td>BGR</td>\n",
       "      <td>7450.0</td>\n",
       "      <td>5.098814</td>\n",
       "      <td>1.534</td>\n",
       "      <td>7200000.0</td>\n",
       "      <td>Europe</td>\n",
       "      <td>1644.3853</td>\n",
       "    </tr>\n",
       "    <tr>\n",
       "      <th>...</th>\n",
       "      <td>...</td>\n",
       "      <td>...</td>\n",
       "      <td>...</td>\n",
       "      <td>...</td>\n",
       "      <td>...</td>\n",
       "      <td>...</td>\n",
       "      <td>...</td>\n",
       "      <td>...</td>\n",
       "    </tr>\n",
       "    <tr>\n",
       "      <th>Benin</th>\n",
       "      <td>198</td>\n",
       "      <td>BEN</td>\n",
       "      <td>1180.0</td>\n",
       "      <td>5.819827</td>\n",
       "      <td>5.047</td>\n",
       "      <td>10576000.0</td>\n",
       "      <td>Afrika</td>\n",
       "      <td>no data</td>\n",
       "    </tr>\n",
       "    <tr>\n",
       "      <th>Saudi Arabia</th>\n",
       "      <td>199</td>\n",
       "      <td>SAU</td>\n",
       "      <td>23710.0</td>\n",
       "      <td>6.356393</td>\n",
       "      <td>2.507</td>\n",
       "      <td>31718000.0</td>\n",
       "      <td>Asia</td>\n",
       "      <td>no data</td>\n",
       "    </tr>\n",
       "    <tr>\n",
       "      <th>Latvia</th>\n",
       "      <td>200</td>\n",
       "      <td>LVA</td>\n",
       "      <td>15100.0</td>\n",
       "      <td>5.901154</td>\n",
       "      <td>1.606</td>\n",
       "      <td>1998000.0</td>\n",
       "      <td>Europe</td>\n",
       "      <td>1901.7413</td>\n",
       "    </tr>\n",
       "    <tr>\n",
       "      <th>Sint Maarten (Dutch part)</th>\n",
       "      <td>201</td>\n",
       "      <td>SXM</td>\n",
       "      <td>29560.0</td>\n",
       "      <td>NaN</td>\n",
       "      <td>-99.000</td>\n",
       "      <td>40000.0</td>\n",
       "      <td>North America</td>\n",
       "      <td>no data</td>\n",
       "    </tr>\n",
       "    <tr>\n",
       "      <th>NaN</th>\n",
       "      <td>202</td>\n",
       "      <td>NaN</td>\n",
       "      <td>NaN</td>\n",
       "      <td>NaN</td>\n",
       "      <td>NaN</td>\n",
       "      <td>NaN</td>\n",
       "      <td>NaN</td>\n",
       "      <td>NaN</td>\n",
       "    </tr>\n",
       "  </tbody>\n",
       "</table>\n",
       "<p>203 rows × 8 columns</p>\n",
       "</div>"
      ],
      "text/plain": [
       "                           Unnamed:_0 code  gni_per_capita  life_satisfaction  \\\n",
       "country                                                                         \n",
       "Slovak Republic                     0  SVK         17670.0           6.235111   \n",
       "Australia                           1  AUS         60500.0           7.176993   \n",
       "Georgia                             2  GEO          4410.0           4.659097   \n",
       "Norway                              3  NOR         93110.0           7.444262   \n",
       "Bulgaria                            4  BGR          7450.0           5.098814   \n",
       "...                               ...  ...             ...                ...   \n",
       "Benin                             198  BEN          1180.0           5.819827   \n",
       "Saudi Arabia                      199  SAU         23710.0           6.356393   \n",
       "Latvia                            200  LVA         15100.0           5.901154   \n",
       "Sint Maarten (Dutch part)         201  SXM         29560.0                NaN   \n",
       "NaN                               202  NaN             NaN                NaN   \n",
       "\n",
       "                           fertility  total_population      continent  \\\n",
       "country                                                                 \n",
       "Slovak Republic                1.442         5436000.0         Europe   \n",
       "Australia                      1.858        23932000.0        Oceania   \n",
       "Georgia                        2.050         4024000.0           Asia   \n",
       "Norway                         1.741         5200000.0         Europe   \n",
       "Bulgaria                       1.534         7200000.0         Europe   \n",
       "...                              ...               ...            ...   \n",
       "Benin                          5.047        10576000.0         Afrika   \n",
       "Saudi Arabia                   2.507        31718000.0           Asia   \n",
       "Latvia                         1.606         1998000.0         Europe   \n",
       "Sint Maarten (Dutch part)    -99.000           40000.0  North America   \n",
       "NaN                              NaN               NaN            NaN   \n",
       "\n",
       "                          working_hours_per_year  \n",
       "country                                           \n",
       "Slovak Republic                        1754.0863  \n",
       "Australia                               1747.009  \n",
       "Georgia                                  no data  \n",
       "Norway                                 1422.5608  \n",
       "Bulgaria                               1644.3853  \n",
       "...                                          ...  \n",
       "Benin                                    no data  \n",
       "Saudi Arabia                             no data  \n",
       "Latvia                                 1901.7413  \n",
       "Sint Maarten (Dutch part)                no data  \n",
       "NaN                                          NaN  \n",
       "\n",
       "[203 rows x 8 columns]"
      ]
     },
     "execution_count": 18,
     "metadata": {},
     "output_type": "execute_result"
    }
   ],
   "source": [
    "df.set_index(\"country\", inplace=True)  # Or (without dropping country column):\n",
    "                                       # df.index = df[\"country\"]\n",
    "df"
   ]
  },
  {
   "cell_type": "markdown",
   "metadata": {
    "id": "g6G93gFvk3h_"
   },
   "source": [
    "We can also **revert back to numeric indices using ``reset_index``** at any time:"
   ]
  },
  {
   "cell_type": "code",
   "execution_count": 19,
   "metadata": {
    "id": "ZrdF3v16k2vZ"
   },
   "outputs": [
    {
     "data": {
      "text/html": [
       "<div>\n",
       "<style scoped>\n",
       "    .dataframe tbody tr th:only-of-type {\n",
       "        vertical-align: middle;\n",
       "    }\n",
       "\n",
       "    .dataframe tbody tr th {\n",
       "        vertical-align: top;\n",
       "    }\n",
       "\n",
       "    .dataframe thead th {\n",
       "        text-align: right;\n",
       "    }\n",
       "</style>\n",
       "<table border=\"1\" class=\"dataframe\">\n",
       "  <thead>\n",
       "    <tr style=\"text-align: right;\">\n",
       "      <th></th>\n",
       "      <th>country</th>\n",
       "      <th>Unnamed:_0</th>\n",
       "      <th>code</th>\n",
       "      <th>gni_per_capita</th>\n",
       "      <th>life_satisfaction</th>\n",
       "      <th>fertility</th>\n",
       "      <th>total_population</th>\n",
       "      <th>continent</th>\n",
       "      <th>working_hours_per_year</th>\n",
       "    </tr>\n",
       "  </thead>\n",
       "  <tbody>\n",
       "    <tr>\n",
       "      <th>0</th>\n",
       "      <td>Slovak Republic</td>\n",
       "      <td>0</td>\n",
       "      <td>SVK</td>\n",
       "      <td>17670.0</td>\n",
       "      <td>6.235111</td>\n",
       "      <td>1.442</td>\n",
       "      <td>5436000.0</td>\n",
       "      <td>Europe</td>\n",
       "      <td>1754.0863</td>\n",
       "    </tr>\n",
       "    <tr>\n",
       "      <th>1</th>\n",
       "      <td>Australia</td>\n",
       "      <td>1</td>\n",
       "      <td>AUS</td>\n",
       "      <td>60500.0</td>\n",
       "      <td>7.176993</td>\n",
       "      <td>1.858</td>\n",
       "      <td>23932000.0</td>\n",
       "      <td>Oceania</td>\n",
       "      <td>1747.009</td>\n",
       "    </tr>\n",
       "    <tr>\n",
       "      <th>2</th>\n",
       "      <td>Georgia</td>\n",
       "      <td>2</td>\n",
       "      <td>GEO</td>\n",
       "      <td>4410.0</td>\n",
       "      <td>4.659097</td>\n",
       "      <td>2.050</td>\n",
       "      <td>4024000.0</td>\n",
       "      <td>Asia</td>\n",
       "      <td>no data</td>\n",
       "    </tr>\n",
       "    <tr>\n",
       "      <th>3</th>\n",
       "      <td>Norway</td>\n",
       "      <td>3</td>\n",
       "      <td>NOR</td>\n",
       "      <td>93110.0</td>\n",
       "      <td>7.444262</td>\n",
       "      <td>1.741</td>\n",
       "      <td>5200000.0</td>\n",
       "      <td>Europe</td>\n",
       "      <td>1422.5608</td>\n",
       "    </tr>\n",
       "    <tr>\n",
       "      <th>4</th>\n",
       "      <td>Bulgaria</td>\n",
       "      <td>4</td>\n",
       "      <td>BGR</td>\n",
       "      <td>7450.0</td>\n",
       "      <td>5.098814</td>\n",
       "      <td>1.534</td>\n",
       "      <td>7200000.0</td>\n",
       "      <td>Europe</td>\n",
       "      <td>1644.3853</td>\n",
       "    </tr>\n",
       "    <tr>\n",
       "      <th>...</th>\n",
       "      <td>...</td>\n",
       "      <td>...</td>\n",
       "      <td>...</td>\n",
       "      <td>...</td>\n",
       "      <td>...</td>\n",
       "      <td>...</td>\n",
       "      <td>...</td>\n",
       "      <td>...</td>\n",
       "      <td>...</td>\n",
       "    </tr>\n",
       "    <tr>\n",
       "      <th>198</th>\n",
       "      <td>Benin</td>\n",
       "      <td>198</td>\n",
       "      <td>BEN</td>\n",
       "      <td>1180.0</td>\n",
       "      <td>5.819827</td>\n",
       "      <td>5.047</td>\n",
       "      <td>10576000.0</td>\n",
       "      <td>Afrika</td>\n",
       "      <td>no data</td>\n",
       "    </tr>\n",
       "    <tr>\n",
       "      <th>199</th>\n",
       "      <td>Saudi Arabia</td>\n",
       "      <td>199</td>\n",
       "      <td>SAU</td>\n",
       "      <td>23710.0</td>\n",
       "      <td>6.356393</td>\n",
       "      <td>2.507</td>\n",
       "      <td>31718000.0</td>\n",
       "      <td>Asia</td>\n",
       "      <td>no data</td>\n",
       "    </tr>\n",
       "    <tr>\n",
       "      <th>200</th>\n",
       "      <td>Latvia</td>\n",
       "      <td>200</td>\n",
       "      <td>LVA</td>\n",
       "      <td>15100.0</td>\n",
       "      <td>5.901154</td>\n",
       "      <td>1.606</td>\n",
       "      <td>1998000.0</td>\n",
       "      <td>Europe</td>\n",
       "      <td>1901.7413</td>\n",
       "    </tr>\n",
       "    <tr>\n",
       "      <th>201</th>\n",
       "      <td>Sint Maarten (Dutch part)</td>\n",
       "      <td>201</td>\n",
       "      <td>SXM</td>\n",
       "      <td>29560.0</td>\n",
       "      <td>NaN</td>\n",
       "      <td>-99.000</td>\n",
       "      <td>40000.0</td>\n",
       "      <td>North America</td>\n",
       "      <td>no data</td>\n",
       "    </tr>\n",
       "    <tr>\n",
       "      <th>202</th>\n",
       "      <td>NaN</td>\n",
       "      <td>202</td>\n",
       "      <td>NaN</td>\n",
       "      <td>NaN</td>\n",
       "      <td>NaN</td>\n",
       "      <td>NaN</td>\n",
       "      <td>NaN</td>\n",
       "      <td>NaN</td>\n",
       "      <td>NaN</td>\n",
       "    </tr>\n",
       "  </tbody>\n",
       "</table>\n",
       "<p>203 rows × 9 columns</p>\n",
       "</div>"
      ],
      "text/plain": [
       "                       country  Unnamed:_0 code  gni_per_capita  \\\n",
       "0              Slovak Republic           0  SVK         17670.0   \n",
       "1                    Australia           1  AUS         60500.0   \n",
       "2                      Georgia           2  GEO          4410.0   \n",
       "3                       Norway           3  NOR         93110.0   \n",
       "4                     Bulgaria           4  BGR          7450.0   \n",
       "..                         ...         ...  ...             ...   \n",
       "198                      Benin         198  BEN          1180.0   \n",
       "199               Saudi Arabia         199  SAU         23710.0   \n",
       "200                     Latvia         200  LVA         15100.0   \n",
       "201  Sint Maarten (Dutch part)         201  SXM         29560.0   \n",
       "202                        NaN         202  NaN             NaN   \n",
       "\n",
       "     life_satisfaction  fertility  total_population      continent  \\\n",
       "0             6.235111      1.442         5436000.0         Europe   \n",
       "1             7.176993      1.858        23932000.0        Oceania   \n",
       "2             4.659097      2.050         4024000.0           Asia   \n",
       "3             7.444262      1.741         5200000.0         Europe   \n",
       "4             5.098814      1.534         7200000.0         Europe   \n",
       "..                 ...        ...               ...            ...   \n",
       "198           5.819827      5.047        10576000.0         Afrika   \n",
       "199           6.356393      2.507        31718000.0           Asia   \n",
       "200           5.901154      1.606         1998000.0         Europe   \n",
       "201                NaN    -99.000           40000.0  North America   \n",
       "202                NaN        NaN               NaN            NaN   \n",
       "\n",
       "    working_hours_per_year  \n",
       "0                1754.0863  \n",
       "1                 1747.009  \n",
       "2                  no data  \n",
       "3                1422.5608  \n",
       "4                1644.3853  \n",
       "..                     ...  \n",
       "198                no data  \n",
       "199                no data  \n",
       "200              1901.7413  \n",
       "201                no data  \n",
       "202                    NaN  \n",
       "\n",
       "[203 rows x 9 columns]"
      ]
     },
     "execution_count": 19,
     "metadata": {},
     "output_type": "execute_result"
    }
   ],
   "source": [
    "df.reset_index()  # If drop=True, the old index is not added as a column\n",
    "                  # Specify inplace = True to modify index in df"
   ]
  },
  {
   "cell_type": "markdown",
   "metadata": {
    "id": "g_ajGDOxl15R"
   },
   "source": [
    "### Removing, modifying and adding columns"
   ]
  },
  {
   "cell_type": "code",
   "execution_count": 20,
   "metadata": {
    "id": "gPeMivMG3f7u"
   },
   "outputs": [
    {
     "data": {
      "text/html": [
       "<div>\n",
       "<style scoped>\n",
       "    .dataframe tbody tr th:only-of-type {\n",
       "        vertical-align: middle;\n",
       "    }\n",
       "\n",
       "    .dataframe tbody tr th {\n",
       "        vertical-align: top;\n",
       "    }\n",
       "\n",
       "    .dataframe thead th {\n",
       "        text-align: right;\n",
       "    }\n",
       "</style>\n",
       "<table border=\"1\" class=\"dataframe\">\n",
       "  <thead>\n",
       "    <tr style=\"text-align: right;\">\n",
       "      <th></th>\n",
       "      <th>Unnamed:_0</th>\n",
       "      <th>code</th>\n",
       "      <th>gni_per_capita</th>\n",
       "      <th>life_satisfaction</th>\n",
       "      <th>fertility</th>\n",
       "      <th>total_population</th>\n",
       "      <th>continent</th>\n",
       "      <th>working_hours_per_year</th>\n",
       "    </tr>\n",
       "    <tr>\n",
       "      <th>country</th>\n",
       "      <th></th>\n",
       "      <th></th>\n",
       "      <th></th>\n",
       "      <th></th>\n",
       "      <th></th>\n",
       "      <th></th>\n",
       "      <th></th>\n",
       "      <th></th>\n",
       "    </tr>\n",
       "  </thead>\n",
       "  <tbody>\n",
       "    <tr>\n",
       "      <th>Slovak Republic</th>\n",
       "      <td>0</td>\n",
       "      <td>SVK</td>\n",
       "      <td>17670.0</td>\n",
       "      <td>6.235111</td>\n",
       "      <td>1.442</td>\n",
       "      <td>5436000.0</td>\n",
       "      <td>Europe</td>\n",
       "      <td>1754.0863</td>\n",
       "    </tr>\n",
       "  </tbody>\n",
       "</table>\n",
       "</div>"
      ],
      "text/plain": [
       "                 Unnamed:_0 code  gni_per_capita  life_satisfaction  \\\n",
       "country                                                               \n",
       "Slovak Republic           0  SVK         17670.0           6.235111   \n",
       "\n",
       "                 fertility  total_population continent working_hours_per_year  \n",
       "country                                                                        \n",
       "Slovak Republic      1.442         5436000.0    Europe              1754.0863  "
      ]
     },
     "execution_count": 20,
     "metadata": {},
     "output_type": "execute_result"
    }
   ],
   "source": [
    "df.head(1)"
   ]
  },
  {
   "cell_type": "markdown",
   "metadata": {
    "id": "ez1y6yaZmZKT"
   },
   "source": [
    "The ``unnamed:_0`` is redundant and we would like to remove it. How could this be done? We could write something like ``df = df.loc[:,\"code\":]``, but there is an easier solution: the **``drop()`` method**:"
   ]
  },
  {
   "cell_type": "code",
   "execution_count": 21,
   "metadata": {
    "id": "kj7lBHIol7Bu"
   },
   "outputs": [
    {
     "data": {
      "text/html": [
       "<div>\n",
       "<style scoped>\n",
       "    .dataframe tbody tr th:only-of-type {\n",
       "        vertical-align: middle;\n",
       "    }\n",
       "\n",
       "    .dataframe tbody tr th {\n",
       "        vertical-align: top;\n",
       "    }\n",
       "\n",
       "    .dataframe thead th {\n",
       "        text-align: right;\n",
       "    }\n",
       "</style>\n",
       "<table border=\"1\" class=\"dataframe\">\n",
       "  <thead>\n",
       "    <tr style=\"text-align: right;\">\n",
       "      <th></th>\n",
       "      <th>code</th>\n",
       "      <th>gni_per_capita</th>\n",
       "      <th>life_satisfaction</th>\n",
       "      <th>fertility</th>\n",
       "      <th>total_population</th>\n",
       "      <th>continent</th>\n",
       "      <th>working_hours_per_year</th>\n",
       "    </tr>\n",
       "    <tr>\n",
       "      <th>country</th>\n",
       "      <th></th>\n",
       "      <th></th>\n",
       "      <th></th>\n",
       "      <th></th>\n",
       "      <th></th>\n",
       "      <th></th>\n",
       "      <th></th>\n",
       "    </tr>\n",
       "  </thead>\n",
       "  <tbody>\n",
       "    <tr>\n",
       "      <th>Slovak Republic</th>\n",
       "      <td>SVK</td>\n",
       "      <td>17670.0</td>\n",
       "      <td>6.235111</td>\n",
       "      <td>1.442</td>\n",
       "      <td>5436000.0</td>\n",
       "      <td>Europe</td>\n",
       "      <td>1754.0863</td>\n",
       "    </tr>\n",
       "    <tr>\n",
       "      <th>Australia</th>\n",
       "      <td>AUS</td>\n",
       "      <td>60500.0</td>\n",
       "      <td>7.176993</td>\n",
       "      <td>1.858</td>\n",
       "      <td>23932000.0</td>\n",
       "      <td>Oceania</td>\n",
       "      <td>1747.009</td>\n",
       "    </tr>\n",
       "    <tr>\n",
       "      <th>Georgia</th>\n",
       "      <td>GEO</td>\n",
       "      <td>4410.0</td>\n",
       "      <td>4.659097</td>\n",
       "      <td>2.050</td>\n",
       "      <td>4024000.0</td>\n",
       "      <td>Asia</td>\n",
       "      <td>no data</td>\n",
       "    </tr>\n",
       "    <tr>\n",
       "      <th>Norway</th>\n",
       "      <td>NOR</td>\n",
       "      <td>93110.0</td>\n",
       "      <td>7.444262</td>\n",
       "      <td>1.741</td>\n",
       "      <td>5200000.0</td>\n",
       "      <td>Europe</td>\n",
       "      <td>1422.5608</td>\n",
       "    </tr>\n",
       "    <tr>\n",
       "      <th>Bulgaria</th>\n",
       "      <td>BGR</td>\n",
       "      <td>7450.0</td>\n",
       "      <td>5.098814</td>\n",
       "      <td>1.534</td>\n",
       "      <td>7200000.0</td>\n",
       "      <td>Europe</td>\n",
       "      <td>1644.3853</td>\n",
       "    </tr>\n",
       "    <tr>\n",
       "      <th>...</th>\n",
       "      <td>...</td>\n",
       "      <td>...</td>\n",
       "      <td>...</td>\n",
       "      <td>...</td>\n",
       "      <td>...</td>\n",
       "      <td>...</td>\n",
       "      <td>...</td>\n",
       "    </tr>\n",
       "    <tr>\n",
       "      <th>Benin</th>\n",
       "      <td>BEN</td>\n",
       "      <td>1180.0</td>\n",
       "      <td>5.819827</td>\n",
       "      <td>5.047</td>\n",
       "      <td>10576000.0</td>\n",
       "      <td>Afrika</td>\n",
       "      <td>no data</td>\n",
       "    </tr>\n",
       "    <tr>\n",
       "      <th>Saudi Arabia</th>\n",
       "      <td>SAU</td>\n",
       "      <td>23710.0</td>\n",
       "      <td>6.356393</td>\n",
       "      <td>2.507</td>\n",
       "      <td>31718000.0</td>\n",
       "      <td>Asia</td>\n",
       "      <td>no data</td>\n",
       "    </tr>\n",
       "    <tr>\n",
       "      <th>Latvia</th>\n",
       "      <td>LVA</td>\n",
       "      <td>15100.0</td>\n",
       "      <td>5.901154</td>\n",
       "      <td>1.606</td>\n",
       "      <td>1998000.0</td>\n",
       "      <td>Europe</td>\n",
       "      <td>1901.7413</td>\n",
       "    </tr>\n",
       "    <tr>\n",
       "      <th>Sint Maarten (Dutch part)</th>\n",
       "      <td>SXM</td>\n",
       "      <td>29560.0</td>\n",
       "      <td>NaN</td>\n",
       "      <td>-99.000</td>\n",
       "      <td>40000.0</td>\n",
       "      <td>North America</td>\n",
       "      <td>no data</td>\n",
       "    </tr>\n",
       "    <tr>\n",
       "      <th>NaN</th>\n",
       "      <td>NaN</td>\n",
       "      <td>NaN</td>\n",
       "      <td>NaN</td>\n",
       "      <td>NaN</td>\n",
       "      <td>NaN</td>\n",
       "      <td>NaN</td>\n",
       "      <td>NaN</td>\n",
       "    </tr>\n",
       "  </tbody>\n",
       "</table>\n",
       "<p>203 rows × 7 columns</p>\n",
       "</div>"
      ],
      "text/plain": [
       "                          code  gni_per_capita  life_satisfaction  fertility  \\\n",
       "country                                                                        \n",
       "Slovak Republic            SVK         17670.0           6.235111      1.442   \n",
       "Australia                  AUS         60500.0           7.176993      1.858   \n",
       "Georgia                    GEO          4410.0           4.659097      2.050   \n",
       "Norway                     NOR         93110.0           7.444262      1.741   \n",
       "Bulgaria                   BGR          7450.0           5.098814      1.534   \n",
       "...                        ...             ...                ...        ...   \n",
       "Benin                      BEN          1180.0           5.819827      5.047   \n",
       "Saudi Arabia               SAU         23710.0           6.356393      2.507   \n",
       "Latvia                     LVA         15100.0           5.901154      1.606   \n",
       "Sint Maarten (Dutch part)  SXM         29560.0                NaN    -99.000   \n",
       "NaN                        NaN             NaN                NaN        NaN   \n",
       "\n",
       "                           total_population      continent  \\\n",
       "country                                                      \n",
       "Slovak Republic                   5436000.0         Europe   \n",
       "Australia                        23932000.0        Oceania   \n",
       "Georgia                           4024000.0           Asia   \n",
       "Norway                            5200000.0         Europe   \n",
       "Bulgaria                          7200000.0         Europe   \n",
       "...                                     ...            ...   \n",
       "Benin                            10576000.0         Afrika   \n",
       "Saudi Arabia                     31718000.0           Asia   \n",
       "Latvia                            1998000.0         Europe   \n",
       "Sint Maarten (Dutch part)           40000.0  North America   \n",
       "NaN                                     NaN            NaN   \n",
       "\n",
       "                          working_hours_per_year  \n",
       "country                                           \n",
       "Slovak Republic                        1754.0863  \n",
       "Australia                               1747.009  \n",
       "Georgia                                  no data  \n",
       "Norway                                 1422.5608  \n",
       "Bulgaria                               1644.3853  \n",
       "...                                          ...  \n",
       "Benin                                    no data  \n",
       "Saudi Arabia                             no data  \n",
       "Latvia                                 1901.7413  \n",
       "Sint Maarten (Dutch part)                no data  \n",
       "NaN                                          NaN  \n",
       "\n",
       "[203 rows x 7 columns]"
      ]
     },
     "execution_count": 21,
     "metadata": {},
     "output_type": "execute_result"
    }
   ],
   "source": [
    "df.drop(\"Unnamed:_0\", axis=\"columns\", inplace=True)  # Provide a list to drop several columns,\n",
    "                                                     # e.g. [\"Unnamed:_0\", \"code\"]\n",
    "df"
   ]
  },
  {
   "cell_type": "markdown",
   "metadata": {
    "id": "X28js5W8mM-2"
   },
   "source": [
    "Many methods in pandas have an optional **``axis`` parameter**. It allows us to **specify if your are referring to rows (``axis=0`` or ``axis=\"rows\"``) or to columns (``axis=1`` or ``axis=\"columns\"``)**. The default value is ``axis=0``, i.e. rows. This is why we need to set the axis to 1 -- ``df.drop(\"Unnamed:_0\",  inplace=True)`` would return an error because there is no row named ``Unnamed:_0``!"
   ]
  },
  {
   "cell_type": "markdown",
   "metadata": {
    "id": "GkgE6HUgmbxK"
   },
   "source": [
    "We have already seen how we can **change and add columns**. Let's make use of this knowledge to clean the ``continent`` column. Have a look at the values in the column:"
   ]
  },
  {
   "cell_type": "code",
   "execution_count": 22,
   "metadata": {
    "id": "1X75n3yso-K3"
   },
   "outputs": [
    {
     "data": {
      "text/plain": [
       "continent\n",
       "Europe           47\n",
       "Afrika           35\n",
       "Asia             34\n",
       "North America    33\n",
       "Oceania          18\n",
       "Africa           15\n",
       "South America    11\n",
       "asia              9\n",
       "Name: count, dtype: int64"
      ]
     },
     "execution_count": 22,
     "metadata": {},
     "output_type": "execute_result"
    }
   ],
   "source": [
    "df[\"continent\"].value_counts()"
   ]
  },
  {
   "cell_type": "markdown",
   "metadata": {
    "id": "TYN5Ft3TpSeM"
   },
   "source": [
    "We see that Africa and Asia appear in different spellings. How could we correct the ``asia`` and the ``Afrika`` values? One way to do this is by **filtering the values using the ``loc`` indexer** (i.e. by doing Boolean indexing):"
   ]
  },
  {
   "cell_type": "code",
   "execution_count": 23,
   "metadata": {
    "id": "y7GH_07Lppcv"
   },
   "outputs": [
    {
     "data": {
      "text/plain": [
       "continent\n",
       "Africa           50\n",
       "Europe           47\n",
       "Asia             43\n",
       "North America    33\n",
       "Oceania          18\n",
       "South America    11\n",
       "Name: count, dtype: int64"
      ]
     },
     "execution_count": 23,
     "metadata": {},
     "output_type": "execute_result"
    }
   ],
   "source": [
    "df.loc[df[\"continent\"] == \"asia\", \"continent\"] = \"Asia\"  # Or: df[\"continent\"] = df[\"continent\"].replace(\"asia\", \"Asia\")\n",
    "df.loc[df[\"continent\"] == \"Afrika\", \"continent\"] = \"Africa\"  # Or: df[\"continent\"] = df[\"continent\"].replace(\"Afrika\", \"Africa\")\n",
    "df[\"continent\"].value_counts()"
   ]
  },
  {
   "cell_type": "markdown",
   "metadata": {
    "id": "QnQ34UQYr4kD"
   },
   "source": [
    "Now suppose we would like to add a further column indicating if a country is a *high income economy* (12,536 USD or more), an *upper middle economy* (4,046 USD - 12,535 USD), a *lower middle economy* (1,036 USD - 4,045 USD) or a *low income economy* (1,035 USD or less). Just as in the example with continents, you could use the ``loc`` indexer to do a series of replacements:"
   ]
  },
  {
   "cell_type": "code",
   "execution_count": 24,
   "metadata": {
    "id": "CAosrq-pDt10"
   },
   "outputs": [
    {
     "data": {
      "text/plain": [
       "income_level\n",
       "High income            60\n",
       "Upper middle income    52\n",
       "Lower middle income    52\n",
       "Low income             20\n",
       "Name: count, dtype: int64"
      ]
     },
     "execution_count": 24,
     "metadata": {},
     "output_type": "execute_result"
    }
   ],
   "source": [
    "df.loc[df[\"gni_per_capita\"] >= 12536, \"income_level\"] = \"High income\"\n",
    "\n",
    "df.loc[(df[\"gni_per_capita\"] >= 4046) & (df[\"gni_per_capita\"] < 12536),\n",
    "       \"income_level\"] = \"Upper middle income\"\n",
    "\n",
    "df.loc[(df[\"gni_per_capita\"] >= 1036) & (df[\"gni_per_capita\"] < 4046),\n",
    "       \"income_level\"] = \"Lower middle income\"\n",
    "\n",
    "df.loc[df[\"gni_per_capita\"] < 1036, \"income_level\"] = \"Low income\"\n",
    "\n",
    "df[\"income_level\"].value_counts()"
   ]
  },
  {
   "cell_type": "markdown",
   "metadata": {
    "id": "bBhE6f271bwv"
   },
   "source": [
    "><font color = ffffff> SIDENOTE: If you have to specify multiple conditions, each condition has to be put in parentheses! Note also that the ``and``, ``or``, ``not`` and ``in`` operators we got to know in the first tutorial do not work in pandas. You can use the following alternatives:\n",
    "* and:  ``&``\n",
    "* or:  ``|``\n",
    "* not:  ``~``\n",
    "* in: ``isin()`` (method)"
   ]
  },
  {
   "cell_type": "markdown",
   "metadata": {
    "id": "Be0_5K-xD2lU"
   },
   "source": [
    "This is a lot of error-prone coding. Let's drop the column and then try a different approach."
   ]
  },
  {
   "cell_type": "code",
   "execution_count": 25,
   "metadata": {
    "id": "Ee0QVXy5sogd"
   },
   "outputs": [],
   "source": [
    "df.drop(\"income_level\", axis=1, inplace=True)"
   ]
  },
  {
   "cell_type": "markdown",
   "metadata": {
    "id": "ROZ_YLZ7sjJU"
   },
   "source": [
    "The **``apply()`` method** offers a more readable way to modify data or generate new columns. It allows you **to apply a function to each element of a pandas Series** (e.g. a column in a dataframe). Let's first define the function we would like to apply:"
   ]
  },
  {
   "cell_type": "code",
   "execution_count": 26,
   "metadata": {
    "id": "PStpD9cL9-U0"
   },
   "outputs": [
    {
     "data": {
      "text/plain": [
       "'Low income'"
      ]
     },
     "execution_count": 26,
     "metadata": {},
     "output_type": "execute_result"
    }
   ],
   "source": [
    "# Define function\n",
    "def income_group(x):\n",
    "    if x >= 12536:\n",
    "        return \"High income\"\n",
    "    elif x >= 4046:\n",
    "        return \"Upper middle income\"\n",
    "    elif x >= 1036:\n",
    "        return \"Lower middle income\"\n",
    "    elif x < 1036:\n",
    "        return \"Low income\"\n",
    "\n",
    "\n",
    "# Check if it works\n",
    "income_group(500)"
   ]
  },
  {
   "cell_type": "markdown",
   "metadata": {
    "id": "z5siwf8c-FpR"
   },
   "source": [
    "Now we can insert our function into the apply method and check the result:"
   ]
  },
  {
   "cell_type": "code",
   "execution_count": 27,
   "metadata": {
    "id": "gS-IKRFe-soe"
   },
   "outputs": [
    {
     "data": {
      "text/html": [
       "<div>\n",
       "<style scoped>\n",
       "    .dataframe tbody tr th:only-of-type {\n",
       "        vertical-align: middle;\n",
       "    }\n",
       "\n",
       "    .dataframe tbody tr th {\n",
       "        vertical-align: top;\n",
       "    }\n",
       "\n",
       "    .dataframe thead th {\n",
       "        text-align: right;\n",
       "    }\n",
       "</style>\n",
       "<table border=\"1\" class=\"dataframe\">\n",
       "  <thead>\n",
       "    <tr style=\"text-align: right;\">\n",
       "      <th></th>\n",
       "      <th>code</th>\n",
       "      <th>gni_per_capita</th>\n",
       "      <th>life_satisfaction</th>\n",
       "      <th>fertility</th>\n",
       "      <th>total_population</th>\n",
       "      <th>continent</th>\n",
       "      <th>working_hours_per_year</th>\n",
       "      <th>income_level</th>\n",
       "    </tr>\n",
       "    <tr>\n",
       "      <th>country</th>\n",
       "      <th></th>\n",
       "      <th></th>\n",
       "      <th></th>\n",
       "      <th></th>\n",
       "      <th></th>\n",
       "      <th></th>\n",
       "      <th></th>\n",
       "      <th></th>\n",
       "    </tr>\n",
       "  </thead>\n",
       "  <tbody>\n",
       "    <tr>\n",
       "      <th>Slovak Republic</th>\n",
       "      <td>SVK</td>\n",
       "      <td>17670.0</td>\n",
       "      <td>6.235111</td>\n",
       "      <td>1.442</td>\n",
       "      <td>5436000.0</td>\n",
       "      <td>Europe</td>\n",
       "      <td>1754.0863</td>\n",
       "      <td>High income</td>\n",
       "    </tr>\n",
       "    <tr>\n",
       "      <th>Australia</th>\n",
       "      <td>AUS</td>\n",
       "      <td>60500.0</td>\n",
       "      <td>7.176993</td>\n",
       "      <td>1.858</td>\n",
       "      <td>23932000.0</td>\n",
       "      <td>Oceania</td>\n",
       "      <td>1747.009</td>\n",
       "      <td>High income</td>\n",
       "    </tr>\n",
       "    <tr>\n",
       "      <th>Georgia</th>\n",
       "      <td>GEO</td>\n",
       "      <td>4410.0</td>\n",
       "      <td>4.659097</td>\n",
       "      <td>2.050</td>\n",
       "      <td>4024000.0</td>\n",
       "      <td>Asia</td>\n",
       "      <td>no data</td>\n",
       "      <td>Upper middle income</td>\n",
       "    </tr>\n",
       "  </tbody>\n",
       "</table>\n",
       "</div>"
      ],
      "text/plain": [
       "                code  gni_per_capita  life_satisfaction  fertility  \\\n",
       "country                                                              \n",
       "Slovak Republic  SVK         17670.0           6.235111      1.442   \n",
       "Australia        AUS         60500.0           7.176993      1.858   \n",
       "Georgia          GEO          4410.0           4.659097      2.050   \n",
       "\n",
       "                 total_population continent working_hours_per_year  \\\n",
       "country                                                              \n",
       "Slovak Republic         5436000.0    Europe              1754.0863   \n",
       "Australia              23932000.0   Oceania               1747.009   \n",
       "Georgia                 4024000.0      Asia                no data   \n",
       "\n",
       "                        income_level  \n",
       "country                               \n",
       "Slovak Republic          High income  \n",
       "Australia                High income  \n",
       "Georgia          Upper middle income  "
      ]
     },
     "execution_count": 27,
     "metadata": {},
     "output_type": "execute_result"
    }
   ],
   "source": [
    "df[\"income_level\"] = df[\"gni_per_capita\"].apply(income_group)\n",
    "df.head(3)"
   ]
  },
  {
   "cell_type": "markdown",
   "metadata": {
    "id": "yB5I71UT_DaX"
   },
   "source": [
    "How does this work? Our ``income_group`` function is applied to each element ``x`` of the pandas Series ``df[\"gni_per_capita\"]`` and the result is assigned to the new column ``df[\"income_level\"]``. You can think of it in terms of a loop through all elements ``x`` of your Series."
   ]
  },
  {
   "cell_type": "markdown",
   "metadata": {
    "id": "0hYyxo07tkCB"
   },
   "source": [
    "The apply method is often used **in combination with a lambda function**. Suppose we would like to add a column with the flag of each county. The pycounty module allows you to retrieve information (including the flag) on all countries:"
   ]
  },
  {
   "cell_type": "code",
   "execution_count": 28,
   "metadata": {
    "id": "ScRbbilTM5AP"
   },
   "outputs": [],
   "source": [
    "#pip install pycountry\n",
    "import pycountry"
   ]
  },
  {
   "cell_type": "code",
   "execution_count": 29,
   "metadata": {
    "id": "ZO4OOVYFNgQK"
   },
   "outputs": [
    {
     "name": "stdout",
     "output_type": "stream",
     "text": [
      "Country(alpha_2='CH', alpha_3='CHE', flag='🇨🇭', name='Switzerland', numeric='756', official_name='Swiss Confederation')\n"
     ]
    },
    {
     "data": {
      "text/plain": [
       "'🇨🇭'"
      ]
     },
     "execution_count": 29,
     "metadata": {},
     "output_type": "execute_result"
    }
   ],
   "source": [
    "print(pycountry.countries.get(alpha_3=\"CHE\"))  # Retrieve information on\n",
    "                                               # Switzerland based on ISO-3 code\n",
    "pycountry.countries.get(alpha_3=\"CHE\").flag"
   ]
  },
  {
   "cell_type": "markdown",
   "metadata": {
    "id": "lO4pR362SpJd"
   },
   "source": [
    "Let's pass this to a lambda function."
   ]
  },
  {
   "cell_type": "code",
   "execution_count": 30,
   "metadata": {
    "id": "8D3-ntrd_m9_"
   },
   "outputs": [
    {
     "data": {
      "text/plain": [
       "country\n",
       "Slovak Republic              SVK\n",
       "Australia                    AUS\n",
       "Georgia                      GEO\n",
       "Norway                       NOR\n",
       "Bulgaria                     BGR\n",
       "                            ... \n",
       "Benin                        BEN\n",
       "Saudi Arabia                 SAU\n",
       "Latvia                       LVA\n",
       "Sint Maarten (Dutch part)    SXM\n",
       "NaN                          NaN\n",
       "Name: code, Length: 203, dtype: object"
      ]
     },
     "execution_count": 30,
     "metadata": {},
     "output_type": "execute_result"
    }
   ],
   "source": [
    "df[\"code\"]"
   ]
  },
  {
   "cell_type": "code",
   "execution_count": 31,
   "metadata": {
    "id": "QDoPr_AGOctE"
   },
   "outputs": [
    {
     "data": {
      "text/plain": [
       "country\n",
       "Slovak Republic              🇸🇰\n",
       "Australia                    🇦🇺\n",
       "Georgia                      🇬🇪\n",
       "Norway                       🇳🇴\n",
       "Bulgaria                     🇧🇬\n",
       "                             ..\n",
       "Ireland                      🇮🇪\n",
       "Benin                        🇧🇯\n",
       "Saudi Arabia                 🇸🇦\n",
       "Latvia                       🇱🇻\n",
       "Sint Maarten (Dutch part)    🇸🇽\n",
       "Name: code, Length: 202, dtype: object"
      ]
     },
     "execution_count": 31,
     "metadata": {},
     "output_type": "execute_result"
    }
   ],
   "source": [
    "df[\"code\"][:-1].apply(lambda countrycode: pycountry.countries.get\n",
    "                      (alpha_3=countrycode).flag)  # Apply lambda function (excluding last value)"
   ]
  },
  {
   "cell_type": "markdown",
   "metadata": {
    "id": "wuSlkw1FTQH1"
   },
   "source": [
    "As the last value in the column is not a country code, we will also have to take care how to handle these missings if we want to add the flag as a new column. Let's define a lambda function that returns the flag if the value is a string and \"Not found\" otherwise:"
   ]
  },
  {
   "cell_type": "code",
   "execution_count": 32,
   "metadata": {
    "id": "ugsswAOtT_C0"
   },
   "outputs": [
    {
     "name": "stdout",
     "output_type": "stream",
     "text": [
      "🇨🇭\n"
     ]
    },
    {
     "data": {
      "text/plain": [
       "'Not found'"
      ]
     },
     "execution_count": 32,
     "metadata": {},
     "output_type": "execute_result"
    }
   ],
   "source": [
    "get_flag = (lambda countrycode: pycountry.countries.get(alpha_3=countrycode).flag\n",
    "            if type(countrycode) == str else \"Not found\")  # Simple if-else conditions\n",
    "                                                 # can be defined on one line\n",
    "print(get_flag(\"CHE\"))\n",
    "get_flag(0)"
   ]
  },
  {
   "cell_type": "code",
   "execution_count": 33,
   "metadata": {
    "id": "YodnK25BTuMk"
   },
   "outputs": [
    {
     "data": {
      "text/plain": [
       "country\n",
       "Slovak Republic                     🇸🇰\n",
       "Australia                           🇦🇺\n",
       "Georgia                             🇬🇪\n",
       "Norway                              🇳🇴\n",
       "Bulgaria                            🇧🇬\n",
       "                               ...    \n",
       "Benin                               🇧🇯\n",
       "Saudi Arabia                        🇸🇦\n",
       "Latvia                              🇱🇻\n",
       "Sint Maarten (Dutch part)           🇸🇽\n",
       "NaN                          Not found\n",
       "Name: flag, Length: 203, dtype: object"
      ]
     },
     "execution_count": 33,
     "metadata": {},
     "output_type": "execute_result"
    }
   ],
   "source": [
    "df[\"flag\"] = df[\"code\"].apply(get_flag)\n",
    "df[\"flag\"]"
   ]
  },
  {
   "cell_type": "markdown",
   "metadata": {
    "id": "rPchBGU-qybm"
   },
   "source": [
    "But what if we wanted to apply a function that is **based on the values of several columns**? For example, we might want to identify the world leaders (large population and high income) in our data. The apply method does not only exist for pandas Series, but also for **pandas Dataframes**. If you apply a (reducing) function to a dataframe, you further need so specify if this is to be done **along columns or rows**."
   ]
  },
  {
   "cell_type": "code",
   "execution_count": 34,
   "metadata": {
    "id": "5CycsfTirVHc"
   },
   "outputs": [
    {
     "data": {
      "text/plain": [
       "country\n",
       "Slovak Republic              no world leader\n",
       "Australia                       world leader\n",
       "Georgia                      no world leader\n",
       "Norway                       no world leader\n",
       "Bulgaria                     no world leader\n",
       "                                  ...       \n",
       "Benin                        no world leader\n",
       "Saudi Arabia                    world leader\n",
       "Latvia                       no world leader\n",
       "Sint Maarten (Dutch part)    no world leader\n",
       "NaN                          no world leader\n",
       "Length: 203, dtype: object"
      ]
     },
     "execution_count": 34,
     "metadata": {},
     "output_type": "execute_result"
    }
   ],
   "source": [
    "df.apply(lambda x: \"world leader\" if (x[\"gni_per_capita\"] > 6000)\n",
    "         & (x[\"total_population\"] > 10000000)\n",
    "         else \"no world leader\",\n",
    "         axis=\"columns\")  # Along columns, x refers to rows"
   ]
  },
  {
   "cell_type": "code",
   "execution_count": 35,
   "metadata": {
    "id": "5w7BfGberVMz"
   },
   "outputs": [
    {
     "data": {
      "text/plain": [
       "code                                    -\n",
       "gni_per_capita               14601.304348\n",
       "life_satisfaction                5.533525\n",
       "fertility                       -8.313262\n",
       "total_population          34447128.475248\n",
       "continent                               -\n",
       "working_hours_per_year                  -\n",
       "income_level                            -\n",
       "flag                                    -\n",
       "dtype: object"
      ]
     },
     "execution_count": 35,
     "metadata": {},
     "output_type": "execute_result"
    }
   ],
   "source": [
    "df.apply(lambda x: x.mean() if x.dtype != \"object\" else \"-\",\n",
    "         axis=\"rows\")  # Along rows, x refers to columns"
   ]
  },
  {
   "cell_type": "markdown",
   "metadata": {
    "id": "PX7j9inYW5vB"
   },
   "source": [
    "What does your local variable ``x`` refer to in each case?\n",
    "\n",
    "If ``apply`` is executed **along columns (first example), ``x`` refers to a row in the dataframe** (so, ``x[\"gni_per_capita\"]`` will refer to a different element of the ``gni_per_capita`` column in each \"iteration\"). Typically, the outcome will be a column.\n",
    "\n",
    "Analogously, if you use ``apply`` **along rows (second example), ``x`` will point to a column** in your dataframe your function has to refer to the columns in the dataframe (allowing us to iterate through all columns and compute the mean across all rows in each of them). Typically, the outcome will be a row."
   ]
  },
  {
   "cell_type": "markdown",
   "metadata": {
    "id": "cS3mwkKW0eqs"
   },
   "source": [
    "Other useful methods to change column values are **``map()``** and **``replace()``**:"
   ]
  },
  {
   "cell_type": "code",
   "execution_count": 36,
   "metadata": {
    "id": "5dalumMezfCi"
   },
   "outputs": [],
   "source": [
    "continent_codes = {\"Africa\": \"AF\",\n",
    "                   \"Europe\": \"EU\",\n",
    "                   \"North America\": \"NA\",\n",
    "                   \"South America\": \"SA\",\n",
    "                   \"Asia\": \"AS\"}"
   ]
  },
  {
   "cell_type": "code",
   "execution_count": 37,
   "metadata": {
    "colab": {
     "base_uri": "https://localhost:8080/"
    },
    "executionInfo": {
     "elapsed": 253,
     "status": "ok",
     "timestamp": 1710764527943,
     "user": {
      "displayName": "Martina Jakob",
      "userId": "16119095848899534342"
     },
     "user_tz": -60
    },
    "id": "tSdN6XX5zfiq",
    "outputId": "92676647-ebbb-47b5-d80d-88a0697cccb4"
   },
   "outputs": [
    {
     "data": {
      "text/plain": [
       "country\n",
       "Slovak Republic               EU\n",
       "Australia                    NaN\n",
       "Georgia                       AS\n",
       "Norway                        EU\n",
       "Bulgaria                      EU\n",
       "                            ... \n",
       "Benin                         AF\n",
       "Saudi Arabia                  AS\n",
       "Latvia                        EU\n",
       "Sint Maarten (Dutch part)     NA\n",
       "NaN                          NaN\n",
       "Name: continent, Length: 203, dtype: object"
      ]
     },
     "execution_count": 37,
     "metadata": {},
     "output_type": "execute_result"
    }
   ],
   "source": [
    "df.continent.map(continent_codes)"
   ]
  },
  {
   "cell_type": "code",
   "execution_count": 38,
   "metadata": {
    "colab": {
     "base_uri": "https://localhost:8080/"
    },
    "executionInfo": {
     "elapsed": 242,
     "status": "ok",
     "timestamp": 1710764543541,
     "user": {
      "displayName": "Martina Jakob",
      "userId": "16119095848899534342"
     },
     "user_tz": -60
    },
    "id": "q7lJ1nhKzffN",
    "outputId": "2b68214e-ba7b-45b7-be06-69f6d2feb066"
   },
   "outputs": [
    {
     "data": {
      "text/plain": [
       "country\n",
       "Slovak Republic                   EU\n",
       "Australia                    Oceania\n",
       "Georgia                           AS\n",
       "Norway                            EU\n",
       "Bulgaria                          EU\n",
       "                              ...   \n",
       "Benin                             AF\n",
       "Saudi Arabia                      AS\n",
       "Latvia                            EU\n",
       "Sint Maarten (Dutch part)         NA\n",
       "NaN                              NaN\n",
       "Name: continent, Length: 203, dtype: object"
      ]
     },
     "execution_count": 38,
     "metadata": {},
     "output_type": "execute_result"
    }
   ],
   "source": [
    "df.continent.replace(continent_codes)"
   ]
  },
  {
   "cell_type": "markdown",
   "metadata": {
    "id": "6Arhkze-2tWK"
   },
   "source": [
    "Can you spot how they differ? <font color = FF10F0> Answer: <font color = white> While map creates missings whenever a value is not contained in our dictionary, replace keeps the original values."
   ]
  },
  {
   "cell_type": "markdown",
   "metadata": {
    "id": "SxuNszyZAGuw"
   },
   "source": [
    "><font color = ffffff> SIDENOTE: The ``apply()`` method allows you to write compact code to perform sophisticated operations, but, as it is basically a loop in disguise (``apply`` is still much faster than manually programming a loop), it can be a bit slow on very large datasets. Pandas offers a wide range of (vectorized) methods that allow you to perform operations on rows or columns more efficiently. So, if what you would like to do is not very complex, it makes sense to look for a method first before using ``apply``. For example, instead of:\n",
    "\n"
   ]
  },
  {
   "cell_type": "code",
   "execution_count": 39,
   "metadata": {
    "id": "ynqnxUts6bds"
   },
   "outputs": [
    {
     "data": {
      "text/plain": [
       "country\n",
       "Slovak Republic              svk\n",
       "Australia                    aus\n",
       "Georgia                      geo\n",
       "Norway                       nor\n",
       "Bulgaria                     bgr\n",
       "                            ... \n",
       "Benin                        ben\n",
       "Saudi Arabia                 sau\n",
       "Latvia                       lva\n",
       "Sint Maarten (Dutch part)    sxm\n",
       "NaN                             \n",
       "Name: code, Length: 203, dtype: object"
      ]
     },
     "execution_count": 39,
     "metadata": {},
     "output_type": "execute_result"
    }
   ],
   "source": [
    "import numpy as np\n",
    "df[\"code\"].apply(lambda x: x.lower() if type(x) == str else \"\")"
   ]
  },
  {
   "cell_type": "markdown",
   "metadata": {
    "id": "JQpayvJ_7oWj"
   },
   "source": [
    "><font color = 4e15fffffvf85> ...you could use:"
   ]
  },
  {
   "cell_type": "code",
   "execution_count": 40,
   "metadata": {
    "id": "e8aA2p4X5d8e"
   },
   "outputs": [
    {
     "data": {
      "text/plain": [
       "country\n",
       "Slovak Republic              svk\n",
       "Australia                    aus\n",
       "Georgia                      geo\n",
       "Norway                       nor\n",
       "Bulgaria                     bgr\n",
       "                            ... \n",
       "Benin                        ben\n",
       "Saudi Arabia                 sau\n",
       "Latvia                       lva\n",
       "Sint Maarten (Dutch part)    sxm\n",
       "NaN                          NaN\n",
       "Name: code, Length: 203, dtype: object"
      ]
     },
     "execution_count": 40,
     "metadata": {},
     "output_type": "execute_result"
    }
   ],
   "source": [
    "df[\"code\"].str.lower()"
   ]
  },
  {
   "cell_type": "markdown",
   "metadata": {
    "id": "7hhWE5dQ57ud"
   },
   "source": [
    "><font color = 4e1fff585> In some cases, you can also use functions from numpy when none is implemented in pandas:"
   ]
  },
  {
   "cell_type": "code",
   "execution_count": 41,
   "metadata": {
    "id": "zzQbHysf5zkm"
   },
   "outputs": [
    {
     "data": {
      "text/plain": [
       "country\n",
       "Slovak Republic              15.508554\n",
       "Australia                    16.990727\n",
       "Georgia                      15.207787\n",
       "Norway                       15.464169\n",
       "Bulgaria                     15.789592\n",
       "                               ...    \n",
       "Benin                        16.174098\n",
       "Saudi Arabia                 17.272395\n",
       "Latvia                       14.507657\n",
       "Sint Maarten (Dutch part)    10.596635\n",
       "NaN                                NaN\n",
       "Name: total_population, Length: 203, dtype: float64"
      ]
     },
     "execution_count": 41,
     "metadata": {},
     "output_type": "execute_result"
    }
   ],
   "source": [
    "np.log(df[\"total_population\"])  # Returns a pandas Series"
   ]
  },
  {
   "cell_type": "markdown",
   "metadata": {
    "id": "EK0ulWai7i5D"
   },
   "source": [
    "\n",
    "><font color = ffffff> To find out more about ``apply()`` and similar methods such as ``map()`` or ``applymap()`` see, for example, here:\n",
    "- https://-towardsdatascience.com/introduction-to-pandas-apply-applymap-and-map-5d3e044e93ff\n",
    "- https://www.digitalocean.com/community/tutorials/pandas-dataframe-apply-examples"
   ]
  },
  {
   "cell_type": "markdown",
   "metadata": {
    "id": "j2mB0tC5WLfU"
   },
   "source": [
    "---\n",
    "\n",
    ">  <font color='teal'> **In-class exercise**:\n",
    "Set the country code as the index of your ``ls_data`` dataframe (without droping it as a column!) and rename the column ``fertility`` to ``fertility_rate``."
   ]
  },
  {
   "cell_type": "code",
   "execution_count": null,
   "metadata": {
    "id": "-Zen6VFiWP1F"
   },
   "outputs": [],
   "source": []
  },
  {
   "cell_type": "code",
   "execution_count": null,
   "metadata": {
    "id": "zTZgGY72hsq8"
   },
   "outputs": [],
   "source": []
  },
  {
   "cell_type": "markdown",
   "metadata": {
    "id": "E1Zxe195Rr4G"
   },
   "source": [
    " >  <font color='teal'>Drop the ``Unnamed: 0`` and the ``total population`` columns."
   ]
  },
  {
   "cell_type": "code",
   "execution_count": null,
   "metadata": {
    "id": "VDEnyI4wDoaD"
   },
   "outputs": [],
   "source": []
  },
  {
   "cell_type": "code",
   "execution_count": null,
   "metadata": {
    "id": "TtmfaOhAhwxF"
   },
   "outputs": [],
   "source": []
  },
  {
   "cell_type": "markdown",
   "metadata": {
    "id": "Jt2BJwOe_DKp"
   },
   "source": [
    ">  <font color='teal'> Can you find a way to drop the last row in the dataset?"
   ]
  },
  {
   "cell_type": "code",
   "execution_count": null,
   "metadata": {
    "id": "PtYWc5QmEAj0"
   },
   "outputs": [],
   "source": []
  },
  {
   "cell_type": "markdown",
   "metadata": {
    "id": "3UEQJ1TxQTEk"
   },
   "source": [
    ">  <font color='teal'> Can you create a new column called ``code2`` containing a two-letter code for each country using the apply method? Assume that simple truncation to 2 letters is ok."
   ]
  },
  {
   "cell_type": "code",
   "execution_count": null,
   "metadata": {
    "id": "q9HrxI6rFT4c"
   },
   "outputs": [],
   "source": []
  },
  {
   "cell_type": "markdown",
   "metadata": {
    "id": "fIUWXn8g-qT7"
   },
   "source": [
    ">  <font color='teal'> Pandas offers simpler solutions if you need to extract a substring from a column. Can you find one of them to create ``code2`` more efficiently?"
   ]
  },
  {
   "cell_type": "code",
   "execution_count": null,
   "metadata": {
    "id": "koSKiaes-paB"
   },
   "outputs": [],
   "source": []
  },
  {
   "cell_type": "markdown",
   "metadata": {
    "id": "9pJK0rHnbsMI"
   },
   "source": [
    ">  <font color='teal'> *Extra task*: The correct two-letter country code (ISO-2) will not always correspond to the first two letters of the three-letter code (ISO-3). Use the pycountry module to retrieve the correct ISO-2 code (alpha_2). Print out the name and codes for all countries where the correct two-letter code does not correspond to the first two digits of the three-digit code."
   ]
  },
  {
   "cell_type": "code",
   "execution_count": null,
   "metadata": {
    "id": "mYKBhmmubrfm"
   },
   "outputs": [],
   "source": []
  },
  {
   "cell_type": "code",
   "execution_count": null,
   "metadata": {
    "id": "2frxX0VbiwNP"
   },
   "outputs": [],
   "source": []
  },
  {
   "cell_type": "code",
   "execution_count": null,
   "metadata": {
    "id": "y5XTawEUiGDN"
   },
   "outputs": [],
   "source": []
  },
  {
   "cell_type": "markdown",
   "metadata": {
    "id": "WUEJZTQ4WQ3N"
   },
   "source": [
    "\n",
    "\n",
    "---\n",
    "\n"
   ]
  },
  {
   "cell_type": "markdown",
   "metadata": {
    "id": "hk8af1PmzcU_"
   },
   "source": [
    "### Sorting"
   ]
  },
  {
   "cell_type": "markdown",
   "metadata": {
    "id": "cYp7yhN65n2Q"
   },
   "source": [
    "Your can **sort your dataset by the index or by the values of a column (or several columns)**. This can be done with the **``sort_index()`` and the ``sort_values()``** methods respectively. Let's sort our dataset alphabetically by country name:"
   ]
  },
  {
   "cell_type": "code",
   "execution_count": 42,
   "metadata": {
    "colab": {
     "base_uri": "https://localhost:8080/",
     "height": 631
    },
    "executionInfo": {
     "elapsed": 7,
     "status": "ok",
     "timestamp": 1710766057814,
     "user": {
      "displayName": "Martina Jakob",
      "userId": "16119095848899534342"
     },
     "user_tz": -60
    },
    "id": "i_j7MNHU5bbv",
    "outputId": "a2a37b91-1573-4bb1-fbb6-da84d9447104"
   },
   "outputs": [
    {
     "data": {
      "text/html": [
       "<div>\n",
       "<style scoped>\n",
       "    .dataframe tbody tr th:only-of-type {\n",
       "        vertical-align: middle;\n",
       "    }\n",
       "\n",
       "    .dataframe tbody tr th {\n",
       "        vertical-align: top;\n",
       "    }\n",
       "\n",
       "    .dataframe thead th {\n",
       "        text-align: right;\n",
       "    }\n",
       "</style>\n",
       "<table border=\"1\" class=\"dataframe\">\n",
       "  <thead>\n",
       "    <tr style=\"text-align: right;\">\n",
       "      <th></th>\n",
       "      <th>code</th>\n",
       "      <th>gni_per_capita</th>\n",
       "      <th>life_satisfaction</th>\n",
       "      <th>fertility</th>\n",
       "      <th>total_population</th>\n",
       "      <th>continent</th>\n",
       "      <th>working_hours_per_year</th>\n",
       "      <th>income_level</th>\n",
       "      <th>flag</th>\n",
       "    </tr>\n",
       "    <tr>\n",
       "      <th>country</th>\n",
       "      <th></th>\n",
       "      <th></th>\n",
       "      <th></th>\n",
       "      <th></th>\n",
       "      <th></th>\n",
       "      <th></th>\n",
       "      <th></th>\n",
       "      <th></th>\n",
       "      <th></th>\n",
       "    </tr>\n",
       "  </thead>\n",
       "  <tbody>\n",
       "    <tr>\n",
       "      <th>Afghanistan</th>\n",
       "      <td>AFG</td>\n",
       "      <td>600.0</td>\n",
       "      <td>2.694303</td>\n",
       "      <td>4.976</td>\n",
       "      <td>34414000.0</td>\n",
       "      <td>Asia</td>\n",
       "      <td>no data</td>\n",
       "      <td>Low income</td>\n",
       "      <td>🇦🇫</td>\n",
       "    </tr>\n",
       "    <tr>\n",
       "      <th>Albania</th>\n",
       "      <td>ALB</td>\n",
       "      <td>4390.0</td>\n",
       "      <td>5.004403</td>\n",
       "      <td>1.677</td>\n",
       "      <td>2891000.0</td>\n",
       "      <td>Europe</td>\n",
       "      <td>no data</td>\n",
       "      <td>Upper middle income</td>\n",
       "      <td>🇦🇱</td>\n",
       "    </tr>\n",
       "    <tr>\n",
       "      <th>Algeria</th>\n",
       "      <td>DZA</td>\n",
       "      <td>4850.0</td>\n",
       "      <td>5.043086</td>\n",
       "      <td>3.043</td>\n",
       "      <td>39728000.0</td>\n",
       "      <td>Africa</td>\n",
       "      <td>no data</td>\n",
       "      <td>Upper middle income</td>\n",
       "      <td>🇩🇿</td>\n",
       "    </tr>\n",
       "    <tr>\n",
       "      <th>American Samoa</th>\n",
       "      <td>ASM</td>\n",
       "      <td>NaN</td>\n",
       "      <td>NaN</td>\n",
       "      <td>-99.000</td>\n",
       "      <td>56000.0</td>\n",
       "      <td>Oceania</td>\n",
       "      <td>no data</td>\n",
       "      <td>None</td>\n",
       "      <td>🇦🇸</td>\n",
       "    </tr>\n",
       "    <tr>\n",
       "      <th>Andorra</th>\n",
       "      <td>AND</td>\n",
       "      <td>NaN</td>\n",
       "      <td>NaN</td>\n",
       "      <td>-99.000</td>\n",
       "      <td>78000.0</td>\n",
       "      <td>Europe</td>\n",
       "      <td>no data</td>\n",
       "      <td>None</td>\n",
       "      <td>🇦🇩</td>\n",
       "    </tr>\n",
       "    <tr>\n",
       "      <th>...</th>\n",
       "      <td>...</td>\n",
       "      <td>...</td>\n",
       "      <td>...</td>\n",
       "      <td>...</td>\n",
       "      <td>...</td>\n",
       "      <td>...</td>\n",
       "      <td>...</td>\n",
       "      <td>...</td>\n",
       "      <td>...</td>\n",
       "    </tr>\n",
       "    <tr>\n",
       "      <th>Virgin Islands (U.S.)</th>\n",
       "      <td>VIR</td>\n",
       "      <td>NaN</td>\n",
       "      <td>NaN</td>\n",
       "      <td>2.164</td>\n",
       "      <td>105000.0</td>\n",
       "      <td>North America</td>\n",
       "      <td>no data</td>\n",
       "      <td>None</td>\n",
       "      <td>🇻🇮</td>\n",
       "    </tr>\n",
       "    <tr>\n",
       "      <th>West Bank and Gaza</th>\n",
       "      <td>PSE</td>\n",
       "      <td>3670.0</td>\n",
       "      <td>4.553922</td>\n",
       "      <td>3.955</td>\n",
       "      <td>4529000.0</td>\n",
       "      <td>Asia</td>\n",
       "      <td>no data</td>\n",
       "      <td>Lower middle income</td>\n",
       "      <td>🇵🇸</td>\n",
       "    </tr>\n",
       "    <tr>\n",
       "      <th>Zambia</th>\n",
       "      <td>ZMB</td>\n",
       "      <td>1580.0</td>\n",
       "      <td>4.041488</td>\n",
       "      <td>4.918</td>\n",
       "      <td>15879000.0</td>\n",
       "      <td>Africa</td>\n",
       "      <td>no data</td>\n",
       "      <td>Lower middle income</td>\n",
       "      <td>🇿🇲</td>\n",
       "    </tr>\n",
       "    <tr>\n",
       "      <th>Zimbabwe</th>\n",
       "      <td>ZWE</td>\n",
       "      <td>1280.0</td>\n",
       "      <td>3.616480</td>\n",
       "      <td>3.896</td>\n",
       "      <td>13815000.0</td>\n",
       "      <td>Africa</td>\n",
       "      <td>no data</td>\n",
       "      <td>Lower middle income</td>\n",
       "      <td>🇿🇼</td>\n",
       "    </tr>\n",
       "    <tr>\n",
       "      <th>NaN</th>\n",
       "      <td>NaN</td>\n",
       "      <td>NaN</td>\n",
       "      <td>NaN</td>\n",
       "      <td>NaN</td>\n",
       "      <td>NaN</td>\n",
       "      <td>NaN</td>\n",
       "      <td>NaN</td>\n",
       "      <td>None</td>\n",
       "      <td>Not found</td>\n",
       "    </tr>\n",
       "  </tbody>\n",
       "</table>\n",
       "<p>203 rows × 9 columns</p>\n",
       "</div>"
      ],
      "text/plain": [
       "                      code  gni_per_capita  life_satisfaction  fertility  \\\n",
       "country                                                                    \n",
       "Afghanistan            AFG           600.0           2.694303      4.976   \n",
       "Albania                ALB          4390.0           5.004403      1.677   \n",
       "Algeria                DZA          4850.0           5.043086      3.043   \n",
       "American Samoa         ASM             NaN                NaN    -99.000   \n",
       "Andorra                AND             NaN                NaN    -99.000   \n",
       "...                    ...             ...                ...        ...   \n",
       "Virgin Islands (U.S.)  VIR             NaN                NaN      2.164   \n",
       "West Bank and Gaza     PSE          3670.0           4.553922      3.955   \n",
       "Zambia                 ZMB          1580.0           4.041488      4.918   \n",
       "Zimbabwe               ZWE          1280.0           3.616480      3.896   \n",
       "NaN                    NaN             NaN                NaN        NaN   \n",
       "\n",
       "                       total_population      continent working_hours_per_year  \\\n",
       "country                                                                         \n",
       "Afghanistan                  34414000.0           Asia                no data   \n",
       "Albania                       2891000.0         Europe                no data   \n",
       "Algeria                      39728000.0         Africa                no data   \n",
       "American Samoa                  56000.0        Oceania                no data   \n",
       "Andorra                         78000.0         Europe                no data   \n",
       "...                                 ...            ...                    ...   \n",
       "Virgin Islands (U.S.)          105000.0  North America                no data   \n",
       "West Bank and Gaza            4529000.0           Asia                no data   \n",
       "Zambia                       15879000.0         Africa                no data   \n",
       "Zimbabwe                     13815000.0         Africa                no data   \n",
       "NaN                                 NaN            NaN                    NaN   \n",
       "\n",
       "                              income_level       flag  \n",
       "country                                                \n",
       "Afghanistan                     Low income         🇦🇫  \n",
       "Albania                Upper middle income         🇦🇱  \n",
       "Algeria                Upper middle income         🇩🇿  \n",
       "American Samoa                        None         🇦🇸  \n",
       "Andorra                               None         🇦🇩  \n",
       "...                                    ...        ...  \n",
       "Virgin Islands (U.S.)                 None         🇻🇮  \n",
       "West Bank and Gaza     Lower middle income         🇵🇸  \n",
       "Zambia                 Lower middle income         🇿🇲  \n",
       "Zimbabwe               Lower middle income         🇿🇼  \n",
       "NaN                                   None  Not found  \n",
       "\n",
       "[203 rows x 9 columns]"
      ]
     },
     "execution_count": 42,
     "metadata": {},
     "output_type": "execute_result"
    }
   ],
   "source": [
    "df.sort_index(inplace=True)\n",
    "df"
   ]
  },
  {
   "cell_type": "markdown",
   "metadata": {
    "id": "a-s6Y40wKHA7"
   },
   "source": [
    " Let's now take a look at the countries with the lowest life satisfaction:"
   ]
  },
  {
   "cell_type": "code",
   "execution_count": 43,
   "metadata": {
    "colab": {
     "base_uri": "https://localhost:8080/",
     "height": 275
    },
    "executionInfo": {
     "elapsed": 255,
     "status": "ok",
     "timestamp": 1710766075793,
     "user": {
      "displayName": "Martina Jakob",
      "userId": "16119095848899534342"
     },
     "user_tz": -60
    },
    "id": "zXNzeAneKMTv",
    "outputId": "aa580c7a-edcb-493d-e98a-7523c5c97838"
   },
   "outputs": [
    {
     "data": {
      "text/html": [
       "<div>\n",
       "<style scoped>\n",
       "    .dataframe tbody tr th:only-of-type {\n",
       "        vertical-align: middle;\n",
       "    }\n",
       "\n",
       "    .dataframe tbody tr th {\n",
       "        vertical-align: top;\n",
       "    }\n",
       "\n",
       "    .dataframe thead th {\n",
       "        text-align: right;\n",
       "    }\n",
       "</style>\n",
       "<table border=\"1\" class=\"dataframe\">\n",
       "  <thead>\n",
       "    <tr style=\"text-align: right;\">\n",
       "      <th></th>\n",
       "      <th>code</th>\n",
       "      <th>gni_per_capita</th>\n",
       "      <th>life_satisfaction</th>\n",
       "      <th>fertility</th>\n",
       "      <th>total_population</th>\n",
       "      <th>continent</th>\n",
       "      <th>working_hours_per_year</th>\n",
       "      <th>income_level</th>\n",
       "      <th>flag</th>\n",
       "    </tr>\n",
       "    <tr>\n",
       "      <th>country</th>\n",
       "      <th></th>\n",
       "      <th></th>\n",
       "      <th></th>\n",
       "      <th></th>\n",
       "      <th></th>\n",
       "      <th></th>\n",
       "      <th></th>\n",
       "      <th></th>\n",
       "      <th></th>\n",
       "    </tr>\n",
       "  </thead>\n",
       "  <tbody>\n",
       "    <tr>\n",
       "      <th>Afghanistan</th>\n",
       "      <td>AFG</td>\n",
       "      <td>600.0</td>\n",
       "      <td>2.694303</td>\n",
       "      <td>4.976</td>\n",
       "      <td>34414000.0</td>\n",
       "      <td>Asia</td>\n",
       "      <td>no data</td>\n",
       "      <td>Low income</td>\n",
       "      <td>🇦🇫</td>\n",
       "    </tr>\n",
       "    <tr>\n",
       "      <th>Malawi</th>\n",
       "      <td>MWI</td>\n",
       "      <td>350.0</td>\n",
       "      <td>3.334634</td>\n",
       "      <td>4.527</td>\n",
       "      <td>16745000.0</td>\n",
       "      <td>Africa</td>\n",
       "      <td>no data</td>\n",
       "      <td>Low income</td>\n",
       "      <td>🇲🇼</td>\n",
       "    </tr>\n",
       "    <tr>\n",
       "      <th>Tanzania</th>\n",
       "      <td>TZA</td>\n",
       "      <td>980.0</td>\n",
       "      <td>3.445023</td>\n",
       "      <td>5.079</td>\n",
       "      <td>51483000.0</td>\n",
       "      <td>Africa</td>\n",
       "      <td>no data</td>\n",
       "      <td>Low income</td>\n",
       "      <td>🇹🇿</td>\n",
       "    </tr>\n",
       "    <tr>\n",
       "      <th>Botswana</th>\n",
       "      <td>BWA</td>\n",
       "      <td>6840.0</td>\n",
       "      <td>3.461366</td>\n",
       "      <td>2.968</td>\n",
       "      <td>2121000.0</td>\n",
       "      <td>Africa</td>\n",
       "      <td>no data</td>\n",
       "      <td>Upper middle income</td>\n",
       "      <td>🇧🇼</td>\n",
       "    </tr>\n",
       "    <tr>\n",
       "      <th>Rwanda</th>\n",
       "      <td>RWA</td>\n",
       "      <td>750.0</td>\n",
       "      <td>3.561047</td>\n",
       "      <td>4.157</td>\n",
       "      <td>11369000.0</td>\n",
       "      <td>Africa</td>\n",
       "      <td>no data</td>\n",
       "      <td>Low income</td>\n",
       "      <td>🇷🇼</td>\n",
       "    </tr>\n",
       "  </tbody>\n",
       "</table>\n",
       "</div>"
      ],
      "text/plain": [
       "            code  gni_per_capita  life_satisfaction  fertility  \\\n",
       "country                                                          \n",
       "Afghanistan  AFG           600.0           2.694303      4.976   \n",
       "Malawi       MWI           350.0           3.334634      4.527   \n",
       "Tanzania     TZA           980.0           3.445023      5.079   \n",
       "Botswana     BWA          6840.0           3.461366      2.968   \n",
       "Rwanda       RWA           750.0           3.561047      4.157   \n",
       "\n",
       "             total_population continent working_hours_per_year  \\\n",
       "country                                                          \n",
       "Afghanistan        34414000.0      Asia                no data   \n",
       "Malawi             16745000.0    Africa                no data   \n",
       "Tanzania           51483000.0    Africa                no data   \n",
       "Botswana            2121000.0    Africa                no data   \n",
       "Rwanda             11369000.0    Africa                no data   \n",
       "\n",
       "                    income_level flag  \n",
       "country                                \n",
       "Afghanistan           Low income   🇦🇫  \n",
       "Malawi                Low income   🇲🇼  \n",
       "Tanzania              Low income   🇹🇿  \n",
       "Botswana     Upper middle income   🇧🇼  \n",
       "Rwanda                Low income   🇷🇼  "
      ]
     },
     "execution_count": 43,
     "metadata": {},
     "output_type": "execute_result"
    }
   ],
   "source": [
    "# Sort by life satisfaction and print at head of dataset\n",
    "df.sort_values(\"life_satisfaction\").head()"
   ]
  },
  {
   "cell_type": "markdown",
   "metadata": {
    "id": "88PX99AONjST"
   },
   "source": [
    "><font color = 4e1585> SIDENOTE: If you want to subsequently apply several methods you can write one behind the other as in the example above. The statment will be evauated from left to right. In our case, the ``sort_values()`` method will be applied first and the ``head()`` method second. However, this only works if the object returned by the first method supports the second method. In our example, ``sort_values()`` returns a pandas dataframe, which is why we can apply the ``head()`` method next. Can you guess why ``df.sort_values(\"life_satisfaction\", inplace=True).head()`` would not work?"
   ]
  },
  {
   "cell_type": "code",
   "execution_count": 44,
   "metadata": {
    "colab": {
     "base_uri": "https://localhost:8080/",
     "height": 257
    },
    "executionInfo": {
     "elapsed": 282,
     "status": "ok",
     "timestamp": 1710766093218,
     "user": {
      "displayName": "Martina Jakob",
      "userId": "16119095848899534342"
     },
     "user_tz": -60
    },
    "id": "jhcIKkM9FvuL",
    "outputId": "a2c40a5f-0b6d-4d11-c230-1b922d514b19"
   },
   "outputs": [
    {
     "data": {
      "text/html": [
       "<div>\n",
       "<style scoped>\n",
       "    .dataframe tbody tr th:only-of-type {\n",
       "        vertical-align: middle;\n",
       "    }\n",
       "\n",
       "    .dataframe tbody tr th {\n",
       "        vertical-align: top;\n",
       "    }\n",
       "\n",
       "    .dataframe thead th {\n",
       "        text-align: right;\n",
       "    }\n",
       "</style>\n",
       "<table border=\"1\" class=\"dataframe\">\n",
       "  <thead>\n",
       "    <tr style=\"text-align: right;\">\n",
       "      <th></th>\n",
       "      <th>code</th>\n",
       "      <th>gni_per_capita</th>\n",
       "      <th>life_satisfaction</th>\n",
       "      <th>fertility</th>\n",
       "      <th>total_population</th>\n",
       "      <th>continent</th>\n",
       "      <th>working_hours_per_year</th>\n",
       "      <th>income_level</th>\n",
       "      <th>flag</th>\n",
       "    </tr>\n",
       "    <tr>\n",
       "      <th>country</th>\n",
       "      <th></th>\n",
       "      <th></th>\n",
       "      <th></th>\n",
       "      <th></th>\n",
       "      <th></th>\n",
       "      <th></th>\n",
       "      <th></th>\n",
       "      <th></th>\n",
       "      <th></th>\n",
       "    </tr>\n",
       "  </thead>\n",
       "  <tbody>\n",
       "    <tr>\n",
       "      <th>Finland</th>\n",
       "      <td>FIN</td>\n",
       "      <td>47150.0</td>\n",
       "      <td>7.858107</td>\n",
       "      <td>1.653</td>\n",
       "      <td>5481000.0</td>\n",
       "      <td>Europe</td>\n",
       "      <td>1637.1949</td>\n",
       "      <td>High income</td>\n",
       "      <td>🇫🇮</td>\n",
       "    </tr>\n",
       "    <tr>\n",
       "      <th>Denmark</th>\n",
       "      <td>DNK</td>\n",
       "      <td>60510.0</td>\n",
       "      <td>7.648786</td>\n",
       "      <td>1.737</td>\n",
       "      <td>5689000.0</td>\n",
       "      <td>Europe</td>\n",
       "      <td>1412.2715</td>\n",
       "      <td>High income</td>\n",
       "      <td>🇩🇰</td>\n",
       "    </tr>\n",
       "    <tr>\n",
       "      <th>Switzerland</th>\n",
       "      <td>CHE</td>\n",
       "      <td>85670.0</td>\n",
       "      <td>7.508587</td>\n",
       "      <td>1.533</td>\n",
       "      <td>8297000.0</td>\n",
       "      <td>Europe</td>\n",
       "      <td>1589.4751</td>\n",
       "      <td>High income</td>\n",
       "      <td>🇨🇭</td>\n",
       "    </tr>\n",
       "    <tr>\n",
       "      <th>Netherlands</th>\n",
       "      <td>NLD</td>\n",
       "      <td>49810.0</td>\n",
       "      <td>7.463097</td>\n",
       "      <td>1.693</td>\n",
       "      <td>16938000.0</td>\n",
       "      <td>Europe</td>\n",
       "      <td>1423.9202</td>\n",
       "      <td>High income</td>\n",
       "      <td>🇳🇱</td>\n",
       "    </tr>\n",
       "    <tr>\n",
       "      <th>Norway</th>\n",
       "      <td>NOR</td>\n",
       "      <td>93110.0</td>\n",
       "      <td>7.444262</td>\n",
       "      <td>1.741</td>\n",
       "      <td>5200000.0</td>\n",
       "      <td>Europe</td>\n",
       "      <td>1422.5608</td>\n",
       "      <td>High income</td>\n",
       "      <td>🇳🇴</td>\n",
       "    </tr>\n",
       "  </tbody>\n",
       "</table>\n",
       "</div>"
      ],
      "text/plain": [
       "            code  gni_per_capita  life_satisfaction  fertility  \\\n",
       "country                                                          \n",
       "Finland      FIN         47150.0           7.858107      1.653   \n",
       "Denmark      DNK         60510.0           7.648786      1.737   \n",
       "Switzerland  CHE         85670.0           7.508587      1.533   \n",
       "Netherlands  NLD         49810.0           7.463097      1.693   \n",
       "Norway       NOR         93110.0           7.444262      1.741   \n",
       "\n",
       "             total_population continent working_hours_per_year income_level  \\\n",
       "country                                                                       \n",
       "Finland             5481000.0    Europe              1637.1949  High income   \n",
       "Denmark             5689000.0    Europe              1412.2715  High income   \n",
       "Switzerland         8297000.0    Europe              1589.4751  High income   \n",
       "Netherlands        16938000.0    Europe              1423.9202  High income   \n",
       "Norway              5200000.0    Europe              1422.5608  High income   \n",
       "\n",
       "            flag  \n",
       "country           \n",
       "Finland       🇫🇮  \n",
       "Denmark       🇩🇰  \n",
       "Switzerland   🇨🇭  \n",
       "Netherlands   🇳🇱  \n",
       "Norway        🇳🇴  "
      ]
     },
     "execution_count": 44,
     "metadata": {},
     "output_type": "execute_result"
    }
   ],
   "source": [
    "# If you want to sort descending instead of ascending, you would need to\n",
    "# change the default value of the 'ascending' option:\n",
    "df.sort_values(\"life_satisfaction\", ascending=False).head()"
   ]
  },
  {
   "cell_type": "markdown",
   "metadata": {
    "id": "M_jK_33i5Bz9"
   },
   "source": [
    "### Handling missing values"
   ]
  },
  {
   "cell_type": "markdown",
   "metadata": {
    "id": "ZI38msvKXKZt"
   },
   "source": [
    "Let's take a look at our dataset:"
   ]
  },
  {
   "cell_type": "code",
   "execution_count": 45,
   "metadata": {
    "id": "SQr4m5IbXLcw"
   },
   "outputs": [
    {
     "data": {
      "text/html": [
       "<div>\n",
       "<style scoped>\n",
       "    .dataframe tbody tr th:only-of-type {\n",
       "        vertical-align: middle;\n",
       "    }\n",
       "\n",
       "    .dataframe tbody tr th {\n",
       "        vertical-align: top;\n",
       "    }\n",
       "\n",
       "    .dataframe thead th {\n",
       "        text-align: right;\n",
       "    }\n",
       "</style>\n",
       "<table border=\"1\" class=\"dataframe\">\n",
       "  <thead>\n",
       "    <tr style=\"text-align: right;\">\n",
       "      <th></th>\n",
       "      <th>code</th>\n",
       "      <th>gni_per_capita</th>\n",
       "      <th>life_satisfaction</th>\n",
       "      <th>fertility</th>\n",
       "      <th>total_population</th>\n",
       "      <th>continent</th>\n",
       "      <th>working_hours_per_year</th>\n",
       "    </tr>\n",
       "    <tr>\n",
       "      <th>country</th>\n",
       "      <th></th>\n",
       "      <th></th>\n",
       "      <th></th>\n",
       "      <th></th>\n",
       "      <th></th>\n",
       "      <th></th>\n",
       "      <th></th>\n",
       "    </tr>\n",
       "  </thead>\n",
       "  <tbody>\n",
       "    <tr>\n",
       "      <th>Afghanistan</th>\n",
       "      <td>AFG</td>\n",
       "      <td>600.0</td>\n",
       "      <td>2.694303</td>\n",
       "      <td>4.976</td>\n",
       "      <td>34414000.0</td>\n",
       "      <td>Asia</td>\n",
       "      <td>no data</td>\n",
       "    </tr>\n",
       "    <tr>\n",
       "      <th>Albania</th>\n",
       "      <td>ALB</td>\n",
       "      <td>4390.0</td>\n",
       "      <td>5.004403</td>\n",
       "      <td>1.677</td>\n",
       "      <td>2891000.0</td>\n",
       "      <td>Europe</td>\n",
       "      <td>no data</td>\n",
       "    </tr>\n",
       "    <tr>\n",
       "      <th>Algeria</th>\n",
       "      <td>DZA</td>\n",
       "      <td>4850.0</td>\n",
       "      <td>5.043086</td>\n",
       "      <td>3.043</td>\n",
       "      <td>39728000.0</td>\n",
       "      <td>Africa</td>\n",
       "      <td>no data</td>\n",
       "    </tr>\n",
       "    <tr>\n",
       "      <th>American Samoa</th>\n",
       "      <td>ASM</td>\n",
       "      <td>NaN</td>\n",
       "      <td>NaN</td>\n",
       "      <td>-99.000</td>\n",
       "      <td>56000.0</td>\n",
       "      <td>Oceania</td>\n",
       "      <td>no data</td>\n",
       "    </tr>\n",
       "    <tr>\n",
       "      <th>Andorra</th>\n",
       "      <td>AND</td>\n",
       "      <td>NaN</td>\n",
       "      <td>NaN</td>\n",
       "      <td>-99.000</td>\n",
       "      <td>78000.0</td>\n",
       "      <td>Europe</td>\n",
       "      <td>no data</td>\n",
       "    </tr>\n",
       "  </tbody>\n",
       "</table>\n",
       "</div>"
      ],
      "text/plain": [
       "               code  gni_per_capita  life_satisfaction  fertility  \\\n",
       "country                                                             \n",
       "Afghanistan     AFG           600.0           2.694303      4.976   \n",
       "Albania         ALB          4390.0           5.004403      1.677   \n",
       "Algeria         DZA          4850.0           5.043086      3.043   \n",
       "American Samoa  ASM             NaN                NaN    -99.000   \n",
       "Andorra         AND             NaN                NaN    -99.000   \n",
       "\n",
       "                total_population continent working_hours_per_year  \n",
       "country                                                            \n",
       "Afghanistan           34414000.0      Asia                no data  \n",
       "Albania                2891000.0    Europe                no data  \n",
       "Algeria               39728000.0    Africa                no data  \n",
       "American Samoa           56000.0   Oceania                no data  \n",
       "Andorra                  78000.0    Europe                no data  "
      ]
     },
     "execution_count": 45,
     "metadata": {},
     "output_type": "execute_result"
    }
   ],
   "source": [
    "df.drop([\"income_level\", \"flag\"], axis=1, inplace=True)\n",
    "df.head()"
   ]
  },
  {
   "cell_type": "markdown",
   "metadata": {
    "id": "4iEsJj6Ewmmx"
   },
   "source": [
    "**Missing values in pandas are coded as ``NaN``** (Not a Number). In our dataset, some of the missing values are properly coded as ``NaN`` (Pandas generated ``NaN`` for empty cells when reading the CSV), while others are not:"
   ]
  },
  {
   "cell_type": "code",
   "execution_count": 46,
   "metadata": {
    "id": "uFa8-F2B6hb1"
   },
   "outputs": [
    {
     "name": "stdout",
     "output_type": "stream",
     "text": [
      "country\n",
      "Afghanistan        600.0\n",
      "Albania           4390.0\n",
      "Algeria           4850.0\n",
      "American Samoa       NaN\n",
      "Andorra              NaN\n",
      "Name: gni_per_capita, dtype: float64\n",
      "float64\n"
     ]
    }
   ],
   "source": [
    "# Missings in gni_per_capita are properly coded as NaN\n",
    "print(df[\"gni_per_capita\"].head())\n",
    "print(df[\"gni_per_capita\"].dtypes)"
   ]
  },
  {
   "cell_type": "code",
   "execution_count": 47,
   "metadata": {
    "id": "TmT07Qaqwjgx"
   },
   "outputs": [
    {
     "name": "stdout",
     "output_type": "stream",
     "text": [
      "country\n",
      "Afghanistan       no data\n",
      "Albania           no data\n",
      "Algeria           no data\n",
      "American Samoa    no data\n",
      "Andorra           no data\n",
      "Name: working_hours_per_year, dtype: object\n",
      "object\n"
     ]
    }
   ],
   "source": [
    "# Missings in working_hours_per_year are coded as \"no data\"\n",
    "print(df[\"working_hours_per_year\"].head())\n",
    "print(df[\"working_hours_per_year\"].dtypes)"
   ]
  },
  {
   "cell_type": "markdown",
   "metadata": {
    "id": "wH-8wOHkD2GI"
   },
   "source": [
    " When missing values are not properly specified, some operations may not work (or yield incorrect results):"
   ]
  },
  {
   "cell_type": "code",
   "execution_count": null,
   "metadata": {
    "id": "vXnDqVNqD3nV"
   },
   "outputs": [],
   "source": [
    "# This will return an error:\n",
    "# df[\"working_hours_per_year\"].mean()"
   ]
  },
  {
   "cell_type": "markdown",
   "metadata": {
    "id": "P0R-2dzu_vLI"
   },
   "source": [
    "How can we change these \"no data\" string values to proper missings? **Missing values can be created using numpy**:"
   ]
  },
  {
   "cell_type": "code",
   "execution_count": 50,
   "metadata": {
    "colab": {
     "base_uri": "https://localhost:8080/"
    },
    "executionInfo": {
     "elapsed": 252,
     "status": "ok",
     "timestamp": 1710766172450,
     "user": {
      "displayName": "Martina Jakob",
      "userId": "16119095848899534342"
     },
     "user_tz": -60
    },
    "id": "jzxzbxzIAs5X",
    "outputId": "1526f48a-182a-47b0-a943-b95f572326ea"
   },
   "outputs": [
    {
     "data": {
      "text/plain": [
       "nan"
      ]
     },
     "execution_count": 50,
     "metadata": {},
     "output_type": "execute_result"
    }
   ],
   "source": [
    "import numpy as np  # Import numpy\n",
    "np.nan        # Create a missing value (or: np.NaN)"
   ]
  },
  {
   "cell_type": "markdown",
   "metadata": {
    "id": "V6vuP2N1BFp1"
   },
   "source": [
    "Now we can replace the \"no data\" ocurrences with missings:"
   ]
  },
  {
   "cell_type": "code",
   "execution_count": 51,
   "metadata": {
    "id": "qRkxCSSN_5HG"
   },
   "outputs": [],
   "source": [
    "df.loc[df[\"working_hours_per_year\"] == \"no data\",\n",
    "       \"working_hours_per_year\"] = np.nan\n",
    "\n",
    "## Note that these would not work:\n",
    "#df[df[\"working_hours_per_year\"]==\"no data\"] = NaN    # Not correct!!\n",
    "#df[df[\"working_hours_per_year\"]==\"no data\"] = \"NaN\"  # Not correct!!"
   ]
  },
  {
   "cell_type": "markdown",
   "metadata": {
    "id": "3ZlCNDGNDlpa"
   },
   "source": [
    "But we still have the problem that ``working_hours_per_year`` is not a numeric column:"
   ]
  },
  {
   "cell_type": "code",
   "execution_count": 52,
   "metadata": {
    "colab": {
     "base_uri": "https://localhost:8080/"
    },
    "executionInfo": {
     "elapsed": 369,
     "status": "ok",
     "timestamp": 1710766232124,
     "user": {
      "displayName": "Martina Jakob",
      "userId": "16119095848899534342"
     },
     "user_tz": -60
    },
    "id": "CDob0XcjyrIS",
    "outputId": "2f0c7285-9b78-4b05-8ccf-9f8502cc9c7a"
   },
   "outputs": [
    {
     "data": {
      "text/plain": [
       "code                       object\n",
       "gni_per_capita            float64\n",
       "life_satisfaction         float64\n",
       "fertility                 float64\n",
       "total_population          float64\n",
       "continent                  object\n",
       "working_hours_per_year     object\n",
       "dtype: object"
      ]
     },
     "execution_count": 52,
     "metadata": {},
     "output_type": "execute_result"
    }
   ],
   "source": [
    "df.dtypes"
   ]
  },
  {
   "cell_type": "markdown",
   "metadata": {
    "id": "MTW60wmuzvtf"
   },
   "source": [
    "We have to **recast it to float** before computing the mean:"
   ]
  },
  {
   "cell_type": "code",
   "execution_count": 54,
   "metadata": {
    "colab": {
     "base_uri": "https://localhost:8080/"
    },
    "executionInfo": {
     "elapsed": 313,
     "status": "ok",
     "timestamp": 1710766267226,
     "user": {
      "displayName": "Martina Jakob",
      "userId": "16119095848899534342"
     },
     "user_tz": -60
    },
    "id": "DoVgy-FjCTph",
    "outputId": "804e1ce1-20f0-4c19-a8b3-6949c776cc89"
   },
   "outputs": [
    {
     "name": "stdout",
     "output_type": "stream",
     "text": [
      "1848.6521682539683\n"
     ]
    }
   ],
   "source": [
    "df[\"working_hours_per_year\"] = df[\"working_hours_per_year\"].astype(\"float\")\n",
    "print(df[\"working_hours_per_year\"].mean())"
   ]
  },
  {
   "cell_type": "markdown",
   "metadata": {
    "id": "fjTHM5TdBoMt"
   },
   "source": [
    "It is often important to **know if certain values are missings or not** (e.g. to count the number of missings). We can do this using the ``isna`` (or the ``notna``) method:"
   ]
  },
  {
   "cell_type": "code",
   "execution_count": 55,
   "metadata": {
    "id": "ChlL749dBmqM"
   },
   "outputs": [
    {
     "name": "stdout",
     "output_type": "stream",
     "text": [
      "country\n",
      "Afghanistan             True\n",
      "Albania                 True\n",
      "Algeria                 True\n",
      "American Samoa          True\n",
      "Andorra                 True\n",
      "Angola                  True\n",
      "Antigua and Barbuda     True\n",
      "Argentina              False\n",
      "Armenia                 True\n",
      "Aruba                   True\n",
      "Name: working_hours_per_year, dtype: bool\n",
      "country\n",
      "Afghanistan            False\n",
      "Albania                False\n",
      "Algeria                False\n",
      "American Samoa         False\n",
      "Andorra                False\n",
      "Angola                 False\n",
      "Antigua and Barbuda    False\n",
      "Argentina               True\n",
      "Armenia                False\n",
      "Aruba                  False\n",
      "Name: working_hours_per_year, dtype: bool\n"
     ]
    }
   ],
   "source": [
    "print(df[\"working_hours_per_year\"].isna().head(10))   # checks if a value is missing\n",
    "print(df[\"working_hours_per_year\"].notna().head(10))  # checks if a value is not missing\n",
    "\n",
    "## Note that these would not work:\n",
    "#print(df[\"working_hours_per_year\"] == np.nan)  # Not correct!!\n",
    "#print(df[\"working_hours_per_year\"] == \"NaN\")   # Not correct!!"
   ]
  },
  {
   "cell_type": "markdown",
   "metadata": {
    "id": "mwbSHaEYnppL"
   },
   "source": [
    "These methods are also useful to get the **number (or share) of (non-)missing values for each column**:"
   ]
  },
  {
   "cell_type": "code",
   "execution_count": 56,
   "metadata": {
    "id": "Cw4Gt7tkFoNh"
   },
   "outputs": [
    {
     "name": "stdout",
     "output_type": "stream",
     "text": [
      "code                        1\n",
      "gni_per_capita             19\n",
      "life_satisfaction          77\n",
      "fertility                   1\n",
      "total_population            1\n",
      "continent                   1\n",
      "working_hours_per_year    140\n",
      "dtype: int64\n",
      "code                      0.995074\n",
      "gni_per_capita            0.906404\n",
      "life_satisfaction         0.620690\n",
      "fertility                 0.995074\n",
      "total_population          0.995074\n",
      "continent                 0.995074\n",
      "working_hours_per_year    0.310345\n",
      "dtype: float64\n"
     ]
    }
   ],
   "source": [
    "# Number of missings per column\n",
    "print(df.isna().sum())\n",
    "\n",
    "# Share of non-missing values per column\n",
    "print(df.notna().mean())"
   ]
  },
  {
   "cell_type": "markdown",
   "metadata": {
    "id": "-M-r30TBF-XX"
   },
   "source": [
    "><font color = FFFFFFFFF> SIDENOTE: Why does this work? ``df.isna()`` returns a dataframe full of booleans. When we apply the ``sum`` method, ``True`` values are counted as 1 and ``False`` values as 0. The same applies for the second example."
   ]
  },
  {
   "cell_type": "code",
   "execution_count": null,
   "metadata": {
    "colab": {
     "base_uri": "https://localhost:8080/",
     "height": 237
    },
    "executionInfo": {
     "elapsed": 273,
     "status": "ok",
     "timestamp": 1710766346674,
     "user": {
      "displayName": "Martina Jakob",
      "userId": "16119095848899534342"
     },
     "user_tz": -60
    },
    "id": "792pwHGIIuHR",
    "outputId": "bca0d593-041e-4114-f2ba-45876b54cc45"
   },
   "outputs": [
    {
     "data": {
      "application/vnd.google.colaboratory.intrinsic+json": {
       "summary": "{\n  \"name\": \"df\",\n  \"rows\": 203,\n  \"fields\": [\n    {\n      \"column\": \"country\",\n      \"properties\": {\n        \"dtype\": \"string\",\n        \"num_unique_values\": 202,\n        \"samples\": [\n          \"Kuwait\",\n          \"Barbados\",\n          \"Burundi\"\n        ],\n        \"semantic_type\": \"\",\n        \"description\": \"\"\n      }\n    },\n    {\n      \"column\": \"Unnamed:_0\",\n      \"properties\": {\n        \"dtype\": \"number\",\n        \"std\": 58,\n        \"min\": 0,\n        \"max\": 202,\n        \"num_unique_values\": 203,\n        \"samples\": [\n          64,\n          110,\n          149\n        ],\n        \"semantic_type\": \"\",\n        \"description\": \"\"\n      }\n    },\n    {\n      \"column\": \"code\",\n      \"properties\": {\n        \"dtype\": \"string\",\n        \"num_unique_values\": 202,\n        \"samples\": [\n          \"KWT\",\n          \"BRB\",\n          \"BDI\"\n        ],\n        \"semantic_type\": \"\",\n        \"description\": \"\"\n      }\n    },\n    {\n      \"column\": \"gni_per_capita\",\n      \"properties\": {\n        \"dtype\": \"number\",\n        \"std\": 19758.81595960258,\n        \"min\": 260.0,\n        \"max\": 101120.0,\n        \"num_unique_values\": 177,\n        \"samples\": [\n          2520.0,\n          18370.0,\n          550.0\n        ],\n        \"semantic_type\": \"\",\n        \"description\": \"\"\n      }\n    },\n    {\n      \"column\": \"life_satisfaction\",\n      \"properties\": {\n        \"dtype\": \"number\",\n        \"std\": 1.1031224217113158,\n        \"min\": 2.694303274,\n        \"max\": 7.85810709,\n        \"num_unique_values\": 126,\n        \"samples\": [\n          6.5495786670000005,\n          5.1218376160000005,\n          4.661909103\n        ],\n        \"semantic_type\": \"\",\n        \"description\": \"\"\n      }\n    },\n    {\n      \"column\": \"fertility\",\n      \"properties\": {\n        \"dtype\": \"number\",\n        \"std\": 31.807607920704818,\n        \"min\": -99.0,\n        \"max\": 7.169,\n        \"num_unique_values\": 176,\n        \"samples\": [\n          2.037,\n          1.737,\n          1.216\n        ],\n        \"semantic_type\": \"\",\n        \"description\": \"\"\n      }\n    },\n    {\n      \"column\": \"total_population\",\n      \"properties\": {\n        \"dtype\": \"number\",\n        \"std\": 139718093.4239586,\n        \"min\": 10000.0,\n        \"max\": 1406848000.0,\n        \"num_unique_values\": 197,\n        \"samples\": [\n          38034000.0,\n          121858000.0,\n          9439000.0\n        ],\n        \"semantic_type\": \"\",\n        \"description\": \"\"\n      }\n    },\n    {\n      \"column\": \"continent\",\n      \"properties\": {\n        \"dtype\": \"category\",\n        \"num_unique_values\": 6,\n        \"samples\": [\n          \"Asia\",\n          \"Europe\",\n          \"South America\"\n        ],\n        \"semantic_type\": \"\",\n        \"description\": \"\"\n      }\n    },\n    {\n      \"column\": \"working_hours_per_year\",\n      \"properties\": {\n        \"dtype\": \"number\",\n        \"std\": 259.2716095315464,\n        \"min\": 1368.1069,\n        \"max\": 2455.5508,\n        \"num_unique_values\": 63,\n        \"samples\": [\n          1552.3470000000002,\n          2185.4456,\n          1691.5363\n        ],\n        \"semantic_type\": \"\",\n        \"description\": \"\"\n      }\n    }\n  ]\n}",
       "type": "dataframe",
       "variable_name": "df"
      },
      "text/html": [
       "\n",
       "  <div id=\"df-af5f6642-f5fe-411d-bf99-026c19ce06bf\" class=\"colab-df-container\">\n",
       "    <div>\n",
       "<style scoped>\n",
       "    .dataframe tbody tr th:only-of-type {\n",
       "        vertical-align: middle;\n",
       "    }\n",
       "\n",
       "    .dataframe tbody tr th {\n",
       "        vertical-align: top;\n",
       "    }\n",
       "\n",
       "    .dataframe thead th {\n",
       "        text-align: right;\n",
       "    }\n",
       "</style>\n",
       "<table border=\"1\" class=\"dataframe\">\n",
       "  <thead>\n",
       "    <tr style=\"text-align: right;\">\n",
       "      <th></th>\n",
       "      <th>Unnamed:_0</th>\n",
       "      <th>code</th>\n",
       "      <th>gni_per_capita</th>\n",
       "      <th>life_satisfaction</th>\n",
       "      <th>fertility</th>\n",
       "      <th>total_population</th>\n",
       "      <th>continent</th>\n",
       "      <th>working_hours_per_year</th>\n",
       "    </tr>\n",
       "    <tr>\n",
       "      <th>country</th>\n",
       "      <th></th>\n",
       "      <th></th>\n",
       "      <th></th>\n",
       "      <th></th>\n",
       "      <th></th>\n",
       "      <th></th>\n",
       "      <th></th>\n",
       "      <th></th>\n",
       "    </tr>\n",
       "  </thead>\n",
       "  <tbody>\n",
       "    <tr>\n",
       "      <th>Afghanistan</th>\n",
       "      <td>193</td>\n",
       "      <td>AFG</td>\n",
       "      <td>600.0</td>\n",
       "      <td>2.694303</td>\n",
       "      <td>4.976</td>\n",
       "      <td>34414000.0</td>\n",
       "      <td>Asia</td>\n",
       "      <td>NaN</td>\n",
       "    </tr>\n",
       "    <tr>\n",
       "      <th>Albania</th>\n",
       "      <td>162</td>\n",
       "      <td>ALB</td>\n",
       "      <td>4390.0</td>\n",
       "      <td>5.004403</td>\n",
       "      <td>1.677</td>\n",
       "      <td>2891000.0</td>\n",
       "      <td>Europe</td>\n",
       "      <td>NaN</td>\n",
       "    </tr>\n",
       "    <tr>\n",
       "      <th>Algeria</th>\n",
       "      <td>111</td>\n",
       "      <td>DZA</td>\n",
       "      <td>4850.0</td>\n",
       "      <td>5.043086</td>\n",
       "      <td>3.043</td>\n",
       "      <td>39728000.0</td>\n",
       "      <td>Africa</td>\n",
       "      <td>NaN</td>\n",
       "    </tr>\n",
       "    <tr>\n",
       "      <th>American Samoa</th>\n",
       "      <td>189</td>\n",
       "      <td>ASM</td>\n",
       "      <td>NaN</td>\n",
       "      <td>NaN</td>\n",
       "      <td>-99.000</td>\n",
       "      <td>56000.0</td>\n",
       "      <td>Oceania</td>\n",
       "      <td>NaN</td>\n",
       "    </tr>\n",
       "    <tr>\n",
       "      <th>Andorra</th>\n",
       "      <td>82</td>\n",
       "      <td>AND</td>\n",
       "      <td>NaN</td>\n",
       "      <td>NaN</td>\n",
       "      <td>-99.000</td>\n",
       "      <td>78000.0</td>\n",
       "      <td>Europe</td>\n",
       "      <td>NaN</td>\n",
       "    </tr>\n",
       "  </tbody>\n",
       "</table>\n",
       "</div>\n",
       "    <div class=\"colab-df-buttons\">\n",
       "\n",
       "  <div class=\"colab-df-container\">\n",
       "    <button class=\"colab-df-convert\" onclick=\"convertToInteractive('df-af5f6642-f5fe-411d-bf99-026c19ce06bf')\"\n",
       "            title=\"Convert this dataframe to an interactive table.\"\n",
       "            style=\"display:none;\">\n",
       "\n",
       "  <svg xmlns=\"http://www.w3.org/2000/svg\" height=\"24px\" viewBox=\"0 -960 960 960\">\n",
       "    <path d=\"M120-120v-720h720v720H120Zm60-500h600v-160H180v160Zm220 220h160v-160H400v160Zm0 220h160v-160H400v160ZM180-400h160v-160H180v160Zm440 0h160v-160H620v160ZM180-180h160v-160H180v160Zm440 0h160v-160H620v160Z\"/>\n",
       "  </svg>\n",
       "    </button>\n",
       "\n",
       "  <style>\n",
       "    .colab-df-container {\n",
       "      display:flex;\n",
       "      gap: 12px;\n",
       "    }\n",
       "\n",
       "    .colab-df-convert {\n",
       "      background-color: #E8F0FE;\n",
       "      border: none;\n",
       "      border-radius: 50%;\n",
       "      cursor: pointer;\n",
       "      display: none;\n",
       "      fill: #1967D2;\n",
       "      height: 32px;\n",
       "      padding: 0 0 0 0;\n",
       "      width: 32px;\n",
       "    }\n",
       "\n",
       "    .colab-df-convert:hover {\n",
       "      background-color: #E2EBFA;\n",
       "      box-shadow: 0px 1px 2px rgba(60, 64, 67, 0.3), 0px 1px 3px 1px rgba(60, 64, 67, 0.15);\n",
       "      fill: #174EA6;\n",
       "    }\n",
       "\n",
       "    .colab-df-buttons div {\n",
       "      margin-bottom: 4px;\n",
       "    }\n",
       "\n",
       "    [theme=dark] .colab-df-convert {\n",
       "      background-color: #3B4455;\n",
       "      fill: #D2E3FC;\n",
       "    }\n",
       "\n",
       "    [theme=dark] .colab-df-convert:hover {\n",
       "      background-color: #434B5C;\n",
       "      box-shadow: 0px 1px 3px 1px rgba(0, 0, 0, 0.15);\n",
       "      filter: drop-shadow(0px 1px 2px rgba(0, 0, 0, 0.3));\n",
       "      fill: #FFFFFF;\n",
       "    }\n",
       "  </style>\n",
       "\n",
       "    <script>\n",
       "      const buttonEl =\n",
       "        document.querySelector('#df-af5f6642-f5fe-411d-bf99-026c19ce06bf button.colab-df-convert');\n",
       "      buttonEl.style.display =\n",
       "        google.colab.kernel.accessAllowed ? 'block' : 'none';\n",
       "\n",
       "      async function convertToInteractive(key) {\n",
       "        const element = document.querySelector('#df-af5f6642-f5fe-411d-bf99-026c19ce06bf');\n",
       "        const dataTable =\n",
       "          await google.colab.kernel.invokeFunction('convertToInteractive',\n",
       "                                                    [key], {});\n",
       "        if (!dataTable) return;\n",
       "\n",
       "        const docLinkHtml = 'Like what you see? Visit the ' +\n",
       "          '<a target=\"_blank\" href=https://colab.research.google.com/notebooks/data_table.ipynb>data table notebook</a>'\n",
       "          + ' to learn more about interactive tables.';\n",
       "        element.innerHTML = '';\n",
       "        dataTable['output_type'] = 'display_data';\n",
       "        await google.colab.output.renderOutput(dataTable, element);\n",
       "        const docLink = document.createElement('div');\n",
       "        docLink.innerHTML = docLinkHtml;\n",
       "        element.appendChild(docLink);\n",
       "      }\n",
       "    </script>\n",
       "  </div>\n",
       "\n",
       "\n",
       "<div id=\"df-06a046b6-4027-4c5c-95fd-1b377ad738fe\">\n",
       "  <button class=\"colab-df-quickchart\" onclick=\"quickchart('df-06a046b6-4027-4c5c-95fd-1b377ad738fe')\"\n",
       "            title=\"Suggest charts\"\n",
       "            style=\"display:none;\">\n",
       "\n",
       "<svg xmlns=\"http://www.w3.org/2000/svg\" height=\"24px\"viewBox=\"0 0 24 24\"\n",
       "     width=\"24px\">\n",
       "    <g>\n",
       "        <path d=\"M19 3H5c-1.1 0-2 .9-2 2v14c0 1.1.9 2 2 2h14c1.1 0 2-.9 2-2V5c0-1.1-.9-2-2-2zM9 17H7v-7h2v7zm4 0h-2V7h2v10zm4 0h-2v-4h2v4z\"/>\n",
       "    </g>\n",
       "</svg>\n",
       "  </button>\n",
       "\n",
       "<style>\n",
       "  .colab-df-quickchart {\n",
       "      --bg-color: #E8F0FE;\n",
       "      --fill-color: #1967D2;\n",
       "      --hover-bg-color: #E2EBFA;\n",
       "      --hover-fill-color: #174EA6;\n",
       "      --disabled-fill-color: #AAA;\n",
       "      --disabled-bg-color: #DDD;\n",
       "  }\n",
       "\n",
       "  [theme=dark] .colab-df-quickchart {\n",
       "      --bg-color: #3B4455;\n",
       "      --fill-color: #D2E3FC;\n",
       "      --hover-bg-color: #434B5C;\n",
       "      --hover-fill-color: #FFFFFF;\n",
       "      --disabled-bg-color: #3B4455;\n",
       "      --disabled-fill-color: #666;\n",
       "  }\n",
       "\n",
       "  .colab-df-quickchart {\n",
       "    background-color: var(--bg-color);\n",
       "    border: none;\n",
       "    border-radius: 50%;\n",
       "    cursor: pointer;\n",
       "    display: none;\n",
       "    fill: var(--fill-color);\n",
       "    height: 32px;\n",
       "    padding: 0;\n",
       "    width: 32px;\n",
       "  }\n",
       "\n",
       "  .colab-df-quickchart:hover {\n",
       "    background-color: var(--hover-bg-color);\n",
       "    box-shadow: 0 1px 2px rgba(60, 64, 67, 0.3), 0 1px 3px 1px rgba(60, 64, 67, 0.15);\n",
       "    fill: var(--button-hover-fill-color);\n",
       "  }\n",
       "\n",
       "  .colab-df-quickchart-complete:disabled,\n",
       "  .colab-df-quickchart-complete:disabled:hover {\n",
       "    background-color: var(--disabled-bg-color);\n",
       "    fill: var(--disabled-fill-color);\n",
       "    box-shadow: none;\n",
       "  }\n",
       "\n",
       "  .colab-df-spinner {\n",
       "    border: 2px solid var(--fill-color);\n",
       "    border-color: transparent;\n",
       "    border-bottom-color: var(--fill-color);\n",
       "    animation:\n",
       "      spin 1s steps(1) infinite;\n",
       "  }\n",
       "\n",
       "  @keyframes spin {\n",
       "    0% {\n",
       "      border-color: transparent;\n",
       "      border-bottom-color: var(--fill-color);\n",
       "      border-left-color: var(--fill-color);\n",
       "    }\n",
       "    20% {\n",
       "      border-color: transparent;\n",
       "      border-left-color: var(--fill-color);\n",
       "      border-top-color: var(--fill-color);\n",
       "    }\n",
       "    30% {\n",
       "      border-color: transparent;\n",
       "      border-left-color: var(--fill-color);\n",
       "      border-top-color: var(--fill-color);\n",
       "      border-right-color: var(--fill-color);\n",
       "    }\n",
       "    40% {\n",
       "      border-color: transparent;\n",
       "      border-right-color: var(--fill-color);\n",
       "      border-top-color: var(--fill-color);\n",
       "    }\n",
       "    60% {\n",
       "      border-color: transparent;\n",
       "      border-right-color: var(--fill-color);\n",
       "    }\n",
       "    80% {\n",
       "      border-color: transparent;\n",
       "      border-right-color: var(--fill-color);\n",
       "      border-bottom-color: var(--fill-color);\n",
       "    }\n",
       "    90% {\n",
       "      border-color: transparent;\n",
       "      border-bottom-color: var(--fill-color);\n",
       "    }\n",
       "  }\n",
       "</style>\n",
       "\n",
       "  <script>\n",
       "    async function quickchart(key) {\n",
       "      const quickchartButtonEl =\n",
       "        document.querySelector('#' + key + ' button');\n",
       "      quickchartButtonEl.disabled = true;  // To prevent multiple clicks.\n",
       "      quickchartButtonEl.classList.add('colab-df-spinner');\n",
       "      try {\n",
       "        const charts = await google.colab.kernel.invokeFunction(\n",
       "            'suggestCharts', [key], {});\n",
       "      } catch (error) {\n",
       "        console.error('Error during call to suggestCharts:', error);\n",
       "      }\n",
       "      quickchartButtonEl.classList.remove('colab-df-spinner');\n",
       "      quickchartButtonEl.classList.add('colab-df-quickchart-complete');\n",
       "    }\n",
       "    (() => {\n",
       "      let quickchartButtonEl =\n",
       "        document.querySelector('#df-06a046b6-4027-4c5c-95fd-1b377ad738fe button');\n",
       "      quickchartButtonEl.style.display =\n",
       "        google.colab.kernel.accessAllowed ? 'block' : 'none';\n",
       "    })();\n",
       "  </script>\n",
       "</div>\n",
       "    </div>\n",
       "  </div>\n"
      ],
      "text/plain": [
       "                Unnamed:_0 code  gni_per_capita  life_satisfaction  fertility  \\\n",
       "country                                                                         \n",
       "Afghanistan            193  AFG           600.0           2.694303      4.976   \n",
       "Albania                162  ALB          4390.0           5.004403      1.677   \n",
       "Algeria                111  DZA          4850.0           5.043086      3.043   \n",
       "American Samoa         189  ASM             NaN                NaN    -99.000   \n",
       "Andorra                 82  AND             NaN                NaN    -99.000   \n",
       "\n",
       "                total_population continent  working_hours_per_year  \n",
       "country                                                             \n",
       "Afghanistan           34414000.0      Asia                     NaN  \n",
       "Albania                2891000.0    Europe                     NaN  \n",
       "Algeria               39728000.0    Africa                     NaN  \n",
       "American Samoa           56000.0   Oceania                     NaN  \n",
       "Andorra                  78000.0    Europe                     NaN  "
      ]
     },
     "execution_count": 82,
     "metadata": {},
     "output_type": "execute_result"
    }
   ],
   "source": [
    "df.head()"
   ]
  },
  {
   "cell_type": "markdown",
   "metadata": {
    "id": "vti9NFGeG5_i"
   },
   "source": [
    "We may also want to **delete rows (or columns) with missing data**. This can be done with the **``dropna`` method**:"
   ]
  },
  {
   "cell_type": "code",
   "execution_count": 57,
   "metadata": {
    "id": "KTXZN5pIIokx"
   },
   "outputs": [],
   "source": [
    "df.dropna(how=\"all\", inplace=True)  # Drops rows where ALL values are NaN\n",
    "df.dropna(how=\"any\", inplace=True)  # Drops rows if ANY value is NaN\n",
    "\n",
    "df.dropna(axis=1, how=\"all\", inplace=True)  # Drops columns where ALL values are NaN\n",
    "df.dropna(axis=1, how=\"any\", inplace=True)  # Drops columns if ANY value is NaN"
   ]
  },
  {
   "cell_type": "markdown",
   "metadata": {
    "id": "ZjjAhzQU91WB"
   },
   "source": [
    "---\n",
    "\n",
    ">  <font color='teal'> **In-class exercise**:\n",
    "We will continue to work with the ``ls_data`` dataframe. Can you sort your dataframe by continent and fertility rate?"
   ]
  },
  {
   "cell_type": "code",
   "execution_count": null,
   "metadata": {
    "id": "NErhpelm91WC"
   },
   "outputs": [],
   "source": []
  },
  {
   "cell_type": "markdown",
   "metadata": {
    "id": "nJTaPGrY91WD"
   },
   "source": [
    ">  <font color='teal'> Missing fertility values were coded as -99. Can you convert them to real missings? Print the number of missing values for the fertility column."
   ]
  },
  {
   "cell_type": "code",
   "execution_count": null,
   "metadata": {
    "id": "uG-F9foL91WD"
   },
   "outputs": [],
   "source": []
  },
  {
   "cell_type": "code",
   "execution_count": null,
   "metadata": {
    "id": "co1RQsb5pJtx"
   },
   "outputs": [],
   "source": []
  },
  {
   "cell_type": "markdown",
   "metadata": {
    "id": "elNFOt-S91WD"
   },
   "source": [
    "\n",
    "\n",
    "---\n",
    "\n"
   ]
  },
  {
   "cell_type": "markdown",
   "metadata": {
    "id": "GAze2mUz5qtB"
   },
   "source": [
    "## Exporting data"
   ]
  },
  {
   "cell_type": "markdown",
   "metadata": {
    "id": "AUBq1_uV5utw"
   },
   "source": [
    "After we have cleaned our data we might like to export it to some folder on our computer or on Google Drive. We can do this using the **``to_csv()`` method**:"
   ]
  },
  {
   "cell_type": "code",
   "execution_count": 58,
   "metadata": {
    "id": "KcImaHF25x5f"
   },
   "outputs": [
    {
     "data": {
      "text/plain": [
       "['counties_shp',\n",
       " 'countries_life_satisfaction.csv',\n",
       " 'countries_life_satisfaction_cleaned.csv',\n",
       " 'countries_trust.csv',\n",
       " 'country_data_clean.csv',\n",
       " 'gender.csv',\n",
       " 'homicide.csv',\n",
       " 'images',\n",
       " 'life_satisfaction_clean.csv',\n",
       " 'projected-population-by-country.csv',\n",
       " 'real-gdp-per-capita.csv',\n",
       " 'swiss-boundaries',\n",
       " 'trust_clean.csv']"
      ]
     },
     "execution_count": 58,
     "metadata": {},
     "output_type": "execute_result"
    }
   ],
   "source": [
    "df.to_csv(\"countries_life_satisfaction_cleaned.csv\")  # export file to current working directory\n",
    "os.listdir()  # list contents of current working directory"
   ]
  },
  {
   "cell_type": "markdown",
   "metadata": {
    "id": "PbWq8jLd50u3"
   },
   "source": [
    "><font color = ffffff> SIDENOTE: The ``to_csv()`` function also accepts a series of arguments allowing you to specify what should be done with the index, what delimiter to use etc. See https://pandas.pydata.org/docs/reference/api/pandas.DataFrame.to_csv.html. You can use similar functions to export the data to other file formats."
   ]
  },
  {
   "cell_type": "markdown",
   "metadata": {
    "id": "1RR9KTzwpqKY"
   },
   "source": [
    "## Next week\n",
    "\n",
    "In the next tutorial we will have a look at some more special topics for data wrangling using `pandas`. If you like to prepare in advance, we have the following recommendations:\n",
    "  \n",
    "* Grouping data with pandas:\n",
    "  + https://youtu.be/txMdrV1Ut64  (49 min)\n",
    "  + Or: https://youtu.be/qy0fDqoMJx8 (8 min)\n",
    "* Combining dataframes with pandas:\n",
    "  + https://youtu.be/wzN1UyfRSWI (13 min)\n",
    "  + Or: https://youtu.be/iYWKfUOtGaw (21 min)\n",
    "\n",
    "\n",
    "If you prefer working with text instead of videos:\n",
    "\n",
    "* https://www.tutorialspoint.com/python_pandas/python_pandas_groupby.htm\n",
    "* https://pandas.pydata.org/docs/user_guide/merging.htm\n"
   ]
  }
 ],
 "metadata": {
  "colab": {
   "provenance": []
  },
  "kernelspec": {
   "display_name": "Python 3",
   "name": "python3"
  },
  "language_info": {
   "codemirror_mode": {
    "name": "ipython",
    "version": 3
   },
   "file_extension": ".py",
   "mimetype": "text/x-python",
   "name": "python",
   "nbconvert_exporter": "python",
   "pygments_lexer": "ipython3",
   "version": "3.10.11"
  }
 },
 "nbformat": 4,
 "nbformat_minor": 0
}
