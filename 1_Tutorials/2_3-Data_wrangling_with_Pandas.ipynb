{
 "cells": [
  {
   "cell_type": "markdown",
   "metadata": {
    "id": "Gwwx6YFTV9Vt"
   },
   "source": [
    "\n",
    "*Part 2: Python for Data Analysis III*\n",
    "# Data wrangling with Pandas#"
   ]
  },
  {
   "cell_type": "markdown",
   "metadata": {
    "id": "kK_V17EoSWpE"
   },
   "source": [
    "In the last tutorial we got to know some useful functions and methods to import, inspect, clean and export data.\n",
    "\n",
    "The main focus of this tutorial will be on how to **prepare data for data analysis**.\n",
    "\n"
   ]
  },
  {
   "cell_type": "markdown",
   "metadata": {
    "id": "NyrHqgIjRGsT"
   },
   "source": [
    "## Getting help"
   ]
  },
  {
   "cell_type": "markdown",
   "metadata": {
    "id": "b5yC0ZimQ2SE"
   },
   "source": [
    "In this class we will not be able to cover all aspects of Python. If you want more details, you can consult, for example, the **Python Standard Library Reference** at https://docs.python.org/3/library/ or the **Language Reference** at https://docs.python.org/3/reference/. But be warned: the amount of detail in these sources can be overwhelming. For **quick and easy-to-understand overviews** of different topics see, for example, https://www.w3schools.com/python/. Here are some specific references for today's tutorial:\n",
    "\n",
    "*  Pandas: https://www.w3schools.com/python/pandas/default.asp\n",
    "*  Statsmodels: https://www.statsmodels.org/stable/user-guide.html\n",
    "*  Matplotlib: https://www.w3schools.com/python/matplotlib_pyplot.asp\n",
    "*  Merging: https://pandas.pydata.org/docs/user_guide/merging.html\n",
    "\n",
    "\n",
    "If you get stuck or don't remember how to do something, it is usually a good idea to **Google** your problem. Python has a large (and fast-growing) community and you will probably find answers to most of your questions online (e.g. on **Stack Overflow** or in a **Youtube tutorial**)."
   ]
  },
  {
   "cell_type": "markdown",
   "metadata": {
    "id": "a25uPN0lGfCn"
   },
   "source": [
    "## Getting started"
   ]
  },
  {
   "cell_type": "markdown",
   "metadata": {
    "id": "NUNjq7KgR8bs"
   },
   "source": [
    "For this tutorial, we will work with the following datasets:\n",
    "\n",
    "* ``life_satisfaction_clean.csv``\n",
    "* ``trust_clean.csv``\n",
    "* ``real-gdp-per-capita.csv``\n",
    "\n",
    "You can find them in the following folder: https://drive.google.com/drive/u/0/folders/1_ToH44Kq7mhSM5p0fsYvEm_soAvWMBD3\n",
    "\n",
    "Copy them to an appropriate folder on your computer or your Google Drive so you can follow along with the Tutorial. Let's import the modules we will use, mount our drive, change our working directory and load in the data:"
   ]
  },
  {
   "cell_type": "code",
   "execution_count": 1,
   "metadata": {
    "executionInfo": {
     "elapsed": 1150,
     "status": "ok",
     "timestamp": 1742485668938,
     "user": {
      "displayName": "Rudolf Farys",
      "userId": "11982806469493281304"
     },
     "user_tz": -60
    },
    "id": "ZgY9f8udvmbm"
   },
   "outputs": [],
   "source": [
    "import pandas as pd\n",
    "import numpy as np\n",
    "import os"
   ]
  },
  {
   "cell_type": "code",
   "execution_count": null,
   "metadata": {
    "id": "kPKBJfYCvqgt"
   },
   "outputs": [],
   "source": [
    "from google.colab import drive\n",
    "drive.mount('/content/drive')"
   ]
  },
  {
   "cell_type": "code",
   "execution_count": 2,
   "metadata": {
    "id": "kFG1gPZ-UDVX"
   },
   "outputs": [],
   "source": [
    "os.chdir(\"../4_Data\")"
   ]
  },
  {
   "cell_type": "code",
   "execution_count": 3,
   "metadata": {
    "id": "b6qlLiHDwHuF"
   },
   "outputs": [],
   "source": [
    "satisfaction = pd.read_csv(\"life_satisfaction_clean.csv\", index_col=\"country\")\n",
    "trust = pd.read_csv(\"trust_clean.csv\", index_col=\"country_code\")\n",
    "gdp = pd.read_csv(\"real-gdp-per-capita.csv\")"
   ]
  },
  {
   "cell_type": "markdown",
   "metadata": {
    "id": "LTnJrSFTwjDV"
   },
   "source": [
    "If you didn't succeed to load the files, run the following lines of code to load them:"
   ]
  },
  {
   "cell_type": "code",
   "execution_count": 2,
   "metadata": {
    "executionInfo": {
     "elapsed": 3563,
     "status": "ok",
     "timestamp": 1742485672503,
     "user": {
      "displayName": "Rudolf Farys",
      "userId": "11982806469493281304"
     },
     "user_tz": -60
    },
    "id": "dpay1KIwUASH"
   },
   "outputs": [],
   "source": [
    "satisfaction = pd.read_csv(\"http://farys.org/daten/life_satisfaction_clean.csv\",\n",
    "                           index_col=\"country\")\n",
    "\n",
    "trust = pd.read_csv(\"http://farys.org/daten/trust_clean.csv\",\n",
    "                    index_col=\"country_code\")\n",
    "\n",
    "gdp = pd.read_csv(\"http://farys.org/daten/real-gdp-per-capita.csv\")\n"
   ]
  },
  {
   "cell_type": "markdown",
   "metadata": {
    "id": "7qCkSZzix-36"
   },
   "source": [
    "## Combining datasets"
   ]
  },
  {
   "cell_type": "markdown",
   "metadata": {
    "id": "eaJK8uTsNCoq"
   },
   "source": [
    "When you work with data, you will often have to combine different datasets. There are four pandas functions or methods that allow you to do this:\n",
    "\n",
    "* ``append`` method: Append rows\n",
    "* ``concat`` function: Append rows or columns\n",
    "* ``join`` method: Combine data on common indices\n",
    "* ``merge`` function or method (both exist): Combine data on common columns or indices\n",
    "\n",
    "In this tutorial, we will only focus on ``concat`` and ``merge``, as they allow you to do everything (and more) you can do with ``append`` and ``join``.\n"
   ]
  },
  {
   "cell_type": "markdown",
   "metadata": {
    "id": "ooHLYntxyVWd"
   },
   "source": [
    "### Concatenating"
   ]
  },
  {
   "cell_type": "markdown",
   "metadata": {
    "id": "9q7n2StEQ0c_"
   },
   "source": [
    "Suppose you have your data in two different dataframes. Let's create this situation:"
   ]
  },
  {
   "cell_type": "code",
   "execution_count": 4,
   "metadata": {
    "id": "FptjNwGKQPmm"
   },
   "outputs": [
    {
     "data": {
      "text/html": [
       "<div>\n",
       "<style scoped>\n",
       "    .dataframe tbody tr th:only-of-type {\n",
       "        vertical-align: middle;\n",
       "    }\n",
       "\n",
       "    .dataframe tbody tr th {\n",
       "        vertical-align: top;\n",
       "    }\n",
       "\n",
       "    .dataframe thead th {\n",
       "        text-align: right;\n",
       "    }\n",
       "</style>\n",
       "<table border=\"1\" class=\"dataframe\">\n",
       "  <thead>\n",
       "    <tr style=\"text-align: right;\">\n",
       "      <th></th>\n",
       "      <th>continent</th>\n",
       "      <th>life_satisfaction</th>\n",
       "    </tr>\n",
       "    <tr>\n",
       "      <th>country</th>\n",
       "      <th></th>\n",
       "      <th></th>\n",
       "    </tr>\n",
       "  </thead>\n",
       "  <tbody>\n",
       "    <tr>\n",
       "      <th>Switzerland</th>\n",
       "      <td>Europe</td>\n",
       "      <td>7.508587</td>\n",
       "    </tr>\n",
       "    <tr>\n",
       "      <th>Tanzania</th>\n",
       "      <td>Africa</td>\n",
       "      <td>3.445023</td>\n",
       "    </tr>\n",
       "    <tr>\n",
       "      <th>Peru</th>\n",
       "      <td>South America</td>\n",
       "      <td>5.679661</td>\n",
       "    </tr>\n",
       "  </tbody>\n",
       "</table>\n",
       "</div>"
      ],
      "text/plain": [
       "                 continent  life_satisfaction\n",
       "country                                      \n",
       "Switzerland         Europe           7.508587\n",
       "Tanzania            Africa           3.445023\n",
       "Peru         South America           5.679661"
      ]
     },
     "execution_count": 4,
     "metadata": {},
     "output_type": "execute_result"
    }
   ],
   "source": [
    "countries1 = satisfaction.loc[[\"Switzerland\", \"Tanzania\", \"Peru\"],\n",
    "                              [\"continent\", \"life_satisfaction\"]]\n",
    "countries1"
   ]
  },
  {
   "cell_type": "code",
   "execution_count": 5,
   "metadata": {
    "id": "hYlCcuImr4vO"
   },
   "outputs": [
    {
     "data": {
      "text/html": [
       "<div>\n",
       "<style scoped>\n",
       "    .dataframe tbody tr th:only-of-type {\n",
       "        vertical-align: middle;\n",
       "    }\n",
       "\n",
       "    .dataframe tbody tr th {\n",
       "        vertical-align: top;\n",
       "    }\n",
       "\n",
       "    .dataframe thead th {\n",
       "        text-align: right;\n",
       "    }\n",
       "</style>\n",
       "<table border=\"1\" class=\"dataframe\">\n",
       "  <thead>\n",
       "    <tr style=\"text-align: right;\">\n",
       "      <th></th>\n",
       "      <th>continent</th>\n",
       "      <th>life_satisfaction</th>\n",
       "    </tr>\n",
       "    <tr>\n",
       "      <th>country</th>\n",
       "      <th></th>\n",
       "      <th></th>\n",
       "    </tr>\n",
       "  </thead>\n",
       "  <tbody>\n",
       "    <tr>\n",
       "      <th>China</th>\n",
       "      <td>Asia</td>\n",
       "      <td>5.131434</td>\n",
       "    </tr>\n",
       "    <tr>\n",
       "      <th>India</th>\n",
       "      <td>Asia</td>\n",
       "      <td>3.818069</td>\n",
       "    </tr>\n",
       "  </tbody>\n",
       "</table>\n",
       "</div>"
      ],
      "text/plain": [
       "        continent  life_satisfaction\n",
       "country                             \n",
       "China        Asia           5.131434\n",
       "India        Asia           3.818069"
      ]
     },
     "execution_count": 5,
     "metadata": {},
     "output_type": "execute_result"
    }
   ],
   "source": [
    "countries2 = satisfaction.loc[[\"China\", \"India\"],\n",
    "                              [\"continent\", \"life_satisfaction\"]]\n",
    "countries2"
   ]
  },
  {
   "cell_type": "markdown",
   "metadata": {
    "id": "Iw_pGIbJQNLX"
   },
   "source": [
    "Some countries are in ``countries1`` while others are in ``countries2``. How could we **combine them into a single dataframe**? The **``concat`` function** allows you to do this:"
   ]
  },
  {
   "cell_type": "code",
   "execution_count": 6,
   "metadata": {
    "id": "kIEzVSpsSoMW"
   },
   "outputs": [
    {
     "data": {
      "text/html": [
       "<div>\n",
       "<style scoped>\n",
       "    .dataframe tbody tr th:only-of-type {\n",
       "        vertical-align: middle;\n",
       "    }\n",
       "\n",
       "    .dataframe tbody tr th {\n",
       "        vertical-align: top;\n",
       "    }\n",
       "\n",
       "    .dataframe thead th {\n",
       "        text-align: right;\n",
       "    }\n",
       "</style>\n",
       "<table border=\"1\" class=\"dataframe\">\n",
       "  <thead>\n",
       "    <tr style=\"text-align: right;\">\n",
       "      <th></th>\n",
       "      <th>continent</th>\n",
       "      <th>life_satisfaction</th>\n",
       "    </tr>\n",
       "    <tr>\n",
       "      <th>country</th>\n",
       "      <th></th>\n",
       "      <th></th>\n",
       "    </tr>\n",
       "  </thead>\n",
       "  <tbody>\n",
       "    <tr>\n",
       "      <th>Switzerland</th>\n",
       "      <td>Europe</td>\n",
       "      <td>7.508587</td>\n",
       "    </tr>\n",
       "    <tr>\n",
       "      <th>Tanzania</th>\n",
       "      <td>Africa</td>\n",
       "      <td>3.445023</td>\n",
       "    </tr>\n",
       "    <tr>\n",
       "      <th>Peru</th>\n",
       "      <td>South America</td>\n",
       "      <td>5.679661</td>\n",
       "    </tr>\n",
       "    <tr>\n",
       "      <th>China</th>\n",
       "      <td>Asia</td>\n",
       "      <td>5.131434</td>\n",
       "    </tr>\n",
       "    <tr>\n",
       "      <th>India</th>\n",
       "      <td>Asia</td>\n",
       "      <td>3.818069</td>\n",
       "    </tr>\n",
       "  </tbody>\n",
       "</table>\n",
       "</div>"
      ],
      "text/plain": [
       "                 continent  life_satisfaction\n",
       "country                                      \n",
       "Switzerland         Europe           7.508587\n",
       "Tanzania            Africa           3.445023\n",
       "Peru         South America           5.679661\n",
       "China                 Asia           5.131434\n",
       "India                 Asia           3.818069"
      ]
     },
     "execution_count": 6,
     "metadata": {},
     "output_type": "execute_result"
    }
   ],
   "source": [
    "countries = pd.concat([countries1, countries2])\n",
    "countries"
   ]
  },
  {
   "cell_type": "markdown",
   "metadata": {
    "id": "4wXae9d6TWA1"
   },
   "source": [
    "As the (first) argument, you need to **provide a list of dataframes** (or series). Then, the rows are just stacked on top of each other.\n",
    "\n"
   ]
  },
  {
   "cell_type": "markdown",
   "metadata": {
    "id": "oP7DZmqSuD7U"
   },
   "source": [
    "\n",
    "You can also use ``concat`` to combine data **columnwise**. Suppose we have the following two dataframes we would like to combine:"
   ]
  },
  {
   "cell_type": "code",
   "execution_count": 7,
   "metadata": {
    "id": "sRmgLBfJS1Mf"
   },
   "outputs": [
    {
     "data": {
      "text/html": [
       "<div>\n",
       "<style scoped>\n",
       "    .dataframe tbody tr th:only-of-type {\n",
       "        vertical-align: middle;\n",
       "    }\n",
       "\n",
       "    .dataframe tbody tr th {\n",
       "        vertical-align: top;\n",
       "    }\n",
       "\n",
       "    .dataframe thead th {\n",
       "        text-align: right;\n",
       "    }\n",
       "</style>\n",
       "<table border=\"1\" class=\"dataframe\">\n",
       "  <thead>\n",
       "    <tr style=\"text-align: right;\">\n",
       "      <th></th>\n",
       "      <th>continent</th>\n",
       "      <th>life_satisfaction</th>\n",
       "    </tr>\n",
       "    <tr>\n",
       "      <th>country</th>\n",
       "      <th></th>\n",
       "      <th></th>\n",
       "    </tr>\n",
       "  </thead>\n",
       "  <tbody>\n",
       "    <tr>\n",
       "      <th>Switzerland</th>\n",
       "      <td>Europe</td>\n",
       "      <td>7.508587</td>\n",
       "    </tr>\n",
       "    <tr>\n",
       "      <th>Tanzania</th>\n",
       "      <td>Africa</td>\n",
       "      <td>3.445023</td>\n",
       "    </tr>\n",
       "    <tr>\n",
       "      <th>Peru</th>\n",
       "      <td>South America</td>\n",
       "      <td>5.679661</td>\n",
       "    </tr>\n",
       "  </tbody>\n",
       "</table>\n",
       "</div>"
      ],
      "text/plain": [
       "                 continent  life_satisfaction\n",
       "country                                      \n",
       "Switzerland         Europe           7.508587\n",
       "Tanzania            Africa           3.445023\n",
       "Peru         South America           5.679661"
      ]
     },
     "execution_count": 7,
     "metadata": {},
     "output_type": "execute_result"
    }
   ],
   "source": [
    "countries_left = satisfaction.loc[[\"Switzerland\", \"Tanzania\", \"Peru\"],\n",
    "                                  [\"continent\", \"life_satisfaction\"]]\n",
    "countries_left"
   ]
  },
  {
   "cell_type": "code",
   "execution_count": 8,
   "metadata": {
    "id": "4L0Xz7FJVN8P"
   },
   "outputs": [
    {
     "data": {
      "text/html": [
       "<div>\n",
       "<style scoped>\n",
       "    .dataframe tbody tr th:only-of-type {\n",
       "        vertical-align: middle;\n",
       "    }\n",
       "\n",
       "    .dataframe tbody tr th {\n",
       "        vertical-align: top;\n",
       "    }\n",
       "\n",
       "    .dataframe thead th {\n",
       "        text-align: right;\n",
       "    }\n",
       "</style>\n",
       "<table border=\"1\" class=\"dataframe\">\n",
       "  <thead>\n",
       "    <tr style=\"text-align: right;\">\n",
       "      <th></th>\n",
       "      <th>gni_per_capita</th>\n",
       "      <th>population</th>\n",
       "    </tr>\n",
       "    <tr>\n",
       "      <th>country</th>\n",
       "      <th></th>\n",
       "      <th></th>\n",
       "    </tr>\n",
       "  </thead>\n",
       "  <tbody>\n",
       "    <tr>\n",
       "      <th>Switzerland</th>\n",
       "      <td>85670.0</td>\n",
       "      <td>8297000.0</td>\n",
       "    </tr>\n",
       "    <tr>\n",
       "      <th>Tanzania</th>\n",
       "      <td>980.0</td>\n",
       "      <td>51483000.0</td>\n",
       "    </tr>\n",
       "    <tr>\n",
       "      <th>Peru</th>\n",
       "      <td>6340.0</td>\n",
       "      <td>30471000.0</td>\n",
       "    </tr>\n",
       "  </tbody>\n",
       "</table>\n",
       "</div>"
      ],
      "text/plain": [
       "             gni_per_capita  population\n",
       "country                                \n",
       "Switzerland         85670.0   8297000.0\n",
       "Tanzania              980.0  51483000.0\n",
       "Peru                 6340.0  30471000.0"
      ]
     },
     "execution_count": 8,
     "metadata": {},
     "output_type": "execute_result"
    }
   ],
   "source": [
    "countries_right = satisfaction.loc[[\"Switzerland\", \"Tanzania\", \"Peru\"],\n",
    "                                   [\"gni_per_capita\", \"population\"]]\n",
    "countries_right"
   ]
  },
  {
   "cell_type": "markdown",
   "metadata": {
    "id": "uwFN6hJfVaq1"
   },
   "source": [
    "To **concatenate dataframes columnwise, we need to set the ``axis`` parameter to 1**:"
   ]
  },
  {
   "cell_type": "code",
   "execution_count": 9,
   "metadata": {
    "id": "42NmZkDSVaEp"
   },
   "outputs": [
    {
     "data": {
      "text/html": [
       "<div>\n",
       "<style scoped>\n",
       "    .dataframe tbody tr th:only-of-type {\n",
       "        vertical-align: middle;\n",
       "    }\n",
       "\n",
       "    .dataframe tbody tr th {\n",
       "        vertical-align: top;\n",
       "    }\n",
       "\n",
       "    .dataframe thead th {\n",
       "        text-align: right;\n",
       "    }\n",
       "</style>\n",
       "<table border=\"1\" class=\"dataframe\">\n",
       "  <thead>\n",
       "    <tr style=\"text-align: right;\">\n",
       "      <th></th>\n",
       "      <th>continent</th>\n",
       "      <th>life_satisfaction</th>\n",
       "      <th>gni_per_capita</th>\n",
       "      <th>population</th>\n",
       "    </tr>\n",
       "    <tr>\n",
       "      <th>country</th>\n",
       "      <th></th>\n",
       "      <th></th>\n",
       "      <th></th>\n",
       "      <th></th>\n",
       "    </tr>\n",
       "  </thead>\n",
       "  <tbody>\n",
       "    <tr>\n",
       "      <th>Switzerland</th>\n",
       "      <td>Europe</td>\n",
       "      <td>7.508587</td>\n",
       "      <td>85670.0</td>\n",
       "      <td>8297000.0</td>\n",
       "    </tr>\n",
       "    <tr>\n",
       "      <th>Tanzania</th>\n",
       "      <td>Africa</td>\n",
       "      <td>3.445023</td>\n",
       "      <td>980.0</td>\n",
       "      <td>51483000.0</td>\n",
       "    </tr>\n",
       "    <tr>\n",
       "      <th>Peru</th>\n",
       "      <td>South America</td>\n",
       "      <td>5.679661</td>\n",
       "      <td>6340.0</td>\n",
       "      <td>30471000.0</td>\n",
       "    </tr>\n",
       "  </tbody>\n",
       "</table>\n",
       "</div>"
      ],
      "text/plain": [
       "                 continent  life_satisfaction  gni_per_capita  population\n",
       "country                                                                  \n",
       "Switzerland         Europe           7.508587         85670.0   8297000.0\n",
       "Tanzania            Africa           3.445023           980.0  51483000.0\n",
       "Peru         South America           5.679661          6340.0  30471000.0"
      ]
     },
     "execution_count": 9,
     "metadata": {},
     "output_type": "execute_result"
    }
   ],
   "source": [
    "countries = pd.concat([countries_left, countries_right], axis=1)\n",
    "countries"
   ]
  },
  {
   "cell_type": "markdown",
   "metadata": {
    "id": "R_Jeyp3SWFiY"
   },
   "source": [
    "Now the columns from ``countries_left`` and the columns from ``countries_right`` are combined into one dataframe."
   ]
  },
  {
   "cell_type": "markdown",
   "metadata": {
    "id": "pGhU4SrTyaQ9"
   },
   "source": [
    "### Merging (one-to-one)"
   ]
  },
  {
   "cell_type": "markdown",
   "metadata": {
    "id": "GqbMKsiyWvVx"
   },
   "source": [
    "Now suppose you would like to combine the life satisfaction data (``satisfaction``) with the trust data (``trust``). Both datasets contain information on several countries and you would like to combine the data in a way such that the countries are matched. How could this be done? You could try to concatenate the two datasets, but this is very risky. It will not work if the number  or order of the countries differs and you may get things mixed up. It would be better to **combine the data based on the index or the values of some column(s)** (e.g. the country code).\n",
    "\n",
    "The **``merge`` function or method** (`merge` exists as a function and as a method) allows you to do this. The basic syntax is\n",
    "\n",
    "```python\n",
    "new_df = pd.merge(left_df, right_df, ...) # function\n",
    "new_df = left_df.merge(right_df, ...)     # method\n",
    "```\n",
    "\n",
    "where `left_df` and `right_df` are the two dataframes you want to combine. In the examples below, we will use the method syntax.\n",
    "\n",
    "Let's take a look at our two dataframes:"
   ]
  },
  {
   "cell_type": "code",
   "execution_count": 10,
   "metadata": {
    "id": "ysaVhoZ1YQfY"
   },
   "outputs": [
    {
     "data": {
      "text/html": [
       "<div>\n",
       "<style scoped>\n",
       "    .dataframe tbody tr th:only-of-type {\n",
       "        vertical-align: middle;\n",
       "    }\n",
       "\n",
       "    .dataframe tbody tr th {\n",
       "        vertical-align: top;\n",
       "    }\n",
       "\n",
       "    .dataframe thead th {\n",
       "        text-align: right;\n",
       "    }\n",
       "</style>\n",
       "<table border=\"1\" class=\"dataframe\">\n",
       "  <thead>\n",
       "    <tr style=\"text-align: right;\">\n",
       "      <th></th>\n",
       "      <th>code</th>\n",
       "      <th>gni_per_capita</th>\n",
       "      <th>life_satisfaction</th>\n",
       "      <th>population</th>\n",
       "      <th>continent</th>\n",
       "      <th>workhours</th>\n",
       "      <th>income_level</th>\n",
       "    </tr>\n",
       "    <tr>\n",
       "      <th>country</th>\n",
       "      <th></th>\n",
       "      <th></th>\n",
       "      <th></th>\n",
       "      <th></th>\n",
       "      <th></th>\n",
       "      <th></th>\n",
       "      <th></th>\n",
       "    </tr>\n",
       "  </thead>\n",
       "  <tbody>\n",
       "    <tr>\n",
       "      <th>Afghanistan</th>\n",
       "      <td>AFG</td>\n",
       "      <td>600.0</td>\n",
       "      <td>2.694303</td>\n",
       "      <td>34414000.0</td>\n",
       "      <td>Asia</td>\n",
       "      <td>NaN</td>\n",
       "      <td>Low income</td>\n",
       "    </tr>\n",
       "    <tr>\n",
       "      <th>Albania</th>\n",
       "      <td>ALB</td>\n",
       "      <td>4390.0</td>\n",
       "      <td>5.004403</td>\n",
       "      <td>2891000.0</td>\n",
       "      <td>Europe</td>\n",
       "      <td>NaN</td>\n",
       "      <td>Upper middle income</td>\n",
       "    </tr>\n",
       "    <tr>\n",
       "      <th>Algeria</th>\n",
       "      <td>DZA</td>\n",
       "      <td>4850.0</td>\n",
       "      <td>5.043086</td>\n",
       "      <td>39728000.0</td>\n",
       "      <td>Africa</td>\n",
       "      <td>NaN</td>\n",
       "      <td>Upper middle income</td>\n",
       "    </tr>\n",
       "    <tr>\n",
       "      <th>Argentina</th>\n",
       "      <td>ARG</td>\n",
       "      <td>12570.0</td>\n",
       "      <td>5.792797</td>\n",
       "      <td>43075000.0</td>\n",
       "      <td>South America</td>\n",
       "      <td>1691.5363</td>\n",
       "      <td>High income</td>\n",
       "    </tr>\n",
       "    <tr>\n",
       "      <th>Armenia</th>\n",
       "      <td>ARM</td>\n",
       "      <td>4010.0</td>\n",
       "      <td>5.062449</td>\n",
       "      <td>2926000.0</td>\n",
       "      <td>Asia</td>\n",
       "      <td>NaN</td>\n",
       "      <td>Lower middle income</td>\n",
       "    </tr>\n",
       "  </tbody>\n",
       "</table>\n",
       "</div>"
      ],
      "text/plain": [
       "            code  gni_per_capita  life_satisfaction  population  \\\n",
       "country                                                           \n",
       "Afghanistan  AFG           600.0           2.694303  34414000.0   \n",
       "Albania      ALB          4390.0           5.004403   2891000.0   \n",
       "Algeria      DZA          4850.0           5.043086  39728000.0   \n",
       "Argentina    ARG         12570.0           5.792797  43075000.0   \n",
       "Armenia      ARM          4010.0           5.062449   2926000.0   \n",
       "\n",
       "                 continent  workhours         income_level  \n",
       "country                                                     \n",
       "Afghanistan           Asia        NaN           Low income  \n",
       "Albania             Europe        NaN  Upper middle income  \n",
       "Algeria             Africa        NaN  Upper middle income  \n",
       "Argentina    South America  1691.5363          High income  \n",
       "Armenia               Asia        NaN  Lower middle income  "
      ]
     },
     "execution_count": 10,
     "metadata": {},
     "output_type": "execute_result"
    }
   ],
   "source": [
    "satisfaction.head()"
   ]
  },
  {
   "cell_type": "code",
   "execution_count": 11,
   "metadata": {
    "id": "Zq-Achmor5sy"
   },
   "outputs": [
    {
     "data": {
      "text/html": [
       "<div>\n",
       "<style scoped>\n",
       "    .dataframe tbody tr th:only-of-type {\n",
       "        vertical-align: middle;\n",
       "    }\n",
       "\n",
       "    .dataframe tbody tr th {\n",
       "        vertical-align: top;\n",
       "    }\n",
       "\n",
       "    .dataframe thead th {\n",
       "        text-align: right;\n",
       "    }\n",
       "</style>\n",
       "<table border=\"1\" class=\"dataframe\">\n",
       "  <thead>\n",
       "    <tr style=\"text-align: right;\">\n",
       "      <th></th>\n",
       "      <th>country_name</th>\n",
       "      <th>continent</th>\n",
       "      <th>trust</th>\n",
       "    </tr>\n",
       "    <tr>\n",
       "      <th>country_code</th>\n",
       "      <th></th>\n",
       "      <th></th>\n",
       "      <th></th>\n",
       "    </tr>\n",
       "  </thead>\n",
       "  <tbody>\n",
       "    <tr>\n",
       "      <th>ARG</th>\n",
       "      <td>Argentina</td>\n",
       "      <td>South America</td>\n",
       "      <td>22.64706</td>\n",
       "    </tr>\n",
       "    <tr>\n",
       "      <th>ARM</th>\n",
       "      <td>Armenia</td>\n",
       "      <td>Asia</td>\n",
       "      <td>10.01821</td>\n",
       "    </tr>\n",
       "    <tr>\n",
       "      <th>AUS</th>\n",
       "      <td>Australia</td>\n",
       "      <td>Oceania</td>\n",
       "      <td>54.43383</td>\n",
       "    </tr>\n",
       "    <tr>\n",
       "      <th>AZE</th>\n",
       "      <td>Azerbaijan</td>\n",
       "      <td>Asia</td>\n",
       "      <td>16.16766</td>\n",
       "    </tr>\n",
       "    <tr>\n",
       "      <th>BHR</th>\n",
       "      <td>Bahrain</td>\n",
       "      <td>Asia</td>\n",
       "      <td>33.50000</td>\n",
       "    </tr>\n",
       "    <tr>\n",
       "      <th>BLR</th>\n",
       "      <td>Belarus</td>\n",
       "      <td>Europe</td>\n",
       "      <td>32.80737</td>\n",
       "    </tr>\n",
       "    <tr>\n",
       "      <th>BRA</th>\n",
       "      <td>Brazil</td>\n",
       "      <td>South America</td>\n",
       "      <td>6.52759</td>\n",
       "    </tr>\n",
       "  </tbody>\n",
       "</table>\n",
       "</div>"
      ],
      "text/plain": [
       "             country_name      continent     trust\n",
       "country_code                                      \n",
       "ARG             Argentina  South America  22.64706\n",
       "ARM               Armenia           Asia  10.01821\n",
       "AUS             Australia        Oceania  54.43383\n",
       "AZE            Azerbaijan           Asia  16.16766\n",
       "BHR               Bahrain           Asia  33.50000\n",
       "BLR               Belarus         Europe  32.80737\n",
       "BRA                Brazil  South America   6.52759"
      ]
     },
     "execution_count": 11,
     "metadata": {},
     "output_type": "execute_result"
    }
   ],
   "source": [
    "trust.head(7)"
   ]
  },
  {
   "cell_type": "markdown",
   "metadata": {
    "id": "hscSeDtscy2b"
   },
   "source": [
    "Before we can merge the dataframes, we need to decide **on what we want to merge them**. We can merge dataframes **by the index or by column values**. The merge method has the following parameters to specify this:\n",
    "* **``left_index``**: Set to ``True`` if the left dataframe should be **merged on the index**\n",
    "* **``right_index``**: Set to ``True`` if the right dataframe should be **merged on the index**\n",
    "* **``left_on``**: Specify what **column(s)** from the left dataframe should be taken for the merge\n",
    "* **``right_on``**: Specify what **column(s)** from the left dataframe should be taken for the merge\n",
    "* **``on``**: Specify the name of the **column(s)** for the merge if the column name(s) is/are the **same in both datasets**\n",
    "\n",
    "Let's try **merge by the index of both dataframes**:"
   ]
  },
  {
   "cell_type": "code",
   "execution_count": 13,
   "metadata": {
    "id": "69yWh3-YfGce"
   },
   "outputs": [
    {
     "data": {
      "text/html": [
       "<div>\n",
       "<style scoped>\n",
       "    .dataframe tbody tr th:only-of-type {\n",
       "        vertical-align: middle;\n",
       "    }\n",
       "\n",
       "    .dataframe tbody tr th {\n",
       "        vertical-align: top;\n",
       "    }\n",
       "\n",
       "    .dataframe thead th {\n",
       "        text-align: right;\n",
       "    }\n",
       "</style>\n",
       "<table border=\"1\" class=\"dataframe\">\n",
       "  <thead>\n",
       "    <tr style=\"text-align: right;\">\n",
       "      <th></th>\n",
       "      <th>code</th>\n",
       "      <th>gni_per_capita</th>\n",
       "      <th>life_satisfaction</th>\n",
       "      <th>population</th>\n",
       "      <th>continent_x</th>\n",
       "      <th>workhours</th>\n",
       "      <th>income_level</th>\n",
       "      <th>country_name</th>\n",
       "      <th>continent_y</th>\n",
       "      <th>trust</th>\n",
       "    </tr>\n",
       "  </thead>\n",
       "  <tbody>\n",
       "  </tbody>\n",
       "</table>\n",
       "</div>"
      ],
      "text/plain": [
       "Empty DataFrame\n",
       "Columns: [code, gni_per_capita, life_satisfaction, population, continent_x, workhours, income_level, country_name, continent_y, trust]\n",
       "Index: []"
      ]
     },
     "execution_count": 13,
     "metadata": {},
     "output_type": "execute_result"
    }
   ],
   "source": [
    "df = satisfaction.merge(trust,\n",
    "                        left_index=True,   # use index from left dataframe for merge\n",
    "                        right_index=True)  # use index from right dataframe for merge\n",
    "df.head(2)"
   ]
  },
  {
   "cell_type": "markdown",
   "metadata": {
    "id": "eqlsi7WFgf5k"
   },
   "source": [
    "What happened? Since the index is not the same between the two datasets (country names in `satisfaction` and country codes in `trust`), there were no matches and we created an empty dataset.\n",
    "\n",
    "In many cases, you will have to **merge on column values** instead of the index. In our case, we could merge on the country code. The country code is in column ``code`` in ``satisfaction`` (the left dataframe) and in the index in ``trust``(the right dataframe). So we have to merge on column `code` for the left dataframe and on the index for the right dataframe:"
   ]
  },
  {
   "cell_type": "code",
   "execution_count": 14,
   "metadata": {
    "id": "DcvSVoUcf29v"
   },
   "outputs": [
    {
     "data": {
      "text/html": [
       "<div>\n",
       "<style scoped>\n",
       "    .dataframe tbody tr th:only-of-type {\n",
       "        vertical-align: middle;\n",
       "    }\n",
       "\n",
       "    .dataframe tbody tr th {\n",
       "        vertical-align: top;\n",
       "    }\n",
       "\n",
       "    .dataframe thead th {\n",
       "        text-align: right;\n",
       "    }\n",
       "</style>\n",
       "<table border=\"1\" class=\"dataframe\">\n",
       "  <thead>\n",
       "    <tr style=\"text-align: right;\">\n",
       "      <th></th>\n",
       "      <th>code</th>\n",
       "      <th>gni_per_capita</th>\n",
       "      <th>life_satisfaction</th>\n",
       "      <th>population</th>\n",
       "      <th>continent_x</th>\n",
       "      <th>workhours</th>\n",
       "      <th>income_level</th>\n",
       "      <th>country_name</th>\n",
       "      <th>continent_y</th>\n",
       "      <th>trust</th>\n",
       "    </tr>\n",
       "    <tr>\n",
       "      <th>country</th>\n",
       "      <th></th>\n",
       "      <th></th>\n",
       "      <th></th>\n",
       "      <th></th>\n",
       "      <th></th>\n",
       "      <th></th>\n",
       "      <th></th>\n",
       "      <th></th>\n",
       "      <th></th>\n",
       "      <th></th>\n",
       "    </tr>\n",
       "  </thead>\n",
       "  <tbody>\n",
       "    <tr>\n",
       "      <th>Algeria</th>\n",
       "      <td>DZA</td>\n",
       "      <td>4850.0</td>\n",
       "      <td>5.043086</td>\n",
       "      <td>39728000.0</td>\n",
       "      <td>Africa</td>\n",
       "      <td>NaN</td>\n",
       "      <td>Upper middle income</td>\n",
       "      <td>Algeria</td>\n",
       "      <td>Africa</td>\n",
       "      <td>17.92863</td>\n",
       "    </tr>\n",
       "    <tr>\n",
       "      <th>Argentina</th>\n",
       "      <td>ARG</td>\n",
       "      <td>12570.0</td>\n",
       "      <td>5.792797</td>\n",
       "      <td>43075000.0</td>\n",
       "      <td>South America</td>\n",
       "      <td>1691.5363</td>\n",
       "      <td>High income</td>\n",
       "      <td>Argentina</td>\n",
       "      <td>South America</td>\n",
       "      <td>22.64706</td>\n",
       "    </tr>\n",
       "  </tbody>\n",
       "</table>\n",
       "</div>"
      ],
      "text/plain": [
       "          code  gni_per_capita  life_satisfaction  population    continent_x  \\\n",
       "country                                                                        \n",
       "Algeria    DZA          4850.0           5.043086  39728000.0         Africa   \n",
       "Argentina  ARG         12570.0           5.792797  43075000.0  South America   \n",
       "\n",
       "           workhours         income_level country_name    continent_y  \\\n",
       "country                                                                 \n",
       "Algeria          NaN  Upper middle income      Algeria         Africa   \n",
       "Argentina  1691.5363          High income    Argentina  South America   \n",
       "\n",
       "              trust  \n",
       "country              \n",
       "Algeria    17.92863  \n",
       "Argentina  22.64706  "
      ]
     },
     "execution_count": 14,
     "metadata": {},
     "output_type": "execute_result"
    }
   ],
   "source": [
    "df = satisfaction.merge(trust,\n",
    "                        left_on=\"code\",\n",
    "                        right_index=True)\n",
    "\n",
    "df.head(2)"
   ]
  },
  {
   "cell_type": "markdown",
   "metadata": {
    "id": "qXDb5SfYkx5K"
   },
   "source": [
    "> <font color = ff00ff>SIDENOTE: Even though `country_code` is the index in the right dataframe and not a column, we can treat it in `merge()` as if it was a column; `merge()` is smart enough to understand what we mean. That is, we can also merge the datasets as follows:\n",
    ">\n",
    ">\n",
    ">```python\n",
    "df = satisfaction.merge(trust,\n",
    "                        left_on=\"code\",\n",
    "                        right_on=\"country_code\")\n",
    "```\n",
    ">\n",
    "><font color = 4e1585>A slight difference is that in the second variant of the code the index is not passed on to the new dataframe (which makes sense because the index is not the same in the two datasets).\n",
    ">\n",
    ">\n",
    "><font color = 4e1585>Moreover, you can also **merge on several columns**. For example, if you worry that different countries may have the same country code, you could additionally match on continent. Observations are then only merged if both the country code and the continent are the same:\n",
    ">\n",
    "> ```python\n",
    "> df = satisfaction.merge(trust,\n",
    "                        left_on=[\"code\", \"continent\"],\n",
    "                        right_on=[\"country_code\", \"continent\"])\n",
    "```\n",
    "\n"
   ]
  },
  {
   "cell_type": "markdown",
   "metadata": {
    "id": "iNAQwPmfi5P1"
   },
   "source": [
    "Let's think a bit more closely about what happened when we merged the ``satisfaction`` and the ``trust`` dataset. Consider the length of the two datasets:"
   ]
  },
  {
   "cell_type": "code",
   "execution_count": 15,
   "metadata": {
    "id": "FTaU19ROmVkp"
   },
   "outputs": [
    {
     "name": "stdout",
     "output_type": "stream",
     "text": [
      "126\n",
      "55\n"
     ]
    }
   ],
   "source": [
    "print(len(satisfaction))\n",
    "print(len(trust))"
   ]
  },
  {
   "cell_type": "markdown",
   "metadata": {
    "id": "c5J5w4jJ41Su"
   },
   "source": [
    "Clearly, there must be countries that are in ``satisfaction`` but not in ``trust``. There may also be countries that are in ``trust`` but not in ``satisfaction``. How does the ``merge`` method handle these cases?\n",
    "\n",
    "By default, ``merge`` performs an ``inner join`` -- only observations that are in both dataframes are included. This is why our merged dataframe ``df`` has fewer observations than ``satisfaction`` and ``trust``:"
   ]
  },
  {
   "cell_type": "code",
   "execution_count": 16,
   "metadata": {
    "id": "R92t5SkF7xTS"
   },
   "outputs": [
    {
     "name": "stdout",
     "output_type": "stream",
     "text": [
      "48\n"
     ]
    }
   ],
   "source": [
    "print(len(df))"
   ]
  },
  {
   "cell_type": "markdown",
   "metadata": {
    "id": "JG19uExE5_dg"
   },
   "source": [
    "\n",
    "\n",
    "The**``how`` parameter allows you to specify what observations should be included** in the merged dataframe. There are 4 possibilities:\n",
    "\n",
    "* **``inner`` join**: Only observations that are in *both* dataframes are included. This is the default.\n",
    "* **``outer`` join**: *All* observations are included.\n",
    "* **``left`` join**: All observations from the *left* dataset (i.e. ``satisfaction``) are included.\n",
    "* **``right`` join**: All observations from the *right* dataset (i.e. ``trust``) are included.\n",
    "\n",
    "![image.png](data:image/png;base64,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)"
   ]
  },
  {
   "cell_type": "markdown",
   "metadata": {
    "id": "C1QsDK7E8fh0"
   },
   "source": [
    "Let's perform an outer join, so we do not loose any observations:"
   ]
  },
  {
   "cell_type": "code",
   "execution_count": 17,
   "metadata": {
    "id": "pnnY_X6Ofe-F"
   },
   "outputs": [
    {
     "data": {
      "text/html": [
       "<div>\n",
       "<style scoped>\n",
       "    .dataframe tbody tr th:only-of-type {\n",
       "        vertical-align: middle;\n",
       "    }\n",
       "\n",
       "    .dataframe tbody tr th {\n",
       "        vertical-align: top;\n",
       "    }\n",
       "\n",
       "    .dataframe thead th {\n",
       "        text-align: right;\n",
       "    }\n",
       "</style>\n",
       "<table border=\"1\" class=\"dataframe\">\n",
       "  <thead>\n",
       "    <tr style=\"text-align: right;\">\n",
       "      <th></th>\n",
       "      <th>code</th>\n",
       "      <th>gni_per_capita</th>\n",
       "      <th>life_satisfaction</th>\n",
       "      <th>population</th>\n",
       "      <th>continent_x</th>\n",
       "      <th>workhours</th>\n",
       "      <th>income_level</th>\n",
       "      <th>country_name</th>\n",
       "      <th>continent_y</th>\n",
       "      <th>trust</th>\n",
       "      <th>_merge</th>\n",
       "    </tr>\n",
       "  </thead>\n",
       "  <tbody>\n",
       "    <tr>\n",
       "      <th>0</th>\n",
       "      <td>AFG</td>\n",
       "      <td>600.0</td>\n",
       "      <td>2.694303</td>\n",
       "      <td>34414000.0</td>\n",
       "      <td>Asia</td>\n",
       "      <td>NaN</td>\n",
       "      <td>Low income</td>\n",
       "      <td>NaN</td>\n",
       "      <td>NaN</td>\n",
       "      <td>NaN</td>\n",
       "      <td>left_only</td>\n",
       "    </tr>\n",
       "    <tr>\n",
       "      <th>1</th>\n",
       "      <td>ALB</td>\n",
       "      <td>4390.0</td>\n",
       "      <td>5.004403</td>\n",
       "      <td>2891000.0</td>\n",
       "      <td>Europe</td>\n",
       "      <td>NaN</td>\n",
       "      <td>Upper middle income</td>\n",
       "      <td>NaN</td>\n",
       "      <td>NaN</td>\n",
       "      <td>NaN</td>\n",
       "      <td>left_only</td>\n",
       "    </tr>\n",
       "    <tr>\n",
       "      <th>2</th>\n",
       "      <td>ARE</td>\n",
       "      <td>42860.0</td>\n",
       "      <td>6.603744</td>\n",
       "      <td>9263000.0</td>\n",
       "      <td>Asia</td>\n",
       "      <td>NaN</td>\n",
       "      <td>High income</td>\n",
       "      <td>NaN</td>\n",
       "      <td>NaN</td>\n",
       "      <td>NaN</td>\n",
       "      <td>left_only</td>\n",
       "    </tr>\n",
       "  </tbody>\n",
       "</table>\n",
       "</div>"
      ],
      "text/plain": [
       "  code  gni_per_capita  life_satisfaction  population continent_x  workhours  \\\n",
       "0  AFG           600.0           2.694303  34414000.0        Asia        NaN   \n",
       "1  ALB          4390.0           5.004403   2891000.0      Europe        NaN   \n",
       "2  ARE         42860.0           6.603744   9263000.0        Asia        NaN   \n",
       "\n",
       "          income_level country_name continent_y  trust     _merge  \n",
       "0           Low income          NaN         NaN    NaN  left_only  \n",
       "1  Upper middle income          NaN         NaN    NaN  left_only  \n",
       "2          High income          NaN         NaN    NaN  left_only  "
      ]
     },
     "execution_count": 17,
     "metadata": {},
     "output_type": "execute_result"
    }
   ],
   "source": [
    "df = satisfaction.merge(trust,\n",
    "                        how=\"outer\",  # set type of join\n",
    "                        left_on=\"code\",\n",
    "                        right_on=\"country_code\",\n",
    "                        indicator=True)  # add a column with merging information\n",
    "df.head(3)"
   ]
  },
  {
   "cell_type": "markdown",
   "metadata": {
    "id": "xsdS7z9M9OJZ"
   },
   "source": [
    "Since we set the `indicator` parameter to `True`, a column named ``_merge`` was added to the dataframe that contains information on the source of an observation. Let's take a look at it:"
   ]
  },
  {
   "cell_type": "code",
   "execution_count": 18,
   "metadata": {
    "colab": {
     "base_uri": "https://localhost:8080/",
     "height": 209
    },
    "executionInfo": {
     "elapsed": 7,
     "status": "ok",
     "timestamp": 1742396113077,
     "user": {
      "displayName": "Rudolf Farys",
      "userId": "11982806469493281304"
     },
     "user_tz": -60
    },
    "id": "4XGf7YRw9Eg9",
    "outputId": "4e733939-e31c-447f-9b2c-bdad4e9d7667"
   },
   "outputs": [
    {
     "data": {
      "text/plain": [
       "_merge\n",
       "left_only     78\n",
       "both          48\n",
       "right_only     7\n",
       "Name: count, dtype: int64"
      ]
     },
     "execution_count": 18,
     "metadata": {},
     "output_type": "execute_result"
    }
   ],
   "source": [
    "df[\"_merge\"].value_counts()"
   ]
  },
  {
   "cell_type": "markdown",
   "metadata": {
    "id": "-ql2F9llS-PL"
   },
   "source": [
    "As we can see, most of the observations only appeared in the ``satisfaction`` dataframe, some appeared in both dataframes and very few only appeared in the ``trust`` dataframe.\n",
    "\n",
    "> <font color = 4e1585>SIDENOTE: Merging datasets from different sources often requires a lot of tedious data cleaning. For example, if you merge on country names, the spelling of these names may differ across datasets meaning that these countries will not be merged. It may be a good idea to start with an outer merge and inspect the observations that appear only in one of the datasets. If available, (standardized) codes are usually much better for merging than names.  "
   ]
  },
  {
   "cell_type": "markdown",
   "metadata": {
    "id": "B17Zd81619dI"
   },
   "source": [
    "---\n",
    "\n",
    ">  <font color='teal'> **In-class exercise**:\n",
    "Consider the following two dataframes:  "
   ]
  },
  {
   "cell_type": "code",
   "execution_count": 19,
   "metadata": {
    "id": "ipUQkwB73Rwj"
   },
   "outputs": [],
   "source": [
    "my_data1 = satisfaction.loc[[\"Switzerland\", \"Tanzania\", \"Peru\", \"China\"],\n",
    "                            [\"code\", \"life_satisfaction\"]].reset_index()\n",
    "\n",
    "my_data2 = satisfaction.loc[[\"Tanzania\", \"India\", \"Peru\", \"China\"],\n",
    "                            [\"code\", \"gni_per_capita\", \"workhours\"]].reset_index()\n",
    "my_data2.loc[3, \"country\"] = \" People's Republic of China\""
   ]
  },
  {
   "cell_type": "code",
   "execution_count": 20,
   "metadata": {
    "id": "PYAp9IWZ4MDM"
   },
   "outputs": [
    {
     "data": {
      "text/html": [
       "<div>\n",
       "<style scoped>\n",
       "    .dataframe tbody tr th:only-of-type {\n",
       "        vertical-align: middle;\n",
       "    }\n",
       "\n",
       "    .dataframe tbody tr th {\n",
       "        vertical-align: top;\n",
       "    }\n",
       "\n",
       "    .dataframe thead th {\n",
       "        text-align: right;\n",
       "    }\n",
       "</style>\n",
       "<table border=\"1\" class=\"dataframe\">\n",
       "  <thead>\n",
       "    <tr style=\"text-align: right;\">\n",
       "      <th></th>\n",
       "      <th>country</th>\n",
       "      <th>code</th>\n",
       "      <th>life_satisfaction</th>\n",
       "    </tr>\n",
       "  </thead>\n",
       "  <tbody>\n",
       "    <tr>\n",
       "      <th>0</th>\n",
       "      <td>Switzerland</td>\n",
       "      <td>CHE</td>\n",
       "      <td>7.508587</td>\n",
       "    </tr>\n",
       "    <tr>\n",
       "      <th>1</th>\n",
       "      <td>Tanzania</td>\n",
       "      <td>TZA</td>\n",
       "      <td>3.445023</td>\n",
       "    </tr>\n",
       "    <tr>\n",
       "      <th>2</th>\n",
       "      <td>Peru</td>\n",
       "      <td>PER</td>\n",
       "      <td>5.679661</td>\n",
       "    </tr>\n",
       "    <tr>\n",
       "      <th>3</th>\n",
       "      <td>China</td>\n",
       "      <td>CHN</td>\n",
       "      <td>5.131434</td>\n",
       "    </tr>\n",
       "  </tbody>\n",
       "</table>\n",
       "</div>"
      ],
      "text/plain": [
       "       country code  life_satisfaction\n",
       "0  Switzerland  CHE           7.508587\n",
       "1     Tanzania  TZA           3.445023\n",
       "2         Peru  PER           5.679661\n",
       "3        China  CHN           5.131434"
      ]
     },
     "execution_count": 20,
     "metadata": {},
     "output_type": "execute_result"
    }
   ],
   "source": [
    "my_data1"
   ]
  },
  {
   "cell_type": "code",
   "execution_count": 21,
   "metadata": {
    "id": "QgUaR2qS5hWa"
   },
   "outputs": [
    {
     "data": {
      "text/html": [
       "<div>\n",
       "<style scoped>\n",
       "    .dataframe tbody tr th:only-of-type {\n",
       "        vertical-align: middle;\n",
       "    }\n",
       "\n",
       "    .dataframe tbody tr th {\n",
       "        vertical-align: top;\n",
       "    }\n",
       "\n",
       "    .dataframe thead th {\n",
       "        text-align: right;\n",
       "    }\n",
       "</style>\n",
       "<table border=\"1\" class=\"dataframe\">\n",
       "  <thead>\n",
       "    <tr style=\"text-align: right;\">\n",
       "      <th></th>\n",
       "      <th>country</th>\n",
       "      <th>code</th>\n",
       "      <th>gni_per_capita</th>\n",
       "      <th>workhours</th>\n",
       "    </tr>\n",
       "  </thead>\n",
       "  <tbody>\n",
       "    <tr>\n",
       "      <th>0</th>\n",
       "      <td>Tanzania</td>\n",
       "      <td>TZA</td>\n",
       "      <td>980.0</td>\n",
       "      <td>NaN</td>\n",
       "    </tr>\n",
       "    <tr>\n",
       "      <th>1</th>\n",
       "      <td>India</td>\n",
       "      <td>IND</td>\n",
       "      <td>1600.0</td>\n",
       "      <td>2117.0117</td>\n",
       "    </tr>\n",
       "    <tr>\n",
       "      <th>2</th>\n",
       "      <td>Peru</td>\n",
       "      <td>PER</td>\n",
       "      <td>6340.0</td>\n",
       "      <td>1932.4581</td>\n",
       "    </tr>\n",
       "    <tr>\n",
       "      <th>3</th>\n",
       "      <td>People's Republic of China</td>\n",
       "      <td>CHN</td>\n",
       "      <td>7940.0</td>\n",
       "      <td>2174.3501</td>\n",
       "    </tr>\n",
       "  </tbody>\n",
       "</table>\n",
       "</div>"
      ],
      "text/plain": [
       "                       country code  gni_per_capita  workhours\n",
       "0                     Tanzania  TZA           980.0        NaN\n",
       "1                        India  IND          1600.0  2117.0117\n",
       "2                         Peru  PER          6340.0  1932.4581\n",
       "3   People's Republic of China  CHN          7940.0  2174.3501"
      ]
     },
     "execution_count": 21,
     "metadata": {},
     "output_type": "execute_result"
    }
   ],
   "source": [
    "my_data2"
   ]
  },
  {
   "cell_type": "markdown",
   "metadata": {
    "id": "BPi-Yf3m5zWb"
   },
   "source": [
    ">  <font color='teal'> How could you combine them into one keeping all observations from ``my_data1``?\n"
   ]
  },
  {
   "cell_type": "code",
   "execution_count": 24,
   "metadata": {
    "id": "SGeKcEPnjHMC"
   },
   "outputs": [
    {
     "data": {
      "text/html": [
       "<div>\n",
       "<style scoped>\n",
       "    .dataframe tbody tr th:only-of-type {\n",
       "        vertical-align: middle;\n",
       "    }\n",
       "\n",
       "    .dataframe tbody tr th {\n",
       "        vertical-align: top;\n",
       "    }\n",
       "\n",
       "    .dataframe thead th {\n",
       "        text-align: right;\n",
       "    }\n",
       "</style>\n",
       "<table border=\"1\" class=\"dataframe\">\n",
       "  <thead>\n",
       "    <tr style=\"text-align: right;\">\n",
       "      <th></th>\n",
       "      <th>country</th>\n",
       "      <th>code_x</th>\n",
       "      <th>life_satisfaction</th>\n",
       "      <th>code_y</th>\n",
       "      <th>gni_per_capita</th>\n",
       "      <th>workhours</th>\n",
       "    </tr>\n",
       "  </thead>\n",
       "  <tbody>\n",
       "    <tr>\n",
       "      <th>0</th>\n",
       "      <td>Switzerland</td>\n",
       "      <td>CHE</td>\n",
       "      <td>7.508587</td>\n",
       "      <td>NaN</td>\n",
       "      <td>NaN</td>\n",
       "      <td>NaN</td>\n",
       "    </tr>\n",
       "    <tr>\n",
       "      <th>1</th>\n",
       "      <td>Tanzania</td>\n",
       "      <td>TZA</td>\n",
       "      <td>3.445023</td>\n",
       "      <td>TZA</td>\n",
       "      <td>980.0</td>\n",
       "      <td>NaN</td>\n",
       "    </tr>\n",
       "    <tr>\n",
       "      <th>2</th>\n",
       "      <td>Peru</td>\n",
       "      <td>PER</td>\n",
       "      <td>5.679661</td>\n",
       "      <td>PER</td>\n",
       "      <td>6340.0</td>\n",
       "      <td>1932.4581</td>\n",
       "    </tr>\n",
       "    <tr>\n",
       "      <th>3</th>\n",
       "      <td>China</td>\n",
       "      <td>CHN</td>\n",
       "      <td>5.131434</td>\n",
       "      <td>NaN</td>\n",
       "      <td>NaN</td>\n",
       "      <td>NaN</td>\n",
       "    </tr>\n",
       "  </tbody>\n",
       "</table>\n",
       "</div>"
      ],
      "text/plain": [
       "       country code_x  life_satisfaction code_y  gni_per_capita  workhours\n",
       "0  Switzerland    CHE           7.508587    NaN             NaN        NaN\n",
       "1     Tanzania    TZA           3.445023    TZA           980.0        NaN\n",
       "2         Peru    PER           5.679661    PER          6340.0  1932.4581\n",
       "3        China    CHN           5.131434    NaN             NaN        NaN"
      ]
     },
     "execution_count": 24,
     "metadata": {},
     "output_type": "execute_result"
    }
   ],
   "source": [
    "combined_my_data = my_data1.merge(\n",
    "    my_data2,\n",
    "    how=\"left\",\n",
    "    left_on=\"country\",\n",
    "    right_on=\"country\"\n",
    ")\n",
    "combined_my_data"
   ]
  },
  {
   "cell_type": "code",
   "execution_count": null,
   "metadata": {
    "id": "_M-A3lEH5_Ah"
   },
   "outputs": [],
   "source": []
  },
  {
   "cell_type": "markdown",
   "metadata": {
    "id": "S42N4JTf6Efh"
   },
   "source": [
    "\n",
    "\n",
    "---\n",
    "\n"
   ]
  },
  {
   "cell_type": "markdown",
   "metadata": {
    "id": "ehNxCfb4sbau"
   },
   "source": [
    "### Many-to-one merging"
   ]
  },
  {
   "cell_type": "markdown",
   "metadata": {
    "id": "Xcqf5hj_SXX2"
   },
   "source": [
    "> <font color = 4e1585>SIDENOTE: The merge method also allows you to perform **many-to-many** or **one-to-many** joins. If you would like know more about different types of joins, see, for example: https://jakevdp.github.io/PythonDataScienceHandbook/03.07-merge-and-join.html"
   ]
  },
  {
   "cell_type": "markdown",
   "metadata": {
    "id": "fj8MSG5r-9Es"
   },
   "source": [
    "Up to now, we have only conducted **one-to-one joins**. Each observation in your left dataset was merged to one observation from the right dataset (or to none, if none was found). Sometimes you will also want to conduct **many-to-one** joins. This means that several observations from your left dataset will be merged to the same observation in your right dataset. Consider the following two example datasets:"
   ]
  },
  {
   "cell_type": "code",
   "execution_count": 25,
   "metadata": {
    "id": "yxtIvmbQJPLa"
   },
   "outputs": [
    {
     "data": {
      "text/html": [
       "<div>\n",
       "<style scoped>\n",
       "    .dataframe tbody tr th:only-of-type {\n",
       "        vertical-align: middle;\n",
       "    }\n",
       "\n",
       "    .dataframe tbody tr th {\n",
       "        vertical-align: top;\n",
       "    }\n",
       "\n",
       "    .dataframe thead th {\n",
       "        text-align: right;\n",
       "    }\n",
       "</style>\n",
       "<table border=\"1\" class=\"dataframe\">\n",
       "  <thead>\n",
       "    <tr style=\"text-align: right;\">\n",
       "      <th></th>\n",
       "      <th>year</th>\n",
       "      <th>gdp_per_cap</th>\n",
       "    </tr>\n",
       "  </thead>\n",
       "  <tbody>\n",
       "    <tr>\n",
       "      <th>Switzerland</th>\n",
       "      <td>2000</td>\n",
       "      <td>37868</td>\n",
       "    </tr>\n",
       "    <tr>\n",
       "      <th>Switzerland</th>\n",
       "      <td>2019</td>\n",
       "      <td>81994</td>\n",
       "    </tr>\n",
       "    <tr>\n",
       "      <th>Tanzania</th>\n",
       "      <td>2000</td>\n",
       "      <td>411</td>\n",
       "    </tr>\n",
       "    <tr>\n",
       "      <th>Tanzania</th>\n",
       "      <td>2019</td>\n",
       "      <td>1122</td>\n",
       "    </tr>\n",
       "  </tbody>\n",
       "</table>\n",
       "</div>"
      ],
      "text/plain": [
       "             year  gdp_per_cap\n",
       "Switzerland  2000        37868\n",
       "Switzerland  2019        81994\n",
       "Tanzania     2000          411\n",
       "Tanzania     2019         1122"
      ]
     },
     "execution_count": 25,
     "metadata": {},
     "output_type": "execute_result"
    }
   ],
   "source": [
    "df1 = pd.DataFrame({\"year\": [2000, 2019, 2000, 2019],\n",
    "                    \"gdp_per_cap\": [37868, 81994, 411, 1122]},\n",
    "                   index=[\"Switzerland\", \"Switzerland\", \"Tanzania\", \"Tanzania\"])\n",
    "df1"
   ]
  },
  {
   "cell_type": "code",
   "execution_count": 26,
   "metadata": {
    "id": "FFPByDSPJZDy"
   },
   "outputs": [
    {
     "data": {
      "text/html": [
       "<div>\n",
       "<style scoped>\n",
       "    .dataframe tbody tr th:only-of-type {\n",
       "        vertical-align: middle;\n",
       "    }\n",
       "\n",
       "    .dataframe tbody tr th {\n",
       "        vertical-align: top;\n",
       "    }\n",
       "\n",
       "    .dataframe thead th {\n",
       "        text-align: right;\n",
       "    }\n",
       "</style>\n",
       "<table border=\"1\" class=\"dataframe\">\n",
       "  <thead>\n",
       "    <tr style=\"text-align: right;\">\n",
       "      <th></th>\n",
       "      <th>continent</th>\n",
       "    </tr>\n",
       "  </thead>\n",
       "  <tbody>\n",
       "    <tr>\n",
       "      <th>Switzerland</th>\n",
       "      <td>Europe</td>\n",
       "    </tr>\n",
       "    <tr>\n",
       "      <th>Tanzania</th>\n",
       "      <td>Africa</td>\n",
       "    </tr>\n",
       "  </tbody>\n",
       "</table>\n",
       "</div>"
      ],
      "text/plain": [
       "            continent\n",
       "Switzerland    Europe\n",
       "Tanzania       Africa"
      ]
     },
     "execution_count": 26,
     "metadata": {},
     "output_type": "execute_result"
    }
   ],
   "source": [
    "df2 = pd.DataFrame({\"continent\": [\"Europe\", \"Africa\"]},\n",
    "                   index=[\"Switzerland\", \"Tanzania\"])\n",
    "df2"
   ]
  },
  {
   "cell_type": "markdown",
   "metadata": {
    "id": "a_Rl69_MRWUb"
   },
   "source": [
    "How could you merge these two datasets? Performing many-to-one joins with pandas is straightforward, as **pandas will infer automatically what kind of join to perform**:"
   ]
  },
  {
   "cell_type": "code",
   "execution_count": 27,
   "metadata": {
    "id": "5Lq7FgUUIt6B"
   },
   "outputs": [
    {
     "data": {
      "text/html": [
       "<div>\n",
       "<style scoped>\n",
       "    .dataframe tbody tr th:only-of-type {\n",
       "        vertical-align: middle;\n",
       "    }\n",
       "\n",
       "    .dataframe tbody tr th {\n",
       "        vertical-align: top;\n",
       "    }\n",
       "\n",
       "    .dataframe thead th {\n",
       "        text-align: right;\n",
       "    }\n",
       "</style>\n",
       "<table border=\"1\" class=\"dataframe\">\n",
       "  <thead>\n",
       "    <tr style=\"text-align: right;\">\n",
       "      <th></th>\n",
       "      <th>year</th>\n",
       "      <th>gdp_per_cap</th>\n",
       "      <th>continent</th>\n",
       "    </tr>\n",
       "  </thead>\n",
       "  <tbody>\n",
       "    <tr>\n",
       "      <th>Switzerland</th>\n",
       "      <td>2000</td>\n",
       "      <td>37868</td>\n",
       "      <td>Europe</td>\n",
       "    </tr>\n",
       "    <tr>\n",
       "      <th>Switzerland</th>\n",
       "      <td>2019</td>\n",
       "      <td>81994</td>\n",
       "      <td>Europe</td>\n",
       "    </tr>\n",
       "    <tr>\n",
       "      <th>Tanzania</th>\n",
       "      <td>2000</td>\n",
       "      <td>411</td>\n",
       "      <td>Africa</td>\n",
       "    </tr>\n",
       "    <tr>\n",
       "      <th>Tanzania</th>\n",
       "      <td>2019</td>\n",
       "      <td>1122</td>\n",
       "      <td>Africa</td>\n",
       "    </tr>\n",
       "  </tbody>\n",
       "</table>\n",
       "</div>"
      ],
      "text/plain": [
       "             year  gdp_per_cap continent\n",
       "Switzerland  2000        37868    Europe\n",
       "Switzerland  2019        81994    Europe\n",
       "Tanzania     2000          411    Africa\n",
       "Tanzania     2019         1122    Africa"
      ]
     },
     "execution_count": 27,
     "metadata": {},
     "output_type": "execute_result"
    }
   ],
   "source": [
    "df1.merge(df2, left_index=True, right_index=True)"
   ]
  },
  {
   "cell_type": "markdown",
   "metadata": {
    "id": "kmkFf4LJjSZa"
   },
   "source": [
    "Before you merge, **always be sure that you are perfectly aware of the structure** (especially duplicates) of your data! Consider the following example:"
   ]
  },
  {
   "cell_type": "code",
   "execution_count": 28,
   "metadata": {
    "id": "A6UCyVmwjklZ"
   },
   "outputs": [
    {
     "data": {
      "text/plain": [
       "False"
      ]
     },
     "execution_count": 28,
     "metadata": {},
     "output_type": "execute_result"
    }
   ],
   "source": [
    "df_dup = pd.DataFrame({\"continent\": [\"Europe\", \"Africa\"]},\n",
    "                      index=[\"Switzerland\", \"Switzerland\"])  # Switzerland ist duplicated\n",
    "df1.merge(df_dup, left_index=True, right_index=True,\n",
    "          how=\"left\")  # introduces duplicates on the left side as well!\n",
    "\n",
    "df_dup.index.is_unique"
   ]
  },
  {
   "cell_type": "markdown",
   "metadata": {
    "id": "HAjxsogG6tpg"
   },
   "source": [
    "Or another example:"
   ]
  },
  {
   "cell_type": "code",
   "execution_count": null,
   "metadata": {
    "id": "lsk-oxAS6rEO"
   },
   "outputs": [],
   "source": [
    "# First DataFrame with duplicates in the merge key\n",
    "df1 = pd.DataFrame({\n",
    "    'ID': [1, 2, 2, 3],\n",
    "    'Value_A': ['A1', 'A2', 'A3', 'A4']\n",
    "})\n",
    "\n",
    "# Second DataFrame with unique keys\n",
    "df2 = pd.DataFrame({\n",
    "    'ID': [1, 2, 3],\n",
    "    'Value_B': ['B1', 'B2', 'B3']\n",
    "})\n",
    "\n",
    "# Merge on 'ID'\n",
    "merged_df = pd.merge(df1, df2, on='ID', how='inner')\n",
    "\n",
    "print(merged_df)"
   ]
  },
  {
   "cell_type": "markdown",
   "metadata": {
    "id": "ZEEjM_5K62tp"
   },
   "source": [
    "However, with duplicates on both sides:"
   ]
  },
  {
   "cell_type": "code",
   "execution_count": null,
   "metadata": {
    "colab": {
     "base_uri": "https://localhost:8080/"
    },
    "executionInfo": {
     "elapsed": 21,
     "status": "ok",
     "timestamp": 1742396934071,
     "user": {
      "displayName": "Rudolf Farys",
      "userId": "11982806469493281304"
     },
     "user_tz": -60
    },
    "id": "NZn-MNOE65Ae",
    "outputId": "d6543fa2-9d76-495d-ded0-fb40e9ed49a0"
   },
   "outputs": [
    {
     "name": "stdout",
     "output_type": "stream",
     "text": [
      "   ID Value_A Value_B\n",
      "0   1      A1      B1\n",
      "1   2      A2      B2\n",
      "2   2      A2      B3\n",
      "3   2      A3      B2\n",
      "4   2      A3      B3\n",
      "5   3      A4      B4\n"
     ]
    }
   ],
   "source": [
    "df2 = pd.DataFrame({\n",
    "    'ID': [1, 2, 2, 3],\n",
    "    'Value_B': ['B1', 'B2', 'B3', 'B4']\n",
    "})\n",
    "\n",
    "merged_df = pd.merge(df1, df2, on='ID', how='inner')\n",
    "\n",
    "print(merged_df)"
   ]
  },
  {
   "cell_type": "markdown",
   "metadata": {
    "id": "JHCk8rphxA-c"
   },
   "source": [
    "## Grouping data"
   ]
  },
  {
   "cell_type": "markdown",
   "metadata": {
    "id": "MevQ4Wq9_lu1"
   },
   "source": [
    "Our life satisfaction data contains a variable classifying the countries by income level. Suppose you would like to look at the **average life satisfaction by income group**. How could we do this? One way would be to filter the data and print the result for each country group:"
   ]
  },
  {
   "cell_type": "code",
   "execution_count": null,
   "metadata": {
    "id": "l20B7MZnyYqp"
   },
   "outputs": [],
   "source": [
    "satisfaction"
   ]
  },
  {
   "cell_type": "code",
   "execution_count": 29,
   "metadata": {
    "id": "u25n5V8ZAECd"
   },
   "outputs": [
    {
     "name": "stdout",
     "output_type": "stream",
     "text": [
      "6.709778873605262\n",
      "5.4779970284848485\n"
     ]
    }
   ],
   "source": [
    "print(satisfaction.loc[satisfaction[\"income_level\"] == \"High income\",\n",
    "                       \"life_satisfaction\"].mean())\n",
    "print(satisfaction.loc[satisfaction[\"income_level\"] == \"Upper middle income\",\n",
    "                       \"life_satisfaction\"].mean())\n",
    "# etc."
   ]
  },
  {
   "cell_type": "markdown",
   "metadata": {
    "id": "koywmWsTAwu5"
   },
   "source": [
    "This can get very tedious, especially if you have many categories/groups. The **``groupby()`` method allows you to split your data into groups and to easily compute summary statistics (or do operations) for each group**. Let's group our data by income level:"
   ]
  },
  {
   "cell_type": "code",
   "execution_count": 30,
   "metadata": {
    "id": "XrE8AnQRB0GC"
   },
   "outputs": [
    {
     "name": "stdout",
     "output_type": "stream",
     "text": [
      "<pandas.core.groupby.generic.DataFrameGroupBy object at 0x0000029155BAFE80>\n"
     ]
    }
   ],
   "source": [
    "grouped_df = satisfaction.groupby(\"income_level\")\n",
    "print(grouped_df)"
   ]
  },
  {
   "cell_type": "markdown",
   "metadata": {
    "id": "aDST83XHDDOF"
   },
   "source": [
    "Using the **``get_group()`` method**, we can retrieve all observations belonging to a particular group:"
   ]
  },
  {
   "cell_type": "code",
   "execution_count": 31,
   "metadata": {
    "id": "NQOHnBxfCfrH"
   },
   "outputs": [
    {
     "data": {
      "text/html": [
       "<div>\n",
       "<style scoped>\n",
       "    .dataframe tbody tr th:only-of-type {\n",
       "        vertical-align: middle;\n",
       "    }\n",
       "\n",
       "    .dataframe tbody tr th {\n",
       "        vertical-align: top;\n",
       "    }\n",
       "\n",
       "    .dataframe thead th {\n",
       "        text-align: right;\n",
       "    }\n",
       "</style>\n",
       "<table border=\"1\" class=\"dataframe\">\n",
       "  <thead>\n",
       "    <tr style=\"text-align: right;\">\n",
       "      <th></th>\n",
       "      <th>code</th>\n",
       "      <th>gni_per_capita</th>\n",
       "      <th>life_satisfaction</th>\n",
       "      <th>population</th>\n",
       "      <th>continent</th>\n",
       "      <th>workhours</th>\n",
       "      <th>income_level</th>\n",
       "    </tr>\n",
       "    <tr>\n",
       "      <th>country</th>\n",
       "      <th></th>\n",
       "      <th></th>\n",
       "      <th></th>\n",
       "      <th></th>\n",
       "      <th></th>\n",
       "      <th></th>\n",
       "      <th></th>\n",
       "    </tr>\n",
       "  </thead>\n",
       "  <tbody>\n",
       "    <tr>\n",
       "      <th>Afghanistan</th>\n",
       "      <td>AFG</td>\n",
       "      <td>600.0</td>\n",
       "      <td>2.694303</td>\n",
       "      <td>34414000.0</td>\n",
       "      <td>Asia</td>\n",
       "      <td>NaN</td>\n",
       "      <td>Low income</td>\n",
       "    </tr>\n",
       "    <tr>\n",
       "      <th>Burkina Faso</th>\n",
       "      <td>BFA</td>\n",
       "      <td>700.0</td>\n",
       "      <td>4.927236</td>\n",
       "      <td>18111000.0</td>\n",
       "      <td>Africa</td>\n",
       "      <td>NaN</td>\n",
       "      <td>Low income</td>\n",
       "    </tr>\n",
       "    <tr>\n",
       "      <th>Burundi</th>\n",
       "      <td>BDI</td>\n",
       "      <td>260.0</td>\n",
       "      <td>3.775283</td>\n",
       "      <td>10160000.0</td>\n",
       "      <td>Africa</td>\n",
       "      <td>NaN</td>\n",
       "      <td>Low income</td>\n",
       "    </tr>\n",
       "    <tr>\n",
       "      <th>Chad</th>\n",
       "      <td>TCD</td>\n",
       "      <td>880.0</td>\n",
       "      <td>4.486325</td>\n",
       "      <td>14111000.0</td>\n",
       "      <td>Africa</td>\n",
       "      <td>NaN</td>\n",
       "      <td>Low income</td>\n",
       "    </tr>\n",
       "    <tr>\n",
       "      <th>Ethiopia</th>\n",
       "      <td>ETH</td>\n",
       "      <td>600.0</td>\n",
       "      <td>4.379262</td>\n",
       "      <td>100835000.0</td>\n",
       "      <td>Africa</td>\n",
       "      <td>NaN</td>\n",
       "      <td>Low income</td>\n",
       "    </tr>\n",
       "    <tr>\n",
       "      <th>Guinea</th>\n",
       "      <td>GIN</td>\n",
       "      <td>760.0</td>\n",
       "      <td>5.252227</td>\n",
       "      <td>11432000.0</td>\n",
       "      <td>Africa</td>\n",
       "      <td>NaN</td>\n",
       "      <td>Low income</td>\n",
       "    </tr>\n",
       "    <tr>\n",
       "      <th>Liberia</th>\n",
       "      <td>LBR</td>\n",
       "      <td>630.0</td>\n",
       "      <td>4.134853</td>\n",
       "      <td>4472000.0</td>\n",
       "      <td>Africa</td>\n",
       "      <td>NaN</td>\n",
       "      <td>Low income</td>\n",
       "    </tr>\n",
       "    <tr>\n",
       "      <th>Madagascar</th>\n",
       "      <td>MDG</td>\n",
       "      <td>490.0</td>\n",
       "      <td>4.070587</td>\n",
       "      <td>24234000.0</td>\n",
       "      <td>Africa</td>\n",
       "      <td>NaN</td>\n",
       "      <td>Low income</td>\n",
       "    </tr>\n",
       "    <tr>\n",
       "      <th>Malawi</th>\n",
       "      <td>MWI</td>\n",
       "      <td>350.0</td>\n",
       "      <td>3.334634</td>\n",
       "      <td>16745000.0</td>\n",
       "      <td>Africa</td>\n",
       "      <td>NaN</td>\n",
       "      <td>Low income</td>\n",
       "    </tr>\n",
       "    <tr>\n",
       "      <th>Mali</th>\n",
       "      <td>MLI</td>\n",
       "      <td>800.0</td>\n",
       "      <td>4.415730</td>\n",
       "      <td>17439000.0</td>\n",
       "      <td>Africa</td>\n",
       "      <td>NaN</td>\n",
       "      <td>Low income</td>\n",
       "    </tr>\n",
       "    <tr>\n",
       "      <th>Mozambique</th>\n",
       "      <td>MOZ</td>\n",
       "      <td>640.0</td>\n",
       "      <td>4.653714</td>\n",
       "      <td>27042000.0</td>\n",
       "      <td>Africa</td>\n",
       "      <td>NaN</td>\n",
       "      <td>Low income</td>\n",
       "    </tr>\n",
       "    <tr>\n",
       "      <th>Nepal</th>\n",
       "      <td>NPL</td>\n",
       "      <td>780.0</td>\n",
       "      <td>4.910087</td>\n",
       "      <td>27015000.0</td>\n",
       "      <td>Asia</td>\n",
       "      <td>NaN</td>\n",
       "      <td>Low income</td>\n",
       "    </tr>\n",
       "    <tr>\n",
       "      <th>Niger</th>\n",
       "      <td>NER</td>\n",
       "      <td>560.0</td>\n",
       "      <td>5.164007</td>\n",
       "      <td>20002000.0</td>\n",
       "      <td>Africa</td>\n",
       "      <td>NaN</td>\n",
       "      <td>Low income</td>\n",
       "    </tr>\n",
       "    <tr>\n",
       "      <th>Rwanda</th>\n",
       "      <td>RWA</td>\n",
       "      <td>750.0</td>\n",
       "      <td>3.561047</td>\n",
       "      <td>11369000.0</td>\n",
       "      <td>Africa</td>\n",
       "      <td>NaN</td>\n",
       "      <td>Low income</td>\n",
       "    </tr>\n",
       "    <tr>\n",
       "      <th>Sierra Leone</th>\n",
       "      <td>SLE</td>\n",
       "      <td>550.0</td>\n",
       "      <td>4.305683</td>\n",
       "      <td>7172000.0</td>\n",
       "      <td>Africa</td>\n",
       "      <td>NaN</td>\n",
       "      <td>Low income</td>\n",
       "    </tr>\n",
       "    <tr>\n",
       "      <th>Tanzania</th>\n",
       "      <td>TZA</td>\n",
       "      <td>980.0</td>\n",
       "      <td>3.445023</td>\n",
       "      <td>51483000.0</td>\n",
       "      <td>Africa</td>\n",
       "      <td>NaN</td>\n",
       "      <td>Low income</td>\n",
       "    </tr>\n",
       "    <tr>\n",
       "      <th>Togo</th>\n",
       "      <td>TGO</td>\n",
       "      <td>640.0</td>\n",
       "      <td>4.022895</td>\n",
       "      <td>7323000.0</td>\n",
       "      <td>Africa</td>\n",
       "      <td>NaN</td>\n",
       "      <td>Low income</td>\n",
       "    </tr>\n",
       "    <tr>\n",
       "      <th>Uganda</th>\n",
       "      <td>UGA</td>\n",
       "      <td>830.0</td>\n",
       "      <td>4.321715</td>\n",
       "      <td>38225000.0</td>\n",
       "      <td>Africa</td>\n",
       "      <td>NaN</td>\n",
       "      <td>Low income</td>\n",
       "    </tr>\n",
       "  </tbody>\n",
       "</table>\n",
       "</div>"
      ],
      "text/plain": [
       "             code  gni_per_capita  life_satisfaction   population continent  \\\n",
       "country                                                                       \n",
       "Afghanistan   AFG           600.0           2.694303   34414000.0      Asia   \n",
       "Burkina Faso  BFA           700.0           4.927236   18111000.0    Africa   \n",
       "Burundi       BDI           260.0           3.775283   10160000.0    Africa   \n",
       "Chad          TCD           880.0           4.486325   14111000.0    Africa   \n",
       "Ethiopia      ETH           600.0           4.379262  100835000.0    Africa   \n",
       "Guinea        GIN           760.0           5.252227   11432000.0    Africa   \n",
       "Liberia       LBR           630.0           4.134853    4472000.0    Africa   \n",
       "Madagascar    MDG           490.0           4.070587   24234000.0    Africa   \n",
       "Malawi        MWI           350.0           3.334634   16745000.0    Africa   \n",
       "Mali          MLI           800.0           4.415730   17439000.0    Africa   \n",
       "Mozambique    MOZ           640.0           4.653714   27042000.0    Africa   \n",
       "Nepal         NPL           780.0           4.910087   27015000.0      Asia   \n",
       "Niger         NER           560.0           5.164007   20002000.0    Africa   \n",
       "Rwanda        RWA           750.0           3.561047   11369000.0    Africa   \n",
       "Sierra Leone  SLE           550.0           4.305683    7172000.0    Africa   \n",
       "Tanzania      TZA           980.0           3.445023   51483000.0    Africa   \n",
       "Togo          TGO           640.0           4.022895    7323000.0    Africa   \n",
       "Uganda        UGA           830.0           4.321715   38225000.0    Africa   \n",
       "\n",
       "              workhours income_level  \n",
       "country                               \n",
       "Afghanistan         NaN   Low income  \n",
       "Burkina Faso        NaN   Low income  \n",
       "Burundi             NaN   Low income  \n",
       "Chad                NaN   Low income  \n",
       "Ethiopia            NaN   Low income  \n",
       "Guinea              NaN   Low income  \n",
       "Liberia             NaN   Low income  \n",
       "Madagascar          NaN   Low income  \n",
       "Malawi              NaN   Low income  \n",
       "Mali                NaN   Low income  \n",
       "Mozambique          NaN   Low income  \n",
       "Nepal               NaN   Low income  \n",
       "Niger               NaN   Low income  \n",
       "Rwanda              NaN   Low income  \n",
       "Sierra Leone        NaN   Low income  \n",
       "Tanzania            NaN   Low income  \n",
       "Togo                NaN   Low income  \n",
       "Uganda              NaN   Low income  "
      ]
     },
     "execution_count": 31,
     "metadata": {},
     "output_type": "execute_result"
    }
   ],
   "source": [
    "grouped_df.get_group(\"Low income\")"
   ]
  },
  {
   "cell_type": "markdown",
   "metadata": {
    "id": "rZfKBPKeDcp9"
   },
   "source": [
    "Now we can compute the mean (or other summary statistics) for each group:"
   ]
  },
  {
   "cell_type": "code",
   "execution_count": 32,
   "metadata": {
    "id": "8R-H_VBfDa12"
   },
   "outputs": [
    {
     "data": {
      "text/plain": [
       "income_level\n",
       "High income            6.709779\n",
       "Low income             4.214145\n",
       "Lower middle income    5.016864\n",
       "Upper middle income    5.477997\n",
       "Name: life_satisfaction, dtype: float64"
      ]
     },
     "execution_count": 32,
     "metadata": {},
     "output_type": "execute_result"
    }
   ],
   "source": [
    "grouped_df[\"life_satisfaction\"].mean()"
   ]
  },
  {
   "cell_type": "markdown",
   "metadata": {
    "id": "A3vZnVOvYCMT"
   },
   "source": [
    "We can also use ``groupby()`` to create an aggregated dataframe:"
   ]
  },
  {
   "cell_type": "code",
   "execution_count": 33,
   "metadata": {
    "id": "hFfZMw_GYUg-"
   },
   "outputs": [
    {
     "data": {
      "text/html": [
       "<div>\n",
       "<style scoped>\n",
       "    .dataframe tbody tr th:only-of-type {\n",
       "        vertical-align: middle;\n",
       "    }\n",
       "\n",
       "    .dataframe tbody tr th {\n",
       "        vertical-align: top;\n",
       "    }\n",
       "\n",
       "    .dataframe thead th {\n",
       "        text-align: right;\n",
       "    }\n",
       "</style>\n",
       "<table border=\"1\" class=\"dataframe\">\n",
       "  <thead>\n",
       "    <tr style=\"text-align: right;\">\n",
       "      <th></th>\n",
       "      <th>mean</th>\n",
       "      <th>median</th>\n",
       "      <th>count</th>\n",
       "    </tr>\n",
       "    <tr>\n",
       "      <th>income_level</th>\n",
       "      <th></th>\n",
       "      <th></th>\n",
       "      <th></th>\n",
       "    </tr>\n",
       "  </thead>\n",
       "  <tbody>\n",
       "    <tr>\n",
       "      <th>High income</th>\n",
       "      <td>6.709779</td>\n",
       "      <td>6.774294</td>\n",
       "      <td>38</td>\n",
       "    </tr>\n",
       "    <tr>\n",
       "      <th>Low income</th>\n",
       "      <td>4.214145</td>\n",
       "      <td>4.313699</td>\n",
       "      <td>18</td>\n",
       "    </tr>\n",
       "    <tr>\n",
       "      <th>Lower middle income</th>\n",
       "      <td>5.016864</td>\n",
       "      <td>5.062449</td>\n",
       "      <td>37</td>\n",
       "    </tr>\n",
       "    <tr>\n",
       "      <th>Upper middle income</th>\n",
       "      <td>5.477997</td>\n",
       "      <td>5.433216</td>\n",
       "      <td>33</td>\n",
       "    </tr>\n",
       "  </tbody>\n",
       "</table>\n",
       "</div>"
      ],
      "text/plain": [
       "                         mean    median  count\n",
       "income_level                                  \n",
       "High income          6.709779  6.774294     38\n",
       "Low income           4.214145  4.313699     18\n",
       "Lower middle income  5.016864  5.062449     37\n",
       "Upper middle income  5.477997  5.433216     33"
      ]
     },
     "execution_count": 33,
     "metadata": {},
     "output_type": "execute_result"
    }
   ],
   "source": [
    "ls_byincome = grouped_df[\"life_satisfaction\"].agg([\"mean\", \"median\", \"count\"])\n",
    "ls_byincome"
   ]
  },
  {
   "cell_type": "markdown",
   "metadata": {
    "id": "Q7KWyT0yujF-"
   },
   "source": [
    "If you want to have the group label as a data column rather than the index, you can add `reset_index()`:"
   ]
  },
  {
   "cell_type": "code",
   "execution_count": 34,
   "metadata": {
    "id": "aHP6DaPvu8UI"
   },
   "outputs": [
    {
     "data": {
      "text/html": [
       "<div>\n",
       "<style scoped>\n",
       "    .dataframe tbody tr th:only-of-type {\n",
       "        vertical-align: middle;\n",
       "    }\n",
       "\n",
       "    .dataframe tbody tr th {\n",
       "        vertical-align: top;\n",
       "    }\n",
       "\n",
       "    .dataframe thead th {\n",
       "        text-align: right;\n",
       "    }\n",
       "</style>\n",
       "<table border=\"1\" class=\"dataframe\">\n",
       "  <thead>\n",
       "    <tr style=\"text-align: right;\">\n",
       "      <th></th>\n",
       "      <th>income_level</th>\n",
       "      <th>mean</th>\n",
       "      <th>median</th>\n",
       "      <th>count</th>\n",
       "    </tr>\n",
       "  </thead>\n",
       "  <tbody>\n",
       "    <tr>\n",
       "      <th>0</th>\n",
       "      <td>High income</td>\n",
       "      <td>6.709779</td>\n",
       "      <td>6.774294</td>\n",
       "      <td>38</td>\n",
       "    </tr>\n",
       "    <tr>\n",
       "      <th>1</th>\n",
       "      <td>Low income</td>\n",
       "      <td>4.214145</td>\n",
       "      <td>4.313699</td>\n",
       "      <td>18</td>\n",
       "    </tr>\n",
       "    <tr>\n",
       "      <th>2</th>\n",
       "      <td>Lower middle income</td>\n",
       "      <td>5.016864</td>\n",
       "      <td>5.062449</td>\n",
       "      <td>37</td>\n",
       "    </tr>\n",
       "    <tr>\n",
       "      <th>3</th>\n",
       "      <td>Upper middle income</td>\n",
       "      <td>5.477997</td>\n",
       "      <td>5.433216</td>\n",
       "      <td>33</td>\n",
       "    </tr>\n",
       "  </tbody>\n",
       "</table>\n",
       "</div>"
      ],
      "text/plain": [
       "          income_level      mean    median  count\n",
       "0          High income  6.709779  6.774294     38\n",
       "1           Low income  4.214145  4.313699     18\n",
       "2  Lower middle income  5.016864  5.062449     37\n",
       "3  Upper middle income  5.477997  5.433216     33"
      ]
     },
     "execution_count": 34,
     "metadata": {},
     "output_type": "execute_result"
    }
   ],
   "source": [
    "grouped_df[\"life_satisfaction\"].agg([\"mean\", \"median\", \"count\"]).reset_index()"
   ]
  },
  {
   "cell_type": "markdown",
   "metadata": {
    "id": "IdgKHBrBPhaN"
   },
   "source": [
    "By the way: the .agg() method can also take a self-written function as elements:"
   ]
  },
  {
   "cell_type": "code",
   "execution_count": 36,
   "metadata": {
    "id": "CCr-Zz14PMgg"
   },
   "outputs": [
    {
     "data": {
      "text/html": [
       "<div>\n",
       "<style scoped>\n",
       "    .dataframe tbody tr th:only-of-type {\n",
       "        vertical-align: middle;\n",
       "    }\n",
       "\n",
       "    .dataframe tbody tr th {\n",
       "        vertical-align: top;\n",
       "    }\n",
       "\n",
       "    .dataframe thead th {\n",
       "        text-align: right;\n",
       "    }\n",
       "</style>\n",
       "<table border=\"1\" class=\"dataframe\">\n",
       "  <thead>\n",
       "    <tr style=\"text-align: right;\">\n",
       "      <th></th>\n",
       "      <th>income_level</th>\n",
       "      <th>mean</th>\n",
       "      <th>median</th>\n",
       "      <th>count</th>\n",
       "      <th>mean2</th>\n",
       "    </tr>\n",
       "  </thead>\n",
       "  <tbody>\n",
       "    <tr>\n",
       "      <th>0</th>\n",
       "      <td>High income</td>\n",
       "      <td>6.709779</td>\n",
       "      <td>6.774294</td>\n",
       "      <td>38</td>\n",
       "      <td>6.709779</td>\n",
       "    </tr>\n",
       "    <tr>\n",
       "      <th>1</th>\n",
       "      <td>Low income</td>\n",
       "      <td>4.214145</td>\n",
       "      <td>4.313699</td>\n",
       "      <td>18</td>\n",
       "      <td>4.214145</td>\n",
       "    </tr>\n",
       "    <tr>\n",
       "      <th>2</th>\n",
       "      <td>Lower middle income</td>\n",
       "      <td>5.016864</td>\n",
       "      <td>5.062449</td>\n",
       "      <td>37</td>\n",
       "      <td>5.016864</td>\n",
       "    </tr>\n",
       "    <tr>\n",
       "      <th>3</th>\n",
       "      <td>Upper middle income</td>\n",
       "      <td>5.477997</td>\n",
       "      <td>5.433216</td>\n",
       "      <td>33</td>\n",
       "      <td>5.477997</td>\n",
       "    </tr>\n",
       "  </tbody>\n",
       "</table>\n",
       "</div>"
      ],
      "text/plain": [
       "          income_level      mean    median  count     mean2\n",
       "0          High income  6.709779  6.774294     38  6.709779\n",
       "1           Low income  4.214145  4.313699     18  4.214145\n",
       "2  Lower middle income  5.016864  5.062449     37  5.016864\n",
       "3  Upper middle income  5.477997  5.433216     33  5.477997"
      ]
     },
     "execution_count": 36,
     "metadata": {},
     "output_type": "execute_result"
    }
   ],
   "source": [
    "def mean2(x):\n",
    "    return x.mean()\n",
    "\n",
    "\n",
    "grouped_df[\"life_satisfaction\"].agg([\"mean\", \"median\", \"count\", mean2]).reset_index()"
   ]
  },
  {
   "cell_type": "markdown",
   "metadata": {
    "id": "JccMj_KvD4aQ"
   },
   "source": [
    "><font color = ff0ff> SIDENOTE: You can also group your data by several columns (e.g. ``df.groupby([\"income_level\", \"continent\"])``. If you want to know more about grouping data, see, for example:\n",
    "* https://pandas.pydata.org/docs/user_guide/groupby.html"
   ]
  },
  {
   "cell_type": "markdown",
   "metadata": {
    "id": "-QkQtAtEUOkz"
   },
   "source": [
    "---\n",
    "\n",
    ">  <font color='teal'> **In-class exercise**:\n",
    "You would like to know how many hours people work in a typical country on each continent. Use the ``groupby()`` method compute the median of `workhours` by continent!"
   ]
  },
  {
   "cell_type": "code",
   "execution_count": 52,
   "metadata": {
    "id": "2_qPV-RqUPnt"
   },
   "outputs": [
    {
     "data": {
      "text/plain": [
       "continent\n",
       "Africa           1956.28485\n",
       "Asia             2159.07805\n",
       "Europe           1699.49910\n",
       "North America    1961.04640\n",
       "Oceania          1752.00450\n",
       "South America    1709.48560\n",
       "Name: workhours, dtype: float64"
      ]
     },
     "execution_count": 52,
     "metadata": {},
     "output_type": "execute_result"
    }
   ],
   "source": [
    "workhours_median = satisfaction.groupby(\"continent\")[\"workhours\"].median()\n",
    "workhours_median"
   ]
  },
  {
   "cell_type": "markdown",
   "metadata": {
    "id": "DzvXTgOZXBId"
   },
   "source": [
    ">  <font color='teal'> Now create a summary dataframe called ``workhours_by_continent`` with the median of `workhours` and the number of countries by continent."
   ]
  },
  {
   "cell_type": "code",
   "execution_count": 60,
   "metadata": {
    "id": "seLEw2mdWbqo"
   },
   "outputs": [
    {
     "data": {
      "text/html": [
       "<div>\n",
       "<style scoped>\n",
       "    .dataframe tbody tr th:only-of-type {\n",
       "        vertical-align: middle;\n",
       "    }\n",
       "\n",
       "    .dataframe tbody tr th {\n",
       "        vertical-align: top;\n",
       "    }\n",
       "\n",
       "    .dataframe thead th {\n",
       "        text-align: right;\n",
       "    }\n",
       "</style>\n",
       "<table border=\"1\" class=\"dataframe\">\n",
       "  <thead>\n",
       "    <tr style=\"text-align: right;\">\n",
       "      <th></th>\n",
       "      <th>median</th>\n",
       "      <th>count</th>\n",
       "    </tr>\n",
       "    <tr>\n",
       "      <th>continent</th>\n",
       "      <th></th>\n",
       "      <th></th>\n",
       "    </tr>\n",
       "  </thead>\n",
       "  <tbody>\n",
       "    <tr>\n",
       "      <th>Africa</th>\n",
       "      <td>1956.28485</td>\n",
       "      <td>2</td>\n",
       "    </tr>\n",
       "    <tr>\n",
       "      <th>Asia</th>\n",
       "      <td>2159.07805</td>\n",
       "      <td>16</td>\n",
       "    </tr>\n",
       "    <tr>\n",
       "      <th>Europe</th>\n",
       "      <td>1699.49910</td>\n",
       "      <td>29</td>\n",
       "    </tr>\n",
       "    <tr>\n",
       "      <th>North America</th>\n",
       "      <td>1961.04640</td>\n",
       "      <td>4</td>\n",
       "    </tr>\n",
       "    <tr>\n",
       "      <th>Oceania</th>\n",
       "      <td>1752.00450</td>\n",
       "      <td>2</td>\n",
       "    </tr>\n",
       "    <tr>\n",
       "      <th>South America</th>\n",
       "      <td>1709.48560</td>\n",
       "      <td>7</td>\n",
       "    </tr>\n",
       "  </tbody>\n",
       "</table>\n",
       "</div>"
      ],
      "text/plain": [
       "                   median  count\n",
       "continent                       \n",
       "Africa         1956.28485      2\n",
       "Asia           2159.07805     16\n",
       "Europe         1699.49910     29\n",
       "North America  1961.04640      4\n",
       "Oceania        1752.00450      2\n",
       "South America  1709.48560      7"
      ]
     },
     "execution_count": 60,
     "metadata": {},
     "output_type": "execute_result"
    }
   ],
   "source": [
    "workhours_by_continent = satisfaction.groupby(\"continent\")[\"code\"].agg([\"count\"]).merge(\n",
    "    workhours_median,\n",
    "    on=\"continent\"\n",
    ")\n",
    "workhours_by_continent\n",
    "satisfaction.groupby(\"continent\")[\"workhours\"].agg([\"median\", \"count\"])"
   ]
  },
  {
   "cell_type": "markdown",
   "metadata": {
    "id": "oYbXE5_aZ9XB"
   },
   "source": [
    "\n",
    "\n",
    "---\n",
    "\n"
   ]
  },
  {
   "cell_type": "markdown",
   "metadata": {
    "id": "R_Mov82p2tIQ"
   },
   "source": [
    "## Reshaping data"
   ]
  },
  {
   "cell_type": "markdown",
   "metadata": {
    "id": "tQiOn2gF2vg4"
   },
   "source": [
    "Two-dimensional data can often be displayed in two different formats: **long** or **wide**. Consider the following dataframe:"
   ]
  },
  {
   "cell_type": "code",
   "execution_count": 54,
   "metadata": {
    "id": "ED-UhnMB3Q3J"
   },
   "outputs": [
    {
     "data": {
      "text/html": [
       "<div>\n",
       "<style scoped>\n",
       "    .dataframe tbody tr th:only-of-type {\n",
       "        vertical-align: middle;\n",
       "    }\n",
       "\n",
       "    .dataframe tbody tr th {\n",
       "        vertical-align: top;\n",
       "    }\n",
       "\n",
       "    .dataframe thead th {\n",
       "        text-align: right;\n",
       "    }\n",
       "</style>\n",
       "<table border=\"1\" class=\"dataframe\">\n",
       "  <thead>\n",
       "    <tr style=\"text-align: right;\">\n",
       "      <th></th>\n",
       "      <th>country</th>\n",
       "      <th>year</th>\n",
       "      <th>gdp_per_cap</th>\n",
       "    </tr>\n",
       "  </thead>\n",
       "  <tbody>\n",
       "    <tr>\n",
       "      <th>0</th>\n",
       "      <td>Switzerland</td>\n",
       "      <td>2000</td>\n",
       "      <td>37868</td>\n",
       "    </tr>\n",
       "    <tr>\n",
       "      <th>1</th>\n",
       "      <td>Switzerland</td>\n",
       "      <td>2019</td>\n",
       "      <td>81994</td>\n",
       "    </tr>\n",
       "    <tr>\n",
       "      <th>2</th>\n",
       "      <td>Tanzania</td>\n",
       "      <td>2000</td>\n",
       "      <td>411</td>\n",
       "    </tr>\n",
       "    <tr>\n",
       "      <th>3</th>\n",
       "      <td>Tanzania</td>\n",
       "      <td>2019</td>\n",
       "      <td>1122</td>\n",
       "    </tr>\n",
       "  </tbody>\n",
       "</table>\n",
       "</div>"
      ],
      "text/plain": [
       "       country  year  gdp_per_cap\n",
       "0  Switzerland  2000        37868\n",
       "1  Switzerland  2019        81994\n",
       "2     Tanzania  2000          411\n",
       "3     Tanzania  2019         1122"
      ]
     },
     "execution_count": 54,
     "metadata": {},
     "output_type": "execute_result"
    }
   ],
   "source": [
    "df_long = pd.DataFrame({\"country\": [\"Switzerland\", \"Switzerland\", \"Tanzania\", \"Tanzania\"],\n",
    "                        \"year\": [2000, 2019, 2000, 2019],\n",
    "                        \"gdp_per_cap\": [37868, 81994, 411, 1122]})\n",
    "df_long"
   ]
  },
  {
   "cell_type": "markdown",
   "metadata": {
    "id": "j9CA3kPi3WTw"
   },
   "source": [
    "We call this dataframe **long** because there are multiple/repeated observations (gdp per year) per observational unit (country). Another representation of the data would be to have each country just once and have additional columns which describe the gdp at different years. That we would call **wide** data.\n",
    "\n",
    "<img src=\"data:image/png;base64,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\" width=400>"
   ]
  },
  {
   "cell_type": "code",
   "execution_count": 56,
   "metadata": {
    "id": "7W_VmdNI3y2e"
   },
   "outputs": [
    {
     "data": {
      "text/html": [
       "<div>\n",
       "<style scoped>\n",
       "    .dataframe tbody tr th:only-of-type {\n",
       "        vertical-align: middle;\n",
       "    }\n",
       "\n",
       "    .dataframe tbody tr th {\n",
       "        vertical-align: top;\n",
       "    }\n",
       "\n",
       "    .dataframe thead th {\n",
       "        text-align: right;\n",
       "    }\n",
       "</style>\n",
       "<table border=\"1\" class=\"dataframe\">\n",
       "  <thead>\n",
       "    <tr style=\"text-align: right;\">\n",
       "      <th>year</th>\n",
       "      <th>2000</th>\n",
       "      <th>2019</th>\n",
       "    </tr>\n",
       "    <tr>\n",
       "      <th>country</th>\n",
       "      <th></th>\n",
       "      <th></th>\n",
       "    </tr>\n",
       "  </thead>\n",
       "  <tbody>\n",
       "    <tr>\n",
       "      <th>Switzerland</th>\n",
       "      <td>37868</td>\n",
       "      <td>81994</td>\n",
       "    </tr>\n",
       "    <tr>\n",
       "      <th>Tanzania</th>\n",
       "      <td>411</td>\n",
       "      <td>1122</td>\n",
       "    </tr>\n",
       "  </tbody>\n",
       "</table>\n",
       "</div>"
      ],
      "text/plain": [
       "year          2000   2019\n",
       "country                  \n",
       "Switzerland  37868  81994\n",
       "Tanzania       411   1122"
      ]
     },
     "execution_count": 56,
     "metadata": {},
     "output_type": "execute_result"
    }
   ],
   "source": [
    "df_wide = df_long.pivot(index=\"country\", columns=\"year\", values=\"gdp_per_cap\")\n",
    "df_wide"
   ]
  },
  {
   "cell_type": "code",
   "execution_count": 57,
   "metadata": {
    "id": "brVc0peMQDkU"
   },
   "outputs": [
    {
     "name": "stdout",
     "output_type": "stream",
     "text": [
      "Index([2000, 2019], dtype='int64', name='year')\n",
      "Index(['Switzerland', 'Tanzania'], dtype='object', name='country')\n"
     ]
    }
   ],
   "source": [
    "print(df_wide.columns)\n",
    "print(df_wide.index)"
   ]
  },
  {
   "cell_type": "markdown",
   "metadata": {
    "id": "_KvbmmwyHoQN"
   },
   "source": [
    "That does not look very clean as we get hierarchical columns. We can solve that by resetting the index:"
   ]
  },
  {
   "cell_type": "code",
   "execution_count": 58,
   "metadata": {
    "id": "-4O-kPilIJ2U"
   },
   "outputs": [
    {
     "data": {
      "text/html": [
       "<div>\n",
       "<style scoped>\n",
       "    .dataframe tbody tr th:only-of-type {\n",
       "        vertical-align: middle;\n",
       "    }\n",
       "\n",
       "    .dataframe tbody tr th {\n",
       "        vertical-align: top;\n",
       "    }\n",
       "\n",
       "    .dataframe thead th {\n",
       "        text-align: right;\n",
       "    }\n",
       "</style>\n",
       "<table border=\"1\" class=\"dataframe\">\n",
       "  <thead>\n",
       "    <tr style=\"text-align: right;\">\n",
       "      <th>year</th>\n",
       "      <th>country</th>\n",
       "      <th>2000</th>\n",
       "      <th>2019</th>\n",
       "    </tr>\n",
       "  </thead>\n",
       "  <tbody>\n",
       "    <tr>\n",
       "      <th>0</th>\n",
       "      <td>Switzerland</td>\n",
       "      <td>37868</td>\n",
       "      <td>81994</td>\n",
       "    </tr>\n",
       "    <tr>\n",
       "      <th>1</th>\n",
       "      <td>Tanzania</td>\n",
       "      <td>411</td>\n",
       "      <td>1122</td>\n",
       "    </tr>\n",
       "  </tbody>\n",
       "</table>\n",
       "</div>"
      ],
      "text/plain": [
       "year      country   2000   2019\n",
       "0     Switzerland  37868  81994\n",
       "1        Tanzania    411   1122"
      ]
     },
     "execution_count": 58,
     "metadata": {},
     "output_type": "execute_result"
    }
   ],
   "source": [
    "df_wide = df_wide.reset_index()\n",
    "df_wide"
   ]
  },
  {
   "cell_type": "markdown",
   "metadata": {
    "id": "Vfpfxu0O8f85"
   },
   "source": [
    "Further, you might consider to first change the values of ``year`` in a way that they are proper column names, e.g. ``\"gdp_2000\"`` instead of ``2000``."
   ]
  },
  {
   "cell_type": "code",
   "execution_count": 59,
   "metadata": {
    "id": "lJ7hLhRM8qvW"
   },
   "outputs": [
    {
     "data": {
      "text/html": [
       "<div>\n",
       "<style scoped>\n",
       "    .dataframe tbody tr th:only-of-type {\n",
       "        vertical-align: middle;\n",
       "    }\n",
       "\n",
       "    .dataframe tbody tr th {\n",
       "        vertical-align: top;\n",
       "    }\n",
       "\n",
       "    .dataframe thead th {\n",
       "        text-align: right;\n",
       "    }\n",
       "</style>\n",
       "<table border=\"1\" class=\"dataframe\">\n",
       "  <thead>\n",
       "    <tr style=\"text-align: right;\">\n",
       "      <th>colnames</th>\n",
       "      <th>country</th>\n",
       "      <th>gdp_2000</th>\n",
       "      <th>gdp_2019</th>\n",
       "    </tr>\n",
       "  </thead>\n",
       "  <tbody>\n",
       "    <tr>\n",
       "      <th>0</th>\n",
       "      <td>Switzerland</td>\n",
       "      <td>37868</td>\n",
       "      <td>81994</td>\n",
       "    </tr>\n",
       "    <tr>\n",
       "      <th>1</th>\n",
       "      <td>Tanzania</td>\n",
       "      <td>411</td>\n",
       "      <td>1122</td>\n",
       "    </tr>\n",
       "  </tbody>\n",
       "</table>\n",
       "</div>"
      ],
      "text/plain": [
       "colnames      country  gdp_2000  gdp_2019\n",
       "0         Switzerland     37868     81994\n",
       "1            Tanzania       411      1122"
      ]
     },
     "execution_count": 59,
     "metadata": {},
     "output_type": "execute_result"
    }
   ],
   "source": [
    "df_long[\"colnames\"] = \"gdp_\" + df_long[\"year\"].astype(str)  # <- not ideal\n",
    "df_wide = df_long.pivot(index=\"country\", columns=\"colnames\",\n",
    "                        values=\"gdp_per_cap\").reset_index()\n",
    "df_wide"
   ]
  },
  {
   "cell_type": "code",
   "execution_count": 63,
   "metadata": {
    "id": "hHY-IPBFRbeY"
   },
   "outputs": [
    {
     "data": {
      "text/html": [
       "<div>\n",
       "<style scoped>\n",
       "    .dataframe tbody tr th:only-of-type {\n",
       "        vertical-align: middle;\n",
       "    }\n",
       "\n",
       "    .dataframe tbody tr th {\n",
       "        vertical-align: top;\n",
       "    }\n",
       "\n",
       "    .dataframe thead th {\n",
       "        text-align: right;\n",
       "    }\n",
       "</style>\n",
       "<table border=\"1\" class=\"dataframe\">\n",
       "  <thead>\n",
       "    <tr style=\"text-align: right;\">\n",
       "      <th></th>\n",
       "      <th>country</th>\n",
       "      <th>gdp_2000</th>\n",
       "      <th>gdp_2019</th>\n",
       "    </tr>\n",
       "  </thead>\n",
       "  <tbody>\n",
       "    <tr>\n",
       "      <th>0</th>\n",
       "      <td>Switzerland</td>\n",
       "      <td>37868</td>\n",
       "      <td>81994</td>\n",
       "    </tr>\n",
       "    <tr>\n",
       "      <th>1</th>\n",
       "      <td>Tanzania</td>\n",
       "      <td>411</td>\n",
       "      <td>1122</td>\n",
       "    </tr>\n",
       "  </tbody>\n",
       "</table>\n",
       "</div>"
      ],
      "text/plain": [
       "       country  gdp_2000  gdp_2019\n",
       "0  Switzerland     37868     81994\n",
       "1     Tanzania       411      1122"
      ]
     },
     "execution_count": 63,
     "metadata": {},
     "output_type": "execute_result"
    }
   ],
   "source": [
    "df_wide = df_long.pivot(index=\"country\", columns=\"year\", values=\"gdp_per_cap\")\n",
    "\n",
    "# Or: rename columns after pivoting\n",
    "df_wide.columns = [f\"gdp_{col}\" for col in df_wide.columns]\n",
    "\n",
    "df_wide = df_wide.reset_index()\n",
    "df_wide"
   ]
  },
  {
   "cell_type": "markdown",
   "metadata": {
    "id": "m_U4lC5C-H2H"
   },
   "source": [
    "In the other direction you can also reshape from a wide to a long format using ``melt()`` or ``wide_to_long()``:"
   ]
  },
  {
   "cell_type": "code",
   "execution_count": 61,
   "metadata": {
    "id": "xLA2C7Ni-WJI"
   },
   "outputs": [
    {
     "data": {
      "text/html": [
       "<div>\n",
       "<style scoped>\n",
       "    .dataframe tbody tr th:only-of-type {\n",
       "        vertical-align: middle;\n",
       "    }\n",
       "\n",
       "    .dataframe tbody tr th {\n",
       "        vertical-align: top;\n",
       "    }\n",
       "\n",
       "    .dataframe thead th {\n",
       "        text-align: right;\n",
       "    }\n",
       "</style>\n",
       "<table border=\"1\" class=\"dataframe\">\n",
       "  <thead>\n",
       "    <tr style=\"text-align: right;\">\n",
       "      <th></th>\n",
       "      <th>country</th>\n",
       "      <th>year</th>\n",
       "      <th>gdp_per_cap</th>\n",
       "    </tr>\n",
       "  </thead>\n",
       "  <tbody>\n",
       "    <tr>\n",
       "      <th>0</th>\n",
       "      <td>Switzerland</td>\n",
       "      <td>2000</td>\n",
       "      <td>37868</td>\n",
       "    </tr>\n",
       "    <tr>\n",
       "      <th>1</th>\n",
       "      <td>Tanzania</td>\n",
       "      <td>2000</td>\n",
       "      <td>411</td>\n",
       "    </tr>\n",
       "    <tr>\n",
       "      <th>2</th>\n",
       "      <td>Switzerland</td>\n",
       "      <td>2019</td>\n",
       "      <td>81994</td>\n",
       "    </tr>\n",
       "    <tr>\n",
       "      <th>3</th>\n",
       "      <td>Tanzania</td>\n",
       "      <td>2019</td>\n",
       "      <td>1122</td>\n",
       "    </tr>\n",
       "  </tbody>\n",
       "</table>\n",
       "</div>"
      ],
      "text/plain": [
       "       country  year  gdp_per_cap\n",
       "0  Switzerland  2000        37868\n",
       "1     Tanzania  2000          411\n",
       "2  Switzerland  2019        81994\n",
       "3     Tanzania  2019         1122"
      ]
     },
     "execution_count": 61,
     "metadata": {},
     "output_type": "execute_result"
    }
   ],
   "source": [
    "df_long2 = pd.melt(df_wide, id_vars=\"country\",\n",
    "                   value_vars=[\"gdp_2000\", \"gdp_2019\"],\n",
    "                   var_name=\"year\",\n",
    "                   value_name=\"gdp_per_cap\")\n",
    "df_long2[\"year\"] = (df_long2[\"year\"].str.split(\"_\").str[1]\n",
    "                    .astype(int))  # change values from e.g. \"gdp_2000\" to 2000 (integer)\n",
    "df_long2"
   ]
  },
  {
   "cell_type": "markdown",
   "metadata": {
    "id": "9WgG6ZczJxON"
   },
   "source": [
    "Reshaping tasks can often be pretty complicated and confusing. You can read additional information in the pandas reference: <https://pandas.pydata.org/pandas-docs/stable/reference/api/pandas.melt.html>. If you run into problems with reshaping: start small! Use tiny examples, try your code, and carefully inspect what it does."
   ]
  },
  {
   "cell_type": "markdown",
   "metadata": {
    "id": "S-1yZ2NXYPQ-"
   },
   "source": [
    "---\n",
    "\n",
    ">  <font color='teal'> **In-class exercise**:\n",
    "Generate the following dataframe:"
   ]
  },
  {
   "cell_type": "code",
   "execution_count": 64,
   "metadata": {
    "colab": {
     "base_uri": "https://localhost:8080/",
     "height": 143
    },
    "executionInfo": {
     "elapsed": 50,
     "status": "ok",
     "timestamp": 1742486967460,
     "user": {
      "displayName": "Rudolf Farys",
      "userId": "11982806469493281304"
     },
     "user_tz": -60
    },
    "id": "0iSpvYkwU0uG",
    "outputId": "961af5c9-a5ec-4a07-ecbb-4e4137736d82"
   },
   "outputs": [
    {
     "data": {
      "text/html": [
       "<div>\n",
       "<style scoped>\n",
       "    .dataframe tbody tr th:only-of-type {\n",
       "        vertical-align: middle;\n",
       "    }\n",
       "\n",
       "    .dataframe tbody tr th {\n",
       "        vertical-align: top;\n",
       "    }\n",
       "\n",
       "    .dataframe thead th {\n",
       "        text-align: right;\n",
       "    }\n",
       "</style>\n",
       "<table border=\"1\" class=\"dataframe\">\n",
       "  <thead>\n",
       "    <tr style=\"text-align: right;\">\n",
       "      <th></th>\n",
       "      <th>name</th>\n",
       "      <th>treatmentA</th>\n",
       "      <th>treatmentB</th>\n",
       "    </tr>\n",
       "  </thead>\n",
       "  <tbody>\n",
       "    <tr>\n",
       "      <th>0</th>\n",
       "      <td>John Smith</td>\n",
       "      <td>5</td>\n",
       "      <td>12</td>\n",
       "    </tr>\n",
       "    <tr>\n",
       "      <th>1</th>\n",
       "      <td>Jane Doe</td>\n",
       "      <td>10</td>\n",
       "      <td>10</td>\n",
       "    </tr>\n",
       "    <tr>\n",
       "      <th>2</th>\n",
       "      <td>Mary Johnson</td>\n",
       "      <td>8</td>\n",
       "      <td>9</td>\n",
       "    </tr>\n",
       "  </tbody>\n",
       "</table>\n",
       "</div>"
      ],
      "text/plain": [
       "           name  treatmentA  treatmentB\n",
       "0    John Smith           5          12\n",
       "1      Jane Doe          10          10\n",
       "2  Mary Johnson           8           9"
      ]
     },
     "execution_count": 64,
     "metadata": {},
     "output_type": "execute_result"
    }
   ],
   "source": [
    "df = pd.DataFrame({\"name\": [\"John Smith\", \"Jane Doe\", \"Mary Johnson\"],\n",
    "                   \"treatmentA\": [5, 10, 8], \"treatmentB\": [12, 10, 9]})\n",
    "df"
   ]
  },
  {
   "cell_type": "markdown",
   "metadata": {
    "id": "bzMplB7hZFU7"
   },
   "source": [
    "---\n",
    "\n",
    ">  <font color='teal'> Reshape the dataset in a way that you have a column ``treatment`` with possible values ``A`` and ``B`` and the measured value as ``value``. Assign the result to a new dataframe ``df_long``."
   ]
  },
  {
   "cell_type": "code",
   "execution_count": 67,
   "metadata": {
    "id": "9iUnkVh2YnU6"
   },
   "outputs": [
    {
     "data": {
      "text/html": [
       "<div>\n",
       "<style scoped>\n",
       "    .dataframe tbody tr th:only-of-type {\n",
       "        vertical-align: middle;\n",
       "    }\n",
       "\n",
       "    .dataframe tbody tr th {\n",
       "        vertical-align: top;\n",
       "    }\n",
       "\n",
       "    .dataframe thead th {\n",
       "        text-align: right;\n",
       "    }\n",
       "</style>\n",
       "<table border=\"1\" class=\"dataframe\">\n",
       "  <thead>\n",
       "    <tr style=\"text-align: right;\">\n",
       "      <th></th>\n",
       "      <th>name</th>\n",
       "      <th>treatment</th>\n",
       "      <th>value</th>\n",
       "    </tr>\n",
       "  </thead>\n",
       "  <tbody>\n",
       "    <tr>\n",
       "      <th>0</th>\n",
       "      <td>John Smith</td>\n",
       "      <td>treatmentA</td>\n",
       "      <td>5</td>\n",
       "    </tr>\n",
       "    <tr>\n",
       "      <th>1</th>\n",
       "      <td>Jane Doe</td>\n",
       "      <td>treatmentA</td>\n",
       "      <td>10</td>\n",
       "    </tr>\n",
       "    <tr>\n",
       "      <th>2</th>\n",
       "      <td>Mary Johnson</td>\n",
       "      <td>treatmentA</td>\n",
       "      <td>8</td>\n",
       "    </tr>\n",
       "    <tr>\n",
       "      <th>3</th>\n",
       "      <td>John Smith</td>\n",
       "      <td>treatmentB</td>\n",
       "      <td>12</td>\n",
       "    </tr>\n",
       "    <tr>\n",
       "      <th>4</th>\n",
       "      <td>Jane Doe</td>\n",
       "      <td>treatmentB</td>\n",
       "      <td>10</td>\n",
       "    </tr>\n",
       "    <tr>\n",
       "      <th>5</th>\n",
       "      <td>Mary Johnson</td>\n",
       "      <td>treatmentB</td>\n",
       "      <td>9</td>\n",
       "    </tr>\n",
       "  </tbody>\n",
       "</table>\n",
       "</div>"
      ],
      "text/plain": [
       "           name   treatment  value\n",
       "0    John Smith  treatmentA      5\n",
       "1      Jane Doe  treatmentA     10\n",
       "2  Mary Johnson  treatmentA      8\n",
       "3    John Smith  treatmentB     12\n",
       "4      Jane Doe  treatmentB     10\n",
       "5  Mary Johnson  treatmentB      9"
      ]
     },
     "execution_count": 67,
     "metadata": {},
     "output_type": "execute_result"
    }
   ],
   "source": [
    "df_long = pd.melt(df,\n",
    "                  id_vars=\"name\",\n",
    "                  value_vars=[\"treatmentA\", \"treatmentB\"],\n",
    "                  var_name=\"treatment\",\n",
    "                  value_name=\"value\")\n",
    "df_long"
   ]
  },
  {
   "cell_type": "code",
   "execution_count": 74,
   "metadata": {
    "id": "JNU7TlOhUW1Y"
   },
   "outputs": [
    {
     "data": {
      "text/html": [
       "<div>\n",
       "<style scoped>\n",
       "    .dataframe tbody tr th:only-of-type {\n",
       "        vertical-align: middle;\n",
       "    }\n",
       "\n",
       "    .dataframe tbody tr th {\n",
       "        vertical-align: top;\n",
       "    }\n",
       "\n",
       "    .dataframe thead th {\n",
       "        text-align: right;\n",
       "    }\n",
       "</style>\n",
       "<table border=\"1\" class=\"dataframe\">\n",
       "  <thead>\n",
       "    <tr style=\"text-align: right;\">\n",
       "      <th></th>\n",
       "      <th>name</th>\n",
       "      <th>treatment</th>\n",
       "      <th>value</th>\n",
       "    </tr>\n",
       "  </thead>\n",
       "  <tbody>\n",
       "    <tr>\n",
       "      <th>0</th>\n",
       "      <td>John Smith</td>\n",
       "      <td>A</td>\n",
       "      <td>5</td>\n",
       "    </tr>\n",
       "    <tr>\n",
       "      <th>1</th>\n",
       "      <td>Jane Doe</td>\n",
       "      <td>A</td>\n",
       "      <td>10</td>\n",
       "    </tr>\n",
       "    <tr>\n",
       "      <th>2</th>\n",
       "      <td>Mary Johnson</td>\n",
       "      <td>A</td>\n",
       "      <td>8</td>\n",
       "    </tr>\n",
       "    <tr>\n",
       "      <th>3</th>\n",
       "      <td>John Smith</td>\n",
       "      <td>B</td>\n",
       "      <td>12</td>\n",
       "    </tr>\n",
       "    <tr>\n",
       "      <th>4</th>\n",
       "      <td>Jane Doe</td>\n",
       "      <td>B</td>\n",
       "      <td>10</td>\n",
       "    </tr>\n",
       "    <tr>\n",
       "      <th>5</th>\n",
       "      <td>Mary Johnson</td>\n",
       "      <td>B</td>\n",
       "      <td>9</td>\n",
       "    </tr>\n",
       "  </tbody>\n",
       "</table>\n",
       "</div>"
      ],
      "text/plain": [
       "           name treatment  value\n",
       "0    John Smith         A      5\n",
       "1      Jane Doe         A     10\n",
       "2  Mary Johnson         A      8\n",
       "3    John Smith         B     12\n",
       "4      Jane Doe         B     10\n",
       "5  Mary Johnson         B      9"
      ]
     },
     "execution_count": 74,
     "metadata": {},
     "output_type": "execute_result"
    }
   ],
   "source": [
    "# We might want to clean the new column a bit:\n",
    "df_long[\"treatment\"] = df_long[\"treatment\"].str.replace(\"treatment\", \"\")\n",
    "df_long"
   ]
  },
  {
   "cell_type": "markdown",
   "metadata": {
    "id": "ZEMEAN5Dal_W"
   },
   "source": [
    "---\n",
    "\n",
    ">  <font color='teal'> Now, reshape the ``df_long`` dataframe back to a wide format."
   ]
  },
  {
   "cell_type": "code",
   "execution_count": 76,
   "metadata": {
    "id": "eV0nCiRTZc2_"
   },
   "outputs": [
    {
     "data": {
      "text/html": [
       "<div>\n",
       "<style scoped>\n",
       "    .dataframe tbody tr th:only-of-type {\n",
       "        vertical-align: middle;\n",
       "    }\n",
       "\n",
       "    .dataframe tbody tr th {\n",
       "        vertical-align: top;\n",
       "    }\n",
       "\n",
       "    .dataframe thead th {\n",
       "        text-align: right;\n",
       "    }\n",
       "</style>\n",
       "<table border=\"1\" class=\"dataframe\">\n",
       "  <thead>\n",
       "    <tr style=\"text-align: right;\">\n",
       "      <th>treatment</th>\n",
       "      <th>name</th>\n",
       "      <th>A</th>\n",
       "      <th>B</th>\n",
       "    </tr>\n",
       "  </thead>\n",
       "  <tbody>\n",
       "    <tr>\n",
       "      <th>0</th>\n",
       "      <td>Jane Doe</td>\n",
       "      <td>10</td>\n",
       "      <td>10</td>\n",
       "    </tr>\n",
       "    <tr>\n",
       "      <th>1</th>\n",
       "      <td>John Smith</td>\n",
       "      <td>5</td>\n",
       "      <td>12</td>\n",
       "    </tr>\n",
       "    <tr>\n",
       "      <th>2</th>\n",
       "      <td>Mary Johnson</td>\n",
       "      <td>8</td>\n",
       "      <td>9</td>\n",
       "    </tr>\n",
       "  </tbody>\n",
       "</table>\n",
       "</div>"
      ],
      "text/plain": [
       "treatment          name   A   B\n",
       "0              Jane Doe  10  10\n",
       "1            John Smith   5  12\n",
       "2          Mary Johnson   8   9"
      ]
     },
     "execution_count": 76,
     "metadata": {},
     "output_type": "execute_result"
    }
   ],
   "source": [
    "df_wide = pd.pivot(df_long,\n",
    "                   index=\"name\",\n",
    "                   columns=\"treatment\",\n",
    "                   values=\"value\").reset_index()\n",
    "df_wide"
   ]
  }
 ],
 "metadata": {
  "colab": {
   "provenance": []
  },
  "kernelspec": {
   "display_name": "Python 3",
   "name": "python3"
  },
  "language_info": {
   "codemirror_mode": {
    "name": "ipython",
    "version": 3
   },
   "file_extension": ".py",
   "mimetype": "text/x-python",
   "name": "python",
   "nbconvert_exporter": "python",
   "pygments_lexer": "ipython3",
   "version": "3.10.11"
  }
 },
 "nbformat": 4,
 "nbformat_minor": 0
}
