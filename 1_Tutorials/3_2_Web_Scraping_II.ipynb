{
 "cells": [
  {
   "cell_type": "markdown",
   "id": "c6378169",
   "metadata": {
    "id": "c6378169"
   },
   "source": [
    "# Web Scraping II\n",
    "\n",
    "### Important:  use Jupyter instead of Colab today!!\n",
    "\n",
    "In last week's tutorial, we learned how to automatically retrieve pages from the internet through **web scraping**. We sent HTTP requests with the  ``requests`` library and used the ``BeautifulSoup`` library to parse and work with the HTML code from the response we got. This is a good start and works well for so-called **static** pages, but when scraping **dynamic** websites that use JavaScript in the background, you will notice that this approach often fails. Today, we will learn how to deal with this problem."
   ]
  },
  {
   "cell_type": "markdown",
   "id": "dd74906f",
   "metadata": {
    "id": "dd74906f"
   },
   "source": [
    "## Scraping dynamic websites and its problems (an example which is not working any longer)\n",
    "\n",
    "Imagine you want to scrape all currently listed open positions of \"data scientist\" in Bern.\n",
    "\n",
    "Let's have a look at the output in a browser: https://ch.indeed.com/jobs?q=data+analyst&l=Bern%2C+BE\n",
    "\n",
    "We could load the website with ``requests`` and extract the parts that we want using ``BeautifulSoup``:"
   ]
  },
  {
   "cell_type": "code",
   "execution_count": 30,
   "id": "498677f1",
   "metadata": {
    "id": "498677f1",
    "scrolled": true
   },
   "outputs": [
    {
     "data": {
      "text/plain": [
       "[<p>You have been blocked. If you believe this in error, please go to support.indeed.com and reference the following information:</p>,\n",
       " <p>Your Ray ID for this request is <span style=\"font-style:italic\">93761be29adc6aa1</span></p>,\n",
       " <p>Your current IP for this request is <span style=\"font-style:italic\">130.92.232.189</span></p>,\n",
       " <p><a href=\"https://support.indeed.com/hc/en-us/articles/33465379855501-Troubleshooting-Cloudflare-Errors\">Troubleshooting Cloudflare Errors</a></p>,\n",
       " <p>Need more help? <a href=\"https://www.indeed.com/support/contact\">Contact us</a></p>]"
      ]
     },
     "execution_count": 30,
     "metadata": {},
     "output_type": "execute_result"
    }
   ],
   "source": [
    "import requests\n",
    "from bs4 import BeautifulSoup\n",
    "\n",
    "res = requests.get(\"https://ch.indeed.com/jobs?q=data+analyst&l=Bern%2C+BE\")\n",
    "res.text\n",
    "\n",
    "# information sits in <li> elements of class=\"jobTitle\", but there might be other ways to get to it too...\n",
    "soup = BeautifulSoup(res.text)\n",
    "soup\n",
    "soup.find_all(\"p\")"
   ]
  },
  {
   "cell_type": "markdown",
   "id": "bc983825",
   "metadata": {
    "id": "bc983825"
   },
   "source": [
    "That looks bad. The webserver recognises that we are not a regular user entering normally through a browser. What could we do from here?"
   ]
  },
  {
   "cell_type": "code",
   "execution_count": 31,
   "id": "7821a216",
   "metadata": {
    "id": "7821a216",
    "scrolled": false
   },
   "outputs": [
    {
     "data": {
      "text/plain": [
       "[<p>You have been blocked. If you believe this in error, please go to support.indeed.com and reference the following information:</p>,\n",
       " <p>Your Ray ID for this request is <span style=\"font-style:italic\">93761be29adc6aa1</span></p>,\n",
       " <p>Your current IP for this request is <span style=\"font-style:italic\">130.92.232.189</span></p>,\n",
       " <p><a href=\"https://support.indeed.com/hc/en-us/articles/33465379855501-Troubleshooting-Cloudflare-Errors\">Troubleshooting Cloudflare Errors</a></p>,\n",
       " <p>Need more help? <a href=\"https://www.indeed.com/support/contact\">Contact us</a></p>]"
      ]
     },
     "execution_count": 31,
     "metadata": {},
     "output_type": "execute_result"
    }
   ],
   "source": [
    "url = 'https://ch.indeed.com/jobs?q=data+analyst&l=Bern%2C+BE'\n",
    "\n",
    "headers = {\n",
    "    'User-Agent': 'Mozilla/5.0 (Windows NT 10.0; Win64; x64) AppleWebKit/537.36 (KHTML, like Gecko) Chrome/58.0.3029.110 Safari/537.36'\n",
    "}\n",
    "\n",
    "response = requests.get(url, headers=headers)\n",
    "soup = BeautifulSoup(res.text)\n",
    "\n",
    "soup.find_all(\"p\")"
   ]
  },
  {
   "cell_type": "markdown",
   "id": "4e2d5f82",
   "metadata": {
    "id": "4e2d5f82"
   },
   "source": [
    "Still not working. What is going on here? If the html source code you retrieve from a page does not correspond to what you see when viewing this page in your browser, you are probably dealing with a **dynamic web page**. Typically, this means that some JavaScript code is executed in the background to \"create\" the source code of the final page you see. When you scrape a dynamic page with the requests library, you will not get the final html code, but often an incomplete version where you might only see the instructions to run the JavaScript files. Some web pages also use dynamic features to actively prevent web scraping. You might then get an error message like the one in the example above. There is another Python package we can use to address such problems."
   ]
  },
  {
   "cell_type": "markdown",
   "id": "e323dea8",
   "metadata": {
    "id": "e323dea8"
   },
   "source": [
    "## Selenium\n",
    "\n",
    "``selenium`` is a Java based software that enables you to automate browsers (e.g. Chrome, Firefox etc.). You can think of it as an interface that allows you to control what your browser does through code. It was developed for automated website-testing, but is also very useful for scraping web pages, especially those that require JavaScript rendering. It can automate web browsing and interactions, like clicking buttons or filling out forms, and supports a wide range of browsers, including Firefox, Chrome, and Edge. Selenium can be used in multiple programming languages including Python. However, it might require an installation of browser drivers as well as Java and can sometimes be a bit tedious to set up.\n",
    "\n",
    "Let's start by installing the ``selenium`` Python package.\n",
    "\n",
    "**Note that you cannot use ``selenium`` from within Colab as the Python instance is running in the cloud where no browser is available. Copy the notbook of this tutorial to your local machine and run the code in, e.g., Jupyter Notebook.**"
   ]
  },
  {
   "cell_type": "code",
   "execution_count": 32,
   "id": "52a6f130",
   "metadata": {
    "id": "52a6f130"
   },
   "outputs": [
    {
     "name": "stdout",
     "output_type": "stream",
     "text": [
      "Requirement already satisfied: selenium in c:\\users\\raphael\\appdata\\local\\packages\\pythonsoftwarefoundation.python.3.10_qbz5n2kfra8p0\\localcache\\local-packages\\python310\\site-packages (4.31.0)\n",
      "Requirement already satisfied: urllib3<3,>=1.26 in c:\\users\\raphael\\appdata\\local\\packages\\pythonsoftwarefoundation.python.3.10_qbz5n2kfra8p0\\localcache\\local-packages\\python310\\site-packages (from urllib3[socks]<3,>=1.26->selenium) (2.3.0)\n",
      "Requirement already satisfied: trio~=0.17 in c:\\users\\raphael\\appdata\\local\\packages\\pythonsoftwarefoundation.python.3.10_qbz5n2kfra8p0\\localcache\\local-packages\\python310\\site-packages (from selenium) (0.30.0)\n",
      "Requirement already satisfied: trio-websocket~=0.9 in c:\\users\\raphael\\appdata\\local\\packages\\pythonsoftwarefoundation.python.3.10_qbz5n2kfra8p0\\localcache\\local-packages\\python310\\site-packages (from selenium) (0.12.2)\n",
      "Requirement already satisfied: certifi>=2021.10.8 in c:\\users\\raphael\\appdata\\local\\packages\\pythonsoftwarefoundation.python.3.10_qbz5n2kfra8p0\\localcache\\local-packages\\python310\\site-packages (from selenium) (2025.1.31)\n",
      "Requirement already satisfied: typing_extensions~=4.9 in c:\\users\\raphael\\appdata\\local\\packages\\pythonsoftwarefoundation.python.3.10_qbz5n2kfra8p0\\localcache\\local-packages\\python310\\site-packages (from selenium) (4.13.1)\n",
      "Requirement already satisfied: websocket-client~=1.8 in c:\\users\\raphael\\appdata\\local\\packages\\pythonsoftwarefoundation.python.3.10_qbz5n2kfra8p0\\localcache\\local-packages\\python310\\site-packages (from selenium) (1.8.0)\n",
      "Requirement already satisfied: attrs>=23.2.0 in c:\\users\\raphael\\appdata\\local\\packages\\pythonsoftwarefoundation.python.3.10_qbz5n2kfra8p0\\localcache\\local-packages\\python310\\site-packages (from trio~=0.17->selenium) (25.3.0)\n",
      "Requirement already satisfied: sortedcontainers in c:\\users\\raphael\\appdata\\local\\packages\\pythonsoftwarefoundation.python.3.10_qbz5n2kfra8p0\\localcache\\local-packages\\python310\\site-packages (from trio~=0.17->selenium) (2.4.0)\n",
      "Requirement already satisfied: idna in c:\\users\\raphael\\appdata\\local\\packages\\pythonsoftwarefoundation.python.3.10_qbz5n2kfra8p0\\localcache\\local-packages\\python310\\site-packages (from trio~=0.17->selenium) (3.10)\n",
      "Requirement already satisfied: outcome in c:\\users\\raphael\\appdata\\local\\packages\\pythonsoftwarefoundation.python.3.10_qbz5n2kfra8p0\\localcache\\local-packages\\python310\\site-packages (from trio~=0.17->selenium) (1.3.0.post0)\n",
      "Requirement already satisfied: sniffio>=1.3.0 in c:\\users\\raphael\\appdata\\local\\packages\\pythonsoftwarefoundation.python.3.10_qbz5n2kfra8p0\\localcache\\local-packages\\python310\\site-packages (from trio~=0.17->selenium) (1.3.1)\n",
      "Requirement already satisfied: cffi>=1.14 in c:\\users\\raphael\\appdata\\local\\packages\\pythonsoftwarefoundation.python.3.10_qbz5n2kfra8p0\\localcache\\local-packages\\python310\\site-packages (from trio~=0.17->selenium) (1.17.1)\n",
      "Requirement already satisfied: exceptiongroup in c:\\users\\raphael\\appdata\\local\\packages\\pythonsoftwarefoundation.python.3.10_qbz5n2kfra8p0\\localcache\\local-packages\\python310\\site-packages (from trio~=0.17->selenium) (1.2.0)\n",
      "Requirement already satisfied: wsproto>=0.14 in c:\\users\\raphael\\appdata\\local\\packages\\pythonsoftwarefoundation.python.3.10_qbz5n2kfra8p0\\localcache\\local-packages\\python310\\site-packages (from trio-websocket~=0.9->selenium) (1.2.0)\n",
      "Requirement already satisfied: pysocks!=1.5.7,<2.0,>=1.5.6 in c:\\users\\raphael\\appdata\\local\\packages\\pythonsoftwarefoundation.python.3.10_qbz5n2kfra8p0\\localcache\\local-packages\\python310\\site-packages (from urllib3[socks]<3,>=1.26->selenium) (1.7.1)\n",
      "Requirement already satisfied: pycparser in c:\\users\\raphael\\appdata\\local\\packages\\pythonsoftwarefoundation.python.3.10_qbz5n2kfra8p0\\localcache\\local-packages\\python310\\site-packages (from cffi>=1.14->trio~=0.17->selenium) (2.22)\n",
      "Requirement already satisfied: h11<1,>=0.9.0 in c:\\users\\raphael\\appdata\\local\\packages\\pythonsoftwarefoundation.python.3.10_qbz5n2kfra8p0\\localcache\\local-packages\\python310\\site-packages (from wsproto>=0.14->trio-websocket~=0.9->selenium) (0.16.0)\n"
     ]
    },
    {
     "name": "stderr",
     "output_type": "stream",
     "text": [
      "\n",
      "[notice] A new release of pip is available: 25.0.1 -> 25.1\n",
      "[notice] To update, run: C:\\Users\\Raphael\\AppData\\Local\\Microsoft\\WindowsApps\\PythonSoftwareFoundation.Python.3.10_qbz5n2kfra8p0\\python.exe -m pip install --upgrade pip\n"
     ]
    },
    {
     "name": "stdout",
     "output_type": "stream",
     "text": [
      "Found existing installation: webdriver-manager 4.0.2\n",
      "Uninstalling webdriver-manager-4.0.2:\n",
      "  Successfully uninstalled webdriver-manager-4.0.2\n",
      "Collecting webdriver-manager\n",
      "  Using cached webdriver_manager-4.0.2-py2.py3-none-any.whl.metadata (12 kB)\n",
      "Requirement already satisfied: requests in c:\\users\\raphael\\appdata\\local\\packages\\pythonsoftwarefoundation.python.3.10_qbz5n2kfra8p0\\localcache\\local-packages\\python310\\site-packages (from webdriver-manager) (2.32.3)\n",
      "Requirement already satisfied: python-dotenv in c:\\users\\raphael\\appdata\\local\\packages\\pythonsoftwarefoundation.python.3.10_qbz5n2kfra8p0\\localcache\\local-packages\\python310\\site-packages (from webdriver-manager) (1.0.1)\n",
      "Requirement already satisfied: packaging in c:\\users\\raphael\\appdata\\local\\packages\\pythonsoftwarefoundation.python.3.10_qbz5n2kfra8p0\\localcache\\local-packages\\python310\\site-packages (from webdriver-manager) (23.2)\n",
      "Requirement already satisfied: charset-normalizer<4,>=2 in c:\\users\\raphael\\appdata\\local\\packages\\pythonsoftwarefoundation.python.3.10_qbz5n2kfra8p0\\localcache\\local-packages\\python310\\site-packages (from requests->webdriver-manager) (3.4.1)\n",
      "Requirement already satisfied: idna<4,>=2.5 in c:\\users\\raphael\\appdata\\local\\packages\\pythonsoftwarefoundation.python.3.10_qbz5n2kfra8p0\\localcache\\local-packages\\python310\\site-packages (from requests->webdriver-manager) (3.10)\n",
      "Requirement already satisfied: urllib3<3,>=1.21.1 in c:\\users\\raphael\\appdata\\local\\packages\\pythonsoftwarefoundation.python.3.10_qbz5n2kfra8p0\\localcache\\local-packages\\python310\\site-packages (from requests->webdriver-manager) (2.3.0)\n",
      "Requirement already satisfied: certifi>=2017.4.17 in c:\\users\\raphael\\appdata\\local\\packages\\pythonsoftwarefoundation.python.3.10_qbz5n2kfra8p0\\localcache\\local-packages\\python310\\site-packages (from requests->webdriver-manager) (2025.1.31)\n",
      "Using cached webdriver_manager-4.0.2-py2.py3-none-any.whl (27 kB)\n",
      "Installing collected packages: webdriver-manager\n",
      "Successfully installed webdriver-manager-4.0.2\n"
     ]
    },
    {
     "name": "stderr",
     "output_type": "stream",
     "text": [
      "\n",
      "[notice] A new release of pip is available: 25.0.1 -> 25.1\n",
      "[notice] To update, run: C:\\Users\\Raphael\\AppData\\Local\\Microsoft\\WindowsApps\\PythonSoftwareFoundation.Python.3.10_qbz5n2kfra8p0\\python.exe -m pip install --upgrade pip\n"
     ]
    }
   ],
   "source": [
    "# Selenium can be installed via pip\n",
    "!pip install selenium\n",
    "!pip uninstall webdriver-manager -y\n",
    "!pip install webdriver-manager"
   ]
  },
  {
   "cell_type": "markdown",
   "id": "9677efbe",
   "metadata": {
    "id": "9677efbe"
   },
   "source": [
    "Selenium requires a driver (e.g. chromedriver) to communicate with your favorite browser (e.g. chrome). In the newest version of the selenium module, webdrivers for different browsers should be installed automatically. If this is not the case, you can install them manually.\n",
    "\n",
    "**A list of available drivers:**\n",
    "\n",
    "* Chrome:\n",
    " - https://chromedriver.chromium.org/downloads\n",
    "\n",
    "* Edge:\n",
    " - https://developer.microsoft.com/en-us/microsoft-edge/tools/webdriver/\n",
    "\n",
    "* Firefox:\n",
    " - https://github.com/mozilla/geckodriver/releases\n",
    "\n",
    "* Safari:\n",
    " - https://webkit.org/blog/6900/webdriver-support-in-safari-10/\n",
    "\n",
    "If the code below not work, make sure you have an appropriate driver (matching version) installed and that the driver is accessible, i.e. it is located in your ``PATH`` environment. If you want to know where the selenium package was stored on your computer, you can import it and then type ``print(selenium.__file__)``.\n",
    "\n",
    "You can read up setup instructions here: https://pypi.org/project/selenium/\n",
    "\n",
    "Let's try to import the webdriver, initialize it and got to 'https://ch.indeed.com' (i.e. send a get request).  \n"
   ]
  },
  {
   "cell_type": "code",
   "execution_count": 33,
   "id": "11bc1f42",
   "metadata": {
    "id": "11bc1f42"
   },
   "outputs": [],
   "source": [
    "from selenium import webdriver\n",
    "from selenium.webdriver.chrome.service import Service as ChromeService # Renamed Service to avoid conflict\n",
    "from webdriver_manager.chrome import ChromeDriverManager\n",
    "\n",
    "# Automatically download and manage ChromeDriver\n",
    "# The Service object will use the path provided by ChromeDriverManager\n",
    "service = ChromeService(executable_path=ChromeDriverManager().install())\n",
    "\n",
    "# Pass the service object when creating the driver instance\n",
    "browser = webdriver.Chrome(service=service)\n",
    "\n",
    "browser.get('https://ch.indeed.com')\n"
   ]
  },
  {
   "cell_type": "code",
   "execution_count": 34,
   "id": "c9881d41",
   "metadata": {},
   "outputs": [],
   "source": [
    "service = ChromeService(executable_path=ChromeDriverManager().install())\n",
    "\n",
    "# Pass the service object when creating the driver instance\n",
    "browser = webdriver.Chrome(service=service)\n",
    "\n",
    "browser.get('https://youtube.com')"
   ]
  },
  {
   "cell_type": "markdown",
   "id": "bb65d4d5",
   "metadata": {
    "id": "bb65d4d5"
   },
   "source": [
    "This opens your preferred browser. With selenium you can now take control of what the browser does, e.g.\n",
    "* fill in textfields,\n",
    "* click on elements,\n",
    "* scroll,\n",
    "* etc.\n"
   ]
  },
  {
   "cell_type": "markdown",
   "id": "ee258d7e",
   "metadata": {
    "id": "ee258d7e"
   },
   "source": [
    "><font color = ffffff> SIDENOTE: If the version of the driver and the version of your browser do not match, you will get an error. One way to address it is by using selenium's ``webdriver_manager``, which allows you to automatically install the driver version that corresponds to your browser (and also bypasses problems regarding the PATH environment):\n",
    ">```python  \n",
    "!pip install webdriver_manager\n",
    "from selenium import webdriver\n",
    "from webdriver_manager.chrome import ChromeDriverManager\n",
    "browser = webdriver.Chrome(ChromeDriverManager().install())\n",
    "```"
   ]
  },
  {
   "cell_type": "markdown",
   "id": "36aa733d",
   "metadata": {
    "id": "36aa733d"
   },
   "source": [
    "### Filling in text fields\n",
    "\n",
    "Now that we have a browser window running that is controlled by our Python code, selenium allows us to do many different things (see here for all available methods: https://www.simplilearn.com/tutorials/python-tutorial/selenium-with-python). For example, we could send keystrokes to the searchbar.\n",
    "\n",
    "We want to search for positions for data analysts. First, we need to locate the search fields. This can be done using the ``find_element`` method. It allows us to find matching elements on a website based on locator values such as the tage name, (ByTAG_NAME), id (By.ID), the class (By.Class), css selectors (By.CSS) and much more. If we inspect the source code of the page, we will see that the id of the tag containing the \"What\" field (for the job title) is \"text-input-what\" while the one for the \"Where\" field is 'text-input-where'. Let's start by locating the \"What\" field:"
   ]
  },
  {
   "cell_type": "code",
   "execution_count": 35,
   "id": "bfbbae74",
   "metadata": {
    "id": "bfbbae74"
   },
   "outputs": [],
   "source": [
    "from selenium.webdriver.common.by import By # To find elements\n",
    "from selenium.webdriver.common.keys import Keys # For special keys (Enter, delete, down etc.)"
   ]
  },
  {
   "cell_type": "code",
   "execution_count": 36,
   "id": "bwkA6JYhP1S5",
   "metadata": {
    "id": "bwkA6JYhP1S5"
   },
   "outputs": [
    {
     "ename": "NoSuchWindowException",
     "evalue": "Message: no such window: target window already closed\nfrom unknown error: web view not found\n  (Session info: chrome=135.0.7049.115)\nStacktrace:\n\tGetHandleVerifier [0x0114D363+60275]\n\tGetHandleVerifier [0x0114D3A4+60340]\n\t(No symbol) [0x00F806F3]\n\t(No symbol) [0x00F5FBEE]\n\t(No symbol) [0x00FF3BDE]\n\t(No symbol) [0x0100DFE9]\n\t(No symbol) [0x00FECE86]\n\t(No symbol) [0x00FBC623]\n\t(No symbol) [0x00FBD474]\n\tGetHandleVerifier [0x01398FE3+2467827]\n\tGetHandleVerifier [0x013945E6+2448886]\n\tGetHandleVerifier [0x013AF80C+2560028]\n\tGetHandleVerifier [0x01163DF5+153093]\n\tGetHandleVerifier [0x0116A3BD+179149]\n\tGetHandleVerifier [0x01154BB8+91080]\n\tGetHandleVerifier [0x01154D60+91504]\n\tGetHandleVerifier [0x0113FA10+4640]\n\tBaseThreadInitThunk [0x76A05D49+25]\n\tRtlInitializeExceptionChain [0x770ACF0B+107]\n\tRtlGetAppContainerNamedObjectPath [0x770ACE91+561]\n",
     "output_type": "error",
     "traceback": [
      "\u001b[1;31m---------------------------------------------------------------------------\u001b[0m",
      "\u001b[1;31mNoSuchWindowException\u001b[0m                     Traceback (most recent call last)",
      "Cell \u001b[1;32mIn[36], line 1\u001b[0m\n\u001b[1;32m----> 1\u001b[0m elem \u001b[38;5;241m=\u001b[39m \u001b[43mbrowser\u001b[49m\u001b[38;5;241;43m.\u001b[39;49m\u001b[43mfind_element\u001b[49m\u001b[43m(\u001b[49m\u001b[43mBy\u001b[49m\u001b[38;5;241;43m.\u001b[39;49m\u001b[43mID\u001b[49m\u001b[43m,\u001b[49m\u001b[43m \u001b[49m\u001b[38;5;124;43m'\u001b[39;49m\u001b[38;5;124;43mtext-input-what\u001b[39;49m\u001b[38;5;124;43m'\u001b[39;49m\u001b[43m)\u001b[49m \u001b[38;5;66;03m# Find element\u001b[39;00m\n",
      "File \u001b[1;32m~\\AppData\\Local\\Packages\\PythonSoftwareFoundation.Python.3.10_qbz5n2kfra8p0\\LocalCache\\local-packages\\Python310\\site-packages\\selenium\\webdriver\\remote\\webdriver.py:898\u001b[0m, in \u001b[0;36mWebDriver.find_element\u001b[1;34m(self, by, value)\u001b[0m\n\u001b[0;32m    895\u001b[0m         \u001b[38;5;28;01mraise\u001b[39;00m NoSuchElementException(\u001b[38;5;124mf\u001b[39m\u001b[38;5;124m\"\u001b[39m\u001b[38;5;124mCannot locate relative element with: \u001b[39m\u001b[38;5;132;01m{\u001b[39;00mby\u001b[38;5;241m.\u001b[39mroot\u001b[38;5;132;01m}\u001b[39;00m\u001b[38;5;124m\"\u001b[39m)\n\u001b[0;32m    896\u001b[0m     \u001b[38;5;28;01mreturn\u001b[39;00m elements[\u001b[38;5;241m0\u001b[39m]\n\u001b[1;32m--> 898\u001b[0m \u001b[38;5;28;01mreturn\u001b[39;00m \u001b[38;5;28;43mself\u001b[39;49m\u001b[38;5;241;43m.\u001b[39;49m\u001b[43mexecute\u001b[49m\u001b[43m(\u001b[49m\u001b[43mCommand\u001b[49m\u001b[38;5;241;43m.\u001b[39;49m\u001b[43mFIND_ELEMENT\u001b[49m\u001b[43m,\u001b[49m\u001b[43m \u001b[49m\u001b[43m{\u001b[49m\u001b[38;5;124;43m\"\u001b[39;49m\u001b[38;5;124;43musing\u001b[39;49m\u001b[38;5;124;43m\"\u001b[39;49m\u001b[43m:\u001b[49m\u001b[43m \u001b[49m\u001b[43mby\u001b[49m\u001b[43m,\u001b[49m\u001b[43m \u001b[49m\u001b[38;5;124;43m\"\u001b[39;49m\u001b[38;5;124;43mvalue\u001b[39;49m\u001b[38;5;124;43m\"\u001b[39;49m\u001b[43m:\u001b[49m\u001b[43m \u001b[49m\u001b[43mvalue\u001b[49m\u001b[43m}\u001b[49m\u001b[43m)\u001b[49m[\u001b[38;5;124m\"\u001b[39m\u001b[38;5;124mvalue\u001b[39m\u001b[38;5;124m\"\u001b[39m]\n",
      "File \u001b[1;32m~\\AppData\\Local\\Packages\\PythonSoftwareFoundation.Python.3.10_qbz5n2kfra8p0\\LocalCache\\local-packages\\Python310\\site-packages\\selenium\\webdriver\\remote\\webdriver.py:429\u001b[0m, in \u001b[0;36mWebDriver.execute\u001b[1;34m(self, driver_command, params)\u001b[0m\n\u001b[0;32m    427\u001b[0m response \u001b[38;5;241m=\u001b[39m \u001b[38;5;28mself\u001b[39m\u001b[38;5;241m.\u001b[39mcommand_executor\u001b[38;5;241m.\u001b[39mexecute(driver_command, params)\n\u001b[0;32m    428\u001b[0m \u001b[38;5;28;01mif\u001b[39;00m response:\n\u001b[1;32m--> 429\u001b[0m     \u001b[38;5;28;43mself\u001b[39;49m\u001b[38;5;241;43m.\u001b[39;49m\u001b[43merror_handler\u001b[49m\u001b[38;5;241;43m.\u001b[39;49m\u001b[43mcheck_response\u001b[49m\u001b[43m(\u001b[49m\u001b[43mresponse\u001b[49m\u001b[43m)\u001b[49m\n\u001b[0;32m    430\u001b[0m     response[\u001b[38;5;124m\"\u001b[39m\u001b[38;5;124mvalue\u001b[39m\u001b[38;5;124m\"\u001b[39m] \u001b[38;5;241m=\u001b[39m \u001b[38;5;28mself\u001b[39m\u001b[38;5;241m.\u001b[39m_unwrap_value(response\u001b[38;5;241m.\u001b[39mget(\u001b[38;5;124m\"\u001b[39m\u001b[38;5;124mvalue\u001b[39m\u001b[38;5;124m\"\u001b[39m, \u001b[38;5;28;01mNone\u001b[39;00m))\n\u001b[0;32m    431\u001b[0m     \u001b[38;5;28;01mreturn\u001b[39;00m response\n",
      "File \u001b[1;32m~\\AppData\\Local\\Packages\\PythonSoftwareFoundation.Python.3.10_qbz5n2kfra8p0\\LocalCache\\local-packages\\Python310\\site-packages\\selenium\\webdriver\\remote\\errorhandler.py:232\u001b[0m, in \u001b[0;36mErrorHandler.check_response\u001b[1;34m(self, response)\u001b[0m\n\u001b[0;32m    230\u001b[0m         alert_text \u001b[38;5;241m=\u001b[39m value[\u001b[38;5;124m\"\u001b[39m\u001b[38;5;124malert\u001b[39m\u001b[38;5;124m\"\u001b[39m]\u001b[38;5;241m.\u001b[39mget(\u001b[38;5;124m\"\u001b[39m\u001b[38;5;124mtext\u001b[39m\u001b[38;5;124m\"\u001b[39m)\n\u001b[0;32m    231\u001b[0m     \u001b[38;5;28;01mraise\u001b[39;00m exception_class(message, screen, stacktrace, alert_text)  \u001b[38;5;66;03m# type: ignore[call-arg]  # mypy is not smart enough here\u001b[39;00m\n\u001b[1;32m--> 232\u001b[0m \u001b[38;5;28;01mraise\u001b[39;00m exception_class(message, screen, stacktrace)\n",
      "\u001b[1;31mNoSuchWindowException\u001b[0m: Message: no such window: target window already closed\nfrom unknown error: web view not found\n  (Session info: chrome=135.0.7049.115)\nStacktrace:\n\tGetHandleVerifier [0x0114D363+60275]\n\tGetHandleVerifier [0x0114D3A4+60340]\n\t(No symbol) [0x00F806F3]\n\t(No symbol) [0x00F5FBEE]\n\t(No symbol) [0x00FF3BDE]\n\t(No symbol) [0x0100DFE9]\n\t(No symbol) [0x00FECE86]\n\t(No symbol) [0x00FBC623]\n\t(No symbol) [0x00FBD474]\n\tGetHandleVerifier [0x01398FE3+2467827]\n\tGetHandleVerifier [0x013945E6+2448886]\n\tGetHandleVerifier [0x013AF80C+2560028]\n\tGetHandleVerifier [0x01163DF5+153093]\n\tGetHandleVerifier [0x0116A3BD+179149]\n\tGetHandleVerifier [0x01154BB8+91080]\n\tGetHandleVerifier [0x01154D60+91504]\n\tGetHandleVerifier [0x0113FA10+4640]\n\tBaseThreadInitThunk [0x76A05D49+25]\n\tRtlInitializeExceptionChain [0x770ACF0B+107]\n\tRtlGetAppContainerNamedObjectPath [0x770ACE91+561]\n"
     ]
    }
   ],
   "source": [
    "elem = browser.find_element(By.ID, 'text-input-what') # Find element"
   ]
  },
  {
   "cell_type": "markdown",
   "id": "43864e63",
   "metadata": {
    "id": "43864e63"
   },
   "source": [
    "Now we can send the keytrokes to the selected field:"
   ]
  },
  {
   "cell_type": "code",
   "execution_count": null,
   "id": "4fde9692",
   "metadata": {
    "id": "4fde9692"
   },
   "outputs": [],
   "source": [
    "elem.send_keys('data analyst') # enter search query for \"data analyst\""
   ]
  },
  {
   "cell_type": "markdown",
   "id": "ed9ec400",
   "metadata": {
    "id": "ed9ec400"
   },
   "source": [
    "Let's limit our search to Bern and hit Enter to get the job openings:"
   ]
  },
  {
   "cell_type": "code",
   "execution_count": null,
   "id": "109f8d71",
   "metadata": {
    "id": "109f8d71"
   },
   "outputs": [],
   "source": [
    "elem = browser.find_element(By.ID, 'text-input-where') # find \"where\" field\n",
    "elem.send_keys('Bern, BE' + Keys.RETURN) # enter \"Bern. BE\" and hit Enter!"
   ]
  },
  {
   "cell_type": "markdown",
   "id": "5cbb235d",
   "metadata": {
    "id": "5cbb235d"
   },
   "source": [
    "As you can see, its really hard to scrape this website as it is protected by cloudflare.\n",
    "\n",
    "We will turn to a different example to demonstrate the capabilities of selenium."
   ]
  },
  {
   "cell_type": "markdown",
   "id": "ffca01ab",
   "metadata": {
    "id": "ffca01ab"
   },
   "source": [
    "---\n",
    "\n",
    "<font color='teal'> **In-class exercise**:\n",
    "Use Jupyter or an IDE (Spyder/pyCharm). Install ``selenium`` and try to start a selenium controlled browser window (Chrome/Firefox/Edge/Safari). If it does not immediately work, don't panic. Depending on your operating system, python version, selenium version, browser version etc. all kind of problems may occur! If it does not quickly work, take your time and try to find the problem after the course. Also note: Load a different website (not indeed.ch), e.g. www.google.ch\n",
    "<font color='teal'> If it does not work after the standard installation of selenium/webdriver, make sure that:\n",
    "\n",
    "* <font color='teal'>Both browser and selenium is the current version (e.g. force an update if you have an old version of selenium)\n",
    "* <font color='teal'>and/or update your browser\n",
    "* <font color='teal'>Depending on version and system you might need to manually install the driver for your browser.\n",
    "* <font color='teal'>If the verions of your driver and your browser don't match, you can use selenium's built-in functionality to install a driver via the ``webdriver_manager`` (see sidenote above).\n"
   ]
  },
  {
   "cell_type": "markdown",
   "id": "3592e46d",
   "metadata": {
    "id": "3592e46d"
   },
   "source": [
    "---\n",
    "## job-room.ch\n",
    "\n",
    "Lets try a different example now which is **job-room.ch** and a bit less restrictive:\n"
   ]
  },
  {
   "cell_type": "code",
   "execution_count": 38,
   "id": "95ccb195",
   "metadata": {
    "id": "95ccb195"
   },
   "outputs": [],
   "source": [
    "service = ChromeService(executable_path=ChromeDriverManager().install())\n",
    "\n",
    "# Pass the service object when creating the driver instance\n",
    "browser = webdriver.Chrome(service=service)\n",
    "browser.get(\"https://www.job-room.ch/home/job-seeker\")"
   ]
  },
  {
   "cell_type": "code",
   "execution_count": 39,
   "id": "95bd3f6f",
   "metadata": {
    "id": "95bd3f6f"
   },
   "outputs": [
    {
     "ename": "NoSuchElementException",
     "evalue": "Message: no such element: Unable to locate element: {\"method\":\"css selector\",\"selector\":\"button.close\"}\n  (Session info: chrome=135.0.7049.115); For documentation on this error, please visit: https://www.selenium.dev/documentation/webdriver/troubleshooting/errors#no-such-element-exception\nStacktrace:\n\tGetHandleVerifier [0x0114D363+60275]\n\tGetHandleVerifier [0x0114D3A4+60340]\n\t(No symbol) [0x00F806F3]\n\t(No symbol) [0x00FC8690]\n\t(No symbol) [0x00FC8A2B]\n\t(No symbol) [0x01010EE2]\n\t(No symbol) [0x00FED0D4]\n\t(No symbol) [0x0100E6EB]\n\t(No symbol) [0x00FECE86]\n\t(No symbol) [0x00FBC623]\n\t(No symbol) [0x00FBD474]\n\tGetHandleVerifier [0x01398FE3+2467827]\n\tGetHandleVerifier [0x013945E6+2448886]\n\tGetHandleVerifier [0x013AF80C+2560028]\n\tGetHandleVerifier [0x01163DF5+153093]\n\tGetHandleVerifier [0x0116A3BD+179149]\n\tGetHandleVerifier [0x01154BB8+91080]\n\tGetHandleVerifier [0x01154D60+91504]\n\tGetHandleVerifier [0x0113FA10+4640]\n\tBaseThreadInitThunk [0x76A05D49+25]\n\tRtlInitializeExceptionChain [0x770ACF0B+107]\n\tRtlGetAppContainerNamedObjectPath [0x770ACE91+561]\n",
     "output_type": "error",
     "traceback": [
      "\u001b[1;31m---------------------------------------------------------------------------\u001b[0m",
      "\u001b[1;31mNoSuchElementException\u001b[0m                    Traceback (most recent call last)",
      "Cell \u001b[1;32mIn[39], line 2\u001b[0m\n\u001b[0;32m      1\u001b[0m \u001b[38;5;66;03m# Close orange message asking employers to register\u001b[39;00m\n\u001b[1;32m----> 2\u001b[0m \u001b[43mbrowser\u001b[49m\u001b[38;5;241;43m.\u001b[39;49m\u001b[43mfind_element\u001b[49m\u001b[43m(\u001b[49m\u001b[43mBy\u001b[49m\u001b[38;5;241;43m.\u001b[39;49m\u001b[43mCSS_SELECTOR\u001b[49m\u001b[43m,\u001b[49m\u001b[43m \u001b[49m\u001b[38;5;124;43m\"\u001b[39;49m\u001b[38;5;124;43mbutton.close\u001b[39;49m\u001b[38;5;124;43m\"\u001b[39;49m\u001b[43m)\u001b[49m\u001b[38;5;241m.\u001b[39mclick()\n",
      "File \u001b[1;32m~\\AppData\\Local\\Packages\\PythonSoftwareFoundation.Python.3.10_qbz5n2kfra8p0\\LocalCache\\local-packages\\Python310\\site-packages\\selenium\\webdriver\\remote\\webdriver.py:898\u001b[0m, in \u001b[0;36mWebDriver.find_element\u001b[1;34m(self, by, value)\u001b[0m\n\u001b[0;32m    895\u001b[0m         \u001b[38;5;28;01mraise\u001b[39;00m NoSuchElementException(\u001b[38;5;124mf\u001b[39m\u001b[38;5;124m\"\u001b[39m\u001b[38;5;124mCannot locate relative element with: \u001b[39m\u001b[38;5;132;01m{\u001b[39;00mby\u001b[38;5;241m.\u001b[39mroot\u001b[38;5;132;01m}\u001b[39;00m\u001b[38;5;124m\"\u001b[39m)\n\u001b[0;32m    896\u001b[0m     \u001b[38;5;28;01mreturn\u001b[39;00m elements[\u001b[38;5;241m0\u001b[39m]\n\u001b[1;32m--> 898\u001b[0m \u001b[38;5;28;01mreturn\u001b[39;00m \u001b[38;5;28;43mself\u001b[39;49m\u001b[38;5;241;43m.\u001b[39;49m\u001b[43mexecute\u001b[49m\u001b[43m(\u001b[49m\u001b[43mCommand\u001b[49m\u001b[38;5;241;43m.\u001b[39;49m\u001b[43mFIND_ELEMENT\u001b[49m\u001b[43m,\u001b[49m\u001b[43m \u001b[49m\u001b[43m{\u001b[49m\u001b[38;5;124;43m\"\u001b[39;49m\u001b[38;5;124;43musing\u001b[39;49m\u001b[38;5;124;43m\"\u001b[39;49m\u001b[43m:\u001b[49m\u001b[43m \u001b[49m\u001b[43mby\u001b[49m\u001b[43m,\u001b[49m\u001b[43m \u001b[49m\u001b[38;5;124;43m\"\u001b[39;49m\u001b[38;5;124;43mvalue\u001b[39;49m\u001b[38;5;124;43m\"\u001b[39;49m\u001b[43m:\u001b[49m\u001b[43m \u001b[49m\u001b[43mvalue\u001b[49m\u001b[43m}\u001b[49m\u001b[43m)\u001b[49m[\u001b[38;5;124m\"\u001b[39m\u001b[38;5;124mvalue\u001b[39m\u001b[38;5;124m\"\u001b[39m]\n",
      "File \u001b[1;32m~\\AppData\\Local\\Packages\\PythonSoftwareFoundation.Python.3.10_qbz5n2kfra8p0\\LocalCache\\local-packages\\Python310\\site-packages\\selenium\\webdriver\\remote\\webdriver.py:429\u001b[0m, in \u001b[0;36mWebDriver.execute\u001b[1;34m(self, driver_command, params)\u001b[0m\n\u001b[0;32m    427\u001b[0m response \u001b[38;5;241m=\u001b[39m \u001b[38;5;28mself\u001b[39m\u001b[38;5;241m.\u001b[39mcommand_executor\u001b[38;5;241m.\u001b[39mexecute(driver_command, params)\n\u001b[0;32m    428\u001b[0m \u001b[38;5;28;01mif\u001b[39;00m response:\n\u001b[1;32m--> 429\u001b[0m     \u001b[38;5;28;43mself\u001b[39;49m\u001b[38;5;241;43m.\u001b[39;49m\u001b[43merror_handler\u001b[49m\u001b[38;5;241;43m.\u001b[39;49m\u001b[43mcheck_response\u001b[49m\u001b[43m(\u001b[49m\u001b[43mresponse\u001b[49m\u001b[43m)\u001b[49m\n\u001b[0;32m    430\u001b[0m     response[\u001b[38;5;124m\"\u001b[39m\u001b[38;5;124mvalue\u001b[39m\u001b[38;5;124m\"\u001b[39m] \u001b[38;5;241m=\u001b[39m \u001b[38;5;28mself\u001b[39m\u001b[38;5;241m.\u001b[39m_unwrap_value(response\u001b[38;5;241m.\u001b[39mget(\u001b[38;5;124m\"\u001b[39m\u001b[38;5;124mvalue\u001b[39m\u001b[38;5;124m\"\u001b[39m, \u001b[38;5;28;01mNone\u001b[39;00m))\n\u001b[0;32m    431\u001b[0m     \u001b[38;5;28;01mreturn\u001b[39;00m response\n",
      "File \u001b[1;32m~\\AppData\\Local\\Packages\\PythonSoftwareFoundation.Python.3.10_qbz5n2kfra8p0\\LocalCache\\local-packages\\Python310\\site-packages\\selenium\\webdriver\\remote\\errorhandler.py:232\u001b[0m, in \u001b[0;36mErrorHandler.check_response\u001b[1;34m(self, response)\u001b[0m\n\u001b[0;32m    230\u001b[0m         alert_text \u001b[38;5;241m=\u001b[39m value[\u001b[38;5;124m\"\u001b[39m\u001b[38;5;124malert\u001b[39m\u001b[38;5;124m\"\u001b[39m]\u001b[38;5;241m.\u001b[39mget(\u001b[38;5;124m\"\u001b[39m\u001b[38;5;124mtext\u001b[39m\u001b[38;5;124m\"\u001b[39m)\n\u001b[0;32m    231\u001b[0m     \u001b[38;5;28;01mraise\u001b[39;00m exception_class(message, screen, stacktrace, alert_text)  \u001b[38;5;66;03m# type: ignore[call-arg]  # mypy is not smart enough here\u001b[39;00m\n\u001b[1;32m--> 232\u001b[0m \u001b[38;5;28;01mraise\u001b[39;00m exception_class(message, screen, stacktrace)\n",
      "\u001b[1;31mNoSuchElementException\u001b[0m: Message: no such element: Unable to locate element: {\"method\":\"css selector\",\"selector\":\"button.close\"}\n  (Session info: chrome=135.0.7049.115); For documentation on this error, please visit: https://www.selenium.dev/documentation/webdriver/troubleshooting/errors#no-such-element-exception\nStacktrace:\n\tGetHandleVerifier [0x0114D363+60275]\n\tGetHandleVerifier [0x0114D3A4+60340]\n\t(No symbol) [0x00F806F3]\n\t(No symbol) [0x00FC8690]\n\t(No symbol) [0x00FC8A2B]\n\t(No symbol) [0x01010EE2]\n\t(No symbol) [0x00FED0D4]\n\t(No symbol) [0x0100E6EB]\n\t(No symbol) [0x00FECE86]\n\t(No symbol) [0x00FBC623]\n\t(No symbol) [0x00FBD474]\n\tGetHandleVerifier [0x01398FE3+2467827]\n\tGetHandleVerifier [0x013945E6+2448886]\n\tGetHandleVerifier [0x013AF80C+2560028]\n\tGetHandleVerifier [0x01163DF5+153093]\n\tGetHandleVerifier [0x0116A3BD+179149]\n\tGetHandleVerifier [0x01154BB8+91080]\n\tGetHandleVerifier [0x01154D60+91504]\n\tGetHandleVerifier [0x0113FA10+4640]\n\tBaseThreadInitThunk [0x76A05D49+25]\n\tRtlInitializeExceptionChain [0x770ACF0B+107]\n\tRtlGetAppContainerNamedObjectPath [0x770ACE91+561]\n"
     ]
    }
   ],
   "source": [
    "# Close orange message asking employers to register\n",
    "browser.find_element(By.CSS_SELECTOR, \"button.close\").click()"
   ]
  },
  {
   "cell_type": "code",
   "execution_count": 40,
   "id": "3b61ab55",
   "metadata": {
    "id": "3b61ab55"
   },
   "outputs": [],
   "source": [
    "# Navigate to the second search field (Skills) and enter Python\n",
    "elem = browser.find_element(By.ID, \"alv-multi-typeahead-portal.job-ad.search.query-panel.occupations.placeholder-0\")\n",
    "elem.send_keys('data scientis')\n",
    "elem.send_keys('t')\n",
    "import time\n",
    "time.sleep(1)\n",
    "elem = browser.find_element(By.ID, \"ngb-typeahead-0-0\")\n",
    "elem.click() # To make black pop-up message about multiple search terms disappear"
   ]
  },
  {
   "cell_type": "code",
   "execution_count": 42,
   "id": "5ce5b595",
   "metadata": {
    "id": "5ce5b595"
   },
   "outputs": [],
   "source": [
    "# Click on search botton\n",
    "elem = browser.find_element(By.CSS_SELECTOR, \"button[type='submit']\")\n",
    "elem.click() # Click on search button"
   ]
  },
  {
   "cell_type": "code",
   "execution_count": 43,
   "id": "df3c6e21",
   "metadata": {
    "id": "df3c6e21"
   },
   "outputs": [],
   "source": [
    "# Fetch source code and parse it with Beautiful soup\n",
    "time.sleep(1)\n",
    "html = browser.page_source\n",
    "soup = BeautifulSoup(html)"
   ]
  },
  {
   "cell_type": "markdown",
   "id": "efbc60fc",
   "metadata": {
    "id": "efbc60fc"
   },
   "source": [
    "### Extracting elements\n",
    "\n",
    "From here we can fetch the pages source code and hand it over to ``BeautifulSoup()``"
   ]
  },
  {
   "cell_type": "code",
   "execution_count": 44,
   "id": "fb5e490f",
   "metadata": {
    "id": "fb5e490f"
   },
   "outputs": [
    {
     "data": {
      "text/plain": [
       "'9'"
      ]
     },
     "execution_count": 44,
     "metadata": {},
     "output_type": "execute_result"
    }
   ],
   "source": [
    "# Print number of jobs\n",
    "soup.select(\"span[data-test='resultCount']\")[0].text"
   ]
  },
  {
   "cell_type": "markdown",
   "id": "b57ae5ec",
   "metadata": {
    "id": "b57ae5ec"
   },
   "source": [
    "Nice, now let's try to extract all the links to the pages on the indiviual jobs and store them in a list. How many links do you get?"
   ]
  },
  {
   "cell_type": "code",
   "execution_count": 45,
   "id": "8c659ade",
   "metadata": {
    "id": "8c659ade"
   },
   "outputs": [
    {
     "name": "stdout",
     "output_type": "stream",
     "text": [
      "['/job-search/f0c4d218-2411-11f0-8c83-b28d11879f6f', '/job-search/fd399a11-087d-11f0-ae8d-82588dc8ab8d', '/job-search/f60a8224-211c-11f0-8c83-b28d11879f6f', '/job-search/a7173234-2046-11f0-8c83-b28d11879f6f', '/job-search/ea731a48-19f1-11f0-9127-8e2c7651dd26', '/job-search/eb604dee-1394-11f0-ae8d-82588dc8ab8d', '/job-search/86af0cf4-1391-11f0-ae8d-82588dc8ab8d', '/job-search/3ce1909a-138c-11f0-ae8d-82588dc8ab8d', '/job-search/7ad83129-fee1-11ef-b3a5-82588dc8ab8d']\n"
     ]
    },
    {
     "data": {
      "text/plain": [
       "9"
      ]
     },
     "execution_count": 45,
     "metadata": {},
     "output_type": "execute_result"
    }
   ],
   "source": [
    "# Solution 1 (with the source code you have already downloaded)\n",
    "links = soup.select(\"a.result-list-item\")\n",
    "urls = [link[\"href\"] for link in links]\n",
    "print(urls)\n",
    "len(urls)"
   ]
  },
  {
   "cell_type": "code",
   "execution_count": 46,
   "id": "5c0340f0",
   "metadata": {
    "id": "5c0340f0"
   },
   "outputs": [
    {
     "name": "stdout",
     "output_type": "stream",
     "text": [
      "['/job-search/f0c4d218-2411-11f0-8c83-b28d11879f6f', '/job-search/fd399a11-087d-11f0-ae8d-82588dc8ab8d', '/job-search/f60a8224-211c-11f0-8c83-b28d11879f6f', '/job-search/a7173234-2046-11f0-8c83-b28d11879f6f', '/job-search/ea731a48-19f1-11f0-9127-8e2c7651dd26', '/job-search/eb604dee-1394-11f0-ae8d-82588dc8ab8d', '/job-search/86af0cf4-1391-11f0-ae8d-82588dc8ab8d', '/job-search/3ce1909a-138c-11f0-ae8d-82588dc8ab8d', '/job-search/7ad83129-fee1-11ef-b3a5-82588dc8ab8d']\n"
     ]
    },
    {
     "data": {
      "text/plain": [
       "9"
      ]
     },
     "execution_count": 46,
     "metadata": {},
     "output_type": "execute_result"
    }
   ],
   "source": [
    "# Solution 2: With selenium in the browser\n",
    "links = browser.find_elements(By.CSS_SELECTOR, \"a[class='d-block result-list-item flex-height position-relative'\")\n",
    "[link.get_attribute(\"href\") for link in links]\n",
    "print(urls)\n",
    "len(urls)"
   ]
  },
  {
   "cell_type": "markdown",
   "id": "95f9b51f",
   "metadata": {
    "id": "95f9b51f"
   },
   "source": [
    "---"
   ]
  },
  {
   "cell_type": "markdown",
   "id": "8ad7f274",
   "metadata": {
    "id": "8ad7f274"
   },
   "source": [
    "We could also extract the job titles from here:"
   ]
  },
  {
   "cell_type": "code",
   "execution_count": 47,
   "id": "20bc2745",
   "metadata": {
    "id": "20bc2745"
   },
   "outputs": [
    {
     "data": {
      "text/plain": [
       "['Hochschulpraktikant:in Data Science',\n",
       " 'Scientist in Battery Modeling & Testing 60-100%',\n",
       " 'Data Manager/in Kantonale Verwaltung',\n",
       " 'Hochschulpraktikantin/-praktikant Data Analytics 80-100 %',\n",
       " 'Data Managerin/ Manager Medizinische Qualitätsprogramme 80-90%',\n",
       " 'Data Analyst – Wealth & Investment Management',\n",
       " 'Data Analyst (f|m|d) (80-100%) - Zurich - Hybrid Work',\n",
       " 'Biotechnology Data Scientist',\n",
       " 'Teamleiter:in Insel Data Platform']"
      ]
     },
     "execution_count": 47,
     "metadata": {},
     "output_type": "execute_result"
    }
   ],
   "source": [
    "job_titles_soup = soup.select(\"a.result-list-item h3\")\n",
    "job_titles = [job.get_text() for job in job_titles_soup]\n",
    "job_titles"
   ]
  },
  {
   "cell_type": "markdown",
   "id": "f2d5dd4a",
   "metadata": {
    "id": "f2d5dd4a"
   },
   "source": [
    "However, a better way might be, to get job-specific information from each of the job-urls directly."
   ]
  },
  {
   "cell_type": "markdown",
   "id": "ca484baf",
   "metadata": {
    "id": "ca484baf"
   },
   "source": [
    "---"
   ]
  },
  {
   "cell_type": "markdown",
   "id": "ba28f652",
   "metadata": {
    "id": "ba28f652"
   },
   "source": [
    "### Crawling through a list of links\n",
    "\n",
    "Let's assume we want to store information on all the jobs we found. Good practice would be to split the process into two steps:\n",
    " 1. Loop through all URLs to fetch and store the html source code\n",
    " 2. Extract the relevant information from the stored files\n",
    "This way you do not need to bother the webserver more than once. This is also important because often you do not know beforehand what you actually need and might end up making an unessearly large number of requests otherwise.\n",
    "\n",
    "Let's start with step 1. To be able to store each html file we need to make sure of a few things:\n",
    "\n",
    " - create a new directory on the file system (where we can store the files)\n",
    " - add the base url in front of the links if they are relative links\n",
    " - think about the filenames to use\n",
    " - use a file handler that saves the pages to the filesystem\n"
   ]
  },
  {
   "cell_type": "markdown",
   "id": "3600db6e",
   "metadata": {
    "id": "3600db6e"
   },
   "source": [
    "><font color = ffffff>SIDENOTE ON FILE HANDLERS: We can use Python's built-in ``open`` function to write to (or read from) different types of files (htlm, txt csv etc.). To create a new file, you must first open it in *write* mode (``w``) using the ``open`` function. Then you can use the *write* method to write into your file:\n",
    ">```python\n",
    "my_file = open('page0.html', 'w')  # Open a (new) file in write (w) mode\n",
    "my_file.write(myString)             # Write to file\n",
    "my_file.close()                     # Close file\n",
    "```"
   ]
  },
  {
   "cell_type": "markdown",
   "id": "9d00758f",
   "metadata": {
    "id": "9d00758f"
   },
   "source": [
    "><font color = ffffff> A more elegant way to do the same looks as follows (closes the file automatically after the ``with`` block):\n",
    ">```python\n",
    "with open('page0.html', 'w') as my_file:\n",
    "  my_file.write(myString)\n",
    "```"
   ]
  },
  {
   "cell_type": "markdown",
   "id": "edfb9b86",
   "metadata": {
    "id": "edfb9b86"
   },
   "source": [
    "So let's change to the directory we created and then loop through all urls. For each job, we will append the url to the base url, fetch the source code and save it to our computer. For simplicity, we will save the files as job0, job1 etc. To get the index in each loop, we can use the ``enumerate()`` function."
   ]
  },
  {
   "cell_type": "code",
   "execution_count": 48,
   "id": "3bc2dad9",
   "metadata": {
    "id": "3bc2dad9",
    "scrolled": true
   },
   "outputs": [
    {
     "name": "stdout",
     "output_type": "stream",
     "text": [
      "Stored page for job 0\n",
      "Stored page for job 1\n",
      "Stored page for job 2\n",
      "Stored page for job 3\n",
      "Stored page for job 4\n",
      "Stored page for job 5\n",
      "Stored page for job 6\n",
      "Stored page for job 7\n",
      "Stored page for job 8\n"
     ]
    }
   ],
   "source": [
    "import os\n",
    "#os.chdir(\"C:/Users/farys/Documents/jobroom\")\n",
    "os.chdir(\"../4_Data/jobroom\") # was created manually before! Use os.mkdir(path) to create a directory from within Python\n",
    "\n",
    "# Loop through all urls\n",
    "for i, url in enumerate(urls):\n",
    "    url = \"https://www.job-room.ch/\" + url # Add base url in front\n",
    "    browser.get(url) # Go to page\n",
    "    time.sleep(1) # maybe optional\n",
    "    with open('job' + str(i) + '.html', 'w', encoding=\"utf-8\") as file: # Open file in write mode\n",
    "        file.write(browser.page_source) # Write source code of each page into file\n",
    "    print(\"Stored page for job \" + str(i))"
   ]
  },
  {
   "cell_type": "markdown",
   "id": "57f75878",
   "metadata": {
    "id": "57f75878"
   },
   "source": [
    "><font color = ffffff> SIDENOTE: The website might realize that you are not a normal user and ask you to verify that you are human. To make your scraper more robust to such problems (and make sure it is less of a burden to the page you are scraping), you could add some sleep time in each iteration. For example, ``time.sleep(10)`` (from the ``time`` module) would tell Python to wait for 10 seconds in each iteration."
   ]
  },
  {
   "cell_type": "markdown",
   "id": "4683e84e",
   "metadata": {
    "id": "4683e84e"
   },
   "source": [
    "\n",
    "### Extracting information from html files\n",
    "Now that we seperately stored the pages about the jobs we can proceed to step 2 and start to work with them. We would like to create a nice pandas dataframe with information on all the jobs we found. Suppose, we are interested in the job title and the employer. Let's define a function that extracts these elements and returns them in a list:"
   ]
  },
  {
   "cell_type": "code",
   "execution_count": 49,
   "id": "42a7eaec",
   "metadata": {
    "id": "42a7eaec",
    "scrolled": true
   },
   "outputs": [],
   "source": [
    "# define a function that extracts the elements we want from the files with source code for each page\n",
    "def getStuff(page):\n",
    "    with open(page, encoding = \"utf-8\") as file:\n",
    "        content = file.read() # Open file in read mode and assign to variable \"content\"\n",
    "\n",
    "    soup = BeautifulSoup(content)\n",
    "\n",
    "    # extract elements we like\n",
    "    title = soup.select(\".job-title\")[0].get_text()\n",
    "    company = soup.select(\".job-company\")[0].get_text()\n",
    "    description = soup.select(\".job-description\")[0].get_text()\n",
    "    return [title, company, description]"
   ]
  },
  {
   "cell_type": "markdown",
   "id": "b6aa3cff",
   "metadata": {
    "id": "b6aa3cff"
   },
   "source": [
    "Now, let's loop through all the html files, apply our function and write everything into a nested list:"
   ]
  },
  {
   "cell_type": "code",
   "execution_count": 50,
   "id": "02e374e3",
   "metadata": {
    "id": "02e374e3"
   },
   "outputs": [
    {
     "data": {
      "text/plain": [
       "['job0.html',\n",
       " 'job1.html',\n",
       " 'job2.html',\n",
       " 'job3.html',\n",
       " 'job4.html',\n",
       " 'job5.html',\n",
       " 'job6.html',\n",
       " 'job7.html',\n",
       " 'job8.html']"
      ]
     },
     "execution_count": 50,
     "metadata": {},
     "output_type": "execute_result"
    }
   ],
   "source": [
    "# Get names of all files\n",
    "pages = os.listdir()\n",
    "pages"
   ]
  },
  {
   "cell_type": "code",
   "execution_count": 51,
   "id": "c0c47c75",
   "metadata": {
    "id": "c0c47c75"
   },
   "outputs": [],
   "source": [
    "with open('job0.html', encoding = \"utf-8\") as file:\n",
    "        content = file.read()\n",
    "\n",
    "soup = BeautifulSoup(content)\n",
    "\n",
    "title = soup.select(\".job-title\")[0].get_text()\n",
    "company = soup.select(\".job-company\")[0].get_text()\n",
    "description = soup.select(\".job-description\")[0].get_text()"
   ]
  },
  {
   "cell_type": "code",
   "execution_count": 53,
   "id": "7f18e730",
   "metadata": {
    "id": "7f18e730"
   },
   "outputs": [
    {
     "data": {
      "text/plain": [
       "[['Hochschulpraktikant:in Data Science',\n",
       "  'Post CH AG',\n",
       "  '80 - 100%, Bern und Homeoffice\\nHast du kürzlich dein Masterstudium abgeschlossen und möchtest in einem 12-monatigen Praktikum im Bereich Data Science durchstarten? Dann bist du bei uns genau richtig! Du bekommst die Möglichkeit, in einem dynamischen Team an spannenden Projekten zu arbeiten und deine Fähigkeiten im Bereich Data Science weiter auszubauen. Mit dir werden Daten zu Insights und Modelle zum Erfolg.\\nDas kannst du bewirken\\n\\nDu sammelst, bereinigst und bereitest Kundendaten auf und führst explorative Analysen durch, um Erkenntnisse für die Segmentierung zu gewinnen.\\nDu entwickelst und bewertest Machine-Learning-Modelle -- beispielsweise zur Kundensegmentierung oder Churn-Vorhersage. Gemeinsam mit dem Kampagnenmanagement arbeitest du zudem an der datenbasierten Optimierung der Leadausspielung.\\nZur wirkungsvollen Darstellung der Analyseergebnisse erstellst du Visualisierungen und Dashboards, du entwickelst neue Reportings in PowerBI und migrierst SAS VA Reports nach PowerBI.\\nDu bringst dich aktiv bei der Operationalisierung und Überwachung von Segmentierungen und Modellen in Produktionsumgebungen ein.\\nZudem unterstützt du die Weiterentwicklung des Planungstools und trägst zur Optimierung der Jahresplanung bei.\\nIm Rahmen der Weiterentwicklung des Customer Data Core (CDC) übernimmst du die Erfassung neuer Anforderungen, testest Datenanbindungen, migrierst SAS-Skripte und dokumentierst die Datenaufbereitungen.\\n\\n\\nDas bringst du mit\\n\\n\\nDu hast einen Master in Wirtschaftsinformatik, Data Science oder einem ähnlichen Studiengang abgeschlossen.\\nDu hast praktische Erfahrung mit Data Science, Python und Scripting, und wenn du auch noch mit SQL und AWS punkten kannst, sind wir noch mehr begeistert.\\nDein systematisches Denkvermögen und deine ausgeprägte Problemlösungsfähigkeit lassen dich auch die komplexesten Fragestellungen einfach lösen.\\nDu packst an und wartest nicht, bis etwas passiert -- mit deiner Eigeninitiative und deinem Organisationstalent treibst du Vorhaben voran.\\nIn einem dynamischen Umfeld fühlst du dich zuhause und trägst mit deiner Teamfähigkeit aktiv zum Erfolg des Teams bei.\\nDu kommunizierst mündlich und schriftlich sehr gut auf Deutsch.\\n\\n\\nDas bieten wir dir\\n\\n\\n6 Wochen Ferien\\nMobiles und flexibles Arbeiten\\nUnterstützung bei Aus- und Weiterbildungen\\nInterne Mobilität\\n\\n\\nKontakt\\nYolanda Ramiro Nieto\\nLeiterin Kompetenz-Center Marktbearbeitung\\n+41 76 772 96 52\\nJobdetails\\nAnstellung\\n80 - 100%\\nPraktikum\\n12 Monate\\nnach Vereinbarung\\nAnstellungsort(e)\\nBern und Homeoffice\\nReferenznummer\\n70694\\nPostbereich\\nDie Schweizerische Post AG\\nPostNetz\\nBei PostNetz entwickeln wir die Zugangspunkte der Post in allen Regionen der Schweiz wirtschaftlich und zukunftsgerichtet weiter, damit unsere Kundinnen und Kunden ihre Geschäfte bequem, flexibel und rund um die Uhr erledigen können. Denn ihre Bedürfnisse stehen im Zentrum unseres Handelns. Gemeinsam mit Dritten schaffen wir neue Lösungen, treiben die Digitalisierung voran, arbeiten mit modernsten Hilfsmitteln und vernetzen uns mit allen internen Bereichen. Weiter übernehmen wir Verantwortung und setzen uns für soziale und ökologische Nachhaltigkeit ein. Bereits heute werden all unsere Filialen mit zertifiziertem Ökostrom betrieben. Wir haben das Ziel, bis 2030 im eigenen Betrieb klimaneutral zu sein.\\n'],\n",
       " ['Scientist in Battery Modeling & Testing 60-100%',\n",
       "  'ABB Schweiz AG',\n",
       "  'Your role and responsibilities\\nIn this role, you will play a key part in advancing ABB’s battery solutions through both theoretical and applied research. You will combine experimental research with modeling the underlying physical phenomena and leveraging state-of-the-art simulations.\\nUtilizing data-driven modeling techniques, you will incorporate machine learning approaches to enhance models with operational data for both stationary and mobility energy storage applications.\\nAs a member of the Energy Storage Group at our ABB Research Center, you will collaborate with cross-functional teams both within and outside the company. Together, we will translate ideas into proof-of-concept demonstrations, serving as the foundation for next-generation energy storage products. Additionally, you will contribute to shaping the team research roadmap and managing research projects.\\nThe work model for the role is: #hybrid\\nYou will be mainly accountable for:\\n\\nDevelop physics-based and data-driven models that integrate field data for battery State-of-X estimation or digital twins.\\nConduct applied research in the area of battery technology.\\nContribute to the design, planning, and execution of experiments.\\nLead research initiatives, contributing to publications and generating intellectual property.\\nCollaborate closely with scientists and engineers from universities and global ABB divisions.\\n\\nQualifications for the role\\nPhD in Physics, Electrical Engineering, or a closely related field. Experience in battery modeling and testing, with exposure to machine learning and data analytics, is a plus.\\nPractical experience in laboratory work, including experimental setups and advanced measurement techniques.\\nStrong collaborative and solution-oriented mindset, with excellent written and spoken communication skills in English. Willingness to learn German.\\nProven networking and relationship-building abilities.\\nBenefits\\nChildcare\\nCanteen\\nEmployee Share Acquisition Plan\\nMore about us\\nOur R&D engineers and scientists develop breakthrough technologies and products that change the way the world works and industries do business. We constantly push the limits of convention, while retaining our focus on delivering solid returns for our customers and shareholders\\nWe value people from different backgrounds. This recruitment is led by Stephan Himmel, Talent Partner ABB Switzerland, Ltd. Could this be your story? Apply today or visit www.abb.com to read more about us and learn about the impact of our solutions across the globe. #MyABBStory\\n'],\n",
       " ['Data Manager/in Kantonale Verwaltung',\n",
       "  'Dienststelle für Statistik',\n",
       "  'Das Amt für Daten und Statistik des Kantons Thurgau erhebt, analysiert und publiziert statistische Daten und informiert über gesellschaftliche und wirtschaftliche Entwicklungen im Kanton Thurgau. Es führt zudem die Koordinationsstelle Open Government Data (OGD) und ist das Kompetenzzentrum Datenmanagement für die Kantonale Verwaltung Thurgau.\\nIm Rahmen der Umsetzung der Strategie Digitale Verwaltung baut die Kantonale Verwaltung Thurgau ein ganzheitliches Datenmanagement auf. Dazu suchen wir per sofort oder nach Vereinbarung Sie als\\n100 %\\nIhre Aufgaben\\nIn dieser anspruchsvollen und neu geschaffenen Position etablieren und koordinieren Sie den Aufbau und Betrieb eines ganzheitlichen Datenmanagements in der Kantonalen Verwaltung Thurgau. Dazu gehören der Aufbau und die Weiterentwicklung einer wirkungsvollen Data Governance, die Einführung und der Betrieb eines verwaltungsweiten Datenkatalogs und die Beratung und Unterstützung der Ämter bei der Umsetzung der Datenstrategie. Sie pflegen die Zusammenarbeit mit verschiedenen Stakeholdern innerhalb und ausserhalb der Kantonalen Verwaltung sowie den zuständigen Stellen beim Bund.\\nIhr Profil\\n\\n\\nHochschul- oder Fachhochschulabschluss mit Bezug zu Datenmanagement oder Data Engineering (oder vergleichbare Ausbildung)\\nMehrjährige Erfahrung und gute Kenntnisse im Bereich Data Governance, Datenarchitektur und Datenmanagement; Verständnis für den gesamten Lebenszyklus von Daten in der Organisation\\nErfahrung in der Leitung anspruchsvoller (Daten-)Projekte\\nSolides Fachwissen zu Data Science, Datenanalyse und Datentechnologien wie Datenbanken oder Data Warehouses\\nKonzeptionelles, vernetztes und analytisches Denken und Handeln, Organisationstalent\\nKommunikative, initiative und dienstleistungsorientierte Persönlichkeit\\n\\n\\nWir bieten\\nWenn Daten Sie ebenso begeistern wie uns und es Ihnen Freude bereitet, zur Nutzung des Potentials von Daten beizutragen, sind Sie bei uns richtig.\\nBei uns erwarten Sie eine spannende Tätigkeit mit der Möglichkeit, das Datenmanagement der Kantonalen Verwaltung Thurgau wesentlich mitzugestalten, ein motiviertes Team, attraktive Anstellungsbedingungen und ein Arbeitsplatz mitten in Frauenfeld\\nWeitere Auskünfte erteilt Ihnen gerne\\nUlrike Baldenweg, Leiterin Amt für Daten und Statistik, T 058 345 53 61\\nHaben wir Ihr Interesse geweckt? Dann freuen wir uns auf Ihre Onlinebewerbung.\\n'],\n",
       " ['Hochschulpraktikantin/-praktikant Data Analytics 80-100 %',\n",
       "  'Kanton Aargau',\n",
       "  'Hochschulpraktikantin/-praktikant Data Analytics 80-100 %\\nAarau\\nper 1. September 2025 oder nach Vereinbarung\\nBefristet für 1 Jahr\\nHomeoffice möglich\\nSpannende Aufgaben warten:\\n\\n\\nAufbereitung und Analyse von Daten mit der Programmiersprache R\\nBeiträge zur Beurteilung der wirtschaftlichen und sozialen Situation der Aargauer Bevölkerung (z. B. Haushaltseinkommen, Erwerbstätigkeit von Eltern, Wohnsituation)\\nEntwicklung neuer Produkte für die kantonale Statistik\\nMitarbeit in einem engagierten, interdisziplinären und hilfsbereiten Team\\nAustausch mit anderen Fachstellen auf kantonaler und nationaler Ebene\\n\\n\\nWas Sie mitbringen:\\n\\n\\nFreude am selbständigen Arbeiten sowie eine starke Teamfähigkeit\\n(Fach-)Hochschulabschluss vorzugsweise auf Stufe Master (Wirtschaftswissenschaften, Sozialwissenschaften o.ä.)\\nGute Kenntnisse der Programmiersprache R\\nErfahrungen im Datenmanagement und der Datenanalyse\\nKenntnisse des Sozialversicherungswesens und des Sozialhilfesystems von Vorteil\\n\\n\\nIhr Arbeitsumfeld\\nAls kantonales Amt für Statistik stellen wir statistische Informationen für die Bevölkerung, Verwaltung und den Bund bereit. Mit analytischen Methoden sowie innovativen Technologien entwickeln wir unsere Prozesse und Produkte stetig weiter. Wir sind eine moderne Expertenorganisation, die ihr Wissen gerne teilt, aus Fehlern lernt und eine aktive Feedback-Kultur pflegt. Wir sind überzeugt, dass wir mit offiziellen Statistiken von hoher Qualität, die zeitnah, leicht zugänglich und verständlich dargestellt werden, einen wichtigen Service public leisten.\\nBenefits\\nFlexibel arbeiten\\n\\nTeilzeit (fast) immer möglich\\nIn der Regel rund 3 bezahlte Brückentage pro Jahr\\nBis zu 10 zusätzliche Ferientage\\nFlexibles Arbeiten wie z.B. im Homeoffice,Gesund bleiben\\nVerschiedene Sportangebote über Mittag\\nRabatt für Mitarbeitende im Sportbereich\\nDiverse Veranstaltungen und Angebote zum Thema Gesundheit,Geldsachen\\nGleicher Lohn für gleiche Arbeit\\nDiverse Vergünstigungen, die das Portemonnaie spürbar entlasten (Beitrag ans Handyabo, Software/Hardware Rabatte und weiteres),Vorwärtskommen\\nBeteiligung an den Kosten von externen Weiterbildungen nach Absprache\\nFörderung des lebenslangen Lernens durch vielfältige Möglichkeiten inkl. internes Bildungsangebot mit über 100 Seminaren.,Familienangelegenheiten\\nKostenloses Beratungsangebot zur Vereinbarkeit von Familie und Beruf\\n\"work&care\": Flexible Rahmenbedingungen für die Betreuung oder Pflege von Angehörigen,Fairsichert\\n16 Wochen Mutterschaftsurlaub mit vollem Lohn\\n2 Wochen Vaterschaftsurlaub mit vollem Lohn\\nWir übernehmen rund 60 % der PK-Beiträge\\n\\n\\nBitte beachten Sie, dass die Anstellungsbedingungen bei gewissen Funktionen abweichen können.\\nNoch Fragen?\\nUrs Martin\\nPersonalverantwortlicher\\n062 835 24 04\\nWir freuen uns auf Ihre Online Bewerbung.\\n'],\n",
       " ['Data Managerin/ Manager Medizinische Qualitätsprogramme 80-90%',\n",
       "  'Klinik Hirslanden',\n",
       "  \"Arbeitsort: Hirslanden Klinik Hirslanden | Zürich\\nBesetzung per: nach Vereinbarung\\nAnstellungsart: Unbefristet\\nReferenznummer: 59709\\nAls grösstes medizinisches Netzwerk der Schweiz setzen wir mit unseren Kliniken, ambulanten Operationszentren und Notfallstationen Standards. Erstklassige medizinische Qualität und das Wohl des Menschen stehen für uns im Mittelpunkt.\\nDEINE AUFGABEN\\n\\nErfassung von patientenbezogenen Basisdaten, Therapiedaten und Nachsorgedaten\\nErmitteln und Aufbereiten dieser Daten sowohl patientenbezogen als auch Kohorten-bezogen\\nAdministrative Unterstützung der Leitung Datamanagement/ Fachverantwortung Datamanagement\\nMitarbeit/ Unterstützung in Qualitätszirkeln und Audits\\nMöglichkeit zur Prozessverantwortung für eine exakte, vollständige und nachvollziehbare Dokumentation, Plausibilitätskontrolle und Auswertung der definierten Daten\\n\\n\\nDEIN PROFIL\\n\\nAbgeschlossene Ausbildung im Gesundheitswesen oder naturwissenschaftliche Ausbildung\\nMedizinisches Grundverständnis sowie Grundkenntnisse medizinischer Terminologie\\nErfahrung im Bereich Datenmanagement und im Umgang mit relationalen Datenbanken\\nHohes Qualitätsverständnis und analytisches, logisches und prozessorientiertes Denkvermögen\\nSehr gute EDV-Kenntnisse (MS Office, insbesondere sehr fundierte Excel Anwendungskenntnisse sind erforderlich)\\nSelbstständige und strukturierte Arbeitsweise\\n\\n\\nNebst einem attraktiven Arbeitsplatz auf der rechten Seite des Zürichsees erwartet dich ein inter- und multiprofessionell arbeitendes eingespieltes Team. Du arbeitest mit einem zeitgemässen Medizinischen Klinik-Informationssystem und kannst umfangreiche Weiterbildungs- sowie Entwicklungsmöglichkeiten von uns erwarten. Für die optimale Work-Life-Balance bieten wir flexible Arbeitsbedingungen, die es Müttern und Vätern gleichermaßen erlauben, Berufstätigkeit und Familienaufgaben miteinander zu verbinden. Wir entlohnen regional marktgerecht und bieten attraktive Sozial- sowie Lohnnebenleistungen. Diese und zahlreiche mehr sind Gründe, weshalb die Klinik Hirslanden zu den attraktivsten Arbeitgebern im Schweizer Gesundheitswesen gehört.\\nUnsere Benefits für Mitarbeiterinnen und Mitarbeiter\\nFür zusätzliche Informationen steht dir Frau Dr. Mareike Kurz (PhD), Teamleiterin MQP Datamanagement, unter T +41 44 387 23 92 oder Anja Gomes dos Santos, HR Rekrutierungspartnerin, unter T +41 44 387 2410 gerne zur Verfügung. Wir freuen uns auf deine Kontaktaufnahme.\\nBitte beachte, dass wir weder Papierdossiers (werden nicht retourniert) noch Bewerbungen per E-Mail berücksichtigen können. Bitte bewirb dich daher ausschliesslich online über dieses Tool.\\nGemischte Teams arbeiten besser. Wir sind stolz auf die Erfahrungen von über 10'000 Mitarbeitenden aus mehr als 80 Nationen. Ihr Wissen und ihre Erfahrungen sind unsere Stärke. Tagtäglich fördern wir Diversität, Chancengleichheit und gleiche Bezahlung für gleiche Arbeit. So wurden wir auch von der Financial Times im Jahr 2021 als einer der <<Leader in Diversity>> der Gesundheitsbranche in Europa ausgezeichnet.\\nDie Hirslanden-Gruppe ist das grösste medizinische Netzwerk der Schweiz. Die Gruppe umfasst 17 Kliniken in 10 Kantonen. Sie betreibt zudem 5 ambulante Operationszentren, 18 Radiologie- und 6 Radiotherapieinstitute. Die Gruppe zählt 11 025 Mitarbeitende.\\n\"],\n",
       " ['Data Analyst – Wealth & Investment Management',\n",
       "  'Experis AG',\n",
       "  'Das kannst du bewegen:\\n\\nDu entwickelst und testest selbstständig Hypothesen entlang der gesamten Customer Journey im Anlagegeschäft für Private und leitest daraus konkrete Handlungsempfehlungen ab.\\n\\n\\nDu erstellst regelmässige Reportings und Auswertungen für Geschäftsleitung und Fachabteilungen, um datenbasierte Entscheidungen zu fördern – zusätzlich führst du Ad-hoc-Analysen durch.\\n\\n\\nDu bereitest Daten aus verschiedenen Quellen sorgfältig auf, bereinigst und verarbeitest sie weiter.\\n\\n\\nDu agierst als Enabler und Schnittstellenmanager/in zwischen Facheinheiten und Systemverantwortlichen und sorgst für eine reibungslose Zusammenarbeit.\\n\\n\\n\\nDas bringst du mit:\\n\\nDu bist sicher im Umgang mit Datenplattformen und -tools wie CRM-Systemen, Datenbanken sowie Software für Analyse und Visualisierung.\\n\\n\\nDu verfügst über 3–5 Jahre Berufserfahrung im Bereich Data Analytics, idealerweise im Finanzsektor.\\n\\n\\nDu denkst analytisch, arbeitest strukturiert und lösungsorientiert und überzeugst durch fachliche Kompetenz – auch in der Kommunikation mit verschiedensten Stakeholdern.\\n\\n\\nDu hast ein Hochschulstudium (Uni oder FH) mit Schwerpunkt in Wirtschaft, Mathematik, IT, Naturwissenschaften oder verwandten Bereichen erfolgreich abgeschlossen.\\n\\n\\nDu sprichst fliessend Deutsch, und bringst idealerweise gute Englischkenntnisse im fachlichen Kontext mit.\\n\\n\\n\\n'],\n",
       " ['Data Analyst (f|m|d) (80-100%) - Zurich - Hybrid Work',\n",
       "  'SMG Swiss Marketplace Group AG',\n",
       "  \"Company Description\\nWelcome to SMG Swiss Marketplace Group AG\\u2028We are a pioneering network of online marketplaces and an innovative European digital company that simplifies people's lives with future-oriented products.\\nJob Description\\nJoin our General Marketplaces team as our newData Analystand become a part of SMG!\\nWe are currently looking for a Data Analyst who will actively contribute to improving our business analytics capabilities, ensure tracking and data consistency, define and spot optimization potential in our buying and selling conversion funnels across our different platforms, and work as a data evangelist across our company by facilitating knowledge sharing sessions and training. As a member of our Data Team, you will spend time gathering insights and recommendations about our users' behavior, democratizing data access at the company, and promoting the correct use of data and analytics.\\u2028\\u2028About the position\\n\\nPerform business and feature analysis and deep dives for management and product stakeholders\\nOwn the Tableau self-service platform and main reports\\nCreation and maintenance of the different user conversion funnels on Google Analytics for the brands within General Marketplaces\\nDefine GA tracking together with our front-end engineers, including testing the implementation and maintaining an events track book\\nCarrying reporting and analytics onboarding training for other employees of the company (especially PMs) to allow them to become self-sufficient and build their own, more specific reports and funnels\\nPerforming internal data quality audits and reviews on internal tools\\n\\nQualifications\\nWhat we are looking for\\n\\n3-5 years of experience in data analysis, storytelling, visualization, and effectively presenting insights about (complex) topics to stakeholders\\n3+ years of experience working with Google Analytics: building funnels and reports on the analytical side, and tracking implementation on the tech side\\nExperience with the GA4 and Firebase apps tracking and GA events tracking test tools such as XTag or GTM\\nKnowledge of A/B testing frameworks\\nKnowledge of Tableau and SQL is a big plus\\nAnalytical and problem solving mindset, ability to dig into potential issues and propose solutions for optimization\\nAbility to quickly onboard and understand our business model, including how various events and transactions are captured in our data structures\\nProactive approach to learn and find solutions outside direct area of competence\\nFluency in English mandatory\\nGerman is a plus\\n\\nAdditional Information\\nWhy you should join us\\nAt SMG Swiss Marketplace Group AG, you’ll be part of an international and diverse team of friendly and supportive colleagues. We embrace a hybrid work model, giving you the flexibility to work from our modern office in Zurich Oerlikon and your own home office.\\u2028\\nBenefits you’ll love\\n\\nFlexible working hours and a culture of trust\\nHybrid work set-up\\n40-hour week (flexitime with a cap at 45 hours)\\n6 weeks of vacation (with the possibility to buy 10 additional days)\\nGreat office facilities with opportunities for plenty of social interactions, after-work-apéros, and regular company-wide events\\nFree SBB half-fare card and you travel 1st classbetween SMG locations in Switzerland\\nGender-neutral fair-pay\\n18 weeks maternity and 6 weeks paternity leave (also in case of adoption)\\nChoose your hardware (Mac or Windows + Monitor for home) and cell phone (iPhone, Samsung or Google Pixel)\\n\\u2028\\u2028Ready to make an impact?\\nThenapply nowwith your current CV, and feel free to submit any additional documents you find helpful to boost your application.\\u2028\\u2028We are looking forward to getting to know you!\\n\\n\"],\n",
       " ['Biotechnology Data Scientist',\n",
       "  'LUCID Analytics AG',\n",
       "  \"In a nutshell\\nOur data science branch is growing in order to deliver our customers projects, and I am looking for involved Data Scientists to join us. \\nBiotechnology Data Scientist (M/W)\\nThis position is a permanent contract within Lucid Analytics in our Zürich & Basel Hub. \\nHow will you contribute to Lucid Analytics' success ?\\nWe are a start-up, so you would be a key contributor of our success. As a Biotechnology Data Scientist, you would represent the knowledge and expertise of the company, while delivering our customers projects. Hence, the quality of your work and your reporting is directly linked to our success and capacity to grow.\\nMain Responsibilities \\n\\nUnderstand our customers and quickly get a grasp of the projects you will work on\\nBe part of a cross-functional use case team to address high-pressing business problems and become familiar with client environment\\nUndertake appropriate preprocessing of structured and unstructured data with additional support of Data Engineers and evolve and build new Data Products\\nAnalyze small to medium amounts of static and real-time data to discover trends and patterns, and to implement analysis pipelines\\nBuild predictive models and machine-learning algorithms, up to large language models\\nContribute to process improvements \\nAttend client meeting in conjunction with the Project Lead\\n\\nRequirements \\n\\nMinimum of 2+ years of Data Science experience as a Data Scientist \\nMSc Graduate in Biotechnology of Data Science from Engineering school – ETH Zürich, EPFL… \\nAdvanced knowledge of programming languages (Python, R, LaTeX) and ability to implement pipelines\\nStrong knowledge of Large Language Models\\nCoding basics (C++, MatLab, HTML, SQL)\\nKnowledge of data structures, modeling, and Cloud Tech (Azure, Vertex AI).\\nStrong organizational and communication skills, as you will have to organize yourself your work and communicate your results\\nAbility to work both independently and as part of a project team\\nCurious scientific mindset, strong knowledge in Bioinformatics, Biostatistics, Genomics, Biotechnology, toxicology\\nEntrepreneurial spirit and will to join a young start-up and to help establish a recognized brand\\n\\nWhat you will find at Lucid that not everybody offers \\n\\nFlexibility regarding how you organize your work and hours : we are not into micro-management\\nAdditional holidays for work life balance, as well as additional parental leave for father for better gender equality\\nA paid day to work for a non profit of your choice\\nA monthly budget for sports as well as for books and trainings, to help you nurture your body and mind\\nA solid retirement coverage so that you don't have to worry about the future\\nAnd a California Van available in Geneva hub for weekend trip in the Alps !\\n\\nWho we are\\nThey call us digital native, but it is a mistake. As kids we played with marbles and cards, we biked in the streets, we had soccer games in the schoolyard. \\nThen came the Gameboy and the NES, Super Mario Bros and Age of Empires. We were not digital “natives” but we embraced digital tools. \\nWhile studying maths, algorithmics and code, we understood the potential of those skills for the future. And now, we are using Data Science, Machine Learning and Artificial Intelligence to solve complex business issues.\\nDatalization is our mission. We are Lucid Analytics.\\n\"],\n",
       " ['Teamleiter:in Insel Data Platform',\n",
       "  'Insel Gruppe SA',\n",
       "  'Bern, 100 %\\n*Die Direktion Technologie und Innovation (DTI) ist für das Technologiemanagement der Insel Gruppe verantwortlich. Im Rahmen der Digitalisierung entstehen in der Spitalgruppe äusserst interessante Herausforderungen.  \\nFür das Team Insel Data Platform suchen wir eine:n integrative:n Leader:in, welche:r mit Erfahrung, Fachkompetenz und Führungsqualitäten zum Erfolg der Insel Gruppe beitragen wird.*\\nDas erwartet dich\\n\\nOperative, fachliche, finanzielle und personelle Leitung und Führung des Teams \"Insel Data Platform\"\\nSicherstellen des\\xa0Betriebs\\xa0der Insel Data Platform, der zentralen Plattform der Insel Gruppe für datengetriebene Anwendungen\\nKonzeption und Implementierung der Quellsystem-Anbindung\\nWeiterentwicklung und Betrieb (DevOps) der Plattform und der bestehenden Anwendungen\\nKonzeption und Implementierung automatisierter Datenintegrations-, Testmanagement- sowie Deployment-Prozesse\\nAnforderungsgerechte Weiterentwicklung der Insel Data Platform, ihrer Technologien und Möglichkeiten\\nAktive Mitarbeit im Leitungsteam des Insel Data Science Centers (IDSC)\\n\\nDas bringst du mit\\n\\nDiese Stelle richtet sich an erfahrene Personen im Umfeld von Datenbanken, Data Warehouse, SAP Business Warehouse und Data Lakehouse\\nHochschul- oder Fachhochschulausbildung in den Bereichen Informatik, Wirtschaftsinformatik oder eine gleichwertige Ausbildung\\nMehrjährige praktische Erfahrung im Data Management (Datenbanken, Data Warehouse, ETL) und DevOps und mit\\xa0SAP BW, MS SQL Server und Data Lakehouse Technologien\\nSolide Kenntnisse in Anforderungsmanagement, Betriebsorganisation und Daten-Technologien\\nKenntnisse der administrativen und klinischen Prozesse im Spitalumfeld von Vorteil\\nHohe Sozialkompetenz & Teamfähigkeit\\n\\nUnser Angebot\\n\\nEin junge, motiviertes Data Team\\nAbwechslungsreiches Aufgabengebiet in einem dynamischen Umfeld\\nEine langfristige Perspektive im Datenumfeld mit zukunftsträchtigen Konzepten\\nEin interessantes, komplexes und herausforderndes Produkt- und Projektumfeld\\nHohe Eigenverantwortung und Selbständigkeit\\n\\nEs sind keine Dossiers von Personalvermittlern gewünscht und Direktbewerbungen werden bevorzugt behandelt.\\nStelleninformationen\\nStandort Insel Gruppe\\nOrganisation\\nDirektion Technologie und Innovation\\nPensum\\n100 %\\nEintritt\\nper sofort oder n. V.\\nKennziffer\\n17553\\nVertragsart\\nunbefristet\\nArbeitsort\\nInselspital, FreiburgstrasseCH-3010 Bern, Schweiz\\n']]"
      ]
     },
     "execution_count": 53,
     "metadata": {},
     "output_type": "execute_result"
    }
   ],
   "source": [
    "# Get names of all files\n",
    "pages = os.listdir()\n",
    "\n",
    "# Loop through html files\n",
    "job_summary = []\n",
    "for page in pages:\n",
    "    try:\n",
    "        job_summary.append(getStuff(page))\n",
    "    except:\n",
    "        print(\"Problem with file\", page)\n",
    "\n",
    "job_summary"
   ]
  },
  {
   "cell_type": "code",
   "execution_count": 55,
   "id": "40889c50",
   "metadata": {},
   "outputs": [
    {
     "name": "stdout",
     "output_type": "stream",
     "text": [
      "Collecting itables\n",
      "  Downloading itables-2.3.0-py3-none-any.whl.metadata (8.6 kB)\n",
      "Requirement already satisfied: ipython in c:\\users\\raphael\\appdata\\local\\packages\\pythonsoftwarefoundation.python.3.10_qbz5n2kfra8p0\\localcache\\local-packages\\python310\\site-packages (from itables) (8.18.1)\n",
      "Requirement already satisfied: numpy in c:\\users\\raphael\\appdata\\local\\packages\\pythonsoftwarefoundation.python.3.10_qbz5n2kfra8p0\\localcache\\local-packages\\python310\\site-packages (from itables) (2.2.3)\n",
      "Requirement already satisfied: pandas in c:\\users\\raphael\\appdata\\local\\packages\\pythonsoftwarefoundation.python.3.10_qbz5n2kfra8p0\\localcache\\local-packages\\python310\\site-packages (from itables) (2.2.3)\n",
      "Requirement already satisfied: decorator in c:\\users\\raphael\\appdata\\local\\packages\\pythonsoftwarefoundation.python.3.10_qbz5n2kfra8p0\\localcache\\local-packages\\python310\\site-packages (from ipython->itables) (5.1.1)\n",
      "Requirement already satisfied: jedi>=0.16 in c:\\users\\raphael\\appdata\\local\\packages\\pythonsoftwarefoundation.python.3.10_qbz5n2kfra8p0\\localcache\\local-packages\\python310\\site-packages (from ipython->itables) (0.19.1)\n",
      "Requirement already satisfied: matplotlib-inline in c:\\users\\raphael\\appdata\\local\\packages\\pythonsoftwarefoundation.python.3.10_qbz5n2kfra8p0\\localcache\\local-packages\\python310\\site-packages (from ipython->itables) (0.1.6)\n",
      "Requirement already satisfied: prompt-toolkit<3.1.0,>=3.0.41 in c:\\users\\raphael\\appdata\\local\\packages\\pythonsoftwarefoundation.python.3.10_qbz5n2kfra8p0\\localcache\\local-packages\\python310\\site-packages (from ipython->itables) (3.0.41)\n",
      "Requirement already satisfied: pygments>=2.4.0 in c:\\users\\raphael\\appdata\\local\\packages\\pythonsoftwarefoundation.python.3.10_qbz5n2kfra8p0\\localcache\\local-packages\\python310\\site-packages (from ipython->itables) (2.17.2)\n",
      "Requirement already satisfied: stack-data in c:\\users\\raphael\\appdata\\local\\packages\\pythonsoftwarefoundation.python.3.10_qbz5n2kfra8p0\\localcache\\local-packages\\python310\\site-packages (from ipython->itables) (0.6.3)\n",
      "Requirement already satisfied: traitlets>=5 in c:\\users\\raphael\\appdata\\local\\packages\\pythonsoftwarefoundation.python.3.10_qbz5n2kfra8p0\\localcache\\local-packages\\python310\\site-packages (from ipython->itables) (5.14.0)\n",
      "Requirement already satisfied: exceptiongroup in c:\\users\\raphael\\appdata\\local\\packages\\pythonsoftwarefoundation.python.3.10_qbz5n2kfra8p0\\localcache\\local-packages\\python310\\site-packages (from ipython->itables) (1.2.0)\n",
      "Requirement already satisfied: colorama in c:\\users\\raphael\\appdata\\local\\packages\\pythonsoftwarefoundation.python.3.10_qbz5n2kfra8p0\\localcache\\local-packages\\python310\\site-packages (from ipython->itables) (0.4.6)\n",
      "Requirement already satisfied: python-dateutil>=2.8.2 in c:\\users\\raphael\\appdata\\local\\packages\\pythonsoftwarefoundation.python.3.10_qbz5n2kfra8p0\\localcache\\local-packages\\python310\\site-packages (from pandas->itables) (2.8.2)\n",
      "Requirement already satisfied: pytz>=2020.1 in c:\\users\\raphael\\appdata\\local\\packages\\pythonsoftwarefoundation.python.3.10_qbz5n2kfra8p0\\localcache\\local-packages\\python310\\site-packages (from pandas->itables) (2025.1)\n",
      "Requirement already satisfied: tzdata>=2022.7 in c:\\users\\raphael\\appdata\\local\\packages\\pythonsoftwarefoundation.python.3.10_qbz5n2kfra8p0\\localcache\\local-packages\\python310\\site-packages (from pandas->itables) (2025.1)\n",
      "Requirement already satisfied: parso<0.9.0,>=0.8.3 in c:\\users\\raphael\\appdata\\local\\packages\\pythonsoftwarefoundation.python.3.10_qbz5n2kfra8p0\\localcache\\local-packages\\python310\\site-packages (from jedi>=0.16->ipython->itables) (0.8.3)\n",
      "Requirement already satisfied: wcwidth in c:\\users\\raphael\\appdata\\local\\packages\\pythonsoftwarefoundation.python.3.10_qbz5n2kfra8p0\\localcache\\local-packages\\python310\\site-packages (from prompt-toolkit<3.1.0,>=3.0.41->ipython->itables) (0.2.12)\n",
      "Requirement already satisfied: six>=1.5 in c:\\users\\raphael\\appdata\\local\\packages\\pythonsoftwarefoundation.python.3.10_qbz5n2kfra8p0\\localcache\\local-packages\\python310\\site-packages (from python-dateutil>=2.8.2->pandas->itables) (1.16.0)\n",
      "Requirement already satisfied: executing>=1.2.0 in c:\\users\\raphael\\appdata\\local\\packages\\pythonsoftwarefoundation.python.3.10_qbz5n2kfra8p0\\localcache\\local-packages\\python310\\site-packages (from stack-data->ipython->itables) (2.0.1)\n",
      "Requirement already satisfied: asttokens>=2.1.0 in c:\\users\\raphael\\appdata\\local\\packages\\pythonsoftwarefoundation.python.3.10_qbz5n2kfra8p0\\localcache\\local-packages\\python310\\site-packages (from stack-data->ipython->itables) (2.4.1)\n",
      "Requirement already satisfied: pure-eval in c:\\users\\raphael\\appdata\\local\\packages\\pythonsoftwarefoundation.python.3.10_qbz5n2kfra8p0\\localcache\\local-packages\\python310\\site-packages (from stack-data->ipython->itables) (0.2.2)\n",
      "Downloading itables-2.3.0-py3-none-any.whl (2.3 MB)\n",
      "   ---------------------------------------- 0.0/2.3 MB ? eta -:--:--\n",
      "   ---------------------------------------- 2.3/2.3 MB 14.5 MB/s eta 0:00:00\n",
      "Installing collected packages: itables\n",
      "Successfully installed itables-2.3.0\n"
     ]
    },
    {
     "name": "stderr",
     "output_type": "stream",
     "text": [
      "\n",
      "[notice] A new release of pip is available: 25.0.1 -> 25.1\n",
      "[notice] To update, run: C:\\Users\\Raphael\\AppData\\Local\\Microsoft\\WindowsApps\\PythonSoftwareFoundation.Python.3.10_qbz5n2kfra8p0\\python.exe -m pip install --upgrade pip\n"
     ]
    }
   ],
   "source": [
    "!pip install itables"
   ]
  },
  {
   "cell_type": "markdown",
   "id": "af9f49bb",
   "metadata": {
    "id": "af9f49bb"
   },
   "source": [
    "Finally, we can convert our nested list into a Pandas Dataframe."
   ]
  },
  {
   "cell_type": "code",
   "execution_count": 56,
   "id": "24a0e870",
   "metadata": {
    "id": "24a0e870"
   },
   "outputs": [
    {
     "data": {
      "text/html": [
       "<table id=\"itables_aeca4ddb_b8ac_4be2_9ed2_87b59af0e660\" class=\"display nowrap\" data-quarto-disable-processing=\"true\" style=\"table-layout:auto;width:auto;margin:auto;caption-side:bottom\">\n",
       "<thead>\n",
       "    <tr style=\"text-align: right;\">\n",
       "      \n",
       "      <th>title</th>\n",
       "      <th>company</th>\n",
       "      <th>description</th>\n",
       "    </tr>\n",
       "  </thead><tbody><tr>\n",
       "<td style=\"vertical-align:middle; text-align:left\">\n",
       "<a href=https://mwouts.github.io/itables/><svg class=\"main-svg\" xmlns=\"http://www.w3.org/2000/svg\" xmlns:xlink=\"http://www.w3.org/1999/xlink\"\n",
       "width=\"64\" viewBox=\"0 0 500 400\" style=\"font-family: 'Droid Sans', sans-serif;\">\n",
       "    <g style=\"fill:#d9d7fc\">\n",
       "        <path d=\"M100,400H500V357H100Z\" />\n",
       "        <path d=\"M100,300H400V257H100Z\" />\n",
       "        <path d=\"M0,200H400V157H0Z\" />\n",
       "        <path d=\"M100,100H500V57H100Z\" />\n",
       "        <path d=\"M100,350H500V307H100Z\" />\n",
       "        <path d=\"M100,250H400V207H100Z\" />\n",
       "        <path d=\"M0,150H400V107H0Z\" />\n",
       "        <path d=\"M100,50H500V7H100Z\" />\n",
       "    </g>\n",
       "    <g style=\"fill:#1a1366;stroke:#1a1366;\">\n",
       "   <rect x=\"100\" y=\"7\" width=\"400\" height=\"43\">\n",
       "    <animate\n",
       "      attributeName=\"width\"\n",
       "      values=\"0;400;0\"\n",
       "      dur=\"5s\"\n",
       "      repeatCount=\"indefinite\" />\n",
       "      <animate\n",
       "      attributeName=\"x\"\n",
       "      values=\"100;100;500\"\n",
       "      dur=\"5s\"\n",
       "      repeatCount=\"indefinite\" />\n",
       "  </rect>\n",
       "        <rect x=\"0\" y=\"107\" width=\"400\" height=\"43\">\n",
       "    <animate\n",
       "      attributeName=\"width\"\n",
       "      values=\"0;400;0\"\n",
       "      dur=\"3.5s\"\n",
       "      repeatCount=\"indefinite\" />\n",
       "    <animate\n",
       "      attributeName=\"x\"\n",
       "      values=\"0;0;400\"\n",
       "      dur=\"3.5s\"\n",
       "      repeatCount=\"indefinite\" />\n",
       "  </rect>\n",
       "        <rect x=\"100\" y=\"207\" width=\"300\" height=\"43\">\n",
       "    <animate\n",
       "      attributeName=\"width\"\n",
       "      values=\"0;300;0\"\n",
       "      dur=\"3s\"\n",
       "      repeatCount=\"indefinite\" />\n",
       "    <animate\n",
       "      attributeName=\"x\"\n",
       "      values=\"100;100;400\"\n",
       "      dur=\"3s\"\n",
       "      repeatCount=\"indefinite\" />\n",
       "  </rect>\n",
       "        <rect x=\"100\" y=\"307\" width=\"400\" height=\"43\">\n",
       "    <animate\n",
       "      attributeName=\"width\"\n",
       "      values=\"0;400;0\"\n",
       "      dur=\"4s\"\n",
       "      repeatCount=\"indefinite\" />\n",
       "      <animate\n",
       "      attributeName=\"x\"\n",
       "      values=\"100;100;500\"\n",
       "      dur=\"4s\"\n",
       "      repeatCount=\"indefinite\" />\n",
       "  </rect>\n",
       "        <g style=\"fill:transparent;stroke-width:8; stroke-linejoin:round\" rx=\"5\">\n",
       "            <g transform=\"translate(45 50) rotate(-45)\">\n",
       "                <circle r=\"33\" cx=\"0\" cy=\"0\" />\n",
       "                <rect x=\"-8\" y=\"32\" width=\"16\" height=\"30\" />\n",
       "            </g>\n",
       "\n",
       "            <g transform=\"translate(450 152)\">\n",
       "                <polyline points=\"-15,-20 -35,-20 -35,40 25,40 25,20\" />\n",
       "                <rect x=\"-15\" y=\"-40\" width=\"60\" height=\"60\" />\n",
       "            </g>\n",
       "\n",
       "            <g transform=\"translate(50 352)\">\n",
       "                <polygon points=\"-35,-5 0,-40 35,-5\" />\n",
       "                <polygon points=\"-35,10 0,45 35,10\" />\n",
       "            </g>\n",
       "\n",
       "            <g transform=\"translate(75 250)\">\n",
       "                <polyline points=\"-30,30 -60,0 -30,-30\" />\n",
       "                <polyline points=\"0,30 -30,0 0,-30\" />\n",
       "            </g>\n",
       "\n",
       "            <g transform=\"translate(425 250) rotate(180)\">\n",
       "                <polyline points=\"-30,30 -60,0 -30,-30\" />\n",
       "                <polyline points=\"0,30 -30,0 0,-30\" />\n",
       "            </g>\n",
       "        </g>\n",
       "    </g>\n",
       "</svg>\n",
       "</a>\n",
       "Loading ITables v2.3.0 from the internet...\n",
       "(need <a href=https://mwouts.github.io/itables/troubleshooting.html>help</a>?)</td>\n",
       "</tr></tbody>\n",
       "</table>\n",
       "<link href=\"https://www.unpkg.com/dt_for_itables@2.2.0/dt_bundle.css\" rel=\"stylesheet\">\n",
       "<script type=\"module\">\n",
       "    import {DataTable, jQuery as $} from 'https://www.unpkg.com/dt_for_itables@2.2.0/dt_bundle.js';\n",
       "\n",
       "    document.querySelectorAll(\"#itables_aeca4ddb_b8ac_4be2_9ed2_87b59af0e660:not(.dataTable)\").forEach(table => {\n",
       "        if (!(table instanceof HTMLTableElement))\n",
       "            return;\n",
       "\n",
       "        // Define the table data\n",
       "        const data = [[\"Hochschulpraktikant:in Data Science\", \"Post CH AG\", \"80 - 100%, Bern und Homeoffice\\\\nHast du k\\u00fcrzlich dein Masterstudium abgeschlossen und m\\u00f6chtest in einem 12-monatigen Praktikum im Bereich Data Science durchstarten? Dann bist du bei uns genau richtig! Du bekommst die M\\u00f6glichkeit, in einem dynamischen Team an spannenden Projekten zu arbeiten und deine F\\u00e4higkeiten im Bereich Data Science weiter auszubauen. Mit dir werden Daten zu Insights und Modelle zum Erfolg.\\\\nDas kannst du bewirken\\\\n\\\\nDu sammelst, bereinigst und bereitest Kundendaten auf und f\\u00fchrst explorative Analysen durch, um Erkenntnisse f\\u00fcr die Segmentierung zu gewinnen.\\\\nDu entwickelst und bewertest Machine-Learning-Modelle -- beispielsweise zur Kundensegmentierung oder Churn-Vorhersage. Gemeinsam mit dem Kampagnenmanagement arbeitest du zudem an der datenbasierten Optimierung der Leadausspielung.\\\\nZur wirkungsvollen Darstellung der Analyseergebnisse erstellst du Visualisierungen und Dashboards, du entwickelst neue Reportings in PowerBI und migrierst SAS VA Reports nach PowerBI.\\\\nDu bringst dich aktiv bei der Operationalisierung und \\u00dcberwachung von Segmentierungen und Modellen in Produktionsumgebungen ein.\\\\nZudem unterst\\u00fctzt du die Weiterentwicklung des Planungstools und tr\\u00e4gst zur Optimierung der Jahresplanung bei.\\\\nIm Rahmen der Weiterentwicklung des Customer Data Core (CDC) \\u00fcbernimmst du die Erfassung neuer Anforderungen, testest Datenanbindungen, migrierst SAS-Skripte und dokumentierst die Datenaufbereitungen.\\\\n\\\\n\\\\nDas bringst du mit\\\\n\\\\n\\\\nDu hast einen Master in Wirtschaftsinformatik, Data Science oder einem \\u00e4hnlichen Studiengang abgeschlossen.\\\\nDu hast praktische Erfahrung mit Data Science, Python und Scripting, und wenn du auch noch mit SQL und AWS punkten kannst, sind wir noch mehr begeistert.\\\\nDein systematisches Denkverm\\u00f6gen und deine ausgepr\\u00e4gte Probleml\\u00f6sungsf\\u00e4higkeit lassen dich auch die komplexesten Fragestellungen einfach l\\u00f6sen.\\\\nDu packst an und wartest nicht, bis etwas passiert -- mit deiner Eigeninitiative und deinem Organisationstalent treibst du Vorhaben voran.\\\\nIn einem dynamischen Umfeld f\\u00fchlst du dich zuhause und tr\\u00e4gst mit deiner Teamf\\u00e4higkeit aktiv zum Erfolg des Teams bei.\\\\nDu kommunizierst m\\u00fcndlich und schriftlich sehr gut auf Deutsch.\\\\n\\\\n\\\\nDas bieten wir dir\\\\n\\\\n\\\\n6 Wochen Ferien\\\\nMobiles und flexibles Arbeiten\\\\nUnterst\\u00fctzung bei Aus- und Weiterbildungen\\\\nInterne Mobilit\\u00e4t\\\\n\\\\n\\\\nKontakt\\\\nYolanda Ramiro Nieto\\\\nLeiterin Kompetenz-Center Marktbearbeitung\\\\n+41 76 772 96 52\\\\nJobdetails\\\\nAnstellung\\\\n80 - 100%\\\\nPraktikum\\\\n12 Monate\\\\nnach Vereinbarung\\\\nAnstellungsort(e)\\\\nBern und Homeoffice\\\\nReferenznummer\\\\n70694\\\\nPostbereich\\\\nDie Schweizerische Post AG\\\\nPostNetz\\\\nBei PostNetz entwickeln wir die Zugangspunkte der Post in allen Regionen der Schweiz wirtschaftlich und zukunftsgerichtet weiter, damit unsere Kundinnen und Kunden ihre Gesch\\u00e4fte bequem, flexibel und rund um die Uhr erledigen k\\u00f6nnen. Denn ihre Bed\\u00fcrfnisse stehen im Zentrum unseres Handelns. Gemeinsam mit Dritten schaffen wir neue L\\u00f6sungen, treiben die Digitalisierung voran, arbeiten mit modernsten Hilfsmitteln und vernetzen uns mit allen internen Bereichen. Weiter \\u00fcbernehmen wir Verantwortung und setzen uns f\\u00fcr soziale und \\u00f6kologische Nachhaltigkeit ein. Bereits heute werden all unsere Filialen mit zertifiziertem \\u00d6kostrom betrieben. Wir haben das Ziel, bis 2030 im eigenen Betrieb klimaneutral zu sein.\\\\n\"], [\"Scientist in Battery Modeling & Testing 60-100%\", \"ABB Schweiz AG\", \"Your role and responsibilities\\\\nIn this role, you will play a key part in advancing ABB\\u2019s battery solutions through both theoretical and applied research. You will combine experimental research with modeling the underlying physical phenomena and leveraging state-of-the-art simulations.\\\\nUtilizing data-driven modeling techniques, you will incorporate machine learning approaches to enhance models with operational data for both stationary and mobility energy storage applications.\\\\nAs a member of the Energy Storage Group at our ABB Research Center, you will collaborate with cross-functional teams both within and outside the company. Together, we will translate ideas into proof-of-concept demonstrations, serving as the foundation for next-generation energy storage products. Additionally, you will contribute to shaping the team research roadmap and managing research projects.\\\\nThe work model for the role is: #hybrid\\\\nYou will be mainly accountable for:\\\\n\\\\nDevelop physics-based and data-driven models that integrate field data for battery State-of-X estimation or digital twins.\\\\nConduct applied research in the area of battery technology.\\\\nContribute to the design, planning, and execution of experiments.\\\\nLead research initiatives, contributing to publications and generating intellectual property.\\\\nCollaborate closely with scientists and engineers from universities and global ABB divisions.\\\\n\\\\nQualifications for the role\\\\nPhD in Physics, Electrical Engineering, or a closely related field. Experience in battery modeling and testing, with exposure to machine learning and data analytics, is a plus.\\\\nPractical experience in laboratory work, including experimental setups and advanced measurement techniques.\\\\nStrong collaborative and solution-oriented mindset, with excellent written and spoken communication skills in English. Willingness to learn German.\\\\nProven networking and relationship-building abilities.\\\\nBenefits\\\\nChildcare\\\\nCanteen\\\\nEmployee Share Acquisition Plan\\\\nMore about us\\\\nOur R&D engineers and scientists develop breakthrough technologies and products that change the way the world works and industries do business. We constantly push the limits of convention, while retaining our focus on delivering solid returns for our customers and shareholders\\\\nWe value people from different backgrounds. This recruitment is led by Stephan Himmel, Talent Partner ABB Switzerland, Ltd. Could this be your story? Apply today or visit www.abb.com to read more about us and learn about the impact of our solutions across the globe. #MyABBStory\\\\n\"], [\"Data Manager/in Kantonale Verwaltung\", \"Dienststelle f\\u00fcr Statistik\", \"Das Amt f\\u00fcr Daten und Statistik des Kantons Thurgau erhebt, analysiert und publiziert statistische Daten und informiert \\u00fcber gesellschaftliche und wirtschaftliche Entwicklungen im Kanton Thurgau. Es f\\u00fchrt zudem die Koordinationsstelle Open Government Data (OGD) und ist das Kompetenzzentrum Datenmanagement f\\u00fcr die Kantonale Verwaltung Thurgau.\\\\nIm Rahmen der Umsetzung der Strategie Digitale Verwaltung baut die Kantonale Verwaltung Thurgau ein ganzheitliches Datenmanagement auf. Dazu suchen wir per sofort oder nach Vereinbarung Sie als\\\\n100 %\\\\nIhre Aufgaben\\\\nIn dieser anspruchsvollen und neu geschaffenen Position etablieren und koordinieren Sie den Aufbau und Betrieb eines ganzheitlichen Datenmanagements in der Kantonalen Verwaltung Thurgau. Dazu geh\\u00f6ren der Aufbau und die Weiterentwicklung einer wirkungsvollen Data Governance, die Einf\\u00fchrung und der Betrieb eines verwaltungsweiten Datenkatalogs und die Beratung und Unterst\\u00fctzung der \\u00c4mter bei der Umsetzung der Datenstrategie. Sie pflegen die Zusammenarbeit mit verschiedenen Stakeholdern innerhalb und ausserhalb der Kantonalen Verwaltung sowie den zust\\u00e4ndigen Stellen beim Bund.\\\\nIhr Profil\\\\n\\\\n\\\\nHochschul- oder Fachhochschulabschluss mit Bezug zu Datenmanagement oder Data Engineering (oder vergleichbare Ausbildung)\\\\nMehrj\\u00e4hrige Erfahrung und gute Kenntnisse im Bereich Data Governance, Datenarchitektur und Datenmanagement; Verst\\u00e4ndnis f\\u00fcr den gesamten Lebenszyklus von Daten in der Organisation\\\\nErfahrung in der Leitung anspruchsvoller (Daten-)Projekte\\\\nSolides Fachwissen zu Data Science, Datenanalyse und Datentechnologien wie Datenbanken oder Data Warehouses\\\\nKonzeptionelles, vernetztes und analytisches Denken und Handeln, Organisationstalent\\\\nKommunikative, initiative und dienstleistungsorientierte Pers\\u00f6nlichkeit\\\\n\\\\n\\\\nWir bieten\\\\nWenn Daten Sie ebenso begeistern wie uns und es Ihnen Freude bereitet, zur Nutzung des Potentials von Daten beizutragen, sind Sie bei uns richtig.\\\\nBei uns erwarten Sie eine spannende T\\u00e4tigkeit mit der M\\u00f6glichkeit, das Datenmanagement der Kantonalen Verwaltung Thurgau wesentlich mitzugestalten, ein motiviertes Team, attraktive Anstellungsbedingungen und ein Arbeitsplatz mitten in Frauenfeld\\\\nWeitere Ausk\\u00fcnfte erteilt Ihnen gerne\\\\nUlrike Baldenweg, Leiterin Amt f\\u00fcr Daten und Statistik, T 058 345 53 61\\\\nHaben wir Ihr Interesse geweckt? Dann freuen wir uns auf Ihre Onlinebewerbung.\\\\n\"], [\"Hochschulpraktikantin/-praktikant Data Analytics 80-100 %\", \"Kanton Aargau\", \"Hochschulpraktikantin/-praktikant Data Analytics 80-100 %\\\\nAarau\\\\nper 1. September 2025 oder nach Vereinbarung\\\\nBefristet f\\u00fcr 1 Jahr\\\\nHomeoffice m\\u00f6glich\\\\nSpannende Aufgaben warten:\\\\n\\\\n\\\\nAufbereitung und Analyse von Daten mit der Programmiersprache R\\\\nBeitr\\u00e4ge zur Beurteilung der wirtschaftlichen und sozialen Situation der Aargauer Bev\\u00f6lkerung (z. B. Haushaltseinkommen, Erwerbst\\u00e4tigkeit von Eltern, Wohnsituation)\\\\nEntwicklung neuer Produkte f\\u00fcr die kantonale Statistik\\\\nMitarbeit in einem engagierten, interdisziplin\\u00e4ren und hilfsbereiten Team\\\\nAustausch mit anderen Fachstellen auf kantonaler und nationaler Ebene\\\\n\\\\n\\\\nWas Sie mitbringen:\\\\n\\\\n\\\\nFreude am selbst\\u00e4ndigen Arbeiten sowie eine starke Teamf\\u00e4higkeit\\\\n(Fach-)Hochschulabschluss vorzugsweise auf Stufe Master (Wirtschaftswissenschaften, Sozialwissenschaften o.\\u00e4.)\\\\nGute Kenntnisse der Programmiersprache R\\\\nErfahrungen im Datenmanagement und der Datenanalyse\\\\nKenntnisse des Sozialversicherungswesens und des Sozialhilfesystems von Vorteil\\\\n\\\\n\\\\nIhr Arbeitsumfeld\\\\nAls kantonales Amt f\\u00fcr Statistik stellen wir statistische Informationen f\\u00fcr die Bev\\u00f6lkerung, Verwaltung und den Bund bereit. Mit analytischen Methoden sowie innovativen Technologien entwickeln wir unsere Prozesse und Produkte stetig weiter. Wir sind eine moderne Expertenorganisation, die ihr Wissen gerne teilt, aus Fehlern lernt und eine aktive Feedback-Kultur pflegt. Wir sind \\u00fcberzeugt, dass wir mit offiziellen Statistiken von hoher Qualit\\u00e4t, die zeitnah, leicht zug\\u00e4nglich und verst\\u00e4ndlich dargestellt werden, einen wichtigen Service public leisten.\\\\nBenefits\\\\nFlexibel arbeiten\\\\n\\\\nTeilzeit (fast) immer m\\u00f6glich\\\\nIn der Regel rund 3 bezahlte Br\\u00fcckentage pro Jahr\\\\nBis zu 10 zus\\u00e4tzliche Ferientage\\\\nFlexibles Arbeiten wie z.B. im Homeoffice,Gesund bleiben\\\\nVerschiedene Sportangebote \\u00fcber Mittag\\\\nRabatt f\\u00fcr Mitarbeitende im Sportbereich\\\\nDiverse Veranstaltungen und Angebote zum Thema Gesundheit,Geldsachen\\\\nGleicher Lohn f\\u00fcr gleiche Arbeit\\\\nDiverse Verg\\u00fcnstigungen, die das Portemonnaie sp\\u00fcrbar entlasten (Beitrag ans Handyabo, Software/Hardware Rabatte und weiteres),Vorw\\u00e4rtskommen\\\\nBeteiligung an den Kosten von externen Weiterbildungen nach Absprache\\\\nF\\u00f6rderung des lebenslangen Lernens durch vielf\\u00e4ltige M\\u00f6glichkeiten inkl. internes Bildungsangebot mit \\u00fcber 100 Seminaren.,Familienangelegenheiten\\\\nKostenloses Beratungsangebot zur Vereinbarkeit von Familie und Beruf\\\\n\\\"work&care\\\": Flexible Rahmenbedingungen f\\u00fcr die Betreuung oder Pflege von Angeh\\u00f6rigen,Fairsichert\\\\n16 Wochen Mutterschaftsurlaub mit vollem Lohn\\\\n2 Wochen Vaterschaftsurlaub mit vollem Lohn\\\\nWir \\u00fcbernehmen rund 60 % der PK-Beitr\\u00e4ge\\\\n\\\\n\\\\nBitte beachten Sie, dass die Anstellungsbedingungen bei gewissen Funktionen abweichen k\\u00f6nnen.\\\\nNoch Fragen?\\\\nUrs Martin\\\\nPersonalverantwortlicher\\\\n062 835 24 04\\\\nWir freuen uns auf Ihre Online Bewerbung.\\\\n\"], [\"Data Managerin/ Manager Medizinische Qualit\\u00e4tsprogramme 80-90%\", \"Klinik Hirslanden\", \"Arbeitsort: Hirslanden Klinik Hirslanden | Z\\u00fcrich\\\\nBesetzung per: nach Vereinbarung\\\\nAnstellungsart: Unbefristet\\\\nReferenznummer: 59709\\\\nAls gr\\u00f6sstes medizinisches Netzwerk der Schweiz setzen wir mit unseren Kliniken, ambulanten Operationszentren und Notfallstationen Standards. Erstklassige medizinische Qualit\\u00e4t und das Wohl des Menschen stehen f\\u00fcr uns im Mittelpunkt.\\\\nDEINE AUFGABEN\\\\n\\\\nErfassung von patientenbezogenen Basisdaten, Therapiedaten und Nachsorgedaten\\\\nErmitteln und Aufbereiten dieser Daten sowohl patientenbezogen als auch Kohorten-bezogen\\\\nAdministrative Unterst\\u00fctzung der Leitung Datamanagement/ Fachverantwortung Datamanagement\\\\nMitarbeit/ Unterst\\u00fctzung in Qualit\\u00e4tszirkeln und Audits\\\\nM\\u00f6glichkeit zur Prozessverantwortung f\\u00fcr eine exakte, vollst\\u00e4ndige und nachvollziehbare Dokumentation, Plausibilit\\u00e4tskontrolle und Auswertung der definierten Daten\\\\n\\\\n\\\\nDEIN PROFIL\\\\n\\\\nAbgeschlossene Ausbildung im Gesundheitswesen oder naturwissenschaftliche Ausbildung\\\\nMedizinisches Grundverst\\u00e4ndnis sowie Grundkenntnisse medizinischer Terminologie\\\\nErfahrung im Bereich Datenmanagement und im Umgang mit relationalen Datenbanken\\\\nHohes Qualit\\u00e4tsverst\\u00e4ndnis und analytisches, logisches und prozessorientiertes Denkverm\\u00f6gen\\\\nSehr gute EDV-Kenntnisse (MS Office, insbesondere sehr fundierte Excel Anwendungskenntnisse sind erforderlich)\\\\nSelbstst\\u00e4ndige und strukturierte Arbeitsweise\\\\n\\\\n\\\\nNebst einem attraktiven Arbeitsplatz auf der rechten Seite des Z\\u00fcrichsees erwartet dich ein inter- und multiprofessionell arbeitendes eingespieltes Team. Du arbeitest mit einem zeitgem\\u00e4ssen Medizinischen Klinik-Informationssystem und kannst umfangreiche Weiterbildungs- sowie Entwicklungsm\\u00f6glichkeiten von uns erwarten. F\\u00fcr die optimale Work-Life-Balance bieten wir flexible Arbeitsbedingungen, die es M\\u00fcttern und V\\u00e4tern gleicherma\\u00dfen erlauben, Berufst\\u00e4tigkeit und Familienaufgaben miteinander zu verbinden. Wir entlohnen regional marktgerecht und bieten attraktive Sozial- sowie Lohnnebenleistungen. Diese und zahlreiche mehr sind Gr\\u00fcnde, weshalb die Klinik Hirslanden zu den attraktivsten Arbeitgebern im Schweizer Gesundheitswesen geh\\u00f6rt.\\\\nUnsere Benefits f\\u00fcr Mitarbeiterinnen und Mitarbeiter\\\\nF\\u00fcr zus\\u00e4tzliche Informationen steht dir Frau Dr. Mareike Kurz (PhD), Teamleiterin MQP Datamanagement, unter T +41 44 387 23 92 oder Anja Gomes dos Santos, HR Rekrutierungspartnerin, unter T +41 44 387 2410 gerne zur Verf\\u00fcgung. Wir freuen uns auf deine Kontaktaufnahme.\\\\nBitte beachte, dass wir weder Papierdossiers (werden nicht retourniert) noch Bewerbungen per E-Mail ber\\u00fccksichtigen k\\u00f6nnen. Bitte bewirb dich daher ausschliesslich online \\u00fcber dieses Tool.\\\\nGemischte Teams arbeiten besser. Wir sind stolz auf die Erfahrungen von \\u00fcber 10'000 Mitarbeitenden aus mehr als 80 Nationen. Ihr Wissen und ihre Erfahrungen sind unsere St\\u00e4rke. Tagt\\u00e4glich f\\u00f6rdern wir Diversit\\u00e4t, Chancengleichheit und gleiche Bezahlung f\\u00fcr gleiche Arbeit. So wurden wir auch von der Financial Times im Jahr 2021 als einer der <<Leader in Diversity>> der Gesundheitsbranche in Europa ausgezeichnet.\\\\nDie Hirslanden-Gruppe ist das gr\\u00f6sste medizinische Netzwerk der Schweiz. Die Gruppe umfasst 17 Kliniken in 10 Kantonen. Sie betreibt zudem 5 ambulante Operationszentren, 18 Radiologie- und 6 Radiotherapieinstitute. Die Gruppe z\\u00e4hlt 11 025 Mitarbeitende.\\\\n\"], [\"Data Analyst \\u2013 Wealth & Investment Management\", \"Experis AG\", \"Das kannst du bewegen:\\\\n\\\\nDu entwickelst und testest selbstst\\u00e4ndig Hypothesen entlang der gesamten Customer Journey im Anlagegesch\\u00e4ft f\\u00fcr Private und leitest daraus konkrete Handlungsempfehlungen ab.\\\\n\\\\n\\\\nDu erstellst regelm\\u00e4ssige Reportings und Auswertungen f\\u00fcr Gesch\\u00e4ftsleitung und Fachabteilungen, um datenbasierte Entscheidungen zu f\\u00f6rdern \\u2013 zus\\u00e4tzlich f\\u00fchrst du Ad-hoc-Analysen durch.\\\\n\\\\n\\\\nDu bereitest Daten aus verschiedenen Quellen sorgf\\u00e4ltig auf, bereinigst und verarbeitest sie weiter.\\\\n\\\\n\\\\nDu agierst als Enabler und Schnittstellenmanager/in zwischen Facheinheiten und Systemverantwortlichen und sorgst f\\u00fcr eine reibungslose Zusammenarbeit.\\\\n\\\\n\\\\n\\\\nDas bringst du mit:\\\\n\\\\nDu bist sicher im Umgang mit Datenplattformen und -tools wie CRM-Systemen, Datenbanken sowie Software f\\u00fcr Analyse und Visualisierung.\\\\n\\\\n\\\\nDu verf\\u00fcgst \\u00fcber 3\\u20135 Jahre Berufserfahrung im Bereich Data Analytics, idealerweise im Finanzsektor.\\\\n\\\\n\\\\nDu denkst analytisch, arbeitest strukturiert und l\\u00f6sungsorientiert und \\u00fcberzeugst durch fachliche Kompetenz \\u2013 auch in der Kommunikation mit verschiedensten Stakeholdern.\\\\n\\\\n\\\\nDu hast ein Hochschulstudium (Uni oder FH) mit Schwerpunkt in Wirtschaft, Mathematik, IT, Naturwissenschaften oder verwandten Bereichen erfolgreich abgeschlossen.\\\\n\\\\n\\\\nDu sprichst fliessend Deutsch, und bringst idealerweise gute Englischkenntnisse im fachlichen Kontext mit.\\\\n\\\\n\\\\n\\\\n\"], [\"Data Analyst (f|m|d) (80-100%) - Zurich - Hybrid Work\", \"SMG Swiss Marketplace Group AG\", \"Company Description\\\\nWelcome to SMG Swiss Marketplace Group AG\\u2028We are a pioneering network of online marketplaces and an innovative European digital company that simplifies people's lives with future-oriented products.\\\\nJob Description\\\\nJoin our General Marketplaces team as our newData Analystand become a part of SMG!\\\\nWe are currently looking for a Data Analyst who will actively contribute to improving our business analytics capabilities, ensure tracking and data consistency, define and spot optimization potential in our buying and selling conversion funnels across our different platforms, and work as a data evangelist across our company by facilitating knowledge sharing sessions and training. As a member of our Data Team, you will spend time gathering insights and recommendations about our users' behavior, democratizing data access at the company, and promoting the correct use of data and analytics.\\u2028\\u2028About the position\\\\n\\\\nPerform business and feature analysis and deep dives for management and product stakeholders\\\\nOwn the Tableau self-service platform and main reports\\\\nCreation and maintenance of the different user conversion funnels on Google Analytics for the brands within General Marketplaces\\\\nDefine GA tracking together with our front-end engineers, including testing the implementation and maintaining an events track book\\\\nCarrying reporting and analytics onboarding training for other employees of the company (especially PMs) to allow them to become self-sufficient and build their own, more specific reports and funnels\\\\nPerforming internal data quality audits and reviews on internal tools\\\\n\\\\nQualifications\\\\nWhat we are looking for\\\\n\\\\n3-5 years of experience in data analysis, storytelling, visualization, and effectively presenting insights about (complex) topics to stakeholders\\\\n3+ years of experience working with Google Analytics: building funnels and reports on the analytical side, and tracking implementation on the tech side\\\\nExperience with the GA4 and Firebase apps tracking and GA events tracking test tools such as XTag or GTM\\\\nKnowledge of A/B testing frameworks\\\\nKnowledge of Tableau and SQL is a big plus\\\\nAnalytical and problem solving mindset, ability to dig into potential issues and propose solutions for optimization\\\\nAbility to quickly onboard and understand our business model, including how various events and transactions are captured in our data structures\\\\nProactive approach to learn and find solutions outside direct area of competence\\\\nFluency in English mandatory\\\\nGerman is a plus\\\\n\\\\nAdditional Information\\\\nWhy you should join us\\\\nAt SMG Swiss Marketplace Group AG, you\\u2019ll be part of an international and diverse team of friendly and supportive colleagues. We embrace a hybrid work model, giving you the flexibility to work from our modern office in Zurich Oerlikon and your own home office.\\u2028\\\\nBenefits you\\u2019ll love\\\\n\\\\nFlexible working hours and a culture of trust\\\\nHybrid work set-up\\\\n40-hour week (flexitime with a cap at 45 hours)\\\\n6 weeks of vacation (with the possibility to buy 10 additional days)\\\\nGreat office facilities with opportunities for plenty of social interactions, after-work-ap\\u00e9ros, and regular company-wide events\\\\nFree SBB half-fare card and you travel 1st classbetween SMG locations in Switzerland\\\\nGender-neutral fair-pay\\\\n18 weeks maternity and 6 weeks paternity leave (also in case of adoption)\\\\nChoose your hardware (Mac or Windows + Monitor for home) and cell phone (iPhone, Samsung or Google Pixel)\\\\n\\u2028\\u2028Ready to make an impact?\\\\nThenapply nowwith your current CV, and feel free to submit any additional documents you find helpful to boost your application.\\u2028\\u2028We are looking forward to getting to know you!\\\\n\\\\n\"], [\"Biotechnology Data Scientist\", \"LUCID Analytics AG\", \"In a nutshell\\\\nOur data science branch is growing in order to deliver our customers projects, and I am looking for involved Data Scientists to join us. \\\\nBiotechnology Data Scientist (M/W)\\\\nThis position is a permanent contract within Lucid Analytics in our Z\\u00fcrich & Basel Hub. \\\\nHow will you contribute to Lucid Analytics' success ?\\\\nWe are a start-up, so you would be a key contributor of our success. As a Biotechnology Data Scientist, you would represent the knowledge and expertise of the company, while delivering our customers projects. Hence, the quality of your work and your reporting is directly linked to our success and capacity to grow.\\\\nMain Responsibilities \\\\n\\\\nUnderstand our customers and quickly get a grasp of the projects you will work on\\\\nBe part of a cross-functional use case team to address high-pressing business problems and become familiar with client environment\\\\nUndertake appropriate preprocessing of structured and unstructured data with additional support of Data Engineers and evolve and build new Data Products\\\\nAnalyze small to medium amounts of static and real-time data to discover trends and patterns, and to implement analysis pipelines\\\\nBuild predictive models and machine-learning algorithms, up to large language models\\\\nContribute to process improvements \\\\nAttend client meeting in conjunction with the Project Lead\\\\n\\\\nRequirements \\\\n\\\\nMinimum of 2+ years of Data Science experience as a Data Scientist \\\\nMSc Graduate in Biotechnology of Data Science from Engineering school \\u2013 ETH Z\\u00fcrich, EPFL\\u2026 \\\\nAdvanced knowledge of programming languages (Python, R, LaTeX) and ability to implement pipelines\\\\nStrong knowledge of Large Language Models\\\\nCoding basics (C++, MatLab, HTML, SQL)\\\\nKnowledge of data structures, modeling, and Cloud Tech (Azure, Vertex AI).\\\\nStrong organizational and communication skills, as you will have to organize yourself your work and communicate your results\\\\nAbility to work both independently and as part of a project team\\\\nCurious scientific mindset, strong knowledge in Bioinformatics, Biostatistics, Genomics, Biotechnology, toxicology\\\\nEntrepreneurial spirit and will to join a young start-up and to help establish a recognized brand\\\\n\\\\nWhat you will find at Lucid that not everybody offers \\\\n\\\\nFlexibility regarding how you organize your work and hours : we are not into micro-management\\\\nAdditional holidays for work life balance, as well as additional parental leave for father for better gender equality\\\\nA paid day to work for a non profit of your choice\\\\nA monthly budget for sports as well as for books and trainings, to help you nurture your body and mind\\\\nA solid retirement coverage so that you don't have to worry about the future\\\\nAnd a California Van available in Geneva hub for weekend trip in the Alps !\\\\n\\\\nWho we are\\\\nThey call us digital native, but it is a mistake. As kids we played with marbles and cards, we biked in the streets, we had soccer games in the schoolyard. \\\\nThen came the Gameboy and the NES, Super Mario Bros and Age of Empires. We were not digital \\u201cnatives\\u201d but we embraced digital tools. \\\\nWhile studying maths, algorithmics and code, we understood the potential of those skills for the future. And now, we are using Data Science, Machine Learning and Artificial Intelligence to solve complex business issues.\\\\nDatalization is our mission. We are Lucid Analytics.\\\\n\"], [\"Teamleiter:in Insel Data Platform\", \"Insel Gruppe SA\", \"Bern, 100 %\\\\n*Die Direktion Technologie und Innovation (DTI) ist f\\u00fcr das Technologiemanagement der Insel Gruppe verantwortlich. Im Rahmen der Digitalisierung entstehen in der Spitalgruppe \\u00e4usserst interessante Herausforderungen.  \\\\nF\\u00fcr das Team Insel Data Platform suchen wir eine:n integrative:n Leader:in, welche:r mit Erfahrung, Fachkompetenz und F\\u00fchrungsqualit\\u00e4ten zum Erfolg der Insel Gruppe beitragen wird.*\\\\nDas erwartet dich\\\\n\\\\nOperative, fachliche, finanzielle und personelle Leitung und F\\u00fchrung des Teams \\\"Insel Data Platform\\\"\\\\nSicherstellen des\\u00a0Betriebs\\u00a0der Insel Data Platform, der zentralen Plattform der Insel Gruppe f\\u00fcr datengetriebene Anwendungen\\\\nKonzeption und Implementierung der Quellsystem-Anbindung\\\\nWeiterentwicklung und Betrieb (DevOps) der Plattform und der bestehenden Anwendungen\\\\nKonzeption und Implementierung automatisierter Datenintegrations-, Testmanagement- sowie Deployment-Prozesse\\\\nAnforderungsgerechte Weiterentwicklung der Insel Data Platform, ihrer Technologien und M\\u00f6glichkeiten\\\\nAktive Mitarbeit im Leitungsteam des Insel Data Science Centers (IDSC)\\\\n\\\\nDas bringst du mit\\\\n\\\\nDiese Stelle richtet sich an erfahrene Personen im Umfeld von Datenbanken, Data Warehouse, SAP Business Warehouse und Data Lakehouse\\\\nHochschul- oder Fachhochschulausbildung in den Bereichen Informatik, Wirtschaftsinformatik oder eine gleichwertige Ausbildung\\\\nMehrj\\u00e4hrige praktische Erfahrung im Data Management (Datenbanken, Data Warehouse, ETL) und DevOps und mit\\u00a0SAP BW, MS SQL Server und Data Lakehouse Technologien\\\\nSolide Kenntnisse in Anforderungsmanagement, Betriebsorganisation und Daten-Technologien\\\\nKenntnisse der administrativen und klinischen Prozesse im Spitalumfeld von Vorteil\\\\nHohe Sozialkompetenz & Teamf\\u00e4higkeit\\\\n\\\\nUnser Angebot\\\\n\\\\nEin junge, motiviertes Data Team\\\\nAbwechslungsreiches Aufgabengebiet in einem dynamischen Umfeld\\\\nEine langfristige Perspektive im Datenumfeld mit zukunftstr\\u00e4chtigen Konzepten\\\\nEin interessantes, komplexes und herausforderndes Produkt- und Projektumfeld\\\\nHohe Eigenverantwortung und Selbst\\u00e4ndigkeit\\\\n\\\\nEs sind keine Dossiers von Personalvermittlern gew\\u00fcnscht und Direktbewerbungen werden bevorzugt behandelt.\\\\nStelleninformationen\\\\nStandort Insel Gruppe\\\\nOrganisation\\\\nDirektion Technologie und Innovation\\\\nPensum\\\\n100 %\\\\nEintritt\\\\nper sofort oder n. V.\\\\nKennziffer\\\\n17553\\\\nVertragsart\\\\nunbefristet\\\\nArbeitsort\\\\nInselspital, FreiburgstrasseCH-3010 Bern, Schweiz\\\\n\"]];\n",
       "\n",
       "        // Define the dt_args\n",
       "        let dt_args = {\"layout\": {\"topStart\": null, \"topEnd\": null, \"bottomStart\": null, \"bottomEnd\": null}, \"order\": [], \"warn_on_selected_rows_not_rendered\": true};\n",
       "        dt_args[\"data\"] = data;\n",
       "\n",
       "        \n",
       "        new DataTable(table, dt_args);\n",
       "    });\n",
       "</script>\n"
      ],
      "text/plain": [
       "<IPython.core.display.HTML object>"
      ]
     },
     "metadata": {},
     "output_type": "display_data"
    }
   ],
   "source": [
    "import pandas as pd\n",
    "df = pd.DataFrame.from_records(job_summary, columns = [\"title\", \"company\", \"description\"])\n",
    "\n",
    "from itables import show\n",
    "show(df)"
   ]
  },
  {
   "cell_type": "markdown",
   "id": "4ebdfebf",
   "metadata": {
    "id": "4ebdfebf"
   },
   "source": [
    "### What to do from here?\n",
    "\n",
    "Now that you have some first impressions of what ``selenium`` is capable of:  there is much more to learn! You could extend/finetune the example in different ways:\n",
    "\n",
    " * make sure that each site is dowloaded correctly and only once:\n",
    "   - check if file exists on the system and is not empty (e.g. if exists(somefile): skip downloading)\n",
    "   - use better filenames, e.g. based on some ID to make this check easier\n",
    "   - introduce a short wait time in your loop if necessary (selenium can even wait/check until a certain element is present)\n",
    " * extract other elements:\n",
    "   - skills\n",
    "   - full texts\n",
    "   - working hours\n",
    "   - ...\n",
    " * Split your code into two separate scripts (one for data collection and one for data processing)\n",
    " * Think about a strategy to extend the search terms and/or locations\n",
    " * Make your scaper check for new job openings once a week, e.g. using cron jobs or the task scheduler\n",
    " * ...\n",
    "\n",
    "You might like to check out the following tutorials for more ideas: https://youtube.com/playlist?list=PLzMcBGfZo4-n40rB1XaJ0ak1bemvlqumQ"
   ]
  }
 ],
 "metadata": {
  "colab": {
   "provenance": []
  },
  "kernelspec": {
   "display_name": "Python 3",
   "language": "python",
   "name": "python3"
  },
  "language_info": {
   "codemirror_mode": {
    "name": "ipython",
    "version": 3
   },
   "file_extension": ".py",
   "mimetype": "text/x-python",
   "name": "python",
   "nbconvert_exporter": "python",
   "pygments_lexer": "ipython3",
   "version": "3.10.11"
  }
 },
 "nbformat": 4,
 "nbformat_minor": 5
}
