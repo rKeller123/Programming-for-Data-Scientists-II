{
 "cells": [
  {
   "cell_type": "markdown",
   "metadata": {
    "id": "U3zPuM3zuwFT"
   },
   "source": [
    "*Part 2: Python for Data Analysis I*\n",
    "### Introduction to Modules, NumPy and Pandas###\n",
    "#Exercises#"
   ]
  },
  {
   "cell_type": "markdown",
   "metadata": {
    "id": "ihjiiXFWCoOL"
   },
   "source": [
    "\n",
    "\n",
    "---\n",
    "\n",
    "\n",
    "<font color='violet'>\n",
    "Hints are written in white, so you do not see them immediately. If you highlight them (or double-click on them), they will appear!\n",
    "<font color='white'> I am a hint! :-)\n",
    "\n",
    "\n",
    "---\n"
   ]
  },
  {
   "cell_type": "markdown",
   "metadata": {
    "id": "U2hSLoyOBc1C"
   },
   "source": [
    "## 1. Basic exercises"
   ]
  },
  {
   "cell_type": "markdown",
   "metadata": {
    "id": "fTXm4BjVXSwH"
   },
   "source": [
    "### Numpy"
   ]
  },
  {
   "cell_type": "markdown",
   "metadata": {
    "id": "1Pdz94p_lDOr"
   },
   "source": [
    "**1.1.** Import the numpy module/library."
   ]
  },
  {
   "cell_type": "code",
   "execution_count": null,
   "metadata": {
    "id": "4N2MwvpSl6pb"
   },
   "outputs": [],
   "source": [
    "# Solution:\n",
    "import numpy as np"
   ]
  },
  {
   "cell_type": "markdown",
   "metadata": {
    "id": "CvxqbXs1l7lq"
   },
   "source": [
    "**1.2.** Create a numpy array called``arr`` from the list ``[10, 20, 30, 40, 50, 60, 70, 80, 90, 100]`` and print (a) the fifth element, (b) the first 4 elements, and (c) all elements that are not equal to 50."
   ]
  },
  {
   "cell_type": "code",
   "execution_count": null,
   "metadata": {
    "id": "r4L4ZblfnGTb"
   },
   "outputs": [],
   "source": [
    "# Solution:\n",
    "arr = np.array(range(0, 101, 10))\n",
    "\n",
    "# a\n",
    "print(arr[4])\n",
    "\n",
    "# b\n",
    "print(arr[:4])\n",
    "\n",
    "# c\n",
    "print(arr[arr != 50])"
   ]
  },
  {
   "cell_type": "markdown",
   "metadata": {
    "id": "QBBmzjc_uknR"
   },
   "source": [
    "Can you add 1 to every element of ``arr``?"
   ]
  },
  {
   "cell_type": "code",
   "execution_count": null,
   "metadata": {
    "id": "RIfjc1s3ujsw"
   },
   "outputs": [],
   "source": [
    "# Solution:\n",
    "arr = arr + 1\n",
    "print(arr)"
   ]
  },
  {
   "cell_type": "markdown",
   "metadata": {
    "id": "nPvP7eVXuSby"
   },
   "source": [
    "Create a second array ``arr_root`` with the square root of every element from ``arr``."
   ]
  },
  {
   "cell_type": "code",
   "execution_count": null,
   "metadata": {
    "id": "gF7hPu5TvJ2g"
   },
   "outputs": [],
   "source": [
    "# Solution:\n",
    "arr_root = arr**0.5\n",
    "print(arr_root)"
   ]
  },
  {
   "cell_type": "markdown",
   "metadata": {
    "id": "GNDK7EiQnHmC"
   },
   "source": [
    "**1.3.** Create the following two-dimensional array:\n",
    "```\n",
    "array([[0, 1, 2, 3],\n",
    "       [4, 5, 6, 7]])\n",
    "```"
   ]
  },
  {
   "cell_type": "code",
   "execution_count": null,
   "metadata": {
    "id": "beVu0IHHr2JX"
   },
   "outputs": [],
   "source": [
    "# Solution:\n",
    "arr2d = np.array([[0, 1, 2, 3], [4, 5, 6, 7]])"
   ]
  },
  {
   "cell_type": "markdown",
   "metadata": {
    "id": "C7Tz7dkXsUsR"
   },
   "source": [
    "Try to access the first element in the array. What type of object do you get?"
   ]
  },
  {
   "cell_type": "code",
   "execution_count": null,
   "metadata": {
    "id": "rGpaDhMZs0Q_"
   },
   "outputs": [],
   "source": [
    "# Solution:\n",
    "type(arr2d[0])"
   ]
  },
  {
   "cell_type": "markdown",
   "metadata": {
    "id": "m-yRuJjNtKwp"
   },
   "source": [
    "Can you think of a way to access the number 7 in the array?"
   ]
  },
  {
   "cell_type": "code",
   "execution_count": null,
   "metadata": {
    "id": "cECMtDFVtJ98"
   },
   "outputs": [],
   "source": [
    "# Solution:\n",
    "arr2d[-1, -1]"
   ]
  },
  {
   "cell_type": "markdown",
   "metadata": {
    "id": "BcOOjgryr0U4"
   },
   "source": [
    "Check the shape of your array. Can you reshape it so that the dimensions are swapped?"
   ]
  },
  {
   "cell_type": "code",
   "execution_count": null,
   "metadata": {
    "id": "xT1MksO-rzsA"
   },
   "outputs": [],
   "source": [
    "# Solution:\n",
    "print(arr2d.shape)\n",
    "arr2d.reshape(4, 2)\n"
   ]
  },
  {
   "cell_type": "markdown",
   "metadata": {
    "id": "cJ8MMODAwwcS"
   },
   "source": [
    "### Pandas"
   ]
  },
  {
   "cell_type": "markdown",
   "metadata": {
    "id": "ySWL5TkSxJ5e"
   },
   "source": [
    "**1.4.** Import the pandas module/library."
   ]
  },
  {
   "cell_type": "code",
   "execution_count": null,
   "metadata": {
    "id": "7aWuKHZ2xgeb"
   },
   "outputs": [],
   "source": [
    "# Solution:\n",
    "import pandas as pd"
   ]
  },
  {
   "cell_type": "markdown",
   "metadata": {
    "id": "YaGEB2_DxlIp"
   },
   "source": [
    "**1.5.** Try to construct the following pandas dataframe:\n",
    "\n",
    "|  | sex | birth_year | income |\n",
    "| :- | -: | -: |-: |\n",
    "| Paul | m |1965 |10000\n",
    "| Anna | f| 2005| 0\n",
    "| Bryan | m | 1991|4600"
   ]
  },
  {
   "cell_type": "code",
   "execution_count": null,
   "metadata": {
    "id": "tI8PUBoezYgg"
   },
   "outputs": [],
   "source": [
    "# Solution:\n",
    "df_dict = {\n",
    "    \"sex\" : [\"m\", \"f\", \"m\"],\n",
    "    \"birth_year\" : [1965, 2005, 1991],\n",
    "    \"income\" : [10000, 0, 4600]\n",
    "}\n",
    "names = [\"Paul\", \"Anna\", \"Bryan\"]\n",
    "\n",
    "my_df = pd.DataFrame(df_dict, index = names)\n",
    "print(my_df)"
   ]
  },
  {
   "cell_type": "markdown",
   "metadata": {
    "id": "KazBgrJjzTxz"
   },
   "source": [
    "Print the income column. What object type is this column?"
   ]
  },
  {
   "cell_type": "code",
   "execution_count": null,
   "metadata": {
    "id": "5knoNJ2ezS_J"
   },
   "outputs": [],
   "source": [
    "# Solution:\n",
    "print(my_df.income)\n",
    "print(type(my_df.income))"
   ]
  },
  {
   "cell_type": "markdown",
   "metadata": {
    "id": "_ZoWRwN_zgnx"
   },
   "source": [
    "Change the income column so that it holds the daily rather than the monthly income. Add a further column ``age`` with the age of each person and print the resulting dataset."
   ]
  },
  {
   "cell_type": "code",
   "execution_count": null,
   "metadata": {
    "id": "4vphWidtzfso"
   },
   "outputs": [],
   "source": [
    "# Solution:\n",
    "my_df[\"income\"] = my_df[\"income\"] / 30\n",
    "my_df[\"age\"] = 2025 - my_df[\"birth_year\"]\n",
    "print(my_df)"
   ]
  },
  {
   "cell_type": "markdown",
   "metadata": {
    "id": "HRmfr82b4FJT"
   },
   "source": [
    "Anonymize the dataset (so that names of the people do not appear anymore)."
   ]
  },
  {
   "cell_type": "code",
   "execution_count": null,
   "metadata": {
    "id": "_FenKqnG4YfN"
   },
   "outputs": [],
   "source": [
    "# Solution:\n",
    "my_df.reset_index(drop=True, inplace=True)\n",
    "print(my_df)"
   ]
  },
  {
   "cell_type": "markdown",
   "metadata": {
    "id": "AUz9o0Xz5zTe"
   },
   "source": [
    "**1.6.** Consider the following dataframe:"
   ]
  },
  {
   "cell_type": "code",
   "execution_count": null,
   "metadata": {
    "id": "b8N4L2sAze2g"
   },
   "outputs": [],
   "source": [
    "my_data = pd.DataFrame({\"sex\": [\"m\", \"f\", \"m\", \"m\", \"f\"],\n",
    "                   \"birth_year\": [1965, 2005, 1991, 1985, 1936],\n",
    "                   \"income\": [10000, 0, 4600, 5700, 2600],\n",
    "                   \"years_schooling\": [12, 10, 12, 18, 9]},\n",
    "                   index = [\"Paul\", \"Anna\", \"Bryan\", \"Andrea\", \"Petra\"])"
   ]
  },
  {
   "cell_type": "markdown",
   "metadata": {
    "id": "tRMWZqr96Coe"
   },
   "source": [
    "Do the following operations using the ``loc[]`` indexer:\n",
    "\n",
    "1.   Print Petra's birth year\n",
    "2.   Print sex, income and years of schooling for all persons up to Bryan\n",
    "3.   Change Andrea's sex to female\n",
    "\n"
   ]
  },
  {
   "cell_type": "code",
   "execution_count": null,
   "metadata": {
    "id": "ONbSAnLq6B-F"
   },
   "outputs": [],
   "source": [
    "# Solution:\n",
    "print(my_data.loc[\"Petra\", \"birth_year\"])\n",
    "print(my_data.loc[:\"Bryan\", [\"sex\", \"income\", \"years_schooling\"]])\n",
    "my_data.loc[\"Andrea\", \"sex\"] = \"f\"\n",
    "print(my_data)\n"
   ]
  },
  {
   "cell_type": "markdown",
   "metadata": {
    "id": "LavLIJ08ALOQ"
   },
   "source": [
    "Now do the same using the ``iloc[]`` indexer."
   ]
  },
  {
   "cell_type": "code",
   "execution_count": null,
   "metadata": {
    "id": "4yh7hrq0AKuP"
   },
   "outputs": [],
   "source": [
    "# Solution:\n",
    "print(my_data.iloc[-1, 1])\n",
    "print(my_data.iloc[:3, [0, 2, 3]])\n",
    "my_data.iloc[3, 0] = \"f\""
   ]
  },
  {
   "cell_type": "markdown",
   "metadata": {
    "id": "HYsSQEP8Bgff"
   },
   "source": [
    "Print the data for everyone who earns more than 3000. Can you also find a way to only print the income (instead of the entire data) of these people?\n",
    "\n",
    "><font color='violet'> Hint: <font color='white'> You can use the loc[] indexer for the second part of the excercise."
   ]
  },
  {
   "cell_type": "code",
   "execution_count": null,
   "metadata": {
    "id": "gwEWRWepBf8P"
   },
   "outputs": [],
   "source": [
    "# Solution:\n",
    "# 1\n",
    "print(my_data[my_data[\"income\"] > 3000])\n",
    "# 2\n",
    "print(my_data[my_data[\"income\"] > 3000].loc[:, \"income\"])"
   ]
  },
  {
   "cell_type": "markdown",
   "metadata": {
    "id": "I5fGuENsxWXa"
   },
   "source": [
    "## 2. Advanced exercises"
   ]
  },
  {
   "cell_type": "markdown",
   "metadata": {
    "id": "VWQRprceDjFI"
   },
   "source": [
    "**2.1.** Consider the ``my_data`` dataframe we used above. Assign the income column to a variable called ``income``. This variable should point to a pandas series. Change Petra's income in this series to 0 and observe what happens to (Petras's income in) ``my_data``."
   ]
  },
  {
   "cell_type": "code",
   "execution_count": null,
   "metadata": {
    "id": "89xtTgClDBpZ"
   },
   "outputs": [],
   "source": [
    "my_data = pd.DataFrame({\"sex\": [\"m\", \"f\", \"m\", \"m\", \"f\"],\n",
    "                   \"birth_year\": [1965, 2005, 1991, 1985, 1936],\n",
    "                   \"income\": [10000, 0, 4600, 5700, 2600],\n",
    "                   \"years_schooling\": [12, 10, 12, 18, 9]},\n",
    "                   index = [\"Paul\", \"Anna\", \"Bryan\", \"Andrea\", \"Petra\"])"
   ]
  },
  {
   "cell_type": "code",
   "execution_count": null,
   "metadata": {
    "id": "LZawjeMoDC9M"
   },
   "outputs": [],
   "source": [
    "# Solution:\n",
    "income = my_data.income\n",
    "\n",
    "my_data.loc[\"Petra\", \"income\"] = 0\n",
    "\n",
    "print(my_data)\n",
    "print(income)"
   ]
  },
  {
   "cell_type": "markdown",
   "metadata": {
    "id": "b3UAfeCEeJ9D"
   },
   "source": [
    "Why does this happen? And how can you avoid this behavoir (and create an ``income`` series that is independent of the ``my_data`` dataset)?"
   ]
  },
  {
   "cell_type": "code",
   "execution_count": null,
   "metadata": {
    "id": "ihiXPyl3ejQJ"
   },
   "outputs": [],
   "source": [
    "# Solution:\n",
    "# This happens because income and my_data[\"income\"] point to the same object in memory. to avoid this behaviour you could assign income a copy of the original income object\n",
    "\n",
    "income = my_data.income.copy()\n",
    "my_data.loc[\"Petra\", \"income\"] = 1234\n",
    "\n",
    "print(my_data)\n",
    "print(income)"
   ]
  }
 ],
 "metadata": {
  "colab": {
   "provenance": [
    {
     "file_id": "1J5sCNUxmBh0t7MH3cVHColt9WFjca3ze",
     "timestamp": 1614455032952
    }
   ],
   "toc_visible": true
  },
  "kernelspec": {
   "display_name": "Python 3",
   "name": "python3"
  },
  "language_info": {
   "codemirror_mode": {
    "name": "ipython",
    "version": 3
   },
   "file_extension": ".py",
   "mimetype": "text/x-python",
   "name": "python",
   "nbconvert_exporter": "python",
   "pygments_lexer": "ipython3",
   "version": "3.10.11"
  }
 },
 "nbformat": 4,
 "nbformat_minor": 0
}
