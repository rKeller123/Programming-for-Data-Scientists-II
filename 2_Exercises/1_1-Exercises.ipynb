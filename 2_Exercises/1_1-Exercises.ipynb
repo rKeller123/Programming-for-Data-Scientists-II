{
 "cells": [
  {
   "cell_type": "markdown",
   "metadata": {
    "id": "U3zPuM3zuwFT"
   },
   "source": [
    "*Part 1: Introduction to Python Syntax and Semantics I*\n",
    "### Python Basics: Built-in object types and operators###\n",
    "#Exercises#"
   ]
  },
  {
   "cell_type": "markdown",
   "metadata": {
    "id": "Ls6bNF822NGw"
   },
   "source": [
    "## 1. Basic excercises"
   ]
  },
  {
   "cell_type": "markdown",
   "metadata": {
    "id": "vNX5QmGQvCEb"
   },
   "source": [
    "### Simple object types and operators"
   ]
  },
  {
   "cell_type": "markdown",
   "metadata": {
    "id": "2PkP-jps2dWO"
   },
   "source": [
    "**Working with numbers**\n",
    "\n",
    "Create a variable ``lucky_nr`` with the value 7 and a variable ``unlucky_nr`` with the value 13. Subtract 1 from ``lucky_nr`` and multiply ``unlucky_nr`` by 3."
   ]
  },
  {
   "cell_type": "code",
   "execution_count": null,
   "metadata": {
    "id": "yo_Ze2efSiYg"
   },
   "outputs": [],
   "source": [
    "# Create lucky_nr and unlucky_nr\n",
    "lucky_nr = 7\n",
    "unlucky_nr = 13\n",
    "# Subtract 1 from lucky_nr\n",
    "lucky_nr -= 1\n",
    "\n",
    "# Multiply unlucky_nr by 3\n",
    "unlucky_nr *= 3\n"
   ]
  },
  {
   "cell_type": "markdown",
   "metadata": {
    "id": "kKbrz2k0VqVC"
   },
   "source": [
    "Now, add the two resulting variables and assign the resulting value to the variable ``sum_nr``. Print the value and the object type of ``sum_nr``."
   ]
  },
  {
   "cell_type": "code",
   "execution_count": 3,
   "metadata": {
    "id": "nG-CZO-OSnv5"
   },
   "outputs": [
    {
     "name": "stdout",
     "output_type": "stream",
     "text": [
      "45\n",
      "<class 'int'>\n"
     ]
    }
   ],
   "source": [
    "# Create sum_nr\n",
    "sum_nr = lucky_nr + unlucky_nr\n",
    "# Print content and type of sum_nr\n",
    "print(sum_nr)\n",
    "print(type(sum_nr))\n"
   ]
  },
  {
   "cell_type": "markdown",
   "metadata": {
    "id": "o9nSKYfy4KlR"
   },
   "source": [
    "Now create the variable ``magic_nr`` based on the following formula:\n",
    "${magic\\_nr} = \\sqrt{\\frac{unlucky\\_nr}{lucky\\_nr}}$\n",
    "\n",
    "Print the content and the type of the resulting variable.\n"
   ]
  },
  {
   "cell_type": "code",
   "execution_count": 4,
   "metadata": {
    "id": "aNo-mWk4u80T"
   },
   "outputs": [
    {
     "name": "stdout",
     "output_type": "stream",
     "text": [
      "2.5495097567963922\n",
      "<class 'float'>\n"
     ]
    }
   ],
   "source": [
    "# create magic_nr\n",
    "magic_nr = (unlucky_nr / lucky_nr) ** 0.5\n",
    "\n",
    "# print content and type of magic_nr\n",
    "print(magic_nr)\n",
    "print(type(magic_nr))"
   ]
  },
  {
   "cell_type": "markdown",
   "metadata": {
    "id": "CdeByg3mARKg"
   },
   "source": [
    "Check if the magic number is ...\n",
    "\n",
    "*   smaller than 3\n",
    "*   equal to 2\n",
    "*   greater or equal to 2.5\n",
    "\n",
    "(Use ``print()`` to display the result of each check.)"
   ]
  },
  {
   "cell_type": "code",
   "execution_count": 5,
   "metadata": {
    "id": "awZSiz4FAQgN"
   },
   "outputs": [
    {
     "name": "stdout",
     "output_type": "stream",
     "text": [
      "True\n",
      "False\n",
      "True\n"
     ]
    }
   ],
   "source": [
    "# Print results of each check\n",
    "print(magic_nr < 3)\n",
    "print(magic_nr == 2)\n",
    "print(magic_nr >= 2.5)\n"
   ]
  },
  {
   "cell_type": "markdown",
   "metadata": {
    "id": "2mp56kCrS5rF"
   },
   "source": [
    "What type of objects do these operations return? Write the answer as a comment or try/print it out for one example."
   ]
  },
  {
   "cell_type": "code",
   "execution_count": null,
   "metadata": {
    "id": "bUnSHmE3TDO5"
   },
   "outputs": [],
   "source": [
    "# answer: boolean\n"
   ]
  },
  {
   "cell_type": "markdown",
   "metadata": {
    "id": "3eEzE4Kx5h80"
   },
   "source": [
    "**Working with strings**\n",
    "\n",
    "Create a string variable called ``sent1`` and assign it the value ``I have found the magic number! `` and a second string called ``sent2`` with the value ``It is: ``. Concatenate the two variables and assign the result to the variable ``text``."
   ]
  },
  {
   "cell_type": "code",
   "execution_count": 10,
   "metadata": {
    "id": "fC9m4CaF5Ol8"
   },
   "outputs": [],
   "source": [
    "# create sent1 and sent2\n",
    "sent1 = \"I have found the magic number! \"\n",
    "sent2 = \"It is: \"\n",
    "# concatenate sent1 and sent2 to variable called text\n",
    "text = sent1 + sent2"
   ]
  },
  {
   "cell_type": "markdown",
   "metadata": {
    "id": "GwIpXWz5-_Hm"
   },
   "source": [
    "Now try to concatenate the ``text`` variable with the ``magic_nr`` variable so it is printed what the magic number is!"
   ]
  },
  {
   "cell_type": "code",
   "execution_count": 11,
   "metadata": {
    "id": "9_KL7Ob1_yHF"
   },
   "outputs": [
    {
     "name": "stdout",
     "output_type": "stream",
     "text": [
      "I have found the magic number! It is: 2.5495097567963922\n"
     ]
    }
   ],
   "source": [
    "# Print full sentence about the magic number\n",
    "\n",
    "print(text + str(magic_nr))\n"
   ]
  },
  {
   "cell_type": "markdown",
   "metadata": {
    "id": "GqxeI-dWXdGy"
   },
   "source": [
    "(If you want to print less digits, you need to format the number. We will learn how to do this in a later tutorial.)"
   ]
  },
  {
   "cell_type": "markdown",
   "metadata": {
    "id": "ddPq36h52vj0"
   },
   "source": [
    "### Lists"
   ]
  },
  {
   "cell_type": "markdown",
   "metadata": {
    "id": "ohIUyIuNu8YT"
   },
   "source": [
    "Create a list called my_list with the numbers from 1 to 10. Using indexing or slicing, print...\n",
    "*   the first element of the list (i.e. 1)\n",
    "*   the last element of the list (i.e. 10)\n",
    "*   the last five elements from the list (i.e. 6-10)\n",
    "*   the numbers 3-7\n",
    "*   every second element from the list (2,4,6,8,10)\n",
    "*   the reversed list (10,9,8,7...)\n",
    "><font color='violet'> Hint: Don't forget to put the print() function around each statement! Otherwise, only the output of the last statement will be printed!\n"
   ]
  },
  {
   "cell_type": "code",
   "execution_count": 19,
   "metadata": {
    "id": "xx4Bf7y5utr2"
   },
   "outputs": [
    {
     "name": "stdout",
     "output_type": "stream",
     "text": [
      "1\n",
      "10\n",
      "[6, 7, 8, 9, 10]\n",
      "[3, 4, 5, 6, 7]\n",
      "[2, 4, 6, 8, 10]\n"
     ]
    }
   ],
   "source": [
    "# Create my_list\n",
    "my_list = [i + 1 for i in range(10)]\n",
    "\n",
    "# Print different indices/slices\n",
    "print(my_list[0])\n",
    "print(my_list[-1])\n",
    "print(my_list[-5:])\n",
    "print(my_list[2:7])\n",
    "print(my_list[1::2])\n"
   ]
  },
  {
   "cell_type": "markdown",
   "metadata": {
    "id": "OInvP_sD9a03"
   },
   "source": [
    "Add the element 0 to the list and sort it:"
   ]
  },
  {
   "cell_type": "code",
   "execution_count": 20,
   "metadata": {
    "id": "_cadybeC9ZpG"
   },
   "outputs": [
    {
     "name": "stdout",
     "output_type": "stream",
     "text": [
      "[0, 1, 2, 3, 4, 5, 6, 7, 8, 9, 10]\n"
     ]
    }
   ],
   "source": [
    "# Add 0\n",
    "my_list.append(0)\n",
    "\n",
    "# Sort list\n",
    "my_list = sorted(my_list)\n",
    "\n",
    "# Print list (to check if it worked)\n",
    "print(my_list)"
   ]
  },
  {
   "cell_type": "markdown",
   "metadata": {
    "id": "ERQileDQ9hXj"
   },
   "source": [
    "What is the length of the list (number of elements in the list)? And what is the type of the first element in the list?"
   ]
  },
  {
   "cell_type": "code",
   "execution_count": 21,
   "metadata": {
    "id": "m_WAptyI5eQo"
   },
   "outputs": [
    {
     "name": "stdout",
     "output_type": "stream",
     "text": [
      "11\n",
      "<class 'int'>\n"
     ]
    }
   ],
   "source": [
    "# Print length of the list (don't forget the print() function!)\n",
    "print(len(my_list))\n",
    "\n",
    "# Type of first list element\n",
    "print(type(my_list[0]))"
   ]
  },
  {
   "cell_type": "markdown",
   "metadata": {
    "id": "ijQEzIBD9lHB"
   },
   "source": [
    "Using my_list, create a list called my_list2 where each element from 0 to 10 is repeated twice (i.e 0,0,1,1,2,2...). Print it out.\n",
    "\n"
   ]
  },
  {
   "cell_type": "code",
   "execution_count": 22,
   "metadata": {
    "id": "ctHZFV61A8tN"
   },
   "outputs": [
    {
     "name": "stdout",
     "output_type": "stream",
     "text": [
      "[0, 1, 2, 3, 4, 5, 6, 7, 8, 9, 10, 0, 1, 2, 3, 4, 5, 6, 7, 8, 9, 10]\n"
     ]
    }
   ],
   "source": [
    "# Create my_list2\n",
    "my_list2 = my_list + my_list\n",
    "\n",
    "# Print resulting list\n",
    "print(my_list2)\n"
   ]
  },
  {
   "cell_type": "markdown",
   "metadata": {
    "id": "p5gujEc72y8b"
   },
   "source": [
    "### Dictionaries"
   ]
  },
  {
   "cell_type": "markdown",
   "metadata": {
    "id": "-MKKfIrGHXVX"
   },
   "source": [
    "Create a dictionary called my_dict with the name of fruits as the key and their color as the value (apple=red, orange=orange, banana=yellow). Then add the pear (green) to the list and change the color of the apple to green. Print the color of the banana and the entire dictionary.  "
   ]
  },
  {
   "cell_type": "code",
   "execution_count": 23,
   "metadata": {
    "id": "1xfoAPoZH7gf"
   },
   "outputs": [
    {
     "name": "stdout",
     "output_type": "stream",
     "text": [
      "yellow\n",
      "{'apple': 'green', 'orange': 'orange', 'banana': 'yellow', 'pear': 'green'}\n"
     ]
    }
   ],
   "source": [
    "# Create my_dict\n",
    "my_dict = {\n",
    "    \"apple\" : \"red\",\n",
    "    \"orange\" : \"orange\",\n",
    "    \"banana\" : \"yellow\"\n",
    "}\n",
    "\n",
    "# Add pear\n",
    "my_dict[\"pear\"] = \"green\"\n",
    "\n",
    "# Change value of apple to green\n",
    "my_dict[\"apple\"] = \"green\"\n",
    "\n",
    "# Print color of banana\n",
    "print(my_dict[\"banana\"])\n",
    "\n",
    "# Print entire dictionary\n",
    "print(my_dict)\n"
   ]
  },
  {
   "cell_type": "markdown",
   "metadata": {
    "id": "Rgo1KEjRHO7u"
   },
   "source": [
    "You would like to remove the banana from your dictionary. We didn't learn how to do this. Try to find out how you can do this (e.g. by Googling it). Check if it worked by printing the final dictionary!"
   ]
  },
  {
   "cell_type": "code",
   "execution_count": 24,
   "metadata": {
    "id": "-kDKAyKnKrhz"
   },
   "outputs": [
    {
     "name": "stdout",
     "output_type": "stream",
     "text": [
      "{'apple': 'green', 'orange': 'orange', 'pear': 'green'}\n"
     ]
    }
   ],
   "source": [
    "# Remove banana\n",
    "del my_dict[\"banana\"]\n",
    "# Print resulting dictionary\n",
    "print(my_dict)\n"
   ]
  },
  {
   "cell_type": "markdown",
   "metadata": {
    "id": "hKPREZL41gkA"
   },
   "source": [
    "\n",
    "\n",
    "---\n",
    "\n",
    "---\n",
    "\n",
    "---\n",
    "\n",
    "\n",
    "\n",
    "\n",
    "\n"
   ]
  },
  {
   "cell_type": "markdown",
   "metadata": {
    "id": "I5fGuENsxWXa"
   },
   "source": [
    "## 2. Advanced exercises"
   ]
  },
  {
   "cell_type": "markdown",
   "metadata": {
    "id": "p93tmsHHRahX"
   },
   "source": [
    "### Nested lists"
   ]
  },
  {
   "cell_type": "markdown",
   "metadata": {
    "id": "8hUaN7rkOp0T"
   },
   "source": [
    "Lists can also contain further lists:"
   ]
  },
  {
   "cell_type": "code",
   "execution_count": 26,
   "metadata": {
    "id": "wXi11UcuOpAB"
   },
   "outputs": [],
   "source": [
    "nested_list =[[1,2,3], [4,5,6], [7,8,9]]"
   ]
  },
  {
   "cell_type": "markdown",
   "metadata": {
    "id": "f8tgsjUQO5zO"
   },
   "source": [
    "Try to print the following parts of this nested list:\n",
    "\n",
    "\n",
    "*   First sub-list (i.e. [1,2,3])\n",
    "*   Third element of first sub-list (i.e. 3)\n",
    "*   First two elements of the last sub-list (i.e. [7, 8])\n",
    "\n",
    "\n",
    "\n"
   ]
  },
  {
   "cell_type": "code",
   "execution_count": null,
   "metadata": {
    "id": "4yoAsFjyMCVk"
   },
   "outputs": [
    {
     "name": "stdout",
     "output_type": "stream",
     "text": [
      "[1, 2, 3]\n",
      "3\n",
      "[7, 8]\n"
     ]
    }
   ],
   "source": [
    "print(nested_list[0])\n",
    "print(nested_list[0][2])\n",
    "print(nested_list[-1][:2])"
   ]
  },
  {
   "cell_type": "markdown",
   "metadata": {
    "id": "b23csZY3-Xow"
   },
   "source": [
    "### Sets and Tuples"
   ]
  },
  {
   "cell_type": "markdown",
   "metadata": {
    "id": "9r52x1MtMM6p"
   },
   "source": [
    "Consider the following list:"
   ]
  },
  {
   "cell_type": "code",
   "execution_count": 28,
   "metadata": {
    "id": "a1-6UcigMlXY"
   },
   "outputs": [],
   "source": [
    "A = [2,0,5,0,3,6,8,8,3,4,56,7,56,5,6,7,8,5,5,3,3,5,7,0,3,55,6,2,3]"
   ]
  },
  {
   "cell_type": "markdown",
   "metadata": {
    "id": "0KsqNjRrMkrq"
   },
   "source": [
    "What is the number of distinct (i.e. unique) elements in A?\n"
   ]
  },
  {
   "cell_type": "code",
   "execution_count": 29,
   "metadata": {
    "id": "jC6EM7g0NBkv"
   },
   "outputs": [
    {
     "name": "stdout",
     "output_type": "stream",
     "text": [
      "10\n"
     ]
    }
   ],
   "source": [
    "print(len(set(A)))"
   ]
  },
  {
   "cell_type": "markdown",
   "metadata": {
    "id": "gXpSMNxjOCrZ"
   },
   "source": [
    "Consider the following **tuple**:"
   ]
  },
  {
   "cell_type": "code",
   "execution_count": 30,
   "metadata": {
    "id": "aenjB_AzONnX"
   },
   "outputs": [],
   "source": [
    "my_tuple = (1,3)"
   ]
  },
  {
   "cell_type": "markdown",
   "metadata": {
    "id": "g3PyzPkvdqeL"
   },
   "source": [
    "How can you assign the first value of the tuple to a variable named A and the second to a variable named B (in one line of code)?"
   ]
  },
  {
   "cell_type": "code",
   "execution_count": 31,
   "metadata": {
    "id": "j9aMyY4F9Nac"
   },
   "outputs": [
    {
     "name": "stdout",
     "output_type": "stream",
     "text": [
      "1\n",
      "3\n"
     ]
    }
   ],
   "source": [
    "A, B = my_tuple\n",
    "print(A)\n",
    "print(B)"
   ]
  },
  {
   "cell_type": "markdown",
   "metadata": {
    "id": "I3jQJhFiAmr0"
   },
   "source": [
    "Does this work for other object types (lists, strings, sets, dictionaries) as well? Try it out!"
   ]
  },
  {
   "cell_type": "code",
   "execution_count": null,
   "metadata": {
    "id": "9imvdCWNAnwR"
   },
   "outputs": [
    {
     "name": "stdout",
     "output_type": "stream",
     "text": [
      "a b c\n",
      "d e\n",
      "g f\n",
      "h i\n"
     ]
    }
   ],
   "source": [
    "a, b, c = \"abc\"\n",
    "print(a, b, c)\n",
    "\n",
    "d, e = [\"d\", \"e\"]\n",
    "print(d, e)\n",
    "\n",
    "f, g = {\"f\", \"g\"}\n",
    "print(f, g)\n",
    "\n",
    "h, i = {\"h\" : \"h\", \"i\" : \"i\"}\n",
    "print(h, i)\n",
    "\n",
    "# everything seems to work!"
   ]
  },
  {
   "cell_type": "markdown",
   "metadata": {
    "id": "2AbQaWuCxcSi"
   },
   "source": [
    "###Mutable objects and pointers\n",
    "\n",
    " Create a dictionary called my_dict with the name of fruits as the key and their color as the value (apple=red, orange=orange, banana=yellow) and a variable your_dict that points to that same dictionary. Now, change the value of the apple in your_dict to \"green\" and observe what happens to my_dict."
   ]
  },
  {
   "cell_type": "code",
   "execution_count": 36,
   "metadata": {
    "id": "XlLRxpcatb70"
   },
   "outputs": [
    {
     "name": "stdout",
     "output_type": "stream",
     "text": [
      "{'apple': 'green', 'orange': 'orange', 'banana': 'yellow'}\n",
      "{'apple': 'green', 'orange': 'orange', 'banana': 'yellow'}\n"
     ]
    }
   ],
   "source": [
    "# Assign fruit dictionary to my_dict\n",
    "my_dict = {\n",
    "    \"apple\" : \"red\",\n",
    "    \"orange\" : \"orange\",\n",
    "    \"banana\" : \"yellow\"\n",
    "}\n",
    "\n",
    "# Create your_dict (pointing to the same object as my dict)\n",
    "your_dict = my_dict\n",
    "\n",
    "# Change value of apple in your_dict\n",
    "your_dict[\"apple\"] = \"green\"\n",
    "\n",
    "# Print out my_dict and your_dict\n",
    "print(my_dict)\n",
    "print(your_dict)\n"
   ]
  },
  {
   "cell_type": "markdown",
   "metadata": {
    "id": "phumDiKt0C_4"
   },
   "source": [
    "How could you avoid the behavior? Rewrite the code above by making a *true* copy of my_dict (instead of a pointer to the same object).\n"
   ]
  },
  {
   "cell_type": "code",
   "execution_count": 37,
   "metadata": {
    "id": "yuS3WfAU1BT4"
   },
   "outputs": [
    {
     "name": "stdout",
     "output_type": "stream",
     "text": [
      "{'apple': 'red', 'orange': 'orange', 'banana': 'yellow'}\n",
      "{'apple': 'green', 'orange': 'orange', 'banana': 'yellow'}\n"
     ]
    }
   ],
   "source": [
    "# Assign fruit dictionary to my_dict\n",
    "my_dict = {\n",
    "    \"apple\" : \"red\",\n",
    "    \"orange\" : \"orange\",\n",
    "    \"banana\" : \"yellow\"\n",
    "}\n",
    "\n",
    "# Create your_dict (pointing to the same object as my dict)\n",
    "your_dict = my_dict.copy()\n",
    "\n",
    "# Change value of apple in your_dict\n",
    "your_dict[\"apple\"] = \"green\"\n",
    "\n",
    "# Print out my_dict and your_dict\n",
    "print(my_dict)\n",
    "print(your_dict)"
   ]
  }
 ],
 "metadata": {
  "colab": {
   "provenance": []
  },
  "kernelspec": {
   "display_name": "Python 3",
   "name": "python3"
  },
  "language_info": {
   "codemirror_mode": {
    "name": "ipython",
    "version": 3
   },
   "file_extension": ".py",
   "mimetype": "text/x-python",
   "name": "python",
   "nbconvert_exporter": "python",
   "pygments_lexer": "ipython3",
   "version": "3.10.11"
  }
 },
 "nbformat": 4,
 "nbformat_minor": 0
}
