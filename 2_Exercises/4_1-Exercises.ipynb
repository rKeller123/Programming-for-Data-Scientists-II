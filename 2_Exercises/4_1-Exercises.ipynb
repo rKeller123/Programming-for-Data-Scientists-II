{
 "cells": [
  {
   "cell_type": "markdown",
   "metadata": {
    "id": "U3zPuM3zuwFT"
   },
   "source": [
    "*Part 4: Working with Text Data*\n",
    "#String methods and regular expressions\n",
    "#Exercises#"
   ]
  },
  {
   "cell_type": "markdown",
   "metadata": {
    "id": "ihjiiXFWCoOL"
   },
   "source": [
    "\n",
    "\n",
    "---\n",
    "\n",
    "\n",
    "<font color='violet'>\n",
    "Hints are written in white, so you do not see them immediately. If you highlight them (or double-click on them), they will appear!\n",
    "<font color='white'> I am a hint! :-)\n",
    "\n",
    "\n",
    "---\n"
   ]
  },
  {
   "cell_type": "markdown",
   "metadata": {
    "id": "U2hSLoyOBc1C"
   },
   "source": [
    "## 1. Basic exercises"
   ]
  },
  {
   "cell_type": "markdown",
   "metadata": {
    "id": "fTXm4BjVXSwH"
   },
   "source": [
    "### Exercise 1.1"
   ]
  },
  {
   "cell_type": "markdown",
   "metadata": {
    "id": "m01snmJ4FaBL"
   },
   "source": [
    "Consider the following string:"
   ]
  },
  {
   "cell_type": "code",
   "execution_count": 1,
   "metadata": {
    "id": "dRMiGlKyFemi"
   },
   "outputs": [],
   "source": [
    "my_string = \"  THIS string really doesn%27t look GOOD. IT%27s very messy. Try tO cleAn it up!  \""
   ]
  },
  {
   "cell_type": "markdown",
   "metadata": {
    "id": "Im6fsXhtFfNL"
   },
   "source": [
    "Try to clean it doing the following:\n",
    "* lower-case all the letters\n",
    "* remove spaces on the right and on the left\n",
    "* Insert a ``'`` instead of the ``%27``."
   ]
  },
  {
   "cell_type": "code",
   "execution_count": 5,
   "metadata": {
    "id": "qdqqRbhbHR96"
   },
   "outputs": [
    {
     "data": {
      "text/plain": [
       "\"this string really doesn't look good. it's very messy. try to clean it up!\""
      ]
     },
     "execution_count": 5,
     "metadata": {},
     "output_type": "execute_result"
    }
   ],
   "source": [
    "my_string = my_string.strip().lower().replace(\"%27\", \"'\")\n",
    "my_string"
   ]
  },
  {
   "cell_type": "markdown",
   "metadata": {
    "id": "Q_DAhKPtHSmN"
   },
   "source": [
    "What is the position of the (first) g in the string?"
   ]
  },
  {
   "cell_type": "code",
   "execution_count": 6,
   "metadata": {
    "id": "fmlVkWJMHfbI"
   },
   "outputs": [
    {
     "data": {
      "text/plain": [
       "10"
      ]
     },
     "execution_count": 6,
     "metadata": {},
     "output_type": "execute_result"
    }
   ],
   "source": [
    "my_string.index(\"g\")"
   ]
  },
  {
   "cell_type": "markdown",
   "metadata": {
    "id": "KM0zzDZtJgpw"
   },
   "source": [
    "Can you create a list of sentences from your string?"
   ]
  },
  {
   "cell_type": "code",
   "execution_count": 8,
   "metadata": {
    "id": "38urpOVYJgG5"
   },
   "outputs": [
    {
     "data": {
      "text/plain": [
       "[\"this string really doesn't look good\",\n",
       " \" it's very messy\",\n",
       " ' try to clean it up!']"
      ]
     },
     "execution_count": 8,
     "metadata": {},
     "output_type": "execute_result"
    }
   ],
   "source": [
    "sentences = my_string.split(\".\")\n",
    "sentences"
   ]
  },
  {
   "cell_type": "markdown",
   "metadata": {
    "id": "fhipQS9hFKZN"
   },
   "source": [
    "### Exercise 1.2"
   ]
  },
  {
   "cell_type": "markdown",
   "metadata": {
    "id": "r6aDzCKQFSsl"
   },
   "source": [
    "Consider the following pandas dataframe with a note about each one of your cats:"
   ]
  },
  {
   "cell_type": "code",
   "execution_count": 9,
   "metadata": {
    "id": "X12_uolGFQwk"
   },
   "outputs": [
    {
     "data": {
      "text/html": [
       "<div>\n",
       "<style scoped>\n",
       "    .dataframe tbody tr th:only-of-type {\n",
       "        vertical-align: middle;\n",
       "    }\n",
       "\n",
       "    .dataframe tbody tr th {\n",
       "        vertical-align: top;\n",
       "    }\n",
       "\n",
       "    .dataframe thead th {\n",
       "        text-align: right;\n",
       "    }\n",
       "</style>\n",
       "<table border=\"1\" class=\"dataframe\">\n",
       "  <thead>\n",
       "    <tr style=\"text-align: right;\">\n",
       "      <th></th>\n",
       "      <th>notes</th>\n",
       "    </tr>\n",
       "  </thead>\n",
       "  <tbody>\n",
       "    <tr>\n",
       "      <th>Sarah</th>\n",
       "      <td>My favorite cat</td>\n",
       "    </tr>\n",
       "    <tr>\n",
       "      <th>Pete</th>\n",
       "      <td>THE YOUNGEST OF MY CATS...</td>\n",
       "    </tr>\n",
       "    <tr>\n",
       "      <th>Mary</th>\n",
       "      <td>Mischievous white cat</td>\n",
       "    </tr>\n",
       "    <tr>\n",
       "      <th>Linny</th>\n",
       "      <td>Always hungry</td>\n",
       "    </tr>\n",
       "  </tbody>\n",
       "</table>\n",
       "</div>"
      ],
      "text/plain": [
       "                             notes\n",
       "Sarah              My favorite cat\n",
       "Pete    THE YOUNGEST OF MY CATS...\n",
       "Mary       Mischievous white cat  \n",
       "Linny                Always hungry"
      ]
     },
     "execution_count": 9,
     "metadata": {},
     "output_type": "execute_result"
    }
   ],
   "source": [
    "import pandas as pd\n",
    "\n",
    "df = pd.DataFrame([\"  My favorite cat\",\n",
    "                   \" THE YOUNGEST OF MY CATS...\",\n",
    "                   \"Mischievous white cat  \",\n",
    "                   \" Always hungry\"],\n",
    "                  index = [\"Sarah\",  \"Pete\", \"Mary\", \"Linny\"],\n",
    "                  columns=[\"notes\"])\n",
    "\n",
    "df"
   ]
  },
  {
   "cell_type": "markdown",
   "metadata": {
    "id": "WPomhI7JZEuQ"
   },
   "source": [
    "Try to clean the notes doing the following:\n",
    "* remove spaces on the right and on the left\n",
    "* remove the dots\n",
    "* capitalize all notes"
   ]
  },
  {
   "cell_type": "code",
   "execution_count": 15,
   "metadata": {
    "id": "sMyyoropFOYX"
   },
   "outputs": [
    {
     "data": {
      "text/html": [
       "<div>\n",
       "<style scoped>\n",
       "    .dataframe tbody tr th:only-of-type {\n",
       "        vertical-align: middle;\n",
       "    }\n",
       "\n",
       "    .dataframe tbody tr th {\n",
       "        vertical-align: top;\n",
       "    }\n",
       "\n",
       "    .dataframe thead th {\n",
       "        text-align: right;\n",
       "    }\n",
       "</style>\n",
       "<table border=\"1\" class=\"dataframe\">\n",
       "  <thead>\n",
       "    <tr style=\"text-align: right;\">\n",
       "      <th></th>\n",
       "      <th>notes</th>\n",
       "    </tr>\n",
       "  </thead>\n",
       "  <tbody>\n",
       "    <tr>\n",
       "      <th>Sarah</th>\n",
       "      <td>My favorite cat</td>\n",
       "    </tr>\n",
       "    <tr>\n",
       "      <th>Pete</th>\n",
       "      <td>The youngest of my cats</td>\n",
       "    </tr>\n",
       "    <tr>\n",
       "      <th>Mary</th>\n",
       "      <td>Mischievous white cat</td>\n",
       "    </tr>\n",
       "    <tr>\n",
       "      <th>Linny</th>\n",
       "      <td>Always hungry</td>\n",
       "    </tr>\n",
       "  </tbody>\n",
       "</table>\n",
       "</div>"
      ],
      "text/plain": [
       "                         notes\n",
       "Sarah          My favorite cat\n",
       "Pete   The youngest of my cats\n",
       "Mary     Mischievous white cat\n",
       "Linny            Always hungry"
      ]
     },
     "execution_count": 15,
     "metadata": {},
     "output_type": "execute_result"
    }
   ],
   "source": [
    "df[\"notes\"] = df[\"notes\"].str.strip()\n",
    "df[\"notes\"] = df[\"notes\"].str.replace(\".\", \"\")\n",
    "df[\"notes\"] = df[\"notes\"].str.capitalize()\n",
    "df"
   ]
  },
  {
   "cell_type": "markdown",
   "metadata": {
    "id": "I5fGuENsxWXa"
   },
   "source": [
    "## 2. Advanced exercise"
   ]
  },
  {
   "cell_type": "markdown",
   "metadata": {
    "id": "BElfSM_aPRlV"
   },
   "source": [
    "### Exercise 2.1"
   ]
  },
  {
   "cell_type": "markdown",
   "metadata": {
    "id": "-fMK1e5TMn-Q"
   },
   "source": [
    "You created a page with cute cat videos and would like to advertise it via SMS. Many people have their (cell) phone numbers on some websites and you have already written a web crawler that fetches you large amounts of pages from the internet. Now, you only need to extract the phone numbers from this data (excluding non-Swiss phone numbers).\n",
    "\n",
    "Write a regex that allows you to do this and test it on the following example string:"
   ]
  },
  {
   "cell_type": "code",
   "execution_count": null,
   "metadata": {
    "id": "MlNDOnNXSOXB"
   },
   "outputs": [],
   "source": [
    "phone_test = \"\"\" My number is 0774562935. My best friend's number is 079 382 32 84\n",
    "and my mom's number is 076-843-84-48. And, by the way, my cat also has a\n",
    "number: (0041) 78 333 66 88. I also have some friends in other countries; their\n",
    "numbers are 077-345-345-43 and 177 478 11 83, but I forgot the country codes.\n",
    "Can you retrieve all the valid (Swiss) numbers from this string?\"\"\""
   ]
  },
  {
   "cell_type": "code",
   "execution_count": null,
   "metadata": {
    "id": "JWFFKRupTokR"
   },
   "outputs": [],
   "source": []
  },
  {
   "cell_type": "markdown",
   "metadata": {
    "id": "jbAv7CINivOE"
   },
   "source": [
    "Manipulate the numbers so that they all have the following format: ``+41-7#-###-##-##``"
   ]
  },
  {
   "cell_type": "code",
   "execution_count": null,
   "metadata": {
    "id": "sHCWheSagd0X"
   },
   "outputs": [],
   "source": []
  },
  {
   "cell_type": "markdown",
   "metadata": {
    "id": "f5sucsZUz5_c"
   },
   "source": [
    "### Exercise 2.2"
   ]
  },
  {
   "cell_type": "markdown",
   "metadata": {
    "id": "BppPtPNuTpp7"
   },
   "source": [
    "You realize that your advertising campaign is not going very well. It is quite expensive to send all the text messages and as the reponse rate is quite low, the costs may exceed the benefits. You decide to advertise your page via email rather than SMS. Can you extract all valid email addresses from the following string? <font color='violet'> Hint: <font color='white'> Note that if you want to include a \"-\" in a set, you must put it as the first or the last character in the set (otherwise it will be interpreted as a range). If you want to search for a . (outside a set), you have to escape it using a backslash."
   ]
  },
  {
   "cell_type": "code",
   "execution_count": null,
   "metadata": {
    "id": "WXQ0Yir1NvHh"
   },
   "outputs": [],
   "source": [
    "mail_test = \"\"\" @everyone: Contact me by email: thisaddress@hotmail.com. You can also use\n",
    " my.other-address@gmx.ch! This is not a valid mail address: abc%@gmail.uk\n",
    " as only letters, numbers, and the signs _, ., +, and - are allowed before the @-sign.\n",
    " thisaddress@hello is also not valid: After the @ there must be a domain name\n",
    " (e.g. hotmail), followed by a . and a top level domain (e.g. com).\n",
    " \"\"\""
   ]
  },
  {
   "cell_type": "code",
   "execution_count": null,
   "metadata": {
    "id": "c9P2Y5qMQzMv"
   },
   "outputs": [],
   "source": []
  },
  {
   "cell_type": "markdown",
   "metadata": {
    "id": "wmaAKgqoDEES"
   },
   "source": [
    "### Exercise 2.3"
   ]
  },
  {
   "cell_type": "markdown",
   "metadata": {
    "id": "H_T-bOgW0RGY"
   },
   "source": [
    "Now let's say you want to advertise your page with all members of the Uni Bern Sociology Team (but please don't). Fetch the URL https://www.soz.unibe.ch/ueber_uns/team_von_a_z/index_ger.html und extract Name, Telefon and E-Mail of all listed persons. Organize them in a pandas df.\n",
    "\n"
   ]
  },
  {
   "cell_type": "code",
   "execution_count": null,
   "metadata": {
    "id": "ZwKWVJWn0uWq"
   },
   "outputs": [],
   "source": []
  },
  {
   "cell_type": "code",
   "execution_count": null,
   "metadata": {
    "id": "eGsqoenISpR_"
   },
   "outputs": [],
   "source": []
  },
  {
   "cell_type": "code",
   "execution_count": null,
   "metadata": {
    "id": "ND-92bl46qt5"
   },
   "outputs": [],
   "source": []
  }
 ],
 "metadata": {
  "colab": {
   "provenance": [
    {
     "file_id": "1J5sCNUxmBh0t7MH3cVHColt9WFjca3ze",
     "timestamp": 1614455032952
    }
   ]
  },
  "kernelspec": {
   "display_name": "Python 3",
   "name": "python3"
  },
  "language_info": {
   "codemirror_mode": {
    "name": "ipython",
    "version": 3
   },
   "file_extension": ".py",
   "mimetype": "text/x-python",
   "name": "python",
   "nbconvert_exporter": "python",
   "pygments_lexer": "ipython3",
   "version": "3.10.11"
  }
 },
 "nbformat": 4,
 "nbformat_minor": 0
}
