{
 "cells": [
  {
   "cell_type": "markdown",
   "metadata": {
    "id": "U3zPuM3zuwFT"
   },
   "source": [
    "*Part 2: Python for Data Analysis II*\n",
    "### Working with Pandas###\n",
    "#Exercises#"
   ]
  },
  {
   "cell_type": "markdown",
   "metadata": {
    "id": "ihjiiXFWCoOL"
   },
   "source": [
    "\n",
    "\n",
    "---\n",
    "\n",
    "\n",
    "<font color='violet'>\n",
    "Hints are written in white, so you do not see them immediately. If you highlight them (or double-click on them), they will appear!\n",
    "<font color='white'> I am a hint! :-)\n",
    "\n",
    "\n",
    "---\n"
   ]
  },
  {
   "cell_type": "code",
   "execution_count": null,
   "metadata": {
    "id": "k97LXWcuVwAK"
   },
   "outputs": [],
   "source": [
    "# Your feedback: If you have any suggestions about the course or the excercises,\n",
    "# you can provide them here!"
   ]
  },
  {
   "cell_type": "markdown",
   "metadata": {
    "id": "U2hSLoyOBc1C"
   },
   "source": [
    "## 1. Basic exercises"
   ]
  },
  {
   "cell_type": "markdown",
   "metadata": {
    "id": "8_dHbdurIw2m"
   },
   "source": [
    "### Data inspection"
   ]
  },
  {
   "cell_type": "markdown",
   "metadata": {
    "id": "083AonQkEI1z"
   },
   "source": [
    "**1.1.** Import the pandas and the numpy library:"
   ]
  },
  {
   "cell_type": "code",
   "execution_count": 3,
   "metadata": {
    "id": "6wkw3slNENvd"
   },
   "outputs": [
    {
     "name": "stdout",
     "output_type": "stream",
     "text": [
      "c:\\Users\\Raphael\\Documents\\unibe\\Semester 4\\Programming-for-Data-Scientists-II\\2_Exercises\n"
     ]
    }
   ],
   "source": [
    "# Solution:\n",
    "import pandas as pd\n",
    "import numpy as np\n",
    "import os\n",
    "\n",
    "print(os.getcwd())\n",
    "os.chdir(\"../4_Data\")"
   ]
  },
  {
   "cell_type": "markdown",
   "metadata": {
    "id": "I6wXeBmwfoON"
   },
   "source": [
    "**1.2.** In the following folder you will find a dataset called ``countries_trust.csv``: https://drive.google.com/drive/folders/1QnHTDQ0tb8_Ex6dMgNCwqJuL3PxzEKIv?usp=sharing\n",
    "\n",
    "Import the dataset and assign it to a variable (e.g. ``df``). If you work with Colab, you will first have to copy the file to your Google Drive and then mount the drive (see Tutorial)!\n",
    "\n"
   ]
  },
  {
   "cell_type": "code",
   "execution_count": 4,
   "metadata": {
    "id": "m5EWYMQPfnsO"
   },
   "outputs": [
    {
     "name": "stdout",
     "output_type": "stream",
     "text": [
      "     Unnamed: 0 country_name country_code  Population       Continent  \\\n",
      "0             0        Aruba          ABW    104000.0  America, North   \n",
      "1             1  Afghanistan          AFG  34414000.0            Asia   \n",
      "2             2       Angola          AGO  27884000.0          Africa   \n",
      "3             3      Albania          ALB   2891000.0          Europe   \n",
      "4             4      Andorra          AND     78000.0          Europe   \n",
      "..          ...          ...          ...         ...             ...   \n",
      "200         200       Zambia          ZMB  15879000.0          Africa   \n",
      "201         201     Zimbabwe          ZWE  13815000.0          Africa   \n",
      "202         202          NaN          NaN         NaN             NaN   \n",
      "203         203          NaN          NaN         NaN             NaN   \n",
      "204         204          NaN          NaN         NaN             NaN   \n",
      "\n",
      "        GNI_Total Income share held by highest 10%  \\\n",
      "0    2.730000e+09                                .   \n",
      "1    2.064840e+10                                .   \n",
      "2    1.260357e+11                                .   \n",
      "3    1.269149e+10                             22.9   \n",
      "4             NaN                                .   \n",
      "..            ...                              ...   \n",
      "200  2.508882e+10                             44.4   \n",
      "201  1.768320e+10                             33.8   \n",
      "202           NaN                              NaN   \n",
      "203           NaN                              NaN   \n",
      "204           NaN                              NaN   \n",
      "\n",
      "     Deaths - Interpersonal violence - Sex: Both - Age: All Ages (Percent)  \\\n",
      "0                                                  NaN                       \n",
      "1                                             1.546670                       \n",
      "2                                             0.483067                       \n",
      "3                                             0.316194                       \n",
      "4                                             0.100418                       \n",
      "..                                                 ...                       \n",
      "200                                           0.839167                       \n",
      "201                                           1.002734                       \n",
      "202                                                NaN                       \n",
      "203                                                NaN                       \n",
      "204                                                NaN                       \n",
      "\n",
      "     Trust in others (World Values Survey (2014))  \\\n",
      "0                                             NaN   \n",
      "1                                             NaN   \n",
      "2                                             NaN   \n",
      "3                                             NaN   \n",
      "4                                             NaN   \n",
      "..                                            ...   \n",
      "200                                           NaN   \n",
      "201                                           7.2   \n",
      "202                                           NaN   \n",
      "203                                           NaN   \n",
      "204                                           NaN   \n",
      "\n",
      "     Life satisfaction in Cantril Ladder (World Happiness Report 2020)  \n",
      "0                                                  NaN                  \n",
      "1                                                  NaN                  \n",
      "2                                                  NaN                  \n",
      "3                                                  NaN                  \n",
      "4                                                  NaN                  \n",
      "..                                                 ...                  \n",
      "200                                                NaN                  \n",
      "201                                                NaN                  \n",
      "202                                                NaN                  \n",
      "203                                                NaN                  \n",
      "204                                                NaN                  \n",
      "\n",
      "[205 rows x 10 columns]\n"
     ]
    }
   ],
   "source": [
    "# Solution:\n",
    "df = pd.read_csv(\"countries_trust.csv\")\n",
    "print(df)"
   ]
  },
  {
   "cell_type": "markdown",
   "metadata": {
    "id": "k87hnDU3vqeM"
   },
   "source": [
    "If you didn't succeed in loading the data from Google Drive, you can also load the data from the following URL: ``\"http://farys.org/daten/countries_trust.csv\"``"
   ]
  },
  {
   "cell_type": "code",
   "execution_count": null,
   "metadata": {
    "id": "CblDg1o6v3oJ"
   },
   "outputs": [],
   "source": [
    "# Solution:\n"
   ]
  },
  {
   "cell_type": "markdown",
   "metadata": {
    "id": "BkUiHrKKG4jI"
   },
   "source": [
    "**1.3.** Inspect the head and the tail of the dataset."
   ]
  },
  {
   "cell_type": "code",
   "execution_count": 5,
   "metadata": {
    "id": "PFvV6G1uG9yu"
   },
   "outputs": [
    {
     "data": {
      "text/html": [
       "<div>\n",
       "<style scoped>\n",
       "    .dataframe tbody tr th:only-of-type {\n",
       "        vertical-align: middle;\n",
       "    }\n",
       "\n",
       "    .dataframe tbody tr th {\n",
       "        vertical-align: top;\n",
       "    }\n",
       "\n",
       "    .dataframe thead th {\n",
       "        text-align: right;\n",
       "    }\n",
       "</style>\n",
       "<table border=\"1\" class=\"dataframe\">\n",
       "  <thead>\n",
       "    <tr style=\"text-align: right;\">\n",
       "      <th></th>\n",
       "      <th>Unnamed: 0</th>\n",
       "      <th>country_name</th>\n",
       "      <th>country_code</th>\n",
       "      <th>Population</th>\n",
       "      <th>Continent</th>\n",
       "      <th>GNI_Total</th>\n",
       "      <th>Income share held by highest 10%</th>\n",
       "      <th>Deaths - Interpersonal violence - Sex: Both - Age: All Ages (Percent)</th>\n",
       "      <th>Trust in others (World Values Survey (2014))</th>\n",
       "      <th>Life satisfaction in Cantril Ladder (World Happiness Report 2020)</th>\n",
       "    </tr>\n",
       "  </thead>\n",
       "  <tbody>\n",
       "    <tr>\n",
       "      <th>0</th>\n",
       "      <td>0</td>\n",
       "      <td>Aruba</td>\n",
       "      <td>ABW</td>\n",
       "      <td>104000.0</td>\n",
       "      <td>America, North</td>\n",
       "      <td>2.730000e+09</td>\n",
       "      <td>.</td>\n",
       "      <td>NaN</td>\n",
       "      <td>NaN</td>\n",
       "      <td>NaN</td>\n",
       "    </tr>\n",
       "    <tr>\n",
       "      <th>1</th>\n",
       "      <td>1</td>\n",
       "      <td>Afghanistan</td>\n",
       "      <td>AFG</td>\n",
       "      <td>34414000.0</td>\n",
       "      <td>Asia</td>\n",
       "      <td>2.064840e+10</td>\n",
       "      <td>.</td>\n",
       "      <td>1.546670</td>\n",
       "      <td>NaN</td>\n",
       "      <td>NaN</td>\n",
       "    </tr>\n",
       "    <tr>\n",
       "      <th>2</th>\n",
       "      <td>2</td>\n",
       "      <td>Angola</td>\n",
       "      <td>AGO</td>\n",
       "      <td>27884000.0</td>\n",
       "      <td>Africa</td>\n",
       "      <td>1.260357e+11</td>\n",
       "      <td>.</td>\n",
       "      <td>0.483067</td>\n",
       "      <td>NaN</td>\n",
       "      <td>NaN</td>\n",
       "    </tr>\n",
       "    <tr>\n",
       "      <th>3</th>\n",
       "      <td>3</td>\n",
       "      <td>Albania</td>\n",
       "      <td>ALB</td>\n",
       "      <td>2891000.0</td>\n",
       "      <td>Europe</td>\n",
       "      <td>1.269149e+10</td>\n",
       "      <td>22.9</td>\n",
       "      <td>0.316194</td>\n",
       "      <td>NaN</td>\n",
       "      <td>NaN</td>\n",
       "    </tr>\n",
       "    <tr>\n",
       "      <th>4</th>\n",
       "      <td>4</td>\n",
       "      <td>Andorra</td>\n",
       "      <td>AND</td>\n",
       "      <td>78000.0</td>\n",
       "      <td>Europe</td>\n",
       "      <td>NaN</td>\n",
       "      <td>.</td>\n",
       "      <td>0.100418</td>\n",
       "      <td>NaN</td>\n",
       "      <td>NaN</td>\n",
       "    </tr>\n",
       "  </tbody>\n",
       "</table>\n",
       "</div>"
      ],
      "text/plain": [
       "   Unnamed: 0 country_name country_code  Population       Continent  \\\n",
       "0           0        Aruba          ABW    104000.0  America, North   \n",
       "1           1  Afghanistan          AFG  34414000.0            Asia   \n",
       "2           2       Angola          AGO  27884000.0          Africa   \n",
       "3           3      Albania          ALB   2891000.0          Europe   \n",
       "4           4      Andorra          AND     78000.0          Europe   \n",
       "\n",
       "      GNI_Total Income share held by highest 10%  \\\n",
       "0  2.730000e+09                                .   \n",
       "1  2.064840e+10                                .   \n",
       "2  1.260357e+11                                .   \n",
       "3  1.269149e+10                             22.9   \n",
       "4           NaN                                .   \n",
       "\n",
       "   Deaths - Interpersonal violence - Sex: Both - Age: All Ages (Percent)  \\\n",
       "0                                                NaN                       \n",
       "1                                           1.546670                       \n",
       "2                                           0.483067                       \n",
       "3                                           0.316194                       \n",
       "4                                           0.100418                       \n",
       "\n",
       "   Trust in others (World Values Survey (2014))  \\\n",
       "0                                           NaN   \n",
       "1                                           NaN   \n",
       "2                                           NaN   \n",
       "3                                           NaN   \n",
       "4                                           NaN   \n",
       "\n",
       "   Life satisfaction in Cantril Ladder (World Happiness Report 2020)  \n",
       "0                                                NaN                  \n",
       "1                                                NaN                  \n",
       "2                                                NaN                  \n",
       "3                                                NaN                  \n",
       "4                                                NaN                  "
      ]
     },
     "execution_count": 5,
     "metadata": {},
     "output_type": "execute_result"
    }
   ],
   "source": [
    "# Solution:\n",
    "df.head()"
   ]
  },
  {
   "cell_type": "code",
   "execution_count": 6,
   "metadata": {
    "id": "ZPtGyl0RRMsb"
   },
   "outputs": [
    {
     "data": {
      "text/html": [
       "<div>\n",
       "<style scoped>\n",
       "    .dataframe tbody tr th:only-of-type {\n",
       "        vertical-align: middle;\n",
       "    }\n",
       "\n",
       "    .dataframe tbody tr th {\n",
       "        vertical-align: top;\n",
       "    }\n",
       "\n",
       "    .dataframe thead th {\n",
       "        text-align: right;\n",
       "    }\n",
       "</style>\n",
       "<table border=\"1\" class=\"dataframe\">\n",
       "  <thead>\n",
       "    <tr style=\"text-align: right;\">\n",
       "      <th></th>\n",
       "      <th>Unnamed: 0</th>\n",
       "      <th>country_name</th>\n",
       "      <th>country_code</th>\n",
       "      <th>Population</th>\n",
       "      <th>Continent</th>\n",
       "      <th>GNI_Total</th>\n",
       "      <th>Income share held by highest 10%</th>\n",
       "      <th>Deaths - Interpersonal violence - Sex: Both - Age: All Ages (Percent)</th>\n",
       "      <th>Trust in others (World Values Survey (2014))</th>\n",
       "      <th>Life satisfaction in Cantril Ladder (World Happiness Report 2020)</th>\n",
       "    </tr>\n",
       "  </thead>\n",
       "  <tbody>\n",
       "    <tr>\n",
       "      <th>200</th>\n",
       "      <td>200</td>\n",
       "      <td>Zambia</td>\n",
       "      <td>ZMB</td>\n",
       "      <td>15879000.0</td>\n",
       "      <td>Africa</td>\n",
       "      <td>2.508882e+10</td>\n",
       "      <td>44.4</td>\n",
       "      <td>0.839167</td>\n",
       "      <td>NaN</td>\n",
       "      <td>NaN</td>\n",
       "    </tr>\n",
       "    <tr>\n",
       "      <th>201</th>\n",
       "      <td>201</td>\n",
       "      <td>Zimbabwe</td>\n",
       "      <td>ZWE</td>\n",
       "      <td>13815000.0</td>\n",
       "      <td>Africa</td>\n",
       "      <td>1.768320e+10</td>\n",
       "      <td>33.8</td>\n",
       "      <td>1.002734</td>\n",
       "      <td>7.2</td>\n",
       "      <td>NaN</td>\n",
       "    </tr>\n",
       "    <tr>\n",
       "      <th>202</th>\n",
       "      <td>202</td>\n",
       "      <td>NaN</td>\n",
       "      <td>NaN</td>\n",
       "      <td>NaN</td>\n",
       "      <td>NaN</td>\n",
       "      <td>NaN</td>\n",
       "      <td>NaN</td>\n",
       "      <td>NaN</td>\n",
       "      <td>NaN</td>\n",
       "      <td>NaN</td>\n",
       "    </tr>\n",
       "    <tr>\n",
       "      <th>203</th>\n",
       "      <td>203</td>\n",
       "      <td>NaN</td>\n",
       "      <td>NaN</td>\n",
       "      <td>NaN</td>\n",
       "      <td>NaN</td>\n",
       "      <td>NaN</td>\n",
       "      <td>NaN</td>\n",
       "      <td>NaN</td>\n",
       "      <td>NaN</td>\n",
       "      <td>NaN</td>\n",
       "    </tr>\n",
       "    <tr>\n",
       "      <th>204</th>\n",
       "      <td>204</td>\n",
       "      <td>NaN</td>\n",
       "      <td>NaN</td>\n",
       "      <td>NaN</td>\n",
       "      <td>NaN</td>\n",
       "      <td>NaN</td>\n",
       "      <td>NaN</td>\n",
       "      <td>NaN</td>\n",
       "      <td>NaN</td>\n",
       "      <td>NaN</td>\n",
       "    </tr>\n",
       "  </tbody>\n",
       "</table>\n",
       "</div>"
      ],
      "text/plain": [
       "     Unnamed: 0 country_name country_code  Population Continent     GNI_Total  \\\n",
       "200         200       Zambia          ZMB  15879000.0    Africa  2.508882e+10   \n",
       "201         201     Zimbabwe          ZWE  13815000.0    Africa  1.768320e+10   \n",
       "202         202          NaN          NaN         NaN       NaN           NaN   \n",
       "203         203          NaN          NaN         NaN       NaN           NaN   \n",
       "204         204          NaN          NaN         NaN       NaN           NaN   \n",
       "\n",
       "    Income share held by highest 10%  \\\n",
       "200                             44.4   \n",
       "201                             33.8   \n",
       "202                              NaN   \n",
       "203                              NaN   \n",
       "204                              NaN   \n",
       "\n",
       "     Deaths - Interpersonal violence - Sex: Both - Age: All Ages (Percent)  \\\n",
       "200                                           0.839167                       \n",
       "201                                           1.002734                       \n",
       "202                                                NaN                       \n",
       "203                                                NaN                       \n",
       "204                                                NaN                       \n",
       "\n",
       "     Trust in others (World Values Survey (2014))  \\\n",
       "200                                           NaN   \n",
       "201                                           7.2   \n",
       "202                                           NaN   \n",
       "203                                           NaN   \n",
       "204                                           NaN   \n",
       "\n",
       "     Life satisfaction in Cantril Ladder (World Happiness Report 2020)  \n",
       "200                                                NaN                  \n",
       "201                                                NaN                  \n",
       "202                                                NaN                  \n",
       "203                                                NaN                  \n",
       "204                                                NaN                  "
      ]
     },
     "execution_count": 6,
     "metadata": {},
     "output_type": "execute_result"
    }
   ],
   "source": [
    "df.tail()"
   ]
  },
  {
   "cell_type": "markdown",
   "metadata": {
    "id": "C96_PF8aG-c_"
   },
   "source": [
    "Now, print out summary statistics for the entire dataset."
   ]
  },
  {
   "cell_type": "code",
   "execution_count": 7,
   "metadata": {
    "id": "RzAEpIVDHHeB"
   },
   "outputs": [
    {
     "data": {
      "text/html": [
       "<div>\n",
       "<style scoped>\n",
       "    .dataframe tbody tr th:only-of-type {\n",
       "        vertical-align: middle;\n",
       "    }\n",
       "\n",
       "    .dataframe tbody tr th {\n",
       "        vertical-align: top;\n",
       "    }\n",
       "\n",
       "    .dataframe thead th {\n",
       "        text-align: right;\n",
       "    }\n",
       "</style>\n",
       "<table border=\"1\" class=\"dataframe\">\n",
       "  <thead>\n",
       "    <tr style=\"text-align: right;\">\n",
       "      <th></th>\n",
       "      <th>Unnamed: 0</th>\n",
       "      <th>Population</th>\n",
       "      <th>GNI_Total</th>\n",
       "      <th>Deaths - Interpersonal violence - Sex: Both - Age: All Ages (Percent)</th>\n",
       "      <th>Trust in others (World Values Survey (2014))</th>\n",
       "      <th>Life satisfaction in Cantril Ladder (World Happiness Report 2020)</th>\n",
       "    </tr>\n",
       "  </thead>\n",
       "  <tbody>\n",
       "    <tr>\n",
       "      <th>count</th>\n",
       "      <td>205.000000</td>\n",
       "      <td>2.020000e+02</td>\n",
       "      <td>1.840000e+02</td>\n",
       "      <td>183.000000</td>\n",
       "      <td>55.000000</td>\n",
       "      <td>0.0</td>\n",
       "    </tr>\n",
       "    <tr>\n",
       "      <th>mean</th>\n",
       "      <td>102.000000</td>\n",
       "      <td>3.444713e+07</td>\n",
       "      <td>4.069948e+11</td>\n",
       "      <td>1.003950</td>\n",
       "      <td>22.986886</td>\n",
       "      <td>NaN</td>\n",
       "    </tr>\n",
       "    <tr>\n",
       "      <th>std</th>\n",
       "      <td>59.322565</td>\n",
       "      <td>1.397181e+08</td>\n",
       "      <td>1.671722e+12</td>\n",
       "      <td>1.427004</td>\n",
       "      <td>16.240575</td>\n",
       "      <td>NaN</td>\n",
       "    </tr>\n",
       "    <tr>\n",
       "      <th>min</th>\n",
       "      <td>0.000000</td>\n",
       "      <td>1.000000e+04</td>\n",
       "      <td>5.984000e+07</td>\n",
       "      <td>0.052011</td>\n",
       "      <td>2.833330</td>\n",
       "      <td>NaN</td>\n",
       "    </tr>\n",
       "    <tr>\n",
       "      <th>25%</th>\n",
       "      <td>51.000000</td>\n",
       "      <td>7.695000e+05</td>\n",
       "      <td>7.016508e+09</td>\n",
       "      <td>0.216178</td>\n",
       "      <td>10.512175</td>\n",
       "      <td>NaN</td>\n",
       "    </tr>\n",
       "    <tr>\n",
       "      <th>50%</th>\n",
       "      <td>102.000000</td>\n",
       "      <td>6.274000e+06</td>\n",
       "      <td>3.135326e+10</td>\n",
       "      <td>0.542178</td>\n",
       "      <td>17.928630</td>\n",
       "      <td>NaN</td>\n",
       "    </tr>\n",
       "    <tr>\n",
       "      <th>75%</th>\n",
       "      <td>153.000000</td>\n",
       "      <td>1.947150e+07</td>\n",
       "      <td>1.916302e+11</td>\n",
       "      <td>1.079500</td>\n",
       "      <td>32.880600</td>\n",
       "      <td>NaN</td>\n",
       "    </tr>\n",
       "    <tr>\n",
       "      <th>max</th>\n",
       "      <td>204.000000</td>\n",
       "      <td>1.406848e+09</td>\n",
       "      <td>1.820983e+13</td>\n",
       "      <td>9.343013</td>\n",
       "      <td>66.175700</td>\n",
       "      <td>NaN</td>\n",
       "    </tr>\n",
       "  </tbody>\n",
       "</table>\n",
       "</div>"
      ],
      "text/plain": [
       "       Unnamed: 0    Population     GNI_Total  \\\n",
       "count  205.000000  2.020000e+02  1.840000e+02   \n",
       "mean   102.000000  3.444713e+07  4.069948e+11   \n",
       "std     59.322565  1.397181e+08  1.671722e+12   \n",
       "min      0.000000  1.000000e+04  5.984000e+07   \n",
       "25%     51.000000  7.695000e+05  7.016508e+09   \n",
       "50%    102.000000  6.274000e+06  3.135326e+10   \n",
       "75%    153.000000  1.947150e+07  1.916302e+11   \n",
       "max    204.000000  1.406848e+09  1.820983e+13   \n",
       "\n",
       "       Deaths - Interpersonal violence - Sex: Both - Age: All Ages (Percent)  \\\n",
       "count                                         183.000000                       \n",
       "mean                                            1.003950                       \n",
       "std                                             1.427004                       \n",
       "min                                             0.052011                       \n",
       "25%                                             0.216178                       \n",
       "50%                                             0.542178                       \n",
       "75%                                             1.079500                       \n",
       "max                                             9.343013                       \n",
       "\n",
       "       Trust in others (World Values Survey (2014))  \\\n",
       "count                                     55.000000   \n",
       "mean                                      22.986886   \n",
       "std                                       16.240575   \n",
       "min                                        2.833330   \n",
       "25%                                       10.512175   \n",
       "50%                                       17.928630   \n",
       "75%                                       32.880600   \n",
       "max                                       66.175700   \n",
       "\n",
       "       Life satisfaction in Cantril Ladder (World Happiness Report 2020)  \n",
       "count                                                0.0                  \n",
       "mean                                                 NaN                  \n",
       "std                                                  NaN                  \n",
       "min                                                  NaN                  \n",
       "25%                                                  NaN                  \n",
       "50%                                                  NaN                  \n",
       "75%                                                  NaN                  \n",
       "max                                                  NaN                  "
      ]
     },
     "execution_count": 7,
     "metadata": {},
     "output_type": "execute_result"
    }
   ],
   "source": [
    "# Solution:\n",
    "df.describe()"
   ]
  },
  {
   "cell_type": "markdown",
   "metadata": {
    "id": "8KiMbd2NHICF"
   },
   "source": [
    "Print the dataypes of the columns."
   ]
  },
  {
   "cell_type": "code",
   "execution_count": 8,
   "metadata": {
    "id": "DL7YbXC7I4nD"
   },
   "outputs": [
    {
     "name": "stdout",
     "output_type": "stream",
     "text": [
      "Unnamed: 0                                                                 int64\n",
      "country_name                                                              object\n",
      "country_code                                                              object\n",
      "Population                                                               float64\n",
      "Continent                                                                 object\n",
      "GNI_Total                                                                float64\n",
      "Income share held by highest 10%                                          object\n",
      "Deaths - Interpersonal violence - Sex: Both - Age: All Ages (Percent)    float64\n",
      "Trust in others (World Values Survey (2014))                             float64\n",
      "Life satisfaction in Cantril Ladder (World Happiness Report 2020)        float64\n",
      "dtype: object\n"
     ]
    }
   ],
   "source": [
    "# Solution:\n",
    "print(df.dtypes)"
   ]
  },
  {
   "cell_type": "markdown",
   "metadata": {
    "id": "WpiBnibv0V-L"
   },
   "source": [
    "### Repetition: Indexing and filtering"
   ]
  },
  {
   "cell_type": "markdown",
   "metadata": {
    "id": "VubSkprzzfan"
   },
   "source": [
    "**1.4.** Print out the following:\n",
    "* First observation of the last column\n",
    "* Population and GNI for the first 5 observations\n",
    "* All observations with population lower than 30000\n",
    "* Country name and population for all observations in continent \"Oceania\"."
   ]
  },
  {
   "cell_type": "code",
   "execution_count": 10,
   "metadata": {
    "id": "sjTehSAx2Em3"
   },
   "outputs": [
    {
     "name": "stdout",
     "output_type": "stream",
     "text": [
      "nan\n"
     ]
    }
   ],
   "source": [
    "# Solution:\n",
    "print(df.iloc[0, -1])"
   ]
  },
  {
   "cell_type": "code",
   "execution_count": 17,
   "metadata": {
    "id": "oB_QrYuB2Gjg"
   },
   "outputs": [
    {
     "name": "stdout",
     "output_type": "stream",
     "text": [
      "   Population     GNI_Total\n",
      "0    104000.0  2.730000e+09\n",
      "1  34414000.0  2.064840e+10\n",
      "2  27884000.0  1.260357e+11\n",
      "3   2891000.0  1.269149e+10\n",
      "4     78000.0           NaN\n"
     ]
    }
   ],
   "source": [
    "print(df[[\"Population\", \"GNI_Total\"]].iloc[range(5)])"
   ]
  },
  {
   "cell_type": "code",
   "execution_count": 18,
   "metadata": {
    "id": "fEEeyTw606CD"
   },
   "outputs": [
    {
     "name": "stdout",
     "output_type": "stream",
     "text": [
      "     Unnamed: 0            country_name country_code  Population  \\\n",
      "136         136                   Nauru          NRU     10000.0   \n",
      "143         143                   Palau          PLW     18000.0   \n",
      "186         186                  Tuvalu          TUV     11000.0   \n",
      "194         194  British Virgin Islands          VGB     29000.0   \n",
      "\n",
      "         Continent    GNI_Total Income share held by highest 10%  \\\n",
      "136        Oceania  113900000.0                                .   \n",
      "143        Oceania  285480000.0                                .   \n",
      "186        Oceania   59840000.0                             30.7   \n",
      "194  North America          NaN                                .   \n",
      "\n",
      "     Deaths - Interpersonal violence - Sex: Both - Age: All Ages (Percent)  \\\n",
      "136                                                NaN                       \n",
      "143                                                NaN                       \n",
      "186                                                NaN                       \n",
      "194                                                NaN                       \n",
      "\n",
      "     Trust in others (World Values Survey (2014))  \\\n",
      "136                                           NaN   \n",
      "143                                           NaN   \n",
      "186                                           NaN   \n",
      "194                                           NaN   \n",
      "\n",
      "     Life satisfaction in Cantril Ladder (World Happiness Report 2020)  \n",
      "136                                                NaN                  \n",
      "143                                                NaN                  \n",
      "186                                                NaN                  \n",
      "194                                                NaN                  \n"
     ]
    }
   ],
   "source": [
    "print(df[df[\"Population\"] < 30000])"
   ]
  },
  {
   "cell_type": "code",
   "execution_count": null,
   "metadata": {
    "id": "MnMLr8p22gVv"
   },
   "outputs": [
    {
     "name": "stdout",
     "output_type": "stream",
     "text": [
      "                 country_name  Population\n",
      "8              American Samoa     56000.0\n",
      "10                  Australia  23932000.0\n",
      "58                       Fiji    869000.0\n",
      "73                       Guam    162000.0\n",
      "94                   Kiribati    111000.0\n",
      "115          Marshall Islands     57000.0\n",
      "122  Northern Mariana Islands     56000.0\n",
      "129             New Caledonia    271000.0\n",
      "136                     Nauru     10000.0\n",
      "137               New Zealand   4615000.0\n",
      "143                     Palau     18000.0\n",
      "144          Papua New Guinea   8108000.0\n",
      "150          French Polynesia    273000.0\n",
      "159           Solomon Islands    603000.0\n",
      "182                     Tonga    101000.0\n",
      "186                    Tuvalu     11000.0\n",
      "197                   Vanuatu    271000.0\n",
      "198                     Samoa    194000.0\n"
     ]
    }
   ],
   "source": [
    "print(df.loc[df[\"Continent\"] == \"Oceania\", [\"country_name\", \"Population\"]])"
   ]
  },
  {
   "cell_type": "markdown",
   "metadata": {
    "id": "NbMWZyMII6jk"
   },
   "source": [
    "### Data cleaning"
   ]
  },
  {
   "cell_type": "markdown",
   "metadata": {
    "id": "oK4CFY6mIZS0"
   },
   "source": [
    "**1.5.** Now clean the column indices doing the following:\n",
    "\n",
    "\n",
    "*   Replace the very long column names with shorter ones (e.g. ``top10_share``, ``homicide``, ``trust``, ``life_satisfaction``).\n",
    "*   Convert all column names to lowercase\n",
    "\n"
   ]
  },
  {
   "cell_type": "code",
   "execution_count": null,
   "metadata": {
    "id": "zRCXwBXZ674X"
   },
   "outputs": [
    {
     "name": "stdout",
     "output_type": "stream",
     "text": [
      "     Unnamed: 0 country_name country_code  Population       Continent  \\\n",
      "0             0        Aruba          ABW    104000.0  America, North   \n",
      "1             1  Afghanistan          AFG  34414000.0            Asia   \n",
      "2             2       Angola          AGO  27884000.0          Africa   \n",
      "3             3      Albania          ALB   2891000.0          Europe   \n",
      "4             4      Andorra          AND     78000.0          Europe   \n",
      "..          ...          ...          ...         ...             ...   \n",
      "200         200       Zambia          ZMB  15879000.0          Africa   \n",
      "201         201     Zimbabwe          ZWE  13815000.0          Africa   \n",
      "202         202          NaN          NaN         NaN             NaN   \n",
      "203         203          NaN          NaN         NaN             NaN   \n",
      "204         204          NaN          NaN         NaN             NaN   \n",
      "\n",
      "        GNI_Total Income share held by highest 10%  \\\n",
      "0    2.730000e+09                                .   \n",
      "1    2.064840e+10                                .   \n",
      "2    1.260357e+11                                .   \n",
      "3    1.269149e+10                             22.9   \n",
      "4             NaN                                .   \n",
      "..            ...                              ...   \n",
      "200  2.508882e+10                             44.4   \n",
      "201  1.768320e+10                             33.8   \n",
      "202           NaN                              NaN   \n",
      "203           NaN                              NaN   \n",
      "204           NaN                              NaN   \n",
      "\n",
      "     Deaths - Interpersonal violence - Sex: Both - Age: All Ages (Percent)  \\\n",
      "0                                                  NaN                       \n",
      "1                                             1.546670                       \n",
      "2                                             0.483067                       \n",
      "3                                             0.316194                       \n",
      "4                                             0.100418                       \n",
      "..                                                 ...                       \n",
      "200                                           0.839167                       \n",
      "201                                           1.002734                       \n",
      "202                                                NaN                       \n",
      "203                                                NaN                       \n",
      "204                                                NaN                       \n",
      "\n",
      "     Trust in others (World Values Survey (2014))  \\\n",
      "0                                             NaN   \n",
      "1                                             NaN   \n",
      "2                                             NaN   \n",
      "3                                             NaN   \n",
      "4                                             NaN   \n",
      "..                                            ...   \n",
      "200                                           NaN   \n",
      "201                                           7.2   \n",
      "202                                           NaN   \n",
      "203                                           NaN   \n",
      "204                                           NaN   \n",
      "\n",
      "     Life satisfaction in Cantril Ladder (World Happiness Report 2020)  \n",
      "0                                                  NaN                  \n",
      "1                                                  NaN                  \n",
      "2                                                  NaN                  \n",
      "3                                                  NaN                  \n",
      "4                                                  NaN                  \n",
      "..                                                 ...                  \n",
      "200                                                NaN                  \n",
      "201                                                NaN                  \n",
      "202                                                NaN                  \n",
      "203                                                NaN                  \n",
      "204                                                NaN                  \n",
      "\n",
      "[205 rows x 10 columns]\n"
     ]
    }
   ],
   "source": [
    "# Solution:\n"
   ]
  },
  {
   "cell_type": "code",
   "execution_count": null,
   "metadata": {
    "id": "BGFmd_df-_Jc"
   },
   "outputs": [],
   "source": []
  },
  {
   "cell_type": "markdown",
   "metadata": {
    "id": "iO4bZUon69xM"
   },
   "source": [
    "**1.6.** Set the ``country_code`` column as the index."
   ]
  },
  {
   "cell_type": "code",
   "execution_count": null,
   "metadata": {
    "id": "Z4dMPv1cHVa8"
   },
   "outputs": [],
   "source": [
    "# Solution:\n"
   ]
  },
  {
   "cell_type": "markdown",
   "metadata": {
    "id": "5K2XCf6VKRmk"
   },
   "source": [
    "**1.7.** Drop the redundant column(s)."
   ]
  },
  {
   "cell_type": "code",
   "execution_count": null,
   "metadata": {
    "id": "CnMaV0F-KPDt"
   },
   "outputs": [],
   "source": [
    "# Solution:\n"
   ]
  },
  {
   "cell_type": "markdown",
   "metadata": {
    "id": "i5COquB7HV14"
   },
   "source": [
    "**1.8.** Print the minimum, the average, and the maximum value for the homicide variable (percentage of violent deaths among all deaths). How do you interpret these results?"
   ]
  },
  {
   "cell_type": "code",
   "execution_count": null,
   "metadata": {
    "id": "iKn7WEqcBiQA"
   },
   "outputs": [],
   "source": [
    "# Solution:\n"
   ]
  },
  {
   "cell_type": "markdown",
   "metadata": {
    "id": "GvaaIXBdB8WO"
   },
   "source": [
    "**1.9.** Can you sort the data to find out what country has (a) the lowest and (b) the highest share of homicides? <font color='violet'> Hint: <font color='white'> The sort_values function has a parameter that allows you to specify whether the data should be sorted in descending or in ascending order."
   ]
  },
  {
   "cell_type": "code",
   "execution_count": null,
   "metadata": {
    "id": "kLWJmLFHCKp6"
   },
   "outputs": [],
   "source": [
    "# Solution:\n"
   ]
  },
  {
   "cell_type": "code",
   "execution_count": null,
   "metadata": {
    "id": "FL2uBS2fCfuv"
   },
   "outputs": [],
   "source": [
    "# Solution:\n"
   ]
  },
  {
   "cell_type": "markdown",
   "metadata": {
    "id": "KWHUVKpkD4_B"
   },
   "source": [
    "**1.10.** Take a look at the categories of the ``continent`` column  and try to clean this column. How many observations do we have for each continent?"
   ]
  },
  {
   "cell_type": "code",
   "execution_count": null,
   "metadata": {
    "id": "75tNO-8JEXZd"
   },
   "outputs": [],
   "source": [
    "# Solution:\n"
   ]
  },
  {
   "cell_type": "markdown",
   "metadata": {
    "id": "KousXDAnfPDv"
   },
   "source": [
    "**1.11.** Find out how missing values in the ``top10_share`` variable were coded and convert them to proper missings. Recast the variable to a float so you can compute the top 10 income share of the median country."
   ]
  },
  {
   "cell_type": "code",
   "execution_count": null,
   "metadata": {
    "id": "jmmf5olqgpQB"
   },
   "outputs": [],
   "source": [
    "# Solution:\n"
   ]
  },
  {
   "cell_type": "markdown",
   "metadata": {
    "id": "v8d6T0GnrNy2"
   },
   "source": [
    "Drop columns and rows with nothing but missing values."
   ]
  },
  {
   "cell_type": "code",
   "execution_count": null,
   "metadata": {
    "id": "3GiNKs90rNcm"
   },
   "outputs": [],
   "source": [
    "# Solution:\n"
   ]
  },
  {
   "cell_type": "markdown",
   "metadata": {
    "id": "qr3mdRIS4pIq"
   },
   "source": [
    "Can you print the share of missing values for each variable/column?"
   ]
  },
  {
   "cell_type": "code",
   "execution_count": null,
   "metadata": {
    "id": "VH7Fz3ft4wVa"
   },
   "outputs": [],
   "source": [
    "# Solution:\n"
   ]
  },
  {
   "cell_type": "markdown",
   "metadata": {
    "id": "D14xVJqO4yvK"
   },
   "source": [
    "**1.12.** Now try to create a dataset called ``trust_df`` that contains only those observations where the trust value is not missing."
   ]
  },
  {
   "cell_type": "code",
   "execution_count": null,
   "metadata": {
    "id": "0n2gsgjv4yML"
   },
   "outputs": [],
   "source": [
    "# Solution:\n"
   ]
  },
  {
   "cell_type": "markdown",
   "metadata": {
    "id": "gRDKn9MyeydB"
   },
   "source": [
    "**1.13.** Add a new variable (to the main dataset, not to ``trust_df``) called ``gni_per_capita`` with the per capita gross national income."
   ]
  },
  {
   "cell_type": "code",
   "execution_count": null,
   "metadata": {
    "id": "bV16PCTre_NH"
   },
   "outputs": [],
   "source": [
    "# Solution:\n"
   ]
  },
  {
   "cell_type": "markdown",
   "metadata": {
    "id": "nk2xJpRJvATI"
   },
   "source": [
    "**1.14.** Export the cleaned dataset as a csv-file to your computer or your Google Drive."
   ]
  },
  {
   "cell_type": "code",
   "execution_count": null,
   "metadata": {
    "id": "74EMH1RLYG5b"
   },
   "outputs": [],
   "source": [
    "# Solution:\n"
   ]
  },
  {
   "cell_type": "markdown",
   "metadata": {
    "id": "I5fGuENsxWXa"
   },
   "source": [
    "## 2. Advanced exercises"
   ]
  },
  {
   "cell_type": "markdown",
   "metadata": {
    "id": "mFhlZBpQe_-_"
   },
   "source": [
    "**2.1.** Now add a column called ``inequality``. Its values should be either \"low\" or \"high\" depending on whether the top 10 income share of the country is above or below ``28.8`` (the median). Try to solve the task by writting a function that you can then use in ``apply()``. In your function, make sure that missing inequality values are handled correctly!"
   ]
  },
  {
   "cell_type": "code",
   "execution_count": null,
   "metadata": {
    "id": "CUQ8EpLdkYSq"
   },
   "outputs": [],
   "source": [
    "# Solution:\n"
   ]
  },
  {
   "cell_type": "markdown",
   "metadata": {
    "id": "c14_-YT6piZe"
   },
   "source": [
    "Can you find an easier way to do this (i.e. to cut a variable at the median)? Finding the right function, it can be done in one line of code! <font color='violet'> Hint: <font color='white'>Search for something like \"make quantiles pandas\"!"
   ]
  },
  {
   "cell_type": "code",
   "execution_count": null,
   "metadata": {
    "id": "9hCKO0tkpryO"
   },
   "outputs": [],
   "source": [
    "# Solution:\n"
   ]
  },
  {
   "cell_type": "markdown",
   "metadata": {
    "id": "XwwxVpkwskp7"
   },
   "source": [
    "**2.2.** Create a column ``log_gni_pc`` with the log of the per capita gross national income."
   ]
  },
  {
   "cell_type": "code",
   "execution_count": null,
   "metadata": {
    "id": "1nhYLwmasKEj"
   },
   "outputs": [],
   "source": [
    "# Solution:\n"
   ]
  },
  {
   "cell_type": "markdown",
   "metadata": {
    "id": "SHF3KprDuxCC"
   },
   "source": [
    "**2.3.** Suppose you have some duplicate values in your dataset. Run the following code to create them:"
   ]
  },
  {
   "cell_type": "code",
   "execution_count": null,
   "metadata": {
    "id": "5HJ-5-QZ9X6X"
   },
   "outputs": [],
   "source": [
    "new_df = pd.DataFrame(np.repeat(df.values, 2, axis=0))\n",
    "new_df.columns = df.columns\n",
    "new_df.head()"
   ]
  },
  {
   "cell_type": "markdown",
   "metadata": {
    "id": "iKGilOtD_18g"
   },
   "source": [
    "Can you find a method or function that allows you to get rid of the duplicates in ``new_df``?"
   ]
  },
  {
   "cell_type": "code",
   "execution_count": null,
   "metadata": {
    "id": "eOzlqdaR_1cY"
   },
   "outputs": [],
   "source": [
    "# Solution:\n"
   ]
  },
  {
   "cell_type": "markdown",
   "metadata": {
    "id": "MUK4JzwrD7hZ"
   },
   "source": [
    "**2.4.** You may also encounter a different type of duplicates. Run the following code to create them:"
   ]
  },
  {
   "cell_type": "code",
   "execution_count": null,
   "metadata": {
    "id": "BQg6zJTBDnNr"
   },
   "outputs": [],
   "source": [
    "NA_df = df.copy().reset_index()\n",
    "NA_df.loc[:,\"population\":] = np.NaN\n",
    "new_df = new_df.append(NA_df)\n",
    "new_df.sort_values(\"country_name\", inplace=True)\n",
    "new_df.head(6)"
   ]
  },
  {
   "cell_type": "markdown",
   "metadata": {
    "id": "ns9_c1ShEOj-"
   },
   "source": [
    "The repeated observations are only duplicates with respect to the country name (and NaN in all other variables). Can you find a way to delete them (making sure that the observations with the NaNs are deleted)?"
   ]
  },
  {
   "cell_type": "code",
   "execution_count": null,
   "metadata": {
    "id": "AFBmEgWfEOEv"
   },
   "outputs": [],
   "source": [
    "# Solution:\n"
   ]
  }
 ],
 "metadata": {
  "colab": {
   "provenance": [
    {
     "file_id": "1J5sCNUxmBh0t7MH3cVHColt9WFjca3ze",
     "timestamp": 1614455032952
    }
   ]
  },
  "kernelspec": {
   "display_name": "Python 3",
   "name": "python3"
  },
  "language_info": {
   "codemirror_mode": {
    "name": "ipython",
    "version": 3
   },
   "file_extension": ".py",
   "mimetype": "text/x-python",
   "name": "python",
   "nbconvert_exporter": "python",
   "pygments_lexer": "ipython3",
   "version": "3.10.11"
  }
 },
 "nbformat": 4,
 "nbformat_minor": 0
}
