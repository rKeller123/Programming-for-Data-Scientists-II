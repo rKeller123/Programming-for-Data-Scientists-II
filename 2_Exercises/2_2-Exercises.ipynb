{
 "cells": [
  {
   "cell_type": "markdown",
   "metadata": {
    "id": "U3zPuM3zuwFT"
   },
   "source": [
    "*Part 2: Python for Data Analysis II*\n",
    "### Working with Pandas###\n",
    "#Exercises#"
   ]
  },
  {
   "cell_type": "markdown",
   "metadata": {
    "id": "ihjiiXFWCoOL"
   },
   "source": [
    "\n",
    "\n",
    "---\n",
    "\n",
    "\n",
    "<font color='violet'>\n",
    "Hints are written in white, so you do not see them immediately. If you highlight them (or double-click on them), they will appear!\n",
    "<font color='white'> I am a hint! :-)\n",
    "\n",
    "\n",
    "---\n"
   ]
  },
  {
   "cell_type": "code",
   "execution_count": 129,
   "metadata": {
    "id": "k97LXWcuVwAK"
   },
   "outputs": [],
   "source": [
    "# Your feedback: If you have any suggestions about the course or the excercises,\n",
    "# you can provide them here!"
   ]
  },
  {
   "cell_type": "markdown",
   "metadata": {
    "id": "U2hSLoyOBc1C"
   },
   "source": [
    "## 1. Basic exercises"
   ]
  },
  {
   "cell_type": "markdown",
   "metadata": {
    "id": "8_dHbdurIw2m"
   },
   "source": [
    "### Data inspection"
   ]
  },
  {
   "cell_type": "markdown",
   "metadata": {
    "id": "083AonQkEI1z"
   },
   "source": [
    "**1.1.** Import the pandas and the numpy library:"
   ]
  },
  {
   "cell_type": "code",
   "execution_count": 130,
   "metadata": {
    "id": "6wkw3slNENvd"
   },
   "outputs": [
    {
     "name": "stdout",
     "output_type": "stream",
     "text": [
      "Requirement already satisfied: pandas in c:\\users\\raphael keller\\appdata\\local\\programs\\python\\python310\\lib\\site-packages (2.2.3)\n",
      "Requirement already satisfied: numpy in c:\\users\\raphael keller\\appdata\\local\\programs\\python\\python310\\lib\\site-packages (2.2.4)\n",
      "Requirement already satisfied: python-dateutil>=2.8.2 in c:\\users\\raphael keller\\appdata\\local\\programs\\python\\python310\\lib\\site-packages (from pandas) (2.8.2)\n",
      "Requirement already satisfied: pytz>=2020.1 in c:\\users\\raphael keller\\appdata\\local\\programs\\python\\python310\\lib\\site-packages (from pandas) (2025.1)\n",
      "Requirement already satisfied: tzdata>=2022.7 in c:\\users\\raphael keller\\appdata\\local\\programs\\python\\python310\\lib\\site-packages (from pandas) (2025.1)\n",
      "Requirement already satisfied: six>=1.5 in c:\\users\\raphael keller\\appdata\\local\\programs\\python\\python310\\lib\\site-packages (from python-dateutil>=2.8.2->pandas) (1.16.0)\n",
      "Note: you may need to restart the kernel to use updated packages.\n",
      "c:\\Users\\Raphael Keller\\Documents\\Uni Bern\\FS25\\Programming-for-Data-Scientists-II\\4_Data\n"
     ]
    },
    {
     "name": "stderr",
     "output_type": "stream",
     "text": [
      "\n",
      "[notice] A new release of pip available: 22.3.1 -> 25.0.1\n",
      "[notice] To update, run: python.exe -m pip install --upgrade pip\n"
     ]
    }
   ],
   "source": [
    "# Solution:\n",
    "%pip install pandas numpy\n",
    "import pandas as pd\n",
    "import numpy as np\n",
    "import os\n",
    "\n",
    "print(os.getcwd())\n",
    "os.chdir(\"../4_Data\")"
   ]
  },
  {
   "cell_type": "markdown",
   "metadata": {
    "id": "I6wXeBmwfoON"
   },
   "source": [
    "**1.2.** In the following folder you will find a dataset called ``countries_trust.csv``: https://drive.google.com/drive/folders/1QnHTDQ0tb8_Ex6dMgNCwqJuL3PxzEKIv?usp=sharing\n",
    "\n",
    "Import the dataset and assign it to a variable (e.g. ``df``). If you work with Colab, you will first have to copy the file to your Google Drive and then mount the drive (see Tutorial)!\n",
    "\n"
   ]
  },
  {
   "cell_type": "code",
   "execution_count": 131,
   "metadata": {
    "id": "m5EWYMQPfnsO"
   },
   "outputs": [
    {
     "name": "stdout",
     "output_type": "stream",
     "text": [
      "     Unnamed: 0 country_name country_code  Population       Continent  \\\n",
      "0             0        Aruba          ABW    104000.0  America, North   \n",
      "1             1  Afghanistan          AFG  34414000.0            Asia   \n",
      "2             2       Angola          AGO  27884000.0          Africa   \n",
      "3             3      Albania          ALB   2891000.0          Europe   \n",
      "4             4      Andorra          AND     78000.0          Europe   \n",
      "..          ...          ...          ...         ...             ...   \n",
      "200         200       Zambia          ZMB  15879000.0          Africa   \n",
      "201         201     Zimbabwe          ZWE  13815000.0          Africa   \n",
      "202         202          NaN          NaN         NaN             NaN   \n",
      "203         203          NaN          NaN         NaN             NaN   \n",
      "204         204          NaN          NaN         NaN             NaN   \n",
      "\n",
      "        GNI_Total Income share held by highest 10%  \\\n",
      "0    2.730000e+09                                .   \n",
      "1    2.064840e+10                                .   \n",
      "2    1.260357e+11                                .   \n",
      "3    1.269149e+10                             22.9   \n",
      "4             NaN                                .   \n",
      "..            ...                              ...   \n",
      "200  2.508882e+10                             44.4   \n",
      "201  1.768320e+10                             33.8   \n",
      "202           NaN                              NaN   \n",
      "203           NaN                              NaN   \n",
      "204           NaN                              NaN   \n",
      "\n",
      "     Deaths - Interpersonal violence - Sex: Both - Age: All Ages (Percent)  \\\n",
      "0                                                  NaN                       \n",
      "1                                             1.546670                       \n",
      "2                                             0.483067                       \n",
      "3                                             0.316194                       \n",
      "4                                             0.100418                       \n",
      "..                                                 ...                       \n",
      "200                                           0.839167                       \n",
      "201                                           1.002734                       \n",
      "202                                                NaN                       \n",
      "203                                                NaN                       \n",
      "204                                                NaN                       \n",
      "\n",
      "     Trust in others (World Values Survey (2014))  \\\n",
      "0                                             NaN   \n",
      "1                                             NaN   \n",
      "2                                             NaN   \n",
      "3                                             NaN   \n",
      "4                                             NaN   \n",
      "..                                            ...   \n",
      "200                                           NaN   \n",
      "201                                           7.2   \n",
      "202                                           NaN   \n",
      "203                                           NaN   \n",
      "204                                           NaN   \n",
      "\n",
      "     Life satisfaction in Cantril Ladder (World Happiness Report 2020)  \n",
      "0                                                  NaN                  \n",
      "1                                                  NaN                  \n",
      "2                                                  NaN                  \n",
      "3                                                  NaN                  \n",
      "4                                                  NaN                  \n",
      "..                                                 ...                  \n",
      "200                                                NaN                  \n",
      "201                                                NaN                  \n",
      "202                                                NaN                  \n",
      "203                                                NaN                  \n",
      "204                                                NaN                  \n",
      "\n",
      "[205 rows x 10 columns]\n"
     ]
    }
   ],
   "source": [
    "# Solution:\n",
    "df = pd.read_csv(\"countries_trust.csv\")\n",
    "print(df)"
   ]
  },
  {
   "cell_type": "markdown",
   "metadata": {
    "id": "k87hnDU3vqeM"
   },
   "source": [
    "If you didn't succeed in loading the data from Google Drive, you can also load the data from the following URL: ``\"http://farys.org/daten/countries_trust.csv\"``"
   ]
  },
  {
   "cell_type": "code",
   "execution_count": 132,
   "metadata": {
    "id": "CblDg1o6v3oJ"
   },
   "outputs": [],
   "source": [
    "# Solution:\n"
   ]
  },
  {
   "cell_type": "markdown",
   "metadata": {
    "id": "BkUiHrKKG4jI"
   },
   "source": [
    "**1.3.** Inspect the head and the tail of the dataset."
   ]
  },
  {
   "cell_type": "code",
   "execution_count": 133,
   "metadata": {
    "id": "PFvV6G1uG9yu"
   },
   "outputs": [
    {
     "data": {
      "text/html": [
       "<div>\n",
       "<style scoped>\n",
       "    .dataframe tbody tr th:only-of-type {\n",
       "        vertical-align: middle;\n",
       "    }\n",
       "\n",
       "    .dataframe tbody tr th {\n",
       "        vertical-align: top;\n",
       "    }\n",
       "\n",
       "    .dataframe thead th {\n",
       "        text-align: right;\n",
       "    }\n",
       "</style>\n",
       "<table border=\"1\" class=\"dataframe\">\n",
       "  <thead>\n",
       "    <tr style=\"text-align: right;\">\n",
       "      <th></th>\n",
       "      <th>Unnamed: 0</th>\n",
       "      <th>country_name</th>\n",
       "      <th>country_code</th>\n",
       "      <th>Population</th>\n",
       "      <th>Continent</th>\n",
       "      <th>GNI_Total</th>\n",
       "      <th>Income share held by highest 10%</th>\n",
       "      <th>Deaths - Interpersonal violence - Sex: Both - Age: All Ages (Percent)</th>\n",
       "      <th>Trust in others (World Values Survey (2014))</th>\n",
       "      <th>Life satisfaction in Cantril Ladder (World Happiness Report 2020)</th>\n",
       "    </tr>\n",
       "  </thead>\n",
       "  <tbody>\n",
       "    <tr>\n",
       "      <th>0</th>\n",
       "      <td>0</td>\n",
       "      <td>Aruba</td>\n",
       "      <td>ABW</td>\n",
       "      <td>104000.0</td>\n",
       "      <td>America, North</td>\n",
       "      <td>2.730000e+09</td>\n",
       "      <td>.</td>\n",
       "      <td>NaN</td>\n",
       "      <td>NaN</td>\n",
       "      <td>NaN</td>\n",
       "    </tr>\n",
       "    <tr>\n",
       "      <th>1</th>\n",
       "      <td>1</td>\n",
       "      <td>Afghanistan</td>\n",
       "      <td>AFG</td>\n",
       "      <td>34414000.0</td>\n",
       "      <td>Asia</td>\n",
       "      <td>2.064840e+10</td>\n",
       "      <td>.</td>\n",
       "      <td>1.546670</td>\n",
       "      <td>NaN</td>\n",
       "      <td>NaN</td>\n",
       "    </tr>\n",
       "    <tr>\n",
       "      <th>2</th>\n",
       "      <td>2</td>\n",
       "      <td>Angola</td>\n",
       "      <td>AGO</td>\n",
       "      <td>27884000.0</td>\n",
       "      <td>Africa</td>\n",
       "      <td>1.260357e+11</td>\n",
       "      <td>.</td>\n",
       "      <td>0.483067</td>\n",
       "      <td>NaN</td>\n",
       "      <td>NaN</td>\n",
       "    </tr>\n",
       "    <tr>\n",
       "      <th>3</th>\n",
       "      <td>3</td>\n",
       "      <td>Albania</td>\n",
       "      <td>ALB</td>\n",
       "      <td>2891000.0</td>\n",
       "      <td>Europe</td>\n",
       "      <td>1.269149e+10</td>\n",
       "      <td>22.9</td>\n",
       "      <td>0.316194</td>\n",
       "      <td>NaN</td>\n",
       "      <td>NaN</td>\n",
       "    </tr>\n",
       "    <tr>\n",
       "      <th>4</th>\n",
       "      <td>4</td>\n",
       "      <td>Andorra</td>\n",
       "      <td>AND</td>\n",
       "      <td>78000.0</td>\n",
       "      <td>Europe</td>\n",
       "      <td>NaN</td>\n",
       "      <td>.</td>\n",
       "      <td>0.100418</td>\n",
       "      <td>NaN</td>\n",
       "      <td>NaN</td>\n",
       "    </tr>\n",
       "  </tbody>\n",
       "</table>\n",
       "</div>"
      ],
      "text/plain": [
       "   Unnamed: 0 country_name country_code  Population       Continent  \\\n",
       "0           0        Aruba          ABW    104000.0  America, North   \n",
       "1           1  Afghanistan          AFG  34414000.0            Asia   \n",
       "2           2       Angola          AGO  27884000.0          Africa   \n",
       "3           3      Albania          ALB   2891000.0          Europe   \n",
       "4           4      Andorra          AND     78000.0          Europe   \n",
       "\n",
       "      GNI_Total Income share held by highest 10%  \\\n",
       "0  2.730000e+09                                .   \n",
       "1  2.064840e+10                                .   \n",
       "2  1.260357e+11                                .   \n",
       "3  1.269149e+10                             22.9   \n",
       "4           NaN                                .   \n",
       "\n",
       "   Deaths - Interpersonal violence - Sex: Both - Age: All Ages (Percent)  \\\n",
       "0                                                NaN                       \n",
       "1                                           1.546670                       \n",
       "2                                           0.483067                       \n",
       "3                                           0.316194                       \n",
       "4                                           0.100418                       \n",
       "\n",
       "   Trust in others (World Values Survey (2014))  \\\n",
       "0                                           NaN   \n",
       "1                                           NaN   \n",
       "2                                           NaN   \n",
       "3                                           NaN   \n",
       "4                                           NaN   \n",
       "\n",
       "   Life satisfaction in Cantril Ladder (World Happiness Report 2020)  \n",
       "0                                                NaN                  \n",
       "1                                                NaN                  \n",
       "2                                                NaN                  \n",
       "3                                                NaN                  \n",
       "4                                                NaN                  "
      ]
     },
     "execution_count": 133,
     "metadata": {},
     "output_type": "execute_result"
    }
   ],
   "source": [
    "# Solution:\n",
    "df.head()"
   ]
  },
  {
   "cell_type": "code",
   "execution_count": 134,
   "metadata": {
    "id": "ZPtGyl0RRMsb"
   },
   "outputs": [
    {
     "data": {
      "text/html": [
       "<div>\n",
       "<style scoped>\n",
       "    .dataframe tbody tr th:only-of-type {\n",
       "        vertical-align: middle;\n",
       "    }\n",
       "\n",
       "    .dataframe tbody tr th {\n",
       "        vertical-align: top;\n",
       "    }\n",
       "\n",
       "    .dataframe thead th {\n",
       "        text-align: right;\n",
       "    }\n",
       "</style>\n",
       "<table border=\"1\" class=\"dataframe\">\n",
       "  <thead>\n",
       "    <tr style=\"text-align: right;\">\n",
       "      <th></th>\n",
       "      <th>Unnamed: 0</th>\n",
       "      <th>country_name</th>\n",
       "      <th>country_code</th>\n",
       "      <th>Population</th>\n",
       "      <th>Continent</th>\n",
       "      <th>GNI_Total</th>\n",
       "      <th>Income share held by highest 10%</th>\n",
       "      <th>Deaths - Interpersonal violence - Sex: Both - Age: All Ages (Percent)</th>\n",
       "      <th>Trust in others (World Values Survey (2014))</th>\n",
       "      <th>Life satisfaction in Cantril Ladder (World Happiness Report 2020)</th>\n",
       "    </tr>\n",
       "  </thead>\n",
       "  <tbody>\n",
       "    <tr>\n",
       "      <th>200</th>\n",
       "      <td>200</td>\n",
       "      <td>Zambia</td>\n",
       "      <td>ZMB</td>\n",
       "      <td>15879000.0</td>\n",
       "      <td>Africa</td>\n",
       "      <td>2.508882e+10</td>\n",
       "      <td>44.4</td>\n",
       "      <td>0.839167</td>\n",
       "      <td>NaN</td>\n",
       "      <td>NaN</td>\n",
       "    </tr>\n",
       "    <tr>\n",
       "      <th>201</th>\n",
       "      <td>201</td>\n",
       "      <td>Zimbabwe</td>\n",
       "      <td>ZWE</td>\n",
       "      <td>13815000.0</td>\n",
       "      <td>Africa</td>\n",
       "      <td>1.768320e+10</td>\n",
       "      <td>33.8</td>\n",
       "      <td>1.002734</td>\n",
       "      <td>7.2</td>\n",
       "      <td>NaN</td>\n",
       "    </tr>\n",
       "    <tr>\n",
       "      <th>202</th>\n",
       "      <td>202</td>\n",
       "      <td>NaN</td>\n",
       "      <td>NaN</td>\n",
       "      <td>NaN</td>\n",
       "      <td>NaN</td>\n",
       "      <td>NaN</td>\n",
       "      <td>NaN</td>\n",
       "      <td>NaN</td>\n",
       "      <td>NaN</td>\n",
       "      <td>NaN</td>\n",
       "    </tr>\n",
       "    <tr>\n",
       "      <th>203</th>\n",
       "      <td>203</td>\n",
       "      <td>NaN</td>\n",
       "      <td>NaN</td>\n",
       "      <td>NaN</td>\n",
       "      <td>NaN</td>\n",
       "      <td>NaN</td>\n",
       "      <td>NaN</td>\n",
       "      <td>NaN</td>\n",
       "      <td>NaN</td>\n",
       "      <td>NaN</td>\n",
       "    </tr>\n",
       "    <tr>\n",
       "      <th>204</th>\n",
       "      <td>204</td>\n",
       "      <td>NaN</td>\n",
       "      <td>NaN</td>\n",
       "      <td>NaN</td>\n",
       "      <td>NaN</td>\n",
       "      <td>NaN</td>\n",
       "      <td>NaN</td>\n",
       "      <td>NaN</td>\n",
       "      <td>NaN</td>\n",
       "      <td>NaN</td>\n",
       "    </tr>\n",
       "  </tbody>\n",
       "</table>\n",
       "</div>"
      ],
      "text/plain": [
       "     Unnamed: 0 country_name country_code  Population Continent     GNI_Total  \\\n",
       "200         200       Zambia          ZMB  15879000.0    Africa  2.508882e+10   \n",
       "201         201     Zimbabwe          ZWE  13815000.0    Africa  1.768320e+10   \n",
       "202         202          NaN          NaN         NaN       NaN           NaN   \n",
       "203         203          NaN          NaN         NaN       NaN           NaN   \n",
       "204         204          NaN          NaN         NaN       NaN           NaN   \n",
       "\n",
       "    Income share held by highest 10%  \\\n",
       "200                             44.4   \n",
       "201                             33.8   \n",
       "202                              NaN   \n",
       "203                              NaN   \n",
       "204                              NaN   \n",
       "\n",
       "     Deaths - Interpersonal violence - Sex: Both - Age: All Ages (Percent)  \\\n",
       "200                                           0.839167                       \n",
       "201                                           1.002734                       \n",
       "202                                                NaN                       \n",
       "203                                                NaN                       \n",
       "204                                                NaN                       \n",
       "\n",
       "     Trust in others (World Values Survey (2014))  \\\n",
       "200                                           NaN   \n",
       "201                                           7.2   \n",
       "202                                           NaN   \n",
       "203                                           NaN   \n",
       "204                                           NaN   \n",
       "\n",
       "     Life satisfaction in Cantril Ladder (World Happiness Report 2020)  \n",
       "200                                                NaN                  \n",
       "201                                                NaN                  \n",
       "202                                                NaN                  \n",
       "203                                                NaN                  \n",
       "204                                                NaN                  "
      ]
     },
     "execution_count": 134,
     "metadata": {},
     "output_type": "execute_result"
    }
   ],
   "source": [
    "df.tail()"
   ]
  },
  {
   "cell_type": "markdown",
   "metadata": {
    "id": "C96_PF8aG-c_"
   },
   "source": [
    "Now, print out summary statistics for the entire dataset."
   ]
  },
  {
   "cell_type": "code",
   "execution_count": 135,
   "metadata": {
    "id": "RzAEpIVDHHeB"
   },
   "outputs": [
    {
     "data": {
      "text/html": [
       "<div>\n",
       "<style scoped>\n",
       "    .dataframe tbody tr th:only-of-type {\n",
       "        vertical-align: middle;\n",
       "    }\n",
       "\n",
       "    .dataframe tbody tr th {\n",
       "        vertical-align: top;\n",
       "    }\n",
       "\n",
       "    .dataframe thead th {\n",
       "        text-align: right;\n",
       "    }\n",
       "</style>\n",
       "<table border=\"1\" class=\"dataframe\">\n",
       "  <thead>\n",
       "    <tr style=\"text-align: right;\">\n",
       "      <th></th>\n",
       "      <th>Unnamed: 0</th>\n",
       "      <th>Population</th>\n",
       "      <th>GNI_Total</th>\n",
       "      <th>Deaths - Interpersonal violence - Sex: Both - Age: All Ages (Percent)</th>\n",
       "      <th>Trust in others (World Values Survey (2014))</th>\n",
       "      <th>Life satisfaction in Cantril Ladder (World Happiness Report 2020)</th>\n",
       "    </tr>\n",
       "  </thead>\n",
       "  <tbody>\n",
       "    <tr>\n",
       "      <th>count</th>\n",
       "      <td>205.000000</td>\n",
       "      <td>2.020000e+02</td>\n",
       "      <td>1.840000e+02</td>\n",
       "      <td>183.000000</td>\n",
       "      <td>55.000000</td>\n",
       "      <td>0.0</td>\n",
       "    </tr>\n",
       "    <tr>\n",
       "      <th>mean</th>\n",
       "      <td>102.000000</td>\n",
       "      <td>3.444713e+07</td>\n",
       "      <td>4.069948e+11</td>\n",
       "      <td>1.003950</td>\n",
       "      <td>22.986886</td>\n",
       "      <td>NaN</td>\n",
       "    </tr>\n",
       "    <tr>\n",
       "      <th>std</th>\n",
       "      <td>59.322565</td>\n",
       "      <td>1.397181e+08</td>\n",
       "      <td>1.671722e+12</td>\n",
       "      <td>1.427004</td>\n",
       "      <td>16.240575</td>\n",
       "      <td>NaN</td>\n",
       "    </tr>\n",
       "    <tr>\n",
       "      <th>min</th>\n",
       "      <td>0.000000</td>\n",
       "      <td>1.000000e+04</td>\n",
       "      <td>5.984000e+07</td>\n",
       "      <td>0.052011</td>\n",
       "      <td>2.833330</td>\n",
       "      <td>NaN</td>\n",
       "    </tr>\n",
       "    <tr>\n",
       "      <th>25%</th>\n",
       "      <td>51.000000</td>\n",
       "      <td>7.695000e+05</td>\n",
       "      <td>7.016508e+09</td>\n",
       "      <td>0.216178</td>\n",
       "      <td>10.512175</td>\n",
       "      <td>NaN</td>\n",
       "    </tr>\n",
       "    <tr>\n",
       "      <th>50%</th>\n",
       "      <td>102.000000</td>\n",
       "      <td>6.274000e+06</td>\n",
       "      <td>3.135326e+10</td>\n",
       "      <td>0.542178</td>\n",
       "      <td>17.928630</td>\n",
       "      <td>NaN</td>\n",
       "    </tr>\n",
       "    <tr>\n",
       "      <th>75%</th>\n",
       "      <td>153.000000</td>\n",
       "      <td>1.947150e+07</td>\n",
       "      <td>1.916302e+11</td>\n",
       "      <td>1.079500</td>\n",
       "      <td>32.880600</td>\n",
       "      <td>NaN</td>\n",
       "    </tr>\n",
       "    <tr>\n",
       "      <th>max</th>\n",
       "      <td>204.000000</td>\n",
       "      <td>1.406848e+09</td>\n",
       "      <td>1.820983e+13</td>\n",
       "      <td>9.343013</td>\n",
       "      <td>66.175700</td>\n",
       "      <td>NaN</td>\n",
       "    </tr>\n",
       "  </tbody>\n",
       "</table>\n",
       "</div>"
      ],
      "text/plain": [
       "       Unnamed: 0    Population     GNI_Total  \\\n",
       "count  205.000000  2.020000e+02  1.840000e+02   \n",
       "mean   102.000000  3.444713e+07  4.069948e+11   \n",
       "std     59.322565  1.397181e+08  1.671722e+12   \n",
       "min      0.000000  1.000000e+04  5.984000e+07   \n",
       "25%     51.000000  7.695000e+05  7.016508e+09   \n",
       "50%    102.000000  6.274000e+06  3.135326e+10   \n",
       "75%    153.000000  1.947150e+07  1.916302e+11   \n",
       "max    204.000000  1.406848e+09  1.820983e+13   \n",
       "\n",
       "       Deaths - Interpersonal violence - Sex: Both - Age: All Ages (Percent)  \\\n",
       "count                                         183.000000                       \n",
       "mean                                            1.003950                       \n",
       "std                                             1.427004                       \n",
       "min                                             0.052011                       \n",
       "25%                                             0.216178                       \n",
       "50%                                             0.542178                       \n",
       "75%                                             1.079500                       \n",
       "max                                             9.343013                       \n",
       "\n",
       "       Trust in others (World Values Survey (2014))  \\\n",
       "count                                     55.000000   \n",
       "mean                                      22.986886   \n",
       "std                                       16.240575   \n",
       "min                                        2.833330   \n",
       "25%                                       10.512175   \n",
       "50%                                       17.928630   \n",
       "75%                                       32.880600   \n",
       "max                                       66.175700   \n",
       "\n",
       "       Life satisfaction in Cantril Ladder (World Happiness Report 2020)  \n",
       "count                                                0.0                  \n",
       "mean                                                 NaN                  \n",
       "std                                                  NaN                  \n",
       "min                                                  NaN                  \n",
       "25%                                                  NaN                  \n",
       "50%                                                  NaN                  \n",
       "75%                                                  NaN                  \n",
       "max                                                  NaN                  "
      ]
     },
     "execution_count": 135,
     "metadata": {},
     "output_type": "execute_result"
    }
   ],
   "source": [
    "# Solution:\n",
    "df.describe()"
   ]
  },
  {
   "cell_type": "markdown",
   "metadata": {
    "id": "8KiMbd2NHICF"
   },
   "source": [
    "Print the dataypes of the columns."
   ]
  },
  {
   "cell_type": "code",
   "execution_count": 136,
   "metadata": {
    "id": "DL7YbXC7I4nD"
   },
   "outputs": [
    {
     "name": "stdout",
     "output_type": "stream",
     "text": [
      "Unnamed: 0                                                                 int64\n",
      "country_name                                                              object\n",
      "country_code                                                              object\n",
      "Population                                                               float64\n",
      "Continent                                                                 object\n",
      "GNI_Total                                                                float64\n",
      "Income share held by highest 10%                                          object\n",
      "Deaths - Interpersonal violence - Sex: Both - Age: All Ages (Percent)    float64\n",
      "Trust in others (World Values Survey (2014))                             float64\n",
      "Life satisfaction in Cantril Ladder (World Happiness Report 2020)        float64\n",
      "dtype: object\n"
     ]
    }
   ],
   "source": [
    "# Solution:\n",
    "print(df.dtypes)"
   ]
  },
  {
   "cell_type": "markdown",
   "metadata": {
    "id": "WpiBnibv0V-L"
   },
   "source": [
    "### Repetition: Indexing and filtering"
   ]
  },
  {
   "cell_type": "markdown",
   "metadata": {
    "id": "VubSkprzzfan"
   },
   "source": [
    "**1.4.** Print out the following:\n",
    "* First observation of the last column\n",
    "* Population and GNI for the first 5 observations\n",
    "* All observations with population lower than 30000\n",
    "* Country name and population for all observations in continent \"Oceania\"."
   ]
  },
  {
   "cell_type": "code",
   "execution_count": 137,
   "metadata": {
    "id": "sjTehSAx2Em3"
   },
   "outputs": [
    {
     "name": "stdout",
     "output_type": "stream",
     "text": [
      "nan\n"
     ]
    }
   ],
   "source": [
    "# Solution:\n",
    "print(df.iloc[0, -1])"
   ]
  },
  {
   "cell_type": "code",
   "execution_count": 138,
   "metadata": {
    "id": "oB_QrYuB2Gjg"
   },
   "outputs": [
    {
     "name": "stdout",
     "output_type": "stream",
     "text": [
      "   Population     GNI_Total\n",
      "0    104000.0  2.730000e+09\n",
      "1  34414000.0  2.064840e+10\n",
      "2  27884000.0  1.260357e+11\n",
      "3   2891000.0  1.269149e+10\n",
      "4     78000.0           NaN\n"
     ]
    }
   ],
   "source": [
    "\n",
    "print(df.loc[range(5), [\"Population\", \"GNI_Total\"]])"
   ]
  },
  {
   "cell_type": "code",
   "execution_count": 139,
   "metadata": {
    "id": "fEEeyTw606CD"
   },
   "outputs": [
    {
     "name": "stdout",
     "output_type": "stream",
     "text": [
      "     Unnamed: 0            country_name country_code  Population  \\\n",
      "136         136                   Nauru          NRU     10000.0   \n",
      "143         143                   Palau          PLW     18000.0   \n",
      "186         186                  Tuvalu          TUV     11000.0   \n",
      "194         194  British Virgin Islands          VGB     29000.0   \n",
      "\n",
      "         Continent    GNI_Total Income share held by highest 10%  \\\n",
      "136        Oceania  113900000.0                                .   \n",
      "143        Oceania  285480000.0                                .   \n",
      "186        Oceania   59840000.0                             30.7   \n",
      "194  North America          NaN                                .   \n",
      "\n",
      "     Deaths - Interpersonal violence - Sex: Both - Age: All Ages (Percent)  \\\n",
      "136                                                NaN                       \n",
      "143                                                NaN                       \n",
      "186                                                NaN                       \n",
      "194                                                NaN                       \n",
      "\n",
      "     Trust in others (World Values Survey (2014))  \\\n",
      "136                                           NaN   \n",
      "143                                           NaN   \n",
      "186                                           NaN   \n",
      "194                                           NaN   \n",
      "\n",
      "     Life satisfaction in Cantril Ladder (World Happiness Report 2020)  \n",
      "136                                                NaN                  \n",
      "143                                                NaN                  \n",
      "186                                                NaN                  \n",
      "194                                                NaN                  \n"
     ]
    }
   ],
   "source": [
    "print(df[df[\"Population\"] < 30000])"
   ]
  },
  {
   "cell_type": "code",
   "execution_count": 140,
   "metadata": {
    "id": "MnMLr8p22gVv"
   },
   "outputs": [
    {
     "name": "stdout",
     "output_type": "stream",
     "text": [
      "                 country_name  Population\n",
      "8              American Samoa     56000.0\n",
      "10                  Australia  23932000.0\n",
      "58                       Fiji    869000.0\n",
      "73                       Guam    162000.0\n",
      "94                   Kiribati    111000.0\n",
      "115          Marshall Islands     57000.0\n",
      "122  Northern Mariana Islands     56000.0\n",
      "129             New Caledonia    271000.0\n",
      "136                     Nauru     10000.0\n",
      "137               New Zealand   4615000.0\n",
      "143                     Palau     18000.0\n",
      "144          Papua New Guinea   8108000.0\n",
      "150          French Polynesia    273000.0\n",
      "159           Solomon Islands    603000.0\n",
      "182                     Tonga    101000.0\n",
      "186                    Tuvalu     11000.0\n",
      "197                   Vanuatu    271000.0\n",
      "198                     Samoa    194000.0\n"
     ]
    }
   ],
   "source": [
    "print(df.loc[df[\"Continent\"] == \"Oceania\", [\"country_name\", \"Population\"]])"
   ]
  },
  {
   "cell_type": "markdown",
   "metadata": {
    "id": "NbMWZyMII6jk"
   },
   "source": [
    "### Data cleaning"
   ]
  },
  {
   "cell_type": "markdown",
   "metadata": {
    "id": "oK4CFY6mIZS0"
   },
   "source": [
    "**1.5.** Now clean the column indices doing the following:\n",
    "\n",
    "\n",
    "*   Replace the very long column names with shorter ones (e.g. ``top10_share``, ``homicide``, ``trust``, ``life_satisfaction``).\n",
    "*   Convert all column names to lowercase\n",
    "\n"
   ]
  },
  {
   "cell_type": "code",
   "execution_count": 141,
   "metadata": {
    "id": "zRCXwBXZ674X"
   },
   "outputs": [
    {
     "name": "stdout",
     "output_type": "stream",
     "text": [
      "Index(['unnamed: 0', 'country_name', 'country_code', 'population', 'continent',\n",
      "       'gni_total', 'income share held by highest 10%',\n",
      "       'deaths - interpersonal violence - sex: both - age: all ages (percent)',\n",
      "       'trust in others (world values survey (2014))',\n",
      "       'life satisfaction in cantril ladder (world happiness report 2020)'],\n",
      "      dtype='object')\n"
     ]
    }
   ],
   "source": [
    "# Solution:\n",
    "df.columns = df.columns.str.lower()\n",
    "print(df.columns)\n"
   ]
  },
  {
   "cell_type": "code",
   "execution_count": 142,
   "metadata": {
    "id": "BGFmd_df-_Jc"
   },
   "outputs": [
    {
     "name": "stdout",
     "output_type": "stream",
     "text": [
      "Index(['unnamed: 0', 'country_name', 'country_code', 'population', 'continent',\n",
      "       'gni_total', 'top10_share', 'deaths_violence', 'trust',\n",
      "       'life_satisfaction'],\n",
      "      dtype='object')\n"
     ]
    }
   ],
   "source": [
    "d = {\n",
    "    \"income share held by highest 10%\" : \"top10_share\",\n",
    "    \"deaths - interpersonal violence - sex: both - age: all ages (percent)\" : \"deaths_violence\",\n",
    "    \"trust in others (world values survey (2014))\" : \"trust\",\n",
    "    \"life satisfaction in cantril ladder (world happiness report 2020)\" : \"life_satisfaction\"\n",
    "}\n",
    "df.rename(\n",
    "    columns=d,\n",
    "    inplace=True\n",
    ")\n",
    "print(df.columns)"
   ]
  },
  {
   "cell_type": "markdown",
   "metadata": {
    "id": "iO4bZUon69xM"
   },
   "source": [
    "**1.6.** Set the ``country_code`` column as the index."
   ]
  },
  {
   "cell_type": "code",
   "execution_count": 143,
   "metadata": {
    "id": "Z4dMPv1cHVa8"
   },
   "outputs": [
    {
     "name": "stdout",
     "output_type": "stream",
     "text": [
      "              unnamed: 0 country_name  population       continent  \\\n",
      "country_code                                                        \n",
      "ABW                    0        Aruba    104000.0  America, North   \n",
      "AFG                    1  Afghanistan  34414000.0            Asia   \n",
      "AGO                    2       Angola  27884000.0          Africa   \n",
      "ALB                    3      Albania   2891000.0          Europe   \n",
      "AND                    4      Andorra     78000.0          Europe   \n",
      "...                  ...          ...         ...             ...   \n",
      "ZMB                  200       Zambia  15879000.0          Africa   \n",
      "ZWE                  201     Zimbabwe  13815000.0          Africa   \n",
      "NaN                  202          NaN         NaN             NaN   \n",
      "NaN                  203          NaN         NaN             NaN   \n",
      "NaN                  204          NaN         NaN             NaN   \n",
      "\n",
      "                 gni_total top10_share  deaths_violence  trust  \\\n",
      "country_code                                                     \n",
      "ABW           2.730000e+09           .              NaN    NaN   \n",
      "AFG           2.064840e+10           .         1.546670    NaN   \n",
      "AGO           1.260357e+11           .         0.483067    NaN   \n",
      "ALB           1.269149e+10        22.9         0.316194    NaN   \n",
      "AND                    NaN           .         0.100418    NaN   \n",
      "...                    ...         ...              ...    ...   \n",
      "ZMB           2.508882e+10        44.4         0.839167    NaN   \n",
      "ZWE           1.768320e+10        33.8         1.002734    7.2   \n",
      "NaN                    NaN         NaN              NaN    NaN   \n",
      "NaN                    NaN         NaN              NaN    NaN   \n",
      "NaN                    NaN         NaN              NaN    NaN   \n",
      "\n",
      "              life_satisfaction  \n",
      "country_code                     \n",
      "ABW                         NaN  \n",
      "AFG                         NaN  \n",
      "AGO                         NaN  \n",
      "ALB                         NaN  \n",
      "AND                         NaN  \n",
      "...                         ...  \n",
      "ZMB                         NaN  \n",
      "ZWE                         NaN  \n",
      "NaN                         NaN  \n",
      "NaN                         NaN  \n",
      "NaN                         NaN  \n",
      "\n",
      "[205 rows x 9 columns]\n"
     ]
    }
   ],
   "source": [
    "# Solution:\n",
    "df.set_index(\"country_code\", inplace=True)\n",
    "print(df)"
   ]
  },
  {
   "cell_type": "markdown",
   "metadata": {
    "id": "5K2XCf6VKRmk"
   },
   "source": [
    "**1.7.** Drop the redundant column(s)."
   ]
  },
  {
   "cell_type": "code",
   "execution_count": 144,
   "metadata": {
    "id": "CnMaV0F-KPDt"
   },
   "outputs": [
    {
     "name": "stdout",
     "output_type": "stream",
     "text": [
      "Index(['country_name', 'population', 'continent', 'gni_total', 'top10_share',\n",
      "       'deaths_violence', 'trust', 'life_satisfaction'],\n",
      "      dtype='object')\n"
     ]
    }
   ],
   "source": [
    "# Solution:\n",
    "df.drop(\"unnamed: 0\", axis=1, inplace=True)\n",
    "print(df.columns)"
   ]
  },
  {
   "cell_type": "markdown",
   "metadata": {
    "id": "i5COquB7HV14"
   },
   "source": [
    "**1.8.** Print the minimum, the average, and the maximum value for the homicide variable (percentage of violent deaths among all deaths). How do you interpret these results?"
   ]
  },
  {
   "cell_type": "code",
   "execution_count": 145,
   "metadata": {
    "id": "iKn7WEqcBiQA"
   },
   "outputs": [
    {
     "name": "stdout",
     "output_type": "stream",
     "text": [
      "min     0.052011\n",
      "mean    1.003950\n",
      "max     9.343013\n",
      "Name: deaths_violence, dtype: float64\n"
     ]
    }
   ],
   "source": [
    "# Solution:\n",
    "print(df[\"deaths_violence\"].agg([\"min\", \"mean\", \"max\"]))\n",
    "\n",
    "# an average of 1 percent of the population dies from interpersonal violence\n",
    "# the minimum percentage found in a country is .5 percent\n",
    "# the maximum percentage found in a country is 9.3 percent"
   ]
  },
  {
   "cell_type": "markdown",
   "metadata": {
    "id": "GvaaIXBdB8WO"
   },
   "source": [
    "**1.9.** Can you sort the data to find out what country has (a) the lowest and (b) the highest share of homicides? <font color='violet'> Hint: <font color='white'> The sort_values function has a parameter that allows you to specify whether the data should be sorted in descending or in ascending order."
   ]
  },
  {
   "cell_type": "code",
   "execution_count": 146,
   "metadata": {
    "id": "kLWJmLFHCKp6"
   },
   "outputs": [
    {
     "name": "stdout",
     "output_type": "stream",
     "text": [
      "                        country_name   population      continent  \\\n",
      "country_code                                                       \n",
      "JPN                            Japan  127985000.0           Asia   \n",
      "GBR                   United Kingdom   65860000.0         Europe   \n",
      "DEU                          Germany   81787000.0         Europe   \n",
      "ITA                            Italy   60578000.0         Europe   \n",
      "BDI                          Burundi   10160000.0         Africa   \n",
      "...                              ...          ...            ...   \n",
      "TUV                           Tuvalu      11000.0        Oceania   \n",
      "VGB           British Virgin Islands      29000.0  North America   \n",
      "NaN                              NaN          NaN            NaN   \n",
      "NaN                              NaN          NaN            NaN   \n",
      "NaN                              NaN          NaN            NaN   \n",
      "\n",
      "                 gni_total top10_share  deaths_violence     trust  \\\n",
      "country_code                                                        \n",
      "JPN           4.970937e+12           .         0.052011  35.93942   \n",
      "GBR           2.920891e+12        26.2         0.058398       NaN   \n",
      "DEU           3.746662e+12        24.9         0.070517  42.03041   \n",
      "ITA           1.997862e+12        25.5         0.075398       NaN   \n",
      "BDI           2.641600e+09        31.3         0.076084       NaN   \n",
      "...                    ...         ...              ...       ...   \n",
      "TUV           5.984000e+07        30.7              NaN       NaN   \n",
      "VGB                    NaN           .              NaN       NaN   \n",
      "NaN                    NaN         NaN              NaN       NaN   \n",
      "NaN                    NaN         NaN              NaN       NaN   \n",
      "NaN                    NaN         NaN              NaN       NaN   \n",
      "\n",
      "              life_satisfaction  \n",
      "country_code                     \n",
      "JPN                         NaN  \n",
      "GBR                         NaN  \n",
      "DEU                         NaN  \n",
      "ITA                         NaN  \n",
      "BDI                         NaN  \n",
      "...                         ...  \n",
      "TUV                         NaN  \n",
      "VGB                         NaN  \n",
      "NaN                         NaN  \n",
      "NaN                         NaN  \n",
      "NaN                         NaN  \n",
      "\n",
      "[205 rows x 8 columns]\n"
     ]
    }
   ],
   "source": [
    "# Solution:\n",
    "print(df.sort_values(\"deaths_violence\"))"
   ]
  },
  {
   "cell_type": "code",
   "execution_count": 147,
   "metadata": {
    "id": "FL2uBS2fCfuv"
   },
   "outputs": [
    {
     "name": "stdout",
     "output_type": "stream",
     "text": [
      "                        country_name   population       continent  \\\n",
      "country_code                                                        \n",
      "HND                         Honduras    9113000.0   North America   \n",
      "SLV                      El Salvador    6325000.0   North America   \n",
      "GTM                        Guatemala   16252000.0   North America   \n",
      "COL                         Colombia   47521000.0  America, South   \n",
      "MEX                           Mexico  121858000.0  America, North   \n",
      "...                              ...          ...             ...   \n",
      "TUV                           Tuvalu      11000.0         Oceania   \n",
      "VGB           British Virgin Islands      29000.0   North America   \n",
      "NaN                              NaN          NaN             NaN   \n",
      "NaN                              NaN          NaN             NaN   \n",
      "NaN                              NaN          NaN             NaN   \n",
      "\n",
      "                 gni_total top10_share  deaths_violence     trust  \\\n",
      "country_code                                                        \n",
      "HND           1.877278e+10        37.8         9.343013       NaN   \n",
      "SLV           2.175800e+10        32.0         8.306099       NaN   \n",
      "GTM           6.013240e+10        38.4         6.949676       NaN   \n",
      "COL           3.483289e+11        39.6         6.423809   4.12783   \n",
      "MEX           1.238077e+12        39.7         6.067700  12.40620   \n",
      "...                    ...         ...              ...       ...   \n",
      "TUV           5.984000e+07        30.7              NaN       NaN   \n",
      "VGB                    NaN           .              NaN       NaN   \n",
      "NaN                    NaN         NaN              NaN       NaN   \n",
      "NaN                    NaN         NaN              NaN       NaN   \n",
      "NaN                    NaN         NaN              NaN       NaN   \n",
      "\n",
      "              life_satisfaction  \n",
      "country_code                     \n",
      "HND                         NaN  \n",
      "SLV                         NaN  \n",
      "GTM                         NaN  \n",
      "COL                         NaN  \n",
      "MEX                         NaN  \n",
      "...                         ...  \n",
      "TUV                         NaN  \n",
      "VGB                         NaN  \n",
      "NaN                         NaN  \n",
      "NaN                         NaN  \n",
      "NaN                         NaN  \n",
      "\n",
      "[205 rows x 8 columns]\n"
     ]
    }
   ],
   "source": [
    "# Solution:\n",
    "print(df.sort_values(\"deaths_violence\", ascending=False))"
   ]
  },
  {
   "cell_type": "markdown",
   "metadata": {
    "id": "KWHUVKpkD4_B"
   },
   "source": [
    "**1.10.** Take a look at the categories of the ``continent`` column  and try to clean this column. How many observations do we have for each continent?"
   ]
  },
  {
   "cell_type": "code",
   "execution_count": 148,
   "metadata": {
    "id": "75tNO-8JEXZd"
   },
   "outputs": [
    {
     "name": "stdout",
     "output_type": "stream",
     "text": [
      "continent\n",
      "Africa            50\n",
      "Europe            47\n",
      "Asia              43\n",
      "America, North    22\n",
      "Oceania           18\n",
      "North America     11\n",
      "America, South     7\n",
      "South America      4\n",
      "Name: count, dtype: int64\n",
      "continent\n",
      "Africa           50\n",
      "Europe           47\n",
      "Asia             43\n",
      "North America    33\n",
      "Oceania          18\n",
      "South America    11\n",
      "Name: count, dtype: int64\n"
     ]
    },
    {
     "name": "stderr",
     "output_type": "stream",
     "text": [
      "C:\\Users\\Raphael Keller\\AppData\\Local\\Temp\\ipykernel_20012\\3000259275.py:8: FutureWarning: A value is trying to be set on a copy of a DataFrame or Series through chained assignment using an inplace method.\n",
      "The behavior will change in pandas 3.0. This inplace method will never work because the intermediate object on which we are setting values always behaves as a copy.\n",
      "\n",
      "For example, when doing 'df[col].method(value, inplace=True)', try using 'df.method({col: value}, inplace=True)' or df[col] = df[col].method(value) instead, to perform the operation inplace on the original object.\n",
      "\n",
      "\n",
      "  df[\"continent\"].replace(replacers, inplace=True)\n"
     ]
    }
   ],
   "source": [
    "# Solution:\n",
    "print(df[\"continent\"].value_counts())\n",
    "\n",
    "replacers = {\n",
    "    \"America, North\" : \"North America\",\n",
    "    \"America, South\" : \"South America\",\n",
    "}\n",
    "df[\"continent\"].replace(replacers, inplace=True)\n",
    "print(df[\"continent\"].value_counts())"
   ]
  },
  {
   "cell_type": "markdown",
   "metadata": {
    "id": "KousXDAnfPDv"
   },
   "source": [
    "**1.11.** Find out how missing values in the ``top10_share`` variable were coded and convert them to proper missings. Recast the variable to a float so you can compute the top 10 income share of the median country."
   ]
  },
  {
   "cell_type": "code",
   "execution_count": 149,
   "metadata": {
    "id": "jmmf5olqgpQB"
   },
   "outputs": [
    {
     "name": "stdout",
     "output_type": "stream",
     "text": [
      "country_code\n",
      "ABW       .\n",
      "AFG       .\n",
      "AGO       .\n",
      "ALB    22.9\n",
      "AND       .\n",
      "       ... \n",
      "ZMB    44.4\n",
      "ZWE    33.8\n",
      "NaN     NaN\n",
      "NaN     NaN\n",
      "NaN     NaN\n",
      "Name: top10_share, Length: 205, dtype: object\n",
      "\n",
      "country_code\n",
      "ABW     NaN\n",
      "AFG     NaN\n",
      "AGO     NaN\n",
      "ALB    22.9\n",
      "AND     NaN\n",
      "       ... \n",
      "ZMB    44.4\n",
      "ZWE    33.8\n",
      "NaN     NaN\n",
      "NaN     NaN\n",
      "NaN     NaN\n",
      "Name: top10_share, Length: 205, dtype: float64\n",
      "\n",
      "28.8\n"
     ]
    }
   ],
   "source": [
    "# Solution:\n",
    "print(df[\"top10_share\"])\n",
    "print()\n",
    "df.loc[df[\"top10_share\"] == \".\", \"top10_share\"] = np.nan\n",
    "df[\"top10_share\"] = df[\"top10_share\"].astype(float)\n",
    "print(df[\"top10_share\"])\n",
    "print()\n",
    "print(df[\"top10_share\"].median()) # 28.8"
   ]
  },
  {
   "cell_type": "markdown",
   "metadata": {
    "id": "v8d6T0GnrNy2"
   },
   "source": [
    "Drop columns and rows with nothing but missing values."
   ]
  },
  {
   "cell_type": "code",
   "execution_count": 150,
   "metadata": {
    "id": "3GiNKs90rNcm"
   },
   "outputs": [
    {
     "name": "stdout",
     "output_type": "stream",
     "text": [
      "              country_name  population      continent     gni_total  \\\n",
      "country_code                                                          \n",
      "ABW                  Aruba    104000.0  North America  2.730000e+09   \n",
      "AFG            Afghanistan  34414000.0           Asia  2.064840e+10   \n",
      "AGO                 Angola  27884000.0         Africa  1.260357e+11   \n",
      "ALB                Albania   2891000.0         Europe  1.269149e+10   \n",
      "AND                Andorra     78000.0         Europe           NaN   \n",
      "...                    ...         ...            ...           ...   \n",
      "VUT                Vanuatu    271000.0        Oceania  7.886100e+08   \n",
      "WSM                  Samoa    194000.0        Oceania  7.682400e+08   \n",
      "ZAF           South Africa  55386000.0         Africa  3.350853e+11   \n",
      "ZMB                 Zambia  15879000.0         Africa  2.508882e+10   \n",
      "ZWE               Zimbabwe  13815000.0         Africa  1.768320e+10   \n",
      "\n",
      "              top10_share  deaths_violence     trust  \n",
      "country_code                                          \n",
      "ABW                   NaN              NaN       NaN  \n",
      "AFG                   NaN         1.546670       NaN  \n",
      "AGO                   NaN         0.483067       NaN  \n",
      "ALB                  22.9         0.316194       NaN  \n",
      "AND                   NaN         0.100418       NaN  \n",
      "...                   ...              ...       ...  \n",
      "VUT                  29.1         0.213722       NaN  \n",
      "WSM                   NaN         0.565338       NaN  \n",
      "ZAF                  51.3         3.304199  23.50609  \n",
      "ZMB                  44.4         0.839167       NaN  \n",
      "ZWE                  33.8         1.002734   7.20000  \n",
      "\n",
      "[202 rows x 7 columns]\n"
     ]
    }
   ],
   "source": [
    "# Solution:\n",
    "df.dropna(how=\"all\", axis=0, inplace=True)\n",
    "df.dropna(how=\"all\", axis=1, inplace=True)\n",
    "print(df)"
   ]
  },
  {
   "cell_type": "markdown",
   "metadata": {
    "id": "qr3mdRIS4pIq"
   },
   "source": [
    "Can you print the share of missing values for each variable/column?"
   ]
  },
  {
   "cell_type": "code",
   "execution_count": 151,
   "metadata": {
    "id": "VH7Fz3ft4wVa"
   },
   "outputs": [
    {
     "name": "stdout",
     "output_type": "stream",
     "text": [
      "country_name       0.000000\n",
      "population         0.000000\n",
      "continent          0.000000\n",
      "gni_total          0.089109\n",
      "top10_share        0.400990\n",
      "deaths_violence    0.094059\n",
      "trust              0.727723\n",
      "dtype: float64\n"
     ]
    }
   ],
   "source": [
    "# Solution:\n",
    "print(df.isna().mean())"
   ]
  },
  {
   "cell_type": "markdown",
   "metadata": {
    "id": "D14xVJqO4yvK"
   },
   "source": [
    "**1.12.** Now try to create a dataset called ``trust_df`` that contains only those observations where the trust value is not missing."
   ]
  },
  {
   "cell_type": "code",
   "execution_count": 152,
   "metadata": {
    "id": "0n2gsgjv4yML"
   },
   "outputs": [
    {
     "name": "stdout",
     "output_type": "stream",
     "text": [
      "                     country_name    population      continent     gni_total  \\\n",
      "country_code                                                                   \n",
      "ARG                     Argentina  4.307500e+07  South America  5.414528e+11   \n",
      "ARM                       Armenia  2.926000e+06           Asia  1.173326e+10   \n",
      "AUS                     Australia  2.393200e+07        Oceania  1.447886e+12   \n",
      "AZE                    Azerbaijan  9.623000e+06           Asia  6.322311e+10   \n",
      "BHR                       Bahrain  1.372000e+06           Asia  3.097976e+10   \n",
      "BLR                       Belarus  9.439000e+06         Europe  6.333569e+10   \n",
      "BRA                        Brazil  2.044720e+08  South America  2.083570e+12   \n",
      "CHL                         Chile  1.796900e+07  South America  2.539020e+11   \n",
      "CHN                         China  1.406848e+09           Asia  1.117037e+13   \n",
      "COL                      Colombia  4.752100e+07  South America  3.483289e+11   \n",
      "CYP                        Cyprus  1.161000e+06         Europe  3.013956e+10   \n",
      "DEU                       Germany  8.178700e+07         Europe  3.746662e+12   \n",
      "DZA                       Algeria  3.972800e+07         Africa  1.926808e+11   \n",
      "ECU                       Ecuador  1.621200e+07  South America  9.678564e+10   \n",
      "ESP                         Spain  4.667200e+07         Europe  1.326885e+12   \n",
      "EST                       Estonia  1.315000e+06         Europe  2.456420e+10   \n",
      "GEO                       Georgia  4.024000e+06           Asia  1.774584e+10   \n",
      "GHA                         Ghana  2.784900e+07         Africa  5.402706e+10   \n",
      "IND                         India  1.310152e+09           Asia  2.096243e+12   \n",
      "IRQ                          Iraq  3.557200e+07           Asia  2.109420e+11   \n",
      "JOR                        Jordan  9.267000e+06           Asia  3.660465e+10   \n",
      "JPN                         Japan  1.279850e+08           Asia  4.970937e+12   \n",
      "KAZ                    Kazakhstan  1.757200e+07           Asia  1.999694e+11   \n",
      "KGZ               Kyrgyz Republic  5.959000e+06           Asia  7.031620e+09   \n",
      "KWT                        Kuwait  3.836000e+06           Asia  1.604215e+11   \n",
      "LBN                       Lebanon  6.533000e+06           Asia  4.756024e+10   \n",
      "LBY                         Libya  6.418000e+06         Africa  3.651842e+10   \n",
      "MAR                       Morocco  3.466400e+07         Africa  1.046853e+11   \n",
      "MEX                        Mexico  1.218580e+08  North America  1.238077e+12   \n",
      "MYS                      Malaysia  3.027100e+07           Asia  3.232943e+11   \n",
      "NGA                       Nigeria  1.811370e+08         Africa  5.108063e+11   \n",
      "NLD                   Netherlands  1.693800e+07         Europe  8.436818e+11   \n",
      "NZL                   New Zealand  4.615000e+06        Oceania  1.875536e+11   \n",
      "PAK                      Pakistan  1.994270e+08           Asia  2.512780e+11   \n",
      "PER                          Peru  3.047100e+07  South America  1.931861e+11   \n",
      "PHL                   Philippines  1.021130e+08           Asia  3.451419e+11   \n",
      "POL                        Poland  3.803400e+07         Europe  5.062325e+11   \n",
      "PSE            West Bank and Gaza  4.529000e+06           Asia  1.662143e+10   \n",
      "QAT                         Qatar  2.566000e+06           Asia  1.884470e+11   \n",
      "ROU                       Romania  1.992500e+07         Europe  1.912800e+11   \n",
      "RUS            Russian Federation  1.449850e+08         Europe  1.707923e+12   \n",
      "RWA                        Rwanda  1.136900e+07         Africa  8.526750e+09   \n",
      "SGP                     Singapore  5.592000e+06           Asia  2.972707e+11   \n",
      "SVN                      Slovenia  2.071000e+06         Europe  4.607975e+10   \n",
      "SWE                        Sweden  9.765000e+06         Europe  5.704713e+11   \n",
      "THA                      Thailand  6.871500e+07           Asia  3.923626e+11   \n",
      "TTO           Trinidad and Tobago  1.370000e+06  North America  2.600260e+10   \n",
      "TUN                       Tunisia  1.118000e+07         Africa  4.427280e+10   \n",
      "TUR                        Turkey  7.852900e+07           Asia  9.447039e+11   \n",
      "UKR                       Ukraine  4.492200e+07         Europe  1.212894e+11   \n",
      "URY                       Uruguay  3.412000e+06  South America  5.336368e+10   \n",
      "USA                 United States  3.208780e+08  North America  1.820983e+13   \n",
      "UZB                    Uzbekistan  3.093000e+07           Asia  8.041800e+10   \n",
      "ZAF                  South Africa  5.538600e+07         Africa  3.350853e+11   \n",
      "ZWE                      Zimbabwe  1.381500e+07         Africa  1.768320e+10   \n",
      "\n",
      "              top10_share  deaths_violence     trust  \n",
      "country_code                                          \n",
      "ARG                  30.8         0.821761  22.64706  \n",
      "ARM                  26.7         0.394907  10.01821  \n",
      "AUS                  26.5         0.191535  54.43383  \n",
      "AZE                   NaN         0.495191  16.16766  \n",
      "BHR                   NaN         0.630370  33.50000  \n",
      "BLR                  22.2         0.535968  32.80737  \n",
      "BRA                  40.5         4.730778   6.52759  \n",
      "CHL                  38.0         0.711244  12.64016  \n",
      "CHN                  31.4         0.139078  62.69384  \n",
      "COL                  39.6         6.423809   4.12783  \n",
      "CYP                  28.8         0.263152   9.02708  \n",
      "DEU                  24.9         0.070517  42.03041  \n",
      "DZA                  22.9         0.261175  17.92863  \n",
      "ECU                  35.8         2.649495   7.16070  \n",
      "ESP                  26.0         0.079577  19.01944  \n",
      "EST                  26.2         0.386881  38.51175  \n",
      "GEO                  28.9         0.280135   8.81864  \n",
      "GHA                  31.6         0.446959   4.96134  \n",
      "IND                  29.8         0.422305  32.95383  \n",
      "IRQ                  23.7         1.612183  30.00000  \n",
      "JOR                  27.5         1.008700  13.25000  \n",
      "JPN                   NaN         0.052011  35.93942  \n",
      "KAZ                  22.3         1.131859  38.80000  \n",
      "KGZ                  24.8         0.791024  37.72538  \n",
      "KWT                   NaN         0.497972  29.15361  \n",
      "LBN                  24.8         1.132690   9.83333  \n",
      "LBY                   NaN         0.477222  11.00614  \n",
      "MAR                   NaN         0.185544  12.44743  \n",
      "MEX                  39.7         6.067700  12.40620  \n",
      "MYS                   NaN         0.364997   8.53846  \n",
      "NGA                   NaN         0.449691  14.78113  \n",
      "NLD                  23.3         0.096024  66.17570  \n",
      "NZL                   NaN         0.182806  56.22733  \n",
      "PAK                  26.0         0.658232  23.54949  \n",
      "PER                  33.4         0.836362   8.21577  \n",
      "PHL                  31.3         2.381834   2.83333  \n",
      "POL                  25.2         0.168876  22.25673  \n",
      "PSE                  27.2         1.797593  15.80000  \n",
      "QAT                   NaN         0.570920  21.41510  \n",
      "ROU                  21.6         0.155243   7.07138  \n",
      "RUS                  29.7         1.179291  27.73516  \n",
      "RWA                  43.2         0.542178  16.63392  \n",
      "SGP                   NaN         0.130113  38.51626  \n",
      "SVN                  21.1         0.101882  19.98124  \n",
      "SWE                  21.5         0.131038  63.75839  \n",
      "THA                  29.2         0.908847  32.57384  \n",
      "TTO                   NaN         2.783280   3.20320  \n",
      "TUN                  27.0         0.101157  15.51867  \n",
      "TUR                  31.6         0.424796  12.00762  \n",
      "UKR                  21.6         0.652886  23.71274  \n",
      "URY                  30.8         0.625903  14.43515  \n",
      "USA                  30.2         0.695652  38.17277  \n",
      "UZB                   NaN         0.401368  13.92236  \n",
      "ZAF                  51.3         3.304199  23.50609  \n",
      "ZWE                  33.8         1.002734   7.20000  \n"
     ]
    }
   ],
   "source": [
    "# Solution:\n",
    "trust_df = df[df.notna()[\"trust\"]]\n",
    "print(trust_df)"
   ]
  },
  {
   "cell_type": "markdown",
   "metadata": {
    "id": "gRDKn9MyeydB"
   },
   "source": [
    "**1.13.** Add a new variable (to the main dataset, not to ``trust_df``) called ``gni_per_capita`` with the per capita gross national income."
   ]
  },
  {
   "cell_type": "code",
   "execution_count": 153,
   "metadata": {
    "id": "bV16PCTre_NH"
   },
   "outputs": [
    {
     "name": "stdout",
     "output_type": "stream",
     "text": [
      "country_code\n",
      "ABW    26250.0\n",
      "AFG      600.0\n",
      "AGO     4520.0\n",
      "ALB     4390.0\n",
      "AND        NaN\n",
      "        ...   \n",
      "VUT     2910.0\n",
      "WSM     3960.0\n",
      "ZAF     6050.0\n",
      "ZMB     1580.0\n",
      "ZWE     1280.0\n",
      "Name: gni_per_capita, Length: 202, dtype: float64\n"
     ]
    }
   ],
   "source": [
    "# Solution:\n",
    "df[\"gni_per_capita\"] = df[\"gni_total\"] / df[\"population\"]\n",
    "print(df[\"gni_per_capita\"])"
   ]
  },
  {
   "cell_type": "markdown",
   "metadata": {
    "id": "nk2xJpRJvATI"
   },
   "source": [
    "**1.14.** Export the cleaned dataset as a csv-file to your computer or your Google Drive."
   ]
  },
  {
   "cell_type": "code",
   "execution_count": 154,
   "metadata": {
    "id": "74EMH1RLYG5b"
   },
   "outputs": [],
   "source": [
    "# Solution:\n",
    "df.to_csv(\"countries_trust_cleaned.csv\")"
   ]
  },
  {
   "cell_type": "markdown",
   "metadata": {
    "id": "I5fGuENsxWXa"
   },
   "source": [
    "## 2. Advanced exercises"
   ]
  },
  {
   "cell_type": "markdown",
   "metadata": {
    "id": "mFhlZBpQe_-_"
   },
   "source": [
    "**2.1.** Now add a column called ``inequality``. Its values should be either \"low\" or \"high\" depending on whether the top 10 income share of the country is above or below ``28.8`` (the median). Try to solve the task by writting a function that you can then use in ``apply()``. In your function, make sure that missing inequality values are handled correctly!"
   ]
  },
  {
   "cell_type": "code",
   "execution_count": 155,
   "metadata": {
    "id": "CUQ8EpLdkYSq"
   },
   "outputs": [
    {
     "name": "stdout",
     "output_type": "stream",
     "text": [
      "country_code\n",
      "ABW     NaN\n",
      "AFG     NaN\n",
      "AGO     NaN\n",
      "ALB     low\n",
      "AND     NaN\n",
      "       ... \n",
      "VUT    high\n",
      "WSM     NaN\n",
      "ZAF    high\n",
      "ZMB    high\n",
      "ZWE    high\n",
      "Name: inequality, Length: 202, dtype: object\n"
     ]
    }
   ],
   "source": [
    "# Solution:\n",
    "def det_inequality(x):\n",
    "    if x < 28.8:\n",
    "        return \"low\"\n",
    "    elif pd.isna(x):  # Handle missing values\n",
    "        return np.nan\n",
    "    else:\n",
    "        return \"high\"\n",
    "\n",
    "df[\"inequality\"] = df[\"top10_share\"].apply(det_inequality)\n",
    "print(df[\"inequality\"])"
   ]
  },
  {
   "cell_type": "markdown",
   "metadata": {
    "id": "c14_-YT6piZe"
   },
   "source": [
    "Can you find an easier way to do this (i.e. to cut a variable at the median)? Finding the right function, it can be done in one line of code! <font color='violet'> Hint: <font color='white'>Search for something like \"make quantiles pandas\"!"
   ]
  },
  {
   "cell_type": "code",
   "execution_count": 156,
   "metadata": {
    "id": "9hCKO0tkpryO"
   },
   "outputs": [
    {
     "name": "stdout",
     "output_type": "stream",
     "text": [
      "country_code\n",
      "ABW     NaN\n",
      "AFG     NaN\n",
      "AGO     NaN\n",
      "ALB     low\n",
      "AND     NaN\n",
      "       ... \n",
      "VUT    high\n",
      "WSM     NaN\n",
      "ZAF    high\n",
      "ZMB    high\n",
      "ZWE    high\n",
      "Name: inequality_2, Length: 202, dtype: category\n",
      "Categories (2, object): ['low' < 'high']\n"
     ]
    }
   ],
   "source": [
    "# Solution:\n",
    "df[\"inequality_2\"] = pd.qcut(df[\"top10_share\"], q=[0, 0.5, 1], labels=[\"low\", \"high\"], duplicates=\"drop\")\n",
    "print(df[\"inequality_2\"])"
   ]
  },
  {
   "cell_type": "markdown",
   "metadata": {
    "id": "XwwxVpkwskp7"
   },
   "source": [
    "**2.2.** Create a column ``log_gni_pc`` with the log of the per capita gross national income."
   ]
  },
  {
   "cell_type": "code",
   "execution_count": 157,
   "metadata": {
    "id": "1nhYLwmasKEj"
   },
   "outputs": [
    {
     "name": "stdout",
     "output_type": "stream",
     "text": [
      "country_code\n",
      "ABW    10.175421\n",
      "AFG     6.396930\n",
      "AGO     8.416267\n",
      "ALB     8.387085\n",
      "AND          NaN\n",
      "         ...    \n",
      "VUT     7.975908\n",
      "WSM     8.283999\n",
      "ZAF     8.707814\n",
      "ZMB     7.365180\n",
      "ZWE     7.154615\n",
      "Name: log_gni_pc, Length: 202, dtype: float64\n"
     ]
    }
   ],
   "source": [
    "# Solution:\n",
    "df[\"log_gni_pc\"] = np.log(df[\"gni_per_capita\"])\n",
    "print(df[\"log_gni_pc\"])"
   ]
  },
  {
   "cell_type": "markdown",
   "metadata": {
    "id": "SHF3KprDuxCC"
   },
   "source": [
    "**2.3.** Suppose you have some duplicate values in your dataset. Run the following code to create them:"
   ]
  },
  {
   "cell_type": "code",
   "execution_count": 158,
   "metadata": {
    "id": "5HJ-5-QZ9X6X"
   },
   "outputs": [
    {
     "data": {
      "text/html": [
       "<div>\n",
       "<style scoped>\n",
       "    .dataframe tbody tr th:only-of-type {\n",
       "        vertical-align: middle;\n",
       "    }\n",
       "\n",
       "    .dataframe tbody tr th {\n",
       "        vertical-align: top;\n",
       "    }\n",
       "\n",
       "    .dataframe thead th {\n",
       "        text-align: right;\n",
       "    }\n",
       "</style>\n",
       "<table border=\"1\" class=\"dataframe\">\n",
       "  <thead>\n",
       "    <tr style=\"text-align: right;\">\n",
       "      <th></th>\n",
       "      <th>country_name</th>\n",
       "      <th>population</th>\n",
       "      <th>continent</th>\n",
       "      <th>gni_total</th>\n",
       "      <th>top10_share</th>\n",
       "      <th>deaths_violence</th>\n",
       "      <th>trust</th>\n",
       "      <th>gni_per_capita</th>\n",
       "      <th>inequality</th>\n",
       "      <th>inequality_2</th>\n",
       "      <th>log_gni_pc</th>\n",
       "    </tr>\n",
       "  </thead>\n",
       "  <tbody>\n",
       "    <tr>\n",
       "      <th>0</th>\n",
       "      <td>Aruba</td>\n",
       "      <td>104000.0</td>\n",
       "      <td>North America</td>\n",
       "      <td>2730000000.0</td>\n",
       "      <td>NaN</td>\n",
       "      <td>NaN</td>\n",
       "      <td>NaN</td>\n",
       "      <td>26250.0</td>\n",
       "      <td>NaN</td>\n",
       "      <td>NaN</td>\n",
       "      <td>10.175421</td>\n",
       "    </tr>\n",
       "    <tr>\n",
       "      <th>1</th>\n",
       "      <td>Aruba</td>\n",
       "      <td>104000.0</td>\n",
       "      <td>North America</td>\n",
       "      <td>2730000000.0</td>\n",
       "      <td>NaN</td>\n",
       "      <td>NaN</td>\n",
       "      <td>NaN</td>\n",
       "      <td>26250.0</td>\n",
       "      <td>NaN</td>\n",
       "      <td>NaN</td>\n",
       "      <td>10.175421</td>\n",
       "    </tr>\n",
       "    <tr>\n",
       "      <th>2</th>\n",
       "      <td>Afghanistan</td>\n",
       "      <td>34414000.0</td>\n",
       "      <td>Asia</td>\n",
       "      <td>20648400000.0</td>\n",
       "      <td>NaN</td>\n",
       "      <td>1.54667</td>\n",
       "      <td>NaN</td>\n",
       "      <td>600.0</td>\n",
       "      <td>NaN</td>\n",
       "      <td>NaN</td>\n",
       "      <td>6.39693</td>\n",
       "    </tr>\n",
       "    <tr>\n",
       "      <th>3</th>\n",
       "      <td>Afghanistan</td>\n",
       "      <td>34414000.0</td>\n",
       "      <td>Asia</td>\n",
       "      <td>20648400000.0</td>\n",
       "      <td>NaN</td>\n",
       "      <td>1.54667</td>\n",
       "      <td>NaN</td>\n",
       "      <td>600.0</td>\n",
       "      <td>NaN</td>\n",
       "      <td>NaN</td>\n",
       "      <td>6.39693</td>\n",
       "    </tr>\n",
       "    <tr>\n",
       "      <th>4</th>\n",
       "      <td>Angola</td>\n",
       "      <td>27884000.0</td>\n",
       "      <td>Africa</td>\n",
       "      <td>126035680000.0</td>\n",
       "      <td>NaN</td>\n",
       "      <td>0.483067</td>\n",
       "      <td>NaN</td>\n",
       "      <td>4520.0</td>\n",
       "      <td>NaN</td>\n",
       "      <td>NaN</td>\n",
       "      <td>8.416267</td>\n",
       "    </tr>\n",
       "  </tbody>\n",
       "</table>\n",
       "</div>"
      ],
      "text/plain": [
       "  country_name  population      continent       gni_total top10_share  \\\n",
       "0        Aruba    104000.0  North America    2730000000.0         NaN   \n",
       "1        Aruba    104000.0  North America    2730000000.0         NaN   \n",
       "2  Afghanistan  34414000.0           Asia   20648400000.0         NaN   \n",
       "3  Afghanistan  34414000.0           Asia   20648400000.0         NaN   \n",
       "4       Angola  27884000.0         Africa  126035680000.0         NaN   \n",
       "\n",
       "  deaths_violence trust gni_per_capita inequality inequality_2 log_gni_pc  \n",
       "0             NaN   NaN        26250.0        NaN          NaN  10.175421  \n",
       "1             NaN   NaN        26250.0        NaN          NaN  10.175421  \n",
       "2         1.54667   NaN          600.0        NaN          NaN    6.39693  \n",
       "3         1.54667   NaN          600.0        NaN          NaN    6.39693  \n",
       "4        0.483067   NaN         4520.0        NaN          NaN   8.416267  "
      ]
     },
     "execution_count": 158,
     "metadata": {},
     "output_type": "execute_result"
    }
   ],
   "source": [
    "new_df = pd.DataFrame(np.repeat(df.values, 2, axis=0))\n",
    "new_df.columns = df.columns\n",
    "new_df.head()"
   ]
  },
  {
   "cell_type": "markdown",
   "metadata": {
    "id": "iKGilOtD_18g"
   },
   "source": [
    "Can you find a method or function that allows you to get rid of the duplicates in ``new_df``?"
   ]
  },
  {
   "cell_type": "code",
   "execution_count": 159,
   "metadata": {
    "id": "eOzlqdaR_1cY"
   },
   "outputs": [
    {
     "name": "stdout",
     "output_type": "stream",
     "text": [
      "              country_name  population      continent     gni_total  \\\n",
      "country_code                                                          \n",
      "ABW                  Aruba    104000.0  North America  2.730000e+09   \n",
      "AFG            Afghanistan  34414000.0           Asia  2.064840e+10   \n",
      "AGO                 Angola  27884000.0         Africa  1.260357e+11   \n",
      "ALB                Albania   2891000.0         Europe  1.269149e+10   \n",
      "AND                Andorra     78000.0         Europe           NaN   \n",
      "...                    ...         ...            ...           ...   \n",
      "VUT                Vanuatu    271000.0        Oceania  7.886100e+08   \n",
      "WSM                  Samoa    194000.0        Oceania  7.682400e+08   \n",
      "ZAF           South Africa  55386000.0         Africa  3.350853e+11   \n",
      "ZMB                 Zambia  15879000.0         Africa  2.508882e+10   \n",
      "ZWE               Zimbabwe  13815000.0         Africa  1.768320e+10   \n",
      "\n",
      "              top10_share  deaths_violence     trust  gni_per_capita  \\\n",
      "country_code                                                           \n",
      "ABW                   NaN              NaN       NaN         26250.0   \n",
      "AFG                   NaN         1.546670       NaN           600.0   \n",
      "AGO                   NaN         0.483067       NaN          4520.0   \n",
      "ALB                  22.9         0.316194       NaN          4390.0   \n",
      "AND                   NaN         0.100418       NaN             NaN   \n",
      "...                   ...              ...       ...             ...   \n",
      "VUT                  29.1         0.213722       NaN          2910.0   \n",
      "WSM                   NaN         0.565338       NaN          3960.0   \n",
      "ZAF                  51.3         3.304199  23.50609          6050.0   \n",
      "ZMB                  44.4         0.839167       NaN          1580.0   \n",
      "ZWE                  33.8         1.002734   7.20000          1280.0   \n",
      "\n",
      "             inequality inequality_2  log_gni_pc  \n",
      "country_code                                      \n",
      "ABW                 NaN          NaN   10.175421  \n",
      "AFG                 NaN          NaN    6.396930  \n",
      "AGO                 NaN          NaN    8.416267  \n",
      "ALB                 low          low    8.387085  \n",
      "AND                 NaN          NaN         NaN  \n",
      "...                 ...          ...         ...  \n",
      "VUT                high         high    7.975908  \n",
      "WSM                 NaN          NaN    8.283999  \n",
      "ZAF                high         high    8.707814  \n",
      "ZMB                high         high    7.365180  \n",
      "ZWE                high         high    7.154615  \n",
      "\n",
      "[202 rows x 11 columns]\n"
     ]
    }
   ],
   "source": [
    "# Solution:\n",
    "# function to get rid of duplicate observations:\n",
    "df.drop_duplicates(inplace=True)\n",
    "print(df)"
   ]
  },
  {
   "cell_type": "markdown",
   "metadata": {
    "id": "MUK4JzwrD7hZ"
   },
   "source": [
    "**2.4.** You may also encounter a different type of duplicates. Run the following code to create them:"
   ]
  },
  {
   "cell_type": "code",
   "execution_count": 126,
   "metadata": {
    "id": "BQg6zJTBDnNr"
   },
   "outputs": [
    {
     "data": {
      "text/html": [
       "<div>\n",
       "<style scoped>\n",
       "    .dataframe tbody tr th:only-of-type {\n",
       "        vertical-align: middle;\n",
       "    }\n",
       "\n",
       "    .dataframe tbody tr th {\n",
       "        vertical-align: top;\n",
       "    }\n",
       "\n",
       "    .dataframe thead th {\n",
       "        text-align: right;\n",
       "    }\n",
       "</style>\n",
       "<table border=\"1\" class=\"dataframe\">\n",
       "  <thead>\n",
       "    <tr style=\"text-align: right;\">\n",
       "      <th></th>\n",
       "      <th>country_name</th>\n",
       "      <th>population</th>\n",
       "      <th>continent</th>\n",
       "      <th>gni_total</th>\n",
       "      <th>top10_share</th>\n",
       "      <th>deaths_violence</th>\n",
       "      <th>trust</th>\n",
       "      <th>gni_per_capita</th>\n",
       "      <th>inequality</th>\n",
       "      <th>inequality_2</th>\n",
       "      <th>log_gni_pc</th>\n",
       "      <th>country_code</th>\n",
       "    </tr>\n",
       "  </thead>\n",
       "  <tbody>\n",
       "    <tr>\n",
       "      <th>405</th>\n",
       "      <td>Afghanistan</td>\n",
       "      <td>NaN</td>\n",
       "      <td>NaN</td>\n",
       "      <td>NaN</td>\n",
       "      <td>NaN</td>\n",
       "      <td>NaN</td>\n",
       "      <td>NaN</td>\n",
       "      <td>NaN</td>\n",
       "      <td>NaN</td>\n",
       "      <td>NaN</td>\n",
       "      <td>NaN</td>\n",
       "      <td>AFG</td>\n",
       "    </tr>\n",
       "    <tr>\n",
       "      <th>2</th>\n",
       "      <td>Afghanistan</td>\n",
       "      <td>34414000.0</td>\n",
       "      <td>Asia</td>\n",
       "      <td>20648400000.0</td>\n",
       "      <td>NaN</td>\n",
       "      <td>1.54667</td>\n",
       "      <td>NaN</td>\n",
       "      <td>600.0</td>\n",
       "      <td>NaN</td>\n",
       "      <td>NaN</td>\n",
       "      <td>6.39693</td>\n",
       "      <td>NaN</td>\n",
       "    </tr>\n",
       "    <tr>\n",
       "      <th>3</th>\n",
       "      <td>Afghanistan</td>\n",
       "      <td>34414000.0</td>\n",
       "      <td>Asia</td>\n",
       "      <td>20648400000.0</td>\n",
       "      <td>NaN</td>\n",
       "      <td>1.54667</td>\n",
       "      <td>NaN</td>\n",
       "      <td>600.0</td>\n",
       "      <td>NaN</td>\n",
       "      <td>NaN</td>\n",
       "      <td>6.39693</td>\n",
       "      <td>NaN</td>\n",
       "    </tr>\n",
       "    <tr>\n",
       "      <th>7</th>\n",
       "      <td>Albania</td>\n",
       "      <td>2891000.0</td>\n",
       "      <td>Europe</td>\n",
       "      <td>12691490000.0</td>\n",
       "      <td>22.9</td>\n",
       "      <td>0.316194</td>\n",
       "      <td>NaN</td>\n",
       "      <td>4390.0</td>\n",
       "      <td>low</td>\n",
       "      <td>low</td>\n",
       "      <td>8.387085</td>\n",
       "      <td>NaN</td>\n",
       "    </tr>\n",
       "    <tr>\n",
       "      <th>6</th>\n",
       "      <td>Albania</td>\n",
       "      <td>2891000.0</td>\n",
       "      <td>Europe</td>\n",
       "      <td>12691490000.0</td>\n",
       "      <td>22.9</td>\n",
       "      <td>0.316194</td>\n",
       "      <td>NaN</td>\n",
       "      <td>4390.0</td>\n",
       "      <td>low</td>\n",
       "      <td>low</td>\n",
       "      <td>8.387085</td>\n",
       "      <td>NaN</td>\n",
       "    </tr>\n",
       "    <tr>\n",
       "      <th>407</th>\n",
       "      <td>Albania</td>\n",
       "      <td>NaN</td>\n",
       "      <td>NaN</td>\n",
       "      <td>NaN</td>\n",
       "      <td>NaN</td>\n",
       "      <td>NaN</td>\n",
       "      <td>NaN</td>\n",
       "      <td>NaN</td>\n",
       "      <td>NaN</td>\n",
       "      <td>NaN</td>\n",
       "      <td>NaN</td>\n",
       "      <td>ALB</td>\n",
       "    </tr>\n",
       "  </tbody>\n",
       "</table>\n",
       "</div>"
      ],
      "text/plain": [
       "    country_name  population continent      gni_total top10_share  \\\n",
       "405  Afghanistan         NaN       NaN            NaN         NaN   \n",
       "2    Afghanistan  34414000.0      Asia  20648400000.0         NaN   \n",
       "3    Afghanistan  34414000.0      Asia  20648400000.0         NaN   \n",
       "7        Albania   2891000.0    Europe  12691490000.0        22.9   \n",
       "6        Albania   2891000.0    Europe  12691490000.0        22.9   \n",
       "407      Albania         NaN       NaN            NaN         NaN   \n",
       "\n",
       "    deaths_violence trust gni_per_capita inequality inequality_2 log_gni_pc  \\\n",
       "405             NaN   NaN            NaN        NaN          NaN        NaN   \n",
       "2           1.54667   NaN          600.0        NaN          NaN    6.39693   \n",
       "3           1.54667   NaN          600.0        NaN          NaN    6.39693   \n",
       "7          0.316194   NaN         4390.0        low          low   8.387085   \n",
       "6          0.316194   NaN         4390.0        low          low   8.387085   \n",
       "407             NaN   NaN            NaN        NaN          NaN        NaN   \n",
       "\n",
       "    country_code  \n",
       "405          AFG  \n",
       "2            NaN  \n",
       "3            NaN  \n",
       "7            NaN  \n",
       "6            NaN  \n",
       "407          ALB  "
      ]
     },
     "execution_count": 126,
     "metadata": {},
     "output_type": "execute_result"
    }
   ],
   "source": [
    "NA_df = df.copy().reset_index()\n",
    "NA_df.loc[:, \"population\":] = np.nan\n",
    "new_df = pd.concat([new_df, NA_df], ignore_index=True)\n",
    "new_df.sort_values(\"country_name\", inplace=True)\n",
    "new_df.head(6)"
   ]
  },
  {
   "cell_type": "markdown",
   "metadata": {
    "id": "ns9_c1ShEOj-"
   },
   "source": [
    "The repeated observations are only duplicates with respect to the country name (and NaN in all other variables). Can you find a way to delete them (making sure that the observations with the NaNs are deleted)?"
   ]
  },
  {
   "cell_type": "code",
   "execution_count": 160,
   "metadata": {
    "id": "AFBmEgWfEOEv"
   },
   "outputs": [
    {
     "data": {
      "text/html": [
       "<div>\n",
       "<style scoped>\n",
       "    .dataframe tbody tr th:only-of-type {\n",
       "        vertical-align: middle;\n",
       "    }\n",
       "\n",
       "    .dataframe tbody tr th {\n",
       "        vertical-align: top;\n",
       "    }\n",
       "\n",
       "    .dataframe thead th {\n",
       "        text-align: right;\n",
       "    }\n",
       "</style>\n",
       "<table border=\"1\" class=\"dataframe\">\n",
       "  <thead>\n",
       "    <tr style=\"text-align: right;\">\n",
       "      <th></th>\n",
       "      <th>country_name</th>\n",
       "      <th>population</th>\n",
       "      <th>continent</th>\n",
       "      <th>gni_total</th>\n",
       "      <th>top10_share</th>\n",
       "      <th>deaths_violence</th>\n",
       "      <th>trust</th>\n",
       "      <th>gni_per_capita</th>\n",
       "      <th>inequality</th>\n",
       "      <th>inequality_2</th>\n",
       "      <th>log_gni_pc</th>\n",
       "    </tr>\n",
       "  </thead>\n",
       "  <tbody>\n",
       "    <tr>\n",
       "      <th>0</th>\n",
       "      <td>Aruba</td>\n",
       "      <td>104000.0</td>\n",
       "      <td>North America</td>\n",
       "      <td>2730000000.0</td>\n",
       "      <td>NaN</td>\n",
       "      <td>NaN</td>\n",
       "      <td>NaN</td>\n",
       "      <td>26250.0</td>\n",
       "      <td>NaN</td>\n",
       "      <td>NaN</td>\n",
       "      <td>10.175421</td>\n",
       "    </tr>\n",
       "    <tr>\n",
       "      <th>2</th>\n",
       "      <td>Afghanistan</td>\n",
       "      <td>34414000.0</td>\n",
       "      <td>Asia</td>\n",
       "      <td>20648400000.0</td>\n",
       "      <td>NaN</td>\n",
       "      <td>1.54667</td>\n",
       "      <td>NaN</td>\n",
       "      <td>600.0</td>\n",
       "      <td>NaN</td>\n",
       "      <td>NaN</td>\n",
       "      <td>6.39693</td>\n",
       "    </tr>\n",
       "    <tr>\n",
       "      <th>4</th>\n",
       "      <td>Angola</td>\n",
       "      <td>27884000.0</td>\n",
       "      <td>Africa</td>\n",
       "      <td>126035680000.0</td>\n",
       "      <td>NaN</td>\n",
       "      <td>0.483067</td>\n",
       "      <td>NaN</td>\n",
       "      <td>4520.0</td>\n",
       "      <td>NaN</td>\n",
       "      <td>NaN</td>\n",
       "      <td>8.416267</td>\n",
       "    </tr>\n",
       "    <tr>\n",
       "      <th>6</th>\n",
       "      <td>Albania</td>\n",
       "      <td>2891000.0</td>\n",
       "      <td>Europe</td>\n",
       "      <td>12691490000.0</td>\n",
       "      <td>22.9</td>\n",
       "      <td>0.316194</td>\n",
       "      <td>NaN</td>\n",
       "      <td>4390.0</td>\n",
       "      <td>low</td>\n",
       "      <td>low</td>\n",
       "      <td>8.387085</td>\n",
       "    </tr>\n",
       "    <tr>\n",
       "      <th>8</th>\n",
       "      <td>Andorra</td>\n",
       "      <td>78000.0</td>\n",
       "      <td>Europe</td>\n",
       "      <td>NaN</td>\n",
       "      <td>NaN</td>\n",
       "      <td>0.100418</td>\n",
       "      <td>NaN</td>\n",
       "      <td>NaN</td>\n",
       "      <td>NaN</td>\n",
       "      <td>NaN</td>\n",
       "      <td>NaN</td>\n",
       "    </tr>\n",
       "    <tr>\n",
       "      <th>10</th>\n",
       "      <td>United Arab Emirates</td>\n",
       "      <td>9263000.0</td>\n",
       "      <td>Asia</td>\n",
       "      <td>397012180000.0</td>\n",
       "      <td>NaN</td>\n",
       "      <td>0.442631</td>\n",
       "      <td>NaN</td>\n",
       "      <td>42860.0</td>\n",
       "      <td>NaN</td>\n",
       "      <td>NaN</td>\n",
       "      <td>10.665694</td>\n",
       "    </tr>\n",
       "  </tbody>\n",
       "</table>\n",
       "</div>"
      ],
      "text/plain": [
       "            country_name  population      continent       gni_total  \\\n",
       "0                  Aruba    104000.0  North America    2730000000.0   \n",
       "2            Afghanistan  34414000.0           Asia   20648400000.0   \n",
       "4                 Angola  27884000.0         Africa  126035680000.0   \n",
       "6                Albania   2891000.0         Europe   12691490000.0   \n",
       "8                Andorra     78000.0         Europe             NaN   \n",
       "10  United Arab Emirates   9263000.0           Asia  397012180000.0   \n",
       "\n",
       "   top10_share deaths_violence trust gni_per_capita inequality inequality_2  \\\n",
       "0          NaN             NaN   NaN        26250.0        NaN          NaN   \n",
       "2          NaN         1.54667   NaN          600.0        NaN          NaN   \n",
       "4          NaN        0.483067   NaN         4520.0        NaN          NaN   \n",
       "6         22.9        0.316194   NaN         4390.0        low          low   \n",
       "8          NaN        0.100418   NaN            NaN        NaN          NaN   \n",
       "10         NaN        0.442631   NaN        42860.0        NaN          NaN   \n",
       "\n",
       "   log_gni_pc  \n",
       "0   10.175421  \n",
       "2     6.39693  \n",
       "4    8.416267  \n",
       "6    8.387085  \n",
       "8         NaN  \n",
       "10  10.665694  "
      ]
     },
     "execution_count": 160,
     "metadata": {},
     "output_type": "execute_result"
    }
   ],
   "source": [
    "# Solution:\n",
    "new_df.drop_duplicates(subset=\"country_name\", keep=\"first\", inplace=True)\n",
    "new_df.head(6)"
   ]
  }
 ],
 "metadata": {
  "colab": {
   "provenance": [
    {
     "file_id": "1J5sCNUxmBh0t7MH3cVHColt9WFjca3ze",
     "timestamp": 1614455032952
    }
   ]
  },
  "kernelspec": {
   "display_name": "Python 3",
   "name": "python3"
  },
  "language_info": {
   "codemirror_mode": {
    "name": "ipython",
    "version": 3
   },
   "file_extension": ".py",
   "mimetype": "text/x-python",
   "name": "python",
   "nbconvert_exporter": "python",
   "pygments_lexer": "ipython3",
   "version": "3.10.6"
  }
 },
 "nbformat": 4,
 "nbformat_minor": 0
}
