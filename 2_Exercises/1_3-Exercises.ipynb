{
 "cells": [
  {
   "cell_type": "markdown",
   "metadata": {
    "id": "U3zPuM3zuwFT"
   },
   "source": [
    "*Part 1: Introduction to Python Syntax and Semantics III*\n",
    "### Python Basics: Functions and Methods###\n",
    "#Exercises#"
   ]
  },
  {
   "cell_type": "markdown",
   "metadata": {
    "id": "ihjiiXFWCoOL"
   },
   "source": [
    "\n",
    "\n",
    "---\n",
    "\n",
    "\n",
    "<font color='violet'>\n",
    "Hints are written in white, so you do not see them immediately. If you highlight them (or double-click on them), they will appear!\n",
    "<font color='white'> I am a hint! :-)\n",
    "\n",
    "\n",
    "---\n"
   ]
  },
  {
   "cell_type": "markdown",
   "metadata": {
    "id": "U2hSLoyOBc1C"
   },
   "source": [
    "## 1. Basic exercises"
   ]
  },
  {
   "cell_type": "markdown",
   "metadata": {
    "id": "fTXm4BjVXSwH"
   },
   "source": [
    "### Using functions and methods"
   ]
  },
  {
   "cell_type": "markdown",
   "metadata": {
    "id": "OZR3pDKaXAes"
   },
   "source": [
    "**1.1.** Print (a) the largest value and (b) the sum of the list elements in the list ``[1,2,4,11,5,7,4,7,9,10]`` using appropriate built-in functions.\n",
    "\n",
    "><font color='violet'> Hint: <font color='white'>  If you Google for \"built-in functions Python\" you should find a list of functions."
   ]
  },
  {
   "cell_type": "code",
   "execution_count": null,
   "metadata": {
    "id": "vcktYCDrW_w9"
   },
   "outputs": [],
   "source": [
    "# Solution:\n",
    "L = [1,2,4,11,5,7,4,7,9,10]\n",
    "\n",
    "# a\n",
    "print(max(L))\n",
    "\n",
    "# b\n",
    "print(sum(L))\n"
   ]
  },
  {
   "cell_type": "markdown",
   "metadata": {
    "id": "ruSQ0200v_D7"
   },
   "source": [
    "**1.2.** Look up the methods that are available for strings. Find and apply a method that allows you to convert the string \"We all drink coffee in the morning\" to the list ``['We', 'all', 'drink', 'coffee', 'in', 'the', 'morning']``?"
   ]
  },
  {
   "cell_type": "code",
   "execution_count": null,
   "metadata": {
    "id": "KK_LUfn3wAIa"
   },
   "outputs": [],
   "source": [
    "# Solution:\n",
    "#help(str)\n",
    "\n",
    "print(\"We all drink coffe in the morning\".split(sep=\" \"))"
   ]
  },
  {
   "cell_type": "markdown",
   "metadata": {
    "id": "qT67vD23xECs"
   },
   "source": [
    "Now try to convert the string \"We-all-drink-coffee-in-the-morning\" (a) to a list of words as above and (b) to the original string using appropriate methods."
   ]
  },
  {
   "cell_type": "code",
   "execution_count": null,
   "metadata": {
    "id": "Ik1UZaWgw8f-"
   },
   "outputs": [],
   "source": [
    "# Solution:\n",
    "my_str = \"We-all-drink-coffee-in-the-morning\"\n",
    "# a\n",
    "L = my_str.split(sep=\"-\")\n",
    "print(L)\n",
    "\n",
    "# b\n",
    "orig = \"-\".join(L)\n",
    "print(orig)"
   ]
  },
  {
   "cell_type": "markdown",
   "metadata": {
    "id": "YgN0PYxxzo3W"
   },
   "source": [
    "### Writing functions"
   ]
  },
  {
   "cell_type": "markdown",
   "metadata": {
    "id": "CmVJCINSzueO"
   },
   "source": [
    "**1.3.** Write a function called ``my_func`` that takes no arguments and prints \"Hello, I am a function!\" when you call it."
   ]
  },
  {
   "cell_type": "code",
   "execution_count": null,
   "metadata": {
    "id": "JroPwYyL14hr"
   },
   "outputs": [],
   "source": [
    "# Solution:\n",
    "def my_func():\n",
    "    print(\"Hello, I am a function!\")\n",
    "my_func()"
   ]
  },
  {
   "cell_type": "markdown",
   "metadata": {
    "id": "sZbJbthN2RH-"
   },
   "source": [
    "**1.4.** Write a function called ``present_me`` that takes a name and a place as arguments and prints a presentation of that person when it is called. If you enter \"Peter\" and \"Bern\" as arguments, it should print something like \"Hello, my name is Peter and I am from Bern.\")"
   ]
  },
  {
   "cell_type": "code",
   "execution_count": null,
   "metadata": {
    "id": "JADzZNNV2PQH"
   },
   "outputs": [],
   "source": [
    "# Solution:\n",
    "def present_me(name, place):\n",
    "    print(f\"Hello, my name is {name} and I am from {place}.\")\n",
    "present_me(\"Peter\", \"Bern\")"
   ]
  },
  {
   "cell_type": "markdown",
   "metadata": {
    "id": "z8jm8o514SPM"
   },
   "source": [
    "Adapt your function so that you can optionally specify a different greeting than \"Hello\"."
   ]
  },
  {
   "cell_type": "code",
   "execution_count": null,
   "metadata": {
    "id": "t_aG81jg4c5s"
   },
   "outputs": [],
   "source": [
    "# Solution:\n",
    "def present_me(name, place, greeting = \"Hello\"):\n",
    "    print(f\"{greeting}, my name is {name} and I am from {place}.\")\n",
    "present_me(\"Peter\", \"Bern\", greeting = \"Howdy\")"
   ]
  },
  {
   "cell_type": "markdown",
   "metadata": {
    "id": "5EMNC3Xo4qaD"
   },
   "source": [
    "Assume you want to assign the greeting you produced with your function to a variable instead of only printing it. How do you have to adapt your function to make this possible?"
   ]
  },
  {
   "cell_type": "code",
   "execution_count": null,
   "metadata": {
    "id": "XdCF-xT7Bdov"
   },
   "outputs": [],
   "source": [
    "# Solution:\n",
    "def present_me(name, place, greeting = \"Hello\"):\n",
    "    return f\"{greeting}, my name is {name} and I am from {place}.\""
   ]
  },
  {
   "cell_type": "markdown",
   "metadata": {
    "id": "5BQwigcVBnNl"
   },
   "source": [
    "**1.5.** Write a function called ``my_logit`` that implements the logistic function: $f(x) =  \\frac{e^x}{e^x + 1}$\n",
    "\n",
    "><font color='violet'> Hint: <font color='white'>  $e$ is equal to $2.71828$."
   ]
  },
  {
   "cell_type": "code",
   "execution_count": null,
   "metadata": {
    "id": "B6_bKHIDBmvC"
   },
   "outputs": [],
   "source": [
    "# Solution:\n",
    "from math import e\n",
    "def my_logit(x):\n",
    "    return pow(e, x) / (pow(e, x) + 1)"
   ]
  },
  {
   "cell_type": "markdown",
   "metadata": {
    "id": "MPyAfFjPHW4z"
   },
   "source": [
    "Now try to do the same using a lambda function:"
   ]
  },
  {
   "cell_type": "code",
   "execution_count": null,
   "metadata": {
    "id": "a4mGr0WNHWBN"
   },
   "outputs": [],
   "source": [
    "# Solution:\n",
    "from math import e\n",
    "my_logit = lambda x: e**x / (e**x + 1)"
   ]
  },
  {
   "cell_type": "markdown",
   "metadata": {
    "id": "O1wtZJqDfuCg"
   },
   "source": [
    "**1.6** Write a lambda function that adds the squares of three values and assign it to the variable ``add_squares``. Check if it works."
   ]
  },
  {
   "cell_type": "code",
   "execution_count": null,
   "metadata": {
    "id": "fTnKpcKOgFES"
   },
   "outputs": [],
   "source": [
    "# Solution:\n",
    "add_squares = lambda x, y, z: x**2 + y**2 + z**2\n",
    "print(add_squares(1, 2, 3))"
   ]
  },
  {
   "cell_type": "markdown",
   "metadata": {
    "id": "I5fGuENsxWXa"
   },
   "source": [
    "## 2. Advanced exercises"
   ]
  },
  {
   "cell_type": "markdown",
   "metadata": {
    "id": "c4OFkx5JFUrJ"
   },
   "source": [
    "### Writing advanced functions"
   ]
  },
  {
   "cell_type": "markdown",
   "metadata": {
    "id": "bB8HFVrQ5KSq"
   },
   "source": [
    "**2.1.** Consider the ``present_me()`` function you defined in exercise 1.4. Try to to add a further optional parameter allowing you to return the presentation in uppercase (i.e. HELLO, MY NAMES IS...\") if requested."
   ]
  },
  {
   "cell_type": "code",
   "execution_count": null,
   "metadata": {
    "id": "UiJeWzG25Jwp"
   },
   "outputs": [],
   "source": [
    "# Solution:\n",
    "def present_me(name, place, greeting = \"Hello\", upper = False):\n",
    "    presentation = f\"{greeting}, my name is {name} and I am from {place}.\"\n",
    "    return presentation.upper() if upper else presentation\n",
    "print(present_me(\"Bob\", \"Bern\"))\n",
    "print(present_me(\"Bob\", \"Bern\", upper=True))"
   ]
  },
  {
   "cell_type": "markdown",
   "metadata": {
    "id": "0UmRifXbI5Nb"
   },
   "source": [
    "**2.2.** Consider the list ``[2, 1, 3, 5, 3, 7]``. Can you create a new list with the squares of the elements using a lambda function and the ``map()`` function?"
   ]
  },
  {
   "cell_type": "code",
   "execution_count": null,
   "metadata": {
    "id": "eYMNv_UHgo22"
   },
   "outputs": [],
   "source": [
    "# Solution:\n",
    "L = [2, 1, 3, 5, 3, 7]\n",
    "L2 = list(map(lambda x: x**2, L))\n",
    "print(L2)"
   ]
  },
  {
   "cell_type": "markdown",
   "metadata": {
    "id": "NW7srlkLj6vP"
   },
   "source": [
    "Do the same to add the elements of the following two lists:\n",
    "><font color='violet'> Hint: <font color='white'>  It is possible to provide multiple lists to ``map()``. If you provide two lists, then your lambda function should have two parameters."
   ]
  },
  {
   "cell_type": "code",
   "execution_count": null,
   "metadata": {
    "id": "lfFpCc_qkHLW"
   },
   "outputs": [],
   "source": [
    "L1 = [2, 1, 3, 5, 3, 8]\n",
    "L2 = [2, 0, 3, 5, 3, 7]\n",
    "\n",
    "# Solution:\n",
    "L3 = list(map(lambda *x: sum(x), L1, L2))\n",
    "\n",
    "print(L3)"
   ]
  },
  {
   "cell_type": "markdown",
   "metadata": {
    "id": "Wq-xYduUj_j5"
   },
   "source": [
    "Repetition: Do you remember how to do these two operations using list comprehensions?"
   ]
  },
  {
   "cell_type": "code",
   "execution_count": null,
   "metadata": {
    "id": "g7xaH5Nsk4aX"
   },
   "outputs": [],
   "source": [
    "# Solution:\n",
    "# 1\n",
    "L = [2, 1, 3, 5, 3, 7]\n",
    "L2 = [i**2 for i in L]\n",
    "print(L2)\n",
    "\n"
   ]
  },
  {
   "cell_type": "code",
   "execution_count": null,
   "metadata": {
    "id": "GsfXXoVD5pt5"
   },
   "outputs": [],
   "source": [
    "# Solution:\n",
    "# 2\n",
    "L1 = [2, 1, 3, 5, 3, 8]\n",
    "L2 = [2, 0, 3, 5, 3, 7]\n",
    "\n",
    "L3 = [i + j for i, j in zip(L1, L2)]\n",
    "print(L3)"
   ]
  },
  {
   "cell_type": "markdown",
   "metadata": {
    "id": "YyyiKe_B-2-n"
   },
   "source": [
    "**2.3.** Write a function called ``my_mean`` that computes the mean of the numbers you enter as arguments. For example, ``my_mean(1, 3, 2)`` should return ``2``. The function should allow an arbitrary number of arguments."
   ]
  },
  {
   "cell_type": "code",
   "execution_count": null,
   "metadata": {
    "id": "WVZb4XHiC1BZ"
   },
   "outputs": [],
   "source": [
    "# Solution:\n",
    "def my_mean(*x):\n",
    "    return sum(x) / len(x)\n",
    "my_mean(1, 3, 2)\n",
    "my_mean(1, 2, 3, 4, 5, 6, 7, 8, 9, 10)"
   ]
  },
  {
   "cell_type": "markdown",
   "metadata": {
    "id": "goZxTnmH-KH_"
   },
   "source": [
    "Now write a function called  ``my_std`` that computes the standard deviation for the set of numbers it receives as arguments."
   ]
  },
  {
   "cell_type": "code",
   "execution_count": null,
   "metadata": {
    "id": "gzQy7tBn-2e2"
   },
   "outputs": [],
   "source": [
    "# Solution:\n",
    "def my_std(*x):\n",
    "    mean = my_mean(*x)\n",
    "    N = len(x)\n",
    "    return (sum((i - mean)**2 for i in x) / (N-1))**0.5\n",
    "my_std(1, 2, 3, 4, 5, 6, 7, 8, 9, 10)"
   ]
  },
  {
   "cell_type": "markdown",
   "metadata": {
    "id": "4jkxymGBDUTs"
   },
   "source": [
    "Write a final function called ``my_stats`` that returns both the mean and the standard deviation."
   ]
  },
  {
   "cell_type": "code",
   "execution_count": null,
   "metadata": {
    "id": "dkbVDOZg-kEH"
   },
   "outputs": [],
   "source": [
    "# Solution:\n",
    "def my_stats(*x):\n",
    "    return my_mean(*x), my_std(*x)\n",
    "my_stats(1, 2, 3, 4, 5, 6, 7, 8)\n"
   ]
  },
  {
   "cell_type": "markdown",
   "metadata": {
    "id": "bGXi1ap4mIIC"
   },
   "source": [
    "### Writing classes and methods (advanced)"
   ]
  },
  {
   "cell_type": "markdown",
   "metadata": {
    "id": "DNoYLq4FFG9z"
   },
   "source": [
    "**2.4** Consider the ``Cat`` class we defined in the tutorial session:"
   ]
  },
  {
   "cell_type": "code",
   "execution_count": null,
   "metadata": {
    "id": "ooUzi7HZF0bm"
   },
   "outputs": [],
   "source": [
    "class Cat:\n",
    "  # define attributes\n",
    "  species = \"cat\"\n",
    "  def __init__(self, name, age):\n",
    "    self.name = name\n",
    "    self.age = age\n",
    "\n",
    "  # define a method\n",
    "  def present(self):\n",
    "    print(f\"The name of this cat is {self.name} and it is {self.age} years old!\")"
   ]
  },
  {
   "cell_type": "markdown",
   "metadata": {
    "id": "oE1HzFijF1GM"
   },
   "source": [
    "Add a further method called ``greet`` that allows to greet the cat. It should print something like \"Good morning, Sarah!\" when it is called on an instance of the Cat class with the name \"Sarah\":"
   ]
  },
  {
   "cell_type": "markdown",
   "metadata": {
    "id": "OkJUA7ANpYHX"
   },
   "source": [
    "><font color='violet'> Hint: <font color='white'> The self parameter always refers to the object itself. Suppose we have an instance of the ``Cat`` class called ``cat1``. ``self`` will then be replaced with ``cat1``, ``self.name`` with ``cat1.name`` etc.\n"
   ]
  },
  {
   "cell_type": "code",
   "execution_count": null,
   "metadata": {
    "id": "r9mKEXpgnWrS"
   },
   "outputs": [],
   "source": [
    "# Solution:\n",
    "class Cat:\n",
    "  # define attributes\n",
    "  species = \"cat\"\n",
    "  def __init__(self, name, age):\n",
    "    self.name = name\n",
    "    self.age = age\n",
    "\n",
    "  # define a method\n",
    "  def present(self):\n",
    "    print(f\"The name of this cat is {self.name} and it is {self.age} years old!\")\n",
    "\n",
    "  def greet(self):\n",
    "    print(f\"Good morning, {self.name}!\")"
   ]
  },
  {
   "cell_type": "markdown",
   "metadata": {
    "id": "kj8tHivTnDaW"
   },
   "source": [
    "Now add the method ``birthday``. It should print a birthday greeting and update the age of the cat."
   ]
  },
  {
   "cell_type": "code",
   "execution_count": null,
   "metadata": {
    "id": "yhBdoFPRoAi2"
   },
   "outputs": [],
   "source": [
    "# Solution:\n",
    "class Cat:\n",
    "  # define attributes\n",
    "  species = \"cat\"\n",
    "  def __init__(self, name, age):\n",
    "    self.name = name\n",
    "    self.age = age\n",
    "\n",
    "  # define a method\n",
    "  def present(self):\n",
    "    print(f\"The name of this cat is {self.name} and it is {self.age} years old!\")\n",
    "\n",
    "  def greet(self):\n",
    "    print(f\"Good morning, {self.name}!\")\n",
    "  \n",
    "  def birthday(self):\n",
    "    print(f\"Happy birthday, {self.name}!\")\n",
    "    self.age += 1"
   ]
  },
  {
   "cell_type": "markdown",
   "metadata": {
    "id": "RLvbNJ7az2u0"
   },
   "source": [
    "**2.5** Create a class ``MyList`` that inherits from the built-in ``list`` class and has two additional methods:\n",
    "\n",
    "1.  A method ``.upper()`` that converts all string elemets in the list to upper case (and returns the new list). For example, if ``my_list = MyList([\"hey\", \"you\", 5])``, ``my_list.upper()`` should return ``[\"HEY\", \"YOU\", 5]``.\n",
    "2.  A method ``.multiply_by()`` that performs element-wise multiplication by a number you provide as an argument (and returns the new list). For example, if ``my_list2 = MyList([1, 2, \"h\"])``,  ``my_list2.multiply_by(2)`` should return ``[2, 4, \"hh\"]``."
   ]
  },
  {
   "cell_type": "code",
   "execution_count": null,
   "metadata": {
    "id": "gueG0L060woa"
   },
   "outputs": [],
   "source": [
    "# Solution:\n",
    "class MyList(list):\n",
    "    def __init__(self, L):\n",
    "        self.L = L\n",
    "    def upper(self):\n",
    "        return [i.upper() if isinstance(i, str) else i for i in self.L]\n",
    "    def multiply_by(self, n):\n",
    "        return [i * n for i in self.L]\n",
    "\n",
    "my_list = MyList([\"hey\", \"you\", 5])\n",
    "print(my_list.upper())\n",
    "\n",
    "my_list2 = MyList([1, 2, \"h\"])\n",
    "print(my_list2.multiply_by(2))"
   ]
  }
 ],
 "metadata": {
  "colab": {
   "provenance": [
    {
     "file_id": "1J5sCNUxmBh0t7MH3cVHColt9WFjca3ze",
     "timestamp": 1614455032952
    }
   ],
   "toc_visible": true
  },
  "kernelspec": {
   "display_name": "Python 3",
   "name": "python3"
  },
  "language_info": {
   "codemirror_mode": {
    "name": "ipython",
    "version": 3
   },
   "file_extension": ".py",
   "mimetype": "text/x-python",
   "name": "python",
   "nbconvert_exporter": "python",
   "pygments_lexer": "ipython3",
   "version": "3.11.4"
  }
 },
 "nbformat": 4,
 "nbformat_minor": 0
}
