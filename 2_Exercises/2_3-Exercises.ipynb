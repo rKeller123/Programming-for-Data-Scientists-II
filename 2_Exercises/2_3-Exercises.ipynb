{
 "cells": [
  {
   "cell_type": "markdown",
   "metadata": {
    "id": "U3zPuM3zuwFT"
   },
   "source": [
    "*Part 2: Python for Data Analysis III*\n",
    "### Data Wrangling with Pandas\n",
    "#Exercises#"
   ]
  },
  {
   "cell_type": "markdown",
   "metadata": {
    "id": "ihjiiXFWCoOL"
   },
   "source": [
    "\n",
    "\n",
    "---\n",
    "\n",
    "\n",
    "<font color='violet'>\n",
    "Hints are written in white, so you do not see them immediately. If you highlight them (or double-click on them), they will appear! \n",
    "<font color='white'> I am a hint! :-)\n",
    "\n",
    "\n",
    "---\n"
   ]
  },
  {
   "cell_type": "markdown",
   "metadata": {
    "id": "2jEYfGXQzQgf"
   },
   "source": [
    "For this exercise, we will use the following datasets: \n",
    "* ``homicide.csv`` (homicide and other data for all countries)\n",
    "* ``real-gdp-per-capita.csv`` (country level gdp data from 1950-2017)\n",
    "* ``life_satsifaction_clean.csv`` (homicide and other data for all countries)\n",
    "\n",
    "You can find them here: https://drive.google.com/drive/folders/1QnHTDQ0tb8_Ex6dMgNCwqJuL3PxzEKIv \n",
    "\n",
    "Copy them to your drive or to a folder on your computer. Import ``pandas``, ``numpy`` and ``os`` and change your directory to the folder where you placed your data. If you work with Google Drive, mount your drive!"
   ]
  },
  {
   "cell_type": "code",
   "execution_count": 59,
   "metadata": {
    "id": "IbXoABs4TdZj"
   },
   "outputs": [],
   "source": [
    "import pandas as pd\n",
    "import numpy as np\n",
    "import os"
   ]
  },
  {
   "cell_type": "code",
   "execution_count": null,
   "metadata": {
    "colab": {
     "base_uri": "https://localhost:8080/"
    },
    "id": "qtxaL17GxF0N",
    "outputId": "74c8a71a-e199-4a4d-a49c-8b7bb1f1de51"
   },
   "outputs": [],
   "source": []
  },
  {
   "cell_type": "code",
   "execution_count": 60,
   "metadata": {
    "id": "qEpIuiUoyFat"
   },
   "outputs": [],
   "source": [
    "os.chdir(\"../4_Data\")"
   ]
  },
  {
   "cell_type": "markdown",
   "metadata": {
    "id": "oDZCFV5Bh_yh"
   },
   "source": [
    "If you do not manage to mount your drive, you can also read the data using `pd.read_csv()` from the following URLs:\n",
    "\n",
    "* `\"http://farys.org/daten/homicide.csv\"`\n",
    "* `\"http://farys.org/daten/real-gdp-per-capita.csv\"`\n",
    "* `\"http://farys.org/daten/life_satisfaction_clean.csv\"`"
   ]
  },
  {
   "cell_type": "markdown",
   "metadata": {
    "id": "fTXm4BjVXSwH"
   },
   "source": [
    "## Exercise 1"
   ]
  },
  {
   "cell_type": "markdown",
   "metadata": {
    "id": "hkPFcdmLWCZQ"
   },
   "source": [
    "Consider the following two datasets:"
   ]
  },
  {
   "cell_type": "code",
   "execution_count": 61,
   "metadata": {
    "colab": {
     "base_uri": "https://localhost:8080/",
     "height": 143
    },
    "id": "P3bRpU3QS696",
    "outputId": "dc0b3fb8-39e8-4d48-8dce-5acbbcde6f90"
   },
   "outputs": [
    {
     "data": {
      "text/html": [
       "<div>\n",
       "<style scoped>\n",
       "    .dataframe tbody tr th:only-of-type {\n",
       "        vertical-align: middle;\n",
       "    }\n",
       "\n",
       "    .dataframe tbody tr th {\n",
       "        vertical-align: top;\n",
       "    }\n",
       "\n",
       "    .dataframe thead th {\n",
       "        text-align: right;\n",
       "    }\n",
       "</style>\n",
       "<table border=\"1\" class=\"dataframe\">\n",
       "  <thead>\n",
       "    <tr style=\"text-align: right;\">\n",
       "      <th></th>\n",
       "      <th>income</th>\n",
       "      <th>sex</th>\n",
       "    </tr>\n",
       "  </thead>\n",
       "  <tbody>\n",
       "    <tr>\n",
       "      <th>Max</th>\n",
       "      <td>4300</td>\n",
       "      <td>m</td>\n",
       "    </tr>\n",
       "    <tr>\n",
       "      <th>Peter</th>\n",
       "      <td>8600</td>\n",
       "      <td>m</td>\n",
       "    </tr>\n",
       "    <tr>\n",
       "      <th>Mary</th>\n",
       "      <td>5200</td>\n",
       "      <td>f</td>\n",
       "    </tr>\n",
       "  </tbody>\n",
       "</table>\n",
       "</div>"
      ],
      "text/plain": [
       "       income sex\n",
       "Max      4300   m\n",
       "Peter    8600   m\n",
       "Mary     5200   f"
      ]
     },
     "execution_count": 61,
     "metadata": {},
     "output_type": "execute_result"
    }
   ],
   "source": [
    "income1 = pd.DataFrame({\"income\": [4300, 8600, 5200], \n",
    "                        \"sex\": [\"m\", \"m\", \"f\"]},\n",
    "                       index=[\"Max\", \"Peter\", \"Mary\" ])\n",
    "income1"
   ]
  },
  {
   "cell_type": "code",
   "execution_count": 62,
   "metadata": {
    "colab": {
     "base_uri": "https://localhost:8080/",
     "height": 112
    },
    "id": "Wes_P7SVUNqo",
    "outputId": "7bb15469-b87b-49fe-f0c5-59494a4e7802"
   },
   "outputs": [
    {
     "data": {
      "text/html": [
       "<div>\n",
       "<style scoped>\n",
       "    .dataframe tbody tr th:only-of-type {\n",
       "        vertical-align: middle;\n",
       "    }\n",
       "\n",
       "    .dataframe tbody tr th {\n",
       "        vertical-align: top;\n",
       "    }\n",
       "\n",
       "    .dataframe thead th {\n",
       "        text-align: right;\n",
       "    }\n",
       "</style>\n",
       "<table border=\"1\" class=\"dataframe\">\n",
       "  <thead>\n",
       "    <tr style=\"text-align: right;\">\n",
       "      <th></th>\n",
       "      <th>income</th>\n",
       "      <th>sex</th>\n",
       "    </tr>\n",
       "  </thead>\n",
       "  <tbody>\n",
       "    <tr>\n",
       "      <th>Annina</th>\n",
       "      <td>2300</td>\n",
       "      <td>f</td>\n",
       "    </tr>\n",
       "    <tr>\n",
       "      <th>Petra</th>\n",
       "      <td>9600</td>\n",
       "      <td>f</td>\n",
       "    </tr>\n",
       "  </tbody>\n",
       "</table>\n",
       "</div>"
      ],
      "text/plain": [
       "        income sex\n",
       "Annina    2300   f\n",
       "Petra     9600   f"
      ]
     },
     "execution_count": 62,
     "metadata": {},
     "output_type": "execute_result"
    }
   ],
   "source": [
    "income2 = pd.DataFrame({\"income\": [2300, 9600], \"sex\": [\"f\", \"f\"]},\n",
    "                       index=[\"Annina\", \"Petra\"])\n",
    "income2"
   ]
  },
  {
   "cell_type": "markdown",
   "metadata": {
    "id": "wLAaQAXMX4Cp"
   },
   "source": [
    "Can you combine them into one dataset called ``income`` using the ``concat`` function? "
   ]
  },
  {
   "cell_type": "code",
   "execution_count": 63,
   "metadata": {
    "id": "FKfAwoaQX22x"
   },
   "outputs": [
    {
     "data": {
      "text/html": [
       "<div>\n",
       "<style scoped>\n",
       "    .dataframe tbody tr th:only-of-type {\n",
       "        vertical-align: middle;\n",
       "    }\n",
       "\n",
       "    .dataframe tbody tr th {\n",
       "        vertical-align: top;\n",
       "    }\n",
       "\n",
       "    .dataframe thead th {\n",
       "        text-align: right;\n",
       "    }\n",
       "</style>\n",
       "<table border=\"1\" class=\"dataframe\">\n",
       "  <thead>\n",
       "    <tr style=\"text-align: right;\">\n",
       "      <th></th>\n",
       "      <th>income</th>\n",
       "      <th>sex</th>\n",
       "    </tr>\n",
       "  </thead>\n",
       "  <tbody>\n",
       "    <tr>\n",
       "      <th>Max</th>\n",
       "      <td>4300</td>\n",
       "      <td>m</td>\n",
       "    </tr>\n",
       "    <tr>\n",
       "      <th>Peter</th>\n",
       "      <td>8600</td>\n",
       "      <td>m</td>\n",
       "    </tr>\n",
       "    <tr>\n",
       "      <th>Mary</th>\n",
       "      <td>5200</td>\n",
       "      <td>f</td>\n",
       "    </tr>\n",
       "    <tr>\n",
       "      <th>Annina</th>\n",
       "      <td>2300</td>\n",
       "      <td>f</td>\n",
       "    </tr>\n",
       "    <tr>\n",
       "      <th>Petra</th>\n",
       "      <td>9600</td>\n",
       "      <td>f</td>\n",
       "    </tr>\n",
       "  </tbody>\n",
       "</table>\n",
       "</div>"
      ],
      "text/plain": [
       "        income sex\n",
       "Max       4300   m\n",
       "Peter     8600   m\n",
       "Mary      5200   f\n",
       "Annina    2300   f\n",
       "Petra     9600   f"
      ]
     },
     "execution_count": 63,
     "metadata": {},
     "output_type": "execute_result"
    }
   ],
   "source": [
    "income = pd.concat([income1, income2])\n",
    "income"
   ]
  },
  {
   "cell_type": "markdown",
   "metadata": {
    "id": "xdmwg4rXYCLa"
   },
   "source": [
    "You also have information on people's age:"
   ]
  },
  {
   "cell_type": "code",
   "execution_count": 64,
   "metadata": {
    "id": "jngefkcdXz5B"
   },
   "outputs": [],
   "source": [
    "age = pd.DataFrame({\"age\": [23, 34, 61, 19, 56]},\n",
    "                    index=[\"Max\", \"Peter\", \"Mary\", \"Annina\", \"Petra\"])"
   ]
  },
  {
   "cell_type": "markdown",
   "metadata": {
    "id": "bKhD0H4CYS1X"
   },
   "source": [
    " Can you add it to your ``income`` data using ``concat``? And can you do the same using ``merge``? Which is usually preferable?\n"
   ]
  },
  {
   "cell_type": "code",
   "execution_count": 65,
   "metadata": {
    "id": "Ov20gv7QYORQ"
   },
   "outputs": [
    {
     "data": {
      "text/html": [
       "<div>\n",
       "<style scoped>\n",
       "    .dataframe tbody tr th:only-of-type {\n",
       "        vertical-align: middle;\n",
       "    }\n",
       "\n",
       "    .dataframe tbody tr th {\n",
       "        vertical-align: top;\n",
       "    }\n",
       "\n",
       "    .dataframe thead th {\n",
       "        text-align: right;\n",
       "    }\n",
       "</style>\n",
       "<table border=\"1\" class=\"dataframe\">\n",
       "  <thead>\n",
       "    <tr style=\"text-align: right;\">\n",
       "      <th></th>\n",
       "      <th>income</th>\n",
       "      <th>sex</th>\n",
       "      <th>age</th>\n",
       "    </tr>\n",
       "  </thead>\n",
       "  <tbody>\n",
       "    <tr>\n",
       "      <th>Max</th>\n",
       "      <td>4300</td>\n",
       "      <td>m</td>\n",
       "      <td>23</td>\n",
       "    </tr>\n",
       "    <tr>\n",
       "      <th>Peter</th>\n",
       "      <td>8600</td>\n",
       "      <td>m</td>\n",
       "      <td>34</td>\n",
       "    </tr>\n",
       "    <tr>\n",
       "      <th>Mary</th>\n",
       "      <td>5200</td>\n",
       "      <td>f</td>\n",
       "      <td>61</td>\n",
       "    </tr>\n",
       "    <tr>\n",
       "      <th>Annina</th>\n",
       "      <td>2300</td>\n",
       "      <td>f</td>\n",
       "      <td>19</td>\n",
       "    </tr>\n",
       "    <tr>\n",
       "      <th>Petra</th>\n",
       "      <td>9600</td>\n",
       "      <td>f</td>\n",
       "      <td>56</td>\n",
       "    </tr>\n",
       "  </tbody>\n",
       "</table>\n",
       "</div>"
      ],
      "text/plain": [
       "        income sex  age\n",
       "Max       4300   m   23\n",
       "Peter     8600   m   34\n",
       "Mary      5200   f   61\n",
       "Annina    2300   f   19\n",
       "Petra     9600   f   56"
      ]
     },
     "execution_count": 65,
     "metadata": {},
     "output_type": "execute_result"
    }
   ],
   "source": [
    "pd.concat([income, age], axis=1)"
   ]
  },
  {
   "cell_type": "code",
   "execution_count": 66,
   "metadata": {
    "id": "_Kryq48DcvRg"
   },
   "outputs": [
    {
     "data": {
      "text/html": [
       "<div>\n",
       "<style scoped>\n",
       "    .dataframe tbody tr th:only-of-type {\n",
       "        vertical-align: middle;\n",
       "    }\n",
       "\n",
       "    .dataframe tbody tr th {\n",
       "        vertical-align: top;\n",
       "    }\n",
       "\n",
       "    .dataframe thead th {\n",
       "        text-align: right;\n",
       "    }\n",
       "</style>\n",
       "<table border=\"1\" class=\"dataframe\">\n",
       "  <thead>\n",
       "    <tr style=\"text-align: right;\">\n",
       "      <th></th>\n",
       "      <th>income</th>\n",
       "      <th>sex</th>\n",
       "      <th>age</th>\n",
       "    </tr>\n",
       "  </thead>\n",
       "  <tbody>\n",
       "    <tr>\n",
       "      <th>Max</th>\n",
       "      <td>4300</td>\n",
       "      <td>m</td>\n",
       "      <td>23</td>\n",
       "    </tr>\n",
       "    <tr>\n",
       "      <th>Peter</th>\n",
       "      <td>8600</td>\n",
       "      <td>m</td>\n",
       "      <td>34</td>\n",
       "    </tr>\n",
       "    <tr>\n",
       "      <th>Mary</th>\n",
       "      <td>5200</td>\n",
       "      <td>f</td>\n",
       "      <td>61</td>\n",
       "    </tr>\n",
       "    <tr>\n",
       "      <th>Annina</th>\n",
       "      <td>2300</td>\n",
       "      <td>f</td>\n",
       "      <td>19</td>\n",
       "    </tr>\n",
       "    <tr>\n",
       "      <th>Petra</th>\n",
       "      <td>9600</td>\n",
       "      <td>f</td>\n",
       "      <td>56</td>\n",
       "    </tr>\n",
       "  </tbody>\n",
       "</table>\n",
       "</div>"
      ],
      "text/plain": [
       "        income sex  age\n",
       "Max       4300   m   23\n",
       "Peter     8600   m   34\n",
       "Mary      5200   f   61\n",
       "Annina    2300   f   19\n",
       "Petra     9600   f   56"
      ]
     },
     "execution_count": 66,
     "metadata": {},
     "output_type": "execute_result"
    }
   ],
   "source": [
    "income.merge(age, left_index=True, right_index=True)"
   ]
  },
  {
   "cell_type": "markdown",
   "metadata": {},
   "source": [
    "The merge strategy is a better fit, since we can merge two DataFrames even if the order of the indeces is different. For the concat we would end up with a faulty DataFrame, since the indeces would not match."
   ]
  },
  {
   "cell_type": "markdown",
   "metadata": {
    "id": "hUnio4FldHkB"
   },
   "source": [
    "Now consider the following two datasets: "
   ]
  },
  {
   "cell_type": "code",
   "execution_count": 67,
   "metadata": {
    "colab": {
     "base_uri": "https://localhost:8080/",
     "height": 143
    },
    "id": "wYfZkFTmdVrO",
    "outputId": "f9cf9c03-4a8a-404e-945a-1c1870c3d418"
   },
   "outputs": [
    {
     "data": {
      "text/html": [
       "<div>\n",
       "<style scoped>\n",
       "    .dataframe tbody tr th:only-of-type {\n",
       "        vertical-align: middle;\n",
       "    }\n",
       "\n",
       "    .dataframe tbody tr th {\n",
       "        vertical-align: top;\n",
       "    }\n",
       "\n",
       "    .dataframe thead th {\n",
       "        text-align: right;\n",
       "    }\n",
       "</style>\n",
       "<table border=\"1\" class=\"dataframe\">\n",
       "  <thead>\n",
       "    <tr style=\"text-align: right;\">\n",
       "      <th></th>\n",
       "      <th>name</th>\n",
       "      <th>income</th>\n",
       "      <th>sex</th>\n",
       "    </tr>\n",
       "  </thead>\n",
       "  <tbody>\n",
       "    <tr>\n",
       "      <th>0</th>\n",
       "      <td>Max</td>\n",
       "      <td>4300</td>\n",
       "      <td>m</td>\n",
       "    </tr>\n",
       "    <tr>\n",
       "      <th>1</th>\n",
       "      <td>Peter</td>\n",
       "      <td>8600</td>\n",
       "      <td>m</td>\n",
       "    </tr>\n",
       "    <tr>\n",
       "      <th>2</th>\n",
       "      <td>Mary</td>\n",
       "      <td>5200</td>\n",
       "      <td>f</td>\n",
       "    </tr>\n",
       "  </tbody>\n",
       "</table>\n",
       "</div>"
      ],
      "text/plain": [
       "    name  income sex\n",
       "0    Max    4300   m\n",
       "1  Peter    8600   m\n",
       "2   Mary    5200   f"
      ]
     },
     "execution_count": 67,
     "metadata": {},
     "output_type": "execute_result"
    }
   ],
   "source": [
    "df1 = pd.DataFrame({\"name\":[\"Max\", \"Peter\", \"Mary\" ],\n",
    "                   \"income\": [4300, 8600, 5200],\n",
    "                    \"sex\": [\"m\", \"m\", \"f\"]})\n",
    "df1"
   ]
  },
  {
   "cell_type": "code",
   "execution_count": 68,
   "metadata": {
    "colab": {
     "base_uri": "https://localhost:8080/",
     "height": 174
    },
    "id": "26p41xuhdq3L",
    "outputId": "cbdd6679-cda7-45c0-875e-17a7ce5a2d02"
   },
   "outputs": [
    {
     "data": {
      "text/html": [
       "<div>\n",
       "<style scoped>\n",
       "    .dataframe tbody tr th:only-of-type {\n",
       "        vertical-align: middle;\n",
       "    }\n",
       "\n",
       "    .dataframe tbody tr th {\n",
       "        vertical-align: top;\n",
       "    }\n",
       "\n",
       "    .dataframe thead th {\n",
       "        text-align: right;\n",
       "    }\n",
       "</style>\n",
       "<table border=\"1\" class=\"dataframe\">\n",
       "  <thead>\n",
       "    <tr style=\"text-align: right;\">\n",
       "      <th></th>\n",
       "      <th>name</th>\n",
       "      <th>age</th>\n",
       "    </tr>\n",
       "  </thead>\n",
       "  <tbody>\n",
       "    <tr>\n",
       "      <th>0</th>\n",
       "      <td>Max</td>\n",
       "      <td>23</td>\n",
       "    </tr>\n",
       "    <tr>\n",
       "      <th>1</th>\n",
       "      <td>Peter</td>\n",
       "      <td>34</td>\n",
       "    </tr>\n",
       "    <tr>\n",
       "      <th>2</th>\n",
       "      <td>Annina</td>\n",
       "      <td>19</td>\n",
       "    </tr>\n",
       "    <tr>\n",
       "      <th>3</th>\n",
       "      <td>Petra</td>\n",
       "      <td>56</td>\n",
       "    </tr>\n",
       "  </tbody>\n",
       "</table>\n",
       "</div>"
      ],
      "text/plain": [
       "     name  age\n",
       "0     Max   23\n",
       "1   Peter   34\n",
       "2  Annina   19\n",
       "3   Petra   56"
      ]
     },
     "execution_count": 68,
     "metadata": {},
     "output_type": "execute_result"
    }
   ],
   "source": [
    "df2 = pd.DataFrame({\"name\": [\"Max\", \"Peter\", \"Annina\", \"Petra\"],\n",
    "                    \"age\": [23, 34, 19, 56]})\n",
    "df2"
   ]
  },
  {
   "cell_type": "markdown",
   "metadata": {
    "id": "mA9AH6aBe1qP"
   },
   "source": [
    "Perform (1) an ``inner``, (2) and ``outer`` and (3) a ``left`` merge and print the resulting dataframes. What observations are kept in each case?"
   ]
  },
  {
   "cell_type": "code",
   "execution_count": 69,
   "metadata": {
    "id": "ZebeBMOhe084"
   },
   "outputs": [
    {
     "data": {
      "text/html": [
       "<div>\n",
       "<style scoped>\n",
       "    .dataframe tbody tr th:only-of-type {\n",
       "        vertical-align: middle;\n",
       "    }\n",
       "\n",
       "    .dataframe tbody tr th {\n",
       "        vertical-align: top;\n",
       "    }\n",
       "\n",
       "    .dataframe thead th {\n",
       "        text-align: right;\n",
       "    }\n",
       "</style>\n",
       "<table border=\"1\" class=\"dataframe\">\n",
       "  <thead>\n",
       "    <tr style=\"text-align: right;\">\n",
       "      <th></th>\n",
       "      <th>name</th>\n",
       "      <th>income</th>\n",
       "      <th>sex</th>\n",
       "      <th>age</th>\n",
       "    </tr>\n",
       "  </thead>\n",
       "  <tbody>\n",
       "    <tr>\n",
       "      <th>0</th>\n",
       "      <td>Max</td>\n",
       "      <td>4300</td>\n",
       "      <td>m</td>\n",
       "      <td>23</td>\n",
       "    </tr>\n",
       "    <tr>\n",
       "      <th>1</th>\n",
       "      <td>Peter</td>\n",
       "      <td>8600</td>\n",
       "      <td>m</td>\n",
       "      <td>34</td>\n",
       "    </tr>\n",
       "  </tbody>\n",
       "</table>\n",
       "</div>"
      ],
      "text/plain": [
       "    name  income sex  age\n",
       "0    Max    4300   m   23\n",
       "1  Peter    8600   m   34"
      ]
     },
     "execution_count": 69,
     "metadata": {},
     "output_type": "execute_result"
    }
   ],
   "source": [
    "# Inner merge\n",
    "df1.merge(df2, how=\"inner\", on=\"name\")"
   ]
  },
  {
   "cell_type": "code",
   "execution_count": 70,
   "metadata": {
    "id": "1K0aFLIcfaH1"
   },
   "outputs": [
    {
     "data": {
      "text/html": [
       "<div>\n",
       "<style scoped>\n",
       "    .dataframe tbody tr th:only-of-type {\n",
       "        vertical-align: middle;\n",
       "    }\n",
       "\n",
       "    .dataframe tbody tr th {\n",
       "        vertical-align: top;\n",
       "    }\n",
       "\n",
       "    .dataframe thead th {\n",
       "        text-align: right;\n",
       "    }\n",
       "</style>\n",
       "<table border=\"1\" class=\"dataframe\">\n",
       "  <thead>\n",
       "    <tr style=\"text-align: right;\">\n",
       "      <th></th>\n",
       "      <th>name</th>\n",
       "      <th>income</th>\n",
       "      <th>sex</th>\n",
       "      <th>age</th>\n",
       "    </tr>\n",
       "  </thead>\n",
       "  <tbody>\n",
       "    <tr>\n",
       "      <th>0</th>\n",
       "      <td>Annina</td>\n",
       "      <td>NaN</td>\n",
       "      <td>NaN</td>\n",
       "      <td>19.0</td>\n",
       "    </tr>\n",
       "    <tr>\n",
       "      <th>1</th>\n",
       "      <td>Mary</td>\n",
       "      <td>5200.0</td>\n",
       "      <td>f</td>\n",
       "      <td>NaN</td>\n",
       "    </tr>\n",
       "    <tr>\n",
       "      <th>2</th>\n",
       "      <td>Max</td>\n",
       "      <td>4300.0</td>\n",
       "      <td>m</td>\n",
       "      <td>23.0</td>\n",
       "    </tr>\n",
       "    <tr>\n",
       "      <th>3</th>\n",
       "      <td>Peter</td>\n",
       "      <td>8600.0</td>\n",
       "      <td>m</td>\n",
       "      <td>34.0</td>\n",
       "    </tr>\n",
       "    <tr>\n",
       "      <th>4</th>\n",
       "      <td>Petra</td>\n",
       "      <td>NaN</td>\n",
       "      <td>NaN</td>\n",
       "      <td>56.0</td>\n",
       "    </tr>\n",
       "  </tbody>\n",
       "</table>\n",
       "</div>"
      ],
      "text/plain": [
       "     name  income  sex   age\n",
       "0  Annina     NaN  NaN  19.0\n",
       "1    Mary  5200.0    f   NaN\n",
       "2     Max  4300.0    m  23.0\n",
       "3   Peter  8600.0    m  34.0\n",
       "4   Petra     NaN  NaN  56.0"
      ]
     },
     "execution_count": 70,
     "metadata": {},
     "output_type": "execute_result"
    }
   ],
   "source": [
    "# Outer merge\n",
    "df1.merge(df2, how=\"outer\", on=\"name\")"
   ]
  },
  {
   "cell_type": "code",
   "execution_count": 71,
   "metadata": {
    "id": "PV9CmVM7fhXB"
   },
   "outputs": [
    {
     "data": {
      "text/html": [
       "<div>\n",
       "<style scoped>\n",
       "    .dataframe tbody tr th:only-of-type {\n",
       "        vertical-align: middle;\n",
       "    }\n",
       "\n",
       "    .dataframe tbody tr th {\n",
       "        vertical-align: top;\n",
       "    }\n",
       "\n",
       "    .dataframe thead th {\n",
       "        text-align: right;\n",
       "    }\n",
       "</style>\n",
       "<table border=\"1\" class=\"dataframe\">\n",
       "  <thead>\n",
       "    <tr style=\"text-align: right;\">\n",
       "      <th></th>\n",
       "      <th>name</th>\n",
       "      <th>income</th>\n",
       "      <th>sex</th>\n",
       "      <th>age</th>\n",
       "    </tr>\n",
       "  </thead>\n",
       "  <tbody>\n",
       "    <tr>\n",
       "      <th>0</th>\n",
       "      <td>Max</td>\n",
       "      <td>4300</td>\n",
       "      <td>m</td>\n",
       "      <td>23.0</td>\n",
       "    </tr>\n",
       "    <tr>\n",
       "      <th>1</th>\n",
       "      <td>Peter</td>\n",
       "      <td>8600</td>\n",
       "      <td>m</td>\n",
       "      <td>34.0</td>\n",
       "    </tr>\n",
       "    <tr>\n",
       "      <th>2</th>\n",
       "      <td>Mary</td>\n",
       "      <td>5200</td>\n",
       "      <td>f</td>\n",
       "      <td>NaN</td>\n",
       "    </tr>\n",
       "  </tbody>\n",
       "</table>\n",
       "</div>"
      ],
      "text/plain": [
       "    name  income sex   age\n",
       "0    Max    4300   m  23.0\n",
       "1  Peter    8600   m  34.0\n",
       "2   Mary    5200   f   NaN"
      ]
     },
     "execution_count": 71,
     "metadata": {},
     "output_type": "execute_result"
    }
   ],
   "source": [
    "# Left merge\n",
    "df1.merge(df2, how=\"left\", on=\"name\")"
   ]
  },
  {
   "cell_type": "markdown",
   "metadata": {
    "id": "eMPrZX-x65qb"
   },
   "source": [
    "## Exercise 2"
   ]
  },
  {
   "cell_type": "markdown",
   "metadata": {
    "id": "knvgrwJm3C2o"
   },
   "source": [
    "Consider the following dataset:"
   ]
  },
  {
   "cell_type": "code",
   "execution_count": 72,
   "metadata": {
    "colab": {
     "base_uri": "https://localhost:8080/",
     "height": 206
    },
    "id": "5-wGGUhP3L7n",
    "outputId": "a3b64c71-d3f3-4e56-cb05-94d27c552275"
   },
   "outputs": [
    {
     "data": {
      "text/html": [
       "<div>\n",
       "<style scoped>\n",
       "    .dataframe tbody tr th:only-of-type {\n",
       "        vertical-align: middle;\n",
       "    }\n",
       "\n",
       "    .dataframe tbody tr th {\n",
       "        vertical-align: top;\n",
       "    }\n",
       "\n",
       "    .dataframe thead th {\n",
       "        text-align: right;\n",
       "    }\n",
       "</style>\n",
       "<table border=\"1\" class=\"dataframe\">\n",
       "  <thead>\n",
       "    <tr style=\"text-align: right;\">\n",
       "      <th></th>\n",
       "      <th>first_name</th>\n",
       "      <th>year</th>\n",
       "      <th>salary</th>\n",
       "      <th>occupation</th>\n",
       "    </tr>\n",
       "  </thead>\n",
       "  <tbody>\n",
       "    <tr>\n",
       "      <th>0</th>\n",
       "      <td>Max</td>\n",
       "      <td>2021</td>\n",
       "      <td>4200</td>\n",
       "      <td>phd student</td>\n",
       "    </tr>\n",
       "    <tr>\n",
       "      <th>1</th>\n",
       "      <td>Max</td>\n",
       "      <td>2022</td>\n",
       "      <td>4300</td>\n",
       "      <td>phd student</td>\n",
       "    </tr>\n",
       "    <tr>\n",
       "      <th>2</th>\n",
       "      <td>Annina</td>\n",
       "      <td>2020</td>\n",
       "      <td>0</td>\n",
       "      <td>student</td>\n",
       "    </tr>\n",
       "    <tr>\n",
       "      <th>3</th>\n",
       "      <td>Annina</td>\n",
       "      <td>2021</td>\n",
       "      <td>5700</td>\n",
       "      <td>banker</td>\n",
       "    </tr>\n",
       "    <tr>\n",
       "      <th>4</th>\n",
       "      <td>Annina</td>\n",
       "      <td>2022</td>\n",
       "      <td>5800</td>\n",
       "      <td>banker</td>\n",
       "    </tr>\n",
       "  </tbody>\n",
       "</table>\n",
       "</div>"
      ],
      "text/plain": [
       "  first_name  year  salary   occupation\n",
       "0        Max  2021    4200  phd student\n",
       "1        Max  2022    4300  phd student\n",
       "2     Annina  2020       0      student\n",
       "3     Annina  2021    5700       banker\n",
       "4     Annina  2022    5800       banker"
      ]
     },
     "execution_count": 72,
     "metadata": {},
     "output_type": "execute_result"
    }
   ],
   "source": [
    "df_long = pd.DataFrame({\"first_name\": [\"Max\", \"Max\", \"Annina\", \"Annina\", \"Annina\"],\n",
    "                        \"year\": [2021, 2022, 2020, 2021, 2022],\n",
    "                        \"salary\": [4200, 4300, 0, 5700, 5800],\n",
    "                        \"occupation\": [\"phd student\", \"phd student\", \"student\", \"banker\", \"banker\"]})\n",
    "df_long"
   ]
  },
  {
   "cell_type": "markdown",
   "metadata": {
    "id": "oPMSb2SP30SX"
   },
   "source": [
    "Can you reshape it to a *wide* data format? Assign your new dataset to the variable ``df_wide``."
   ]
  },
  {
   "cell_type": "code",
   "execution_count": 73,
   "metadata": {
    "id": "xl6U6jp34IzY"
   },
   "outputs": [
    {
     "data": {
      "text/html": [
       "<div>\n",
       "<style scoped>\n",
       "    .dataframe tbody tr th:only-of-type {\n",
       "        vertical-align: middle;\n",
       "    }\n",
       "\n",
       "    .dataframe tbody tr th {\n",
       "        vertical-align: top;\n",
       "    }\n",
       "\n",
       "    .dataframe thead tr th {\n",
       "        text-align: left;\n",
       "    }\n",
       "\n",
       "    .dataframe thead tr:last-of-type th {\n",
       "        text-align: right;\n",
       "    }\n",
       "</style>\n",
       "<table border=\"1\" class=\"dataframe\">\n",
       "  <thead>\n",
       "    <tr>\n",
       "      <th></th>\n",
       "      <th colspan=\"3\" halign=\"left\">salary</th>\n",
       "      <th colspan=\"3\" halign=\"left\">occupation</th>\n",
       "    </tr>\n",
       "    <tr>\n",
       "      <th>year</th>\n",
       "      <th>2020</th>\n",
       "      <th>2021</th>\n",
       "      <th>2022</th>\n",
       "      <th>2020</th>\n",
       "      <th>2021</th>\n",
       "      <th>2022</th>\n",
       "    </tr>\n",
       "    <tr>\n",
       "      <th>first_name</th>\n",
       "      <th></th>\n",
       "      <th></th>\n",
       "      <th></th>\n",
       "      <th></th>\n",
       "      <th></th>\n",
       "      <th></th>\n",
       "    </tr>\n",
       "  </thead>\n",
       "  <tbody>\n",
       "    <tr>\n",
       "      <th>Annina</th>\n",
       "      <td>0</td>\n",
       "      <td>5700</td>\n",
       "      <td>5800</td>\n",
       "      <td>student</td>\n",
       "      <td>banker</td>\n",
       "      <td>banker</td>\n",
       "    </tr>\n",
       "    <tr>\n",
       "      <th>Max</th>\n",
       "      <td>NaN</td>\n",
       "      <td>4200</td>\n",
       "      <td>4300</td>\n",
       "      <td>NaN</td>\n",
       "      <td>phd student</td>\n",
       "      <td>phd student</td>\n",
       "    </tr>\n",
       "  </tbody>\n",
       "</table>\n",
       "</div>"
      ],
      "text/plain": [
       "           salary             occupation                          \n",
       "year         2020  2021  2022       2020         2021         2022\n",
       "first_name                                                        \n",
       "Annina          0  5700  5800    student       banker       banker\n",
       "Max           NaN  4200  4300        NaN  phd student  phd student"
      ]
     },
     "execution_count": 73,
     "metadata": {},
     "output_type": "execute_result"
    }
   ],
   "source": [
    "df_wide = pd.pivot(df_long,\n",
    "                   index=\"first_name\",\n",
    "                   columns=\"year\",\n",
    "                   values=[\"salary\", \"occupation\"])\n",
    "df_wide"
   ]
  },
  {
   "cell_type": "markdown",
   "metadata": {
    "id": "UCtktKH-7C6D"
   },
   "source": [
    "Print out the column names of your new dataset. "
   ]
  },
  {
   "cell_type": "code",
   "execution_count": 74,
   "metadata": {
    "id": "SFZVcen17yJL"
   },
   "outputs": [
    {
     "data": {
      "text/plain": [
       "MultiIndex([(    'salary', 2020),\n",
       "            (    'salary', 2021),\n",
       "            (    'salary', 2022),\n",
       "            ('occupation', 2020),\n",
       "            ('occupation', 2021),\n",
       "            ('occupation', 2022)],\n",
       "           names=[None, 'year'])"
      ]
     },
     "execution_count": 74,
     "metadata": {},
     "output_type": "execute_result"
    }
   ],
   "source": [
    "df_wide.columns"
   ]
  },
  {
   "cell_type": "markdown",
   "metadata": {
    "id": "RWSn5jCG8qaN"
   },
   "source": [
    "You should get a MultiIndex object (https://pandas.pydata.org/docs/user_guide/advanced.html). Can you find out how to print out Anninas salary in 2022 using this MultiIndex?"
   ]
  },
  {
   "cell_type": "code",
   "execution_count": 75,
   "metadata": {
    "id": "LuyYMtFU9m-o"
   },
   "outputs": [
    {
     "data": {
      "text/plain": [
       "5800"
      ]
     },
     "execution_count": 75,
     "metadata": {},
     "output_type": "execute_result"
    }
   ],
   "source": [
    "df_wide.loc[\"Annina\", (\"salary\", 2022)]"
   ]
  },
  {
   "cell_type": "markdown",
   "metadata": {
    "id": "GvSqzrBf92vP"
   },
   "source": [
    "You don't like the MultiIndex and would like to have the following column names:\n",
    "'name',\n",
    " 'salary2020',\n",
    " 'salary2021',\n",
    " 'salary2022',\n",
    " 'occupation2020',\n",
    " 'occupation2021',\n",
    " 'occupation2022'. Try to achieve this (e.g. by using a list comprehension).\n"
   ]
  },
  {
   "cell_type": "code",
   "execution_count": 76,
   "metadata": {
    "id": "jG7lTANw7Eix"
   },
   "outputs": [
    {
     "data": {
      "text/html": [
       "<div>\n",
       "<style scoped>\n",
       "    .dataframe tbody tr th:only-of-type {\n",
       "        vertical-align: middle;\n",
       "    }\n",
       "\n",
       "    .dataframe tbody tr th {\n",
       "        vertical-align: top;\n",
       "    }\n",
       "\n",
       "    .dataframe thead th {\n",
       "        text-align: right;\n",
       "    }\n",
       "</style>\n",
       "<table border=\"1\" class=\"dataframe\">\n",
       "  <thead>\n",
       "    <tr style=\"text-align: right;\">\n",
       "      <th></th>\n",
       "      <th>salary2020</th>\n",
       "      <th>salary2021</th>\n",
       "      <th>salary2022</th>\n",
       "      <th>occupation2020</th>\n",
       "      <th>occupation2021</th>\n",
       "      <th>occupation2022</th>\n",
       "    </tr>\n",
       "    <tr>\n",
       "      <th>first_name</th>\n",
       "      <th></th>\n",
       "      <th></th>\n",
       "      <th></th>\n",
       "      <th></th>\n",
       "      <th></th>\n",
       "      <th></th>\n",
       "    </tr>\n",
       "  </thead>\n",
       "  <tbody>\n",
       "    <tr>\n",
       "      <th>Annina</th>\n",
       "      <td>0</td>\n",
       "      <td>5700</td>\n",
       "      <td>5800</td>\n",
       "      <td>student</td>\n",
       "      <td>banker</td>\n",
       "      <td>banker</td>\n",
       "    </tr>\n",
       "    <tr>\n",
       "      <th>Max</th>\n",
       "      <td>NaN</td>\n",
       "      <td>4200</td>\n",
       "      <td>4300</td>\n",
       "      <td>NaN</td>\n",
       "      <td>phd student</td>\n",
       "      <td>phd student</td>\n",
       "    </tr>\n",
       "  </tbody>\n",
       "</table>\n",
       "</div>"
      ],
      "text/plain": [
       "           salary2020 salary2021 salary2022 occupation2020 occupation2021  \\\n",
       "first_name                                                                  \n",
       "Annina              0       5700       5800        student         banker   \n",
       "Max               NaN       4200       4300            NaN    phd student   \n",
       "\n",
       "           occupation2022  \n",
       "first_name                 \n",
       "Annina             banker  \n",
       "Max           phd student  "
      ]
     },
     "execution_count": 76,
     "metadata": {},
     "output_type": "execute_result"
    }
   ],
   "source": [
    "\n",
    "df_wide.columns = [''.join((str(i[0]), str(i[1]))) for i in df_wide.columns]\n",
    "df_wide"
   ]
  },
  {
   "cell_type": "markdown",
   "metadata": {
    "id": "c7kMuIvcALiG"
   },
   "source": [
    "Now look at the (row) index of your dataframe:"
   ]
  },
  {
   "cell_type": "code",
   "execution_count": 77,
   "metadata": {
    "id": "SXvVodhy-X9d"
   },
   "outputs": [
    {
     "data": {
      "text/plain": [
       "Index(['Annina', 'Max'], dtype='object', name='first_name')"
      ]
     },
     "execution_count": 77,
     "metadata": {},
     "output_type": "execute_result"
    }
   ],
   "source": [
    "df_wide.index"
   ]
  },
  {
   "cell_type": "markdown",
   "metadata": {
    "id": "anbrHkbDAV4S"
   },
   "source": [
    "You will see that this index has a name (first_name), which is why ``first_name`` appears above \"Annina\" when your print out the data. You can also access it by typing ``df_wide.index.name``. Can you find a way to rename the index to ``name``?"
   ]
  },
  {
   "cell_type": "code",
   "execution_count": 79,
   "metadata": {
    "id": "ID3IdKcS6QLj"
   },
   "outputs": [
    {
     "data": {
      "text/html": [
       "<div>\n",
       "<style scoped>\n",
       "    .dataframe tbody tr th:only-of-type {\n",
       "        vertical-align: middle;\n",
       "    }\n",
       "\n",
       "    .dataframe tbody tr th {\n",
       "        vertical-align: top;\n",
       "    }\n",
       "\n",
       "    .dataframe thead th {\n",
       "        text-align: right;\n",
       "    }\n",
       "</style>\n",
       "<table border=\"1\" class=\"dataframe\">\n",
       "  <thead>\n",
       "    <tr style=\"text-align: right;\">\n",
       "      <th></th>\n",
       "      <th>salary2020</th>\n",
       "      <th>salary2021</th>\n",
       "      <th>salary2022</th>\n",
       "      <th>occupation2020</th>\n",
       "      <th>occupation2021</th>\n",
       "      <th>occupation2022</th>\n",
       "    </tr>\n",
       "    <tr>\n",
       "      <th>name</th>\n",
       "      <th></th>\n",
       "      <th></th>\n",
       "      <th></th>\n",
       "      <th></th>\n",
       "      <th></th>\n",
       "      <th></th>\n",
       "    </tr>\n",
       "  </thead>\n",
       "  <tbody>\n",
       "    <tr>\n",
       "      <th>Annina</th>\n",
       "      <td>0</td>\n",
       "      <td>5700</td>\n",
       "      <td>5800</td>\n",
       "      <td>student</td>\n",
       "      <td>banker</td>\n",
       "      <td>banker</td>\n",
       "    </tr>\n",
       "    <tr>\n",
       "      <th>Max</th>\n",
       "      <td>NaN</td>\n",
       "      <td>4200</td>\n",
       "      <td>4300</td>\n",
       "      <td>NaN</td>\n",
       "      <td>phd student</td>\n",
       "      <td>phd student</td>\n",
       "    </tr>\n",
       "  </tbody>\n",
       "</table>\n",
       "</div>"
      ],
      "text/plain": [
       "       salary2020 salary2021 salary2022 occupation2020 occupation2021  \\\n",
       "name                                                                    \n",
       "Annina          0       5700       5800        student         banker   \n",
       "Max           NaN       4200       4300            NaN    phd student   \n",
       "\n",
       "       occupation2022  \n",
       "name                   \n",
       "Annina         banker  \n",
       "Max       phd student  "
      ]
     },
     "execution_count": 79,
     "metadata": {},
     "output_type": "execute_result"
    }
   ],
   "source": [
    "df_wide.index.name = 'name'\n",
    "df_wide"
   ]
  },
  {
   "cell_type": "markdown",
   "metadata": {
    "id": "2-4g6J8dBcrM"
   },
   "source": [
    "Check out the documentation of the ``wide_to_long`` function (which is similar to ``melt``): https://pandas.pydata.org/docs/reference/api/pandas.wide_to_long.html. Can you use it to convert your data back to *long* format?"
   ]
  },
  {
   "cell_type": "code",
   "execution_count": 81,
   "metadata": {
    "id": "3q3d9udICHCz"
   },
   "outputs": [
    {
     "data": {
      "text/html": [
       "<div>\n",
       "<style scoped>\n",
       "    .dataframe tbody tr th:only-of-type {\n",
       "        vertical-align: middle;\n",
       "    }\n",
       "\n",
       "    .dataframe tbody tr th {\n",
       "        vertical-align: top;\n",
       "    }\n",
       "\n",
       "    .dataframe thead th {\n",
       "        text-align: right;\n",
       "    }\n",
       "</style>\n",
       "<table border=\"1\" class=\"dataframe\">\n",
       "  <thead>\n",
       "    <tr style=\"text-align: right;\">\n",
       "      <th></th>\n",
       "      <th></th>\n",
       "      <th>salary</th>\n",
       "      <th>occupation</th>\n",
       "    </tr>\n",
       "    <tr>\n",
       "      <th>name</th>\n",
       "      <th>year</th>\n",
       "      <th></th>\n",
       "      <th></th>\n",
       "    </tr>\n",
       "  </thead>\n",
       "  <tbody>\n",
       "    <tr>\n",
       "      <th>Annina</th>\n",
       "      <th>2020</th>\n",
       "      <td>0</td>\n",
       "      <td>student</td>\n",
       "    </tr>\n",
       "    <tr>\n",
       "      <th>Max</th>\n",
       "      <th>2020</th>\n",
       "      <td>NaN</td>\n",
       "      <td>NaN</td>\n",
       "    </tr>\n",
       "    <tr>\n",
       "      <th>Annina</th>\n",
       "      <th>2021</th>\n",
       "      <td>5700</td>\n",
       "      <td>banker</td>\n",
       "    </tr>\n",
       "    <tr>\n",
       "      <th>Max</th>\n",
       "      <th>2021</th>\n",
       "      <td>4200</td>\n",
       "      <td>phd student</td>\n",
       "    </tr>\n",
       "    <tr>\n",
       "      <th>Annina</th>\n",
       "      <th>2022</th>\n",
       "      <td>5800</td>\n",
       "      <td>banker</td>\n",
       "    </tr>\n",
       "    <tr>\n",
       "      <th>Max</th>\n",
       "      <th>2022</th>\n",
       "      <td>4300</td>\n",
       "      <td>phd student</td>\n",
       "    </tr>\n",
       "  </tbody>\n",
       "</table>\n",
       "</div>"
      ],
      "text/plain": [
       "            salary   occupation\n",
       "name   year                    \n",
       "Annina 2020      0      student\n",
       "Max    2020    NaN          NaN\n",
       "Annina 2021   5700       banker\n",
       "Max    2021   4200  phd student\n",
       "Annina 2022   5800       banker\n",
       "Max    2022   4300  phd student"
      ]
     },
     "execution_count": 81,
     "metadata": {},
     "output_type": "execute_result"
    }
   ],
   "source": [
    "df_long_again = pd.wide_to_long(df_wide.reset_index(), [\"salary\", \"occupation\"], \"name\", \"year\")\n",
    "df_long_again"
   ]
  },
  {
   "cell_type": "markdown",
   "metadata": {
    "id": "8nPCn4vTgbHj"
   },
   "source": [
    "## Exercise 3"
   ]
  },
  {
   "cell_type": "markdown",
   "metadata": {
    "id": "--DIEn7k4qy1"
   },
   "source": [
    "Read in the homicide data."
   ]
  },
  {
   "cell_type": "code",
   "execution_count": 85,
   "metadata": {
    "id": "WbDXeAuIxDZu"
   },
   "outputs": [
    {
     "data": {
      "text/html": [
       "<div>\n",
       "<style scoped>\n",
       "    .dataframe tbody tr th:only-of-type {\n",
       "        vertical-align: middle;\n",
       "    }\n",
       "\n",
       "    .dataframe tbody tr th {\n",
       "        vertical-align: top;\n",
       "    }\n",
       "\n",
       "    .dataframe thead th {\n",
       "        text-align: right;\n",
       "    }\n",
       "</style>\n",
       "<table border=\"1\" class=\"dataframe\">\n",
       "  <thead>\n",
       "    <tr style=\"text-align: right;\">\n",
       "      <th></th>\n",
       "      <th>country</th>\n",
       "      <th>code</th>\n",
       "      <th>gni_per_capita</th>\n",
       "      <th>population</th>\n",
       "      <th>continent</th>\n",
       "      <th>top10_share</th>\n",
       "      <th>homicide</th>\n",
       "    </tr>\n",
       "  </thead>\n",
       "  <tbody>\n",
       "    <tr>\n",
       "      <th>0</th>\n",
       "      <td>Aruba</td>\n",
       "      <td>ABW</td>\n",
       "      <td>26250.0</td>\n",
       "      <td>104000.0</td>\n",
       "      <td>North America</td>\n",
       "      <td>NaN</td>\n",
       "      <td>NaN</td>\n",
       "    </tr>\n",
       "    <tr>\n",
       "      <th>1</th>\n",
       "      <td>Afghanistan</td>\n",
       "      <td>AFG</td>\n",
       "      <td>600.0</td>\n",
       "      <td>34414000.0</td>\n",
       "      <td>Asia</td>\n",
       "      <td>NaN</td>\n",
       "      <td>1.546670</td>\n",
       "    </tr>\n",
       "    <tr>\n",
       "      <th>2</th>\n",
       "      <td>Angola</td>\n",
       "      <td>AGO</td>\n",
       "      <td>4520.0</td>\n",
       "      <td>27884000.0</td>\n",
       "      <td>Africa</td>\n",
       "      <td>NaN</td>\n",
       "      <td>0.483067</td>\n",
       "    </tr>\n",
       "    <tr>\n",
       "      <th>3</th>\n",
       "      <td>Albania</td>\n",
       "      <td>ALB</td>\n",
       "      <td>4390.0</td>\n",
       "      <td>2891000.0</td>\n",
       "      <td>Europe</td>\n",
       "      <td>22.9</td>\n",
       "      <td>0.316194</td>\n",
       "    </tr>\n",
       "    <tr>\n",
       "      <th>4</th>\n",
       "      <td>Andorra</td>\n",
       "      <td>AND</td>\n",
       "      <td>NaN</td>\n",
       "      <td>78000.0</td>\n",
       "      <td>Europe</td>\n",
       "      <td>NaN</td>\n",
       "      <td>0.100418</td>\n",
       "    </tr>\n",
       "    <tr>\n",
       "      <th>...</th>\n",
       "      <td>...</td>\n",
       "      <td>...</td>\n",
       "      <td>...</td>\n",
       "      <td>...</td>\n",
       "      <td>...</td>\n",
       "      <td>...</td>\n",
       "      <td>...</td>\n",
       "    </tr>\n",
       "    <tr>\n",
       "      <th>197</th>\n",
       "      <td>Vanuatu</td>\n",
       "      <td>VUT</td>\n",
       "      <td>2910.0</td>\n",
       "      <td>271000.0</td>\n",
       "      <td>Oceania</td>\n",
       "      <td>29.1</td>\n",
       "      <td>0.213722</td>\n",
       "    </tr>\n",
       "    <tr>\n",
       "      <th>198</th>\n",
       "      <td>Samoa</td>\n",
       "      <td>WSM</td>\n",
       "      <td>3960.0</td>\n",
       "      <td>194000.0</td>\n",
       "      <td>Oceania</td>\n",
       "      <td>NaN</td>\n",
       "      <td>0.565338</td>\n",
       "    </tr>\n",
       "    <tr>\n",
       "      <th>199</th>\n",
       "      <td>South Africa</td>\n",
       "      <td>ZAF</td>\n",
       "      <td>6050.0</td>\n",
       "      <td>55386000.0</td>\n",
       "      <td>Africa</td>\n",
       "      <td>51.3</td>\n",
       "      <td>3.304199</td>\n",
       "    </tr>\n",
       "    <tr>\n",
       "      <th>200</th>\n",
       "      <td>Zambia</td>\n",
       "      <td>ZMB</td>\n",
       "      <td>1580.0</td>\n",
       "      <td>15879000.0</td>\n",
       "      <td>Africa</td>\n",
       "      <td>44.4</td>\n",
       "      <td>0.839167</td>\n",
       "    </tr>\n",
       "    <tr>\n",
       "      <th>201</th>\n",
       "      <td>Zimbabwe</td>\n",
       "      <td>ZWE</td>\n",
       "      <td>1280.0</td>\n",
       "      <td>13815000.0</td>\n",
       "      <td>Africa</td>\n",
       "      <td>33.8</td>\n",
       "      <td>1.002734</td>\n",
       "    </tr>\n",
       "  </tbody>\n",
       "</table>\n",
       "<p>202 rows × 7 columns</p>\n",
       "</div>"
      ],
      "text/plain": [
       "          country code  gni_per_capita  population      continent  \\\n",
       "0           Aruba  ABW         26250.0    104000.0  North America   \n",
       "1     Afghanistan  AFG           600.0  34414000.0           Asia   \n",
       "2          Angola  AGO          4520.0  27884000.0         Africa   \n",
       "3         Albania  ALB          4390.0   2891000.0         Europe   \n",
       "4         Andorra  AND             NaN     78000.0         Europe   \n",
       "..            ...  ...             ...         ...            ...   \n",
       "197       Vanuatu  VUT          2910.0    271000.0        Oceania   \n",
       "198         Samoa  WSM          3960.0    194000.0        Oceania   \n",
       "199  South Africa  ZAF          6050.0  55386000.0         Africa   \n",
       "200        Zambia  ZMB          1580.0  15879000.0         Africa   \n",
       "201      Zimbabwe  ZWE          1280.0  13815000.0         Africa   \n",
       "\n",
       "     top10_share  homicide  \n",
       "0            NaN       NaN  \n",
       "1            NaN  1.546670  \n",
       "2            NaN  0.483067  \n",
       "3           22.9  0.316194  \n",
       "4            NaN  0.100418  \n",
       "..           ...       ...  \n",
       "197         29.1  0.213722  \n",
       "198          NaN  0.565338  \n",
       "199         51.3  3.304199  \n",
       "200         44.4  0.839167  \n",
       "201         33.8  1.002734  \n",
       "\n",
       "[202 rows x 7 columns]"
      ]
     },
     "execution_count": 85,
     "metadata": {},
     "output_type": "execute_result"
    }
   ],
   "source": [
    "\n",
    "homicide = pd.read_csv(\"homicide.csv\")\n",
    "homicide\n"
   ]
  },
  {
   "cell_type": "markdown",
   "metadata": {
    "id": "PadwYu_a6jc2"
   },
   "source": [
    "You would like to analyze homicide patterns across the globe. As a first step, you would like to know if homicide rates differ between continents. Use ``groupby`` to create an aggregated dataset called ``homicide_continents`` with the the homicide rate of the average country as well as the number of countries on each continent. It should look as follows:\n",
    "\n",
    "\n",
    "|continent|mean| \tcount|\n",
    "| :- | -: | :-: |\t\n",
    "|Africa |\t0.888916 |\t50|\n",
    "|Asia |\t0.603732 |\t43|\n",
    "|Europe| \t0.218499| \t41|\n",
    "|North America |\t2.922844| \t25|\n",
    "|Oceania |\t0.568807 |\t13|\n",
    "|South America |\t2.172048| \t11|\n",
    "\n"
   ]
  },
  {
   "cell_type": "code",
   "execution_count": 86,
   "metadata": {
    "id": "4V_xCBhC1hGV"
   },
   "outputs": [
    {
     "data": {
      "text/html": [
       "<div>\n",
       "<style scoped>\n",
       "    .dataframe tbody tr th:only-of-type {\n",
       "        vertical-align: middle;\n",
       "    }\n",
       "\n",
       "    .dataframe tbody tr th {\n",
       "        vertical-align: top;\n",
       "    }\n",
       "\n",
       "    .dataframe thead th {\n",
       "        text-align: right;\n",
       "    }\n",
       "</style>\n",
       "<table border=\"1\" class=\"dataframe\">\n",
       "  <thead>\n",
       "    <tr style=\"text-align: right;\">\n",
       "      <th></th>\n",
       "      <th>mean</th>\n",
       "      <th>count</th>\n",
       "    </tr>\n",
       "    <tr>\n",
       "      <th>continent</th>\n",
       "      <th></th>\n",
       "      <th></th>\n",
       "    </tr>\n",
       "  </thead>\n",
       "  <tbody>\n",
       "    <tr>\n",
       "      <th>Africa</th>\n",
       "      <td>0.888916</td>\n",
       "      <td>50</td>\n",
       "    </tr>\n",
       "    <tr>\n",
       "      <th>Asia</th>\n",
       "      <td>0.603732</td>\n",
       "      <td>43</td>\n",
       "    </tr>\n",
       "    <tr>\n",
       "      <th>Europe</th>\n",
       "      <td>0.218499</td>\n",
       "      <td>41</td>\n",
       "    </tr>\n",
       "    <tr>\n",
       "      <th>North America</th>\n",
       "      <td>2.922844</td>\n",
       "      <td>25</td>\n",
       "    </tr>\n",
       "    <tr>\n",
       "      <th>Oceania</th>\n",
       "      <td>0.568807</td>\n",
       "      <td>13</td>\n",
       "    </tr>\n",
       "    <tr>\n",
       "      <th>South America</th>\n",
       "      <td>2.172048</td>\n",
       "      <td>11</td>\n",
       "    </tr>\n",
       "  </tbody>\n",
       "</table>\n",
       "</div>"
      ],
      "text/plain": [
       "                   mean  count\n",
       "continent                     \n",
       "Africa         0.888916     50\n",
       "Asia           0.603732     43\n",
       "Europe         0.218499     41\n",
       "North America  2.922844     25\n",
       "Oceania        0.568807     13\n",
       "South America  2.172048     11"
      ]
     },
     "execution_count": 86,
     "metadata": {},
     "output_type": "execute_result"
    }
   ],
   "source": [
    "homicide_continents = homicide.groupby(\"continent\")[\"homicide\"].agg([\"mean\", \"count\"])\n",
    "homicide_continents"
   ]
  },
  {
   "cell_type": "markdown",
   "metadata": {
    "id": "HZixRP7J16K0"
   },
   "source": [
    "## Exercise 4"
   ]
  },
  {
   "cell_type": "markdown",
   "metadata": {
    "id": "tAnfKlnQ2AIi"
   },
   "source": [
    "Now, you would like to find out if there is a correlation between homicide rates and life satisfaction. Import the the dataset \"life_satisfaction_clean.csv\" and merge it with your homicide data (keeping only the life statisfaction column). Make sure no observations in your homicide data are dropped."
   ]
  },
  {
   "cell_type": "code",
   "execution_count": 92,
   "metadata": {
    "id": "uyve_7E1IRQl"
   },
   "outputs": [
    {
     "data": {
      "text/html": [
       "<div>\n",
       "<style scoped>\n",
       "    .dataframe tbody tr th:only-of-type {\n",
       "        vertical-align: middle;\n",
       "    }\n",
       "\n",
       "    .dataframe tbody tr th {\n",
       "        vertical-align: top;\n",
       "    }\n",
       "\n",
       "    .dataframe thead th {\n",
       "        text-align: right;\n",
       "    }\n",
       "</style>\n",
       "<table border=\"1\" class=\"dataframe\">\n",
       "  <thead>\n",
       "    <tr style=\"text-align: right;\">\n",
       "      <th></th>\n",
       "      <th>country</th>\n",
       "      <th>code</th>\n",
       "      <th>gni_per_capita</th>\n",
       "      <th>life_satisfaction</th>\n",
       "      <th>population</th>\n",
       "      <th>continent</th>\n",
       "      <th>workhours</th>\n",
       "      <th>income_level</th>\n",
       "    </tr>\n",
       "  </thead>\n",
       "  <tbody>\n",
       "    <tr>\n",
       "      <th>0</th>\n",
       "      <td>Afghanistan</td>\n",
       "      <td>AFG</td>\n",
       "      <td>600.0</td>\n",
       "      <td>2.694303</td>\n",
       "      <td>34414000.0</td>\n",
       "      <td>Asia</td>\n",
       "      <td>NaN</td>\n",
       "      <td>Low income</td>\n",
       "    </tr>\n",
       "    <tr>\n",
       "      <th>1</th>\n",
       "      <td>Albania</td>\n",
       "      <td>ALB</td>\n",
       "      <td>4390.0</td>\n",
       "      <td>5.004403</td>\n",
       "      <td>2891000.0</td>\n",
       "      <td>Europe</td>\n",
       "      <td>NaN</td>\n",
       "      <td>Upper middle income</td>\n",
       "    </tr>\n",
       "    <tr>\n",
       "      <th>2</th>\n",
       "      <td>Algeria</td>\n",
       "      <td>DZA</td>\n",
       "      <td>4850.0</td>\n",
       "      <td>5.043086</td>\n",
       "      <td>39728000.0</td>\n",
       "      <td>Africa</td>\n",
       "      <td>NaN</td>\n",
       "      <td>Upper middle income</td>\n",
       "    </tr>\n",
       "    <tr>\n",
       "      <th>3</th>\n",
       "      <td>Argentina</td>\n",
       "      <td>ARG</td>\n",
       "      <td>12570.0</td>\n",
       "      <td>5.792797</td>\n",
       "      <td>43075000.0</td>\n",
       "      <td>South America</td>\n",
       "      <td>1691.5363</td>\n",
       "      <td>High income</td>\n",
       "    </tr>\n",
       "    <tr>\n",
       "      <th>4</th>\n",
       "      <td>Armenia</td>\n",
       "      <td>ARM</td>\n",
       "      <td>4010.0</td>\n",
       "      <td>5.062449</td>\n",
       "      <td>2926000.0</td>\n",
       "      <td>Asia</td>\n",
       "      <td>NaN</td>\n",
       "      <td>Lower middle income</td>\n",
       "    </tr>\n",
       "    <tr>\n",
       "      <th>...</th>\n",
       "      <td>...</td>\n",
       "      <td>...</td>\n",
       "      <td>...</td>\n",
       "      <td>...</td>\n",
       "      <td>...</td>\n",
       "      <td>...</td>\n",
       "      <td>...</td>\n",
       "      <td>...</td>\n",
       "    </tr>\n",
       "    <tr>\n",
       "      <th>121</th>\n",
       "      <td>Uzbekistan</td>\n",
       "      <td>UZB</td>\n",
       "      <td>2600.0</td>\n",
       "      <td>6.205460</td>\n",
       "      <td>30930000.0</td>\n",
       "      <td>Asia</td>\n",
       "      <td>NaN</td>\n",
       "      <td>Lower middle income</td>\n",
       "    </tr>\n",
       "    <tr>\n",
       "      <th>122</th>\n",
       "      <td>Vietnam</td>\n",
       "      <td>VNM</td>\n",
       "      <td>1970.0</td>\n",
       "      <td>5.295547</td>\n",
       "      <td>92677000.0</td>\n",
       "      <td>Asia</td>\n",
       "      <td>2169.5916</td>\n",
       "      <td>Lower middle income</td>\n",
       "    </tr>\n",
       "    <tr>\n",
       "      <th>123</th>\n",
       "      <td>West Bank and Gaza</td>\n",
       "      <td>PSE</td>\n",
       "      <td>3670.0</td>\n",
       "      <td>4.553922</td>\n",
       "      <td>4529000.0</td>\n",
       "      <td>Asia</td>\n",
       "      <td>NaN</td>\n",
       "      <td>Lower middle income</td>\n",
       "    </tr>\n",
       "    <tr>\n",
       "      <th>124</th>\n",
       "      <td>Zambia</td>\n",
       "      <td>ZMB</td>\n",
       "      <td>1580.0</td>\n",
       "      <td>4.041488</td>\n",
       "      <td>15879000.0</td>\n",
       "      <td>Africa</td>\n",
       "      <td>NaN</td>\n",
       "      <td>Lower middle income</td>\n",
       "    </tr>\n",
       "    <tr>\n",
       "      <th>125</th>\n",
       "      <td>Zimbabwe</td>\n",
       "      <td>ZWE</td>\n",
       "      <td>1280.0</td>\n",
       "      <td>3.616480</td>\n",
       "      <td>13815000.0</td>\n",
       "      <td>Africa</td>\n",
       "      <td>NaN</td>\n",
       "      <td>Lower middle income</td>\n",
       "    </tr>\n",
       "  </tbody>\n",
       "</table>\n",
       "<p>126 rows × 8 columns</p>\n",
       "</div>"
      ],
      "text/plain": [
       "                country code  gni_per_capita  life_satisfaction  population  \\\n",
       "0           Afghanistan  AFG           600.0           2.694303  34414000.0   \n",
       "1               Albania  ALB          4390.0           5.004403   2891000.0   \n",
       "2               Algeria  DZA          4850.0           5.043086  39728000.0   \n",
       "3             Argentina  ARG         12570.0           5.792797  43075000.0   \n",
       "4               Armenia  ARM          4010.0           5.062449   2926000.0   \n",
       "..                  ...  ...             ...                ...         ...   \n",
       "121          Uzbekistan  UZB          2600.0           6.205460  30930000.0   \n",
       "122             Vietnam  VNM          1970.0           5.295547  92677000.0   \n",
       "123  West Bank and Gaza  PSE          3670.0           4.553922   4529000.0   \n",
       "124              Zambia  ZMB          1580.0           4.041488  15879000.0   \n",
       "125            Zimbabwe  ZWE          1280.0           3.616480  13815000.0   \n",
       "\n",
       "         continent  workhours         income_level  \n",
       "0             Asia        NaN           Low income  \n",
       "1           Europe        NaN  Upper middle income  \n",
       "2           Africa        NaN  Upper middle income  \n",
       "3    South America  1691.5363          High income  \n",
       "4             Asia        NaN  Lower middle income  \n",
       "..             ...        ...                  ...  \n",
       "121           Asia        NaN  Lower middle income  \n",
       "122           Asia  2169.5916  Lower middle income  \n",
       "123           Asia        NaN  Lower middle income  \n",
       "124         Africa        NaN  Lower middle income  \n",
       "125         Africa        NaN  Lower middle income  \n",
       "\n",
       "[126 rows x 8 columns]"
      ]
     },
     "execution_count": 92,
     "metadata": {},
     "output_type": "execute_result"
    }
   ],
   "source": [
    "satisfaction = pd.read_csv(\"life_satisfaction_clean.csv\")\n",
    "satisfaction"
   ]
  },
  {
   "cell_type": "code",
   "execution_count": 91,
   "metadata": {
    "id": "HwMM4t65JEl1"
   },
   "outputs": [
    {
     "data": {
      "text/html": [
       "<div>\n",
       "<style scoped>\n",
       "    .dataframe tbody tr th:only-of-type {\n",
       "        vertical-align: middle;\n",
       "    }\n",
       "\n",
       "    .dataframe tbody tr th {\n",
       "        vertical-align: top;\n",
       "    }\n",
       "\n",
       "    .dataframe thead th {\n",
       "        text-align: right;\n",
       "    }\n",
       "</style>\n",
       "<table border=\"1\" class=\"dataframe\">\n",
       "  <thead>\n",
       "    <tr style=\"text-align: right;\">\n",
       "      <th></th>\n",
       "      <th>country</th>\n",
       "      <th>code</th>\n",
       "      <th>gni_per_capita</th>\n",
       "      <th>population</th>\n",
       "      <th>continent</th>\n",
       "      <th>top10_share</th>\n",
       "      <th>homicide</th>\n",
       "      <th>life_satisfaction</th>\n",
       "    </tr>\n",
       "  </thead>\n",
       "  <tbody>\n",
       "    <tr>\n",
       "      <th>0</th>\n",
       "      <td>Aruba</td>\n",
       "      <td>ABW</td>\n",
       "      <td>26250.0</td>\n",
       "      <td>104000.0</td>\n",
       "      <td>North America</td>\n",
       "      <td>NaN</td>\n",
       "      <td>NaN</td>\n",
       "      <td>NaN</td>\n",
       "    </tr>\n",
       "    <tr>\n",
       "      <th>1</th>\n",
       "      <td>Afghanistan</td>\n",
       "      <td>AFG</td>\n",
       "      <td>600.0</td>\n",
       "      <td>34414000.0</td>\n",
       "      <td>Asia</td>\n",
       "      <td>NaN</td>\n",
       "      <td>1.546670</td>\n",
       "      <td>2.694303</td>\n",
       "    </tr>\n",
       "    <tr>\n",
       "      <th>2</th>\n",
       "      <td>Angola</td>\n",
       "      <td>AGO</td>\n",
       "      <td>4520.0</td>\n",
       "      <td>27884000.0</td>\n",
       "      <td>Africa</td>\n",
       "      <td>NaN</td>\n",
       "      <td>0.483067</td>\n",
       "      <td>NaN</td>\n",
       "    </tr>\n",
       "    <tr>\n",
       "      <th>3</th>\n",
       "      <td>Albania</td>\n",
       "      <td>ALB</td>\n",
       "      <td>4390.0</td>\n",
       "      <td>2891000.0</td>\n",
       "      <td>Europe</td>\n",
       "      <td>22.9</td>\n",
       "      <td>0.316194</td>\n",
       "      <td>5.004403</td>\n",
       "    </tr>\n",
       "    <tr>\n",
       "      <th>4</th>\n",
       "      <td>Andorra</td>\n",
       "      <td>AND</td>\n",
       "      <td>NaN</td>\n",
       "      <td>78000.0</td>\n",
       "      <td>Europe</td>\n",
       "      <td>NaN</td>\n",
       "      <td>0.100418</td>\n",
       "      <td>NaN</td>\n",
       "    </tr>\n",
       "    <tr>\n",
       "      <th>...</th>\n",
       "      <td>...</td>\n",
       "      <td>...</td>\n",
       "      <td>...</td>\n",
       "      <td>...</td>\n",
       "      <td>...</td>\n",
       "      <td>...</td>\n",
       "      <td>...</td>\n",
       "      <td>...</td>\n",
       "    </tr>\n",
       "    <tr>\n",
       "      <th>197</th>\n",
       "      <td>Vanuatu</td>\n",
       "      <td>VUT</td>\n",
       "      <td>2910.0</td>\n",
       "      <td>271000.0</td>\n",
       "      <td>Oceania</td>\n",
       "      <td>29.1</td>\n",
       "      <td>0.213722</td>\n",
       "      <td>NaN</td>\n",
       "    </tr>\n",
       "    <tr>\n",
       "      <th>198</th>\n",
       "      <td>Samoa</td>\n",
       "      <td>WSM</td>\n",
       "      <td>3960.0</td>\n",
       "      <td>194000.0</td>\n",
       "      <td>Oceania</td>\n",
       "      <td>NaN</td>\n",
       "      <td>0.565338</td>\n",
       "      <td>NaN</td>\n",
       "    </tr>\n",
       "    <tr>\n",
       "      <th>199</th>\n",
       "      <td>South Africa</td>\n",
       "      <td>ZAF</td>\n",
       "      <td>6050.0</td>\n",
       "      <td>55386000.0</td>\n",
       "      <td>Africa</td>\n",
       "      <td>51.3</td>\n",
       "      <td>3.304199</td>\n",
       "      <td>4.883922</td>\n",
       "    </tr>\n",
       "    <tr>\n",
       "      <th>200</th>\n",
       "      <td>Zambia</td>\n",
       "      <td>ZMB</td>\n",
       "      <td>1580.0</td>\n",
       "      <td>15879000.0</td>\n",
       "      <td>Africa</td>\n",
       "      <td>44.4</td>\n",
       "      <td>0.839167</td>\n",
       "      <td>4.041488</td>\n",
       "    </tr>\n",
       "    <tr>\n",
       "      <th>201</th>\n",
       "      <td>Zimbabwe</td>\n",
       "      <td>ZWE</td>\n",
       "      <td>1280.0</td>\n",
       "      <td>13815000.0</td>\n",
       "      <td>Africa</td>\n",
       "      <td>33.8</td>\n",
       "      <td>1.002734</td>\n",
       "      <td>3.616480</td>\n",
       "    </tr>\n",
       "  </tbody>\n",
       "</table>\n",
       "<p>202 rows × 8 columns</p>\n",
       "</div>"
      ],
      "text/plain": [
       "          country code  gni_per_capita  population      continent  \\\n",
       "0           Aruba  ABW         26250.0    104000.0  North America   \n",
       "1     Afghanistan  AFG           600.0  34414000.0           Asia   \n",
       "2          Angola  AGO          4520.0  27884000.0         Africa   \n",
       "3         Albania  ALB          4390.0   2891000.0         Europe   \n",
       "4         Andorra  AND             NaN     78000.0         Europe   \n",
       "..            ...  ...             ...         ...            ...   \n",
       "197       Vanuatu  VUT          2910.0    271000.0        Oceania   \n",
       "198         Samoa  WSM          3960.0    194000.0        Oceania   \n",
       "199  South Africa  ZAF          6050.0  55386000.0         Africa   \n",
       "200        Zambia  ZMB          1580.0  15879000.0         Africa   \n",
       "201      Zimbabwe  ZWE          1280.0  13815000.0         Africa   \n",
       "\n",
       "     top10_share  homicide  life_satisfaction  \n",
       "0            NaN       NaN                NaN  \n",
       "1            NaN  1.546670           2.694303  \n",
       "2            NaN  0.483067                NaN  \n",
       "3           22.9  0.316194           5.004403  \n",
       "4            NaN  0.100418                NaN  \n",
       "..           ...       ...                ...  \n",
       "197         29.1  0.213722                NaN  \n",
       "198          NaN  0.565338                NaN  \n",
       "199         51.3  3.304199           4.883922  \n",
       "200         44.4  0.839167           4.041488  \n",
       "201         33.8  1.002734           3.616480  \n",
       "\n",
       "[202 rows x 8 columns]"
      ]
     },
     "execution_count": 91,
     "metadata": {},
     "output_type": "execute_result"
    }
   ],
   "source": [
    "df = homicide.merge(satisfaction[[\"code\", \"life_satisfaction\"]], on=\"code\", how=\"left\")\n",
    "df"
   ]
  },
  {
   "cell_type": "markdown",
   "metadata": {
    "id": "Nb_h-q32J6wL"
   },
   "source": [
    "Group your countries into 5 quantiles according to their life satisfaction and print out the mean, median, minimum and maximum homicide rate for each group. "
   ]
  },
  {
   "cell_type": "code",
   "execution_count": 93,
   "metadata": {
    "id": "KK9sX81bKcCd"
   },
   "outputs": [
    {
     "data": {
      "text/html": [
       "<div>\n",
       "<style scoped>\n",
       "    .dataframe tbody tr th:only-of-type {\n",
       "        vertical-align: middle;\n",
       "    }\n",
       "\n",
       "    .dataframe tbody tr th {\n",
       "        vertical-align: top;\n",
       "    }\n",
       "\n",
       "    .dataframe thead th {\n",
       "        text-align: right;\n",
       "    }\n",
       "</style>\n",
       "<table border=\"1\" class=\"dataframe\">\n",
       "  <thead>\n",
       "    <tr style=\"text-align: right;\">\n",
       "      <th></th>\n",
       "      <th>country</th>\n",
       "      <th>code</th>\n",
       "      <th>gni_per_capita</th>\n",
       "      <th>population</th>\n",
       "      <th>continent</th>\n",
       "      <th>top10_share</th>\n",
       "      <th>homicide</th>\n",
       "      <th>life_satisfaction</th>\n",
       "      <th>quantile</th>\n",
       "    </tr>\n",
       "  </thead>\n",
       "  <tbody>\n",
       "    <tr>\n",
       "      <th>0</th>\n",
       "      <td>Aruba</td>\n",
       "      <td>ABW</td>\n",
       "      <td>26250.0</td>\n",
       "      <td>104000.0</td>\n",
       "      <td>North America</td>\n",
       "      <td>NaN</td>\n",
       "      <td>NaN</td>\n",
       "      <td>NaN</td>\n",
       "      <td>NaN</td>\n",
       "    </tr>\n",
       "    <tr>\n",
       "      <th>1</th>\n",
       "      <td>Afghanistan</td>\n",
       "      <td>AFG</td>\n",
       "      <td>600.0</td>\n",
       "      <td>34414000.0</td>\n",
       "      <td>Asia</td>\n",
       "      <td>NaN</td>\n",
       "      <td>1.546670</td>\n",
       "      <td>2.694303</td>\n",
       "      <td>0.0</td>\n",
       "    </tr>\n",
       "    <tr>\n",
       "      <th>2</th>\n",
       "      <td>Angola</td>\n",
       "      <td>AGO</td>\n",
       "      <td>4520.0</td>\n",
       "      <td>27884000.0</td>\n",
       "      <td>Africa</td>\n",
       "      <td>NaN</td>\n",
       "      <td>0.483067</td>\n",
       "      <td>NaN</td>\n",
       "      <td>NaN</td>\n",
       "    </tr>\n",
       "    <tr>\n",
       "      <th>3</th>\n",
       "      <td>Albania</td>\n",
       "      <td>ALB</td>\n",
       "      <td>4390.0</td>\n",
       "      <td>2891000.0</td>\n",
       "      <td>Europe</td>\n",
       "      <td>22.9</td>\n",
       "      <td>0.316194</td>\n",
       "      <td>5.004403</td>\n",
       "      <td>1.0</td>\n",
       "    </tr>\n",
       "    <tr>\n",
       "      <th>4</th>\n",
       "      <td>Andorra</td>\n",
       "      <td>AND</td>\n",
       "      <td>NaN</td>\n",
       "      <td>78000.0</td>\n",
       "      <td>Europe</td>\n",
       "      <td>NaN</td>\n",
       "      <td>0.100418</td>\n",
       "      <td>NaN</td>\n",
       "      <td>NaN</td>\n",
       "    </tr>\n",
       "    <tr>\n",
       "      <th>...</th>\n",
       "      <td>...</td>\n",
       "      <td>...</td>\n",
       "      <td>...</td>\n",
       "      <td>...</td>\n",
       "      <td>...</td>\n",
       "      <td>...</td>\n",
       "      <td>...</td>\n",
       "      <td>...</td>\n",
       "      <td>...</td>\n",
       "    </tr>\n",
       "    <tr>\n",
       "      <th>197</th>\n",
       "      <td>Vanuatu</td>\n",
       "      <td>VUT</td>\n",
       "      <td>2910.0</td>\n",
       "      <td>271000.0</td>\n",
       "      <td>Oceania</td>\n",
       "      <td>29.1</td>\n",
       "      <td>0.213722</td>\n",
       "      <td>NaN</td>\n",
       "      <td>NaN</td>\n",
       "    </tr>\n",
       "    <tr>\n",
       "      <th>198</th>\n",
       "      <td>Samoa</td>\n",
       "      <td>WSM</td>\n",
       "      <td>3960.0</td>\n",
       "      <td>194000.0</td>\n",
       "      <td>Oceania</td>\n",
       "      <td>NaN</td>\n",
       "      <td>0.565338</td>\n",
       "      <td>NaN</td>\n",
       "      <td>NaN</td>\n",
       "    </tr>\n",
       "    <tr>\n",
       "      <th>199</th>\n",
       "      <td>South Africa</td>\n",
       "      <td>ZAF</td>\n",
       "      <td>6050.0</td>\n",
       "      <td>55386000.0</td>\n",
       "      <td>Africa</td>\n",
       "      <td>51.3</td>\n",
       "      <td>3.304199</td>\n",
       "      <td>4.883922</td>\n",
       "      <td>1.0</td>\n",
       "    </tr>\n",
       "    <tr>\n",
       "      <th>200</th>\n",
       "      <td>Zambia</td>\n",
       "      <td>ZMB</td>\n",
       "      <td>1580.0</td>\n",
       "      <td>15879000.0</td>\n",
       "      <td>Africa</td>\n",
       "      <td>44.4</td>\n",
       "      <td>0.839167</td>\n",
       "      <td>4.041488</td>\n",
       "      <td>0.0</td>\n",
       "    </tr>\n",
       "    <tr>\n",
       "      <th>201</th>\n",
       "      <td>Zimbabwe</td>\n",
       "      <td>ZWE</td>\n",
       "      <td>1280.0</td>\n",
       "      <td>13815000.0</td>\n",
       "      <td>Africa</td>\n",
       "      <td>33.8</td>\n",
       "      <td>1.002734</td>\n",
       "      <td>3.616480</td>\n",
       "      <td>0.0</td>\n",
       "    </tr>\n",
       "  </tbody>\n",
       "</table>\n",
       "<p>202 rows × 9 columns</p>\n",
       "</div>"
      ],
      "text/plain": [
       "          country code  gni_per_capita  population      continent  \\\n",
       "0           Aruba  ABW         26250.0    104000.0  North America   \n",
       "1     Afghanistan  AFG           600.0  34414000.0           Asia   \n",
       "2          Angola  AGO          4520.0  27884000.0         Africa   \n",
       "3         Albania  ALB          4390.0   2891000.0         Europe   \n",
       "4         Andorra  AND             NaN     78000.0         Europe   \n",
       "..            ...  ...             ...         ...            ...   \n",
       "197       Vanuatu  VUT          2910.0    271000.0        Oceania   \n",
       "198         Samoa  WSM          3960.0    194000.0        Oceania   \n",
       "199  South Africa  ZAF          6050.0  55386000.0         Africa   \n",
       "200        Zambia  ZMB          1580.0  15879000.0         Africa   \n",
       "201      Zimbabwe  ZWE          1280.0  13815000.0         Africa   \n",
       "\n",
       "     top10_share  homicide  life_satisfaction  quantile  \n",
       "0            NaN       NaN                NaN       NaN  \n",
       "1            NaN  1.546670           2.694303       0.0  \n",
       "2            NaN  0.483067                NaN       NaN  \n",
       "3           22.9  0.316194           5.004403       1.0  \n",
       "4            NaN  0.100418                NaN       NaN  \n",
       "..           ...       ...                ...       ...  \n",
       "197         29.1  0.213722                NaN       NaN  \n",
       "198          NaN  0.565338                NaN       NaN  \n",
       "199         51.3  3.304199           4.883922       1.0  \n",
       "200         44.4  0.839167           4.041488       0.0  \n",
       "201         33.8  1.002734           3.616480       0.0  \n",
       "\n",
       "[202 rows x 9 columns]"
      ]
     },
     "execution_count": 93,
     "metadata": {},
     "output_type": "execute_result"
    }
   ],
   "source": [
    "df[\"quantile\"] = pd.qcut(df[\"life_satisfaction\"], 5, False)\n",
    "df"
   ]
  },
  {
   "cell_type": "code",
   "execution_count": 95,
   "metadata": {
    "id": "IG2ScnOVLCP2"
   },
   "outputs": [
    {
     "data": {
      "text/html": [
       "<div>\n",
       "<style scoped>\n",
       "    .dataframe tbody tr th:only-of-type {\n",
       "        vertical-align: middle;\n",
       "    }\n",
       "\n",
       "    .dataframe tbody tr th {\n",
       "        vertical-align: top;\n",
       "    }\n",
       "\n",
       "    .dataframe thead th {\n",
       "        text-align: right;\n",
       "    }\n",
       "</style>\n",
       "<table border=\"1\" class=\"dataframe\">\n",
       "  <thead>\n",
       "    <tr style=\"text-align: right;\">\n",
       "      <th></th>\n",
       "      <th>mean</th>\n",
       "      <th>median</th>\n",
       "      <th>min</th>\n",
       "      <th>max</th>\n",
       "    </tr>\n",
       "    <tr>\n",
       "      <th>quantile</th>\n",
       "      <th></th>\n",
       "      <th></th>\n",
       "      <th></th>\n",
       "      <th></th>\n",
       "    </tr>\n",
       "  </thead>\n",
       "  <tbody>\n",
       "    <tr>\n",
       "      <th>0.0</th>\n",
       "      <td>0.845665</td>\n",
       "      <td>0.635328</td>\n",
       "      <td>0.076084</td>\n",
       "      <td>2.604220</td>\n",
       "    </tr>\n",
       "    <tr>\n",
       "      <th>1.0</th>\n",
       "      <td>0.700622</td>\n",
       "      <td>0.492465</td>\n",
       "      <td>0.101157</td>\n",
       "      <td>3.304199</td>\n",
       "    </tr>\n",
       "    <tr>\n",
       "      <th>2.0</th>\n",
       "      <td>0.795891</td>\n",
       "      <td>0.537163</td>\n",
       "      <td>0.052011</td>\n",
       "      <td>3.499262</td>\n",
       "    </tr>\n",
       "    <tr>\n",
       "      <th>3.0</th>\n",
       "      <td>1.709399</td>\n",
       "      <td>0.419169</td>\n",
       "      <td>0.079577</td>\n",
       "      <td>9.343013</td>\n",
       "    </tr>\n",
       "    <tr>\n",
       "      <th>4.0</th>\n",
       "      <td>0.753867</td>\n",
       "      <td>0.132571</td>\n",
       "      <td>0.058398</td>\n",
       "      <td>6.949676</td>\n",
       "    </tr>\n",
       "  </tbody>\n",
       "</table>\n",
       "</div>"
      ],
      "text/plain": [
       "              mean    median       min       max\n",
       "quantile                                        \n",
       "0.0       0.845665  0.635328  0.076084  2.604220\n",
       "1.0       0.700622  0.492465  0.101157  3.304199\n",
       "2.0       0.795891  0.537163  0.052011  3.499262\n",
       "3.0       1.709399  0.419169  0.079577  9.343013\n",
       "4.0       0.753867  0.132571  0.058398  6.949676"
      ]
     },
     "execution_count": 95,
     "metadata": {},
     "output_type": "execute_result"
    }
   ],
   "source": [
    "df.groupby(\"quantile\")[\"homicide\"].agg([\"mean\", \"median\", \"min\", \"max\"])"
   ]
  },
  {
   "cell_type": "markdown",
   "metadata": {
    "id": "I5fGuENsxWXa"
   },
   "source": [
    "## Exercise 5"
   ]
  },
  {
   "cell_type": "markdown",
   "metadata": {
    "id": "EXXj82VlMWg4"
   },
   "source": [
    "Read in the file: ``real-gdp-per-capita.csv``. You will have to specifiy a few parameters to make sure this works properly. Try to read in the data in a way that requires only mimimal (or no) additional cleaning afterwards."
   ]
  },
  {
   "cell_type": "code",
   "execution_count": 101,
   "metadata": {
    "id": "v-FXgmYZMtGx"
   },
   "outputs": [
    {
     "data": {
      "text/html": [
       "<div>\n",
       "<style scoped>\n",
       "    .dataframe tbody tr th:only-of-type {\n",
       "        vertical-align: middle;\n",
       "    }\n",
       "\n",
       "    .dataframe tbody tr th {\n",
       "        vertical-align: top;\n",
       "    }\n",
       "\n",
       "    .dataframe thead th {\n",
       "        text-align: right;\n",
       "    }\n",
       "</style>\n",
       "<table border=\"1\" class=\"dataframe\">\n",
       "  <thead>\n",
       "    <tr style=\"text-align: right;\">\n",
       "      <th></th>\n",
       "      <th>country</th>\n",
       "      <th>code</th>\n",
       "      <th>year</th>\n",
       "      <th>gdp_per_capita</th>\n",
       "    </tr>\n",
       "  </thead>\n",
       "  <tbody>\n",
       "    <tr>\n",
       "      <th>0</th>\n",
       "      <td>Albania</td>\n",
       "      <td>ALB</td>\n",
       "      <td>1970</td>\n",
       "      <td>2828.0728</td>\n",
       "    </tr>\n",
       "    <tr>\n",
       "      <th>1</th>\n",
       "      <td>Albania</td>\n",
       "      <td>ALB</td>\n",
       "      <td>1971</td>\n",
       "      <td>2869.7212</td>\n",
       "    </tr>\n",
       "    <tr>\n",
       "      <th>2</th>\n",
       "      <td>Albania</td>\n",
       "      <td>ALB</td>\n",
       "      <td>1972</td>\n",
       "      <td>2919.5935</td>\n",
       "    </tr>\n",
       "    <tr>\n",
       "      <th>3</th>\n",
       "      <td>Albania</td>\n",
       "      <td>ALB</td>\n",
       "      <td>1973</td>\n",
       "      <td>2968.1025</td>\n",
       "    </tr>\n",
       "    <tr>\n",
       "      <th>4</th>\n",
       "      <td>Albania</td>\n",
       "      <td>ALB</td>\n",
       "      <td>1974</td>\n",
       "      <td>3024.6765</td>\n",
       "    </tr>\n",
       "    <tr>\n",
       "      <th>...</th>\n",
       "      <td>...</td>\n",
       "      <td>...</td>\n",
       "      <td>...</td>\n",
       "      <td>...</td>\n",
       "    </tr>\n",
       "    <tr>\n",
       "      <th>9980</th>\n",
       "      <td>Zimbabwe</td>\n",
       "      <td>ZWE</td>\n",
       "      <td>2013</td>\n",
       "      <td>1881.8159</td>\n",
       "    </tr>\n",
       "    <tr>\n",
       "      <th>9981</th>\n",
       "      <td>Zimbabwe</td>\n",
       "      <td>ZWE</td>\n",
       "      <td>2014</td>\n",
       "      <td>1904.7742</td>\n",
       "    </tr>\n",
       "    <tr>\n",
       "      <th>9982</th>\n",
       "      <td>Zimbabwe</td>\n",
       "      <td>ZWE</td>\n",
       "      <td>2015</td>\n",
       "      <td>1847.6211</td>\n",
       "    </tr>\n",
       "    <tr>\n",
       "      <th>9983</th>\n",
       "      <td>Zimbabwe</td>\n",
       "      <td>ZWE</td>\n",
       "      <td>2016</td>\n",
       "      <td>1821.6588</td>\n",
       "    </tr>\n",
       "    <tr>\n",
       "      <th>9984</th>\n",
       "      <td>Zimbabwe</td>\n",
       "      <td>ZWE</td>\n",
       "      <td>2017</td>\n",
       "      <td>1871.8087</td>\n",
       "    </tr>\n",
       "  </tbody>\n",
       "</table>\n",
       "<p>9985 rows × 4 columns</p>\n",
       "</div>"
      ],
      "text/plain": [
       "       country code  year  gdp_per_capita\n",
       "0      Albania  ALB  1970       2828.0728\n",
       "1      Albania  ALB  1971       2869.7212\n",
       "2      Albania  ALB  1972       2919.5935\n",
       "3      Albania  ALB  1973       2968.1025\n",
       "4      Albania  ALB  1974       3024.6765\n",
       "...        ...  ...   ...             ...\n",
       "9980  Zimbabwe  ZWE  2013       1881.8159\n",
       "9981  Zimbabwe  ZWE  2014       1904.7742\n",
       "9982  Zimbabwe  ZWE  2015       1847.6211\n",
       "9983  Zimbabwe  ZWE  2016       1821.6588\n",
       "9984  Zimbabwe  ZWE  2017       1871.8087\n",
       "\n",
       "[9985 rows x 4 columns]"
      ]
     },
     "execution_count": 101,
     "metadata": {},
     "output_type": "execute_result"
    }
   ],
   "source": [
    "real_gdp_per_capita = pd.read_csv(\"real-gdp-per-capita.csv\")\n",
    "real_gdp_per_capita"
   ]
  },
  {
   "cell_type": "markdown",
   "metadata": {
    "id": "BekFXliPSY6S"
   },
   "source": [
    "You would like to look at the GDP growth by continent. Merge your gdp data with the ``continent`` column from the dataset in the previous exercise. What kind of join did you perform?"
   ]
  },
  {
   "cell_type": "code",
   "execution_count": 102,
   "metadata": {
    "id": "jHzJTHByOtt3"
   },
   "outputs": [
    {
     "data": {
      "text/html": [
       "<div>\n",
       "<style scoped>\n",
       "    .dataframe tbody tr th:only-of-type {\n",
       "        vertical-align: middle;\n",
       "    }\n",
       "\n",
       "    .dataframe tbody tr th {\n",
       "        vertical-align: top;\n",
       "    }\n",
       "\n",
       "    .dataframe thead th {\n",
       "        text-align: right;\n",
       "    }\n",
       "</style>\n",
       "<table border=\"1\" class=\"dataframe\">\n",
       "  <thead>\n",
       "    <tr style=\"text-align: right;\">\n",
       "      <th></th>\n",
       "      <th>country</th>\n",
       "      <th>code</th>\n",
       "      <th>year</th>\n",
       "      <th>gdp_per_capita</th>\n",
       "      <th>continent</th>\n",
       "    </tr>\n",
       "  </thead>\n",
       "  <tbody>\n",
       "    <tr>\n",
       "      <th>0</th>\n",
       "      <td>Albania</td>\n",
       "      <td>ALB</td>\n",
       "      <td>1970</td>\n",
       "      <td>2828.0728</td>\n",
       "      <td>Europe</td>\n",
       "    </tr>\n",
       "    <tr>\n",
       "      <th>1</th>\n",
       "      <td>Albania</td>\n",
       "      <td>ALB</td>\n",
       "      <td>1971</td>\n",
       "      <td>2869.7212</td>\n",
       "      <td>Europe</td>\n",
       "    </tr>\n",
       "    <tr>\n",
       "      <th>2</th>\n",
       "      <td>Albania</td>\n",
       "      <td>ALB</td>\n",
       "      <td>1972</td>\n",
       "      <td>2919.5935</td>\n",
       "      <td>Europe</td>\n",
       "    </tr>\n",
       "    <tr>\n",
       "      <th>3</th>\n",
       "      <td>Albania</td>\n",
       "      <td>ALB</td>\n",
       "      <td>1973</td>\n",
       "      <td>2968.1025</td>\n",
       "      <td>Europe</td>\n",
       "    </tr>\n",
       "    <tr>\n",
       "      <th>4</th>\n",
       "      <td>Albania</td>\n",
       "      <td>ALB</td>\n",
       "      <td>1974</td>\n",
       "      <td>3024.6765</td>\n",
       "      <td>Europe</td>\n",
       "    </tr>\n",
       "    <tr>\n",
       "      <th>...</th>\n",
       "      <td>...</td>\n",
       "      <td>...</td>\n",
       "      <td>...</td>\n",
       "      <td>...</td>\n",
       "      <td>...</td>\n",
       "    </tr>\n",
       "    <tr>\n",
       "      <th>9980</th>\n",
       "      <td>Zimbabwe</td>\n",
       "      <td>ZWE</td>\n",
       "      <td>2013</td>\n",
       "      <td>1881.8159</td>\n",
       "      <td>Africa</td>\n",
       "    </tr>\n",
       "    <tr>\n",
       "      <th>9981</th>\n",
       "      <td>Zimbabwe</td>\n",
       "      <td>ZWE</td>\n",
       "      <td>2014</td>\n",
       "      <td>1904.7742</td>\n",
       "      <td>Africa</td>\n",
       "    </tr>\n",
       "    <tr>\n",
       "      <th>9982</th>\n",
       "      <td>Zimbabwe</td>\n",
       "      <td>ZWE</td>\n",
       "      <td>2015</td>\n",
       "      <td>1847.6211</td>\n",
       "      <td>Africa</td>\n",
       "    </tr>\n",
       "    <tr>\n",
       "      <th>9983</th>\n",
       "      <td>Zimbabwe</td>\n",
       "      <td>ZWE</td>\n",
       "      <td>2016</td>\n",
       "      <td>1821.6588</td>\n",
       "      <td>Africa</td>\n",
       "    </tr>\n",
       "    <tr>\n",
       "      <th>9984</th>\n",
       "      <td>Zimbabwe</td>\n",
       "      <td>ZWE</td>\n",
       "      <td>2017</td>\n",
       "      <td>1871.8087</td>\n",
       "      <td>Africa</td>\n",
       "    </tr>\n",
       "  </tbody>\n",
       "</table>\n",
       "<p>9985 rows × 5 columns</p>\n",
       "</div>"
      ],
      "text/plain": [
       "       country code  year  gdp_per_capita continent\n",
       "0      Albania  ALB  1970       2828.0728    Europe\n",
       "1      Albania  ALB  1971       2869.7212    Europe\n",
       "2      Albania  ALB  1972       2919.5935    Europe\n",
       "3      Albania  ALB  1973       2968.1025    Europe\n",
       "4      Albania  ALB  1974       3024.6765    Europe\n",
       "...        ...  ...   ...             ...       ...\n",
       "9980  Zimbabwe  ZWE  2013       1881.8159    Africa\n",
       "9981  Zimbabwe  ZWE  2014       1904.7742    Africa\n",
       "9982  Zimbabwe  ZWE  2015       1847.6211    Africa\n",
       "9983  Zimbabwe  ZWE  2016       1821.6588    Africa\n",
       "9984  Zimbabwe  ZWE  2017       1871.8087    Africa\n",
       "\n",
       "[9985 rows x 5 columns]"
      ]
     },
     "execution_count": 102,
     "metadata": {},
     "output_type": "execute_result"
    }
   ],
   "source": [
    "real_gdp_per_capita = real_gdp_per_capita.merge(df[[\"code\", \"continent\"]], \"left\", \"code\")\n",
    "real_gdp_per_capita"
   ]
  },
  {
   "cell_type": "markdown",
   "metadata": {
    "id": "8qymKfgzV-r9"
   },
   "source": [
    "Create a dataframe with the per-capita income growth (between 1950 and 2017) of the median country on each continent. The dataframe should have a row for each continent and a column with the respective growth rate. On which continent did the typical country fare best/worst?\n",
    "<font color='violet'>\n",
    "Hints: <font color='white'> You may need to group and reshape your data. If you keep only the years 1950 and 2017 before reshaping, your  dataset will be more compact."
   ]
  },
  {
   "cell_type": "code",
   "execution_count": null,
   "metadata": {
    "id": "LbTOGwK0XYDn"
   },
   "outputs": [
    {
     "ename": "ValueError",
     "evalue": "The truth value of a Series is ambiguous. Use a.empty, a.bool(), a.item(), a.any() or a.all().",
     "output_type": "error",
     "traceback": [
      "\u001b[1;31m---------------------------------------------------------------------------\u001b[0m",
      "\u001b[1;31mValueError\u001b[0m                                Traceback (most recent call last)",
      "\u001b[1;32m~\\AppData\\Local\\Temp\\ipykernel_37500\\2367784742.py\u001b[0m in \u001b[0;36m?\u001b[1;34m()\u001b[0m\n\u001b[1;32m----> 1\u001b[1;33m \u001b[0mincome_growth\u001b[0m \u001b[1;33m=\u001b[0m \u001b[0mreal_gdp_per_capita\u001b[0m\u001b[1;33m[\u001b[0m\u001b[1;33m(\u001b[0m\u001b[0mreal_gdp_per_capita\u001b[0m\u001b[1;33m[\u001b[0m\u001b[1;34m\"year\"\u001b[0m\u001b[1;33m]\u001b[0m \u001b[1;33m==\u001b[0m \u001b[1;36m2017\u001b[0m\u001b[1;33m)\u001b[0m \u001b[1;32mor\u001b[0m \u001b[1;33m(\u001b[0m\u001b[0mreal_gdp_per_capita\u001b[0m\u001b[1;33m[\u001b[0m\u001b[1;34m\"year\"\u001b[0m\u001b[1;33m]\u001b[0m \u001b[1;33m==\u001b[0m \u001b[1;36m1950\u001b[0m\u001b[1;33m)\u001b[0m\u001b[1;33m]\u001b[0m\u001b[1;33m\u001b[0m\u001b[1;33m\u001b[0m\u001b[0m\n\u001b[0m\u001b[0;32m      2\u001b[0m \u001b[0mincome_growth\u001b[0m\u001b[1;33m\u001b[0m\u001b[1;33m\u001b[0m\u001b[0m\n",
      "\u001b[1;32m~\\AppData\\Local\\Packages\\PythonSoftwareFoundation.Python.3.10_qbz5n2kfra8p0\\LocalCache\\local-packages\\Python310\\site-packages\\pandas\\core\\generic.py\u001b[0m in \u001b[0;36m?\u001b[1;34m(self)\u001b[0m\n\u001b[0;32m   1575\u001b[0m     \u001b[1;33m@\u001b[0m\u001b[0mfinal\u001b[0m\u001b[1;33m\u001b[0m\u001b[1;33m\u001b[0m\u001b[0m\n\u001b[0;32m   1576\u001b[0m     \u001b[1;32mdef\u001b[0m \u001b[0m__nonzero__\u001b[0m\u001b[1;33m(\u001b[0m\u001b[0mself\u001b[0m\u001b[1;33m)\u001b[0m \u001b[1;33m->\u001b[0m \u001b[0mNoReturn\u001b[0m\u001b[1;33m:\u001b[0m\u001b[1;33m\u001b[0m\u001b[1;33m\u001b[0m\u001b[0m\n\u001b[1;32m-> 1577\u001b[1;33m         raise ValueError(\n\u001b[0m\u001b[0;32m   1578\u001b[0m             \u001b[1;34mf\"The truth value of a {type(self).__name__} is ambiguous. \"\u001b[0m\u001b[1;33m\u001b[0m\u001b[1;33m\u001b[0m\u001b[0m\n\u001b[0;32m   1579\u001b[0m             \u001b[1;34m\"Use a.empty, a.bool(), a.item(), a.any() or a.all().\"\u001b[0m\u001b[1;33m\u001b[0m\u001b[1;33m\u001b[0m\u001b[0m\n\u001b[0;32m   1580\u001b[0m         )\n",
      "\u001b[1;31mValueError\u001b[0m: The truth value of a Series is ambiguous. Use a.empty, a.bool(), a.item(), a.any() or a.all()."
     ]
    }
   ],
   "source": [
    "income_growth = real_gdp_per_capita[(real_gdp_per_capita[\"year\"] == 2017) | (real_gdp_per_capita[\"year\"] == 1950)]\n",
    "income_growth"
   ]
  },
  {
   "cell_type": "code",
   "execution_count": null,
   "metadata": {
    "id": "vs0KVR9IXxeN"
   },
   "outputs": [],
   "source": []
  },
  {
   "cell_type": "code",
   "execution_count": null,
   "metadata": {
    "id": "09XpF3quYdg8"
   },
   "outputs": [],
   "source": []
  },
  {
   "cell_type": "code",
   "execution_count": null,
   "metadata": {
    "id": "5gvQEgk10cVx"
   },
   "outputs": [],
   "source": []
  },
  {
   "cell_type": "code",
   "execution_count": null,
   "metadata": {
    "id": "CyOhrqFy_MQY"
   },
   "outputs": [],
   "source": []
  }
 ],
 "metadata": {
  "colab": {
   "provenance": [],
   "toc_visible": true
  },
  "kernelspec": {
   "display_name": "Python 3",
   "name": "python3"
  },
  "language_info": {
   "codemirror_mode": {
    "name": "ipython",
    "version": 3
   },
   "file_extension": ".py",
   "mimetype": "text/x-python",
   "name": "python",
   "nbconvert_exporter": "python",
   "pygments_lexer": "ipython3",
   "version": "3.10.11"
  }
 },
 "nbformat": 4,
 "nbformat_minor": 0
}
