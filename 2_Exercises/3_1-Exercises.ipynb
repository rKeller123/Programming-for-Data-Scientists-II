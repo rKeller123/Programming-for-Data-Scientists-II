{
 "cells": [
  {
   "cell_type": "markdown",
   "metadata": {
    "id": "U3zPuM3zuwFT"
   },
   "source": [
    "### Web Scraping##\n",
    "#Exercises#"
   ]
  },
  {
   "cell_type": "markdown",
   "metadata": {
    "id": "ihjiiXFWCoOL"
   },
   "source": [
    "\n",
    "\n",
    "---\n",
    "\n",
    "\n",
    "<font color='violet'>\n",
    "Hints are written in white, so you do not see them immediately. If you highlight them (or double-click on them), they will appear!\n",
    "<font color='white'> I am a hint! :-)\n",
    "\n",
    "\n",
    "---\n"
   ]
  },
  {
   "cell_type": "markdown",
   "metadata": {
    "id": "fTXm4BjVXSwH"
   },
   "source": [
    "### Exercise 1"
   ]
  },
  {
   "cell_type": "markdown",
   "metadata": {
    "id": "4LigdyQsguzj"
   },
   "source": [
    "Import the ``requests`` library, the ``BeautifulSoup`` library and the ``pandas`` library."
   ]
  },
  {
   "cell_type": "code",
   "execution_count": 1,
   "metadata": {
    "id": "OP6Rw0trhTGl"
   },
   "outputs": [],
   "source": [
    "import requests\n",
    "from bs4 import BeautifulSoup\n",
    "import pandas as pd"
   ]
  },
  {
   "cell_type": "markdown",
   "metadata": {
    "id": "ikjlp_1mhiQT"
   },
   "source": [
    "Using the ``requests`` library, retrieve the example page (http://farys.org/daten/example-page.html) and assign the response object to a variable named ``exR``. Print out the status code. You will get a  number. What does it mean?"
   ]
  },
  {
   "cell_type": "code",
   "execution_count": 2,
   "metadata": {
    "id": "ipgty3mXi5JE"
   },
   "outputs": [
    {
     "data": {
      "text/plain": [
       "200"
      ]
     },
     "execution_count": 2,
     "metadata": {},
     "output_type": "execute_result"
    }
   ],
   "source": [
    "# Solution:\n",
    "\n",
    "exR = requests.get(\"http://farys.org/daten/example-page.html\")\n",
    "exR.status_code"
   ]
  },
  {
   "cell_type": "markdown",
   "metadata": {
    "id": "2upIicTWjvAi"
   },
   "source": [
    "Now print out the text of the response."
   ]
  },
  {
   "cell_type": "code",
   "execution_count": 3,
   "metadata": {
    "id": "AI3TosUojy1x"
   },
   "outputs": [
    {
     "name": "stdout",
     "output_type": "stream",
     "text": [
      "<!DOCTYPE html>\n",
      "<html lang=\"en\">\n",
      "<head>\n",
      "<title>Example web page on famous cats</title>\n",
      "<meta content=\"Martina Jakob and Sebastian Heinrich\" name=\"author\"/>\n",
      "<meta content=\"Example web page for Data Science Tutorial\" name=\"description\"/>\n",
      "</head>\n",
      "<body>\n",
      "<h1>Famous cats</h1>\n",
      "<p>This is a website about famous cats. </p><p>\n",
      "</p><h2>Why cats?</h2>\n",
      "<p> Cats are great animals! There are also many excellent web pages related to cats. \n",
      "Check out this one:\n",
      "<a href=\"https://bongo.cat/\" target=\"_blank\">Bongo Cat</a></p>\n",
      "<h2>What are the most famous cats?</h2>\n",
      "<p>Unsurprisingly, many outstanding cats have shaped the course of human history. This table shows a few of them: </p><p>\n",
      "</p><table class=\"cat_table\" id=\"famous_cats_table\">\n",
      "<thead>\n",
      "<tr>\n",
      "<th>Name</th>\n",
      "<th>Achievement</th>\n",
      "</tr>\n",
      "</thead>\n",
      "<tbody>\n",
      "<tr>\n",
      "<td><a href=\"https://en.wikipedia.org/wiki/F%C3%A9licette\">Felicette</a></td>\n",
      "<td>First cat launched into space</td>\n",
      "</tr>\n",
      "<tr>\n",
      "<td><a href=\"https://en.wikipedia.org/wiki/India_(cat)\">India \"Willie\" Bush</a></td>\n",
      "<td>US President George W. Bush's cat</td>\n",
      "</tr>\n",
      "<tr>\n",
      "<td><a href=\"https://en.wikipedia.org/wiki/Meow_(cat)\">Meow</a></td>\n",
      "<td>The world's heaviest cat</td>\n",
      "</tr>\n",
      "<tr>\n",
      "<td><a href=\"https://en.wikipedia.org/wiki/Creme_Puff_(cat)\">Creme Puff</a></td>\n",
      "<td>The world's oldest cat </td>\n",
      "</tr>\n",
      "</tbody>\n",
      "</table>\n",
      "</body>\n",
      "</html>\n"
     ]
    }
   ],
   "source": [
    "# Solution:\n",
    "print(exR.text)"
   ]
  },
  {
   "cell_type": "markdown",
   "metadata": {
    "id": "MrppfJNNks2D"
   },
   "source": [
    "### Exercise 2"
   ]
  },
  {
   "cell_type": "markdown",
   "metadata": {
    "id": "4EvpnIcBlxbK"
   },
   "source": [
    "Using ``BeautifulSoup``, parse the text of your response object and assign the result to a variable called ``mySoup``."
   ]
  },
  {
   "cell_type": "code",
   "execution_count": 4,
   "metadata": {
    "id": "lBCQksmamxtn"
   },
   "outputs": [],
   "source": [
    "# Solution:\n",
    "mySoup = BeautifulSoup(exR.text)"
   ]
  },
  {
   "cell_type": "markdown",
   "metadata": {
    "id": "vAMXMHCBmdzu"
   },
   "source": [
    "Print the content of your soup object."
   ]
  },
  {
   "cell_type": "code",
   "execution_count": 5,
   "metadata": {
    "id": "wcDEhu4QmyfF"
   },
   "outputs": [
    {
     "data": {
      "text/plain": [
       "<!DOCTYPE html>\n",
       "<html lang=\"en\">\n",
       "<head>\n",
       "<title>Example web page on famous cats</title>\n",
       "<meta content=\"Martina Jakob and Sebastian Heinrich\" name=\"author\"/>\n",
       "<meta content=\"Example web page for Data Science Tutorial\" name=\"description\"/>\n",
       "</head>\n",
       "<body>\n",
       "<h1>Famous cats</h1>\n",
       "<p>This is a website about famous cats. </p><p>\n",
       "</p><h2>Why cats?</h2>\n",
       "<p> Cats are great animals! There are also many excellent web pages related to cats. \n",
       "Check out this one:\n",
       "<a href=\"https://bongo.cat/\" target=\"_blank\">Bongo Cat</a></p>\n",
       "<h2>What are the most famous cats?</h2>\n",
       "<p>Unsurprisingly, many outstanding cats have shaped the course of human history. This table shows a few of them: </p><p>\n",
       "</p><table class=\"cat_table\" id=\"famous_cats_table\">\n",
       "<thead>\n",
       "<tr>\n",
       "<th>Name</th>\n",
       "<th>Achievement</th>\n",
       "</tr>\n",
       "</thead>\n",
       "<tbody>\n",
       "<tr>\n",
       "<td><a href=\"https://en.wikipedia.org/wiki/F%C3%A9licette\">Felicette</a></td>\n",
       "<td>First cat launched into space</td>\n",
       "</tr>\n",
       "<tr>\n",
       "<td><a href=\"https://en.wikipedia.org/wiki/India_(cat)\">India \"Willie\" Bush</a></td>\n",
       "<td>US President George W. Bush's cat</td>\n",
       "</tr>\n",
       "<tr>\n",
       "<td><a href=\"https://en.wikipedia.org/wiki/Meow_(cat)\">Meow</a></td>\n",
       "<td>The world's heaviest cat</td>\n",
       "</tr>\n",
       "<tr>\n",
       "<td><a href=\"https://en.wikipedia.org/wiki/Creme_Puff_(cat)\">Creme Puff</a></td>\n",
       "<td>The world's oldest cat </td>\n",
       "</tr>\n",
       "</tbody>\n",
       "</table>\n",
       "</body>\n",
       "</html>"
      ]
     },
     "execution_count": 5,
     "metadata": {},
     "output_type": "execute_result"
    }
   ],
   "source": [
    "# Solution:\n",
    "mySoup"
   ]
  },
  {
   "cell_type": "markdown",
   "metadata": {
    "id": "4Sn-baMZmzIF"
   },
   "source": [
    "Now, try to access the following:\n",
    "1. The ``thead`` element\n",
    "2. All ``p`` elements\n",
    "3. The last ``p`` element\n",
    "4. The text of the ``h1`` element\n",
    "5. The first URL in the document (only the URL!)\n",
    "6. All ``a`` elements within the ``table`` element\n",
    "7. All ``table`` elements of class \"cat_table\"  <font color='violet'> Hint: <font color='white'>  Remember to use class_ instead of class to find elements based on the value of the class attribute!<font color='black'>\n",
    "8. The text of all ``p`` elements (as a list) <font color='violet'> Hint: <font color='white'>  Use a list comprehension! <font color='black'>\n",
    "\n"
   ]
  },
  {
   "cell_type": "code",
   "execution_count": 6,
   "metadata": {
    "id": "bc64FjCDo-HQ"
   },
   "outputs": [
    {
     "data": {
      "text/plain": [
       "<thead>\n",
       "<tr>\n",
       "<th>Name</th>\n",
       "<th>Achievement</th>\n",
       "</tr>\n",
       "</thead>"
      ]
     },
     "execution_count": 6,
     "metadata": {},
     "output_type": "execute_result"
    }
   ],
   "source": [
    "# 1: The thead element\n",
    "mySoup.find(\"thead\")"
   ]
  },
  {
   "cell_type": "code",
   "execution_count": 7,
   "metadata": {
    "id": "mZM9YGDWo-B3"
   },
   "outputs": [
    {
     "data": {
      "text/plain": [
       "[<p>This is a website about famous cats. </p>,\n",
       " <p>\n",
       " </p>,\n",
       " <p> Cats are great animals! There are also many excellent web pages related to cats. \n",
       " Check out this one:\n",
       " <a href=\"https://bongo.cat/\" target=\"_blank\">Bongo Cat</a></p>,\n",
       " <p>Unsurprisingly, many outstanding cats have shaped the course of human history. This table shows a few of them: </p>,\n",
       " <p>\n",
       " </p>]"
      ]
     },
     "execution_count": 7,
     "metadata": {},
     "output_type": "execute_result"
    }
   ],
   "source": [
    "# 2: All p elements\n",
    "mySoup(\"p\")"
   ]
  },
  {
   "cell_type": "code",
   "execution_count": 8,
   "metadata": {
    "id": "3QiRdk_To96f"
   },
   "outputs": [
    {
     "data": {
      "text/plain": [
       "<p>\n",
       "</p>"
      ]
     },
     "execution_count": 8,
     "metadata": {},
     "output_type": "execute_result"
    }
   ],
   "source": [
    "# 3: The last p element\n",
    "mySoup(\"p\")[-1]"
   ]
  },
  {
   "cell_type": "code",
   "execution_count": 9,
   "metadata": {
    "id": "wBXHgh79o9zm"
   },
   "outputs": [
    {
     "data": {
      "text/plain": [
       "'Famous cats'"
      ]
     },
     "execution_count": 9,
     "metadata": {},
     "output_type": "execute_result"
    }
   ],
   "source": [
    "# 4: The text of the h1 element\n",
    "mySoup.find(\"h1\").get_text()"
   ]
  },
  {
   "cell_type": "code",
   "execution_count": 10,
   "metadata": {
    "id": "8ZhL7gtfo9sv"
   },
   "outputs": [
    {
     "data": {
      "text/plain": [
       "'https://bongo.cat/'"
      ]
     },
     "execution_count": 10,
     "metadata": {},
     "output_type": "execute_result"
    }
   ],
   "source": [
    "# 5: The first URL in the document (only the URL!)\n",
    "mySoup(\"a\")[0][\"href\"]"
   ]
  },
  {
   "cell_type": "code",
   "execution_count": 11,
   "metadata": {
    "id": "ZkpR1GiFo9lo"
   },
   "outputs": [
    {
     "data": {
      "text/plain": [
       "[<a href=\"https://en.wikipedia.org/wiki/F%C3%A9licette\">Felicette</a>,\n",
       " <a href=\"https://en.wikipedia.org/wiki/India_(cat)\">India \"Willie\" Bush</a>,\n",
       " <a href=\"https://en.wikipedia.org/wiki/Meow_(cat)\">Meow</a>,\n",
       " <a href=\"https://en.wikipedia.org/wiki/Creme_Puff_(cat)\">Creme Puff</a>]"
      ]
     },
     "execution_count": 11,
     "metadata": {},
     "output_type": "execute_result"
    }
   ],
   "source": [
    "# 6: All a elements within the table element\n",
    "mySoup.select(\"table a\")"
   ]
  },
  {
   "cell_type": "code",
   "execution_count": 12,
   "metadata": {
    "id": "KmFdainGmmNn"
   },
   "outputs": [
    {
     "data": {
      "text/plain": [
       "[<table class=\"cat_table\" id=\"famous_cats_table\">\n",
       " <thead>\n",
       " <tr>\n",
       " <th>Name</th>\n",
       " <th>Achievement</th>\n",
       " </tr>\n",
       " </thead>\n",
       " <tbody>\n",
       " <tr>\n",
       " <td><a href=\"https://en.wikipedia.org/wiki/F%C3%A9licette\">Felicette</a></td>\n",
       " <td>First cat launched into space</td>\n",
       " </tr>\n",
       " <tr>\n",
       " <td><a href=\"https://en.wikipedia.org/wiki/India_(cat)\">India \"Willie\" Bush</a></td>\n",
       " <td>US President George W. Bush's cat</td>\n",
       " </tr>\n",
       " <tr>\n",
       " <td><a href=\"https://en.wikipedia.org/wiki/Meow_(cat)\">Meow</a></td>\n",
       " <td>The world's heaviest cat</td>\n",
       " </tr>\n",
       " <tr>\n",
       " <td><a href=\"https://en.wikipedia.org/wiki/Creme_Puff_(cat)\">Creme Puff</a></td>\n",
       " <td>The world's oldest cat </td>\n",
       " </tr>\n",
       " </tbody>\n",
       " </table>]"
      ]
     },
     "execution_count": 12,
     "metadata": {},
     "output_type": "execute_result"
    }
   ],
   "source": [
    "# 7: All table elements of class \"cat_table\"\n",
    "mySoup.find_all(class_ = \"cat_table\")"
   ]
  },
  {
   "cell_type": "code",
   "execution_count": 13,
   "metadata": {
    "id": "hVWKcYleo9eH"
   },
   "outputs": [
    {
     "data": {
      "text/plain": [
       "['This is a website about famous cats. ',\n",
       " '\\n',\n",
       " ' Cats are great animals! There are also many excellent web pages related to cats. \\r\\nCheck out this one:\\r\\nBongo Cat',\n",
       " 'Unsurprisingly, many outstanding cats have shaped the course of human history. This table shows a few of them: ',\n",
       " '\\n']"
      ]
     },
     "execution_count": 13,
     "metadata": {},
     "output_type": "execute_result"
    }
   ],
   "source": [
    "# 8: The text of all p elements (as a list)\n",
    "[p.text for p in mySoup(\"p\")]"
   ]
  },
  {
   "cell_type": "markdown",
   "metadata": {
    "id": "zYEvEr7QABjT"
   },
   "source": [
    "### Exercise 3"
   ]
  },
  {
   "cell_type": "markdown",
   "metadata": {
    "id": "s3U_Q7V4AF9B"
   },
   "source": [
    "Most websites are a bit more complicated than our example page. In this exercise, we will retrieve the Wikipedia page on cats: https://en.wikipedia.org/wiki/Cat"
   ]
  },
  {
   "cell_type": "markdown",
   "metadata": {
    "id": "cSRj3gIpAdgs"
   },
   "source": [
    "Retrieve the page, get the text and convert it to a BeautifulSoup object called ``cats``."
   ]
  },
  {
   "cell_type": "code",
   "execution_count": 14,
   "metadata": {
    "id": "MKgkt-GTA3Tw"
   },
   "outputs": [],
   "source": [
    "# Solution:\n",
    "req = requests.get(\"https://en.wikipedia.org/wiki/Cat\")\n",
    "\n",
    "if (req.status_code != 200):\n",
    "    print(\"request failed\")\n",
    "else:\n",
    "    cats = BeautifulSoup(req.text)"
   ]
  },
  {
   "cell_type": "markdown",
   "metadata": {
    "id": "Y00ikW9ABmSo"
   },
   "source": [
    "Go to the page and inspect it (right-click on the different elements and select \"Insepct\" (Element untersuchen)\". Then, try to retrieve the following elements from the page:\n",
    "\n",
    "1. The title of the page (only the text)\n",
    "2. The title header of the page (Cat)\n",
    "3.  All the main headers of the text on the page (Etymology and naming, Taxonomy...)\n",
    "4. All the headers in the text (Etymology and naming, Taxonomy, Evolution, Domestication, Characteristics, Size...)\n",
    " <font color='violet'> Hint: <font color='white'> These headers are all of the same class.<font color='white'>\n",
    "5. The opening paragraph (\"The cat (Felis catus) is a ...\")\n",
    "6. All the links in the infobox table on the right\n",
    "7. The number of images on the page <font color='violet'> Hint: <font color='white'> Hint: You can use the len() function"
   ]
  },
  {
   "cell_type": "code",
   "execution_count": 15,
   "metadata": {
    "id": "1BNAIflGCoQ_"
   },
   "outputs": [
    {
     "data": {
      "text/plain": [
       "'Cat - Wikipedia'"
      ]
     },
     "execution_count": 15,
     "metadata": {},
     "output_type": "execute_result"
    }
   ],
   "source": [
    "# 1\n",
    "cats.find(\"title\").text # title inside the header"
   ]
  },
  {
   "cell_type": "code",
   "execution_count": 16,
   "metadata": {
    "id": "RarP03dGDk3J"
   },
   "outputs": [
    {
     "data": {
      "text/plain": [
       "'Cat'"
      ]
     },
     "execution_count": 16,
     "metadata": {},
     "output_type": "execute_result"
    }
   ],
   "source": [
    "# 2\n",
    "cats.find(class_=\"mw-page-title-main\").text"
   ]
  },
  {
   "cell_type": "code",
   "execution_count": 17,
   "metadata": {
    "id": "dZn0L62BDuSw"
   },
   "outputs": [
    {
     "data": {
      "text/plain": [
       "['Contents',\n",
       " 'Etymology and naming',\n",
       " 'Taxonomy',\n",
       " 'Evolution',\n",
       " 'Characteristics',\n",
       " 'Senses',\n",
       " 'Behavior',\n",
       " 'Lifespan and health',\n",
       " 'Ecology',\n",
       " 'Interaction with humans',\n",
       " 'History and mythology',\n",
       " 'See also',\n",
       " 'Notes',\n",
       " 'References',\n",
       " 'External links']"
      ]
     },
     "execution_count": 17,
     "metadata": {},
     "output_type": "execute_result"
    }
   ],
   "source": [
    "# 3\n",
    "[h.text for h in cats(\"h2\")]"
   ]
  },
  {
   "cell_type": "code",
   "execution_count": null,
   "metadata": {
    "id": "_m88q-Z5GgnN"
   },
   "outputs": [
    {
     "data": {
      "text/plain": [
       "'The cat (Felis catus), also referred to as the domestic cat or house cat, is a small domesticated carnivorous mammal. It is the only domesticated species of the family Felidae. Advances in archaeology and genetics have shown that the domestication of the cat occurred in the Near East around 7500 BC. It is commonly kept as a pet and farm cat, but also ranges freely as a feral cat avoiding human contact. It is valued by humans for companionship and its ability to kill vermin. Its retractable claws are adapted to killing small prey species such as mice and rats. It has a strong, flexible body, quick reflexes, and sharp teeth, and its night vision and sense of smell are well developed. It is a social species, but a solitary hunter and a crepuscular predator.\\n'"
      ]
     },
     "execution_count": 22,
     "metadata": {},
     "output_type": "execute_result"
    }
   ],
   "source": [
    "# 5\n",
    "cats(\"p\")[1].text"
   ]
  },
  {
   "cell_type": "code",
   "execution_count": null,
   "metadata": {
    "id": "ckYb0J_8KoeP"
   },
   "outputs": [
    {
     "data": {
      "text/plain": [
       "['/wiki/Megaannum',\n",
       " '/wiki/Precambrian',\n",
       " '/wiki/Cambrian',\n",
       " '/wiki/Ordovician',\n",
       " '/wiki/Silurian',\n",
       " '/wiki/Devonian',\n",
       " '/wiki/Carboniferous',\n",
       " '/wiki/Permian',\n",
       " '/wiki/Triassic',\n",
       " '/wiki/Jurassic',\n",
       " '/wiki/Cretaceous',\n",
       " '/wiki/Paleogene',\n",
       " '/wiki/Neogene',\n",
       " '/wiki/Holocene',\n",
       " '/wiki/File:Cat_August_2010-4.jpg',\n",
       " '/wiki/File:Gustav_chocolate.jpg',\n",
       " '/wiki/File:Orange_tabby_cat_sitting_on_fallen_leaves-Hisashi-01A.jpg',\n",
       " '/wiki/File:Siam_lilacpoint.jpg',\n",
       " '/wiki/File:Felis_catus-cat_on_snow.jpg',\n",
       " '/wiki/File:Sheba1.JPG',\n",
       " '/wiki/Conservation_status',\n",
       " '/wiki/Taxonomy_(biology)',\n",
       " '/wiki/Template:Taxonomy/Felis',\n",
       " '/wiki/Eukaryote',\n",
       " '/wiki/Animal',\n",
       " '/wiki/Chordate',\n",
       " '/wiki/Mammal',\n",
       " '/wiki/Carnivora',\n",
       " '/wiki/Feliformia',\n",
       " '/wiki/Felidae',\n",
       " '/wiki/Felinae',\n",
       " '/wiki/Felis',\n",
       " '#cite_note-Linnaeus1758-1',\n",
       " '/wiki/Binomial_nomenclature',\n",
       " '#cite_note-Linnaeus1758-1',\n",
       " '/wiki/Carl_Linnaeus',\n",
       " '/wiki/10th_edition_of_Systema_Naturae',\n",
       " '#cite_note-MSW3fc-2',\n",
       " '/wiki/Synonym_(taxonomy)',\n",
       " '/wiki/Johann_Christian_Polycarp_Erxleben',\n",
       " '#cite_note-Erxleben-3',\n",
       " '/wiki/Karl_Christian_Gmelin']"
      ]
     },
     "execution_count": 28,
     "metadata": {},
     "output_type": "execute_result"
    }
   ],
   "source": [
    "# 6\n",
    "[i['href'] for i in cats.select(\".infobox.biota a\")]"
   ]
  },
  {
   "cell_type": "code",
   "execution_count": 29,
   "metadata": {
    "id": "IofJLYJHbgSo"
   },
   "outputs": [
    {
     "data": {
      "text/plain": [
       "57"
      ]
     },
     "execution_count": 29,
     "metadata": {},
     "output_type": "execute_result"
    }
   ],
   "source": [
    "# 7\n",
    "len(cats.select(\"img\"))"
   ]
  },
  {
   "cell_type": "markdown",
   "metadata": {
    "id": "iMbIgP9M_wf_"
   },
   "source": [
    "Now try to retrieve the first table on the page and convert it to a Pandas dataframe."
   ]
  },
  {
   "cell_type": "code",
   "execution_count": 34,
   "metadata": {
    "id": "HcVwJ5E9ATS-"
   },
   "outputs": [
    {
     "name": "stderr",
     "output_type": "stream",
     "text": [
      "C:\\Users\\Raphael\\AppData\\Local\\Temp\\ipykernel_12888\\2572564180.py:3: FutureWarning: Passing literal html to 'read_html' is deprecated and will be removed in a future version. To read from a literal string, wrap it in a 'StringIO' object.\n",
      "  df = pd.read_html(str(table))\n"
     ]
    },
    {
     "data": {
      "text/plain": [
       "[   Cat Temporal range: 0.0095–0 Ma PreꞒ Ꞓ O S D C P T J K Pg N ↓  Holocene to present (9,500 years ago)  \\\n",
       " 0                               Various types of cats                                                     \n",
       " 1                                 Conservation status                                                     \n",
       " 2                                        Domesticated                                                     \n",
       " 3                           Scientific classification                                                     \n",
       " 4                                             Domain:                                                     \n",
       " 5                                            Kingdom:                                                     \n",
       " 6                                             Phylum:                                                     \n",
       " 7                                              Class:                                                     \n",
       " 8                                              Order:                                                     \n",
       " 9                                           Suborder:                                                     \n",
       " 10                                            Family:                                                     \n",
       " 11                                         Subfamily:                                                     \n",
       " 12                                             Genus:                                                     \n",
       " 13                                           Species:                                                     \n",
       " 14                                      Binomial name                                                     \n",
       " 15                   Felis catus[1] Linnaeus, 1758[2]                                                     \n",
       " 16                                           Synonyms                                                     \n",
       " 17  Catus domesticus Erxleben, 1777[3] F. angorens...                                                     \n",
       " \n",
       "    Cat Temporal range: 0.0095–0 Ma PreꞒ Ꞓ O S D C P T J K Pg N ↓  Holocene to present (9,500 years ago).1  \n",
       " 0                               Various types of cats                                                      \n",
       " 1                                 Conservation status                                                      \n",
       " 2                                        Domesticated                                                      \n",
       " 3                           Scientific classification                                                      \n",
       " 4                                           Eukaryota                                                      \n",
       " 5                                            Animalia                                                      \n",
       " 6                                            Chordata                                                      \n",
       " 7                                            Mammalia                                                      \n",
       " 8                                           Carnivora                                                      \n",
       " 9                                          Feliformia                                                      \n",
       " 10                                            Felidae                                                      \n",
       " 11                                            Felinae                                                      \n",
       " 12                                              Felis                                                      \n",
       " 13                                        F. catus[1]                                                      \n",
       " 14                                      Binomial name                                                      \n",
       " 15                   Felis catus[1] Linnaeus, 1758[2]                                                      \n",
       " 16                                           Synonyms                                                      \n",
       " 17  Catus domesticus Erxleben, 1777[3] F. angorens...                                                      ]"
      ]
     },
     "execution_count": 34,
     "metadata": {},
     "output_type": "execute_result"
    }
   ],
   "source": [
    "# Solution:\n",
    "table = cats(\"table\")[0]\n",
    "df = pd.read_html(str(table))\n",
    "df"
   ]
  },
  {
   "cell_type": "markdown",
   "metadata": {
    "id": "zesfc5Otne-8"
   },
   "source": [
    "### Exercise 4"
   ]
  },
  {
   "cell_type": "markdown",
   "metadata": {
    "id": "tb69L2RcN0Hn"
   },
   "source": [
    "Consider the following list of links to Wikipedia pages on animals:"
   ]
  },
  {
   "cell_type": "code",
   "execution_count": 35,
   "metadata": {
    "id": "GavxRwQvN8Rt"
   },
   "outputs": [],
   "source": [
    "animals_wiki = [\"https://en.wikipedia.org/wiki/Cat\",\n",
    "                \"https://en.wikipedia.org/wiki/Dog\",\n",
    "                \"https://en.wikipedia.org/wiki/Tiger\",\n",
    "                \"https://en.wikipedia.org/wiki/Panda\"]"
   ]
  },
  {
   "cell_type": "markdown",
   "metadata": {
    "id": "4wxV20wlP8ql"
   },
   "source": [
    "Write a simple loop that fetches each of these pages and writes the response into a list (it should look like this: ``[<Response [200]>, <Response [200]>, <Response [200]>, <Response [200]>]``)"
   ]
  },
  {
   "cell_type": "code",
   "execution_count": 36,
   "metadata": {
    "id": "EeeWVHQ8Nz0X"
   },
   "outputs": [
    {
     "name": "stdout",
     "output_type": "stream",
     "text": [
      "[<Response [200]>, <Response [200]>, <Response [200]>, <Response [200]>]\n"
     ]
    }
   ],
   "source": [
    "# Solution:\n",
    "responses = []\n",
    "\n",
    "for a in animals_wiki:\n",
    "    responses.append(requests.get(a))\n",
    "\n",
    "print(responses)"
   ]
  },
  {
   "cell_type": "markdown",
   "metadata": {
    "id": "iRc8cXUEnkDU"
   },
   "source": [
    "You would like to have (1) the title header and (2) the number of images of each of these pages. Revise your loop so that this information is retreived from the source code of each page and written into a (nested) list. Which animal page has the most images?"
   ]
  },
  {
   "cell_type": "code",
   "execution_count": null,
   "metadata": {
    "id": "pLIaoPb7njfE"
   },
   "outputs": [
    {
     "data": {
      "text/plain": [
       "['Tiger - Wikipedia', 67]"
      ]
     },
     "execution_count": 38,
     "metadata": {},
     "output_type": "execute_result"
    }
   ],
   "source": [
    "# Solution:\n",
    "responses = []\n",
    "\n",
    "for a in animals_wiki:\n",
    "    res = requests.get(a)\n",
    "    soup = BeautifulSoup(res.text)\n",
    "\n",
    "    title = soup.title.text\n",
    "    n_img = len(soup(\"img\"))\n",
    "\n",
    "    responses.append([title, n_img])\n",
    "\n",
    "max(responses, key=lambda i: i[1]) # maximum value accoring to secnd index"
   ]
  },
  {
   "cell_type": "markdown",
   "metadata": {
    "id": "ITCk8WoQTfYW"
   },
   "source": [
    "Repetition task: Convert your list into a pandas dataframe."
   ]
  },
  {
   "cell_type": "code",
   "execution_count": 40,
   "metadata": {
    "id": "qXubF1oTBLcE"
   },
   "outputs": [
    {
     "data": {
      "text/html": [
       "<div>\n",
       "<style scoped>\n",
       "    .dataframe tbody tr th:only-of-type {\n",
       "        vertical-align: middle;\n",
       "    }\n",
       "\n",
       "    .dataframe tbody tr th {\n",
       "        vertical-align: top;\n",
       "    }\n",
       "\n",
       "    .dataframe thead th {\n",
       "        text-align: right;\n",
       "    }\n",
       "</style>\n",
       "<table border=\"1\" class=\"dataframe\">\n",
       "  <thead>\n",
       "    <tr style=\"text-align: right;\">\n",
       "      <th></th>\n",
       "      <th>title</th>\n",
       "      <th>n_img</th>\n",
       "    </tr>\n",
       "  </thead>\n",
       "  <tbody>\n",
       "    <tr>\n",
       "      <th>0</th>\n",
       "      <td>Cat - Wikipedia</td>\n",
       "      <td>57</td>\n",
       "    </tr>\n",
       "    <tr>\n",
       "      <th>1</th>\n",
       "      <td>Dog - Wikipedia</td>\n",
       "      <td>53</td>\n",
       "    </tr>\n",
       "    <tr>\n",
       "      <th>2</th>\n",
       "      <td>Tiger - Wikipedia</td>\n",
       "      <td>67</td>\n",
       "    </tr>\n",
       "    <tr>\n",
       "      <th>3</th>\n",
       "      <td>Giant panda - Wikipedia</td>\n",
       "      <td>28</td>\n",
       "    </tr>\n",
       "  </tbody>\n",
       "</table>\n",
       "</div>"
      ],
      "text/plain": [
       "                     title  n_img\n",
       "0          Cat - Wikipedia     57\n",
       "1          Dog - Wikipedia     53\n",
       "2        Tiger - Wikipedia     67\n",
       "3  Giant panda - Wikipedia     28"
      ]
     },
     "execution_count": 40,
     "metadata": {},
     "output_type": "execute_result"
    }
   ],
   "source": [
    "# Solution:\n",
    "pd.DataFrame(responses, columns=[\"title\", \"n_img\"])"
   ]
  },
  {
   "cell_type": "markdown",
   "metadata": {
    "id": "ZjVQNxR4daUW"
   },
   "source": [
    "### Exercise 5"
   ]
  },
  {
   "cell_type": "markdown",
   "metadata": {
    "id": "a-NbMd9KfEu1"
   },
   "source": [
    "Suppose your list of animal links also contains a link to a website that does not exist:"
   ]
  },
  {
   "cell_type": "code",
   "execution_count": 41,
   "metadata": {
    "id": "2xiYa5zZfB7e"
   },
   "outputs": [],
   "source": [
    "animals_wiki = [\"https://en.wikipedia.org/wiki/Cat\",\n",
    "                \"https://en.wikipedia.org/wiki/Dog\",\n",
    "                \"https://no-such-link-exists.com\",\n",
    "                \"https://en.wikipedia.org/wiki/Panda\"]"
   ]
  },
  {
   "cell_type": "markdown",
   "metadata": {
    "id": "vf7QMF29fJd8"
   },
   "source": [
    "Add a ``try-exept`` block to the loop from Exercise 4 to prevent your web scraper from crashing when an URL cannot be retrieved. <font color='violet'> Hint: <font color='white'> Use ``continue`` within the ``except`` block to jump back to the beginning of the loop!\n",
    "\n",
    "\n"
   ]
  },
  {
   "cell_type": "code",
   "execution_count": 43,
   "metadata": {
    "id": "APvssG-KfLcS"
   },
   "outputs": [
    {
     "data": {
      "text/plain": [
       "[['Cat - Wikipedia', 57],\n",
       " ['Dog - Wikipedia', 53],\n",
       " ['Giant panda - Wikipedia', 28]]"
      ]
     },
     "execution_count": 43,
     "metadata": {},
     "output_type": "execute_result"
    }
   ],
   "source": [
    "# Solution:\n",
    "responses = []\n",
    "\n",
    "for a in animals_wiki:\n",
    "    try:\n",
    "        res = requests.get(a)\n",
    "        soup = BeautifulSoup(res.text)\n",
    "\n",
    "        title = soup.title.text\n",
    "        n_img = len(soup(\"img\"))\n",
    "\n",
    "        responses.append([title, n_img])\n",
    "    except:\n",
    "        continue\n",
    "\n",
    "responses"
   ]
  },
  {
   "cell_type": "markdown",
   "metadata": {
    "id": "Y1es3ky6e9_q"
   },
   "source": [
    "### Exercise 6"
   ]
  },
  {
   "cell_type": "markdown",
   "metadata": {
    "id": "QfMgxGeJcw--"
   },
   "source": [
    "The Wikipedia page https://en.wikipedia.org/wiki/List_of_cat_breeds contains a list of all cat breeds and the links to the respective Wikipedia pages. You would like to create a dataset about the different cat breeds with information from their Wikipedia pages.\n",
    "\n",
    "In a first step, you will have to retrieve all the links to the respective Wikipedia pages. Retrieve them from the first table on the website and write them into a list. *Note that the table also contains some links you do not want to have included (you only want those to the pages for the different cat breeds). You can use ``CSS`` selectors to specify what links you want to extract. First have a look at the source code of the page to find out how the relevant links can be addressed.*"
   ]
  },
  {
   "cell_type": "code",
   "execution_count": 64,
   "metadata": {
    "id": "oFgyXzHxVkSv"
   },
   "outputs": [
    {
     "data": {
      "text/plain": [
       "['/wiki/Abyssinian_cat',\n",
       " '/wiki/Aegean_cat',\n",
       " '/wiki/American_Bobtail',\n",
       " '/wiki/American_Curl',\n",
       " '/w/index.php?title=American_Ringtail&action=edit&redlink=1',\n",
       " '/wiki/American_Shorthair',\n",
       " '/wiki/American_Wirehair',\n",
       " '/wiki/Cyprus_cat#Aphrodite_Giant',\n",
       " '/wiki/Arabian_Mau',\n",
       " '/wiki/Asian_cat',\n",
       " '/wiki/Asian_Semi-longhair',\n",
       " '/wiki/Australian_Mist',\n",
       " '/wiki/Balinese_cat',\n",
       " '/wiki/Bambino_cat',\n",
       " '/wiki/Bengal_cat',\n",
       " '/wiki/Birman',\n",
       " '/wiki/Bombay_cat',\n",
       " '/wiki/Brazilian_Shorthair',\n",
       " '/wiki/British_Longhair',\n",
       " '/wiki/British_Shorthair',\n",
       " '/wiki/Burmese_cat',\n",
       " '/wiki/Burmilla',\n",
       " '/wiki/California_Spangled',\n",
       " '/wiki/Chantilly-Tiffany',\n",
       " '/wiki/Chartreux',\n",
       " '/wiki/Chausie',\n",
       " '/wiki/Colorpoint_Shorthair',\n",
       " '/wiki/Cornish_Rex',\n",
       " '/wiki/Cymric_cat',\n",
       " '/wiki/Cyprus_cat',\n",
       " '/wiki/Devon_Rex',\n",
       " '/wiki/Donskoy_cat',\n",
       " '/wiki/Dragon_Li',\n",
       " '/wiki/List_of_experimental_cat_breeds#Dwelf',\n",
       " '/wiki/Egyptian_Mau',\n",
       " '/wiki/European_Shorthair',\n",
       " '/wiki/Exotic_Shorthair',\n",
       " '/wiki/Foldex_cat',\n",
       " '/wiki/German_Rex',\n",
       " '/wiki/Havana_Brown',\n",
       " '/wiki/Highlander_cat',\n",
       " '/wiki/Himalayan_cat',\n",
       " '/wiki/Japanese_Bobtail',\n",
       " '/wiki/Javanese_cat',\n",
       " '/wiki/Kanaani_cat',\n",
       " '/wiki/Khao_Manee',\n",
       " '/wiki/Kinkalow',\n",
       " '/wiki/Korat',\n",
       " '/wiki/Korean_Bobtail',\n",
       " '/wiki/Korn_Ja',\n",
       " '/wiki/Kurilian_Bobtail',\n",
       " '/wiki/Lambkin_cat',\n",
       " '/wiki/LaPerm',\n",
       " '/wiki/Lykoi',\n",
       " '/wiki/Maine_Coon',\n",
       " '/wiki/Manx_cat',\n",
       " '/wiki/Mekong_Bobtail',\n",
       " '/wiki/Minskin',\n",
       " '/wiki/Minuet_cat',\n",
       " '/wiki/Munchkin_cat',\n",
       " '/wiki/Nebelung',\n",
       " '/wiki/Neva_Masquerade',\n",
       " '/wiki/Norwegian_Forest_cat',\n",
       " '/wiki/Ocicat',\n",
       " '/wiki/Ojos_Azules',\n",
       " '/wiki/Oriental_bicolour',\n",
       " '/wiki/Oriental_Longhair',\n",
       " '/wiki/Oriental_Shorthair',\n",
       " '/wiki/Persian_cat',\n",
       " '/wiki/Traditional_Persian',\n",
       " '/wiki/Peterbald',\n",
       " '/wiki/Pixie-bob',\n",
       " '/wiki/Ragamuffin_cat',\n",
       " '/wiki/Ragdoll',\n",
       " '/wiki/Raas_cat',\n",
       " '/wiki/Russian_Blue',\n",
       " '/wiki/Russian_White,_Black,_and_Tabby',\n",
       " '/wiki/Thai_cat',\n",
       " '/wiki/Savannah_cat',\n",
       " '/wiki/Scottish_Fold',\n",
       " '/wiki/Selkirk_Rex',\n",
       " '/wiki/Serengeti_cat',\n",
       " '/wiki/Siamese_cat',\n",
       " '/wiki/Siberian_cat',\n",
       " '/wiki/Singapura_cat',\n",
       " '/wiki/Snowshoe_cat',\n",
       " '/wiki/Sokoke',\n",
       " '/wiki/Somali_cat',\n",
       " '/wiki/Sphynx_cat',\n",
       " '/wiki/Suphalak',\n",
       " '/wiki/Thai_cat',\n",
       " '/wiki/Korat#Thai_Lilac,_Thai_Blue_Point_and_Thai_Lilac_Point',\n",
       " '/wiki/Tonkinese_cat',\n",
       " '/wiki/Toybob',\n",
       " '/wiki/Toyger',\n",
       " '/wiki/Turkish_Angora',\n",
       " '/wiki/Turkish_Van',\n",
       " '/wiki/Van_cat',\n",
       " '/wiki/Ukrainian_Levkoy',\n",
       " '/wiki/York_Chocolate']"
      ]
     },
     "execution_count": 64,
     "metadata": {},
     "output_type": "execute_result"
    }
   ],
   "source": [
    "# Solution:\n",
    "\n",
    "s = BeautifulSoup(requests.get(\"https://en.wikipedia.org/wiki/List_of_cat_breeds\").text)\n",
    "\n",
    "\n",
    "breeds = [a[\"href\"] for a in s.select_one(\"table\").select(\"th[scope='row'] > a\")]\n",
    "breeds"
   ]
  },
  {
   "cell_type": "markdown",
   "metadata": {
    "id": "ch3yRDKkf6o3"
   },
   "source": [
    "If you inspect your list, you may notice that there are some external URLs (i.e. URLs that do not point to Wikipedia pages). Try to remove them! <font color='violet'> Hint: <font color='white'> Note that you can specify an if-condition within a list comprehension. In the very first tutorial you learned how to check if a string is containend within anotther string."
   ]
  },
  {
   "cell_type": "code",
   "execution_count": 65,
   "metadata": {
    "id": "AUihku13baXZ"
   },
   "outputs": [
    {
     "data": {
      "text/plain": [
       "99"
      ]
     },
     "execution_count": 65,
     "metadata": {},
     "output_type": "execute_result"
    }
   ],
   "source": [
    "# Solution:\n",
    "valid_breeds = [b for b in breeds if b.startswith(\"/wiki\")]\n",
    "len(valid_breeds)"
   ]
  },
  {
   "cell_type": "markdown",
   "metadata": {
    "id": "66cRQYqNcvov"
   },
   "source": [
    "With your cleaned list you can now start to scrape the pages. You would like to retrieve (1) the title header, (2) the number of images, (3) the number of characters of the text of each page, and (4) the text of the introductory paragraph. Try to do so for the **first page only** to develop your code.  Note that you will have to add the top level domain (https://en.wikipedia.org) to your URL!"
   ]
  },
  {
   "cell_type": "code",
   "execution_count": 75,
   "metadata": {
    "id": "g6S-P27ojJIR"
   },
   "outputs": [
    {
     "name": "stdout",
     "output_type": "stream",
     "text": [
      "Abyssinian cat - Wikipedia\n",
      "15\n",
      "19134\n",
      "The Abyssinian /æbɪˈsɪniən/ is a breed of cat with a distinctive \"ticked\" tabby coat, in which individual hairs are banded with different colours.[2] They are also known simply as Abys.[3]\n",
      "\n"
     ]
    }
   ],
   "source": [
    "# Solution:\n",
    "page = valid_breeds[0]\n",
    "\n",
    "url = \"https://en.wikipedia.org\" + page\n",
    "\n",
    "s = BeautifulSoup(requests.get(url).text)\n",
    "\n",
    "print(s.title.text)\n",
    "print(len(s.select(\"img\")))\n",
    "print(len(s.text))\n",
    "print(s(\"p\")[1].text)"
   ]
  },
  {
   "cell_type": "markdown",
   "metadata": {
    "id": "kdIOFIzYjcs9"
   },
   "source": [
    "Now you are ready to build your web scraper. Write a loop the fetches the information from all the pages and writes it into a list. Tipp: Before you loop through the entire list, try looping over the first few elements to check if everything works (running the loop across the whole list may take a while)."
   ]
  },
  {
   "cell_type": "code",
   "execution_count": 78,
   "metadata": {
    "id": "S9Gm5IlpoWS3"
   },
   "outputs": [
    {
     "name": "stderr",
     "output_type": "stream",
     "text": [
      "100%|██████████| 99/99 [00:44<00:00,  2.22it/s]\n"
     ]
    },
    {
     "data": {
      "text/plain": [
       "[['Abyssinian cat - Wikipedia',\n",
       "  15,\n",
       "  19134,\n",
       "  'The Abyssinian /æbɪˈsɪniən/ is a breed of cat with a distinctive \"ticked\" tabby coat, in which individual hairs are banded with different colours.[2] They are also known simply as Abys.[3]\\n'],\n",
       " ['Aegean cat - Wikipedia',\n",
       "  13,\n",
       "  9377,\n",
       "  'The Aegean cat, as its name suggests, originates from the Cycladic Islands in the Aegean Sea, where they occur as a natural landrace.[2] Aegeans are considered one of the oldest domesticated cat breeds,[2] cats having been introduced to the islands during the Bronze Age.[3] They are common as feral cats in Greece and Turkey, where they are found amongst fishing ports asking for food offerings.[2] In Greece, Aegean cats are considered a national treasure.[2] Feral Aegean cats are notable predators of Aegean wall lizards in the Cyclades.[3]\\n'],\n",
       " ['American Bobtail - Wikipedia',\n",
       "  11,\n",
       "  9498,\n",
       "  'American Bobtails are a very sturdy breed, with both short- and long-haired coats. Their coat is shaggy rather than dense or fluffy. They can have any color of eyes and coat, with a strong emphasis on the \"wild\" tabby appearance in show animals.[1]\\n'],\n",
       " ['American Curl - Wikipedia',\n",
       "  11,\n",
       "  8726,\n",
       "  \"The first American Curls appeared as strays on the doorstep of the Rugas in Lakewood, California in June 1981. The black female, named Shulamith, gave birth to a litter of cats with the same curled ears, and so became the ancestor of all American Curls today.[2][3] In 1986, an American Curl was exhibited at a cat show for the first time, and in 1992, the longhaired American Curl was given championship status by The International Cat Association (TICA). In 1999, the American Curl became the first breed admitted to the Cat Fanciers' Association (CFA) Championship Class with both longhair and shorthair divisions.[4]\\n\"],\n",
       " ['American Shorthair - Wikipedia',\n",
       "  17,\n",
       "  11572,\n",
       "  \"The American Shorthair (ASH) is a breed of domestic cat believed to be descended from European cats brought to North America by early settlers to protect valuable cargo from mice and rats.[1] According to the Cat Fanciers' Association, it was the eighth most popular pedigreed cat in the world for 2020.[2]\\n\"],\n",
       " ['American Wirehair - Wikipedia',\n",
       "  9,\n",
       "  10298,\n",
       "  \"The American Wirehair is a spontaneous mutation of the American Shorthair.[2] It first occurred as a random mutation among a litter of five born to a pair of barn cats in 1966 in Vernon, in upstate New York. This single red-and-white male had wiry fur.[3] The dominant genetic mutation,[4] which causes the wirehair, was found to be different from the Rex mutation of other curly-coated breeds—such as the Cornish Rex or Devon Rex.[5] The owner of the cats called a local breeder of Rex cats, Mrs. Joan O'Shea, to look at the kitten. She bought the kitten for $50, along with one of his normal-coated female littermates, to start a breeding program. The wirehaired male was named Council Rock Farms Adams of Hi-Fi ('Adam' for short),[6] and the female Tip-Top.[citation needed]\\n\"],\n",
       " ['Cyprus cat - Wikipedia',\n",
       "  13,\n",
       "  19463,\n",
       "  \"Cyprus cats, also known as Cypriot cats, Saint Helen cats, and Saint Nicholas cats, are a landrace of domestic cat found across the island of Cyprus.  A standardized breed is being developed from them; among cat fancier and breeder organizations, it is presently fully recognized by the World Cat Federation (WCF), with breeding regulated by the World Cat Congress (WCC), under the name Aphrodite's Giant; and provisionally by The International Cat Association (TICA) as the Aphrodite. All three organizations permit shorthaired and semi-longhaired versions and no out-crossing to other breeds.\\n\"],\n",
       " ['Arabian Mau - Wikipedia',\n",
       "  12,\n",
       "  9244,\n",
       "  'It is medium in size, with a body structure that is rather large and firm, not particularly slender, and with well-developed musculature. The legs are comparatively long, with oval paws.\\n'],\n",
       " ['Asian cat - Wikipedia',\n",
       "  16,\n",
       "  11225,\n",
       "  'The Asian or Asian group, is a cat breed similar to the European Burmese but in a range of different coat colours and patterns.[2] Long-haired Asians of all varieties are called Tiffanies. Asians are grouped in section 5 (Burmese) by the Governing Council of the Cat Fancy (GCCF).[3]\\n'],\n",
       " ['Tiffanie cat - Wikipedia',\n",
       "  13,\n",
       "  9045,\n",
       "  'The Tiffanie[1][2] is a cat breed similar to the Asian Shorthair except it has semi-long fur length. The breed belongs to the Asian Group[3][4][5] and is generally recognised in any of the Asian Shorthair or Burmese colours and patterns. Like the other cats in the Asian Group, the breed was developed during the 1980s in the United Kingdom by crossbreeding a Persian Chinchilla and a Burmese.[2][3][4][5][6]\\n'],\n",
       " ['Australian Mist - Wikipedia',\n",
       "  12,\n",
       "  11085,\n",
       "  'The Australian Mist (formerly known as Spotted Mist) is a breed of cat developed in Australia. It is a cross between the Abyssinian cat, the Burmese cat, and the Australian Tabby cat.[1][2] The Australian Mist has a distinct and unique coat pattern hence the name.\\n'],\n",
       " ['Balinese cat - Wikipedia',\n",
       "  16,\n",
       "  17076,\n",
       "  'The Balinese is a long-haired breed of domestic cat with Siamese-style point coloration and sapphire-blue eyes. The Balinese is also known as the purebred long-haired Siamese since it originated as a natural mutation of that breed and hence is essentially the same cat but with a medium-length silky coat and a distinctively plumed tail.[1]\\n'],\n",
       " ['List of experimental cat breeds - Wikipedia',\n",
       "  17,\n",
       "  36621,\n",
       "  \"The following is a list of experimental cat breeds and crossbreeds[1] that do not have the recognition of any major national or international cat registries, such as The International Cat Association (TICA) in the US, Europe, and Australasia; the Governing Council of the Cat Fancy (GCCF) in the UK, the Fédération Internationale Féline (FiFE) in continental Europe, the Cat Fanciers' Association (CFA) in North America, or the more recent World Cat Federation based in Germany. Such a breed may be recognized by one of the smaller cat registries. Smaller registries include the Rare and Exotic Feline Registry (REFR), and others. This list only includes breeds recognized by at least one extant, national or international, multi-breed registry.\\n\"],\n",
       " ['Bengal cat - Wikipedia',\n",
       "  17,\n",
       "  27013,\n",
       "  \"The Bengal cat is a breed of hybrid cat created from crossing of an Asian leopard cat (Prionailurus bengalensis) with domestic cats, especially the spotted Egyptian Mau. It is then usually bred with a breed that demonstrates a friendlier personality, because after breeding a domesticated cat with a wildcat, its friendly personality may not manifest in the kitten. The breed's name derives from the leopard cat's taxonomic name.\\n\"],\n",
       " ['Birman - Wikipedia',\n",
       "  18,\n",
       "  14484,\n",
       "  'The Birman, also called the \"Sacred Cat of Burma\",[1] is a domestic cat breed. The Birman is a long-haired, colour-pointed cat distinguished by a silky coat, deep blue eyes, and contrasting white \"gloves\" on each paw.\\n'],\n",
       " ['Bombay cat - Wikipedia',\n",
       "  12,\n",
       "  12766,\n",
       "  'The Bombay cat is a short-haired breed of domestic cat. Bombays are glossy solid black cats with a muscular build, and have characteristic large bright copper-golden eyes.[1][2][3] The breed is named after the Indian city of Bombay (Mumbai),[4] referring to the habitat of the Indian black leopard.[5]\\n'],\n",
       " ['Brazilian Shorthair - Wikipedia',\n",
       "  13,\n",
       "  15619,\n",
       "  'The Brazilian Shorthair is a breed of cat. It is the first cat breed from Brazil to receive international recognition.\\n'],\n",
       " ['British Shorthair - Wikipedia',\n",
       "  26,\n",
       "  22036,\n",
       "  \"It is one of the most ancient cat breeds known. It remains the most popular pedigreed breed in its native country, as registered by the UK's Governing Council of the Cat Fancy (GCCF). A quarter of all kittens registered with the GCCF each year are British Shorthairs, making the British the most popular pedigree cat in the UK.[1]\\n\"],\n",
       " ['British Shorthair - Wikipedia',\n",
       "  26,\n",
       "  21985,\n",
       "  \"It is one of the most ancient cat breeds known. It remains the most popular pedigreed breed in its native country, as registered by the UK's Governing Council of the Cat Fancy (GCCF). A quarter of all kittens registered with the GCCF each year are British Shorthairs, making the British the most popular pedigree cat in the UK.[1]\\n\"],\n",
       " ['Burmese cat - Wikipedia',\n",
       "  25,\n",
       "  23511,\n",
       "  'The Burmese cat (Burmese: ဗမာကြောင်, Băma kyaung, Thai: ทองแดง or ศุภลักษณ์, RTGS:\\xa0Thongdaeng or Supphalak, meaning copper colour) is a breed of domestic cat, originating in Burma, believed to have its roots near the Thai–Burma border and developed in the United States and Britain.\\n'],\n",
       " ['Burmilla - Wikipedia',\n",
       "  18,\n",
       "  14929,\n",
       "  'The Burmilla (a portmanteau of Burm-ese and Chinch-illa ) is a breed of domestic cat, that originated in the United Kingdom in 1981. It is a cross between the Chinchilla Persian and Burmese cats. In certain cat registries the breed falls under the Asian group, and is sometimes referred to as the Asian Shaded.[1][2] Standards were produced in 1984, and the breed gained championship status in the United Kingdom in the 1990s.\\n'],\n",
       " ['California Spangled - Wikipedia',\n",
       "  9,\n",
       "  7279,\n",
       "  'Paul Casey was inspired to create the breed from a conversation he had with Louis Leakey. In relation to the death of a leopard by poachers Casey and Leakey discussed how people would be more likely to support conservation efforts if they had a cat that resembled a leopard.[1]\\n'],\n",
       " ['Chantilly-Tiffany - Wikipedia',\n",
       "  9,\n",
       "  21804,\n",
       "  'The Chantilly-Tiffany or Chantilly/Tiffany, also known as the Chantilly or the Foreign Longhair, was a breed of domestic cat which originated in the late-1960s in North America.[1] The Chantilly breed never got off the ground and has always been rare.[2][3] It was near-extinction in the late-1980s and again in the late-2000s. Since 2015 the breed has been considered extinct with the passing and neutering of the last two cats of the Chantilly lineage, and with no intact Chantilly cats the inevitable resulting discontinuation of the breeding program.[4][5]\\n'],\n",
       " ['Chartreux - Wikipedia',\n",
       "  14,\n",
       "  12259,\n",
       "  'As for every French cat with a pedigree, the first letter of the official name of a Chartreux cat encodes the year of its birth.[1] All Chartreux born in the same year have official names beginning with the same letter. The code letters rotate through the alphabet each year, omitting the letters K, Q, W, X, Y, and Z. For example, a Chartreux born in 2021 would have an official name starting with the letter S.[2]\\n'],\n",
       " ['Chausie - Wikipedia',\n",
       "  14,\n",
       "  18477,\n",
       "  \"The first hybrids of the jungle cat (Felis chaus) and the domestic cat (Felis silvestris catus) may have been born in Egypt several thousand years ago.[2] The jungle cat is native to a vast region spanning Southeast Asia, India, and the Middle East.[3] For the most part, it is an Asian species of wild cat that lives by rivers and lakes. But the species is found in one small area of North Africa: the Nile Delta. It is well known that the ancient Egyptians kept domestic cats as pets. Many domestic cat mummies have been found interred in Egyptian temples. What is not so well known is that one other species of cat was occasionally preserved after death via mummification; that was the jungle cat.[4] F. chaus is not a timid species; they are known for moving into abandoned buildings and living as happily by irrigation canals as by wild rivers, provided that adequate prey and shrubbery for cover are available. Because domestic cats are likely to have frequently encountered jungle cats along the Nile and occasionally even within their owners' homes, it seems that hybrids of the two species were probably often born there.[5][better\\xa0source\\xa0needed]\\n\"],\n",
       " ['Colorpoint Shorthair - Wikipedia', 17, 10662, '\\n'],\n",
       " ['Cornish Rex - Wikipedia',\n",
       "  13,\n",
       "  11563,\n",
       "  'The Cornish Rex is a breed of domestic cat. The Cornish Rex only has down hair. Most breeds of cat have three different types of hair in their coats: the outer fur or \"guard hairs\", a middle layer called the \"awn hair\"; and the down hair or undercoat, which is very fine and about 1\\xa0cm long. Cornish Rexes only have the undercoat.[1] The curl in their fur is caused by a different mutation and gene than that of the Devon Rex. The breed originated in Cornwall, Great Britain.\\n'],\n",
       " ['Cymric cat - Wikipedia',\n",
       "  13,\n",
       "  17086,\n",
       "  'The Cymric (/ˈkɪmrɪk/ KIM-rik, /ˈkʌmrɪk/ KUM-rik) is a Canadian cat breed. Some cat registries consider the Cymric a semi-long-haired variety of the Manx breed, rather than a separate breed. Except for the length of fur, in all other respects, the two varieties are the same, and kittens of either sort may appear in the same litter. The name comes from Cymru (Welsh pronunciation: [ˈkəmrɨ]), the indigenous Welsh name of Wales, even though the breed is not associated with Wales. The name may have been chosen to provide a \"Celtic\" sounding moniker for the breed. While the breed\\'s Manx bloodline originated from the Isle of Man, the long-haired variant is claimed to have been developed by Canada. The breed is called the Longhair Manx or a similar name by some registries.\\n'],\n",
       " ['Cyprus cat - Wikipedia',\n",
       "  13,\n",
       "  19463,\n",
       "  \"Cyprus cats, also known as Cypriot cats, Saint Helen cats, and Saint Nicholas cats, are a landrace of domestic cat found across the island of Cyprus.  A standardized breed is being developed from them; among cat fancier and breeder organizations, it is presently fully recognized by the World Cat Federation (WCF), with breeding regulated by the World Cat Congress (WCC), under the name Aphrodite's Giant; and provisionally by The International Cat Association (TICA) as the Aphrodite. All three organizations permit shorthaired and semi-longhaired versions and no out-crossing to other breeds.\\n\"],\n",
       " ['Devon Rex - Wikipedia',\n",
       "  19,\n",
       "  9513,\n",
       "  'The Devon Rex is a tall-eared, short-haired breed of cat that emerged in England during the late 1950s. The breed is known for its atypical appearance, with an oddly shaped head, large eyes, and the short and wavy coat.\\n'],\n",
       " ['Donskoy cat - Wikipedia',\n",
       "  9,\n",
       "  13830,\n",
       "  'The Donskoy breed is able to be traced back to one kitten. This breed started in 1987 with the discovery of a hairless cat in the Russian city of Rostov-on-Don by cat breeder Elena Kovaleva.[1][3] She had rescued a blue tortoiseshell kitten, which she named Varvara. At around four months of age, the cat began to lose fur.[1][3] Varvara mated with a local tomcat and produced a litter of kittens. Some were born hairless, and the others started with hair but lost it like their mother.[4] These kittens are the founding stock of the Donskoy breed and were later outcrossed with European Shorthair cats.[1]\\n'],\n",
       " ['Dragon Li - Wikipedia',\n",
       "  15,\n",
       "  10141,\n",
       "  'The Dragon Li displays a golden-brown, broken-mackerel (also known as broken-striped) tabby pattern; distinctive ear tipping; large round almond shaped luminescent yellow/green eyes; and a strong full bodied stature reminiscent of its wild nature.[citation needed]\\n'],\n",
       " ['List of experimental cat breeds - Wikipedia',\n",
       "  17,\n",
       "  36584,\n",
       "  \"The following is a list of experimental cat breeds and crossbreeds[1] that do not have the recognition of any major national or international cat registries, such as The International Cat Association (TICA) in the US, Europe, and Australasia; the Governing Council of the Cat Fancy (GCCF) in the UK, the Fédération Internationale Féline (FiFE) in continental Europe, the Cat Fanciers' Association (CFA) in North America, or the more recent World Cat Federation based in Germany. Such a breed may be recognized by one of the smaller cat registries. Smaller registries include the Rare and Exotic Feline Registry (REFR), and others. This list only includes breeds recognized by at least one extant, national or international, multi-breed registry.\\n\"],\n",
       " ['Egyptian Mau - Wikipedia',\n",
       "  21,\n",
       "  14471,\n",
       "  'The Egyptian Mau is a small to medium-sized, short to medium-haired cat breed. They are one of the few naturally spotted breeds of domesticated cat. The spots of the Mau occur on only the tips of the hairs of its coat. It is considered a rare breed.[1][2]\\n'],\n",
       " ['European Shorthair - Wikipedia',\n",
       "  20,\n",
       "  12212,\n",
       "  \"The European Shorthair, also known as the European [4] and Celtic/European Shorthair,[5] is a pedigreed cat breed. The breed's name has also been used to describe the landrace domestic cat of Europe, causing confusion as the pedigreed cats of this breed also should resemble the typical domestic cats of Europe.\\n\"],\n",
       " ['Exotic Shorthair - Wikipedia',\n",
       "  12,\n",
       "  12323,\n",
       "  'The Exotic Shorthair is a breed of cat developed as a short-haired version of the Persian. The Exotic is similar to the Persian in appearance with the exception of the short dense coat.[1]\\n'],\n",
       " ['Foldex cat - Wikipedia',\n",
       "  11,\n",
       "  16760,\n",
       "  'A Foldex cat, also known as an Exotic Fold,[1][unreliable source] is a crossbreed of cat developed in the Canadian province of Quebec. The foundation stock is Scottish Fold and Exotic Shorthair (and later Exotic Longhair). Foldexes are medium-sized cats with a rounded face, short legs, and sometimes folded ears; while the latter are intended to be the defining feature of the breed, only about 50% of them exhibit it. The eyes are rounded, the ears small, and the body stout like that of Scottish Fold, with a short face between those of the two originating breeds. The coat may be of any length, colour, and pattern.[2] The variety is recognized as a breed in its own right by one cat registry, the Canadian Cat Association (CCA),[2][3][non-primary source needed] but not by any of the major international ones.[2] Foldexes have genetic predispositions to multiple medical disorders, primarily inherited from the Scottish Fold, and their breeding has been banned in some countries as a result.\\n'],\n",
       " ['German Rex - Wikipedia',\n",
       "  14,\n",
       "  11177,\n",
       "  'The German Rex is a medium-sized breed with slender legs of a medium length. The head is round with well-developed cheeks and large, open ears. The eyes are of medium size in colours related to the coat colour. The coat is silky and short with a tendency to curl. The whiskers also curl, though less strongly than in the Cornish Rex. They may be nearly straight. All colours of coat, including white, are allowed. The body development is heavier than in the Cornish Rex - more like the European Shorthairs.\\n'],\n",
       " ['Havana Brown - Wikipedia',\n",
       "  13,\n",
       "  12483,\n",
       "  'It has been documented that self-brown cats were shown in Europe in the 1890s, one name given to these was the Swiss Mountain Cat. These disappeared until post-World War II, with the most likely explanation that the Siamese Cat Club of Britain discouraged their breeding.[2] The Swiss Mountain Cat was never used in the breeding programs of the modern Havana Brown. However, they likely share genetics inherited from the Siamese.\\n'],\n",
       " ['Highlander cat - Wikipedia',\n",
       "  14,\n",
       "  9516,\n",
       "  'The Highlander originated as a crossbreed of the experimental Desert Lynx breed and the Jungle Curl, to add the latter\\'s curled ears to the former.[1][2] They are bobtailed or short-tailed, have spotted or classic bullseye markings, mackerel and resemble the bobcat.[1][3] The Highlander has a long sloping forehead and blunt muzzle with a very wide nose.[3] The eyes are wide-set and the ears are upright with a slight curl and a slight turn in the backward direction.[3] The body is substantial and very muscular.[3] Females can grow to between 10 and 14 pounds (4.5 and 6.4\\xa0kg), and the males between 15 and 20 pounds (6.8 and 9.1\\xa0kg).[2] Despite the \"big-cat look\", the Highlander is a human-oriented, friendly and playful cat, and very active and confident.[2] The Highlander displays tabby/lynx point or solid point coloration in various colors. Bicolored cats are not allowed in the breed standard. Although some cats are polydactyl, it is not part of the standard and it is a disqualification in the show ring.[4]\\n'],\n",
       " ['Himalayan cat - Wikipedia',\n",
       "  26,\n",
       "  16411,\n",
       "  'The Himalayan (short for Himalayan Persian, or Colourpoint Persian as it is commonly referred to in Europe), is a breed or sub-breed of long-haired cat similar in type to the Persian, with the exception of its blue eyes and its point colouration, which were derived from crossing the Persian with the Siamese. Some registries may classify the Himalayan as a long-haired sub-breed of Siamese, or a colorpoint sub-breed of Persian. The World Cat Federation has merged them with the Colorpoint Shorthair and Javanese into a single breed, the Colorpoint.\\n'],\n",
       " ['Japanese Bobtail - Wikipedia',\n",
       "  16,\n",
       "  20616,\n",
       "  'As in most other breeds, Japanese Bobtails may have almost any color (or colors, arranged in any number of patterns). Predominantly-white calicoes are especially favored by the Japanese and by cat fanciers,[citation needed] and strongly represented in folklore, though other colorations are also accepted by breed standards.\\n'],\n",
       " ['Javanese cat - Wikipedia',\n",
       "  10,\n",
       "  13003,\n",
       "  'The Javanese, also known as the Colorpoint (or Colourpoint) Longhair in some registries (though that name has other meanings), is a variety of purebred domestic cat.\\n'],\n",
       " ['Kanaani cat - Wikipedia',\n",
       "  8,\n",
       "  7982,\n",
       "  'The cat breed was named after the land of Canaan, which is now recognized as the area located between the Lebanon and the Sinai Peninsula.[1]\\n'],\n",
       " ['Khao Manee - Wikipedia',\n",
       "  15,\n",
       "  14516,\n",
       "  'The Khao Manee cat (Thai: ขาวมณี, RTGS:\\xa0Khao Mani, lit. \"white jewel\"), or Khao Plort (Thai: ขาวปลอด, lit. \"complete white\"), also known as the Diamond Eye cat,[1] is a rare, natural breed of domestic cat originating in Thailand, which has an ancient ancestry tracing back hundreds of years. They are mentioned in the Tamra Maew (Cat Book Poems).[2] Khao Manee cats are short-haired solid-white cats.\\n'],\n",
       " ['List of experimental cat breeds - Wikipedia',\n",
       "  17,\n",
       "  36619,\n",
       "  \"The following is a list of experimental cat breeds and crossbreeds[1] that do not have the recognition of any major national or international cat registries, such as The International Cat Association (TICA) in the US, Europe, and Australasia; the Governing Council of the Cat Fancy (GCCF) in the UK, the Fédération Internationale Féline (FiFE) in continental Europe, the Cat Fanciers' Association (CFA) in North America, or the more recent World Cat Federation based in Germany. Such a breed may be recognized by one of the smaller cat registries. Smaller registries include the Rare and Exotic Feline Registry (REFR), and others. This list only includes breeds recognized by at least one extant, national or international, multi-breed registry.\\n\"],\n",
       " ['Korat - Wikipedia',\n",
       "  21,\n",
       "  14142,\n",
       "  'The Korat is a natural breed, and one of the oldest stable cat breeds, and one of the very few that has not changed its appearance throughout centuries. Originating in Phimai, Thailand, it is named after its province of origin, Nakhon Ratchasima Province (typically called \"Korat\" by the Thai people).[3] In Thailand, the breed is known as Si sawat, meaning \"colour of the sawat seed\".[1]  The Korat is known colloquially as the \"good luck cat\".[2] Traditionally, they are given in pairs to newlyweds or people who are highly esteemed, for good luck. Until recently, Korats were not sold, but only given as gifts.[1]\\n'],\n",
       " ['Natural bobtail - Wikipedia',\n",
       "  7,\n",
       "  8637,\n",
       "  'Because of legislation restricting or preventing docking, natural bobtails are growing in popularity among the dog fancy for some traditionally docked breeds.  For example, one Boxer breeder and geneticist in England has successfully petitioned the Kennel Club for permission to cross Corgis into his lines and then backcross to Boxers, introducing the gene into his lines.[1]  This would have been unheard of in decades past. A number of these bobtail Boxers have been exported to various countries around the world.\\n'],\n",
       " ['Siamese cat - Wikipedia',\n",
       "  32,\n",
       "  32344,\n",
       "  'The Siamese cat (Thai: แมวไทย, Maeo  Thai; แมวสยาม, Maeo Sayam) is one of the first distinctly recognised breeds of Asian cat. It derives from the Wichianmat landrace. The Siamese cat is one of several varieties of cats native to Thailand (known as Siam before 1939). The original Siamese became one of the most popular breeds in Europe and North America in the 19th century.[1] Siamese cats have a distinctive colourpoint coat, resulting from a temperature-sensitive type of albinism. \\n'],\n",
       " ['Kurilian Bobtail - Wikipedia',\n",
       "  11,\n",
       "  11056,\n",
       "  'Kurilians are recognized as a breed group of a pair related short- and [semi-]long-haired breeds by The International Cat Association (TICA), which considers them \"Advanced New Breeds\" ineligible for championship status,[4] as of 2011[update]) and by the Fédération Internationale Féline (FIFe). The World Cat Federation (WCF) recognizes them as a single breed.[citation needed]  As of 2011[update], the Cat Fanciers\\' Association (CFA) did not recognize the breed at all.\\n'],\n",
       " ['List of experimental cat breeds - Wikipedia',\n",
       "  17,\n",
       "  36633,\n",
       "  \"The following is a list of experimental cat breeds and crossbreeds[1] that do not have the recognition of any major national or international cat registries, such as The International Cat Association (TICA) in the US, Europe, and Australasia; the Governing Council of the Cat Fancy (GCCF) in the UK, the Fédération Internationale Féline (FiFE) in continental Europe, the Cat Fanciers' Association (CFA) in North America, or the more recent World Cat Federation based in Germany. Such a breed may be recognized by one of the smaller cat registries. Smaller registries include the Rare and Exotic Feline Registry (REFR), and others. This list only includes breeds recognized by at least one extant, national or international, multi-breed registry.\\n\"],\n",
       " ['LaPerm - Wikipedia',\n",
       "  18,\n",
       "  20828,\n",
       "  'The LaPerm is a rex breed which originated in the United States and is now present in many other countries worldwide. The breed is genetically unique and not related to any other rex cat varieties, having a dominant gene causing their curly coats. They have an elegant and athletic build and are affectionate, active, and outgoing in character. They are reputed to be hypoallergenic cats, provoking a significantly lower level of an allergic response in humans than normal cats. Their most significant feature is their coat, which is made up of soft waves, curls, and ringlets, resembling a shaggy perm.\\n'],\n",
       " ['Lykoi - Wikipedia',\n",
       "  12,\n",
       "  12723,\n",
       "  'The Lykoi (commonly called wolf cat or werewolf cat) is a breed of cat derived from a natural mutation causing a form of hypotrichia (e.g. congenital alopecia)[1] found in domestic short-haired cats. The mutation has occurred in domestic cats over the last 20 years. DNA testing has been done by UC Davis to confirm that the cats do not carry the Sphynx/Devon Rex gene. The breed was developed by Brittney Gobble in Vonore, Tennessee.[2][better\\xa0source\\xa0needed]\\n'],\n",
       " ['Maine Coon - Wikipedia',\n",
       "  31,\n",
       "  30982,\n",
       "  'The Maine Coon is a large domesticated cat breed. One of the oldest natural breeds in North America, the breed originated in the U.S. state of Maine,[3][4] where it is the official state cat.\\n'],\n",
       " ['Manx cat - Wikipedia',\n",
       "  20,\n",
       "  55556,\n",
       "  'The Manx cat (/ˈmæŋks/, in earlier times often spelled Manks) is a breed of domestic cat (Felis catus) originating on the Isle of Man, with a mutation that shortens the tail. Many Manx have a small stub of a tail, but Manx cats are best known as being entirely tailless; this is the most distinguishing characteristic of the breed, along with elongated hind legs and a rounded head. Manx cats come in all coat colours and patterns, though all-white specimens are rare, and the coat range of the original stock was more limited. Long-haired variants are sometimes considered a separate breed, the Cymric cat.\\n'],\n",
       " ['Mekong Bobtail - Wikipedia',\n",
       "  10,\n",
       "  5413,\n",
       "  'In the 19th century, Mekong Bobtails were among the royal cats given to Russian emperor Nicholas II by Chulalongkorn, king of Siam.[1] The majority of the 200 royal cats gifted by Chulalongkorn had kinked tails resembling those of the modern-day Mekong Bobtail.[2] Other bobtail cats from Southeast Asia were also imported into Russia.[3][2] The breed is considered to have been developed in Russia,[4][5] and continued to be experimentally developed there, being bred with other bobtail cats, and possibly also with Siamese cats. The breed started to become more widely known in the 1980s, and in December 1994 a breed standard was drawn up by O. S. Mironova, a Russian felinologist.[4] The breed was recognised by the World Cat Federation in August 2004, and at that time its name was changed from \"Thai Bobtail\" to \"Mekong Bobtail\".[6][7]\\n'],\n",
       " ['Minskin - Wikipedia',\n",
       "  8,\n",
       "  8902,\n",
       "  'The Minskin is a breed of cat derived from intentional cross-breeding between the Munchkin and Burmese cat breeds, with the addition of Sphynx and Devon Rex. It is a mostly-hairless breed of cat [citation needed]\\n'],\n",
       " ['Minuet cat - Wikipedia',\n",
       "  9,\n",
       "  12947,\n",
       "  'The Minuet[1] (also known as the Napoleon[2]) is a hybrid mix of Persian and Munchkin cat breeds. Categorized by The International Cat Association (TICA) as a domestic hybrid, \"developed from a deliberate cross between two existing domestic breeds, incorporating characteristics of both parental breeds into the new mix.\"[3] The Minuet cat is characterized by its short legs, as a result of the dwarfism-mutation derived from the Munchkin breed.\\n'],\n",
       " ['Munchkin cat - Wikipedia',\n",
       "  9,\n",
       "  20932,\n",
       "  'The Munchkin is a breed of cat characterized by its very short legs, which are caused by a genetic mutation. Compared to many other cat breeds, it is a relatively new breed, documented since 1940s[1] and officially recognized in 1991.[2] The Munchkin is considered to be the original breed of dwarf cat.\\n'],\n",
       " ['Nebelung - Wikipedia',\n",
       "  14,\n",
       "  9717,\n",
       "  'The American foundation of this cat breed was laid by the cats Siegfried (1984) and Brunhilde (1985). Cora Cobb, the owner of Siegfried and Brunhilde, was very impressed by the beauty of her blue-grey cats. Siegfried and Brunhilde looked like a Russian Blue but with a semi-long coat. To find out if it was possible to start a new breed with these cats, Cora got in touch with the geneticist of the American Cat Association. This geneticist, Solveig Pfleuger, said that the breed was best defined as semi-long haired Russian Blue. Supported by Pfleuger, Cobb wrote the breeding standard according to the Russian Blue, but with a difference: its coat length.\\n'],\n",
       " ['Neva Masquerade - Wikipedia',\n",
       "  20,\n",
       "  21120,\n",
       "  'The Neva Masquerade is a specific colorway of semi long-haired Siberian Forest domestic cat, which originates in Russia.[1][2] It is not the sister breed[3] or colourpoint variant of the Siberian cat, a centuries-old Russian landrace. The colourpoint markings are the result of natural occurrence and not outside breeding with a Siamese, as is with the Himalayan breed.[4] The Neva Masquerade is naturally derived frcat]]s.[3][5][6]  All Neva Masquerade cats are selectively bred and pedigreed today in all major cat fancier and breeder organisations under the Siberian (Forest) cat or Neva Masquerade. This means that all Neva Masquerade cats are purebred cats with a formally registered ancestry.\\n'],\n",
       " ['Norwegian Forest Cat - Wikipedia',\n",
       "  19,\n",
       "  20013,\n",
       "  \"The Norwegian Forest Cat (Norwegian: Norsk skogkatt or Norsk skaukatt) is a breed of domestic cat originating in Northern Europe.[1] This landrace breed is adapted to a very cold climate, with a top coat of long, glossy hair and a woolly undercoat for insulation. The breed's ancestors may have been a landrace breed of short-haired cats brought to Norway about A.D. 1000 by the Vikings, who may also have brought with them long-haired cats, like those ancestral to the modern Siberian and Turkish Angora.\\n\"],\n",
       " ['Ocicat - Wikipedia',\n",
       "  18,\n",
       "  12568,\n",
       "  \"The Ocicat was created spontaneously by Virginia Daly of Berkley, Michigan, who attempted to breed an Abyssinian-pointed Siamese in 1964. Daly bred a ruddy Abyssinian male named Dalai Deta Tim of Selene to a female seal point Siamese named Dalai Tomboy Patter. The first generation of kittens appeared Abyssinian and a female named Dalai She was kept. Dalai She was later bred to a chocolate point Siamese named Whitehead Elegante Sun. The resulting litter had the desired Abyssinian point Siamese type cats. She continued breeding them but this time one of the kittens was an ivory cat with golden spots. Virginia's daughter said he looked like an ocelot and wished to name him 'ocicat', instead he was named Tonga and was sold off to a medical student for $10 with an agreement to neuter him.[1] Virginia read an article by Dr. Clyde Keeler of Georgia State College for Women that described the extinct egyptian spotted fishing cat. Realising Tonga looked similar to the cat she wrote to him about the cat. He replied and suggested that she breed Tonga back with his mother. Given that Tonga couldn't be used she bred his parents together again and this produced a tawny-spotted male named Dalai Dotson. The Cat Fanciers' Association (CFA) made an error when registering the breed and listed it as a mix between the Abyssinian and American Shorthair. This led to the current breed standard where American Shorthair is acceptable and added in more colour variation to the Ocicat. The Ocicat would first be brought to the United Kingdom in 1988 when two cats: Catoninetail Mr Smith and Catoninetail Miss Jones were imported from the United States. Four more would be imported a year later. A total of 33 cats would be imported before 2015.[1][2][3][4] Other breeders joined in and used the same recipe, Siamese to Abyssinian, and offspring to Siamese. [5]\\n\"],\n",
       " ['Ojos Azules - Wikipedia',\n",
       "  10,\n",
       "  11237,\n",
       "  \"Ojos Azules (Spanish: [ˈoxos aθˈules], 'Blue Eyes') was a breed of shorthaired[1][2] domestic cat with unusual blue or odd eyes[1] caused by a dominant blue eye (DBE) genetic mutation. The breed came in all coat colors; however, only particolors (bicolors and tricolors), colorpoints, and intermediate colors with a characteristic white tail tip were permitted.[1] The breed also had a semi-longhaired coat variety, the Ojos Azules Longhair.[1] Due to the lethal side effects of the Ojos Azules gene, breeders stopped working with this blue eye mutation.[3][unreliable source]\\n\"],\n",
       " ['Oriental bicolour - Wikipedia',\n",
       "  10,\n",
       "  9880,\n",
       "  \"Although some experimental breeding took place during the 1970s and 1980s in the UK, including Pat Turner's Seychellois breeding program, modern-day Oriental bicolours owes their origins to matings initiated in the United States by Lindajean Grillo of Ciara Cattery. Starting in 1979, Grillo carried out a series of matings between Siamese and bicoloured American Shorthair. She then selected the best bicoloured offspring to mate back to Siamese or Orientals in order to regain type. The variety was granted recognition by TICA in 1983 and the first champion was Ciara Quite-N-Oreo.\\n\"],\n",
       " ['Oriental Longhair - Wikipedia',\n",
       "  15,\n",
       "  9733,\n",
       "  'Oriental Longhairs feature a long, tubular, Oriental-style body with a longer silky coat. The range of possible coat colours includes everything from self-coloured (black, blue, chocolate, lilac, cinnamon, caramel, fawn, red, cream and apricot), tortoiseshell, smoke (silver undercoat), shaded or tipped, tabby or white. The eyes are almond shaped. The preferred eye colour for Oriental Longhairs is green; except for the whites, which may have green or blue eyes, or be odd-eyed (two different coloured eyes).[4]\\n'],\n",
       " ['Oriental Shorthair - Wikipedia',\n",
       "  19,\n",
       "  16361,\n",
       "  'While the breed\\'s genetic roots are ultimately in Thailand, it was formally developed in the US by a number of New York area cat breeders, led by Vicky and Peter Markstein (PetMark cattery), who in 1971–72 were intrigued by lynx patterned and solid colored cats of a Siamese body type at Angela Sayers\\' Solitaire Cattery[2] and at Patricia White\\'s.[3] These were based on solid-colored cats with the body of a Siamese, bred by Baroness von Ullmann over the 1950s.[3][4]  An \"Oriental Shorthairs International\" was formed in 1973,[2] and Peter Markstein presented the breed to the 1976 Annual Cat Fanciers Association, at the same time as the Havana Brown was presented by Joe Bittaker.[5] In 1977 the Oriental Shorthair was accepted by the Cat Fanciers\\' Association for championship competition. Since 1997, it has also received recognition from the GCCF and various other cat breeding organizations. The breed is among the most popular among CFA members.[6]\\n'],\n",
       " ['Persian cat - Wikipedia',\n",
       "  47,\n",
       "  63583,\n",
       "  \"The Persian cat, also known as the Persian Longhair, is a long-haired breed of cat characterised by a round face and short muzzle. The first documented ancestors of Persian cats might have been imported into Italy from Khorasan as early as around 1620, but this has not been proven. Instead, there is stronger evidence for a longhaired cat breed being exported from Afghanistan and Iran/Persia from the 19th century onwards.[2][3][4] Persian cats have been widely recognised by the North-West European cat fancy since the 19th century,[5] and after World War II by breeders from North America, Australia and New Zealand.[5] Some cat fancier organisations' breed standards subsume the Himalayan and Exotic Shorthair as variants of this breed, while others generally treat them as separate breeds.\\n\"],\n",
       " ['Traditional Persian - Wikipedia',\n",
       "  26,\n",
       "  16145,\n",
       "  'The physical appearance of this domestic cat breed barely changed when compared to photos dating back to the late 1800s. However, since some breeders in the United States and other parts of the world introduced the brachycephalic mutation into the breed, the short nose and clear break became shorter and higher. This resulted in the modification of the original Persian breed standard so that modern show quality Persians must have pushed-in faces. This resulted in the breed disappearing from cat shows.\\n'],\n",
       " ['Peterbald - Wikipedia',\n",
       "  12,\n",
       "  9569,\n",
       "  'The Peterbald is a hairless cat breed of Russian origin. It was created in St. Petersburg in 1994 from an experimental cross of a Don Sphynx and an Oriental Shorthair. They have an Oriental build with a dominant hair-losing gene. The breed was accepted for Championship status in 2009.\\n'],\n",
       " ['Pixie-bob - Wikipedia',\n",
       "  13,\n",
       "  12779,\n",
       "  'In the spring of 1985, Carol Ann Brewer purchased near Mount Baker, Washington, a unique male cat with a spotted coat, a short tail, and polydactyl paws.[2] In January 1986, she rescued another male cat named Keba, which was very large, had a bobbed tail, and was reported to have been sired by a bobcat.[3] While this cat was starving, it still weighed 17\\xa0pounds, and was so tall it reached up to Brewer\\'s knees. Shortly after she had acquired this large male, it mated with a next door neighbor\\'s brown spotted female cat.[2][4] In April 1986, a litter was born from this mating. Brewer eventually kept one of the female kittens, named \"Pixie\", and after a year started a breeding program with Pixie as the foundation cat.[2]\\n'],\n",
       " ['Ragamuffin cat - Wikipedia',\n",
       "  16,\n",
       "  13867,\n",
       "  'The physical traits of the breed include a rectangular, broad-chested body with shoulders supporting a short neck. These cats are classified as having heavy bones[1] and a \"substantial\" body type.[2]\\n'],\n",
       " ['Ragdoll - Wikipedia',\n",
       "  16,\n",
       "  20025,\n",
       "  'Ragdolls are often known as \"dog-like cats\" or \"puppy-like cats\", due to their tendency to follow people around, their receptiveness to handling, and their relative lack of aggression towards other pets.[2]\\n'],\n",
       " ['Raas cat - Wikipedia',\n",
       "  11,\n",
       "  7983,\n",
       "  'The Busok Raas cat has four color variations – blue, black, chocolate and lilac. The breed characteristic short and curved tail. Now days Busok has independent organization known as IBRA (Indonesian Busok Raas Association)\\n'],\n",
       " ['Russian Blue - Wikipedia',\n",
       "  19,\n",
       "  16973,\n",
       "  \"The Russian Blue cat (Russian: Русская голубая кошка, romanized:\\xa0Russkaya golubaya koshka), commonly referred to as just Russian Blue, is a pedigreed cat breed with solid blue colours that vary from a light shimmering silver to a darker, slate grey. The short, dense coat, which stands out from the body, has been the breed's hallmark for more than a century.\\n\"],\n",
       " ['Russian White, Black, and Tabby - Wikipedia',\n",
       "  6,\n",
       "  6515,\n",
       "  'In the UK, Frances McLeod of Arctic began breeding Russian Whites and Russian Blacks in the 1960s.\\n'],\n",
       " ['Thai cat - Wikipedia',\n",
       "  20,\n",
       "  15330,\n",
       "  'Compared to the modern-style, more extreme-featured Siamese, the traditional Thai breed (and native wichienmaat specimens) have a much more moderate appearance.\\n'],\n",
       " ['Savannah cat - Wikipedia', 18, 23727, '\\n'],\n",
       " ['Scottish Fold - Wikipedia',\n",
       "  16,\n",
       "  30550,\n",
       "  'The Scottish Fold is a distinctive breed of domestic cat characterised by a natural dominant gene mutation associated with osteochondrodysplasia. This genetic anomaly affects cartilage throughout the body, causing the ears to \"fold\", bending forward and down towards the front of the head. While this trait contributes to the breed\\'s unique appearance, often described as \"owl-like\",[1] it also causes health problems.\\n'],\n",
       " ['Selkirk Rex - Wikipedia',\n",
       "  11,\n",
       "  12281,\n",
       "  'The Selkirk Rex is distinct from all other Rex breeds. Unlike the Devon Rex and Cornish Rex, the hair is of normal length and not partly missing. There are longhair and shorthair varieties.[2] It differs from the LaPerm in that the Selkirk Rex coat is plusher and thicker. While the LaPerm gene is a simple dominant, the Selkirk gene (Se) acts as an incomplete dominant; incompletely dominant allele pairs produce three possible genotypes and phenotypes: heterozygous cats (Sese) may have a fuller coat that is preferred in the show ring, while homozygous cats (SeSe) may have a tighter curl and less coat volume.\\n'],\n",
       " ['Serengeti cat - Wikipedia',\n",
       "  10,\n",
       "  9176,\n",
       "  'Serengetis are spotted cats, with long legs and very large, round tipped ears.[2] They have a long neck which blends with the base of the skull without tapering.[2] Males are generally slightly larger and heavier than females and can weigh between 10 and 15\\xa0lb (4.5 and 6.8\\xa0kg); females generally weigh between 8 and 12\\xa0lb (3.6 and 5.4\\xa0kg).[3] They are recognized by TICA in tabby, ebony silver, ebony smoke and solid black.\\n'],\n",
       " ['Siamese cat - Wikipedia',\n",
       "  32,\n",
       "  32311,\n",
       "  'The Siamese cat (Thai: แมวไทย, Maeo  Thai; แมวสยาม, Maeo Sayam) is one of the first distinctly recognised breeds of Asian cat. It derives from the Wichianmat landrace. The Siamese cat is one of several varieties of cats native to Thailand (known as Siam before 1939). The original Siamese became one of the most popular breeds in Europe and North America in the 19th century.[1] Siamese cats have a distinctive colourpoint coat, resulting from a temperature-sensitive type of albinism. \\n'],\n",
       " ['Siberian cat - Wikipedia',\n",
       "  25,\n",
       "  39065,\n",
       "  'The Siberian is a centuries-old landrace (natural variety) of domestic cat in Russia,[3] and recently developed as a formal breed with standards promulgated the world over since the late-1980s.[4] Since 2006, the breed is recognised for registry and championship status with all major cat registries.[5][6]\\n'],\n",
       " ['Singapura cat - Wikipedia',\n",
       "  16,\n",
       "  16224,\n",
       "  'In 1975, after working in Singapore, Tommy and Hal Meadow returned to the US with what they say were three local brown-ticked cats.[1] These three cats, a pair of male and female kittens from the same litter and another young female, were the foundation used to establish the Singapura. The breed takes its name from the Malay name for Singapore. In 1981 a breeder[who?] visited Singapore and chanced upon a cat fitting the profile of the Singapura (with the exception of the tail) in the local Society for the Prevention of Cruelty to Animals. The cat was imported to the US and adopted into the breeding program.[1]\\n'],\n",
       " ['Snowshoe cat - Wikipedia',\n",
       "  14,\n",
       "  14157,\n",
       "  'The Snowshoe is a rare breed of domestic cat originating in the United States of America in the 1960s. The Snowshoe is a short-haired bicolour colourpoint breed. Snowshoes were first produced when a Siamese breeder\\'s cat gave birth to three kittens with white feet. The breeder, Dorothy Hinds-Daugherty, then began a breeding program to produce what were originally called \"Silver Laces\",[1] crossing the strangely marked Siamese cats with bicolour American Shorthair cats and other breeds. Despite having existed for 45 years, Snowshoes are rare due to the difficulty of reproducing the correct coat markings.\\n'],\n",
       " ['Sokoke - Wikipedia',\n",
       "  9,\n",
       "  20435,\n",
       "  '\\nCoastal Kenya\\'s distinctive, free-roaming, feral cats\\xa0– known as khadzonzo or kadzonzo, and found from city streets to the Arabuko Sokoke national forest\\xa0– were \"discovered\", in the Western cat fancy sense, by horse breeder and wildlife artist Jeni Slater in 1978 near Watamu coconut plantation,[3] though of course the cats were known for much longer by native people. By that point, the rural population were thought to be nearly extinct due to human encroachment on the forest and its resources.[4] Although there were ideas that it might be a new subspecies of wildcat, the tameness of the kittens Slater reared suggested that theoretical hybridisation with wildcats was unlikely, as did features like the long, tapered tail (not characteristic of any wild African species), a general form consistent with Asian domestic cat breeds (very unlike the cobby[5] figure of wildcats), and the mottled, blotched coat pattern (a characteristic of urban cat populations).[4] The feral khadzonzo were developed into a standardised breed, the Sokoke, which has a much more uniform appearance than the landrace cats.\\n'],\n",
       " ['Somali cat - Wikipedia',\n",
       "  19,\n",
       "  12331,\n",
       "  'The Somali cat is genetically similar to the Abyssinian cat. Due to inheriting 2 copies of the recessive gene for long hair, they have a characteristic luscious coat, unlike their cousin the Abyssinian.\\n'],\n",
       " ['Sphynx cat - Wikipedia',\n",
       "  13,\n",
       "  24661,\n",
       "  \"The skin has a texture of chamois leather,[2] as it has fine hairs, or the cat may be completely hairless. Whiskers may be present, either whole or broken, or may be totally absent. Per the breed standards, they have a somewhat wedge-shaped head with large eyes and ears, quite long legs and tail, and neat rounded paws. Their skin is the color that their fur would be, and all the usual cat markings (solid, point, van, tabby, tortie, etc.) may be found on the Sphynx cat's skin. Because they have no fur, Sphynx cats lose body heat more readily than coated cats, making them both warm to the touch and prone to seeking out warm places.\\n\"],\n",
       " ['Suphalak - Wikipedia',\n",
       "  14,\n",
       "  17395,\n",
       "  'According to TIMBA, the Suphalak is a natural breed and should not be confused with the sable Burmese cat, an established American and European created breed which expresses the colorpoint Burmese gene (cb) that results in a dark points on the extremities such as the ears, feet and tail as well as a dark mask on the face.[1]\\n'],\n",
       " ['Thai cat - Wikipedia',\n",
       "  20,\n",
       "  15330,\n",
       "  'Compared to the modern-style, more extreme-featured Siamese, the traditional Thai breed (and native wichienmaat specimens) have a much more moderate appearance.\\n'],\n",
       " ['Korat - Wikipedia',\n",
       "  21,\n",
       "  14142,\n",
       "  'The Korat is a natural breed, and one of the oldest stable cat breeds, and one of the very few that has not changed its appearance throughout centuries. Originating in Phimai, Thailand, it is named after its province of origin, Nakhon Ratchasima Province (typically called \"Korat\" by the Thai people).[3] In Thailand, the breed is known as Si sawat, meaning \"colour of the sawat seed\".[1]  The Korat is known colloquially as the \"good luck cat\".[2] Traditionally, they are given in pairs to newlyweds or people who are highly esteemed, for good luck. Until recently, Korats were not sold, but only given as gifts.[1]\\n'],\n",
       " ['Tonkinese cat - Wikipedia',\n",
       "  21,\n",
       "  15059,\n",
       "  'Tonkinese is a domestic cat breed produced by crossbreeding between the Siamese and Burmese. Members of the breed are distinguished by a pointed coat pattern in a variety of colors. In addition to the modified coat colors of the \"mink\" pattern, which is a dilution of the point color, the breed is now being shown in the foundation-like Siamese and Burmese colors: pointed with white and solid overall (sepia). \\n'],\n",
       " ['Toybob - Wikipedia',\n",
       "  8,\n",
       "  6723,\n",
       "  'It bears the Siamese colourpoint mutation gene.[2]\\n'],\n",
       " ['Toyger - Wikipedia',\n",
       "  13,\n",
       "  12223,\n",
       "  'In 2020, 469 toygers are registered on the Pawpeds Database.[5]\\n'],\n",
       " ['Turkish Angora - Wikipedia',\n",
       "  18,\n",
       "  14750,\n",
       "  \"The Turkish Angora (Turkish: Ankara kedisi, 'Ankara cat'[2]) is a breed of domestic cat. Turkish Angoras are one of the ancient, natural breeds of cat, having originated in central Anatolia (Ankara Province in modern-day Turkey). The breed has been documented as early as the 17th century. Outside of the United States, the breed is usually referred to as simply the Angora or Ankara cat.[2] These cats have slender and elegant bodies.\\n\"],\n",
       " ['Turkish Van - Wikipedia',\n",
       "  20,\n",
       "  21915,\n",
       "  'The Turkish Van is a semi-long-haired, standardised breed of domestic cat, which was developed in the United Kingdom from a selection of cats obtained from various cities of modern Turkey, especially southeast Turkey.[1]:\\u200a112\\u200a The breed is rare,[2] is one of the larger breeds, and is distinguished by the Van pattern (named after the breed), where the colour is restricted to the head and the tail, and the rest of the cat is white;[2] this is due to the expression of the piebald white spotting gene, a type of partial leucism.[3]:\\u200a148\\u200a A Turkish Van may have blue or amber eyes, or be odd-eyed (having one eye of each colour).\\n'],\n",
       " ['Van cat - Wikipedia',\n",
       "  14,\n",
       "  21778,\n",
       "  'The Turkish Van cat (Turkish: Van kedisi; Kurdish: Pisîka Wanê; Western Armenian: Վանայ կատու, romanized:\\xa0Vana gadu; Eastern Armenian: Վանա կատու, romanized:\\xa0Vana katu) is a distinctive landrace (or \"natural breed\") of the domestic cat found around Lake Van in the Eastern Anatolia Region of Turkey.\\n'],\n",
       " ['Ukrainian Levkoy - Wikipedia',\n",
       "  12,\n",
       "  7766,\n",
       "  'The Levkoy\\'s peculiar features are: special angular contour of its head and \"stepped\" profile (dog-face appearance), folded ears and large, but not wide almond-shaped eyes. The cats express sexual dimorphism.[1]\\n'],\n",
       " ['York Chocolate - Wikipedia',\n",
       "  9,\n",
       "  7886,\n",
       "  \"As “Il Gatto Cioccolato” it found favour in Italy and the International York Chocolate Federation (IYCF) was founded there in 2003. The IYCF claimed affiliation with the German Feline Federation Europe (FFE)/Bavarian Cat Fanciers' Association (BCFA), which published a standard (minus colour information) in 2004. It also claimed affiliation with the Russian World Felinological Federation (WFF), although the latter does not recognize the York Chocolate as breed.\\n\"]]"
      ]
     },
     "execution_count": 78,
     "metadata": {},
     "output_type": "execute_result"
    }
   ],
   "source": [
    "# Solution:\n",
    "from tqdm import tqdm # progress bar\n",
    "\n",
    "data = []\n",
    "\n",
    "for page in tqdm(valid_breeds):\n",
    "    url = \"https://en.wikipedia.org\" + page\n",
    "    s = BeautifulSoup(requests.get(url).text)\n",
    "    title = s.title.text\n",
    "    n_img = len(s.select(\"img\"))\n",
    "    n_char = len(s.text)\n",
    "    first_p = s(\"p\")[1].text\n",
    "    data.append([title, n_img, n_char, first_p])\n",
    "\n",
    "data"
   ]
  },
  {
   "cell_type": "markdown",
   "metadata": {
    "id": "G6S7NWWYjn6c"
   },
   "source": [
    "Create a Pandas dataframe with the information you gathered and inspect it. Which cat has the longest article? Which one has the most images?"
   ]
  },
  {
   "cell_type": "code",
   "execution_count": 82,
   "metadata": {
    "id": "ebz0FVu7n0Eg"
   },
   "outputs": [
    {
     "data": {
      "text/html": [
       "<div>\n",
       "<style scoped>\n",
       "    .dataframe tbody tr th:only-of-type {\n",
       "        vertical-align: middle;\n",
       "    }\n",
       "\n",
       "    .dataframe tbody tr th {\n",
       "        vertical-align: top;\n",
       "    }\n",
       "\n",
       "    .dataframe thead th {\n",
       "        text-align: right;\n",
       "    }\n",
       "</style>\n",
       "<table border=\"1\" class=\"dataframe\">\n",
       "  <thead>\n",
       "    <tr style=\"text-align: right;\">\n",
       "      <th></th>\n",
       "      <th>title</th>\n",
       "      <th>n_img</th>\n",
       "      <th>n_char</th>\n",
       "      <th>first_p</th>\n",
       "    </tr>\n",
       "  </thead>\n",
       "  <tbody>\n",
       "    <tr>\n",
       "      <th>0</th>\n",
       "      <td>Abyssinian cat - Wikipedia</td>\n",
       "      <td>15</td>\n",
       "      <td>19134</td>\n",
       "      <td>The Abyssinian /æbɪˈsɪniən/ is a breed of cat ...</td>\n",
       "    </tr>\n",
       "    <tr>\n",
       "      <th>1</th>\n",
       "      <td>Aegean cat - Wikipedia</td>\n",
       "      <td>13</td>\n",
       "      <td>9377</td>\n",
       "      <td>The Aegean cat, as its name suggests, originat...</td>\n",
       "    </tr>\n",
       "    <tr>\n",
       "      <th>2</th>\n",
       "      <td>American Bobtail - Wikipedia</td>\n",
       "      <td>11</td>\n",
       "      <td>9498</td>\n",
       "      <td>American Bobtails are a very sturdy breed, wit...</td>\n",
       "    </tr>\n",
       "    <tr>\n",
       "      <th>3</th>\n",
       "      <td>American Curl - Wikipedia</td>\n",
       "      <td>11</td>\n",
       "      <td>8726</td>\n",
       "      <td>The first American Curls appeared as strays on...</td>\n",
       "    </tr>\n",
       "    <tr>\n",
       "      <th>4</th>\n",
       "      <td>American Shorthair - Wikipedia</td>\n",
       "      <td>17</td>\n",
       "      <td>11572</td>\n",
       "      <td>The American Shorthair (ASH) is a breed of dom...</td>\n",
       "    </tr>\n",
       "  </tbody>\n",
       "</table>\n",
       "</div>"
      ],
      "text/plain": [
       "                            title  n_img  n_char  \\\n",
       "0      Abyssinian cat - Wikipedia     15   19134   \n",
       "1          Aegean cat - Wikipedia     13    9377   \n",
       "2    American Bobtail - Wikipedia     11    9498   \n",
       "3       American Curl - Wikipedia     11    8726   \n",
       "4  American Shorthair - Wikipedia     17   11572   \n",
       "\n",
       "                                             first_p  \n",
       "0  The Abyssinian /æbɪˈsɪniən/ is a breed of cat ...  \n",
       "1  The Aegean cat, as its name suggests, originat...  \n",
       "2  American Bobtails are a very sturdy breed, wit...  \n",
       "3  The first American Curls appeared as strays on...  \n",
       "4  The American Shorthair (ASH) is a breed of dom...  "
      ]
     },
     "execution_count": 82,
     "metadata": {},
     "output_type": "execute_result"
    }
   ],
   "source": [
    "# Solution:\n",
    "\n",
    "df = pd.DataFrame(data, columns=[\"title\", \"n_img\", \"n_char\", \"first_p\"])\n",
    "\n",
    "df.head()"
   ]
  },
  {
   "cell_type": "code",
   "execution_count": 87,
   "metadata": {},
   "outputs": [
    {
     "data": {
      "text/html": [
       "<div>\n",
       "<style scoped>\n",
       "    .dataframe tbody tr th:only-of-type {\n",
       "        vertical-align: middle;\n",
       "    }\n",
       "\n",
       "    .dataframe tbody tr th {\n",
       "        vertical-align: top;\n",
       "    }\n",
       "\n",
       "    .dataframe thead th {\n",
       "        text-align: right;\n",
       "    }\n",
       "</style>\n",
       "<table border=\"1\" class=\"dataframe\">\n",
       "  <thead>\n",
       "    <tr style=\"text-align: right;\">\n",
       "      <th></th>\n",
       "      <th>title</th>\n",
       "      <th>n_img</th>\n",
       "      <th>n_char</th>\n",
       "      <th>first_p</th>\n",
       "    </tr>\n",
       "  </thead>\n",
       "  <tbody>\n",
       "    <tr>\n",
       "      <th>67</th>\n",
       "      <td>Persian cat - Wikipedia</td>\n",
       "      <td>47</td>\n",
       "      <td>63583</td>\n",
       "      <td>The Persian cat, also known as the Persian Lon...</td>\n",
       "    </tr>\n",
       "  </tbody>\n",
       "</table>\n",
       "</div>"
      ],
      "text/plain": [
       "                      title  n_img  n_char  \\\n",
       "67  Persian cat - Wikipedia     47   63583   \n",
       "\n",
       "                                              first_p  \n",
       "67  The Persian cat, also known as the Persian Lon...  "
      ]
     },
     "execution_count": 87,
     "metadata": {},
     "output_type": "execute_result"
    }
   ],
   "source": [
    "# longest article\n",
    "df[df[\"n_char\"] ==  max(df[\"n_char\"])]"
   ]
  },
  {
   "cell_type": "code",
   "execution_count": 89,
   "metadata": {},
   "outputs": [
    {
     "data": {
      "text/plain": [
       "title                                Persian cat - Wikipedia\n",
       "n_img                                                     47\n",
       "n_char                                                 63583\n",
       "first_p    The Persian cat, also known as the Persian Lon...\n",
       "Name: 67, dtype: object"
      ]
     },
     "execution_count": 89,
     "metadata": {},
     "output_type": "execute_result"
    }
   ],
   "source": [
    "# most images\n",
    "df.loc[df[\"n_img\"].idxmax()]"
   ]
  }
 ],
 "metadata": {
  "colab": {
   "provenance": [
    {
     "file_id": "1J5sCNUxmBh0t7MH3cVHColt9WFjca3ze",
     "timestamp": 1614455032952
    }
   ],
   "toc_visible": true
  },
  "kernelspec": {
   "display_name": "Python 3",
   "name": "python3"
  },
  "language_info": {
   "codemirror_mode": {
    "name": "ipython",
    "version": 3
   },
   "file_extension": ".py",
   "mimetype": "text/x-python",
   "name": "python",
   "nbconvert_exporter": "python",
   "pygments_lexer": "ipython3",
   "version": "3.10.11"
  }
 },
 "nbformat": 4,
 "nbformat_minor": 0
}
