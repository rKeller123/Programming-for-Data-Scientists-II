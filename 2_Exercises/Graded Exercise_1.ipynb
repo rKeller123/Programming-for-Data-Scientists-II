{
 "cells": [
  {
   "cell_type": "markdown",
   "metadata": {
    "id": "U3zPuM3zuwFT"
   },
   "source": [
    "# Graded Exercise 1#\n",
    "\n",
    "<font color=\"red\">due April 18</font>"
   ]
  },
  {
   "cell_type": "code",
   "execution_count": null,
   "metadata": {
    "id": "FIhELB_MJiqx"
   },
   "outputs": [],
   "source": [
    "# If you have any suggestions about the exercises or the tutorial,\n",
    "# you can provide them here!"
   ]
  },
  {
   "cell_type": "markdown",
   "metadata": {
    "id": "z5gC-nnlkWaR"
   },
   "source": [
    "For these exercises, you will have to combine the different things you have learned so far, and find out on your own how to solve a particular problem/question. Everything is solvable with the things you have already learned (usually in several different ways)!\n",
    "\n",
    "> *Sometimes there may be more elegant or efficient solutions based on things we have not seen yet -- feel free to investigate! (But it might be a good idea to try to solve everything with the basic concepts as well so you get more used to them.)*\n",
    "\n",
    "You may realize that programming gets much more difficult if you have to choose which tools to use and combine several of them. Don't get discouraged if you don't find the solution right away! It is usually a good idea to break down a complicated task into smaller parts. You can try to do them separately (to see if it works) and put everything together in the end.\n",
    ">*For example, you may not want to write a function right away, but write the instructions you want it to carry out first and test them with an example. If it works, you pass it into the function. Alternatively, you might start by writing a very simple version of your function and see if it works -- and then try to add additional features.*\n",
    "\n",
    "If you get stuck, skip the respective part and try to move on with the next one (e.g. by typing in an example version of the intermediate result you didn't manage to create).\n",
    "\n",
    "When assessing your code, I will pay attention to whether the task is fulfilled, <u>but also look at general things such as the efficiency of the code, as well as the readability, replicability and generalizability. </u>"
   ]
  },
  {
   "cell_type": "markdown",
   "metadata": {
    "id": "PfFO6x0lNq1_"
   },
   "source": [
    "# Part I"
   ]
  },
  {
   "cell_type": "markdown",
   "metadata": {
    "id": "fTXm4BjVXSwH"
   },
   "source": [
    "### Exercise 1.1"
   ]
  },
  {
   "cell_type": "markdown",
   "metadata": {
    "id": "BtmQDpW8ZUsy"
   },
   "source": [
    "Consider the following string, based on text from Wikipedia about cats."
   ]
  },
  {
   "cell_type": "code",
   "execution_count": 2,
   "metadata": {
    "id": "h9KQ2JfZ6cEa"
   },
   "outputs": [],
   "source": [
    "my_str = \"\"\"The cat (Felis catus) is a domestic species of small carnivorous mammal.[1][2]\n",
    "t is the only domesticated species in the family Felidae and is often referred to as\n",
    "the domestic cat to distinguish it from the wild members of the family.[4]\n",
    "A cat can either be a house cat, a farm cat or a feral cat; the latter ranges\n",
    "freely and avoids human contact.[5] Domestic cats are valued by humans for\n",
    "companionship and their ability to hunt rodents. About 60 cat breeds are\n",
    "recognized by various cat registries.[6]\n",
    "\n",
    "The cat is similar in anatomy to the other felid species: it has a strong\n",
    "flexible body, quick reflexes, sharp teeth and retractable claws adapted to\n",
    "killing small prey. Its night vision and sense of smell are well developed.\n",
    "Cat communication includes vocalizations like meowing, purring, trilling, hissing,\n",
    "growling and grunting as well as cat-specific body language. A predator that is\n",
    "most active at dawn and dusk, the cat is a solitary hunter but a social species.\n",
    "It can hear sounds too faint or too high in frequency for human ears, such as\n",
    "those made by mice and other small mammals.[7] It secretes and perceives pheromones.[8]\n",
    "\n",
    "Female domestic cats can have kittens from spring to late autumn, with litter\n",
    "sizes often ranging from two to five kittens.[9] Domestic cats are bred and\n",
    "shown at events as registered pedigreed cats, a hobby known as cat fancy.\n",
    "Failure to control breeding of pet cats by spaying and neutering, as well as\n",
    "abandonment of pets, resulted in large numbers of feral cats worldwide,\n",
    "contributing to the extinction of entire bird, mammal, and reptile species,\n",
    "and evoking population control.[10]\n",
    "\n",
    "Cats were first domesticated in the Near East around 7500 BC.[11]\n",
    "It was long thought that cat domestication was initiated in ancient\n",
    "Egypt, as since around 3100 BC veneration was given to cats in ancient Egypt.[12][13]\n",
    "As of 2021 there are an estimated 220 million owned and 480 million stray\n",
    "cats in the world.[14][15] As of 2017, the domestic cat was the second-most\n",
    "popular pet in the United States, with 95 million cats owned.[16][17][18]\n",
    "In the United Kingdom, around 7.3 million cats lived in more than 4.8 million\n",
    "households as of 2019.[19] \"\"\""
   ]
  },
  {
   "cell_type": "markdown",
   "metadata": {
    "id": "dP_kl9N-Ziqp"
   },
   "source": [
    "**a.)** You would like to build a vocabulary list with all the words from this text segment. It could look like this: ``['a', 'abandonment', 'ability', 'about'...]``. Try to come up with a **clean** list of words and print it.\n",
    "\n"
   ]
  },
  {
   "cell_type": "code",
   "execution_count": 30,
   "metadata": {
    "id": "Nxg2Ngn7ZiJS"
   },
   "outputs": [
    {
     "name": "stdout",
     "output_type": "stream",
     "text": [
      "['a', 'abandonment', 'ability', 'about', 'active', 'adapted', 'an', 'anatomy', 'ancient', 'and', 'are', 'around', 'as', 'at', 'autumn', 'avoids', 'bc', 'be', 'bird', 'body', 'bred', 'breeding', 'breeds', 'but', 'by', 'can', 'carnivorous', 'cat', 'cats', 'catspecific', 'catus', 'claws', 'communication', 'companionship', 'contact', 'contributing', 'control', 'dawn', 'developed', 'distinguish', 'domestic', 'domesticated', 'domestication', 'dusk', 'ears', 'east', 'egypt', 'either', 'entire', 'estimated', 'events', 'evoking', 'extinction', 'failure', 'faint', 'family', 'fancy', 'farm', 'felid', 'felidae', 'felis', 'female', 'feral', 'first', 'five', 'flexible', 'for', 'freely', 'frequency', 'from', 'given', 'growling', 'grunting', 'has', 'have', 'hear', 'high', 'hissing', 'hobby', 'house', 'households', 'human', 'humans', 'hunt', 'hunter', 'in', 'includes', 'initiated', 'is', 'it', 'its', 'killing', 'kingdom', 'kittens', 'known', 'language', 'large', 'late', 'latter', 'like', 'litter', 'lived', 'long', 'made', 'mammal', 'mammals', 'members', 'meowing', 'mice', 'million', 'more', 'most', 'near', 'neutering', 'night', 'numbers', 'of', 'often', 'only', 'or', 'other', 'owned', 'pedigreed', 'perceives', 'pet', 'pets', 'pheromones', 'popular', 'population', 'predator', 'prey', 'purring', 'quick', 'ranges', 'ranging', 'recognized', 'referred', 'reflexes', 'registered', 'registries', 'reptile', 'resulted', 'retractable', 'rodents', 'secondmost', 'secretes', 'sense', 'sharp', 'shown', 'similar', 'since', 'sizes', 'small', 'smell', 'social', 'solitary', 'sounds', 'spaying', 'species', 'spring', 'states', 'stray', 'strong', 'such', 't', 'teeth', 'than', 'that', 'the', 'their', 'there', 'those', 'thought', 'to', 'too', 'trilling', 'two', 'united', 'valued', 'various', 'veneration', 'vision', 'vocalizations', 'was', 'well', 'were', 'wild', 'with', 'world', 'worldwide']\n"
     ]
    }
   ],
   "source": [
    "# Solution:\n",
    "import re\n",
    "\n",
    "my_str_cleaned = my_str.replace(\"\\n\", \" \").lower() # substitute new line for space and make lowercase\n",
    "\n",
    "wordlist = filter(lambda word: word != \"\", re.sub(\"[^a-z| ]\", \"\", my_str_cleaned).split(\" \")) # substitute everything except letters for nothing and split by the space to get the list of words.\n",
    "\n",
    "vocabulary = sorted(list(set(wordlist)))\n",
    "\n",
    "print(vocabulary)\n",
    "\n",
    "\n"
   ]
  },
  {
   "cell_type": "markdown",
   "metadata": {
    "id": "3ZOSorq8hRtU"
   },
   "source": [
    "**b.)** Can you write a function that takes a string as an argument and returns the vocabulary list for that string?"
   ]
  },
  {
   "cell_type": "code",
   "execution_count": 23,
   "metadata": {
    "id": "nddqNkBCjDkE"
   },
   "outputs": [
    {
     "name": "stdout",
     "output_type": "stream",
     "text": [
      "['a', 'abandonment', 'ability', 'about', 'active', 'adapted', 'an', 'anatomy', 'ancient', 'and', 'are', 'around', 'as', 'at', 'autumn', 'avoids', 'bc', 'be', 'bird', 'body', 'bred', 'breeding', 'breeds', 'but', 'by', 'can', 'carnivorous', 'cat', 'cats', 'catspecific', 'catus', 'claws', 'communication', 'companionship', 'contact', 'contributing', 'control', 'dawn', 'developed', 'distinguish', 'domestic', 'domesticated', 'domestication', 'dusk', 'ears', 'east', 'egypt', 'either', 'entire', 'estimated', 'events', 'evoking', 'extinction', 'failure', 'faint', 'family', 'fancy', 'farm', 'felid', 'felidae', 'felis', 'female', 'feral', 'first', 'five', 'flexible', 'for', 'freely', 'frequency', 'from', 'given', 'growling', 'grunting', 'has', 'have', 'hear', 'high', 'hissing', 'hobby', 'house', 'households', 'human', 'humans', 'hunt', 'hunter', 'in', 'includes', 'initiated', 'is', 'it', 'its', 'killing', 'kingdom', 'kittens', 'known', 'language', 'large', 'late', 'latter', 'like', 'litter', 'lived', 'long', 'made', 'mammal', 'mammals', 'members', 'meowing', 'mice', 'million', 'more', 'most', 'near', 'neutering', 'night', 'numbers', 'of', 'often', 'only', 'or', 'other', 'owned', 'pedigreed', 'perceives', 'pet', 'pets', 'pheromones', 'popular', 'population', 'predator', 'prey', 'purring', 'quick', 'ranges', 'ranging', 'recognized', 'referred', 'reflexes', 'registered', 'registries', 'reptile', 'resulted', 'retractable', 'rodents', 'secondmost', 'secretes', 'sense', 'sharp', 'shown', 'similar', 'since', 'sizes', 'small', 'smell', 'social', 'solitary', 'sounds', 'spaying', 'species', 'spring', 'states', 'stray', 'strong', 'such', 't', 'teeth', 'than', 'that', 'the', 'their', 'there', 'those', 'thought', 'to', 'too', 'trilling', 'two', 'united', 'valued', 'various', 'veneration', 'vision', 'vocalizations', 'was', 'well', 'were', 'wild', 'with', 'world', 'worldwide']\n"
     ]
    }
   ],
   "source": [
    "# Solution:\n",
    "\n",
    "def create_vocabulary_from_string(string : str):\n",
    "    cleaned = string.replace(\"\\n\", \" \").lower()\n",
    "    wordlist = filter(lambda word: word != \"\", re.sub(\"[^a-z| ]\", \"\", cleaned).split(\" \"))\n",
    "    return sorted(list(set(wordlist)))\n",
    "\n",
    "print(create_vocabulary_from_string(my_str))"
   ]
  },
  {
   "cell_type": "markdown",
   "metadata": {
    "id": "Ssjtc-edpoEz"
   },
   "source": [
    "**c.)** Refine your function allowing the user to specify if all letters should be lowercased (default) or if the vocabulary should be case-sensitive (and, e.g., contain both \"as\" and \"As\")."
   ]
  },
  {
   "cell_type": "code",
   "execution_count": 24,
   "metadata": {
    "id": "Xvi0tDnwprXT"
   },
   "outputs": [
    {
     "name": "stdout",
     "output_type": "stream",
     "text": [
      "['a', 'abandonment', 'ability', 'active', 'adapted', 'ailure', 'an', 'anatomy', 'ancient', 'and', 'are', 'around', 'as', 'ast', 'at', 'ats', 'autumn', 'avoids', 'be', 'bird', 'body', 'bout', 'bred', 'breeding', 'breeds', 'but', 'by', 'can', 'carnivorous', 'cat', 'cats', 'catspecific', 'catus', 'claws', 'communication', 'companionship', 'contact', 'contributing', 'control', 'dawn', 'developed', 'distinguish', 'domestic', 'domesticated', 'domestication', 'dusk', 'ear', 'ears', 'either', 'elidae', 'elis', 'emale', 'entire', 'estimated', 'events', 'evoking', 'extinction', 'faint', 'family', 'fancy', 'farm', 'felid', 'feral', 'first', 'five', 'flexible', 'for', 'freely', 'frequency', 'from', 'given', 'growling', 'grunting', 'gypt', 'has', 'have', 'he', 'hear', 'high', 'hissing', 'hobby', 'house', 'households', 'human', 'humans', 'hunt', 'hunter', 'in', 'includes', 'ingdom', 'initiated', 'is', 'it', 'killing', 'kittens', 'known', 'language', 'large', 'late', 'latter', 'like', 'litter', 'lived', 'long', 'made', 'mammal', 'mammals', 'members', 'meowing', 'mice', 'million', 'more', 'most', 'n', 'neutering', 'night', 'nited', 'numbers', 'of', 'often', 'omestic', 'only', 'or', 'other', 'owned', 'pedigreed', 'perceives', 'pet', 'pets', 'pheromones', 'popular', 'population', 'predator', 'prey', 'purring', 'quick', 'ranges', 'ranging', 'recognized', 'referred', 'reflexes', 'registered', 'registries', 'reptile', 'resulted', 'retractable', 'rodents', 's', 'secondmost', 'secretes', 'sense', 'sharp', 'shown', 'similar', 'since', 'sizes', 'small', 'smell', 'social', 'solitary', 'sounds', 'spaying', 'species', 'spring', 'stray', 'strong', 'such', 't', 'tates', 'teeth', 'than', 'that', 'the', 'their', 'there', 'those', 'thought', 'to', 'too', 'trilling', 'ts', 'two', 'valued', 'various', 'veneration', 'vision', 'vocalizations', 'was', 'well', 'were', 'wild', 'with', 'world', 'worldwide']\n"
     ]
    }
   ],
   "source": [
    "# Solution:\n",
    "def create_vocabulary_from_string(string : str, lowercase : bool = True):\n",
    "    cleaned = string.replace(\"\\n\", \" \")\n",
    "    cleaned = cleaned.lower() if lowercase else cleaned\n",
    "    wordlist = filter(lambda word: word != \"\", re.sub(\"[^a-z| ]\", \"\", cleaned).split(\" \"))\n",
    "    return sorted(list(set(wordlist)))\n",
    "\n",
    "print(create_vocabulary_from_string(my_str, lowercase=False))"
   ]
  },
  {
   "cell_type": "markdown",
   "metadata": {
    "id": "SjRDh8bad2jc"
   },
   "source": [
    "**d.)** Now you would like to build a dictionary that stores the number of ocurrences for each word. It should look something like this: ``{'a': 10, 'abandonment': 1, 'ability': 1, 'about': 1...}``. How often does the word \"cat\" appear?"
   ]
  },
  {
   "cell_type": "code",
   "execution_count": null,
   "metadata": {
    "id": "4wcANLJt-BpJ"
   },
   "outputs": [],
   "source": [
    "# Solution:\n"
   ]
  },
  {
   "cell_type": "code",
   "execution_count": null,
   "metadata": {
    "id": "IbXoABs4TdZj"
   },
   "outputs": [],
   "source": [
    "# Cat appears ...\n",
    "# print(..) <- your solution goes here\n",
    "# ... times"
   ]
  },
  {
   "cell_type": "markdown",
   "metadata": {
    "id": "D1xcqVu8HH--"
   },
   "source": [
    "### Exercise 1.2 - Spelling Bee\n",
    "\n"
   ]
  },
  {
   "cell_type": "markdown",
   "metadata": {
    "id": "hgD1i29URlSG"
   },
   "source": [
    "**Task**\n",
    "\n",
    "* Write a **function** that solves the spelling bee puzzle for a given set of letters: https://www.nytimes.com/puzzles/spelling-bee\n",
    "* For comparability use the following dictionary of english words:"
   ]
  },
  {
   "cell_type": "code",
   "execution_count": null,
   "metadata": {
    "id": "-oWiub7FRoL5"
   },
   "outputs": [],
   "source": [
    "from nltk.corpus import words\n",
    "import nltk\n",
    "nltk.download('words')\n",
    "all_words = words.words()"
   ]
  },
  {
   "cell_type": "markdown",
   "metadata": {
    "id": "gUD3qj-HRqba"
   },
   "source": [
    "* Also, please try your code for the letters **l, a, u, n, c, f** and the center letter **i**. Print the words that were found as well as the length (number of words).\n",
    "* Read the rules carefully, so you can design your program to resemble the original quiz as closely as possible.\n",
    "\n",
    "**Rules (original wording)**\n",
    "\n",
    "* Words must contain at least 4 letters.\n",
    "* Words must include the center letter.\n",
    "* Our word list does not include words that are obscure, hyphenated, or proper nouns.\n",
    "* No cussing either, sorry.\n",
    "* Letters can be used more than once.\n",
    "\n"
   ]
  },
  {
   "cell_type": "code",
   "execution_count": null,
   "metadata": {
    "id": "9gsuDXt5ktKC"
   },
   "outputs": [],
   "source": [
    "# Solution:\n"
   ]
  },
  {
   "cell_type": "markdown",
   "metadata": {
    "id": "J7HmZCb5NhW5"
   },
   "source": [
    "# Part II"
   ]
  },
  {
   "cell_type": "markdown",
   "metadata": {
    "id": "2jEYfGXQzQgf"
   },
   "source": [
    "For this exercise, we will use the following datasets:\n",
    "* ``homicide.csv`` (country level data on homicide and other variables)\n",
    "* ``gender.csv`` (country level data on gender equality and fertility)\n",
    "* ``real-gdp-per-capita-clean.csv`` (country level gdp data from 1950-2017)\n",
    "* `projected-population-by-country.csv` (yearly population estimates by country)\n",
    "\n",
    "You can find them here: https://drive.google.com/drive/u/0/folders/1lhqWhclPiCDPw44t_e5nqPmmWJYfOJB8\n",
    "\n",
    "Copy them to your drive or to a folder on your computer. Import ``pandas``, ``numpy``, ``statsmodels.formula.api``, ``matplotlib.pyplot`` and ``os``, and change your directory to the folder where you placed your data. If you work with Google Drive, mount your drive!"
   ]
  },
  {
   "cell_type": "code",
   "execution_count": null,
   "metadata": {
    "id": "MhMj9FT1NJHj"
   },
   "outputs": [],
   "source": []
  },
  {
   "cell_type": "markdown",
   "metadata": {
    "id": "oDZCFV5Bh_yh"
   },
   "source": [
    "If you do not manage to mount your drive, you can also read the data using `pd.read_csv()` from the following URLs:\n",
    "* `\"http://farys.org/daten/homicide.csv\"`\n",
    "* `\"http://farys.org/daten/gender.csv\"`\n",
    "* `\"http://farys.org/daten/real-gdp-per-capita-clean.csv\"`\n",
    "* `\"http://farys.org/daten/projected-population-by-country.csv\"`"
   ]
  },
  {
   "cell_type": "markdown",
   "metadata": {
    "id": "U2hSLoyOBc1C"
   },
   "source": [
    "## Global fertility rates"
   ]
  },
  {
   "cell_type": "markdown",
   "metadata": {
    "id": "Pv1okpLer3Kj"
   },
   "source": [
    "You are interested in the drivers of between-country differences in fertility rates (i.e. the number of children per woman). Your main hypothesis is that **women's emancipation leads to lower fertility rates** (e.g. because better labor market prospects for women increase their opportunity costs for having children or because emancipation comes with a shift in values that makes women prioritize other things than reproduction).\n",
    "\n",
    "To analyze this relationship, you will have to **import, clean and merge the data** and then make some **analyses and plots**. You will have to figure out on your own how to proceed in each step! If you get stuck, it may me helpful to go through the previous exercises or the tutorials -- the problems you will encounter in this exercise will be very similar to those we have already seen!\n"
   ]
  },
  {
   "cell_type": "markdown",
   "metadata": {
    "id": "t6SQHx2TQMD4"
   },
   "source": [
    "### Exercise 2.1"
   ]
  },
  {
   "cell_type": "markdown",
   "metadata": {
    "id": "cNLMTGg8QRnv"
   },
   "source": [
    "Read in the ``gender`` data and inspect it. Try to identify potential problems you might want to fix and clean the dataset accordingly."
   ]
  },
  {
   "cell_type": "code",
   "execution_count": null,
   "metadata": {
    "id": "WIVpoQlwpUMJ"
   },
   "outputs": [],
   "source": [
    "# Problems and solutions:\n"
   ]
  },
  {
   "cell_type": "markdown",
   "metadata": {
    "id": "C-YrXSyaT2d_"
   },
   "source": [
    "Inspect your final dataframe (e.g. data types, number of missing values in each column etc.):"
   ]
  },
  {
   "cell_type": "code",
   "execution_count": null,
   "metadata": {
    "id": "MxmX8FLxpa1S"
   },
   "outputs": [],
   "source": []
  },
  {
   "cell_type": "markdown",
   "metadata": {
    "id": "KOD5UgZQWLqo"
   },
   "source": [
    "### Exercise 2.2"
   ]
  },
  {
   "cell_type": "markdown",
   "metadata": {
    "id": "JMvAvNFMWQ_v"
   },
   "source": [
    "Unfortunately, you do not have any information on the continent and the GNI in your gender data. You can find this data in the file ``homicide.csv``. Merge your cleaned gender dataframe with the homicide data. Make sure the resulting dataframe is clean and no information from the gender dataframe is lost.\n",
    "\n",
    "Your final dataframe should contain the following information: country name, country code, continent, gni per capita, income group, gender equality index, fertility"
   ]
  },
  {
   "cell_type": "code",
   "execution_count": 6,
   "metadata": {
    "executionInfo": {
     "elapsed": 6,
     "status": "ok",
     "timestamp": 1743511761927,
     "user": {
      "displayName": "Rudolf Farys",
      "userId": "11982806469493281304"
     },
     "user_tz": -120
    },
    "id": "0bXUkY8TpgkP"
   },
   "outputs": [],
   "source": [
    "# Solution:\n"
   ]
  },
  {
   "cell_type": "markdown",
   "metadata": {
    "id": "8Wf09m1oXcw0"
   },
   "source": [
    "### Exercise 2.3"
   ]
  },
  {
   "cell_type": "markdown",
   "metadata": {
    "id": "08nF8Hhmzv3l"
   },
   "source": [
    "If you didn't succeed to merge and clean the data, run the following code to import the cleaned dataset (so you can continue with the following exercises):"
   ]
  },
  {
   "cell_type": "code",
   "execution_count": null,
   "metadata": {
    "id": "Zuxbc_CNzvH8"
   },
   "outputs": [],
   "source": [
    "df = pd.read_csv(\"http://farys.org/daten/country_data_clean.csv\")"
   ]
  },
  {
   "cell_type": "markdown",
   "metadata": {
    "id": "dslpqrD8Xhn8"
   },
   "source": [
    "Now that you have prepared your dataset, you would like to do some analyses. In a first step, you would like to know the median fertility rate by income level. Can you print it out?"
   ]
  },
  {
   "cell_type": "code",
   "execution_count": null,
   "metadata": {
    "id": "IS3ie3JnYPML"
   },
   "outputs": [],
   "source": [
    "# Solution:\n"
   ]
  },
  {
   "cell_type": "markdown",
   "metadata": {
    "id": "iCISvl-XYQ_z"
   },
   "source": [
    "Now try to visualize these figures using an appropriate plot. Make sure your plot is informative and looks nice."
   ]
  },
  {
   "cell_type": "code",
   "execution_count": null,
   "metadata": {
    "id": "FiQAiOPYYhby"
   },
   "outputs": [],
   "source": [
    "# Solution:\n"
   ]
  },
  {
   "cell_type": "markdown",
   "metadata": {
    "id": "30InfRQBYiiy"
   },
   "source": [
    "### Exercise 2.4"
   ]
  },
  {
   "cell_type": "markdown",
   "metadata": {
    "id": "78PQLwc0YnoS"
   },
   "source": [
    "You are interested in the relationship between gender equality and and fertility. Make a plot that allows you to explore this correlation graphically. Is the relationship linear (or should you better take the logarithm of the ``fertility`` variable)?"
   ]
  },
  {
   "cell_type": "code",
   "execution_count": null,
   "metadata": {
    "id": "km3isqkU2U2z"
   },
   "outputs": [],
   "source": [
    "# Solution:\n"
   ]
  },
  {
   "cell_type": "markdown",
   "metadata": {
    "id": "4mLv7moVbVlU"
   },
   "source": [
    "Estimate an appropriate regression model. What can you say about the relation between gender inequality and fertility (add a comment)?"
   ]
  },
  {
   "cell_type": "code",
   "execution_count": null,
   "metadata": {
    "id": "C85TXi_DbVM6"
   },
   "outputs": [],
   "source": [
    "# Solution:\n"
   ]
  },
  {
   "cell_type": "markdown",
   "metadata": {
    "id": "XdBO6CXubGeO"
   },
   "source": [
    "Now, make an informative and appealing plot about the relationship between gender inequality and fertility and export it to your computer."
   ]
  },
  {
   "cell_type": "code",
   "execution_count": null,
   "metadata": {
    "id": "4odNAfQneboP"
   },
   "outputs": [],
   "source": [
    "# Solution:\n"
   ]
  },
  {
   "cell_type": "markdown",
   "metadata": {
    "id": "I5fGuENsxWXa"
   },
   "source": [
    "## Global GDP per capita"
   ]
  },
  {
   "cell_type": "markdown",
   "metadata": {
    "id": "wti53Q0F8lBm"
   },
   "source": [
    "### Exercise 3.1"
   ]
  },
  {
   "cell_type": "markdown",
   "metadata": {
    "id": "cFa6VWlf5Mn0"
   },
   "source": [
    "You would like to know how the per capita income on different continents evolved over time. Using the data from the file ``real-gdp-per-capita-clean.csv`` (and the information on continents from the ``homicide`` data), plot the average of ``gdp_per_capita`` across countries on each continent over time.\n"
   ]
  },
  {
   "cell_type": "code",
   "execution_count": null,
   "metadata": {
    "id": "Mc-Laaj3Av42"
   },
   "outputs": [],
   "source": [
    "# Solution:\n"
   ]
  },
  {
   "cell_type": "markdown",
   "metadata": {
    "id": "vDDVJEHZEWW3"
   },
   "source": [
    "The graph looks a bit funny, doesn't it? What might be the problem(s)?"
   ]
  },
  {
   "cell_type": "code",
   "execution_count": null,
   "metadata": {
    "id": "_jeRZmDpGQD5"
   },
   "outputs": [],
   "source": [
    "# The problems are ...\n"
   ]
  },
  {
   "cell_type": "markdown",
   "metadata": {
    "id": "j5f2yRcYwY3d"
   },
   "source": [
    "### Exercise 3.2"
   ]
  },
  {
   "cell_type": "markdown",
   "metadata": {
    "id": "9Tlpnc34whw_"
   },
   "source": [
    "Try to improve the graph by computing population-weighted averages of `gdp_per_capita` (so that the values represent the income of an average person, not the per capita income of the average country). Population estimates by country and year can be found in file `projected-population-by-country.csv`.\n"
   ]
  },
  {
   "cell_type": "code",
   "execution_count": null,
   "metadata": {
    "id": "RS5D3_uBkgTs"
   },
   "outputs": [],
   "source": [
    "# Solution:\n"
   ]
  }
 ],
 "metadata": {
  "colab": {
   "provenance": [
    {
     "file_id": "1J5sCNUxmBh0t7MH3cVHColt9WFjca3ze",
     "timestamp": 1614455032952
    }
   ]
  },
  "kernelspec": {
   "display_name": "Python 3",
   "name": "python3"
  },
  "language_info": {
   "codemirror_mode": {
    "name": "ipython",
    "version": 3
   },
   "file_extension": ".py",
   "mimetype": "text/x-python",
   "name": "python",
   "nbconvert_exporter": "python",
   "pygments_lexer": "ipython3",
   "version": "3.10.6"
  }
 },
 "nbformat": 4,
 "nbformat_minor": 0
}
