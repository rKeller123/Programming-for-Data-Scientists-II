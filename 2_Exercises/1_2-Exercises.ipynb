{
 "cells": [
  {
   "cell_type": "markdown",
   "metadata": {
    "id": "U3zPuM3zuwFT"
   },
   "source": [
    "*Part 1: Introduction to Python Syntax and Semantics II*\n",
    "### Python Basics: Control flow###\n"
   ]
  },
  {
   "cell_type": "markdown",
   "metadata": {
    "id": "oSmRXMj0maYO"
   },
   "source": [
    "<font color='red'> If you like you can give a quick feedback: Was this excercise rather to easy/difficult/too much/too little?</font>"
   ]
  },
  {
   "cell_type": "code",
   "execution_count": null,
   "metadata": {
    "id": "enZxl4TWmxm0"
   },
   "outputs": [],
   "source": [
    "# You may put your feedback here\n",
    "# This exercise was easier than last week's. I'd rather have a little less exercises but harder. Especially basic exercises are very easy."
   ]
  },
  {
   "cell_type": "markdown",
   "metadata": {
    "id": "ZNfwF4k_nIQ6"
   },
   "source": [
    "#Exercises#"
   ]
  },
  {
   "cell_type": "markdown",
   "metadata": {
    "id": "U2hSLoyOBc1C"
   },
   "source": [
    "## 1. Basic exercises"
   ]
  },
  {
   "cell_type": "markdown",
   "metadata": {
    "id": "LptzcrKbZFbm"
   },
   "source": [
    "### Conditions"
   ]
  },
  {
   "cell_type": "markdown",
   "metadata": {
    "id": "0m_deTVYaSPF"
   },
   "source": [
    "**1.1.**\n",
    "Write a program with a parameter ``my_str`` that prints \"This string contains the letter a\" if ``my_string`` contains an \"a\" and nothing otherwise. Test if your program works by assigning different strings to ``my_string`` and re-running your code."
   ]
  },
  {
   "cell_type": "code",
   "execution_count": 2,
   "metadata": {
    "id": "M_gtjOpga9vF"
   },
   "outputs": [
    {
     "name": "stdout",
     "output_type": "stream",
     "text": [
      "This string contains the letter a\n"
     ]
    }
   ],
   "source": [
    "# Solution:\n",
    "my_str = \"asdf\"\n",
    "\n",
    "if \"a\" in my_str:\n",
    "    print(\"This string contains the letter a\")\n"
   ]
  },
  {
   "cell_type": "markdown",
   "metadata": {
    "id": "MrpuL0LDczAt"
   },
   "source": [
    "Now, improve your program so that it prints \"This string does not contain the letter a\" if the condition is not met."
   ]
  },
  {
   "cell_type": "code",
   "execution_count": 4,
   "metadata": {
    "id": "zaATfGeCdNJk"
   },
   "outputs": [
    {
     "name": "stdout",
     "output_type": "stream",
     "text": [
      "This string does not contain the letter a\n"
     ]
    }
   ],
   "source": [
    "# Solution:\n",
    "my_str = \"\"\n",
    "\n",
    "if \"a\" in my_str:\n",
    "    print(\"This string contains the letter a\")\n",
    "else:\n",
    "    print(\"This string does not contain the letter a\")\n",
    "\n"
   ]
  },
  {
   "cell_type": "markdown",
   "metadata": {
    "id": "M9uYpknnXj-f"
   },
   "source": [
    "**1.2.** Write a \"program\" that prints the square root of a variable ``x`` if this number is positive or 0 and prints \"Not defined!\" otherwise."
   ]
  },
  {
   "cell_type": "code",
   "execution_count": 8,
   "metadata": {
    "id": "_HiGHbPLYner"
   },
   "outputs": [
    {
     "name": "stdout",
     "output_type": "stream",
     "text": [
      "Not defined!\n"
     ]
    }
   ],
   "source": [
    "# Solution:\n",
    "x = -10\n",
    "if x >= 0:\n",
    "    print(pow(x, 0.5))\n",
    "else:\n",
    "    print(\"Not defined!\")\n"
   ]
  },
  {
   "cell_type": "markdown",
   "metadata": {
    "id": "45W8RXLYZtbN"
   },
   "source": [
    "**1.3.** Write a program with parameters ``a`` and ``b`` that prints \"a is greater than b\", \"b is greater than a\" or \"a and b are equal\" depending on the values of the two numbers."
   ]
  },
  {
   "cell_type": "code",
   "execution_count": 10,
   "metadata": {
    "id": "VB1750aMeI6b"
   },
   "outputs": [
    {
     "name": "stdout",
     "output_type": "stream",
     "text": [
      "b is greater than a\n"
     ]
    }
   ],
   "source": [
    "# Solution:\n",
    "a = 2\n",
    "b = 3\n",
    "\n",
    "if a > b:\n",
    "    print(\"a is greater than b\")\n",
    "elif a < b:\n",
    "    print(\"b is greater than a\")\n",
    "else:\n",
    "    print(\"a and b are equal\")\n"
   ]
  },
  {
   "cell_type": "markdown",
   "metadata": {
    "id": "-qoXx_idiB0O"
   },
   "source": [
    "**1.4.** Run the following two code examples and inspect the output. Why is the output different? (That is, try to explain in your own words what the difference is between ``if`` and ``elif``.)"
   ]
  },
  {
   "cell_type": "code",
   "execution_count": 11,
   "metadata": {
    "id": "-tSTpM55sVn0"
   },
   "outputs": [
    {
     "name": "stdout",
     "output_type": "stream",
     "text": [
      "the number is greater than 10\n",
      "the number is greater than 5\n",
      "the number is greater than 0\n"
     ]
    }
   ],
   "source": [
    "my_number = 11\n",
    "\n",
    "if my_number > 10:\n",
    "  print(\"the number is greater than 10\")\n",
    "if my_number > 5:\n",
    "  print(\"the number is greater than 5\")\n",
    "if my_number > 0:\n",
    "  print(\"the number is greater than 0\")"
   ]
  },
  {
   "cell_type": "code",
   "execution_count": null,
   "metadata": {
    "id": "ExNJF-Ov9CG5"
   },
   "outputs": [
    {
     "name": "stdout",
     "output_type": "stream",
     "text": [
      "the number is greater than 10\n",
      "[1, 2, 1, 2]\n"
     ]
    }
   ],
   "source": [
    "if my_number > 10:\n",
    "  print(\"the number is greater than 10\")\n",
    "elif my_number > 5:\n",
    "  print(\"the number is greater than 5\")\n",
    "elif my_number > 0:\n",
    "  print(\"the number is greater than 0\")"
   ]
  },
  {
   "cell_type": "markdown",
   "metadata": {
    "id": "LUO3NUprsjin"
   },
   "source": [
    "### Answer\n",
    "In the first code block we have three if statements. Each if statement is independent from the others, thus all 3 statements are executed.\n",
    "In the second code block we have one if satement with two elif statements. The elif statements belong tho the if statement block and only one of the three statements is executed. None may also be executed if the conditions are not met.\n",
    "\n",
    "```python"
   ]
  },
  {
   "cell_type": "markdown",
   "metadata": {
    "id": "j-J9YsGZZQ6-"
   },
   "source": [
    "### Loops\n",
    "\n",
    "\n"
   ]
  },
  {
   "cell_type": "markdown",
   "metadata": {
    "id": "sU5ZEKOm0ito"
   },
   "source": [
    "**1.5.** Create variable ``L`` and assign it the list ``[4, 3, 4, 2, 1, 0, 5, 8]``. Loop through the list and print out the square of each element."
   ]
  },
  {
   "cell_type": "code",
   "execution_count": 14,
   "metadata": {
    "id": "BK0CoYd_0Wkk"
   },
   "outputs": [
    {
     "name": "stdout",
     "output_type": "stream",
     "text": [
      "16\n",
      "9\n",
      "16\n",
      "4\n",
      "1\n",
      "0\n",
      "25\n",
      "64\n"
     ]
    }
   ],
   "source": [
    "# Solution:\n",
    "L = [4, 3, 4, 2, 1, 0, 5, 8]\n",
    "\n",
    "for i in L:\n",
    "    print(i*i)\n",
    "\n"
   ]
  },
  {
   "cell_type": "markdown",
   "metadata": {
    "id": "kgL-rPLik7V-"
   },
   "source": [
    "Now, print the output of each iteration as a string stating what the square of each element is (i.e. \"The square of 4 is 16.\" etc.)!"
   ]
  },
  {
   "cell_type": "code",
   "execution_count": 15,
   "metadata": {
    "id": "_tqL9_xKk6yp"
   },
   "outputs": [
    {
     "name": "stdout",
     "output_type": "stream",
     "text": [
      "The square of 4 is 16\n",
      "The square of 3 is 9\n",
      "The square of 4 is 16\n",
      "The square of 2 is 4\n",
      "The square of 1 is 1\n",
      "The square of 0 is 0\n",
      "The square of 5 is 25\n",
      "The square of 8 is 64\n"
     ]
    }
   ],
   "source": [
    "# Solution:\n",
    "L = [4, 3, 4, 2, 1, 0, 5, 8]\n",
    "\n",
    "for i in L:\n",
    "    print(f\"The square of {i} is {i**2}\")\n"
   ]
  },
  {
   "cell_type": "markdown",
   "metadata": {
    "id": "X9s0h3X82RXO"
   },
   "source": [
    "Now, write a loop that computes the sum of all  elements in the list.\n"
   ]
  },
  {
   "cell_type": "code",
   "execution_count": null,
   "metadata": {
    "id": "GusooXuj4HsL"
   },
   "outputs": [
    {
     "name": "stdout",
     "output_type": "stream",
     "text": [
      "True\n"
     ]
    }
   ],
   "source": [
    "# Solution:\n",
    "L = [4, 3, 4, 2, 1, 0, 5, 8]\n",
    "\n",
    "s = 0\n",
    "for i in L:\n",
    "    s += i\n",
    "\n",
    "print(s == sum(L))\n"
   ]
  },
  {
   "cell_type": "markdown",
   "metadata": {
    "id": "TizdwJx-548K"
   },
   "source": [
    "**1.6.** Create a variable called ``reversed_dict`` and assign it the following dictionary: ``{'green': 'pear', 'red': 'apple', 'yellow': 'banana'}``. Write a loop that creates a new dictionary called ``correct_dict`` where the keys and the values are interchanged (i.e. ``{'apple': 'red', 'banana': 'yellow', 'pear': 'green'}``"
   ]
  },
  {
   "cell_type": "code",
   "execution_count": 23,
   "metadata": {
    "id": "VMKS4iR8Luku"
   },
   "outputs": [
    {
     "name": "stdout",
     "output_type": "stream",
     "text": [
      "{'pear': 'green', 'apple': 'red', 'banana': 'yellow'}\n"
     ]
    }
   ],
   "source": [
    "# Solution:\n",
    "\n",
    "reversed_dict = {\n",
    "    \"green\" : \"pear\",\n",
    "    \"red\" : \"apple\",\n",
    "    \"yellow\" : \"banana\"\n",
    "}\n",
    "\n",
    "correct_dict = dict()\n",
    "\n",
    "for k in reversed_dict:\n",
    "    correct_dict[reversed_dict[k]] = k\n",
    "\n",
    "print(correct_dict)\n"
   ]
  },
  {
   "cell_type": "markdown",
   "metadata": {
    "id": "REy1EE-N5l_5"
   },
   "source": [
    "**1.7.** Use a ``while`` loop to create the following list: [0, 1, 2, 3, 4, 5, 6, 7, 8, 9, 10, 11, 12, 13, 14, 15, 16, 17, 18, 19, 20]"
   ]
  },
  {
   "cell_type": "code",
   "execution_count": 21,
   "metadata": {
    "id": "NHHPkyDlZQae"
   },
   "outputs": [
    {
     "name": "stdout",
     "output_type": "stream",
     "text": [
      "[0, 1, 2, 3, 4, 5, 6, 7, 8, 9, 10, 11, 12, 13, 14, 15, 16, 17, 18, 19, 20]\n"
     ]
    }
   ],
   "source": [
    "# Solution:\n",
    "\n",
    "L = []\n",
    "\n",
    "i = 0\n",
    "while i <= 20:\n",
    "    L.append(i)\n",
    "    i += 1\n",
    "\n",
    "print(L)\n"
   ]
  },
  {
   "cell_type": "markdown",
   "metadata": {
    "id": "w3zRyPynZkim"
   },
   "source": [
    "### List comprehensions"
   ]
  },
  {
   "cell_type": "markdown",
   "metadata": {
    "id": "XmR2JS3yV5f3"
   },
   "source": [
    "**1.8.** Consider the following loop:"
   ]
  },
  {
   "cell_type": "code",
   "execution_count": null,
   "metadata": {
    "id": "M6cXYPprV-J1"
   },
   "outputs": [],
   "source": [
    "letters = \"abcdefghijklmnopqrstuvwxyz\"\n",
    "\n",
    "letter_list = []\n",
    "for letter in letters:\n",
    "  letter_list.append(letter)\n",
    "\n",
    "print(letter_list)"
   ]
  },
  {
   "cell_type": "markdown",
   "metadata": {
    "id": "eIni0ReHV-4W"
   },
   "source": [
    "Can you rewrite this as a list comprehension?"
   ]
  },
  {
   "cell_type": "code",
   "execution_count": 22,
   "metadata": {
    "id": "neD4qcuhceso"
   },
   "outputs": [
    {
     "name": "stdout",
     "output_type": "stream",
     "text": [
      "['a', 'b', 'c', 'd', 'e', 'f', 'g', 'h', 'i', 'j', 'k', 'l', 'm', 'n', 'o', 'p', 'q', 'r', 's', 't', 'u', 'v', 'w', 'x', 'y', 'z']\n"
     ]
    }
   ],
   "source": [
    "# Solution:\n",
    "letters = \"abcdefghijklmnopqrstuvwxyz\"\n",
    "\n",
    "letter_list = [letter for letter in letters]\n",
    "\n",
    "print(letter_list)\n",
    "\n"
   ]
  },
  {
   "cell_type": "markdown",
   "metadata": {
    "id": "YUy7nsYhc6w_"
   },
   "source": [
    "Create a list (using list comprehension) called ``consonants_list`` from your string of letters. It should include all letters except vowels, that is, it should look like this: ``['b', 'c', 'd', 'f', 'g' ...]``."
   ]
  },
  {
   "cell_type": "code",
   "execution_count": 24,
   "metadata": {
    "id": "QhAv1xk-eILW"
   },
   "outputs": [
    {
     "name": "stdout",
     "output_type": "stream",
     "text": [
      "['b', 'c', 'd', 'f', 'g', 'h', 'j', 'k', 'l', 'm', 'n', 'p', 'q', 'r', 's', 't', 'v', 'w', 'x', 'y', 'z']\n"
     ]
    }
   ],
   "source": [
    "letters = \"abcdefghijklmnopqrstuvwxyz\"\n",
    "vowels = \"aeiou\"\n",
    "\n",
    "# Solution:\n",
    "\n",
    "consonants_list = [letter for letter in letters if letter not in vowels]\n",
    "\n",
    "print(consonants_list)\n",
    "\n",
    "\n"
   ]
  },
  {
   "cell_type": "markdown",
   "metadata": {
    "id": "I5fGuENsxWXa"
   },
   "source": [
    "## 2. Advanced exercises"
   ]
  },
  {
   "cell_type": "markdown",
   "metadata": {
    "id": "wsxIifFrj0Sn"
   },
   "source": [
    "### Loops and conditions\n"
   ]
  },
  {
   "cell_type": "markdown",
   "metadata": {
    "id": "F6yrSLI-vayh"
   },
   "source": [
    "**2.1** Write a loop that finds and prints the largest element of the list ``my_list = [1, 2, 1, 6, 5, 7, 3, 2, 10, 5]``."
   ]
  },
  {
   "cell_type": "code",
   "execution_count": 26,
   "metadata": {
    "id": "Dx2KpF2hvaRy"
   },
   "outputs": [
    {
     "name": "stdout",
     "output_type": "stream",
     "text": [
      "True\n"
     ]
    }
   ],
   "source": [
    "# Solution:\n",
    "my_list = [1, 2, 1, 6, 5, 7, 3, 2, 10, 5]\n",
    "\n",
    "m = my_list[0]\n",
    "for i in my_list:\n",
    "    if m < i:\n",
    "        m = i\n",
    "print(m == max(my_list))\n"
   ]
  },
  {
   "cell_type": "markdown",
   "metadata": {
    "id": "OfzZnMTgE04M"
   },
   "source": [
    "Now extend your loop that it also finds the index of the maximum.\n"
   ]
  },
  {
   "cell_type": "code",
   "execution_count": 28,
   "metadata": {
    "id": "OG3pwok1FTka"
   },
   "outputs": [
    {
     "name": "stdout",
     "output_type": "stream",
     "text": [
      "(8, 10)\n"
     ]
    }
   ],
   "source": [
    "# Solution:\n",
    "\n",
    "my_list = [1, 2, 1, 6, 5, 7, 3, 2, 10, 5]\n",
    "\n",
    "m = (0, my_list[0])\n",
    "for i, v in enumerate(my_list):\n",
    "    if m[1] < v:\n",
    "        m = i, v\n",
    "\n",
    "print(m)\n",
    "\n"
   ]
  },
  {
   "cell_type": "markdown",
   "metadata": {
    "id": "RR5xWsOR8wor"
   },
   "source": [
    "**2.2** A remarkable (but practically rather irrelevant) property is that small integers are predefined objects in Python. Run the following code:"
   ]
  },
  {
   "cell_type": "code",
   "execution_count": 29,
   "metadata": {
    "id": "flj2GDx5lSYu"
   },
   "outputs": [
    {
     "name": "stdout",
     "output_type": "stream",
     "text": [
      "True\n",
      "False\n"
     ]
    }
   ],
   "source": [
    "a = 1\n",
    "b = 1\n",
    "print(a is b)\n",
    "a = 1000\n",
    "b = 1000\n",
    "print(a is b)"
   ]
  },
  {
   "cell_type": "markdown",
   "metadata": {
    "id": "fbcmpVQ5lL6L"
   },
   "source": [
    "In the first case (integer ``1``), ``a`` and ``b`` point to the same object (the predefined object equal to integer ``1``). In the second case (integer ``1000``), ``a`` and ``b`` point to the different objects.\n",
    "\n",
    "Use a for-loop and an if-condition to find out what the largest \"predefined\" integer is.\n",
    "\n",
    "><font color='violet'> Hint: To make a true copy of a number, you can multiply it by 1. If you type ``a = b`` then ``a`` and ``b`` will point to the same object in any case. However, if you type ``a = b*1`` then ``a`` and ``b`` will point to different objects, except for small integers. You can exploit this behavior to find out what the largest \"predefined\" integer is."
   ]
  },
  {
   "cell_type": "code",
   "execution_count": null,
   "metadata": {
    "id": "ynlUpIQ0ieay"
   },
   "outputs": [
    {
     "name": "stdout",
     "output_type": "stream",
     "text": [
      "256\n"
     ]
    }
   ],
   "source": [
    "# Solution: i am going to not use a for-loop since this is an obvious example \n",
    "# where the while loop is more practical. We do not know the limit beforehand.\n",
    "a = 0\n",
    "b = 0\n",
    "while a is b:\n",
    "    a += 1\n",
    "    b += 1\n",
    "print(a-1)\n"
   ]
  },
  {
   "cell_type": "markdown",
   "metadata": {
    "id": "9XAe1cX5nYGh"
   },
   "source": [
    "Do the same for negative integers."
   ]
  },
  {
   "cell_type": "code",
   "execution_count": 32,
   "metadata": {
    "id": "Pp_X_qKnnf2w"
   },
   "outputs": [
    {
     "name": "stdout",
     "output_type": "stream",
     "text": [
      "-5\n"
     ]
    }
   ],
   "source": [
    "# Solution:\n",
    "a = 0\n",
    "b = 0\n",
    "while a is b:\n",
    "    a -= 1\n",
    "    b -= 1\n",
    "print(a+1)\n"
   ]
  },
  {
   "cell_type": "markdown",
   "metadata": {
    "id": "KjbCwd7oo4ZE"
   },
   "source": [
    "The phenomenon is called \"integer caching\" and is done for reasons of efficiency; see, for example, https://wsvincent.com/python-wat-integer-cache/."
   ]
  },
  {
   "cell_type": "markdown",
   "metadata": {
    "id": "T_664PG_0ezF"
   },
   "source": [
    "### Complex comprehensions"
   ]
  },
  {
   "cell_type": "markdown",
   "metadata": {
    "id": "IUvqG--QWied"
   },
   "source": [
    "**2.3** Create a list ``L1`` with the values from 0 to 20 in steps of two ``[0, 2, 4, 6...]`` and a list ``L2`` with values going 100 to 90 in reverse order ``[100, 99, 98 ...]`` using the ``range()`` function. Then, write a list comprehension that adds the elements of the two lists (you sould get ``[100, 101, 102, 103, 104, 105, 106, 107, 108, 109, 110]``)."
   ]
  },
  {
   "cell_type": "code",
   "execution_count": 35,
   "metadata": {
    "id": "ab5onjKfWgyl"
   },
   "outputs": [
    {
     "name": "stdout",
     "output_type": "stream",
     "text": [
      "[100, 101, 102, 103, 104, 105, 106, 107, 108, 109, 110]\n"
     ]
    }
   ],
   "source": [
    "# Solution:\n",
    "L1 = [i for i in range(0, 21, 2)]\n",
    "L2 = [i for i in range(100, 89, -1)]\n",
    "\n",
    "res = [i + j for i, j in zip(L1, L2)]\n",
    "print(res)\n"
   ]
  },
  {
   "cell_type": "markdown",
   "metadata": {
    "id": "lvHs8OxtS_Kj"
   },
   "source": [
    "**2.4** Consider the following list comprehensions. Can you guess what the output will be? Put ``print()`` around each comprehension to see if you guessed correctly and try to understand how it works."
   ]
  },
  {
   "cell_type": "code",
   "execution_count": 39,
   "metadata": {
    "id": "J1FnfXBQ0Y6P"
   },
   "outputs": [
    {
     "name": "stdout",
     "output_type": "stream",
     "text": [
      "[[0, 'tomato', 'red'], [1, 'carrot', 'orange'], [2, 'cucumber', 'green']]\n",
      "['0a', '0b', '0c', '0d', '0e', '1a', '1b', '1c', '1d', '1e', '2a', '2b', '2c', '2d', '2e', '3a', '3b', '3c', '3d', '3e', '4a', '4b', '4c', '4d', '4e']\n",
      "['TOMATO', 'carrot', 'CUCUMBER']\n",
      "{'A': 1, 'B': 4, 'C': 9, 'D': 16, 'E': 25}\n"
     ]
    }
   ],
   "source": [
    "names = [\"tomato\", \"carrot\", \"cucumber\"]\n",
    "colors = [\"red\", \"orange\", \"green\"]\n",
    "\n",
    "# 1\n",
    "# 0, tomato, red\n",
    "# ...\n",
    "print([[index, name, color] for index, (name, color) in enumerate(zip(names, colors))])\n",
    "\n",
    "\n",
    "# 2\n",
    "# 0a - 0e\n",
    "# 1a - 1e\n",
    "# ...\n",
    "\n",
    "print([str(index) + letter for index in range(5) for letter in \"abcde\"])\n",
    "\n",
    "# 3\n",
    "print([name if name==\"carrot\" else name.upper() for name in names])\n",
    "# TOMATO, carrot, CUCUMBER\n",
    "\n",
    "# 4\n",
    "my_dict = {'a': 1, 'b': 2, 'c': 3, 'd': 4, 'e': 5}\n",
    "# {A:1, B:4, C:9, D:16, E:25}\n",
    "print({k.upper():v**2 for k, v in my_dict.items()})"
   ]
  },
  {
   "cell_type": "markdown",
   "metadata": {
    "id": "L9f1AKuHa69n"
   },
   "source": [
    "### Try and except"
   ]
  },
  {
   "cell_type": "markdown",
   "metadata": {
    "id": "dgS5mV_Ei_3_"
   },
   "source": [
    "**2.5.** Consider the following list:"
   ]
  },
  {
   "cell_type": "code",
   "execution_count": 40,
   "metadata": {
    "id": "Zc8FoMEJjkLu"
   },
   "outputs": [],
   "source": [
    "my_list = [9, 3, 4, 5]"
   ]
  },
  {
   "cell_type": "markdown",
   "metadata": {
    "id": "YBlhkuqgjtGs"
   },
   "source": [
    "What happens if you try to access the fith element of the list?"
   ]
  },
  {
   "cell_type": "code",
   "execution_count": 41,
   "metadata": {
    "id": "z59pYXxQkH4L"
   },
   "outputs": [
    {
     "ename": "IndexError",
     "evalue": "list index out of range",
     "output_type": "error",
     "traceback": [
      "\u001b[1;31m---------------------------------------------------------------------------\u001b[0m",
      "\u001b[1;31mIndexError\u001b[0m                                Traceback (most recent call last)",
      "Cell \u001b[1;32mIn[41], line 3\u001b[0m\n\u001b[0;32m      1\u001b[0m \u001b[38;5;66;03m# Solution:\u001b[39;00m\n\u001b[0;32m      2\u001b[0m \u001b[38;5;66;03m# indexoutofbounds exception\u001b[39;00m\n\u001b[1;32m----> 3\u001b[0m \u001b[43mmy_list\u001b[49m\u001b[43m[\u001b[49m\u001b[38;5;241;43m4\u001b[39;49m\u001b[43m]\u001b[49m\n",
      "\u001b[1;31mIndexError\u001b[0m: list index out of range"
     ]
    }
   ],
   "source": [
    "# Solution:\n",
    "# indexoutofbounds exception\n",
    "my_list[4]\n"
   ]
  },
  {
   "cell_type": "markdown",
   "metadata": {
    "id": "eE4jZ4uWkXFb"
   },
   "source": [
    "Write a program that tries to print the fifth list element and, if an error ocurrs because the index does not exist (``IndexError``), prints \"Index out of range!\"."
   ]
  },
  {
   "cell_type": "code",
   "execution_count": 42,
   "metadata": {
    "id": "rr601RzYkWh8"
   },
   "outputs": [
    {
     "name": "stdout",
     "output_type": "stream",
     "text": [
      "Index out of range!\n"
     ]
    }
   ],
   "source": [
    "# Solution:\n",
    "try:\n",
    "    print(my_list[4])\n",
    "except IndexError:\n",
    "    print(\"Index out of range!\")\n",
    "\n"
   ]
  },
  {
   "cell_type": "markdown",
   "metadata": {
    "id": "Kx8Ve2CZmZEH"
   },
   "source": [
    "**2.6.** Write a loop that tries to print the first 10 elements of the ``my_list`` and prints \"index out of range\" whenever an IndexError ocurrs."
   ]
  },
  {
   "cell_type": "code",
   "execution_count": 43,
   "metadata": {
    "id": "Z02vvIF7mYqX"
   },
   "outputs": [
    {
     "name": "stdout",
     "output_type": "stream",
     "text": [
      "9\n",
      "3\n",
      "4\n",
      "5\n",
      "index out of range\n",
      "index out of range\n",
      "index out of range\n",
      "index out of range\n",
      "index out of range\n",
      "index out of range\n"
     ]
    }
   ],
   "source": [
    "# Solution:\n",
    "for i in range(0, 10):\n",
    "    try:\n",
    "        print(my_list[i])\n",
    "    except IndexError:\n",
    "        print(\"index out of range\")\n"
   ]
  }
 ],
 "metadata": {
  "colab": {
   "provenance": [
    {
     "file_id": "1J5sCNUxmBh0t7MH3cVHColt9WFjca3ze",
     "timestamp": 1614455032952
    }
   ]
  },
  "kernelspec": {
   "display_name": "Python 3",
   "name": "python3"
  },
  "language_info": {
   "codemirror_mode": {
    "name": "ipython",
    "version": 3
   },
   "file_extension": ".py",
   "mimetype": "text/x-python",
   "name": "python",
   "nbconvert_exporter": "python",
   "pygments_lexer": "ipython3",
   "version": "3.10.11"
  }
 },
 "nbformat": 4,
 "nbformat_minor": 0
}
